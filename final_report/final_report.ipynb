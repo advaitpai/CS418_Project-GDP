{
 "cells": [
  {
   "cell_type": "markdown",
   "id": "335b6638",
   "metadata": {},
   "source": [
    "# Final Report - Team Outliers\n",
    "\n",
    "# Project Title - Gross Domestic Product and Economic Status of Countries (Gross National Income)\n",
    "\n",
    "## Team Members - \n",
    "1. Advait Pai - apai21@uic.edu\n",
    "2. Divyasha Pahuja - dpahuj2@uic.edu\n",
    "3. Uday Nair - unair2@uic.edu\n",
    "4. Utsav Sharma - usharm4@uic.edu"
   ]
  },
  {
   "cell_type": "markdown",
   "id": "766cf04d",
   "metadata": {},
   "source": [
    "# Introduction"
   ]
  },
  {
   "cell_type": "markdown",
   "id": "21777f47",
   "metadata": {},
   "source": [
    "\n",
    "The main idea that we want to address with our course project is to perform different types of Machine Learning techniques on the Gross Domestic Product (GDP), and how various factors such as share market prices, CPI, Interest Rates, household spending, etc. play into the growth/decline of the GDP of a country. Additionally using these factors, we also wish to study whether countries can be grouped into their respective income groups. This grouping of countries is done on the basis of the Gross National Income (GNI), which is affected by the GDP. Lastly, we then want to perform our own analysis on whether the current grouping of countries according to the GNI is a true representation or is there a modification needed.\n",
    "\n",
    "There are currently four income groups into which countries are divided - High Income, Upper-Middle Income, Lower-Middle Income, and Lower Income.\n",
    "\n",
    "Governments and companies use GDP estimates and income groups and base their business policies (such as budgeting, investments, expenditures). These are also essential indicators to see if a country's economy is shrinking or rising, which help the government in taking national financial decisions.\n",
    "\n",
    "GDP is important because it gives information about the size of the economy and how an economy is performing. The growth rate of real GDP is often used as an indicator of the general health of the economy. In broad terms, an increase in real GDP is interpreted as a sign that the economy is doing well.\n",
    "\n",
    "Since we see many articles in the news on how something happening in the world is affecting the GDPs of countries, we wanted to dig deeper into the effects of various economic factors. "
   ]
  },
  {
   "cell_type": "markdown",
   "id": "f23d92fd",
   "metadata": {},
   "source": [
    "## Research Questions\n",
    "\n",
    "1. Considering we predict the Gross Domestic Product(GDP) of countries by using leading and lagging factors such as inflation, household spending, trade, tax revenue, etc. from Organization for Economic Co-operation and Development(OECD) datasets, what factors are of more importance from these leading and lagging factors?\n",
    "2. Using the historical data of Gross Domestic Product(GDP) of countries, what will be the forecast of the GDP for 5 years for the top 10 countries?  \n",
    "3. Can the economic and social indicators of GDP be used to classify countries as per their income classes (Lower, Lower Middle, Upper Middle and High)?\n",
    "4. What are the optimal number of income groups to divide the countries into, based on the econmic and social indicators of GDP? Does the optimal number correlate with the current World Bank classifications?"
   ]
  },
  {
   "cell_type": "markdown",
   "id": "91801770",
   "metadata": {},
   "source": [
    "## Data"
   ]
  },
  {
   "cell_type": "markdown",
   "id": "9d9d1c61",
   "metadata": {},
   "source": [
    "We are using data from the Organisation for Economic Co-operation and Development (OECD) and World Bank for different countries to carry out our predictions. The csv data is freely available on the website, which we have programmatically fetched these datasets from the website. This is done using a `driver.ipynb` notebook, which downloads the files and places them in a folder called `/data`.\n",
    "These files are downloaded as CSVs from the website, and then are cleaned using the steps shown later in the document.\n",
    "\n",
    "Our data is split across a number of datasets:\n",
    "\n",
    "\n",
    "| Sr.no | Dataset | Description | Rows | Columns |\n",
    "|-------|---------|-------------|------|---------|\n",
    "| 1 | Share Prices | Share price indices are calculated from the prices of common shares of companies traded on national or foreign stock exchanges. | 35098 | 8 |\n",
    "| 2 | Consumer Price Index | Inflation measured by consumer price index (CPI) is defined as the change in the prices of a basket of goods and services that are typically purchased by specific groups of households.| 293811 | 8 |\n",
    "| 3 | Long Term Interest Rates | Long-term interest rates refer to government bonds maturing in ten years. Rates are mainly determined by the price charged by the lender, the risk from the borrower and the fall in the capital value. | 27365 | 8 |\n",
    "| 4 | Labour Force | The labour force, or currently active population, comprises all persons who fulfil the requirements for inclusion among the employed (civilian employment plus the armed forces) or the unemployed. | 33517 | 8 |\n",
    "| 5 | Exports and Imports | Defined as the transactions in goods and services between residents and non-residents. It is measured in million USD at 2015 constant prices. | 15922 | 8 |\n",
    "| 6 | Household Spending | Household spending is the amount of final consumption expenditure made by resident households to meet their everyday needs, such as food, clothing, housing (rent), energy, transport, health costs, leisure.​ | 8862 | 8\n",
    "| 7 | Government Spending | General government spending provides an indication of the size of government across countries. The large variation in this indicator highlights the variety of countries' approaches to delivering public goods and services and providing social protection, not necessarily differences in resources spent.​ | 10290 | 8 | \n",
    "| 8 | Tax Revenue | Tax revenue is defined as the revenues collected from taxes on income and profits, social security contributions, taxes levied on goods and services, payroll taxes, taxes on the ownership and transfer of property, and other tax. | 3549 | 8 |\n",
    "| 9 | Investment GFCF | Gross fixed capital formation (GFCF), also called \"investment\", is defined as the acquisition of produced assets (including purchases of second-hand assets), including the production of such assets by producers for their own use, minus disposals. | 24513 | 8 |\n",
    "| 10 | GDP | Gross domestic product (GDP) is the standard measure of the value added created through the production of goods and services in a country during a certain period. As such, it also measures the income earned from that production, or the total amount spent on final goods and services (less imports). | 5162 | 8 |\n",
    "| 11 | Economic Category | This dataset contains the labels for the economic status of a country, which we will be using to perform classification. | 239 | 37 |\n",
    "| 12 | Net Primary Income from Aborad | Net primary income includes the net labor income and net property and entrepreneurial income components of the SNA. Labor income covers compensation of employees paid to nonresident workers. Property and entrepreneurial income covers investment income from the ownership of foreign financial claims (interest, dividends, rent, etc.) and nonfinancial property income (patents, copyrights, etc.). | 266 | 63 |\n",
    "\n",
    "The datasets `Share Prices`, `Consumer Price Index`, `Long Term Interest Rates`, `Labour Force`, `Exports and Imports`, `Household Spending`, `Government Spending`, `Tax Revenue` and `Investment GFCF` are indicators for `GDP`. The data from these datasets will be used to predict our target value of `GDP`.\n",
    "\n",
    "The datatsets `GDP`,`Net Primary Income from Aborad ` are indicators of the GNI of a country, which helps us classify the the countries into Income Classes (`Economic Category`)."
   ]
  },
  {
   "cell_type": "markdown",
   "id": "99e0d2ae",
   "metadata": {},
   "source": [
    "# Data Cleaning"
   ]
  },
  {
   "cell_type": "markdown",
   "id": "06e266e4",
   "metadata": {},
   "source": [
    "### Step by Step Cleaning\n",
    "\n",
    "Below our the links to the individual notebooks cleaned:\n",
    "\n",
    "1. Advait Pai -\n",
    "<br> &nbsp; a) Inflation_CPI - https://github.com/advaitpai/CS418_Project-GDP/blob/main/cleaning/inflation_cpi_cleaning.ipynb\n",
    "<br> &nbsp; b) Share_Price - https://github.com/advaitpai/CS418_Project-GDP/blob/main/cleaning/share_prices_cleaning.ipynb\n",
    "<br> &nbsp; c) Economic Category (Income Group Labels) - https://github.com/advaitpai/CS418_Project-GDP/blob/main/cleaning/economic_category_cleaning.ipynb\n",
    "\n",
    "2. Divyasha Pahuja - \n",
    "<br> &nbsp; a) Labour Force - https://github.com/advaitpai/CS418_Project-GDP/blob/main/cleaning/Labour_Force_cleaning.ipynb\n",
    "<br> &nbsp; b) Long Term Interest Rate - https://github.com/advaitpai/CS418_Project-GDP/blob/main/cleaning/long_term_ir_cleaning.ipynb\n",
    "<br> &nbsp; c) Net foreign factor income - https://github.com/advaitpai/CS418_Project-GDP/blob/main/cleaning/foreign_income_cleaning.ipynb\n",
    "3. Uday Nair - \n",
    "<br> &nbsp; a) Household Spending - https://github.com/advaitpai/CS418_Project-GDP/blob/main/cleaning/household_spend_cleaning.ipynb\n",
    "<br> &nbsp; b) Trade in Government Spend - https://github.com/advaitpai/CS418_Project-GDP/blob/main/cleaning/trade_in_gs_cleaning.ipynb\n",
    "4. Utsav Sharma\n",
    "<br> &nbsp; a) GDP_Yearly - https://github.com/advaitpai/CS418_Project-GDP/blob/main/cleaning/gdp_yearly_cleaning.ipynb\n",
    "<br> &nbsp; b) Government Spending - https://github.com/advaitpai/CS418_Project-GDP/blob/main/cleaning/government_spend_cleaning.ipynb\n",
    "<br> &nbsp; c) Investment GFCF - https://github.com/advaitpai/CS418_Project-GDP/blob/main/cleaning/investment_gfcf_cleaning.ipynb\n",
    "<br> &nbsp; d) Tax Revenue - https://github.com/advaitpai/CS418_Project-GDP/blob/main/cleaning/tax_revenue_cleaning.ipynb"
   ]
  },
  {
   "cell_type": "markdown",
   "id": "f9279a3c",
   "metadata": {},
   "source": [
    "# Data"
   ]
  },
  {
   "cell_type": "markdown",
   "id": "61ad0488",
   "metadata": {},
   "source": []
  },
  {
   "cell_type": "markdown",
   "id": "9cb59bff",
   "metadata": {},
   "source": [
    "#### Original Data Sizes"
   ]
  },
  {
   "cell_type": "code",
   "execution_count": 48,
   "id": "4af49fff",
   "metadata": {},
   "outputs": [
    {
     "name": "stdout",
     "output_type": "stream",
     "text": [
      "Original Dataset Shapes:-\n",
      "\n",
      "Share Prices Shape: (35144, 8)\n",
      "Inflation CPI Spend Shape: (294281, 8)\n",
      "Long Term Interest Rates Shape: (27439, 8)\n",
      "Labour Force Shape: (33714, 8)\n",
      "Trade in Government Spend Shape: (16103, 8)\n",
      "Household Spend Shape: (8938, 8)\n",
      "Gov Spend Shape: (10466, 8)\n",
      "Tax Revenue Shape: (3549, 8)\n",
      "Investment GCFC Shape: (24597, 8)\n",
      "GDP Yearly Shape: (5222, 8)\n",
      "Foreign Income Shape: (16492, 3)\n",
      "GNI Yearly Shape: (7630, 3)\n"
     ]
    }
   ],
   "source": [
    "import pandas as pd\n",
    "base_path = '../data/uncleaned/'\n",
    "print('Original Dataset Shapes:-\\n')\n",
    "\n",
    "\n",
    "# 1. Share Prices Data\n",
    "df_sp_uc = pd.read_csv(base_path+'share_prices.csv')\n",
    "print(\"Share Prices Shape:\",df_sp_uc.shape)\n",
    "# 2. Inflation CPI Data\n",
    "df_cpi_uc = pd.read_csv(base_path+'inflation_cpi.csv')\n",
    "print(\"Inflation CPI Spend Shape:\",df_cpi_uc.shape)\n",
    "# 3. Long Term Interest Rates\n",
    "df_lti_uc = pd.read_csv(base_path+'long_term_ir.csv')\n",
    "print(\"Long Term Interest Rates Shape:\",df_lti_uc.shape)\n",
    "# 4. Labour Force Date\n",
    "df_lf_uc = pd.read_csv(base_path+'labour_force.csv')\n",
    "print(\"Labour Force Shape:\",df_lf_uc.shape)\n",
    "# 5. Trade in Government Spend Data\n",
    "df_exp_imp_uc = pd.read_csv(base_path+'trade_in_gs.csv')\n",
    "print(\"Trade in Government Spend Shape:\",df_exp_imp_uc.shape)\n",
    "# 6. Household Spend\n",
    "df_hspend_uc = pd.read_csv(base_path+'household_spend.csv')\n",
    "print(\"Household Spend Shape:\",df_hspend_uc.shape)\n",
    "# 7. Government Spending\n",
    "df_gspend_uc = pd.read_csv(base_path+'government_spend.csv')\n",
    "print(\"Gov Spend Shape:\",df_gspend_uc.shape)\n",
    "# 8. Tax Revenue\n",
    "df_tax_uc = pd.read_csv(base_path+'tax_revenue.csv')\n",
    "print(\"Tax Revenue Shape:\",df_tax_uc.shape)\n",
    "# 9. Investment GCFC\n",
    "df_gfcf_uc = pd.read_csv(base_path+'investment_gfcf.csv')\n",
    "print(\"Investment GCFC Shape:\",df_gfcf_uc.shape)\n",
    "# 10. GDP Yearly Data\n",
    "df_gdp_uc = pd.read_csv(base_path+'gdp_yearly.csv')\n",
    "print(\"GDP Yearly Shape:\",df_gdp_uc.shape)\n",
    "# 11. FDI Data\n",
    "# df_fdi_in_uc = pd.read_csv(base_path+'FDI_inflow.csv')\n",
    "df_fi_uc_shape = (266*62,3)\n",
    "print(\"Foreign Income Shape:\", df_fi_uc_shape)\n",
    "# df_fdi_out_uc = pd.read_csv(base_path+'foreign_income.csv')\n",
    "# 12. GNI Data\n",
    "# df_gni = pd.read_csv(base_path+'economic_category.csv')\n",
    "df_gni_uc_shape = (218*35,3)\n",
    "print(\"GNI Yearly Shape:\", df_gni_uc_shape)"
   ]
  },
  {
   "cell_type": "markdown",
   "id": "fcbf72f4",
   "metadata": {},
   "source": [
    "#### Final Sizes"
   ]
  },
  {
   "cell_type": "code",
   "execution_count": 49,
   "id": "493baaed",
   "metadata": {},
   "outputs": [
    {
     "name": "stdout",
     "output_type": "stream",
     "text": [
      "Final Dataset Shapes:-\n",
      "\n",
      "Share Prices Shape: (2065, 3)\n",
      "Inflation CPI Spend Shape: (2840, 3)\n",
      "Long Term Interest Rates Shape: (1587, 3)\n",
      "Labour Force Shape: (1993, 3)\n",
      "Trade in Government Spend Shape: (2641, 3)\n",
      "Household Spend Shape: (1955, 3)\n",
      "Gov Spend Shape: (654, 3)\n",
      "Tax Revenue Shape: (1697, 3)\n",
      "Investment GCFC Shape: (2635, 3)\n",
      "GDP Yearly Shape: (2675, 3)\n",
      "Net Foreign Income Shape: (9063, 3)\n",
      "GNI Yearly Shape: (7161, 3)\n"
     ]
    }
   ],
   "source": [
    "import pandas as pd\n",
    "base_path = '../data/temp/'\n",
    "print('Final Dataset Shapes:-\\n')\n",
    "# 1. Share Prices Data\n",
    "df_sp = pd.read_csv(base_path+'share_prices_cleaned.csv')\n",
    "print(\"Share Prices Shape:\",df_sp.shape)\n",
    "# 2. Inflation CPI Data\n",
    "df_cpi = pd.read_csv(base_path+'inflation_cpi_cleaned.csv')\n",
    "print(\"Inflation CPI Spend Shape:\",df_cpi.shape)\n",
    "# 3. Long Term Interest Rates\n",
    "df_lti = pd.read_csv(base_path+'long_term_ir_cleaned.csv')\n",
    "print(\"Long Term Interest Rates Shape:\",df_lti.shape)\n",
    "# 4. Labour Force Date\n",
    "df_lf = pd.read_csv(base_path+'labour_force_cleaned.csv')\n",
    "print(\"Labour Force Shape:\",df_lf.shape)\n",
    "# 5. Trade in Government Spend Data\n",
    "df_exp_imp = pd.read_csv(base_path+'trade_in_gs_cleaned.csv')\n",
    "print(\"Trade in Government Spend Shape:\",df_exp_imp.shape)\n",
    "# 6. Household Spend\n",
    "df_hspend = pd.read_csv(base_path+'household_spend_cleaned.csv')\n",
    "print(\"Household Spend Shape:\",df_hspend.shape)\n",
    "# 7. Government Spending\n",
    "df_gspend = pd.read_csv(base_path+'government_spend_cleaned.csv')\n",
    "print(\"Gov Spend Shape:\",df_gspend.shape)\n",
    "# 8. Tax Revenue\n",
    "df_tax = pd.read_csv(base_path+'tax_revenue_cleaned.csv')\n",
    "print(\"Tax Revenue Shape:\",df_tax.shape)\n",
    "# 9. Investment GCFC\n",
    "df_gfcf = pd.read_csv(base_path+'investment_gfcf_cleaned.csv')\n",
    "print(\"Investment GCFC Shape:\",df_gfcf.shape)\n",
    "# 10. GDP Yearly Data\n",
    "df_gdp = pd.read_csv(base_path+'gdp_yearly_cleaned.csv')\n",
    "print(\"GDP Yearly Shape:\",df_gdp.shape)\n",
    "# 11. FDI Data\n",
    "df_fi = pd.read_csv(base_path+'foreign_income_cleaned.csv')\n",
    "print(\"Net Foreign Income Shape:\",df_fi.shape)\n",
    "# 12. GNI Data\n",
    "df_gni = pd.read_csv(base_path+'economic_category_cleaned.csv')\n",
    "print(\"GNI Yearly Shape:\",df_gni.shape)"
   ]
  },
  {
   "cell_type": "code",
   "execution_count": 50,
   "id": "54c31a99",
   "metadata": {},
   "outputs": [],
   "source": [
    "def DataLoss(uncl, cl):\n",
    "    x = uncl[0] - cl[0]\n",
    "    y = uncl[1] - cl[1]\n",
    "    return (x,y)"
   ]
  },
  {
   "cell_type": "markdown",
   "id": "0f9fc15f",
   "metadata": {},
   "source": [
    "### Data loss for each table"
   ]
  },
  {
   "cell_type": "code",
   "execution_count": 51,
   "id": "f3760669",
   "metadata": {},
   "outputs": [
    {
     "name": "stdout",
     "output_type": "stream",
     "text": [
      "Data loss for each table:-\n",
      "\n",
      "Share Prices Data Loss: (33079, 5)\n",
      "Inflation CPI Spend Data Loss: (291441, 5)\n",
      "Long Term Interest Rates Data Loss: (25852, 5)\n",
      "Labour Force Data Loss: (31721, 5)\n",
      "Trade in Government Spend Data Loss: (13462, 5)\n",
      "Household Spend Data Loss: (6983, 5)\n",
      "Gov Spend Data Loss: (9812, 5)\n",
      "Tax Revenue Data Loss: (1852, 5)\n",
      "Investment GCFC Data Loss: (21962, 5)\n",
      "GDP Yearly Data Loss: (2547, 5)\n",
      "Foreign Income Data Loss: (7429, 0)\n",
      "GNI Yearly Data Loss: (469, 0)\n"
     ]
    }
   ],
   "source": [
    "print(\"Data loss for each table:-\\n\")\n",
    "# 1. Share Prices Data\n",
    "print(\"Share Prices Data Loss:\",DataLoss(df_sp_uc.shape , df_sp.shape))\n",
    "# 2. Inflation CPI Data\n",
    "print(\"Inflation CPI Spend Data Loss:\",DataLoss(df_cpi_uc.shape , df_cpi.shape))\n",
    "# 3. Long Term Interest Rates\n",
    "print(\"Long Term Interest Rates Data Loss:\",DataLoss(df_lti_uc.shape , df_lti.shape))\n",
    "# 4. Labour Force Date\n",
    "print(\"Labour Force Data Loss:\", DataLoss(df_lf_uc.shape , df_lf.shape))\n",
    "# 5. Trade in Government Spend Data\n",
    "print(\"Trade in Government Spend Data Loss:\",DataLoss(df_exp_imp_uc.shape , df_exp_imp.shape))\n",
    "# 6. Household Spend\n",
    "print(\"Household Spend Data Loss:\",DataLoss(df_hspend_uc.shape , df_hspend.shape))\n",
    "# 7. Government Spending\n",
    "print(\"Gov Spend Data Loss:\",DataLoss(df_gspend_uc.shape , df_gspend.shape))\n",
    "# 8. Tax Revenue\n",
    "print(\"Tax Revenue Data Loss:\",DataLoss(df_tax_uc.shape , df_tax.shape))\n",
    "# 9. Investment GCFC\n",
    "print(\"Investment GCFC Data Loss:\",DataLoss(df_gfcf_uc.shape , df_gfcf.shape))\n",
    "# 10. GDP Yearly Data\n",
    "print(\"GDP Yearly Data Loss:\",DataLoss(df_gdp_uc.shape ,  df_gdp.shape))\n",
    "# 11. FDI Data\n",
    "print(\"Foreign Income Data Loss:\", DataLoss(df_fi_uc_shape , df_fi.shape))\n",
    "# 12. GNI Data\n",
    "print(\"GNI Yearly Data Loss:\", DataLoss(df_gni_uc_shape , df_gni.shape))"
   ]
  },
  {
   "cell_type": "markdown",
   "id": "9755f693",
   "metadata": {},
   "source": [
    "### Discussion on Data Loss\n",
    "\n",
    "Most of the data loss that occurs between the raw dataset that we found from the online resources and the cleaned dataset that we created individually is due to us selecting particular parameters for ['MEASURE','SUBJECT','FREQUENCY']. In all of the datasets, we have chosen 'SUBJECT' == 'TOT', 'FREQUENCY' == 'A' and 'MEASURE' depends on the quantative value from each dataset we are trying to extract.\n",
    "\n",
    "For the last two datasets, the data loss occurs due to existence on NaN values."
   ]
  },
  {
   "cell_type": "code",
   "execution_count": 52,
   "id": "5f794064",
   "metadata": {},
   "outputs": [],
   "source": [
    "## Renaming Columns\n",
    "\n",
    "df_sp = df_sp.rename(columns={'Value':'Share_Price'})\n",
    "df_cpi = df_cpi.rename(columns={'Value':'Inflation_CPI'})\n",
    "df_lti = df_lti.rename(columns={'Value':'LT_Interest'})\n",
    "df_lf = df_lf.rename(columns={'Value':'Labor_Force'})\n",
    "df_exp_imp = df_exp_imp.rename(columns={'NTRVAL':'Trade_Goverment'})\n",
    "df_hspend = df_hspend.rename(columns={'Value':'H_Spend'})\n",
    "df_gspend = df_gspend.rename(columns={'Value':'G_Spend'})\n",
    "df_tax = df_tax.rename(columns={'Value':'Tax'})\n",
    "df_gfcf = df_gfcf.rename(columns={'Value':'Investment'})\n",
    "df_gdp = df_gdp.rename(columns={'Value':'GDP'})\n",
    "df_gni = df_gni.rename(columns={'Value':'GNI'})\n",
    "df_fi = df_fi.rename(columns={'Value':'Foreign_Income'})"
   ]
  },
  {
   "cell_type": "markdown",
   "id": "123d2d94",
   "metadata": {},
   "source": [
    "### Dropping table of df_gspend\n",
    "\n",
    "While government spending is an important factor that contributes to the GDP of a country, the data that we have available is only from 2007 onwards for most countries.\n",
    "Because of this, the table has only 654 rows of data, and including this dataset in our project would result in massive data loss, leaving all our models with too little data to be accurate. As we can see below, including the government spending dataset results in a data loss of 3128 rows, and leaves us with just 491 records.\n",
    "Therefore, we have taken a decision to drop this dataset from this project and proceed with the other factors that we have."
   ]
  },
  {
   "cell_type": "code",
   "execution_count": 53,
   "id": "4436b24b",
   "metadata": {},
   "outputs": [
    {
     "name": "stdout",
     "output_type": "stream",
     "text": [
      "Shape of GDP Dataset Before Cleaning: (3619, 12)\n",
      "Shape of GDP Dataset After Cleaning: (491, 10)\n",
      "Data Loss: (3128, 2)\n"
     ]
    }
   ],
   "source": [
    "dfs = [df_lti,df_lf,df_exp_imp,df_hspend,df_tax,df_gspend,df_gfcf,df_gdp]\n",
    "df_temp_gdp = pd.merge(df_sp,df_cpi,how='outer',on=['LOCATION','TIME'])\n",
    "for d in dfs:\n",
    "    df_temp_gdp = pd.merge(df_temp_gdp,d,how='outer',on=['LOCATION','TIME'])\n",
    "df_gdp_temp_before = df_temp_gdp.shape\n",
    "print(\"Shape of GDP Dataset Before Cleaning:\",df_gdp_temp_before)\n",
    "df_temp_gdp = df_temp_gdp.dropna()\n",
    "# df_temp_gdp = df_temp_gdp.drop(columns=['LOCATION','TIME','H_Spend',\"Investment\",\"Trade_Goverment\"])\n",
    "df_temp_gdp = df_temp_gdp.drop(columns=['LOCATION','TIME']).reset_index(drop=True)\n",
    "print(\"Shape of GDP Dataset After Cleaning:\",df_temp_gdp.shape)\n",
    "print(\"Data Loss:\", DataLoss(df_gdp_temp_before, df_temp_gdp.shape))"
   ]
  },
  {
   "cell_type": "markdown",
   "id": "ab2b8010",
   "metadata": {},
   "source": [
    "## Exploratory Data Analysis"
   ]
  },
  {
   "cell_type": "code",
   "execution_count": 54,
   "id": "79747e3f",
   "metadata": {},
   "outputs": [],
   "source": [
    "import matplotlib.pyplot as plt\n",
    "import seaborn as sns"
   ]
  },
  {
   "cell_type": "markdown",
   "id": "d207e82b",
   "metadata": {},
   "source": [
    "### 1. GDP Dataset Regression Model - Uday Nair"
   ]
  },
  {
   "cell_type": "markdown",
   "id": "9566ac75",
   "metadata": {},
   "source": [
    "We now merge the datasets using an outer join on the columns `LOCATION` and `TIME`. Since each row would have year-wise data, and the features would change based on the year, the null values cannot be imputed using a mean along the columns of the dataset. We therefore drop the rows that have null values in them and analyze the data with the remaining rows."
   ]
  },
  {
   "cell_type": "code",
   "execution_count": 55,
   "id": "3c297c08",
   "metadata": {},
   "outputs": [
    {
     "name": "stdout",
     "output_type": "stream",
     "text": [
      "Shape of GDP Dataset Before Cleaning: (3603, 11)\n",
      "Columns of GDP: Index(['LOCATION', 'TIME', 'Share_Price', 'Inflation_CPI', 'LT_Interest',\n",
      "       'Labor_Force', 'Trade_Goverment', 'H_Spend', 'Tax', 'Investment',\n",
      "       'GDP'],\n",
      "      dtype='object')\n"
     ]
    }
   ],
   "source": [
    "dfs = [df_lti,df_lf,df_exp_imp,df_hspend,df_tax,df_gfcf,df_gdp]\n",
    "df_merge_gdp = pd.merge(df_sp,df_cpi,how='outer',on=['LOCATION','TIME'])\n",
    "for d in dfs:\n",
    "    df_merge_gdp = pd.merge(df_merge_gdp,d,how='outer',on=['LOCATION','TIME'])\n",
    "df_gdp_shape_before = df_merge_gdp.shape\n",
    "print(\"Shape of GDP Dataset Before Cleaning:\",df_gdp_shape_before)\n",
    "print('Columns of GDP:',df_merge_gdp.columns)\n"
   ]
  },
  {
   "cell_type": "code",
   "execution_count": 56,
   "id": "7a714953",
   "metadata": {},
   "outputs": [
    {
     "name": "stdout",
     "output_type": "stream",
     "text": [
      "<class 'pandas.core.frame.DataFrame'>\n",
      "Int64Index: 3603 entries, 0 to 3602\n",
      "Data columns (total 11 columns):\n",
      " #   Column           Non-Null Count  Dtype  \n",
      "---  ------           --------------  -----  \n",
      " 0   LOCATION         3603 non-null   object \n",
      " 1   TIME             3603 non-null   int64  \n",
      " 2   Share_Price      2065 non-null   float64\n",
      " 3   Inflation_CPI    2840 non-null   float64\n",
      " 4   LT_Interest      1587 non-null   float64\n",
      " 5   Labor_Force      1993 non-null   float64\n",
      " 6   Trade_Goverment  2641 non-null   float64\n",
      " 7   H_Spend          1955 non-null   float64\n",
      " 8   Tax              1697 non-null   float64\n",
      " 9   Investment       2635 non-null   float64\n",
      " 10  GDP              2675 non-null   float64\n",
      "dtypes: float64(9), int64(1), object(1)\n",
      "memory usage: 337.8+ KB\n"
     ]
    }
   ],
   "source": [
    "## GDP Dataset Information before cleaning\n",
    "df_merge_gdp.info()"
   ]
  },
  {
   "cell_type": "code",
   "execution_count": 57,
   "id": "a6d73c34",
   "metadata": {},
   "outputs": [
    {
     "name": "stdout",
     "output_type": "stream",
     "text": [
      "Shape of the GDP Dataset after cleaning: (1065, 9)\n",
      "Data Loss: (2538, 2)\n"
     ]
    }
   ],
   "source": [
    "df_merge_gdp = df_merge_gdp.dropna()\n",
    "df_merge_gdp = df_merge_gdp.drop(columns=['LOCATION','TIME']).reset_index(drop=True)\n",
    "print('Shape of the GDP Dataset after cleaning:',df_merge_gdp.shape)\n",
    "print(\"Data Loss:\", DataLoss(df_gdp_shape_before, df_merge_gdp.shape))"
   ]
  },
  {
   "cell_type": "markdown",
   "id": "8a95d57a",
   "metadata": {},
   "source": [
    "Here we see that there is a data loss of 2538 entries when we merge the tables, this happens due to NaN values obtained during an outer merge. We have no other alternative but to drop these values as we cannot fill NaN values with mean of the respective columns. Replacing the NaN values with the mean would be incorrect as the data changes based on country and year, thus for any particular country and year the mean of the entire column (factor) is not the representative value. \n",
    "\n",
    "We build a histogram for each of the columns in the dataset to get a better understanding of the data. "
   ]
  },
  {
   "cell_type": "code",
   "execution_count": 58,
   "id": "feb83dc1",
   "metadata": {},
   "outputs": [
    {
     "data": {
      "image/png": "[encoded data removed]",
      "text/plain": [
       "<Figure size 864x864 with 9 Axes>"
      ]
     },
     "metadata": {
      "needs_background": "light"
     },
     "output_type": "display_data"
    }
   ],
   "source": [
    "df_merge_gdp.hist(figsize=(12,12)) \n",
    "plt.show()"
   ]
  },
  {
   "cell_type": "markdown",
   "id": "0d017983",
   "metadata": {},
   "source": [
    "We generate a histogram for each column in the dataset to see the distribution of the data.\n",
    "The y axis represents the number of observations of all countries in the dataset, and the x axis represents the bins for the value of the features.  \n",
    "\n",
    "The histograms above show us the distribution of `GDP` as well as other factors of countries. We observe that the distribution for most factors is skewed to the left which means that the values for most of the countries is concentrated in the lower range. Majority of our observations are in the lower spectrum and fewer countries have high values for any feature.   \n",
    "Two exceptions to this are the histograms for `Trade_Government` and `Inflation`.  \n",
    "* The histogram for `Trade_Government` shows that the distribution is skewed to the right which means that the values for most of the countries is concentrated in the higher range. Majority of our observations are in the higher spectrum and fewer countries have low values for this feature. This is because the trade by countries  is a negative value which means that governments are importing more than exporting.\n",
    "* The histogram for `Inflation` shows that the distribution is skewed to the right which means that the values for most of the countries is concentrated in the higher range. Majority of our observations are in the higher spectrum and fewer countries have low values for this feature. This is because the inflation rate is a positive value which means that the prices of goods and services are increasing.  "
   ]
  },
  {
   "cell_type": "code",
   "execution_count": 59,
   "id": "0efc1434",
   "metadata": {},
   "outputs": [
    {
     "data": {
      "text/html": [
       "<div>\n",
       "<style scoped>\n",
       "    .dataframe tbody tr th:only-of-type {\n",
       "        vertical-align: middle;\n",
       "    }\n",
       "\n",
       "    .dataframe tbody tr th {\n",
       "        vertical-align: top;\n",
       "    }\n",
       "\n",
       "    .dataframe thead th {\n",
       "        text-align: right;\n",
       "    }\n",
       "</style>\n",
       "<table border=\"1\" class=\"dataframe\">\n",
       "  <thead>\n",
       "    <tr style=\"text-align: right;\">\n",
       "      <th></th>\n",
       "      <th>Share_Price</th>\n",
       "      <th>Inflation_CPI</th>\n",
       "      <th>LT_Interest</th>\n",
       "      <th>Labor_Force</th>\n",
       "      <th>Trade_Goverment</th>\n",
       "      <th>H_Spend</th>\n",
       "      <th>Tax</th>\n",
       "      <th>Investment</th>\n",
       "      <th>GDP</th>\n",
       "    </tr>\n",
       "  </thead>\n",
       "  <tbody>\n",
       "    <tr>\n",
       "      <th>count</th>\n",
       "      <td>1065.000000</td>\n",
       "      <td>1065.000000</td>\n",
       "      <td>1065.000000</td>\n",
       "      <td>1065.000000</td>\n",
       "      <td>1065.000000</td>\n",
       "      <td>1.065000e+03</td>\n",
       "      <td>1065.000000</td>\n",
       "      <td>1.065000e+03</td>\n",
       "      <td>1.065000e+03</td>\n",
       "    </tr>\n",
       "    <tr>\n",
       "      <th>mean</th>\n",
       "      <td>78.145746</td>\n",
       "      <td>79.698521</td>\n",
       "      <td>5.430886</td>\n",
       "      <td>17982.273092</td>\n",
       "      <td>-1650.701272</td>\n",
       "      <td>6.674355e+05</td>\n",
       "      <td>356.503445</td>\n",
       "      <td>2.579701e+05</td>\n",
       "      <td>1.164511e+06</td>\n",
       "    </tr>\n",
       "    <tr>\n",
       "      <th>std</th>\n",
       "      <td>64.346393</td>\n",
       "      <td>23.822362</td>\n",
       "      <td>3.689449</td>\n",
       "      <td>29515.416510</td>\n",
       "      <td>95927.985079</td>\n",
       "      <td>1.665916e+06</td>\n",
       "      <td>677.455490</td>\n",
       "      <td>5.368084e+05</td>\n",
       "      <td>2.524961e+06</td>\n",
       "    </tr>\n",
       "    <tr>\n",
       "      <th>min</th>\n",
       "      <td>3.054441</td>\n",
       "      <td>6.700533</td>\n",
       "      <td>-0.523833</td>\n",
       "      <td>145.400000</td>\n",
       "      <td>-988060.724000</td>\n",
       "      <td>3.156788e+03</td>\n",
       "      <td>1.767000</td>\n",
       "      <td>1.118213e+03</td>\n",
       "      <td>6.268439e+03</td>\n",
       "    </tr>\n",
       "    <tr>\n",
       "      <th>25%</th>\n",
       "      <td>33.733540</td>\n",
       "      <td>66.444680</td>\n",
       "      <td>2.754167</td>\n",
       "      <td>2721.400000</td>\n",
       "      <td>-3546.129000</td>\n",
       "      <td>8.004702e+04</td>\n",
       "      <td>50.173000</td>\n",
       "      <td>3.543663e+04</td>\n",
       "      <td>1.647204e+05</td>\n",
       "    </tr>\n",
       "    <tr>\n",
       "      <th>50%</th>\n",
       "      <td>75.870530</td>\n",
       "      <td>84.038980</td>\n",
       "      <td>4.894242</td>\n",
       "      <td>5297.725000</td>\n",
       "      <td>4987.949000</td>\n",
       "      <td>1.741438e+05</td>\n",
       "      <td>115.411000</td>\n",
       "      <td>8.127168e+04</td>\n",
       "      <td>3.442944e+05</td>\n",
       "    </tr>\n",
       "    <tr>\n",
       "      <th>75%</th>\n",
       "      <td>101.283400</td>\n",
       "      <td>99.601300</td>\n",
       "      <td>7.611667</td>\n",
       "      <td>23348.500000</td>\n",
       "      <td>21292.141000</td>\n",
       "      <td>6.127016e+05</td>\n",
       "      <td>354.407000</td>\n",
       "      <td>2.483558e+05</td>\n",
       "      <td>1.143106e+06</td>\n",
       "    </tr>\n",
       "    <tr>\n",
       "      <th>max</th>\n",
       "      <td>657.822300</td>\n",
       "      <td>127.189200</td>\n",
       "      <td>22.497500</td>\n",
       "      <td>163538.700000</td>\n",
       "      <td>255017.100000</td>\n",
       "      <td>1.590258e+07</td>\n",
       "      <td>6112.256000</td>\n",
       "      <td>4.939579e+06</td>\n",
       "      <td>2.331508e+07</td>\n",
       "    </tr>\n",
       "  </tbody>\n",
       "</table>\n",
       "</div>"
      ],
      "text/plain": [
       "       Share_Price  Inflation_CPI  LT_Interest    Labor_Force  \\\n",
       "count  1065.000000    1065.000000  1065.000000    1065.000000   \n",
       "mean     78.145746      79.698521     5.430886   17982.273092   \n",
       "std      64.346393      23.822362     3.689449   29515.416510   \n",
       "min       3.054441       6.700533    -0.523833     145.400000   \n",
       "25%      33.733540      66.444680     2.754167    2721.400000   \n",
       "50%      75.870530      84.038980     4.894242    5297.725000   \n",
       "75%     101.283400      99.601300     7.611667   23348.500000   \n",
       "max     657.822300     127.189200    22.497500  163538.700000   \n",
       "\n",
       "       Trade_Goverment       H_Spend          Tax    Investment           GDP  \n",
       "count      1065.000000  1.065000e+03  1065.000000  1.065000e+03  1.065000e+03  \n",
       "mean      -1650.701272  6.674355e+05   356.503445  2.579701e+05  1.164511e+06  \n",
       "std       95927.985079  1.665916e+06   677.455490  5.368084e+05  2.524961e+06  \n",
       "min     -988060.724000  3.156788e+03     1.767000  1.118213e+03  6.268439e+03  \n",
       "25%       -3546.129000  8.004702e+04    50.173000  3.543663e+04  1.647204e+05  \n",
       "50%        4987.949000  1.741438e+05   115.411000  8.127168e+04  3.442944e+05  \n",
       "75%       21292.141000  6.127016e+05   354.407000  2.483558e+05  1.143106e+06  \n",
       "max      255017.100000  1.590258e+07  6112.256000  4.939579e+06  2.331508e+07  "
      ]
     },
     "execution_count": 59,
     "metadata": {},
     "output_type": "execute_result"
    }
   ],
   "source": [
    "## GDP Dataset Description after cleaning\n",
    "df_merge_gdp.describe()"
   ]
  },
  {
   "cell_type": "code",
   "execution_count": 60,
   "id": "098a23e5",
   "metadata": {},
   "outputs": [
    {
     "name": "stdout",
     "output_type": "stream",
     "text": [
      "<class 'pandas.core.frame.DataFrame'>\n",
      "RangeIndex: 1065 entries, 0 to 1064\n",
      "Data columns (total 9 columns):\n",
      " #   Column           Non-Null Count  Dtype  \n",
      "---  ------           --------------  -----  \n",
      " 0   Share_Price      1065 non-null   float64\n",
      " 1   Inflation_CPI    1065 non-null   float64\n",
      " 2   LT_Interest      1065 non-null   float64\n",
      " 3   Labor_Force      1065 non-null   float64\n",
      " 4   Trade_Goverment  1065 non-null   float64\n",
      " 5   H_Spend          1065 non-null   float64\n",
      " 6   Tax              1065 non-null   float64\n",
      " 7   Investment       1065 non-null   float64\n",
      " 8   GDP              1065 non-null   float64\n",
      "dtypes: float64(9)\n",
      "memory usage: 75.0 KB\n"
     ]
    }
   ],
   "source": [
    "## GDP Dataset Information after cleaning\n",
    "df_merge_gdp.info()"
   ]
  },
  {
   "cell_type": "markdown",
   "id": "6690c550",
   "metadata": {},
   "source": [
    "On dropping the null values, we are left with 1065 rows of data. We then visualize this data using a heatmap to see the correlation between the features and the target variable. "
   ]
  },
  {
   "cell_type": "markdown",
   "id": "e0fbdfc0",
   "metadata": {},
   "source": [
    "We visualize the data within the cleaned and merged dataset for GDP by using a correlation matrix for the same.\n",
    "The correlation matrix displays the correlation coefficients between every pair of variables in our dataset and tells us the direction of the linear relation between the 2 variables. We then use a heatmap to visualize the correlation matrix with color coding. The darker the color, the higher the correlation coefficient between the 2 variables. The lighter the color, the lower the correlation coefficient between the 2 variables."
   ]
  },
  {
   "cell_type": "code",
   "execution_count": 61,
   "id": "d106ccea",
   "metadata": {},
   "outputs": [
    {
     "data": {
      "text/plain": [
       "<AxesSubplot:>"
      ]
     },
     "execution_count": 61,
     "metadata": {},
     "output_type": "execute_result"
    },
    {
     "data": {
      "image/png": "[encoded data removed]",
      "text/plain": [
       "<Figure size 864x864 with 2 Axes>"
      ]
     },
     "metadata": {
      "needs_background": "light"
     },
     "output_type": "display_data"
    }
   ],
   "source": [
    "# Correlation Matrix Visualization \n",
    "plt.figure(figsize=(12,12))\n",
    "#plot heat map\n",
    "sns.heatmap(df_merge_gdp.corr(), annot=True, cmap=sns.diverging_palette(20, 220, n=200))"
   ]
  },
  {
   "cell_type": "markdown",
   "id": "206849e7",
   "metadata": {},
   "source": [
    "For our dataset we observe that the GDP of a country is highly correlated with the following factors:\n",
    "1. Household Spending\n",
    "2. Tax Revenue\n",
    "3. Investment GFCF\n",
    "4. Labour Force\n",
    "\n",
    "We also observe that the GDP of a country is highly negatively correlated with the Net Trade by the Government. \n",
    "All other factors have a correlation coefficient of lesser significance +0.5/-0.5 with the GDP of countries.\n",
    "\n"
   ]
  },
  {
   "cell_type": "markdown",
   "id": "2cf7c221",
   "metadata": {},
   "source": [
    "### 2. Time Series Analysis of GDP Data - Utsav Sharma"
   ]
  },
  {
   "cell_type": "code",
   "execution_count": 62,
   "id": "fae32632",
   "metadata": {},
   "outputs": [
    {
     "name": "stdout",
     "output_type": "stream",
     "text": [
      "(522, 3)\n"
     ]
    },
    {
     "data": {
      "image/png": "[encoded data removed]",
      "text/plain": [
       "<Figure size 432x288 with 1 Axes>"
      ]
     },
     "metadata": {
      "needs_background": "light"
     },
     "output_type": "display_data"
    }
   ],
   "source": [
    "df_gdp['LOCATION']= df_gdp['LOCATION'].astype('string')\n",
    "top10 = df_gdp[df_gdp['TIME']==2021].sort_values(by='GDP', ascending=False)\n",
    "top10 = top10[top10['LOCATION'].apply(lambda x: len(x) < 4)].reset_index(drop=True)\n",
    "top10 = top10[:10]\n",
    "df = df_gdp[df_gdp['LOCATION'].isin(top10['LOCATION'])].reset_index(drop=True)\n",
    "sns.lineplot(x='TIME', y='GDP', hue='LOCATION', data=df)\n",
    "plt.ticklabel_format(style='plain', axis='y')\n",
    "print(df.shape)"
   ]
  },
  {
   "cell_type": "markdown",
   "id": "4a231764",
   "metadata": {},
   "source": [
    "For the above EDA, we take the top 10 countries by GDP for 2021 from the `df_gdp` dataframe.\n",
    "While we do have data from 2022 for a few countries, a lot of the other countries do not seem to have reported their GDP for 2022 to the OECD yet, which is why their data is not available for that year. Also, the dataset does not contain data for a few countries such as India and Brazil, which we know have high GDP, but have not reported their data to the OECD. Therefore, we are only working with the data that we have available.\n",
    "To do this, we first ensure that our `LOCATION` column is a string, and then take the rows where the `TIME` column is 2021. We sort these values in descending order of `GDP` and then take only those columns where the `LOCATION` column has 3 characters. This is because the dataset also contains GDP information for groups of countries which we do not need.\n",
    "\n",
    "We then take the top 10 results from this filtered dataset, and keep only those values in `df_gdp` whose `LOCATION` also exists in the `top10` dataframe.\n",
    "Finally, we create a plot of these top 10 countried to analyse the resulting plot that we get.\n",
    "\n",
    "From the chart, we can see that all the GDPs of the countries have an upward trend with respect to the years, with USA and China having the astronomical growth that we see. We can also see the effects of world event such as the recession of 2008 which causes a dip in the GDP of almost all countries except China, and the COVID-19 Pandemic of 2019 which also manifests as the drop in GDP that we see in that year.\n",
    "\n",
    "We can also see that on the low end, almost all countries have data available from 1970 onwards with the exception of Great Britain, which has data available from 1960. On the higher end of the years, a lot of the countries have data available till 2021, with only a few countries reporting data till 2022.\n",
    "Keeping the top 10 contries gives us 522 rows of data, which we can use along with other factors that we will include in our ARIMA model for answering hypothesis 2."
   ]
  },
  {
   "cell_type": "markdown",
   "id": "73d480d8",
   "metadata": {},
   "source": [
    "### 3. Gross Nation Income Label EDA - Advait Pai"
   ]
  },
  {
   "cell_type": "markdown",
   "id": "a4f075fd",
   "metadata": {},
   "source": [
    "#### Bar Plot for country-wise distribution"
   ]
  },
  {
   "cell_type": "markdown",
   "id": "7e00f6f2",
   "metadata": {},
   "source": [
    "The initial EDA for the labels can be found in the economic_category_cleaning.ipynb"
   ]
  },
  {
   "cell_type": "markdown",
   "id": "27177c6a",
   "metadata": {},
   "source": [
    "We now want to analyse the distribution of countries in their resepctive income groups over the years. We plot a histogram with a interval of 5 years to see how the data is modified. Now we will plot the yearwise count for ['H','UM','LM','L'] to further analyse the country."
   ]
  },
  {
   "cell_type": "code",
   "execution_count": 63,
   "id": "c16a05f8",
   "metadata": {},
   "outputs": [
    {
     "data": {
      "image/png": "[encoded data removed]",
      "text/plain": [
       "<Figure size 864x360 with 1 Axes>"
      ]
     },
     "metadata": {
      "needs_background": "light"
     },
     "output_type": "display_data"
    }
   ],
   "source": [
    "import numpy as np\n",
    "df_cat_counts = df_gni['TIME'].groupby([df_gni['TIME'],df_gni['GNI']]).agg('count')\n",
    "df_cat_counts = df_cat_counts.unstack(level=-1)\n",
    "df_cat_counts = df_cat_counts.reset_index()\n",
    "## Normalising the data on the sum\n",
    "df_cat_counts[['H','L','LM','UM']] = df_cat_counts[['H','L','LM','UM']].div(df_cat_counts[['H','L','LM','UM']].sum(axis=1), axis=0)\n",
    "min_y = min(df_cat_counts['TIME'].unique())\n",
    "max_y = max(df_cat_counts['TIME'].unique())\n",
    "df_plot = df_cat_counts.loc[df_cat_counts['TIME'].isin([x for x in range(max_y,min_y,-5)])]\n",
    "df_plot.plot(x=\"TIME\", y=[\"H\", \"L\",\"LM\",\"UM\"], kind=\"bar\",figsize=(12,5))\n",
    "\n",
    "plt.legend(loc='upper left')\n",
    "plt.xlabel('Year')\n",
    "plt.ylabel('Count')\n",
    "plt.show()"
   ]
  },
  {
   "cell_type": "markdown",
   "id": "eaf12511",
   "metadata": {},
   "source": [
    "#### Trend Analysis\n",
    "\n",
    "We do the trend analysis after normalising the data with the number of countries for which we have the data instead of using absolute values to plot the bar chart.\n",
    "\n",
    "1. High Income Group (H): From 1991 - 2021, we observe that the number of countries in the High Income group are continously increasing implying that the generally most countries are economically progressing.\n",
    "2. Upper - Middle Income Group (UM): From 1991 - 2016 we observe that trend is generally increasing, except in 2021 we see that some of the countries leave the UM group, but since the H group is increasing it means these most countries have moved from UM to H.\n",
    "3. Lower - Middle Income Group (LM): From 1991 - 2016, we observe a declining trend in the LM group, which correlates to the increase in the UM group as well. In 2021 we see that LM countries .\n",
    "4. Lower Income group (L): From 1991-2001, we observe a slight increase in the proportion in the number of low countries. This is not due to countries losing their GNI values, but because more countries begin to report their data between 1991-2001, this can be viewed in the economic_category_cleaning.ipynb notebook as well. Post 2001 we see a steady decline in the number of (L) countries which correlates to the increase in the the other categories "
   ]
  },
  {
   "cell_type": "code",
   "execution_count": 64,
   "id": "b10d975a",
   "metadata": {},
   "outputs": [
    {
     "name": "stdout",
     "output_type": "stream",
     "text": [
      "Shape of GNI Dataset Before Cleaning: (8829, 11)\n",
      "Shape of GNI Dataset: (943, 9)\n",
      "Data Loss: (7886, 2)\n"
     ]
    }
   ],
   "source": [
    "dfs = [df_lti,df_lf,df_exp_imp,df_hspend,df_tax,df_gfcf,df_gni]\n",
    "df_merge_gni_1 = pd.merge(df_sp,df_cpi,how='outer',on=['LOCATION','TIME'])\n",
    "for d in dfs:\n",
    "    df_merge_gni_1 = pd.merge(df_merge_gni_1,d,how='outer',on=['LOCATION','TIME'])\n",
    "df_gni_1_shape_before = df_merge_gni_1.shape\n",
    "print(\"Shape of GNI Dataset Before Cleaning:\",df_gni_1_shape_before)\n",
    "df_merge_gni_1 = df_merge_gni_1.dropna()\n",
    "# df_merge_gni_1 = df_merge_gni_1.drop(columns=['LOCATION','TIME','H_Spend',\"Investment\",\"Trade_Goverment\"])\n",
    "df_merge_gni_1 = df_merge_gni_1.drop(columns=['LOCATION','TIME']).reset_index(drop=True)\n",
    "print(\"Shape of GNI Dataset:\",df_merge_gni_1.shape)\n",
    "print(\"Data Loss:\", DataLoss(df_gni_1_shape_before, df_merge_gni_1.shape))\n",
    "# df_merge_gni_1.head()"
   ]
  },
  {
   "cell_type": "markdown",
   "id": "bf459239",
   "metadata": {},
   "source": [
    "#### Categorical Data Description"
   ]
  },
  {
   "cell_type": "code",
   "execution_count": 65,
   "id": "0ff8a2f2",
   "metadata": {},
   "outputs": [
    {
     "data": {
      "text/plain": [
       "H     881\n",
       "UM     61\n",
       "LM      1\n",
       "Name: GNI, dtype: int64"
      ]
     },
     "execution_count": 65,
     "metadata": {},
     "output_type": "execute_result"
    }
   ],
   "source": [
    "# Categorical Data Description\n",
    "df_merge_gni_1['GNI'].value_counts()"
   ]
  },
  {
   "cell_type": "markdown",
   "id": "e43e7fd3",
   "metadata": {},
   "source": [
    "The initial dataset of GNI consists of an 'L' label which is completely missing in the final dataset after merge and data is completely skewed. In the next section, we propose an alternative dataset consisting of only GDP's yearly values and Foreign Income as a dataset for Hypothesis 3 & Hypothesis 4"
   ]
  },
  {
   "cell_type": "markdown",
   "id": "f50d7f18",
   "metadata": {},
   "source": [
    "### 4. Optimal k for Clustering EDA - Divyasha Pahuja"
   ]
  },
  {
   "cell_type": "markdown",
   "id": "f1192547",
   "metadata": {},
   "source": [
    "#### Creating an alternative dataset"
   ]
  },
  {
   "cell_type": "markdown",
   "id": "3b1ac5c7",
   "metadata": {},
   "source": [
    "This dataset is used creating only two features i.e. Foreign Income and GDP, instead of GDP's factors, and the label containing column is GNI. For Hypothesis 3, i.e. classification, this label column will be used for training and testing, while for Hypothesis 4, this column will be dropped for training. In Hypothesis 4, we use the label column to evaluate our clustering model."
   ]
  },
  {
   "cell_type": "code",
   "execution_count": 66,
   "id": "cef241e0",
   "metadata": {},
   "outputs": [
    {
     "name": "stdout",
     "output_type": "stream",
     "text": [
      "Shape of GNI Dataset Before Cleaning: (10288, 5)\n",
      "Shape of GNI Dataset: (1740, 3)\n",
      "Data Loss: (8548, 2)\n"
     ]
    },
    {
     "data": {
      "text/html": [
       "<div>\n",
       "<style scoped>\n",
       "    .dataframe tbody tr th:only-of-type {\n",
       "        vertical-align: middle;\n",
       "    }\n",
       "\n",
       "    .dataframe tbody tr th {\n",
       "        vertical-align: top;\n",
       "    }\n",
       "\n",
       "    .dataframe thead th {\n",
       "        text-align: right;\n",
       "    }\n",
       "</style>\n",
       "<table border=\"1\" class=\"dataframe\">\n",
       "  <thead>\n",
       "    <tr style=\"text-align: right;\">\n",
       "      <th></th>\n",
       "      <th>Foreign_Income</th>\n",
       "      <th>GDP</th>\n",
       "      <th>GNI</th>\n",
       "    </tr>\n",
       "  </thead>\n",
       "  <tbody>\n",
       "    <tr>\n",
       "      <th>0</th>\n",
       "      <td>-3.437004e+09</td>\n",
       "      <td>261085.322</td>\n",
       "      <td>H</td>\n",
       "    </tr>\n",
       "    <tr>\n",
       "      <th>1</th>\n",
       "      <td>-2.889965e+08</td>\n",
       "      <td>119629.722</td>\n",
       "      <td>H</td>\n",
       "    </tr>\n",
       "    <tr>\n",
       "      <th>2</th>\n",
       "      <td>8.760346e+08</td>\n",
       "      <td>149338.723</td>\n",
       "      <td>H</td>\n",
       "    </tr>\n",
       "    <tr>\n",
       "      <th>3</th>\n",
       "      <td>-1.335219e+10</td>\n",
       "      <td>469040.522</td>\n",
       "      <td>H</td>\n",
       "    </tr>\n",
       "    <tr>\n",
       "      <th>4</th>\n",
       "      <td>-1.751967e+09</td>\n",
       "      <td>45241.807</td>\n",
       "      <td>LM</td>\n",
       "    </tr>\n",
       "  </tbody>\n",
       "</table>\n",
       "</div>"
      ],
      "text/plain": [
       "   Foreign_Income         GDP GNI\n",
       "0   -3.437004e+09  261085.322   H\n",
       "1   -2.889965e+08  119629.722   H\n",
       "2    8.760346e+08  149338.723   H\n",
       "3   -1.335219e+10  469040.522   H\n",
       "4   -1.751967e+09   45241.807  LM"
      ]
     },
     "execution_count": 66,
     "metadata": {},
     "output_type": "execute_result"
    }
   ],
   "source": [
    "dfs = [df_fi,df_gdp,df_gni]\n",
    "# # df_merge_gni_2 = pd.merge(df_sp,df_cpi,how='outer',on=['LOCATION','TIME'])\n",
    "# for d in dfs:\n",
    "#     df_merge_gni_2 = pd.merge(df_merge_gni_2,d,how='outer',on=['LOCATION','TIME'])\n",
    "df_merge_gni_2 = pd.merge(df_fi,df_gdp,how='outer',on=['LOCATION','TIME'])\n",
    "df_merge_gni_2 = pd.merge(df_merge_gni_2,df_gni,how='outer',on=['LOCATION','TIME'])\n",
    "df_gni_2_shape_before = df_merge_gni_2.shape\n",
    "print(\"Shape of GNI Dataset Before Cleaning:\",df_gni_2_shape_before)\n",
    "df_merge_gni_2 = df_merge_gni_2.dropna()\n",
    "# df_merge_gni_2 = df_merge_gni_2.drop(columns=['LOCATION','TIME','H_Spend',\"Investment\",\"Trade_Goverment\"])\n",
    "df_merge_gni_2 = df_merge_gni_2.drop(columns=['LOCATION','TIME']).reset_index(drop=True)\n",
    "print(\"Shape of GNI Dataset:\",df_merge_gni_2.shape)\n",
    "print(\"Data Loss:\", DataLoss(df_gni_2_shape_before, df_merge_gni_2.shape))\n",
    "df_merge_gni_2.head()"
   ]
  },
  {
   "cell_type": "markdown",
   "id": "f53e07a4",
   "metadata": {},
   "source": [
    "We will now see how many different labels (or clusters) can be seen on the new dataset of GNI"
   ]
  },
  {
   "cell_type": "code",
   "execution_count": 67,
   "id": "71e11ad8",
   "metadata": {},
   "outputs": [
    {
     "data": {
      "image/png": "[encoded data removed]",
      "text/plain": [
       "<Figure size 412x360 with 6 Axes>"
      ]
     },
     "metadata": {
      "needs_background": "light"
     },
     "output_type": "display_data"
    }
   ],
   "source": [
    "sns.pairplot(df_merge_gni_2, hue='GNI')\n",
    "plt.show()"
   ]
  },
  {
   "cell_type": "markdown",
   "id": "f92ad111",
   "metadata": {},
   "source": [
    "We can see 3 distinct labels - H, UM and L within the data. \n",
    "The density graph of the variables very less area for green i.e. the L class."
   ]
  },
  {
   "cell_type": "markdown",
   "id": "c338612a",
   "metadata": {},
   "source": [
    "We will check how many records of each label is returned (using the GNI labels column appended), to verify this."
   ]
  },
  {
   "cell_type": "code",
   "execution_count": 68,
   "id": "4d23cebe",
   "metadata": {},
   "outputs": [
    {
     "data": {
      "text/plain": [
       "H     1054\n",
       "UM     390\n",
       "LM     222\n",
       "L       74\n",
       "Name: GNI, dtype: int64"
      ]
     },
     "execution_count": 68,
     "metadata": {},
     "output_type": "execute_result"
    }
   ],
   "source": [
    "# Categorical Data Description\n",
    "df_merge_gni_2['GNI'].value_counts()"
   ]
  },
  {
   "cell_type": "markdown",
   "id": "188cb769",
   "metadata": {},
   "source": [
    "# ML/Stats"
   ]
  },
  {
   "cell_type": "markdown",
   "id": "174156d2",
   "metadata": {},
   "source": [
    "## Hypothesis 1: "
   ]
  },
  {
   "attachments": {},
   "cell_type": "markdown",
   "id": "7121533b",
   "metadata": {},
   "source": [
    "### Model 1: ExtraTreesRegressor"
   ]
  },
  {
   "cell_type": "code",
   "execution_count": 75,
   "id": "c94797d8",
   "metadata": {},
   "outputs": [
    {
     "name": "stdout",
     "output_type": "stream",
     "text": [
      "R^2_Score: 0.9981114038963094\n",
      "Mean Absolute Error: 26001.22811578123\n",
      "Mean Squared Error: 17153374608.877111\n",
      "\n",
      "Feature Importances:\n",
      "\t Share_Price: 0.5441364742942831\n",
      "\t Inflation_CPI: 1.4068186636229303\n",
      "\t LT_Interest: 1.2097938638674077\n",
      "\t Labor_Force: 15.787803761899022\n",
      "\t Trade_Goverment: 8.176110399621143\n",
      "\t H_Spend: 30.590589213475937\n",
      "\t Tax: 17.58065495411976\n",
      "\t Investment: 24.704092669099524\n",
      "\n",
      "Sum: 1.0\n"
     ]
    }
   ],
   "source": [
    "from sklearn.ensemble import ExtraTreesRegressor\n",
    "from sklearn.model_selection import train_test_split\n",
    "from sklearn.preprocessing import MinMaxScaler\n",
    "from sklearn.metrics import r2_score,mean_absolute_error,mean_squared_error\n",
    "\n",
    "# Extra Trees Regressor Model\n",
    "model_etr = ExtraTreesRegressor(random_state=236)\n",
    "X = df_merge_gdp.drop(columns=[\"GDP\"])\n",
    "Y = df_merge_gdp['GDP'].to_numpy()\n",
    "scaler = MinMaxScaler()\n",
    "X_norm = scaler.fit_transform(X)\n",
    "X_train,X_test,Y_train,Y_test = train_test_split(X_norm,Y,test_size=0.3,random_state=236)\n",
    "model_etr.fit(X_train,Y_train)\n",
    "Y_pred = model_etr.predict(X_test)\n",
    "\n",
    "# Model Metrics\n",
    "print(\"R^2_Score:\",r2_score(Y_test,Y_pred))\n",
    "print(\"Mean Absolute Error:\",mean_absolute_error(Y_test,Y_pred))\n",
    "print(\"Mean Squared Error:\",mean_squared_error(Y_test,Y_pred))\n",
    "\n",
    "#Feature Importances\n",
    "sum = 0\n",
    "print(\"\\nFeature Importances:\")\n",
    "for i in range(len(model_etr.feature_importances_)):\n",
    "    print(\"\\t\",X.columns[i]+\":\",model_etr.feature_importances_[i]*100)\n",
    "    sum+= model_etr.feature_importances_[i]\n",
    "\n",
    "print(\"\\nSum:\",sum)"
   ]
  },
  {
   "attachments": {},
   "cell_type": "markdown",
   "id": "e6154c3c",
   "metadata": {},
   "source": [
    "Currently our ExtraTreesRegressor is providing a 0.998 R^2 score for the test set data.\n"
   ]
  },
  {
   "attachments": {},
   "cell_type": "markdown",
   "id": "f3ea7b82",
   "metadata": {},
   "source": [
    "### Model 2: LinearRegression"
   ]
  },
  {
   "cell_type": "code",
   "execution_count": 78,
   "id": "d7a3e203",
   "metadata": {},
   "outputs": [
    {
     "name": "stdout",
     "output_type": "stream",
     "text": [
      "R2 score: 0.9991966624664453\n",
      "Mean squared error:  4310236948.746775\n",
      "Mean absolute error:  43335.37946991559\n",
      "Share_Price: 0.00022783465456764634\n",
      "Inflation_CPI: 0.00288521757204365\n",
      "LT_Interest: -0.0028623714954712836\n",
      "Labor_Force: 0.005947483142619266\n",
      "Trade_Goverment: 0.06254420619111849\n",
      "H_Spend: 0.5726495475808818\n",
      "Tax: 0.08969927621837474\n",
      "Investment: 0.2689088061358656\n",
      "\n",
      "Sum: 1.0\n"
     ]
    }
   ],
   "source": [
    "\n",
    "from sklearn.linear_model import LinearRegression\n",
    "from sklearn.model_selection import train_test_split\n",
    "from sklearn.preprocessing import MinMaxScaler\n",
    "from sklearn.metrics import r2_score,mean_absolute_error,mean_squared_error\n",
    "\n",
    "X = df_merge_gdp.drop(columns=[\"GDP\"])\n",
    "Y = df_merge_gdp['GDP'].to_numpy()\n",
    "\n",
    "scaler = MinMaxScaler()\n",
    "X_norm = scaler.fit_transform(X)\n",
    "\n",
    "# Split data into training and testing sets\n",
    "X_train, X_test, y_train, y_test = train_test_split(X_norm, Y, test_size=0.2, random_state=42)\n",
    "\n",
    "# Create model\n",
    "model_lr = LinearRegression()\n",
    "\n",
    "# Train model\n",
    "model_lr.fit(X_train, y_train)\n",
    "\n",
    "# Make predictions on test set\n",
    "y_pred_lr = model_lr.predict(X_test)\n",
    "\n",
    "# Evaluate model\n",
    "r2_score_lr = r2_score(y_test, y_pred_lr)\n",
    "mse_lr = mean_squared_error(y_test, y_pred_lr)\n",
    "mae_lr = mean_absolute_error(y_test, y_pred_lr)\n",
    "\n",
    "print(\"R2 score:\", r2_score_lr)\n",
    "print(\"Mean squared error: \", mse_lr)\n",
    "print(\"Mean absolute error: \", mae_lr)\n",
    "\n",
    "# Get feature importances\n",
    "importances = model_lr.coef_\n",
    "importances = importances / np.sum(importances)\n",
    "\n",
    "sum = 0\n",
    "# Print feature importances\n",
    "for feature, importance in zip(X.columns, importances):\n",
    "    print(f\"{feature}: {importance}\")\n",
    "    sum+= importance\n",
    "\n",
    "print(\"\\nSum:\",sum)"
   ]
  },
  {
   "attachments": {},
   "cell_type": "markdown",
   "id": "d75fd0a1",
   "metadata": {},
   "source": [
    "### Model 3: Decision Tree Regressor"
   ]
  },
  {
   "cell_type": "code",
   "execution_count": 79,
   "id": "90090311",
   "metadata": {},
   "outputs": [
    {
     "name": "stdout",
     "output_type": "stream",
     "text": [
      "R^2 Score:  0.9951600452883822\n",
      "Mean squared error:  43959402487.45734\n",
      "Mean absolute error:  102343.96764196972\n",
      "\n",
      "Feature Importances:\n",
      "\t Share_Price: 0.0055343096382418425\n",
      "\t Inflation_CPI: 0.00453107139128433\n",
      "\t LT_Interest: 0.041843594144792245\n",
      "\t Labor_Force: 6.961922792459638\n",
      "\t Trade_Goverment: 0.9213727376684876\n",
      "\t H_Spend: 21.624262142974345\n",
      "\t Tax: 69.4572898765688\n",
      "\t Investment: 0.9832434751544038\n",
      "\n",
      "Sum: 0.9999999999999999\n"
     ]
    }
   ],
   "source": [
    "from sklearn.tree import DecisionTreeRegressor\n",
    "from sklearn.model_selection import train_test_split\n",
    "from sklearn.preprocessing import MinMaxScaler\n",
    "from sklearn.metrics import r2_score,mean_absolute_error,mean_squared_error\n",
    "\n",
    "model_dtr = DecisionTreeRegressor(max_depth=5, random_state=236)\n",
    "X = df_merge_gdp.drop(columns=[\"GDP\"])\n",
    "Y = df_merge_gdp['GDP'].to_numpy()\n",
    "\n",
    "scaler = MinMaxScaler()\n",
    "X_norm = scaler.fit_transform(X)\n",
    "\n",
    "# Split data into train and test\n",
    "X_train,X_test,Y_train,Y_test = train_test_split(X_norm,Y,test_size=0.3,random_state=236)\n",
    "\n",
    "# Train model\n",
    "model_dtr.fit(X_train, Y_train)\n",
    "\n",
    "# Make predictions on test set\n",
    "Y_pred_dtr = model_dtr.predict(X_test)\n",
    "\n",
    "# Evaluate model\n",
    "r2_score_dtr = r2_score(Y_test,Y_pred_dtr)\n",
    "mse_dtr = mean_squared_error(Y_test, Y_pred_dtr)\n",
    "mae_dtr = mean_absolute_error(Y_test, Y_pred_dtr)\n",
    "\n",
    "print(\"R^2 Score: \", r2_score_dtr)\n",
    "print(\"Mean squared error: \", mse_dtr)\n",
    "print(\"Mean absolute error: \", mae_dtr)\n",
    "\n",
    "#Feature Importances\n",
    "sum = 0\n",
    "print(\"\\nFeature Importances:\")\n",
    "for i in range(len(model_dtr.feature_importances_)):\n",
    "    print(\"\\t\",X.columns[i]+\":\",model_dtr.feature_importances_[i]*100)\n",
    "    sum+= model_dtr.feature_importances_[i]\n",
    "print(\"\\nSum:\",sum)\n"
   ]
  },
  {
   "attachments": {},
   "cell_type": "markdown",
   "id": "da929a57",
   "metadata": {},
   "source": [
    "## Hypothesis 2: "
   ]
  },
  {
   "cell_type": "code",
   "execution_count": null,
   "id": "cba14bb7",
   "metadata": {},
   "outputs": [
    {
     "name": "stdout",
     "output_type": "stream",
     "text": [
      "(315, 7)\n",
      "  LOCATION  TIME         GDP        H_Spend  Investment      Tax  Labor_Force\n",
      "0      FRA  1979  482365.835  252214.115531  113774.669  208.444      22524.0\n",
      "1      FRA  1980  534241.543  282701.741475  130505.262  248.154      22661.0\n",
      "2      FRA  1981  591043.785  314114.714273  141369.083  225.029      22790.0\n",
      "3      FRA  1982  643282.923  342370.450992  149532.056  231.108      22973.0\n",
      "4      FRA  1983  676773.863  359893.161816  148489.041  236.484      23037.0\n",
      "LOCATION       0\n",
      "TIME           0\n",
      "GDP            0\n",
      "H_Spend        0\n",
      "Investment     0\n",
      "Tax            0\n",
      "Labor_Force    0\n",
      "dtype: int64\n",
      "LOCATION        object\n",
      "TIME             int64\n",
      "GDP            float64\n",
      "H_Spend        float64\n",
      "Investment     float64\n",
      "Tax            float64\n",
      "Labor_Force    float64\n",
      "dtype: object\n"
     ]
    },
    {
     "data": {
      "text/plain": [
       "'\\ndfs = [df_lti,df_lf,df_exp_imp,df_hspend,df_tax,df_gspend,df_gfcf,df_gdp]\\ndf_temp_gdp = pd.merge(df_sp,df_cpi,how=\\'outer\\',on=[\\'LOCATION\\',\\'TIME\\'])\\nfor d in dfs:\\n    df_temp_gdp = pd.merge(df_temp_gdp,d,how=\\'outer\\',on=[\\'LOCATION\\',\\'TIME\\'])\\ndf_gdp_temp_before = df_temp_gdp.shape\\nprint(\"Shape of GDP Dataset Before Cleaning:\",df_gdp_temp_before)\\ndf_temp_gdp = df_temp_gdp.dropna()\\n# df_temp_gdp = df_temp_gdp.drop(columns=[\\'LOCATION\\',\\'TIME\\',\\'H_Spend\\',\"Investment\",\"Trade_Goverment\"])\\ndf_temp_gdp = df_temp_gdp.drop(columns=[\\'LOCATION\\',\\'TIME\\']).reset_index(drop=True)\\nprint(\"Shape of GDP Dataset After Cleaning:\",df_temp_gdp.shape)\\nprint(\"Data Loss:\", DataLoss(df_gdp_temp_before, df_temp_gdp.shape))\\n'"
      ]
     },
     "execution_count": 23,
     "metadata": {},
     "output_type": "execute_result"
    }
   ],
   "source": [
    "from statsmodels.tsa.arima.model import ARIMA\n",
    "\n",
    "time_df = pd.merge(df,df_hspend,how='inner',on=['LOCATION','TIME']) \n",
    "time_df = pd.merge(time_df,df_gfcf,how='inner',on=['LOCATION','TIME']) \n",
    "time_df = pd.merge(time_df,df_tax,how='inner',on=['LOCATION','TIME']) \n",
    "time_df = pd.merge(time_df,df_lf,how='inner',on=['LOCATION','TIME']) \n",
    "\n",
    "print(time_df.shape)\n",
    "print(time_df.head())\n",
    "print(time_df.isna().sum())\n",
    "print(time_df.dtypes)\n",
    "\n",
    "\n",
    "\n",
    "'''\n",
    "dfs = [df_lti,df_lf,df_exp_imp,df_hspend,df_tax,df_gspend,df_gfcf,df_gdp]\n",
    "df_temp_gdp = pd.merge(df_sp,df_cpi,how='outer',on=['LOCATION','TIME'])\n",
    "for d in dfs:\n",
    "    df_temp_gdp = pd.merge(df_temp_gdp,d,how='outer',on=['LOCATION','TIME'])\n",
    "df_gdp_temp_before = df_temp_gdp.shape\n",
    "print(\"Shape of GDP Dataset Before Cleaning:\",df_gdp_temp_before)\n",
    "df_temp_gdp = df_temp_gdp.dropna()\n",
    "# df_temp_gdp = df_temp_gdp.drop(columns=['LOCATION','TIME','H_Spend',\"Investment\",\"Trade_Goverment\"])\n",
    "df_temp_gdp = df_temp_gdp.drop(columns=['LOCATION','TIME']).reset_index(drop=True)\n",
    "print(\"Shape of GDP Dataset After Cleaning:\",df_temp_gdp.shape)\n",
    "print(\"Data Loss:\", DataLoss(df_gdp_temp_before, df_temp_gdp.shape))\n",
    "'''\n",
    "#model = ARIMA(time_df, )"
   ]
  },
  {
   "cell_type": "markdown",
   "id": "2e705866",
   "metadata": {},
   "source": [
    "## Hypothesis 3: Advait Pai"
   ]
  },
  {
   "cell_type": "markdown",
   "id": "e8d9b209",
   "metadata": {},
   "source": [
    "#### Hypothesis - Can the economic and social indicators of GDP be used to classify countries as per their income classes (Lower, Lower Middle, Upper Middle and High)?"
   ]
  },
  {
   "cell_type": "markdown",
   "id": "56f56ec3",
   "metadata": {},
   "source": [
    "The first model chosen to fit the classifier model is ExtraTreesClassifier. ExtraTreesClassifier is an ensemble method which uses Bagging as meta approach to perform it's classification. Bagging makes models in parallel and then aggregates the results."
   ]
  },
  {
   "cell_type": "markdown",
   "id": "5b7b4af5",
   "metadata": {},
   "source": [
    "### Model 1: ExtraTreesClassifier"
   ]
  },
  {
   "cell_type": "code",
   "execution_count": null,
   "id": "58c26c0a",
   "metadata": {},
   "outputs": [],
   "source": [
    "from sklearn.ensemble import ExtraTreesClassifier\n",
    "from sklearn.metrics import accuracy_score,ConfusionMatrixDisplay,confusion_matrix"
   ]
  },
  {
   "cell_type": "markdown",
   "id": "34e5da92",
   "metadata": {},
   "source": [
    "#### Initial Model"
   ]
  },
  {
   "cell_type": "markdown",
   "id": "76b7c684",
   "metadata": {},
   "source": [
    "We first attempt to build a preliminary model using the foreign income dataset and the gdp dataset to classify the country into it's respective income group. A first few rows of the data on which the model is being fit is printed below."
   ]
  },
  {
   "cell_type": "code",
   "execution_count": null,
   "id": "2940dfc8",
   "metadata": {},
   "outputs": [
    {
     "data": {
      "text/html": [
       "<div>\n",
       "<style scoped>\n",
       "    .dataframe tbody tr th:only-of-type {\n",
       "        vertical-align: middle;\n",
       "    }\n",
       "\n",
       "    .dataframe tbody tr th {\n",
       "        vertical-align: top;\n",
       "    }\n",
       "\n",
       "    .dataframe thead th {\n",
       "        text-align: right;\n",
       "    }\n",
       "</style>\n",
       "<table border=\"1\" class=\"dataframe\">\n",
       "  <thead>\n",
       "    <tr style=\"text-align: right;\">\n",
       "      <th></th>\n",
       "      <th>Foreign_Income</th>\n",
       "      <th>GDP</th>\n",
       "      <th>GNI</th>\n",
       "    </tr>\n",
       "  </thead>\n",
       "  <tbody>\n",
       "    <tr>\n",
       "      <th>0</th>\n",
       "      <td>-3.437004e+09</td>\n",
       "      <td>261085.322</td>\n",
       "      <td>H</td>\n",
       "    </tr>\n",
       "    <tr>\n",
       "      <th>1</th>\n",
       "      <td>-2.889965e+08</td>\n",
       "      <td>119629.722</td>\n",
       "      <td>H</td>\n",
       "    </tr>\n",
       "    <tr>\n",
       "      <th>2</th>\n",
       "      <td>8.760346e+08</td>\n",
       "      <td>149338.723</td>\n",
       "      <td>H</td>\n",
       "    </tr>\n",
       "    <tr>\n",
       "      <th>3</th>\n",
       "      <td>-1.335219e+10</td>\n",
       "      <td>469040.522</td>\n",
       "      <td>H</td>\n",
       "    </tr>\n",
       "    <tr>\n",
       "      <th>4</th>\n",
       "      <td>-1.751967e+09</td>\n",
       "      <td>45241.807</td>\n",
       "      <td>LM</td>\n",
       "    </tr>\n",
       "  </tbody>\n",
       "</table>\n",
       "</div>"
      ],
      "text/plain": [
       "   Foreign_Income         GDP GNI\n",
       "0   -3.437004e+09  261085.322   H\n",
       "1   -2.889965e+08  119629.722   H\n",
       "2    8.760346e+08  149338.723   H\n",
       "3   -1.335219e+10  469040.522   H\n",
       "4   -1.751967e+09   45241.807  LM"
      ]
     },
     "execution_count": 82,
     "metadata": {},
     "output_type": "execute_result"
    }
   ],
   "source": [
    "df_merge_gni_2.head()"
   ]
  },
  {
   "cell_type": "markdown",
   "id": "0b310c96",
   "metadata": {},
   "source": [
    "We now fit the ExtraTreesClassifier model on this dataset."
   ]
  },
  {
   "cell_type": "code",
   "execution_count": null,
   "id": "ed17d62d",
   "metadata": {},
   "outputs": [
    {
     "data": {
      "image/png": "[encoded data removed]",
      "text/plain": [
       "<Figure size 640x480 with 1 Axes>"
      ]
     },
     "metadata": {},
     "output_type": "display_data"
    },
    {
     "name": "stdout",
     "output_type": "stream",
     "text": [
      "Accuracy Score: 0.6704980842911877\n"
     ]
    }
   ],
   "source": [
    "model = ExtraTreesClassifier(random_state=27)\n",
    "X = df_merge_gni_2.drop(columns=[\"GNI\"])\n",
    "Y = df_merge_gni_2['GNI'].to_numpy()\n",
    "scaler = MinMaxScaler()\n",
    "# X = X.iloc[:,:3]\n",
    "X_norm = scaler.fit_transform(X)\n",
    "X_train,X_test,Y_train,Y_test = train_test_split(X_norm,Y,test_size=0.3,random_state=27)\n",
    "model.fit(X_train,Y_train)\n",
    "Y_pred = model.predict(X_test)\n",
    "# print(confusion_matrix(Y_test,Y_pred))\n",
    "cfm = confusion_matrix(Y_test,Y_pred,labels=df_merge_gni_2['GNI'].unique(),normalize='true')\n",
    "disp = ConfusionMatrixDisplay(confusion_matrix = cfm,display_labels = df_merge_gni_2['GNI'].unique())\n",
    "disp.plot(colorbar=False,cmap = 'Blues')\n",
    "plt.title(\"Confusion Matrix (Normalized over True)\")\n",
    "plt.show()\n",
    "print(\"Accuracy Score:\",accuracy_score(Y_test,Y_pred))\n",
    "# print(\"\\n\",df_merge_gni_2['GNI'].unique())\n"
   ]
  },
  {
   "cell_type": "markdown",
   "id": "95ad0ed1",
   "metadata": {},
   "source": [
    "Using only two features, our classification model is only giving an accuracy score of approx. 67%. We also plot a normalized confusion matrix which allows us to correctly observe the heatmap of the values obtained from the correlation matrix. Since we normalise the Confusion Matrix over the true values, it can be understood as a recall score we are trying to plot for each of the labels which have in our GNI dataset.\n",
    "\n",
    "Since the model has a relatively low accuracy score we offer a new potential model in the next section."
   ]
  },
  {
   "cell_type": "markdown",
   "id": "13ebb153",
   "metadata": {},
   "source": [
    "#### Alternative model for GNI\n",
    "\n",
    "Here we are demonstrating different features which we could use to develop the GNI dataset, at the same time not lose much information, which could then be used to develop a classifying model. \n",
    "\n",
    "The features that we choose to train this model is the Foreign Income, Government Investment and the Household Spending. We choose Government Inevest and Household Spending as they are the two most important features we had obtained during our model fitting of Hypothesis 1. "
   ]
  },
  {
   "cell_type": "code",
   "execution_count": null,
   "id": "8bf52374",
   "metadata": {},
   "outputs": [
    {
     "name": "stdout",
     "output_type": "stream",
     "text": [
      "Shape of GNI Dataset Before Cleaning: (10306, 6)\n",
      "Shape of GNI Dataset: (1298, 4)\n",
      "Data Loss: (9008, 2)\n",
      "   Investment        H_Spend  Foreign_Income GNI\n",
      "0   72484.821  137662.806790   -3.437004e+09   H\n",
      "1   81271.683  149366.901166   -4.375000e+09   H\n",
      "2   82948.542  162749.855492   -8.171159e+09   H\n",
      "3   74785.917  169853.765646   -1.084648e+10   H\n",
      "4   71752.851  177805.033539   -1.309395e+10   H\n",
      "H     902\n",
      "UM    263\n",
      "LM    108\n",
      "L      25\n",
      "Name: GNI, dtype: int64\n"
     ]
    }
   ],
   "source": [
    "dfs = [df_fi,df_gni]\n",
    "df_merge_gni_3 = pd.merge(df_gfcf,df_hspend,how='outer',on=['LOCATION','TIME'])\n",
    "for d in dfs:\n",
    "    df_merge_gni_3 = pd.merge(df_merge_gni_3,d,how='outer',on=['LOCATION','TIME'])\n",
    "# df_merge_gni_3 = pd.merge(df_fi,df_gdp,how='outer',on=['LOCATION','TIME'])\n",
    "# df_merge_gni_3 = pd.merge(df_merge_gni_3,df_gni,how='outer',on=['LOCATION','TIME'])\n",
    "df_gni_3_shape_before = df_merge_gni_3.shape\n",
    "print(\"Shape of GNI Dataset Before Cleaning:\",df_gni_3_shape_before)\n",
    "df_merge_gni_3 = df_merge_gni_3.dropna()\n",
    "# df_merge_gni_3 = df_merge_gni_3.drop(columns=['LOCATION','TIME','H_Spend',\"Investment\",\"Trade_Goverment\"])\n",
    "df_merge_gni_3 = df_merge_gni_3.drop(columns=['LOCATION','TIME']).reset_index(drop=True)\n",
    "print(\"Shape of GNI Dataset:\",df_merge_gni_3.shape)\n",
    "print(\"Data Loss:\", DataLoss(df_gni_3_shape_before, df_merge_gni_3.shape))"
   ]
  },
  {
   "cell_type": "code",
   "execution_count": null,
   "id": "bba577b8",
   "metadata": {},
   "outputs": [
    {
     "data": {
      "text/html": [
       "<div>\n",
       "<style scoped>\n",
       "    .dataframe tbody tr th:only-of-type {\n",
       "        vertical-align: middle;\n",
       "    }\n",
       "\n",
       "    .dataframe tbody tr th {\n",
       "        vertical-align: top;\n",
       "    }\n",
       "\n",
       "    .dataframe thead th {\n",
       "        text-align: right;\n",
       "    }\n",
       "</style>\n",
       "<table border=\"1\" class=\"dataframe\">\n",
       "  <thead>\n",
       "    <tr style=\"text-align: right;\">\n",
       "      <th></th>\n",
       "      <th>Investment</th>\n",
       "      <th>H_Spend</th>\n",
       "      <th>Foreign_Income</th>\n",
       "      <th>GNI</th>\n",
       "    </tr>\n",
       "  </thead>\n",
       "  <tbody>\n",
       "    <tr>\n",
       "      <th>0</th>\n",
       "      <td>72484.821</td>\n",
       "      <td>137662.806790</td>\n",
       "      <td>-3.437004e+09</td>\n",
       "      <td>H</td>\n",
       "    </tr>\n",
       "    <tr>\n",
       "      <th>1</th>\n",
       "      <td>81271.683</td>\n",
       "      <td>149366.901166</td>\n",
       "      <td>-4.375000e+09</td>\n",
       "      <td>H</td>\n",
       "    </tr>\n",
       "    <tr>\n",
       "      <th>2</th>\n",
       "      <td>82948.542</td>\n",
       "      <td>162749.855492</td>\n",
       "      <td>-8.171159e+09</td>\n",
       "      <td>H</td>\n",
       "    </tr>\n",
       "    <tr>\n",
       "      <th>3</th>\n",
       "      <td>74785.917</td>\n",
       "      <td>169853.765646</td>\n",
       "      <td>-1.084648e+10</td>\n",
       "      <td>H</td>\n",
       "    </tr>\n",
       "    <tr>\n",
       "      <th>4</th>\n",
       "      <td>71752.851</td>\n",
       "      <td>177805.033539</td>\n",
       "      <td>-1.309395e+10</td>\n",
       "      <td>H</td>\n",
       "    </tr>\n",
       "  </tbody>\n",
       "</table>\n",
       "</div>"
      ],
      "text/plain": [
       "   Investment        H_Spend  Foreign_Income GNI\n",
       "0   72484.821  137662.806790   -3.437004e+09   H\n",
       "1   81271.683  149366.901166   -4.375000e+09   H\n",
       "2   82948.542  162749.855492   -8.171159e+09   H\n",
       "3   74785.917  169853.765646   -1.084648e+10   H\n",
       "4   71752.851  177805.033539   -1.309395e+10   H"
      ]
     },
     "execution_count": 86,
     "metadata": {},
     "output_type": "execute_result"
    }
   ],
   "source": [
    "df_merge_gni_3.head()"
   ]
  },
  {
   "cell_type": "code",
   "execution_count": null,
   "id": "11068ce8",
   "metadata": {},
   "outputs": [
    {
     "name": "stdout",
     "output_type": "stream",
     "text": [
      "Value counts of each label:\n",
      "H     902\n",
      "UM    263\n",
      "LM    108\n",
      "L      25\n",
      "Name: GNI, dtype: int64\n"
     ]
    }
   ],
   "source": [
    "## Value counts of each label\n",
    "print(\"Value counts of each label:\")\n",
    "print(df_merge_gni_3['GNI'].value_counts())"
   ]
  },
  {
   "cell_type": "markdown",
   "id": "3aa81951",
   "metadata": {},
   "source": [
    "While our data is still skewed, we have sufficient samples to fit the model. Hence we fit the ExtraTreesClassifier on this data."
   ]
  },
  {
   "cell_type": "code",
   "execution_count": null,
   "id": "3e303c3e",
   "metadata": {},
   "outputs": [
    {
     "data": {
      "image/png": "[encoded data removed]",
      "text/plain": [
       "<Figure size 640x480 with 1 Axes>"
      ]
     },
     "metadata": {},
     "output_type": "display_data"
    },
    {
     "name": "stdout",
     "output_type": "stream",
     "text": [
      "Accuracy Score: 0.803076923076923\n"
     ]
    }
   ],
   "source": [
    "model = ExtraTreesClassifier(random_state=27)\n",
    "X = df_merge_gni_3.drop(columns=[\"GNI\"])\n",
    "Y = df_merge_gni_3['GNI'].to_numpy()\n",
    "scaler = MinMaxScaler()\n",
    "# X = X.iloc[:,:3]\n",
    "X_norm = scaler.fit_transform(X)\n",
    "X_train,X_test,Y_train,Y_test = train_test_split(X_norm,Y,test_size=0.25,random_state=27)\n",
    "model.fit(X_train,Y_train)\n",
    "Y_pred = model.predict(X_test)\n",
    "# print(confusion_matrix(Y_test,Y_pred))\n",
    "cfm = confusion_matrix(Y_test,Y_pred,labels=df_merge_gni_2['GNI'].unique(),normalize='true')\n",
    "disp = ConfusionMatrixDisplay(confusion_matrix = cfm,display_labels = df_merge_gni_2['GNI'].unique())\n",
    "disp.plot(colorbar=False,cmap = 'Blues')\n",
    "plt.title(\"Confusion Matrix (Normalized over True)\")\n",
    "plt.show()\n",
    "print(\"Accuracy Score:\",accuracy_score(Y_test,Y_pred))"
   ]
  },
  {
   "cell_type": "markdown",
   "id": "bb570d84",
   "metadata": {},
   "source": [
    "Using the new dataset, we see that there is a significant increase performance from the previous model that we fit i.e. from 67% accuracy to 80% accuracy overall."
   ]
  },
  {
   "cell_type": "markdown",
   "id": "b709bd7d",
   "metadata": {},
   "source": [
    "#### Confusion Matrix Analysis"
   ]
  },
  {
   "cell_type": "markdown",
   "id": "cf2af491",
   "metadata": {},
   "source": [
    "Since the dataset is skewed in nature, and we have no alternate dataset, we have fit the model on the skewed data. In general we observe a relationship where given more training samples, our individual recall score for each class is higher, hence given more data, our classification model will be able to perform better. "
   ]
  },
  {
   "cell_type": "markdown",
   "id": "e78025ab",
   "metadata": {},
   "source": [
    "### Model 2: GradientBoostingClassifier"
   ]
  },
  {
   "cell_type": "markdown",
   "id": "6e67133b",
   "metadata": {},
   "source": [
    "We now perform the same model fitting but on an alternate model i.e. the GradientBoostingClassifier. We have chosen this model as it uses a different ensemble learning approach - Boosting. In Boosting, the main aim is to create a models in a sequence such that the next model learns from the misclassifications of the previous model. "
   ]
  },
  {
   "cell_type": "code",
   "execution_count": null,
   "id": "44bafece",
   "metadata": {},
   "outputs": [],
   "source": [
    "from sklearn.ensemble import GradientBoostingClassifier"
   ]
  },
  {
   "cell_type": "code",
   "execution_count": null,
   "id": "2e80ff1f",
   "metadata": {},
   "outputs": [
    {
     "name": "stdout",
     "output_type": "stream",
     "text": [
      "Accuracy Score: 0.76\n"
     ]
    },
    {
     "data": {
      "image/png": "[encoded data removed]",
      "text/plain": [
       "<Figure size 640x480 with 1 Axes>"
      ]
     },
     "metadata": {},
     "output_type": "display_data"
    },
    {
     "name": "stdout",
     "output_type": "stream",
     "text": [
      "Accuracy Score: 0.76\n"
     ]
    }
   ],
   "source": [
    "model = GradientBoostingClassifier(random_state=27)\n",
    "X = df_merge_gni_3.drop(columns=[\"GNI\"])\n",
    "Y = df_merge_gni_3['GNI'].to_numpy()\n",
    "scaler = MinMaxScaler()\n",
    "# X = X.iloc[:,:3]\n",
    "X_norm = scaler.fit_transform(X)\n",
    "X_train,X_test,Y_train,Y_test = train_test_split(X_norm,Y,test_size=0.25,random_state=27)\n",
    "model.fit(X_train,Y_train)\n",
    "Y_pred = model.predict(X_test)\n",
    "print(\"Accuracy Score:\",accuracy_score(Y_test,Y_pred))\n",
    "# print(confusion_matrix(Y_test,Y_pred))\n",
    "cfm = confusion_matrix(Y_test,Y_pred,labels=df_merge_gni_2['GNI'].unique(),normalize='true')\n",
    "disp = ConfusionMatrixDisplay(confusion_matrix = cfm,display_labels = df_merge_gni_2['GNI'].unique())\n",
    "disp.plot(colorbar=False,cmap = 'Blues')\n",
    "plt.title(\"Confusion Matrix (Normalized over True)\")\n",
    "plt.show()\n",
    "print(\"Accuracy Score:\",accuracy_score(Y_test,Y_pred))"
   ]
  },
  {
   "cell_type": "markdown",
   "id": "768ff0ab",
   "metadata": {},
   "source": [
    "After running this model, we see that the model we see that the overall model accuracy has reduced, hence in this case we must opt for using the Bagging Approach to fit our model."
   ]
  },
  {
   "cell_type": "markdown",
   "id": "7548c992",
   "metadata": {},
   "source": [
    "## Hypothesis 4:"
   ]
  },
  {
   "cell_type": "markdown",
   "id": "d663355a",
   "metadata": {},
   "source": [
    "### Model 1: KMeans"
   ]
  },
  {
   "cell_type": "code",
   "execution_count": null,
   "id": "99dc9c58",
   "metadata": {},
   "outputs": [
    {
     "data": {
      "image/png": "[encoded data removed]",
      "text/plain": [
       "<Figure size 640x480 with 1 Axes>"
      ]
     },
     "metadata": {},
     "output_type": "display_data"
    }
   ],
   "source": [
    "from sklearn.cluster import KMeans\n",
    "k = range(1, 15)\n",
    "wss = [] \n",
    "for i in k: \n",
    "    kmeans = KMeans(n_clusters = i, init = 'k-means++', random_state = 1234,n_init=10)\n",
    "    kmeans.fit(df_merge_gni_2.iloc[:,:-1]) \n",
    "    y_kmeans = kmeans.predict(df_merge_gni_2.iloc[:,:-1])\n",
    "    centers = kmeans.cluster_centers_\n",
    "    wss.append(kmeans.inertia_ )\n",
    "# Visualize\n",
    "plt.plot(k,wss)\n",
    "plt.xlabel('Number of Clusters')\n",
    "plt.ylabel('WSS')\n",
    "plt.title('Elbow Curve')\n",
    "plt.show()"
   ]
  },
  {
   "cell_type": "markdown",
   "id": "bb3e629e",
   "metadata": {},
   "source": [
    "After fitting a preliminary K-Means clustering model on the two features selected, we get the optimum number of clusters as 6"
   ]
  },
  {
   "attachments": {},
   "cell_type": "markdown",
   "id": "591089cb",
   "metadata": {},
   "source": [
    "Now we will create a K-Means model for optimum clusters, which are 6:"
   ]
  },
  {
   "cell_type": "code",
   "execution_count": null,
   "id": "83c78d02",
   "metadata": {},
   "outputs": [],
   "source": [
    "kmeans = KMeans(n_clusters = 6, init = 'k-means++', random_state = 1234, n_init=10)\n",
    "kmeans.fit(gni) \n",
    "y_kmeans = kmeans.predict(gni)\n",
    "centroids = kmeans.cluster_centers_\n",
    "gni['label'] = kmeans.predict(gni)\n",
    "gni"
   ]
  },
  {
   "cell_type": "code",
   "execution_count": null,
   "id": "1d1336fc",
   "metadata": {},
   "outputs": [],
   "source": [
    "sns.scatterplot(data = gni, x = 'Foreign_Income', y = 'GDP',hue='label')"
   ]
  },
  {
   "attachments": {},
   "cell_type": "markdown",
   "id": "d3979d92",
   "metadata": {},
   "source": [
    "### Model 2: Gaussian Mixture Model"
   ]
  },
  {
   "cell_type": "code",
   "execution_count": null,
   "id": "20cfc55c",
   "metadata": {},
   "outputs": [],
   "source": [
    "from sklearn.mixture import GaussianMixture\n",
    "k = range(1, 12)\n",
    "bic = []\n",
    "gni_2 = df_merge_gni_2.iloc[:,:-1]\n",
    "for i in k:\n",
    "    gmm = GaussianMixture(n_components=i,random_state=1234)\n",
    "    gmm.fit(gni_2)\n",
    "    y_gmm = gmm.predict(gni_2)\n",
    "    centers = gmm.means_\n",
    "    bic.append(gmm.bic(gni_2))\n",
    "\n",
    "plt.figure()\n",
    "plt.title(\"Evolution of BIC\")\n",
    "plt.plot(k, bic)\n",
    "plt.ylabel(\"BIC\")\n",
    "plt.xlabel(\"$k$\")\n",
    "plt.xticks(k)\n",
    "plt.show()"
   ]
  },
  {
   "cell_type": "markdown",
   "id": "926d2568",
   "metadata": {},
   "source": [
    "Again we can see that the minimum BIC value is at 6. This validates that 6 classes are the best for dividing the countries into income-classes.\n"
   ]
  },
  {
   "attachments": {},
   "cell_type": "markdown",
   "id": "507ab9cd",
   "metadata": {},
   "source": [
    "Let's try to fit a GMM with 6 components."
   ]
  },
  {
   "cell_type": "code",
   "execution_count": null,
   "id": "f5528a69",
   "metadata": {},
   "outputs": [],
   "source": [
    "gmm = GaussianMixture(n_components=6,random_state=1234)\n",
    "gmm.fit(gni_2)\n",
    "y_gmm = gmm.predict(gni_2)\n",
    "centers = gmm.means_\n",
    "gni_2['label'] = gmm.predict(gni_2)\n",
    "gni_2"
   ]
  },
  {
   "cell_type": "code",
   "execution_count": null,
   "id": "ae48b82a",
   "metadata": {},
   "outputs": [],
   "source": [
    "sns.scatterplot(data = gni_2, x = 'Foreign_Income', y = 'GDP',hue='label')"
   ]
  },
  {
   "attachments": {},
   "cell_type": "markdown",
   "id": "3fa62c40",
   "metadata": {},
   "source": [
    "Juxtaposing the outcomes of the 2 models for better comparison of how the the samples are divided into the 6 clsuters for each model."
   ]
  },
  {
   "cell_type": "code",
   "execution_count": null,
   "id": "4fcfc80a",
   "metadata": {},
   "outputs": [],
   "source": [
    "f, axes = plt.subplots(1, 2, sharey=True, figsize=(12, 4))\n",
    "f.suptitle('K-Means v/s GMM')\n",
    "\n",
    "sns.scatterplot(ax=axes[0],data = gni, x = 'Foreign_Income', y = 'GDP',hue='label')\n",
    "axes[0].set_title('K-Means')\n",
    "sns.scatterplot(ax=axes[1],data = gni_2, x = 'Foreign_Income', y = 'GDP',hue='label')\n",
    "axes[1].set_title('GMM')"
   ]
  },
  {
   "attachments": {},
   "cell_type": "markdown",
   "id": "109193fd",
   "metadata": {},
   "source": [
    "By conducting this hypothesis testing we get to the conclusion that there should be 6 income groups to classify the countries according to their economic development."
   ]
  },
  {
   "cell_type": "markdown",
   "id": "dfb32a5f",
   "metadata": {},
   "source": [
    "## References"
   ]
  },
  {
   "cell_type": "markdown",
   "id": "c5ec701b",
   "metadata": {},
   "source": [
    "https://www.investopedia.com/articles/investing/051415/how-calculate-gdp-country.asp\n",
    "\n",
    "https://www.britannica.com/money/gross-national-income\n",
    "\n",
    "https://towardsdatascience.com/k-means-dbscan-gmm-agglomerative-clustering-mastering-the-popular-models-in-a-segmentation-c891a3818e29\n",
    "\n",
    "https://sherbold.github.io/intro-to-data-science/06_Clustering.html\n",
    "\n",
    "https://www.codecademy.com/article/eda-prior-to-unsupervised-clustering\n",
    "\n",
    "https://scikit-learn.org/stable/modules/generated/sklearn.metrics.confusion_matrix.html  \n",
    "\n",
    "https://www.neuroelectrics.com/blog/2018/07/06/clustering-methods-in-exploratory-analysis/  \n",
    "\n",
    "https://www.geeksforgeeks.org/data-visualization-different-charts-python/\n",
    "\n",
    "https://seaborn.pydata.org/generated/seaborn.heatmap.html  \n",
    "\n",
    "https://bobrupakroy.medium.com/extra-trees-classifier-regressor-5b5f6abe8228\n",
    "\n",
    "https://www.thekerneltrip.com/statistics/random-forest-vs-extra-tree/\n",
    "\n",
    "https://towardsdatascience.com/unlocking-the-true-power-of-support-vector-regression-847fd123a4a0\n",
    "\n",
    "https://nlp.stanford.edu/IR-book/html/htmledition/evaluation-of-clustering-1.html\n",
    "\n",
    "\n",
    "#### Data Sources:\n",
    "1. Share Prices: https://data.oecd.org/price/share-prices.htm\n",
    "2. CPI: https://data.oecd.org/price/inflation-cpi.htm#indicator-chart\n",
    "3. Long Term Interest Rates: https://data.oecd.org/interest/long-term-interest-rates.htm\n",
    "4. Labour Force: https://data.oecd.org/emp/labour-force.htm\n",
    "5. Trade: https://data.oecd.org/trade/trade-in-goods-and-services.htm\n",
    "6. Household Spending: https://data.oecd.org/hha/household-spending.htm\n",
    "7. Government Spending: https://data.oecd.org/gga/general-government-spending.htm\n",
    "8. Tax Revenue: https://data.oecd.org/tax/tax-revenue.htm\n",
    "9. Investment GFCF: https://data.oecd.org/gdp/investment-by-sector.htm\n",
    "10. GDP: https://data.oecd.org/gdp/gross-domestic-product-gdp.htm\n",
    "11. Economic Category: https://datahelpdesk.worldbank.org/knowledgebase/articles/906519-world-bank-country-and-lending-groups\n",
    "10. Net Primary Income from Aborad: https://data.worldbank.org/indicator/NY.GSR.NFCY.CD "
   ]
  }
 ],
 "metadata": {
  "kernelspec": {
   "display_name": "Python 3 (ipykernel)",
   "language": "python",
   "name": "python3"
  },
  "language_info": {
   "codemirror_mode": {
    "name": "ipython",
    "version": 3
   },
   "file_extension": ".py",
   "mimetype": "text/x-python",
   "name": "python",
   "nbconvert_exporter": "python",
   "pygments_lexer": "ipython3",
   "version": "3.9.12"
  },
  "vscode": {
   "interpreter": {
    "hash": "c8ac7bcc6b2dbb39842d89486c34ab7849f692bd3067ed6f57c4db9cdfb88efc"
   }
  }
 },
 "nbformat": 4,
 "nbformat_minor": 5
}
