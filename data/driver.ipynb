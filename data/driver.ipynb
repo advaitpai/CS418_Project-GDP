{
 "cells": [
  {
   "cell_type": "markdown",
   "metadata": {},
   "source": [
    "## Code to download all files in the data folder"
   ]
  },
  {
   "cell_type": "code",
   "execution_count": 1,
   "metadata": {},
   "outputs": [],
   "source": [
    "import requests\n",
    "import pandas as pd\n",
    "import os"
   ]
  },
  {
   "cell_type": "markdown",
   "metadata": {},
   "source": [
    "### Download all files\n",
    "\n",
    "All the files to be downloaded are stored in file_names.csv in the formate [filename,url]. Using this we download all the files necessary from their respective sources."
   ]
  },
  {
   "cell_type": "code",
   "execution_count": 2,
   "metadata": {},
   "outputs": [],
   "source": [
    "file_names = dict()\n",
    "with open('file_names.csv','r') as f:\n",
    "    files = f.readlines()\n",
    "    for file in files:\n",
    "        name,url = file.split(',')\n",
    "        file_names[name]=url.strip()\n",
    "base_path = \"uncleaned/\"\n",
    "if base_path[:-1] not in os.listdir():\n",
    "    os.mkdir(base_path)     \n",
    "for k,v in file_names.items():\n",
    "    csv_content = requests.get(v).content\n",
    "    csv_file = open(base_path+k,\"wb\")\n",
    "    csv_file.write(csv_content)\n",
    "    csv_file.close()"
   ]
  },
  {
   "cell_type": "markdown",
   "metadata": {},
   "source": [
    "### Once we have the datesets we try to visualise the outputs"
   ]
  },
  {
   "cell_type": "code",
   "execution_count": 3,
   "metadata": {},
   "outputs": [
    {
     "name": "stdout",
     "output_type": "stream",
     "text": [
      "Top 5 entries of share_prices.csv\n",
      "  LOCATION INDICATOR SUBJECT  MEASURE FREQUENCY  TIME     Value Flag Codes\n",
      "0      AUS   SHPRICE     TOT  IDX2015         A  1958  2.613002        NaN\n",
      "1      AUS   SHPRICE     TOT  IDX2015         A  1959  3.256618        NaN\n",
      "2      AUS   SHPRICE     TOT  IDX2015         A  1960  3.966841        NaN\n",
      "3      AUS   SHPRICE     TOT  IDX2015         A  1961  3.653984        NaN\n",
      "4      AUS   SHPRICE     TOT  IDX2015         A  1962  3.678260        NaN\n",
      "Top 5 entries of inflation_cpi.csv\n",
      "  LOCATION INDICATOR SUBJECT MEASURE FREQUENCY  TIME      Value Flag Codes\n",
      "0      AUS       CPI    ENRG  AGRWTH         A  1972   4.910070        NaN\n",
      "1      AUS       CPI    ENRG  AGRWTH         A  1973   3.762801        NaN\n",
      "2      AUS       CPI    ENRG  AGRWTH         A  1974  13.173540        NaN\n",
      "3      AUS       CPI    ENRG  AGRWTH         A  1975  19.422470        NaN\n",
      "4      AUS       CPI    ENRG  AGRWTH         A  1976   8.833195        NaN\n",
      "Top 5 entries of long_term_ir.csv\n",
      "  LOCATION INDICATOR SUBJECT MEASURE FREQUENCY  TIME      Value Flag Codes\n",
      "0      PRT     LTINT     TOT   PC_PA         A  1994  10.478330        NaN\n",
      "1      PRT     LTINT     TOT   PC_PA         A  1995  11.465000        NaN\n",
      "2      PRT     LTINT     TOT   PC_PA         A  1996   8.559167        NaN\n",
      "3      PRT     LTINT     TOT   PC_PA         A  1997   6.358333        NaN\n",
      "4      PRT     LTINT     TOT   PC_PA         A  1998   4.877500        NaN\n",
      "Top 5 entries of labour_force.csv\n",
      "  LOCATION INDICATOR SUBJECT   MEASURE FREQUENCY  TIME   Value Flag Codes\n",
      "0      PRT        LF     MEN  THND_PER         A  1960  2791.0        NaN\n",
      "1      PRT        LF     MEN  THND_PER         A  1974  2259.0        NaN\n",
      "2      PRT        LF     MEN  THND_PER         A  1975  2378.0        NaN\n",
      "3      PRT        LF     MEN  THND_PER         A  1976  2481.0        NaN\n",
      "4      PRT        LF     MEN  THND_PER         A  1977  2477.0        NaN\n",
      "Top 5 entries of trade_in_gs.csv\n",
      "  LOCATION      INDICATOR SUBJECT MEASURE FREQUENCY  TIME      Value  \\\n",
      "0      AUS  TRADEGOODSERV     EXP  PC_GDP         A  1970  12.639948   \n",
      "1      AUS  TRADEGOODSERV     EXP  PC_GDP         A  1971  12.804166   \n",
      "2      AUS  TRADEGOODSERV     EXP  PC_GDP         A  1972  14.130588   \n",
      "3      AUS  TRADEGOODSERV     EXP  PC_GDP         A  1973  13.129121   \n",
      "4      AUS  TRADEGOODSERV     EXP  PC_GDP         A  1974  14.258448   \n",
      "\n",
      "  Flag Codes  \n",
      "0        NaN  \n",
      "1        NaN  \n",
      "2        NaN  \n",
      "3        NaN  \n",
      "4        NaN  \n",
      "Top 5 entries of household_spend.csv\n",
      "  LOCATION INDICATOR SUBJECT  MEASURE FREQUENCY  TIME         Value Flag Codes\n",
      "0      AUS     HHEXP     TOT  MLN_USD         A  1970  30476.510257        NaN\n",
      "1      AUS     HHEXP     TOT  MLN_USD         A  1971  32799.844017        NaN\n",
      "2      AUS     HHEXP     TOT  MLN_USD         A  1972  35590.183565        NaN\n",
      "3      AUS     HHEXP     TOT  MLN_USD         A  1973  41114.456624        NaN\n",
      "4      AUS     HHEXP     TOT  MLN_USD         A  1974  48461.851872        NaN\n",
      "Top 5 entries of government_spend.csv\n",
      "  LOCATION INDICATOR SUBJECT       MEASURE FREQUENCY  TIME     Value  \\\n",
      "0      AUS     GGEXP     TOT  THND_USD_CAP         A  2007  13737.93   \n",
      "1      AUS     GGEXP     TOT  THND_USD_CAP         A  2008  14835.57   \n",
      "2      AUS     GGEXP     TOT  THND_USD_CAP         A  2009  15963.85   \n",
      "3      AUS     GGEXP     TOT  THND_USD_CAP         A  2010  15802.56   \n",
      "4      AUS     GGEXP     TOT  THND_USD_CAP         A  2011  16535.76   \n",
      "\n",
      "  Flag Codes  \n",
      "0        NaN  \n",
      "1        NaN  \n",
      "2        NaN  \n",
      "3        NaN  \n",
      "4        NaN  \n",
      "Top 5 entries of tax_revenue.csv\n",
      "  LOCATION INDICATOR SUBJECT MEASURE FREQUENCY  TIME   Value  Flag Codes\n",
      "0      AUS    TAXREV     TOT  PC_GDP         A  1965  20.609         NaN\n",
      "1      AUS    TAXREV     TOT  PC_GDP         A  1966  19.829         NaN\n",
      "2      AUS    TAXREV     TOT  PC_GDP         A  1967  20.409         NaN\n",
      "3      AUS    TAXREV     TOT  PC_GDP         A  1968  20.340         NaN\n",
      "4      AUS    TAXREV     TOT  PC_GDP         A  1969  20.681         NaN\n",
      "Top 5 entries of investment_gfcf.csv\n",
      "  LOCATION INDICATOR SUBJECT MEASURE FREQUENCY  TIME     Value Flag Codes\n",
      "0      AUS      GFCF     TOT  AGRWTH         A  1960  5.675337        NaN\n",
      "1      AUS      GFCF     TOT  AGRWTH         A  1961  1.774823        NaN\n",
      "2      AUS      GFCF     TOT  AGRWTH         A  1962  6.253368        NaN\n",
      "3      AUS      GFCF     TOT  AGRWTH         A  1963  9.366632        NaN\n",
      "4      AUS      GFCF     TOT  AGRWTH         A  1964  7.482981        NaN\n",
      "Top 5 entries of gdp_yearly.csv\n",
      "  LOCATION INDICATOR SUBJECT  MEASURE FREQUENCY  TIME      Value Flag Codes\n",
      "0      AUS       GDP     TOT  MLN_USD         A  1960  25071.833        NaN\n",
      "1      AUS       GDP     TOT  MLN_USD         A  1961  25363.455        NaN\n",
      "2      AUS       GDP     TOT  MLN_USD         A  1962  27953.904        NaN\n",
      "3      AUS       GDP     TOT  MLN_USD         A  1963  30431.547        NaN\n",
      "4      AUS       GDP     TOT  MLN_USD         A  1964  32742.466        NaN\n"
     ]
    }
   ],
   "source": [
    "for k,_ in file_names.items():\n",
    "    if k[-3:] == 'csv':\n",
    "        print(\"Top 5 entries of\",k)\n",
    "        df = pd.read_csv(base_path+k)\n",
    "        print(df.head())"
   ]
  },
  {
   "cell_type": "markdown",
   "metadata": {},
   "source": [
    "### References for the dataset"
   ]
  },
  {
   "cell_type": "code",
   "execution_count": 4,
   "metadata": {},
   "outputs": [
    {
     "name": "stdout",
     "output_type": "stream",
     "text": [
      "File Name: share_prices.csv\n",
      "URL: https://stats.oecd.org/sdmx-json/data/DP_LIVE/.SHPRICE.../OECD?contentType=csv&detail=code&separator=comma&csv-lang=en\n",
      " \n",
      "\n",
      "File Name: inflation_cpi.csv\n",
      "URL: https://stats.oecd.org/sdmx-json/data/DP_LIVE/.CPI.../OECD?contentType=csv&detail=code&separator=comma&csv-lang=en\n",
      " \n",
      "\n",
      "File Name: long_term_ir.csv\n",
      "URL: https://stats.oecd.org/sdmx-json/data/DP_LIVE/.LTINT.../OECD?contentType=csv&detail=code&separator=comma&csv-lang=en\n",
      " \n",
      "\n",
      "File Name: labour_force.csv\n",
      "URL: https://stats.oecd.org/sdmx-json/data/DP_LIVE/.LF.../OECD?contentType=csv&detail=code&separator=comma&csv-lang=en\n",
      " \n",
      "\n",
      "File Name: trade_in_gs.csv\n",
      "URL: https://stats.oecd.org/sdmx-json/data/DP_LIVE/.TRADEGOODSERV.../OECD?contentType=csv&detail=code&separator=comma&csv-lang=en\n",
      " \n",
      "\n",
      "File Name: household_spend.csv\n",
      "URL: https://stats.oecd.org/sdmx-json/data/DP_LIVE/.HHEXP.../OECD?contentType=csv&detail=code&separator=comma&csv-lang=en\n",
      " \n",
      "\n",
      "File Name: government_spend.csv\n",
      "URL: https://stats.oecd.org/sdmx-json/data/DP_LIVE/.GGEXP.../OECD?contentType=csv&detail=code&separator=comma&csv-lang=en\n",
      " \n",
      "\n",
      "File Name: tax_revenue.csv\n",
      "URL: https://stats.oecd.org/sdmx-json/data/DP_LIVE/.TAXREV.../OECD?contentType=csv&detail=code&separator=comma&csv-lang=en\n",
      " \n",
      "\n",
      "File Name: investment_gfcf.csv\n",
      "URL: https://stats.oecd.org/sdmx-json/data/DP_LIVE/.GFCF.../OECD?contentType=csv&detail=code&separator=comma&csv-lang=en\n",
      " \n",
      "\n",
      "File Name: gdp_yearly.csv\n",
      "URL: https://stats.oecd.org/sdmx-json/data/DP_LIVE/.GDP.../OECD?contentType=csv&detail=code&separator=comma&csv-lang=en\n",
      " \n",
      "\n",
      "File Name: economic_category.xlsx\n",
      "URL: https://databankfiles.worldbank.org/public/ddpext_download/site-content/OGHIST.xls\n",
      " \n",
      "\n"
     ]
    }
   ],
   "source": [
    "for f in files:\n",
    "    name,url = f.split(',')\n",
    "    print(\"File Name:\",name)\n",
    "    print(\"URL:\",url,\"\\n\")"
   ]
  }
 ],
 "metadata": {
  "kernelspec": {
   "display_name": "Python 3.9.16 ('cs418-proj')",
   "language": "python",
   "name": "python3"
  },
  "language_info": {
   "codemirror_mode": {
    "name": "ipython",
    "version": 3
   },
   "file_extension": ".py",
   "mimetype": "text/x-python",
   "name": "python",
   "nbconvert_exporter": "python",
   "pygments_lexer": "ipython3",
   "version": "3.9.16"
  },
  "orig_nbformat": 4,
  "vscode": {
   "interpreter": {
    "hash": "c8ac7bcc6b2dbb39842d89486c34ab7849f692bd3067ed6f57c4db9cdfb88efc"
   }
  }
 },
 "nbformat": 4,
 "nbformat_minor": 2
}
