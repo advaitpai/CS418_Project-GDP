{
 "cells": [
  {
   "cell_type": "code",
   "execution_count": 1,
   "id": "45ef6b28",
   "metadata": {},
   "outputs": [],
   "source": [
    "import pandas as pd\n",
    "import numpy as np\n",
    "# To Check each parameters Contribution to generate target y\n",
    "from sklearn.ensemble import ExtraTreesRegressor\n",
    "# Plotting tools\n",
    "import seaborn as sns\n",
    "from matplotlib import pyplot as plt\n",
    "from matplotlib import style\n",
    "style.use('ggplot')"
   ]
  },
  {
   "cell_type": "code",
   "execution_count": null,
   "id": "e3a960d6",
   "metadata": {},
   "outputs": [],
   "source": [
    "# Y is the GDP\n",
    "# X is the "
   ]
  }
 ],
 "metadata": {
  "kernelspec": {
   "display_name": "Python 3 (ipykernel)",
   "language": "python",
   "name": "python3"
  },
  "language_info": {
   "codemirror_mode": {
    "name": "ipython",
    "version": 3
   },
   "file_extension": ".py",
   "mimetype": "text/x-python",
   "name": "python",
   "nbconvert_exporter": "python",
   "pygments_lexer": "ipython3",
   "version": "3.9.12"
  }
 },
 "nbformat": 4,
 "nbformat_minor": 5
}
