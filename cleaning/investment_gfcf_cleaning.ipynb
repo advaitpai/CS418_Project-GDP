{
 "cells": [
  {
   "cell_type": "markdown",
   "id": "f6c58848",
   "metadata": {},
   "source": [
    "## Investment"
   ]
  },
  {
   "cell_type": "markdown",
   "id": "501ab844",
   "metadata": {},
   "source": [
    "This CSV file contains the data for the investments made in each country. We load the CSV file from the uncleaned directory and have an initial look at it."
   ]
  },
  {
   "cell_type": "code",
   "execution_count": 1,
   "id": "87c52d63",
   "metadata": {},
   "outputs": [],
   "source": [
    "import pandas as pd\n",
    "import numpy as np"
   ]
  },
  {
   "cell_type": "code",
   "execution_count": 2,
   "id": "f9deb511",
   "metadata": {},
   "outputs": [
    {
     "name": "stdout",
     "output_type": "stream",
     "text": [
      "(24597, 8)\n"
     ]
    },
    {
     "data": {
      "text/html": [
       "<div>\n",
       "<style scoped>\n",
       "    .dataframe tbody tr th:only-of-type {\n",
       "        vertical-align: middle;\n",
       "    }\n",
       "\n",
       "    .dataframe tbody tr th {\n",
       "        vertical-align: top;\n",
       "    }\n",
       "\n",
       "    .dataframe thead th {\n",
       "        text-align: right;\n",
       "    }\n",
       "</style>\n",
       "<table border=\"1\" class=\"dataframe\">\n",
       "  <thead>\n",
       "    <tr style=\"text-align: right;\">\n",
       "      <th></th>\n",
       "      <th>LOCATION</th>\n",
       "      <th>INDICATOR</th>\n",
       "      <th>SUBJECT</th>\n",
       "      <th>MEASURE</th>\n",
       "      <th>FREQUENCY</th>\n",
       "      <th>TIME</th>\n",
       "      <th>Value</th>\n",
       "      <th>Flag Codes</th>\n",
       "    </tr>\n",
       "  </thead>\n",
       "  <tbody>\n",
       "    <tr>\n",
       "      <th>0</th>\n",
       "      <td>AUS</td>\n",
       "      <td>GFCF</td>\n",
       "      <td>TOT</td>\n",
       "      <td>AGRWTH</td>\n",
       "      <td>A</td>\n",
       "      <td>1960</td>\n",
       "      <td>5.675337</td>\n",
       "      <td>NaN</td>\n",
       "    </tr>\n",
       "    <tr>\n",
       "      <th>1</th>\n",
       "      <td>AUS</td>\n",
       "      <td>GFCF</td>\n",
       "      <td>TOT</td>\n",
       "      <td>AGRWTH</td>\n",
       "      <td>A</td>\n",
       "      <td>1961</td>\n",
       "      <td>1.774823</td>\n",
       "      <td>NaN</td>\n",
       "    </tr>\n",
       "    <tr>\n",
       "      <th>2</th>\n",
       "      <td>AUS</td>\n",
       "      <td>GFCF</td>\n",
       "      <td>TOT</td>\n",
       "      <td>AGRWTH</td>\n",
       "      <td>A</td>\n",
       "      <td>1962</td>\n",
       "      <td>6.253368</td>\n",
       "      <td>NaN</td>\n",
       "    </tr>\n",
       "    <tr>\n",
       "      <th>3</th>\n",
       "      <td>AUS</td>\n",
       "      <td>GFCF</td>\n",
       "      <td>TOT</td>\n",
       "      <td>AGRWTH</td>\n",
       "      <td>A</td>\n",
       "      <td>1963</td>\n",
       "      <td>9.366632</td>\n",
       "      <td>NaN</td>\n",
       "    </tr>\n",
       "    <tr>\n",
       "      <th>4</th>\n",
       "      <td>AUS</td>\n",
       "      <td>GFCF</td>\n",
       "      <td>TOT</td>\n",
       "      <td>AGRWTH</td>\n",
       "      <td>A</td>\n",
       "      <td>1964</td>\n",
       "      <td>7.482981</td>\n",
       "      <td>NaN</td>\n",
       "    </tr>\n",
       "  </tbody>\n",
       "</table>\n",
       "</div>"
      ],
      "text/plain": [
       "  LOCATION INDICATOR SUBJECT MEASURE FREQUENCY  TIME     Value Flag Codes\n",
       "0      AUS      GFCF     TOT  AGRWTH         A  1960  5.675337        NaN\n",
       "1      AUS      GFCF     TOT  AGRWTH         A  1961  1.774823        NaN\n",
       "2      AUS      GFCF     TOT  AGRWTH         A  1962  6.253368        NaN\n",
       "3      AUS      GFCF     TOT  AGRWTH         A  1963  9.366632        NaN\n",
       "4      AUS      GFCF     TOT  AGRWTH         A  1964  7.482981        NaN"
      ]
     },
     "execution_count": 2,
     "metadata": {},
     "output_type": "execute_result"
    }
   ],
   "source": [
    "investment = pd.read_csv('../data/uncleaned/investment_gfcf.csv')\n",
    "print(investment.shape)\n",
    "investment.head()"
   ]
  },
  {
   "cell_type": "markdown",
   "id": "200bad12",
   "metadata": {},
   "source": [
    "We need to check what types of values are present in each of the `MEASURE`, `FREQUENCY` and `SUBJECT` columns."
   ]
  },
  {
   "cell_type": "code",
   "execution_count": 3,
   "id": "f89ecc06",
   "metadata": {},
   "outputs": [
    {
     "data": {
      "text/plain": [
       "array(['AGRWTH', 'MLN_USD', 'QGRWTH'], dtype=object)"
      ]
     },
     "execution_count": 3,
     "metadata": {},
     "output_type": "execute_result"
    }
   ],
   "source": [
    "investment.MEASURE.unique()"
   ]
  },
  {
   "cell_type": "code",
   "execution_count": 4,
   "id": "100c2af3",
   "metadata": {},
   "outputs": [
    {
     "data": {
      "text/plain": [
       "array(['A', 'Q'], dtype=object)"
      ]
     },
     "execution_count": 4,
     "metadata": {},
     "output_type": "execute_result"
    }
   ],
   "source": [
    "investment.FREQUENCY.unique()"
   ]
  },
  {
   "cell_type": "code",
   "execution_count": 5,
   "id": "4b1b42cd",
   "metadata": {},
   "outputs": [
    {
     "data": {
      "text/plain": [
       "array(['TOT'], dtype=object)"
      ]
     },
     "execution_count": 5,
     "metadata": {},
     "output_type": "execute_result"
    }
   ],
   "source": [
    "investment.SUBJECT.unique()"
   ]
  },
  {
   "cell_type": "markdown",
   "id": "bf8c1160",
   "metadata": {},
   "source": [
    "To start with, we can drop the column `Flag Codes` since it has a lot of NaN values, and is not of any use to us. "
   ]
  },
  {
   "cell_type": "code",
   "execution_count": 6,
   "id": "997129c9",
   "metadata": {},
   "outputs": [],
   "source": [
    "investment = investment.drop(['Flag Codes'], axis=1)"
   ]
  },
  {
   "cell_type": "markdown",
   "id": "d08b2f60",
   "metadata": {},
   "source": [
    "For `FREQUENCY`, we only need the data annually, so we drop our rows with `FREQUENCY==Q`"
   ]
  },
  {
   "cell_type": "code",
   "execution_count": 7,
   "id": "4c539017",
   "metadata": {},
   "outputs": [],
   "source": [
    "investment = investment[(investment['FREQUENCY']=='A')]"
   ]
  },
  {
   "cell_type": "markdown",
   "id": "8013e99f",
   "metadata": {},
   "source": [
    "For `MEASURE`, we are only interested in the values represented in Millions of USD, so we only keep the rows that have `MEASURE==MLN_USD`"
   ]
  },
  {
   "cell_type": "code",
   "execution_count": 8,
   "id": "4d8285e8",
   "metadata": {},
   "outputs": [],
   "source": [
    "investment = investment[(investment['MEASURE']=='MLN_USD')]"
   ]
  },
  {
   "cell_type": "code",
   "execution_count": 9,
   "id": "ba83b994",
   "metadata": {},
   "outputs": [
    {
     "data": {
      "text/html": [
       "<div>\n",
       "<style scoped>\n",
       "    .dataframe tbody tr th:only-of-type {\n",
       "        vertical-align: middle;\n",
       "    }\n",
       "\n",
       "    .dataframe tbody tr th {\n",
       "        vertical-align: top;\n",
       "    }\n",
       "\n",
       "    .dataframe thead th {\n",
       "        text-align: right;\n",
       "    }\n",
       "</style>\n",
       "<table border=\"1\" class=\"dataframe\">\n",
       "  <thead>\n",
       "    <tr style=\"text-align: right;\">\n",
       "      <th></th>\n",
       "      <th>LOCATION</th>\n",
       "      <th>INDICATOR</th>\n",
       "      <th>SUBJECT</th>\n",
       "      <th>MEASURE</th>\n",
       "      <th>FREQUENCY</th>\n",
       "      <th>TIME</th>\n",
       "      <th>Value</th>\n",
       "    </tr>\n",
       "  </thead>\n",
       "  <tbody>\n",
       "    <tr>\n",
       "      <th>62</th>\n",
       "      <td>AUS</td>\n",
       "      <td>GFCF</td>\n",
       "      <td>TOT</td>\n",
       "      <td>MLN_USD</td>\n",
       "      <td>A</td>\n",
       "      <td>1960</td>\n",
       "      <td>7594.023</td>\n",
       "    </tr>\n",
       "    <tr>\n",
       "      <th>63</th>\n",
       "      <td>AUS</td>\n",
       "      <td>GFCF</td>\n",
       "      <td>TOT</td>\n",
       "      <td>MLN_USD</td>\n",
       "      <td>A</td>\n",
       "      <td>1961</td>\n",
       "      <td>7555.709</td>\n",
       "    </tr>\n",
       "    <tr>\n",
       "      <th>64</th>\n",
       "      <td>AUS</td>\n",
       "      <td>GFCF</td>\n",
       "      <td>TOT</td>\n",
       "      <td>MLN_USD</td>\n",
       "      <td>A</td>\n",
       "      <td>1962</td>\n",
       "      <td>8263.204</td>\n",
       "    </tr>\n",
       "    <tr>\n",
       "      <th>65</th>\n",
       "      <td>AUS</td>\n",
       "      <td>GFCF</td>\n",
       "      <td>TOT</td>\n",
       "      <td>MLN_USD</td>\n",
       "      <td>A</td>\n",
       "      <td>1963</td>\n",
       "      <td>9144.787</td>\n",
       "    </tr>\n",
       "    <tr>\n",
       "      <th>66</th>\n",
       "      <td>AUS</td>\n",
       "      <td>GFCF</td>\n",
       "      <td>TOT</td>\n",
       "      <td>MLN_USD</td>\n",
       "      <td>A</td>\n",
       "      <td>1964</td>\n",
       "      <td>10182.874</td>\n",
       "    </tr>\n",
       "  </tbody>\n",
       "</table>\n",
       "</div>"
      ],
      "text/plain": [
       "   LOCATION INDICATOR SUBJECT  MEASURE FREQUENCY  TIME      Value\n",
       "62      AUS      GFCF     TOT  MLN_USD         A  1960   7594.023\n",
       "63      AUS      GFCF     TOT  MLN_USD         A  1961   7555.709\n",
       "64      AUS      GFCF     TOT  MLN_USD         A  1962   8263.204\n",
       "65      AUS      GFCF     TOT  MLN_USD         A  1963   9144.787\n",
       "66      AUS      GFCF     TOT  MLN_USD         A  1964  10182.874"
      ]
     },
     "execution_count": 9,
     "metadata": {},
     "output_type": "execute_result"
    }
   ],
   "source": [
    "investment.head()"
   ]
  },
  {
   "cell_type": "markdown",
   "id": "444cef86",
   "metadata": {},
   "source": [
    "Now, we check the total unique values for every column in our dataframe."
   ]
  },
  {
   "cell_type": "code",
   "execution_count": 10,
   "id": "84182c18",
   "metadata": {},
   "outputs": [
    {
     "data": {
      "text/plain": [
       "LOCATION       67\n",
       "INDICATOR       1\n",
       "SUBJECT         1\n",
       "MEASURE         1\n",
       "FREQUENCY       1\n",
       "TIME           63\n",
       "Value        2635\n",
       "dtype: int64"
      ]
     },
     "execution_count": 10,
     "metadata": {},
     "output_type": "execute_result"
    }
   ],
   "source": [
    "investment.nunique()"
   ]
  },
  {
   "cell_type": "markdown",
   "id": "81c752c5",
   "metadata": {},
   "source": [
    "We can drop the columns `INDICATOR`, `SUBJECT`, `FREQUENCY` and `MEASURE`, since we don't need them anymore. We also reset our index, since we have deleted a lot of rows."
   ]
  },
  {
   "cell_type": "code",
   "execution_count": 11,
   "id": "02245cef",
   "metadata": {},
   "outputs": [],
   "source": [
    "investment = investment.drop(['INDICATOR','SUBJECT','FREQUENCY','MEASURE'], axis=1)\n",
    "investment.reset_index(drop=True, inplace=True)"
   ]
  },
  {
   "cell_type": "markdown",
   "id": "593b34a5",
   "metadata": {},
   "source": [
    "After these changes, our table looks like this:"
   ]
  },
  {
   "cell_type": "code",
   "execution_count": 12,
   "id": "75771127",
   "metadata": {},
   "outputs": [
    {
     "data": {
      "text/html": [
       "<div>\n",
       "<style scoped>\n",
       "    .dataframe tbody tr th:only-of-type {\n",
       "        vertical-align: middle;\n",
       "    }\n",
       "\n",
       "    .dataframe tbody tr th {\n",
       "        vertical-align: top;\n",
       "    }\n",
       "\n",
       "    .dataframe thead th {\n",
       "        text-align: right;\n",
       "    }\n",
       "</style>\n",
       "<table border=\"1\" class=\"dataframe\">\n",
       "  <thead>\n",
       "    <tr style=\"text-align: right;\">\n",
       "      <th></th>\n",
       "      <th>LOCATION</th>\n",
       "      <th>TIME</th>\n",
       "      <th>Value</th>\n",
       "    </tr>\n",
       "  </thead>\n",
       "  <tbody>\n",
       "    <tr>\n",
       "      <th>0</th>\n",
       "      <td>AUS</td>\n",
       "      <td>1960</td>\n",
       "      <td>7594.023</td>\n",
       "    </tr>\n",
       "    <tr>\n",
       "      <th>1</th>\n",
       "      <td>AUS</td>\n",
       "      <td>1961</td>\n",
       "      <td>7555.709</td>\n",
       "    </tr>\n",
       "    <tr>\n",
       "      <th>2</th>\n",
       "      <td>AUS</td>\n",
       "      <td>1962</td>\n",
       "      <td>8263.204</td>\n",
       "    </tr>\n",
       "    <tr>\n",
       "      <th>3</th>\n",
       "      <td>AUS</td>\n",
       "      <td>1963</td>\n",
       "      <td>9144.787</td>\n",
       "    </tr>\n",
       "    <tr>\n",
       "      <th>4</th>\n",
       "      <td>AUS</td>\n",
       "      <td>1964</td>\n",
       "      <td>10182.874</td>\n",
       "    </tr>\n",
       "  </tbody>\n",
       "</table>\n",
       "</div>"
      ],
      "text/plain": [
       "  LOCATION  TIME      Value\n",
       "0      AUS  1960   7594.023\n",
       "1      AUS  1961   7555.709\n",
       "2      AUS  1962   8263.204\n",
       "3      AUS  1963   9144.787\n",
       "4      AUS  1964  10182.874"
      ]
     },
     "execution_count": 12,
     "metadata": {},
     "output_type": "execute_result"
    }
   ],
   "source": [
    "investment.head()"
   ]
  },
  {
   "cell_type": "markdown",
   "id": "aa13fff6",
   "metadata": {},
   "source": [
    "We now need to check the datatypes of each of the columns:"
   ]
  },
  {
   "cell_type": "code",
   "execution_count": 13,
   "id": "83fdb188",
   "metadata": {},
   "outputs": [
    {
     "data": {
      "text/plain": [
       "LOCATION     object\n",
       "TIME         object\n",
       "Value       float64\n",
       "dtype: object"
      ]
     },
     "execution_count": 13,
     "metadata": {},
     "output_type": "execute_result"
    }
   ],
   "source": [
    "investment.dtypes"
   ]
  },
  {
   "cell_type": "markdown",
   "id": "84bf1ae0",
   "metadata": {},
   "source": [
    "We want `LOCATION`, `MEASURE` and `TIME` to be strings, so we make those changes in the dataframe."
   ]
  },
  {
   "cell_type": "code",
   "execution_count": 14,
   "id": "79dc3ad0",
   "metadata": {},
   "outputs": [],
   "source": [
    "investment['LOCATION']= investment['LOCATION'].astype('string')\n",
    "investment['TIME']= investment['TIME'].astype('string')"
   ]
  },
  {
   "cell_type": "markdown",
   "id": "a29cc7de",
   "metadata": {},
   "source": [
    "Now, our datatypes are:"
   ]
  },
  {
   "cell_type": "code",
   "execution_count": 15,
   "id": "8ed25b7f",
   "metadata": {},
   "outputs": [
    {
     "data": {
      "text/plain": [
       "LOCATION     string\n",
       "TIME         string\n",
       "Value       float64\n",
       "dtype: object"
      ]
     },
     "execution_count": 15,
     "metadata": {},
     "output_type": "execute_result"
    }
   ],
   "source": [
    "investment.dtypes"
   ]
  },
  {
   "cell_type": "markdown",
   "id": "ae2ee6f1",
   "metadata": {},
   "source": [
    "We need to ensure that all our data is present, so we check for any null values in our columns."
   ]
  },
  {
   "cell_type": "code",
   "execution_count": 16,
   "id": "73b386a2",
   "metadata": {},
   "outputs": [
    {
     "data": {
      "text/plain": [
       "LOCATION    0\n",
       "TIME        0\n",
       "Value       0\n",
       "dtype: int64"
      ]
     },
     "execution_count": 16,
     "metadata": {},
     "output_type": "execute_result"
    }
   ],
   "source": [
    "investment.isna().sum()"
   ]
  },
  {
   "cell_type": "markdown",
   "id": "d6d8cb9b",
   "metadata": {},
   "source": [
    "The shape our our final data looks like this:"
   ]
  },
  {
   "cell_type": "code",
   "execution_count": 17,
   "id": "7c8fb328",
   "metadata": {},
   "outputs": [
    {
     "data": {
      "text/plain": [
       "(2635, 3)"
      ]
     },
     "execution_count": 17,
     "metadata": {},
     "output_type": "execute_result"
    }
   ],
   "source": [
    "investment.shape"
   ]
  },
  {
   "cell_type": "markdown",
   "id": "70362b89",
   "metadata": {},
   "source": [
    "We now need to check if we are missing any data. Fot all unique values of `LOCATION` in our dataframe, we perform an analysis to find the first year that their data is available from, the last year that the data is available for, and any missing years between this range."
   ]
  },
  {
   "cell_type": "code",
   "execution_count": 18,
   "id": "b17dd017",
   "metadata": {},
   "outputs": [
    {
     "name": "stdout",
     "output_type": "stream",
     "text": [
      "Country =  AUS Minimum Year =  1960 Maximum Year =  2021 Missing Years =  []\n",
      "Country =  AUT Minimum Year =  1970 Maximum Year =  2022 Missing Years =  []\n",
      "Country =  BEL Minimum Year =  1970 Maximum Year =  2022 Missing Years =  []\n",
      "Country =  CAN Minimum Year =  1961 Maximum Year =  2022 Missing Years =  []\n",
      "Country =  CZE Minimum Year =  1990 Maximum Year =  2022 Missing Years =  []\n",
      "Country =  DNK Minimum Year =  1966 Maximum Year =  2022 Missing Years =  []\n",
      "Country =  FIN Minimum Year =  1970 Maximum Year =  2022 Missing Years =  []\n",
      "Country =  FRA Minimum Year =  1960 Maximum Year =  2022 Missing Years =  []\n",
      "Country =  DEU Minimum Year =  1970 Maximum Year =  2022 Missing Years =  []\n",
      "Country =  GRC Minimum Year =  1960 Maximum Year =  2022 Missing Years =  []\n",
      "Country =  HUN Minimum Year =  1991 Maximum Year =  2022 Missing Years =  []\n",
      "Country =  ISL Minimum Year =  1970 Maximum Year =  2021 Missing Years =  []\n",
      "Country =  IRL Minimum Year =  1970 Maximum Year =  2022 Missing Years =  []\n",
      "Country =  ITA Minimum Year =  1970 Maximum Year =  2022 Missing Years =  []\n",
      "Country =  JPN Minimum Year =  1970 Maximum Year =  2021 Missing Years =  []\n",
      "Country =  KOR Minimum Year =  1970 Maximum Year =  2021 Missing Years =  []\n",
      "Country =  LUX Minimum Year =  1970 Maximum Year =  2022 Missing Years =  []\n",
      "Country =  MEX Minimum Year =  1970 Maximum Year =  2021 Missing Years =  []\n",
      "Country =  NLD Minimum Year =  1969 Maximum Year =  2022 Missing Years =  []\n",
      "Country =  NZL Minimum Year =  1970 Maximum Year =  2021 Missing Years =  []\n",
      "Country =  NOR Minimum Year =  1970 Maximum Year =  2022 Missing Years =  []\n",
      "Country =  POL Minimum Year =  1990 Maximum Year =  2022 Missing Years =  []\n",
      "Country =  PRT Minimum Year =  1970 Maximum Year =  2022 Missing Years =  []\n",
      "Country =  SVK Minimum Year =  1992 Maximum Year =  2022 Missing Years =  []\n",
      "Country =  ESP Minimum Year =  1970 Maximum Year =  2022 Missing Years =  []\n",
      "Country =  SWE Minimum Year =  1960 Maximum Year =  2022 Missing Years =  []\n",
      "Country =  CHE Minimum Year =  1970 Maximum Year =  2022 Missing Years =  []\n",
      "Country =  TUR Minimum Year =  1970 Maximum Year =  2021 Missing Years =  []\n",
      "Country =  GBR Minimum Year =  1970 Maximum Year =  2022 Missing Years =  []\n",
      "Country =  USA Minimum Year =  1972 Maximum Year =  2021 Missing Years =  []\n",
      "Country =  CHL Minimum Year =  1986 Maximum Year =  2021 Missing Years =  []\n",
      "Country =  CHN Minimum Year =  1970 Maximum Year =  2021 Missing Years =  []\n",
      "Country =  COL Minimum Year =  1975 Maximum Year =  2021 Missing Years =  []\n",
      "Country =  EST Minimum Year =  1993 Maximum Year =  2022 Missing Years =  []\n",
      "Country =  IND Minimum Year =  1970 Maximum Year =  2019 Missing Years =  []\n",
      "Country =  IDN Minimum Year =  1993 Maximum Year =  2022 Missing Years =  []\n",
      "Country =  ISR Minimum Year =  1977 Maximum Year =  2021 Missing Years =  []\n",
      "Country =  RUS Minimum Year =  1995 Maximum Year =  2019 Missing Years =  []\n",
      "Country =  SVN Minimum Year =  1990 Maximum Year =  2022 Missing Years =  []\n",
      "Country =  ZAF Minimum Year =  1970 Maximum Year =  2020 Missing Years =  []\n",
      "Country =  DEW Minimum Year =  1970 Maximum Year =  1991 Missing Years =  []\n",
      "Country =  OECD Minimum Year =  1995 Maximum Year =  2021 Missing Years =  []\n",
      "Country =  OECDE Minimum Year =  1995 Maximum Year =  2021 Missing Years =  []\n",
      "Country =  LVA Minimum Year =  1995 Maximum Year =  2022 Missing Years =  []\n",
      "Country =  BRA Minimum Year =  1995 Maximum Year =  2019 Missing Years =  []\n",
      "Country =  LTU Minimum Year =  1995 Maximum Year =  2022 Missing Years =  []\n",
      "Country =  SAU Minimum Year =  1970 Maximum Year =  2021 Missing Years =  []\n",
      "Country =  EA19 Minimum Year =  1995 Maximum Year =  2022 Missing Years =  []\n",
      "Country =  ARG Minimum Year =  2004 Maximum Year =  2021 Missing Years =  []\n",
      "Country =  CRI Minimum Year =  1991 Maximum Year =  2021 Missing Years =  []\n",
      "Country =  BGR Minimum Year =  1995 Maximum Year =  2021 Missing Years =  []\n",
      "Country =  HRV Minimum Year =  1995 Maximum Year =  2021 Missing Years =  []\n",
      "Country =  CYP Minimum Year =  1995 Maximum Year =  2021 Missing Years =  []\n",
      "Country =  MLT Minimum Year =  1995 Maximum Year =  2021 Missing Years =  []\n",
      "Country =  ROU Minimum Year =  1995 Maximum Year =  2021 Missing Years =  []\n",
      "Country =  MKD Minimum Year =  2000 Maximum Year =  2020 Missing Years =  []\n",
      "Country =  ZMB Minimum Year =  2006 Maximum Year =  2020 Missing Years =  []\n",
      "Country =  HKG Minimum Year =  1990 Maximum Year =  2021 Missing Years =  []\n",
      "Country =  MDG Minimum Year =  2007 Maximum Year =  2020 Missing Years =  []\n",
      "Country =  MAR Minimum Year =  2007 Maximum Year =  2021 Missing Years =  []\n",
      "Country =  SGP Minimum Year =  1990 Maximum Year =  2020 Missing Years =  []\n",
      "Country =  EU27_2020 Minimum Year =  1995 Maximum Year =  2022 Missing Years =  []\n",
      "Country =  ALB Minimum Year =  1997 Maximum Year =  2021 Missing Years =  []\n",
      "Country =  SRB Minimum Year =  2000 Maximum Year =  2021 Missing Years =  []\n",
      "Country =  GEO Minimum Year =  2010 Maximum Year =  2020 Missing Years =  []\n",
      "Country =  CMR Minimum Year =  1993 Maximum Year =  2020 Missing Years =  []\n",
      "Country =  SEN Minimum Year =  1999 Maximum Year =  2020 Missing Years =  []\n",
      "Highest Min =  2010  Country =  GEO\n",
      "Lowest Max =  1991  Country =  DEW\n"
     ]
    }
   ],
   "source": [
    "highestmin = 1\n",
    "highestmincountry = ''\n",
    "lowestmax = 9999\n",
    "lowestmaxcountry = ''\n",
    "\n",
    "for country in investment.LOCATION.unique():\n",
    "    tempdf = investment[investment['LOCATION']==country]\n",
    "    minyear = int(tempdf.TIME.min())\n",
    "    if(highestmin<minyear):\n",
    "        highestmin=minyear\n",
    "        highestmincountry = country\n",
    "        \n",
    "    maxyear = int(tempdf.TIME.max())\n",
    "    if(lowestmax>maxyear):\n",
    "        lowestmax=maxyear\n",
    "        lowestmaxcountry=country\n",
    "    missingyear = []\n",
    "    for i in range(minyear,maxyear):\n",
    "        if((tempdf['TIME']==str(i)).any() == False):\n",
    "            tempseries = pd.Series([str(i)])\n",
    "            missingyear = pd.concat([missingyear,tempseries])\n",
    "            missingyear.reset_index(inplace=True, drop = True)\n",
    "    \n",
    "    print('Country = ', country, 'Minimum Year = ',minyear, 'Maximum Year = ', maxyear, 'Missing Years = ', missingyear)\n",
    "    \n",
    "print('Highest Min = ', highestmin, ' Country = ', highestmincountry)\n",
    "print('Lowest Max = ', lowestmax, ' Country = ', lowestmaxcountry)"
   ]
  },
  {
   "cell_type": "markdown",
   "id": "5c86b1ca",
   "metadata": {},
   "source": [
    "We can now export the data to our `temp` directiry, which contains all the cleaned datasets."
   ]
  },
  {
   "cell_type": "code",
   "execution_count": 19,
   "id": "45d3a286",
   "metadata": {},
   "outputs": [],
   "source": [
    "from pathlib import Path \n",
    "filepath = Path('../data/temp/investment_gfcf_cleaned.csv')\n",
    "investment.to_csv(filepath, mode='wb',index=False)"
   ]
  }
 ],
 "metadata": {
  "kernelspec": {
   "display_name": "Python 3 (ipykernel)",
   "language": "python",
   "name": "python3"
  },
  "language_info": {
   "codemirror_mode": {
    "name": "ipython",
    "version": 3
   },
   "file_extension": ".py",
   "mimetype": "text/x-python",
   "name": "python",
   "nbconvert_exporter": "python",
   "pygments_lexer": "ipython3",
   "version": "3.9.16"
  },
  "vscode": {
   "interpreter": {
    "hash": "31f2aee4e71d21fbe5cf8b01ff0e069b9275f58929596ceb00d14d90e3e16cd6"
   }
  }
 },
 "nbformat": 4,
 "nbformat_minor": 5
}
