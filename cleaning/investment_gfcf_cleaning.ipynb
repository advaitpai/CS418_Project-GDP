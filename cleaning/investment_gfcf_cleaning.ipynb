{
 "cells": [
  {
   "cell_type": "markdown",
   "id": "f6c58848",
   "metadata": {},
   "source": [
    "## Investment"
   ]
  },
  {
   "cell_type": "markdown",
   "id": "501ab844",
   "metadata": {},
   "source": [
    "This CSV file contains the data for the investments made in each country. We load the CSV file from the uncleaned directory and have an initial look at it."
   ]
  },
  {
   "cell_type": "code",
   "execution_count": 1,
   "id": "87c52d63",
   "metadata": {},
   "outputs": [],
   "source": [
    "import pandas as pd\n",
    "import numpy as np"
   ]
  },
  {
   "cell_type": "code",
   "execution_count": 2,
   "id": "f9deb511",
   "metadata": {},
   "outputs": [
    {
     "name": "stdout",
     "output_type": "stream",
     "text": [
      "(24597, 8)\n"
     ]
    },
    {
     "data": {
      "text/html": [
       "<div>\n",
       "<style scoped>\n",
       "    .dataframe tbody tr th:only-of-type {\n",
       "        vertical-align: middle;\n",
       "    }\n",
       "\n",
       "    .dataframe tbody tr th {\n",
       "        vertical-align: top;\n",
       "    }\n",
       "\n",
       "    .dataframe thead th {\n",
       "        text-align: right;\n",
       "    }\n",
       "</style>\n",
       "<table border=\"1\" class=\"dataframe\">\n",
       "  <thead>\n",
       "    <tr style=\"text-align: right;\">\n",
       "      <th></th>\n",
       "      <th>LOCATION</th>\n",
       "      <th>INDICATOR</th>\n",
       "      <th>SUBJECT</th>\n",
       "      <th>MEASURE</th>\n",
       "      <th>FREQUENCY</th>\n",
       "      <th>TIME</th>\n",
       "      <th>Value</th>\n",
       "      <th>Flag Codes</th>\n",
       "    </tr>\n",
       "  </thead>\n",
       "  <tbody>\n",
       "    <tr>\n",
       "      <th>0</th>\n",
       "      <td>AUS</td>\n",
       "      <td>GFCF</td>\n",
       "      <td>TOT</td>\n",
       "      <td>AGRWTH</td>\n",
       "      <td>A</td>\n",
       "      <td>1960</td>\n",
       "      <td>5.675337</td>\n",
       "      <td>NaN</td>\n",
       "    </tr>\n",
       "    <tr>\n",
       "      <th>1</th>\n",
       "      <td>AUS</td>\n",
       "      <td>GFCF</td>\n",
       "      <td>TOT</td>\n",
       "      <td>AGRWTH</td>\n",
       "      <td>A</td>\n",
       "      <td>1961</td>\n",
       "      <td>1.774823</td>\n",
       "      <td>NaN</td>\n",
       "    </tr>\n",
       "    <tr>\n",
       "      <th>2</th>\n",
       "      <td>AUS</td>\n",
       "      <td>GFCF</td>\n",
       "      <td>TOT</td>\n",
       "      <td>AGRWTH</td>\n",
       "      <td>A</td>\n",
       "      <td>1962</td>\n",
       "      <td>6.253368</td>\n",
       "      <td>NaN</td>\n",
       "    </tr>\n",
       "    <tr>\n",
       "      <th>3</th>\n",
       "      <td>AUS</td>\n",
       "      <td>GFCF</td>\n",
       "      <td>TOT</td>\n",
       "      <td>AGRWTH</td>\n",
       "      <td>A</td>\n",
       "      <td>1963</td>\n",
       "      <td>9.366632</td>\n",
       "      <td>NaN</td>\n",
       "    </tr>\n",
       "    <tr>\n",
       "      <th>4</th>\n",
       "      <td>AUS</td>\n",
       "      <td>GFCF</td>\n",
       "      <td>TOT</td>\n",
       "      <td>AGRWTH</td>\n",
       "      <td>A</td>\n",
       "      <td>1964</td>\n",
       "      <td>7.482981</td>\n",
       "      <td>NaN</td>\n",
       "    </tr>\n",
       "  </tbody>\n",
       "</table>\n",
       "</div>"
      ],
      "text/plain": [
       "  LOCATION INDICATOR SUBJECT MEASURE FREQUENCY  TIME     Value Flag Codes\n",
       "0      AUS      GFCF     TOT  AGRWTH         A  1960  5.675337        NaN\n",
       "1      AUS      GFCF     TOT  AGRWTH         A  1961  1.774823        NaN\n",
       "2      AUS      GFCF     TOT  AGRWTH         A  1962  6.253368        NaN\n",
       "3      AUS      GFCF     TOT  AGRWTH         A  1963  9.366632        NaN\n",
       "4      AUS      GFCF     TOT  AGRWTH         A  1964  7.482981        NaN"
      ]
     },
     "execution_count": 2,
     "metadata": {},
     "output_type": "execute_result"
    }
   ],
   "source": [
    "investment = pd.read_csv('../data/uncleaned/investment_gfcf.csv')\n",
    "print(investment.shape)\n",
    "investment.head()"
   ]
  },
  {
   "cell_type": "markdown",
   "id": "200bad12",
   "metadata": {},
   "source": [
    "We need to check what types of values are present in each of the `MEASURE`, `FREQUENCY` and `SUBJECT` columns."
   ]
  },
  {
   "cell_type": "code",
   "execution_count": 3,
   "id": "f89ecc06",
   "metadata": {},
   "outputs": [
    {
     "data": {
      "text/plain": [
       "array(['AGRWTH', 'MLN_USD', 'QGRWTH'], dtype=object)"
      ]
     },
     "execution_count": 3,
     "metadata": {},
     "output_type": "execute_result"
    }
   ],
   "source": [
    "investment.MEASURE.unique()"
   ]
  },
  {
   "cell_type": "code",
   "execution_count": 4,
   "id": "100c2af3",
   "metadata": {},
   "outputs": [
    {
     "data": {
      "text/plain": [
       "array(['A', 'Q'], dtype=object)"
      ]
     },
     "execution_count": 4,
     "metadata": {},
     "output_type": "execute_result"
    }
   ],
   "source": [
    "investment.FREQUENCY.unique()"
   ]
  },
  {
   "cell_type": "code",
   "execution_count": 5,
   "id": "4b1b42cd",
   "metadata": {},
   "outputs": [
    {
     "data": {
      "text/plain": [
       "array(['TOT'], dtype=object)"
      ]
     },
     "execution_count": 5,
     "metadata": {},
     "output_type": "execute_result"
    }
   ],
   "source": [
    "investment.SUBJECT.unique()"
   ]
  },
  {
   "cell_type": "markdown",
   "id": "bf8c1160",
   "metadata": {},
   "source": [
    "To start with, we can drop the column `Flag Codes` since it has a lot of NaN values, and is not of any use to us. "
   ]
  },
  {
   "cell_type": "code",
   "execution_count": 6,
   "id": "997129c9",
   "metadata": {},
   "outputs": [],
   "source": [
    "investment = investment.drop(['Flag Codes'], axis=1)"
   ]
  },
  {
   "cell_type": "markdown",
   "id": "d08b2f60",
   "metadata": {},
   "source": [
    "For `FREQUENCY`, we only need the data annually, so we drop our rows with `FREQUENCY==Q`"
   ]
  },
  {
   "cell_type": "code",
   "execution_count": 7,
   "id": "4c539017",
   "metadata": {},
   "outputs": [],
   "source": [
    "investment = investment[(investment['FREQUENCY']=='A')]"
   ]
  },
  {
   "cell_type": "markdown",
   "id": "8013e99f",
   "metadata": {},
   "source": [
    "For `MEASURE`, we are only interested in the values represented in Millions of USD, so we only keep the rows that have `MEASURE==MLN_USD`"
   ]
  },
  {
   "cell_type": "code",
   "execution_count": 8,
   "id": "4d8285e8",
   "metadata": {},
   "outputs": [],
   "source": [
    "investment = investment[(investment['MEASURE']=='MLN_USD')]"
   ]
  },
  {
   "cell_type": "code",
   "execution_count": 9,
   "id": "ba83b994",
   "metadata": {},
   "outputs": [
    {
     "data": {
      "text/html": [
       "<div>\n",
       "<style scoped>\n",
       "    .dataframe tbody tr th:only-of-type {\n",
       "        vertical-align: middle;\n",
       "    }\n",
       "\n",
       "    .dataframe tbody tr th {\n",
       "        vertical-align: top;\n",
       "    }\n",
       "\n",
       "    .dataframe thead th {\n",
       "        text-align: right;\n",
       "    }\n",
       "</style>\n",
       "<table border=\"1\" class=\"dataframe\">\n",
       "  <thead>\n",
       "    <tr style=\"text-align: right;\">\n",
       "      <th></th>\n",
       "      <th>LOCATION</th>\n",
       "      <th>INDICATOR</th>\n",
       "      <th>SUBJECT</th>\n",
       "      <th>MEASURE</th>\n",
       "      <th>FREQUENCY</th>\n",
       "      <th>TIME</th>\n",
       "      <th>Value</th>\n",
       "    </tr>\n",
       "  </thead>\n",
       "  <tbody>\n",
       "    <tr>\n",
       "      <th>62</th>\n",
       "      <td>AUS</td>\n",
       "      <td>GFCF</td>\n",
       "      <td>TOT</td>\n",
       "      <td>MLN_USD</td>\n",
       "      <td>A</td>\n",
       "      <td>1960</td>\n",
       "      <td>7594.023</td>\n",
       "    </tr>\n",
       "    <tr>\n",
       "      <th>63</th>\n",
       "      <td>AUS</td>\n",
       "      <td>GFCF</td>\n",
       "      <td>TOT</td>\n",
       "      <td>MLN_USD</td>\n",
       "      <td>A</td>\n",
       "      <td>1961</td>\n",
       "      <td>7555.709</td>\n",
       "    </tr>\n",
       "    <tr>\n",
       "      <th>64</th>\n",
       "      <td>AUS</td>\n",
       "      <td>GFCF</td>\n",
       "      <td>TOT</td>\n",
       "      <td>MLN_USD</td>\n",
       "      <td>A</td>\n",
       "      <td>1962</td>\n",
       "      <td>8263.204</td>\n",
       "    </tr>\n",
       "    <tr>\n",
       "      <th>65</th>\n",
       "      <td>AUS</td>\n",
       "      <td>GFCF</td>\n",
       "      <td>TOT</td>\n",
       "      <td>MLN_USD</td>\n",
       "      <td>A</td>\n",
       "      <td>1963</td>\n",
       "      <td>9144.787</td>\n",
       "    </tr>\n",
       "    <tr>\n",
       "      <th>66</th>\n",
       "      <td>AUS</td>\n",
       "      <td>GFCF</td>\n",
       "      <td>TOT</td>\n",
       "      <td>MLN_USD</td>\n",
       "      <td>A</td>\n",
       "      <td>1964</td>\n",
       "      <td>10182.874</td>\n",
       "    </tr>\n",
       "  </tbody>\n",
       "</table>\n",
       "</div>"
      ],
      "text/plain": [
       "   LOCATION INDICATOR SUBJECT  MEASURE FREQUENCY  TIME      Value\n",
       "62      AUS      GFCF     TOT  MLN_USD         A  1960   7594.023\n",
       "63      AUS      GFCF     TOT  MLN_USD         A  1961   7555.709\n",
       "64      AUS      GFCF     TOT  MLN_USD         A  1962   8263.204\n",
       "65      AUS      GFCF     TOT  MLN_USD         A  1963   9144.787\n",
       "66      AUS      GFCF     TOT  MLN_USD         A  1964  10182.874"
      ]
     },
     "execution_count": 9,
     "metadata": {},
     "output_type": "execute_result"
    }
   ],
   "source": [
    "investment.head()"
   ]
  },
  {
   "cell_type": "markdown",
   "id": "444cef86",
   "metadata": {},
   "source": [
    "Now, we check the total unique values for every column in our dataframe."
   ]
  },
  {
   "cell_type": "code",
   "execution_count": 10,
   "id": "84182c18",
   "metadata": {},
   "outputs": [
    {
     "data": {
      "text/plain": [
       "LOCATION       67\n",
       "INDICATOR       1\n",
       "SUBJECT         1\n",
       "MEASURE         1\n",
       "FREQUENCY       1\n",
       "TIME           63\n",
       "Value        2635\n",
       "dtype: int64"
      ]
     },
     "execution_count": 10,
     "metadata": {},
     "output_type": "execute_result"
    }
   ],
   "source": [
    "investment.nunique()"
   ]
  },
  {
   "cell_type": "markdown",
   "id": "81c752c5",
   "metadata": {},
   "source": [
    "We can drop the columns `INDICATOR`, `SUBJECT`, `FREQUENCY` and `MEASURE`, since we don't need them anymore. We also reset our index, since we have deleted a lot of rows."
   ]
  },
  {
   "cell_type": "code",
   "execution_count": 11,
   "id": "02245cef",
   "metadata": {},
   "outputs": [],
   "source": [
    "investment = investment.drop(['INDICATOR','SUBJECT','FREQUENCY','MEASURE'], axis=1)\n",
    "investment.reset_index(drop=True, inplace=True)"
   ]
  },
  {
   "cell_type": "markdown",
   "id": "593b34a5",
   "metadata": {},
   "source": [
    "After these changes, our table looks like this:"
   ]
  },
  {
   "cell_type": "code",
   "execution_count": 12,
   "id": "75771127",
   "metadata": {},
   "outputs": [
    {
     "data": {
      "text/html": [
       "<div>\n",
       "<style scoped>\n",
       "    .dataframe tbody tr th:only-of-type {\n",
       "        vertical-align: middle;\n",
       "    }\n",
       "\n",
       "    .dataframe tbody tr th {\n",
       "        vertical-align: top;\n",
       "    }\n",
       "\n",
       "    .dataframe thead th {\n",
       "        text-align: right;\n",
       "    }\n",
       "</style>\n",
       "<table border=\"1\" class=\"dataframe\">\n",
       "  <thead>\n",
       "    <tr style=\"text-align: right;\">\n",
       "      <th></th>\n",
       "      <th>LOCATION</th>\n",
       "      <th>TIME</th>\n",
       "      <th>Value</th>\n",
       "    </tr>\n",
       "  </thead>\n",
       "  <tbody>\n",
       "    <tr>\n",
       "      <th>0</th>\n",
       "      <td>AUS</td>\n",
       "      <td>1960</td>\n",
       "      <td>7594.023</td>\n",
       "    </tr>\n",
       "    <tr>\n",
       "      <th>1</th>\n",
       "      <td>AUS</td>\n",
       "      <td>1961</td>\n",
       "      <td>7555.709</td>\n",
       "    </tr>\n",
       "    <tr>\n",
       "      <th>2</th>\n",
       "      <td>AUS</td>\n",
       "      <td>1962</td>\n",
       "      <td>8263.204</td>\n",
       "    </tr>\n",
       "    <tr>\n",
       "      <th>3</th>\n",
       "      <td>AUS</td>\n",
       "      <td>1963</td>\n",
       "      <td>9144.787</td>\n",
       "    </tr>\n",
       "    <tr>\n",
       "      <th>4</th>\n",
       "      <td>AUS</td>\n",
       "      <td>1964</td>\n",
       "      <td>10182.874</td>\n",
       "    </tr>\n",
       "  </tbody>\n",
       "</table>\n",
       "</div>"
      ],
      "text/plain": [
       "  LOCATION  TIME      Value\n",
       "0      AUS  1960   7594.023\n",
       "1      AUS  1961   7555.709\n",
       "2      AUS  1962   8263.204\n",
       "3      AUS  1963   9144.787\n",
       "4      AUS  1964  10182.874"
      ]
     },
     "execution_count": 12,
     "metadata": {},
     "output_type": "execute_result"
    }
   ],
   "source": [
    "investment.head()"
   ]
  },
  {
   "cell_type": "markdown",
   "id": "aa13fff6",
   "metadata": {},
   "source": [
    "We now need to check the datatypes of each of the columns:"
   ]
  },
  {
   "cell_type": "code",
   "execution_count": 13,
   "id": "83fdb188",
   "metadata": {},
   "outputs": [
    {
     "data": {
      "text/plain": [
       "LOCATION     object\n",
       "TIME         object\n",
       "Value       float64\n",
       "dtype: object"
      ]
     },
     "execution_count": 13,
     "metadata": {},
     "output_type": "execute_result"
    }
   ],
   "source": [
    "investment.dtypes"
   ]
  },
  {
   "cell_type": "markdown",
   "id": "84bf1ae0",
   "metadata": {},
   "source": [
    "We want `LOCATION`, `MEASURE` and `TIME` to be strings, so we make those changes in the dataframe."
   ]
  },
  {
   "cell_type": "code",
   "execution_count": 14,
   "id": "79dc3ad0",
   "metadata": {},
   "outputs": [
    {
     "ename": "KeyError",
     "evalue": "'MEASURE'",
     "output_type": "error",
     "traceback": [
      "\u001b[1;31m---------------------------------------------------------------------------\u001b[0m",
      "\u001b[1;31mKeyError\u001b[0m                                  Traceback (most recent call last)",
      "\u001b[1;32m~\\anaconda3\\envs\\CS418\\lib\\site-packages\\pandas\\core\\indexes\\base.py\u001b[0m in \u001b[0;36mget_loc\u001b[1;34m(self, key, method, tolerance)\u001b[0m\n\u001b[0;32m   3801\u001b[0m             \u001b[1;32mtry\u001b[0m\u001b[1;33m:\u001b[0m\u001b[1;33m\u001b[0m\u001b[1;33m\u001b[0m\u001b[0m\n\u001b[1;32m-> 3802\u001b[1;33m                 \u001b[1;32mreturn\u001b[0m \u001b[0mself\u001b[0m\u001b[1;33m.\u001b[0m\u001b[0m_engine\u001b[0m\u001b[1;33m.\u001b[0m\u001b[0mget_loc\u001b[0m\u001b[1;33m(\u001b[0m\u001b[0mcasted_key\u001b[0m\u001b[1;33m)\u001b[0m\u001b[1;33m\u001b[0m\u001b[1;33m\u001b[0m\u001b[0m\n\u001b[0m\u001b[0;32m   3803\u001b[0m             \u001b[1;32mexcept\u001b[0m \u001b[0mKeyError\u001b[0m \u001b[1;32mas\u001b[0m \u001b[0merr\u001b[0m\u001b[1;33m:\u001b[0m\u001b[1;33m\u001b[0m\u001b[1;33m\u001b[0m\u001b[0m\n",
      "\u001b[1;32m~\\anaconda3\\envs\\CS418\\lib\\site-packages\\pandas\\_libs\\index.pyx\u001b[0m in \u001b[0;36mpandas._libs.index.IndexEngine.get_loc\u001b[1;34m()\u001b[0m\n",
      "\u001b[1;32m~\\anaconda3\\envs\\CS418\\lib\\site-packages\\pandas\\_libs\\index.pyx\u001b[0m in \u001b[0;36mpandas._libs.index.IndexEngine.get_loc\u001b[1;34m()\u001b[0m\n",
      "\u001b[1;32mpandas\\_libs\\hashtable_class_helper.pxi\u001b[0m in \u001b[0;36mpandas._libs.hashtable.PyObjectHashTable.get_item\u001b[1;34m()\u001b[0m\n",
      "\u001b[1;32mpandas\\_libs\\hashtable_class_helper.pxi\u001b[0m in \u001b[0;36mpandas._libs.hashtable.PyObjectHashTable.get_item\u001b[1;34m()\u001b[0m\n",
      "\u001b[1;31mKeyError\u001b[0m: 'MEASURE'",
      "\nThe above exception was the direct cause of the following exception:\n",
      "\u001b[1;31mKeyError\u001b[0m                                  Traceback (most recent call last)",
      "\u001b[1;32m~\\AppData\\Local\\Temp\\ipykernel_30884\\2920013061.py\u001b[0m in \u001b[0;36m<module>\u001b[1;34m\u001b[0m\n\u001b[0;32m      1\u001b[0m \u001b[0minvestment\u001b[0m\u001b[1;33m[\u001b[0m\u001b[1;34m'LOCATION'\u001b[0m\u001b[1;33m]\u001b[0m\u001b[1;33m=\u001b[0m \u001b[0minvestment\u001b[0m\u001b[1;33m[\u001b[0m\u001b[1;34m'LOCATION'\u001b[0m\u001b[1;33m]\u001b[0m\u001b[1;33m.\u001b[0m\u001b[0mastype\u001b[0m\u001b[1;33m(\u001b[0m\u001b[1;34m'string'\u001b[0m\u001b[1;33m)\u001b[0m\u001b[1;33m\u001b[0m\u001b[1;33m\u001b[0m\u001b[0m\n\u001b[1;32m----> 2\u001b[1;33m \u001b[0minvestment\u001b[0m\u001b[1;33m[\u001b[0m\u001b[1;34m'MEASURE'\u001b[0m\u001b[1;33m]\u001b[0m\u001b[1;33m=\u001b[0m \u001b[0minvestment\u001b[0m\u001b[1;33m[\u001b[0m\u001b[1;34m'MEASURE'\u001b[0m\u001b[1;33m]\u001b[0m\u001b[1;33m.\u001b[0m\u001b[0mastype\u001b[0m\u001b[1;33m(\u001b[0m\u001b[1;34m'string'\u001b[0m\u001b[1;33m)\u001b[0m\u001b[1;33m\u001b[0m\u001b[1;33m\u001b[0m\u001b[0m\n\u001b[0m\u001b[0;32m      3\u001b[0m \u001b[0minvestment\u001b[0m\u001b[1;33m[\u001b[0m\u001b[1;34m'TIME'\u001b[0m\u001b[1;33m]\u001b[0m\u001b[1;33m=\u001b[0m \u001b[0minvestment\u001b[0m\u001b[1;33m[\u001b[0m\u001b[1;34m'TIME'\u001b[0m\u001b[1;33m]\u001b[0m\u001b[1;33m.\u001b[0m\u001b[0mastype\u001b[0m\u001b[1;33m(\u001b[0m\u001b[1;34m'string'\u001b[0m\u001b[1;33m)\u001b[0m\u001b[1;33m\u001b[0m\u001b[1;33m\u001b[0m\u001b[0m\n",
      "\u001b[1;32m~\\anaconda3\\envs\\CS418\\lib\\site-packages\\pandas\\core\\frame.py\u001b[0m in \u001b[0;36m__getitem__\u001b[1;34m(self, key)\u001b[0m\n\u001b[0;32m   3805\u001b[0m             \u001b[1;32mif\u001b[0m \u001b[0mself\u001b[0m\u001b[1;33m.\u001b[0m\u001b[0mcolumns\u001b[0m\u001b[1;33m.\u001b[0m\u001b[0mnlevels\u001b[0m \u001b[1;33m>\u001b[0m \u001b[1;36m1\u001b[0m\u001b[1;33m:\u001b[0m\u001b[1;33m\u001b[0m\u001b[1;33m\u001b[0m\u001b[0m\n\u001b[0;32m   3806\u001b[0m                 \u001b[1;32mreturn\u001b[0m \u001b[0mself\u001b[0m\u001b[1;33m.\u001b[0m\u001b[0m_getitem_multilevel\u001b[0m\u001b[1;33m(\u001b[0m\u001b[0mkey\u001b[0m\u001b[1;33m)\u001b[0m\u001b[1;33m\u001b[0m\u001b[1;33m\u001b[0m\u001b[0m\n\u001b[1;32m-> 3807\u001b[1;33m             \u001b[0mindexer\u001b[0m \u001b[1;33m=\u001b[0m \u001b[0mself\u001b[0m\u001b[1;33m.\u001b[0m\u001b[0mcolumns\u001b[0m\u001b[1;33m.\u001b[0m\u001b[0mget_loc\u001b[0m\u001b[1;33m(\u001b[0m\u001b[0mkey\u001b[0m\u001b[1;33m)\u001b[0m\u001b[1;33m\u001b[0m\u001b[1;33m\u001b[0m\u001b[0m\n\u001b[0m\u001b[0;32m   3808\u001b[0m             \u001b[1;32mif\u001b[0m \u001b[0mis_integer\u001b[0m\u001b[1;33m(\u001b[0m\u001b[0mindexer\u001b[0m\u001b[1;33m)\u001b[0m\u001b[1;33m:\u001b[0m\u001b[1;33m\u001b[0m\u001b[1;33m\u001b[0m\u001b[0m\n\u001b[0;32m   3809\u001b[0m                 \u001b[0mindexer\u001b[0m \u001b[1;33m=\u001b[0m \u001b[1;33m[\u001b[0m\u001b[0mindexer\u001b[0m\u001b[1;33m]\u001b[0m\u001b[1;33m\u001b[0m\u001b[1;33m\u001b[0m\u001b[0m\n",
      "\u001b[1;32m~\\anaconda3\\envs\\CS418\\lib\\site-packages\\pandas\\core\\indexes\\base.py\u001b[0m in \u001b[0;36mget_loc\u001b[1;34m(self, key, method, tolerance)\u001b[0m\n\u001b[0;32m   3802\u001b[0m                 \u001b[1;32mreturn\u001b[0m \u001b[0mself\u001b[0m\u001b[1;33m.\u001b[0m\u001b[0m_engine\u001b[0m\u001b[1;33m.\u001b[0m\u001b[0mget_loc\u001b[0m\u001b[1;33m(\u001b[0m\u001b[0mcasted_key\u001b[0m\u001b[1;33m)\u001b[0m\u001b[1;33m\u001b[0m\u001b[1;33m\u001b[0m\u001b[0m\n\u001b[0;32m   3803\u001b[0m             \u001b[1;32mexcept\u001b[0m \u001b[0mKeyError\u001b[0m \u001b[1;32mas\u001b[0m \u001b[0merr\u001b[0m\u001b[1;33m:\u001b[0m\u001b[1;33m\u001b[0m\u001b[1;33m\u001b[0m\u001b[0m\n\u001b[1;32m-> 3804\u001b[1;33m                 \u001b[1;32mraise\u001b[0m \u001b[0mKeyError\u001b[0m\u001b[1;33m(\u001b[0m\u001b[0mkey\u001b[0m\u001b[1;33m)\u001b[0m \u001b[1;32mfrom\u001b[0m \u001b[0merr\u001b[0m\u001b[1;33m\u001b[0m\u001b[1;33m\u001b[0m\u001b[0m\n\u001b[0m\u001b[0;32m   3805\u001b[0m             \u001b[1;32mexcept\u001b[0m \u001b[0mTypeError\u001b[0m\u001b[1;33m:\u001b[0m\u001b[1;33m\u001b[0m\u001b[1;33m\u001b[0m\u001b[0m\n\u001b[0;32m   3806\u001b[0m                 \u001b[1;31m# If we have a listlike key, _check_indexing_error will raise\u001b[0m\u001b[1;33m\u001b[0m\u001b[1;33m\u001b[0m\u001b[0m\n",
      "\u001b[1;31mKeyError\u001b[0m: 'MEASURE'"
     ]
    }
   ],
   "source": [
    "investment['LOCATION']= investment['LOCATION'].astype('string')\n",
    "investment['MEASURE']= investment['MEASURE'].astype('string')\n",
    "investment['TIME']= investment['TIME'].astype('string')"
   ]
  },
  {
   "cell_type": "markdown",
   "id": "a29cc7de",
   "metadata": {},
   "source": [
    "Now, our datatypes are:"
   ]
  },
  {
   "cell_type": "code",
   "execution_count": null,
   "id": "8ed25b7f",
   "metadata": {},
   "outputs": [],
   "source": [
    "investment.dtypes"
   ]
  },
  {
   "cell_type": "markdown",
   "id": "ae2ee6f1",
   "metadata": {},
   "source": [
    "We need to ensure that all our data is present, so we check for any null values in our columns."
   ]
  },
  {
   "cell_type": "code",
   "execution_count": null,
   "id": "73b386a2",
   "metadata": {},
   "outputs": [],
   "source": [
    "investment.isna().sum()"
   ]
  },
  {
   "cell_type": "markdown",
   "id": "d6d8cb9b",
   "metadata": {},
   "source": [
    "The shape our our final data looks like this:"
   ]
  },
  {
   "cell_type": "code",
   "execution_count": null,
   "id": "7c8fb328",
   "metadata": {},
   "outputs": [],
   "source": [
    "investment.shape"
   ]
  },
  {
   "cell_type": "markdown",
   "id": "70362b89",
   "metadata": {},
   "source": [
    "We now need to check if we are missing any data. Fot all unique values of `LOCATION` in our dataframe, we perform an analysis to find the first year that their data is available from, the last year that the data is available for, and any missing years between this range."
   ]
  },
  {
   "cell_type": "code",
   "execution_count": null,
   "id": "b17dd017",
   "metadata": {},
   "outputs": [],
   "source": [
    "highestmin = 1\n",
    "highestmincountry = ''\n",
    "lowestmax = 9999\n",
    "lowestmaxcountry = ''\n",
    "\n",
    "for country in investment.LOCATION.unique():\n",
    "    tempdf = investment[investment['LOCATION']==country]\n",
    "    minyear = int(tempdf.TIME.min())\n",
    "    if(highestmin<minyear):\n",
    "        highestmin=minyear\n",
    "        highestmincountry = country\n",
    "        \n",
    "    maxyear = int(tempdf.TIME.max())\n",
    "    if(lowestmax>maxyear):\n",
    "        lowestmax=maxyear\n",
    "        lowestmaxcountry=country\n",
    "    missingyear = []\n",
    "    for i in range(minyear,maxyear):\n",
    "        if((tempdf['TIME']==str(i)).any() == False):\n",
    "            tempseries = pd.Series([str(i)])\n",
    "            missingyear = pd.concat([missingyear,tempseries])\n",
    "            missingyear.reset_index(inplace=True, drop = True)\n",
    "    \n",
    "    print('Country = ', country, 'Minimum Year = ',minyear, 'Maximum Year = ', maxyear, 'Missing Years = ', missingyear)\n",
    "    \n",
    "print('Highest Min = ', highestmin, ' Country = ', highestmincountry)\n",
    "print('Lowest Max = ', lowestmax, ' Country = ', lowestmaxcountry)"
   ]
  },
  {
   "cell_type": "markdown",
   "id": "5c86b1ca",
   "metadata": {},
   "source": [
    "We can now export the data to our `temp` directiry, which contains all the cleaned datasets."
   ]
  },
  {
   "cell_type": "code",
   "execution_count": null,
   "id": "45d3a286",
   "metadata": {},
   "outputs": [],
   "source": [
    "from pathlib import Path \n",
    "filepath = Path('../data/temp/investment_gfcf_cleaned.csv')\n",
    "investment.to_csv(filepath, mode='wb',index=False)"
   ]
  }
 ],
 "metadata": {
  "kernelspec": {
   "display_name": "Python 3 (ipykernel)",
   "language": "python",
   "name": "python3"
  },
  "language_info": {
   "codemirror_mode": {
    "name": "ipython",
    "version": 3
   },
   "file_extension": ".py",
   "mimetype": "text/x-python",
   "name": "python",
   "nbconvert_exporter": "python",
   "pygments_lexer": "ipython3",
   "version": "3.9.16"
  },
  "vscode": {
   "interpreter": {
    "hash": "31f2aee4e71d21fbe5cf8b01ff0e069b9275f58929596ceb00d14d90e3e16cd6"
   }
  }
 },
 "nbformat": 4,
 "nbformat_minor": 5
}
