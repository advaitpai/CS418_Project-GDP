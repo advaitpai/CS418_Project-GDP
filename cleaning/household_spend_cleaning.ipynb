{
 "cells": [
  {
   "cell_type": "code",
   "execution_count": 7,
   "id": "70e28806",
   "metadata": {},
   "outputs": [],
   "source": [
    "import pandas as pd"
   ]
  },
  {
   "cell_type": "code",
   "execution_count": 8,
   "id": "a198309b",
   "metadata": {},
   "outputs": [],
   "source": [
    "house_spend_df = pd.read_csv('../data/household_spend.csv')"
   ]
  },
  {
   "cell_type": "code",
   "execution_count": 9,
   "id": "fdbb3459",
   "metadata": {},
   "outputs": [
    {
     "data": {
      "text/html": [
       "<div>\n",
       "<style scoped>\n",
       "    .dataframe tbody tr th:only-of-type {\n",
       "        vertical-align: middle;\n",
       "    }\n",
       "\n",
       "    .dataframe tbody tr th {\n",
       "        vertical-align: top;\n",
       "    }\n",
       "\n",
       "    .dataframe thead th {\n",
       "        text-align: right;\n",
       "    }\n",
       "</style>\n",
       "<table border=\"1\" class=\"dataframe\">\n",
       "  <thead>\n",
       "    <tr style=\"text-align: right;\">\n",
       "      <th></th>\n",
       "      <th>LOCATION</th>\n",
       "      <th>INDICATOR</th>\n",
       "      <th>SUBJECT</th>\n",
       "      <th>MEASURE</th>\n",
       "      <th>FREQUENCY</th>\n",
       "      <th>TIME</th>\n",
       "      <th>Value</th>\n",
       "      <th>Flag Codes</th>\n",
       "    </tr>\n",
       "  </thead>\n",
       "  <tbody>\n",
       "    <tr>\n",
       "      <th>0</th>\n",
       "      <td>AUS</td>\n",
       "      <td>HHEXP</td>\n",
       "      <td>TOT</td>\n",
       "      <td>MLN_USD</td>\n",
       "      <td>A</td>\n",
       "      <td>1970</td>\n",
       "      <td>30476.510257</td>\n",
       "      <td>NaN</td>\n",
       "    </tr>\n",
       "    <tr>\n",
       "      <th>1</th>\n",
       "      <td>AUS</td>\n",
       "      <td>HHEXP</td>\n",
       "      <td>TOT</td>\n",
       "      <td>MLN_USD</td>\n",
       "      <td>A</td>\n",
       "      <td>1971</td>\n",
       "      <td>32799.844017</td>\n",
       "      <td>NaN</td>\n",
       "    </tr>\n",
       "    <tr>\n",
       "      <th>2</th>\n",
       "      <td>AUS</td>\n",
       "      <td>HHEXP</td>\n",
       "      <td>TOT</td>\n",
       "      <td>MLN_USD</td>\n",
       "      <td>A</td>\n",
       "      <td>1972</td>\n",
       "      <td>35590.183565</td>\n",
       "      <td>NaN</td>\n",
       "    </tr>\n",
       "    <tr>\n",
       "      <th>3</th>\n",
       "      <td>AUS</td>\n",
       "      <td>HHEXP</td>\n",
       "      <td>TOT</td>\n",
       "      <td>MLN_USD</td>\n",
       "      <td>A</td>\n",
       "      <td>1973</td>\n",
       "      <td>41114.456624</td>\n",
       "      <td>NaN</td>\n",
       "    </tr>\n",
       "    <tr>\n",
       "      <th>4</th>\n",
       "      <td>AUS</td>\n",
       "      <td>HHEXP</td>\n",
       "      <td>TOT</td>\n",
       "      <td>MLN_USD</td>\n",
       "      <td>A</td>\n",
       "      <td>1974</td>\n",
       "      <td>48461.851872</td>\n",
       "      <td>NaN</td>\n",
       "    </tr>\n",
       "  </tbody>\n",
       "</table>\n",
       "</div>"
      ],
      "text/plain": [
       "  LOCATION INDICATOR SUBJECT  MEASURE FREQUENCY  TIME         Value Flag Codes\n",
       "0      AUS     HHEXP     TOT  MLN_USD         A  1970  30476.510257        NaN\n",
       "1      AUS     HHEXP     TOT  MLN_USD         A  1971  32799.844017        NaN\n",
       "2      AUS     HHEXP     TOT  MLN_USD         A  1972  35590.183565        NaN\n",
       "3      AUS     HHEXP     TOT  MLN_USD         A  1973  41114.456624        NaN\n",
       "4      AUS     HHEXP     TOT  MLN_USD         A  1974  48461.851872        NaN"
      ]
     },
     "execution_count": 9,
     "metadata": {},
     "output_type": "execute_result"
    }
   ],
   "source": [
    "house_spend_df.head()"
   ]
  },
  {
   "cell_type": "code",
   "execution_count": 23,
   "id": "6e9fda47",
   "metadata": {},
   "outputs": [
    {
     "name": "stdout",
     "output_type": "stream",
     "text": [
      "Number of rows 8862\n",
      "Number of unique values in each column LOCATION       47\n",
      "INDICATOR       1\n",
      "SUBJECT         3\n",
      "MEASURE         4\n",
      "FREQUENCY       1\n",
      "TIME           53\n",
      "Value        8849\n",
      "dtype: int64\n",
      "Unique value of INDICATOR column ['HHEXP']\n",
      "Unique value of LOCATION column ['AUS' 'AUT' 'BEL' 'CAN' 'CZE' 'DNK' 'FIN' 'FRA' 'DEU' 'GRC' 'HUN' 'ISL'\n",
      " 'IRL' 'ITA' 'JPN' 'KOR' 'LUX' 'MEX' 'NLD' 'NZL' 'NOR' 'POL' 'PRT' 'SVK'\n",
      " 'ESP' 'SWE' 'CHE' 'TUR' 'GBR' 'USA' 'CHL' 'CHN' 'COL' 'EST' 'IND' 'IDN'\n",
      " 'ISR' 'RUS' 'SVN' 'ZAF' 'EA' 'EU' 'LVA' 'BRA' 'LTU' 'CRI' 'OAVG']\n",
      "Unique value of SUBJECT column ['TOT' 'GOVTRANSF' 'HOUSING']\n",
      "Unique value of MEASURE column ['MLN_USD' 'PC_GDP' 'AGRWTH' 'PC_DI']\n",
      "Unique value of FREQUENCY column ['A']\n",
      "Unique value of TIME column [1970 1971 1972 1973 1974 1975 1976 1977 1978 1979 1980 1981 1982 1983\n",
      " 1984 1985 1986 1987 1988 1989 1990 1991 1992 1993 1994 1995 1996 1997\n",
      " 1998 1999 2000 2001 2002 2003 2004 2005 2006 2007 2008 2009 2010 2011\n",
      " 2012 2013 2014 2015 2016 2017 2018 2019 2020 2021 2022]\n",
      "Unique value of Value column [   30476.51025711    32799.84401654    35590.18356477 ...\n",
      " 10308127.0859147   9570885.08618792 10123543.3682292 ]\n",
      "Number of nan values in Value column 0\n"
     ]
    },
    {
     "ename": "KeyError",
     "evalue": "'Flag Codes'",
     "output_type": "error",
     "traceback": [
      "\u001b[1;31m---------------------------------------------------------------------------\u001b[0m",
      "\u001b[1;31mKeyError\u001b[0m                                  Traceback (most recent call last)",
      "File \u001b[1;32m~\\Anaconda3\\envs\\CS418\\lib\\site-packages\\pandas\\core\\indexes\\base.py:3802\u001b[0m, in \u001b[0;36mIndex.get_loc\u001b[1;34m(self, key, method, tolerance)\u001b[0m\n\u001b[0;32m   3801\u001b[0m \u001b[38;5;28;01mtry\u001b[39;00m:\n\u001b[1;32m-> 3802\u001b[0m     \u001b[38;5;28;01mreturn\u001b[39;00m \u001b[38;5;28;43mself\u001b[39;49m\u001b[38;5;241;43m.\u001b[39;49m\u001b[43m_engine\u001b[49m\u001b[38;5;241;43m.\u001b[39;49m\u001b[43mget_loc\u001b[49m\u001b[43m(\u001b[49m\u001b[43mcasted_key\u001b[49m\u001b[43m)\u001b[49m\n\u001b[0;32m   3803\u001b[0m \u001b[38;5;28;01mexcept\u001b[39;00m \u001b[38;5;167;01mKeyError\u001b[39;00m \u001b[38;5;28;01mas\u001b[39;00m err:\n",
      "File \u001b[1;32m~\\Anaconda3\\envs\\CS418\\lib\\site-packages\\pandas\\_libs\\index.pyx:138\u001b[0m, in \u001b[0;36mpandas._libs.index.IndexEngine.get_loc\u001b[1;34m()\u001b[0m\n",
      "File \u001b[1;32m~\\Anaconda3\\envs\\CS418\\lib\\site-packages\\pandas\\_libs\\index.pyx:165\u001b[0m, in \u001b[0;36mpandas._libs.index.IndexEngine.get_loc\u001b[1;34m()\u001b[0m\n",
      "File \u001b[1;32mpandas\\_libs\\hashtable_class_helper.pxi:5745\u001b[0m, in \u001b[0;36mpandas._libs.hashtable.PyObjectHashTable.get_item\u001b[1;34m()\u001b[0m\n",
      "File \u001b[1;32mpandas\\_libs\\hashtable_class_helper.pxi:5753\u001b[0m, in \u001b[0;36mpandas._libs.hashtable.PyObjectHashTable.get_item\u001b[1;34m()\u001b[0m\n",
      "\u001b[1;31mKeyError\u001b[0m: 'Flag Codes'",
      "\nThe above exception was the direct cause of the following exception:\n",
      "\u001b[1;31mKeyError\u001b[0m                                  Traceback (most recent call last)",
      "Cell \u001b[1;32mIn[23], line 11\u001b[0m\n\u001b[0;32m      9\u001b[0m \u001b[38;5;28mprint\u001b[39m(\u001b[38;5;124m'\u001b[39m\u001b[38;5;124mUnique value of Value column\u001b[39m\u001b[38;5;124m'\u001b[39m,house_spend_df[\u001b[38;5;124m'\u001b[39m\u001b[38;5;124mValue\u001b[39m\u001b[38;5;124m'\u001b[39m]\u001b[38;5;241m.\u001b[39munique())\n\u001b[0;32m     10\u001b[0m \u001b[38;5;28mprint\u001b[39m(\u001b[38;5;124m'\u001b[39m\u001b[38;5;124mNumber of nan values in Value column\u001b[39m\u001b[38;5;124m'\u001b[39m,house_spend_df[\u001b[38;5;124m'\u001b[39m\u001b[38;5;124mValue\u001b[39m\u001b[38;5;124m'\u001b[39m]\u001b[38;5;241m.\u001b[39misnull()\u001b[38;5;241m.\u001b[39msum())\n\u001b[1;32m---> 11\u001b[0m \u001b[38;5;28mprint\u001b[39m(\u001b[38;5;124m'\u001b[39m\u001b[38;5;124mUnique value of Flag Codes column\u001b[39m\u001b[38;5;124m'\u001b[39m,\u001b[43mhouse_spend_df\u001b[49m\u001b[43m[\u001b[49m\u001b[38;5;124;43m'\u001b[39;49m\u001b[38;5;124;43mFlag Codes\u001b[39;49m\u001b[38;5;124;43m'\u001b[39;49m\u001b[43m]\u001b[49m\u001b[38;5;241m.\u001b[39munique())\n",
      "File \u001b[1;32m~\\Anaconda3\\envs\\CS418\\lib\\site-packages\\pandas\\core\\frame.py:3807\u001b[0m, in \u001b[0;36mDataFrame.__getitem__\u001b[1;34m(self, key)\u001b[0m\n\u001b[0;32m   3805\u001b[0m \u001b[38;5;28;01mif\u001b[39;00m \u001b[38;5;28mself\u001b[39m\u001b[38;5;241m.\u001b[39mcolumns\u001b[38;5;241m.\u001b[39mnlevels \u001b[38;5;241m>\u001b[39m \u001b[38;5;241m1\u001b[39m:\n\u001b[0;32m   3806\u001b[0m     \u001b[38;5;28;01mreturn\u001b[39;00m \u001b[38;5;28mself\u001b[39m\u001b[38;5;241m.\u001b[39m_getitem_multilevel(key)\n\u001b[1;32m-> 3807\u001b[0m indexer \u001b[38;5;241m=\u001b[39m \u001b[38;5;28;43mself\u001b[39;49m\u001b[38;5;241;43m.\u001b[39;49m\u001b[43mcolumns\u001b[49m\u001b[38;5;241;43m.\u001b[39;49m\u001b[43mget_loc\u001b[49m\u001b[43m(\u001b[49m\u001b[43mkey\u001b[49m\u001b[43m)\u001b[49m\n\u001b[0;32m   3808\u001b[0m \u001b[38;5;28;01mif\u001b[39;00m is_integer(indexer):\n\u001b[0;32m   3809\u001b[0m     indexer \u001b[38;5;241m=\u001b[39m [indexer]\n",
      "File \u001b[1;32m~\\Anaconda3\\envs\\CS418\\lib\\site-packages\\pandas\\core\\indexes\\base.py:3804\u001b[0m, in \u001b[0;36mIndex.get_loc\u001b[1;34m(self, key, method, tolerance)\u001b[0m\n\u001b[0;32m   3802\u001b[0m     \u001b[38;5;28;01mreturn\u001b[39;00m \u001b[38;5;28mself\u001b[39m\u001b[38;5;241m.\u001b[39m_engine\u001b[38;5;241m.\u001b[39mget_loc(casted_key)\n\u001b[0;32m   3803\u001b[0m \u001b[38;5;28;01mexcept\u001b[39;00m \u001b[38;5;167;01mKeyError\u001b[39;00m \u001b[38;5;28;01mas\u001b[39;00m err:\n\u001b[1;32m-> 3804\u001b[0m     \u001b[38;5;28;01mraise\u001b[39;00m \u001b[38;5;167;01mKeyError\u001b[39;00m(key) \u001b[38;5;28;01mfrom\u001b[39;00m \u001b[38;5;21;01merr\u001b[39;00m\n\u001b[0;32m   3805\u001b[0m \u001b[38;5;28;01mexcept\u001b[39;00m \u001b[38;5;167;01mTypeError\u001b[39;00m:\n\u001b[0;32m   3806\u001b[0m     \u001b[38;5;66;03m# If we have a listlike key, _check_indexing_error will raise\u001b[39;00m\n\u001b[0;32m   3807\u001b[0m     \u001b[38;5;66;03m#  InvalidIndexError. Otherwise we fall through and re-raise\u001b[39;00m\n\u001b[0;32m   3808\u001b[0m     \u001b[38;5;66;03m#  the TypeError.\u001b[39;00m\n\u001b[0;32m   3809\u001b[0m     \u001b[38;5;28mself\u001b[39m\u001b[38;5;241m.\u001b[39m_check_indexing_error(key)\n",
      "\u001b[1;31mKeyError\u001b[0m: 'Flag Codes'"
     ]
    }
   ],
   "source": [
    "print('Number of rows',house_spend_df.shape[0])\n",
    "print('Number of unique values in each column',house_spend_df.nunique())\n",
    "\n",
    "print('Unique value of LOCATION column',house_spend_df['LOCATION'].unique())\n",
    "print('Unique value of SUBJECT column',house_spend_df['SUBJECT'].unique())\n",
    "print('Unique value of MEASURE column',house_spend_df['MEASURE'].unique())\n",
    "\n",
    "print('Unique value of TIME column',house_spend_df['TIME'].unique())"
   ]
  },
  {
   "cell_type": "code",
   "execution_count": 22,
   "id": "03530ffb",
   "metadata": {},
   "outputs": [],
   "source": [
    "print('Unique value of Flag Codes column',house_spend_df['Flag Codes'].unique())\n",
    "# Unique value of Flag Codes column [nan 'E' 'B']\n",
    "# Hence dropping Flag Codes\n",
    "house_spend_df = house_spend_df.drop('Flag Codes',axis=1) "
   ]
  },
  {
   "cell_type": "code",
   "execution_count": 32,
   "id": "636ba874",
   "metadata": {},
   "outputs": [
    {
     "name": "stdout",
     "output_type": "stream",
     "text": [
      "Unique value of Value column [   30476.51025711    32799.84401654    35590.18356477 ...\n",
      " 10308127.0859147   9570885.08618792 10123543.3682292 ]\n",
      "Number of nan values in Value column 0\n",
      "Type of data in Value column that are not float 0\n"
     ]
    }
   ],
   "source": [
    "print('Unique value of Value column',house_spend_df['Value'].unique())\n",
    "print('Number of nan values in Value column',house_spend_df['Value'].isnull().sum())\n",
    "print('Type of data in Value column that are not float',(house_spend_df['Value'].map(type)!= float).sum())"
   ]
  },
  {
   "cell_type": "code",
   "execution_count": 53,
   "id": "d3f0cc5f",
   "metadata": {},
   "outputs": [],
   "source": [
    "house_spend_df_dropped = house_spend_df[house_spend_df['SUBJECT'] == 'TOT']\n",
    "house_spend_df_dropped = house_spend_df_dropped[house_spend_df_dropped['MEASURE'] == 'MLN_USD']"
   ]
  },
  {
   "cell_type": "code",
   "execution_count": 36,
   "id": "87f475ae",
   "metadata": {
    "collapsed": true
   },
   "outputs": [
    {
     "ename": "KeyError",
     "evalue": "'FREQUENCY'",
     "output_type": "error",
     "traceback": [
      "\u001b[1;31m---------------------------------------------------------------------------\u001b[0m",
      "\u001b[1;31mKeyError\u001b[0m                                  Traceback (most recent call last)",
      "File \u001b[1;32m~\\Anaconda3\\envs\\CS418\\lib\\site-packages\\pandas\\core\\indexes\\base.py:3802\u001b[0m, in \u001b[0;36mIndex.get_loc\u001b[1;34m(self, key, method, tolerance)\u001b[0m\n\u001b[0;32m   3801\u001b[0m \u001b[38;5;28;01mtry\u001b[39;00m:\n\u001b[1;32m-> 3802\u001b[0m     \u001b[38;5;28;01mreturn\u001b[39;00m \u001b[38;5;28;43mself\u001b[39;49m\u001b[38;5;241;43m.\u001b[39;49m\u001b[43m_engine\u001b[49m\u001b[38;5;241;43m.\u001b[39;49m\u001b[43mget_loc\u001b[49m\u001b[43m(\u001b[49m\u001b[43mcasted_key\u001b[49m\u001b[43m)\u001b[49m\n\u001b[0;32m   3803\u001b[0m \u001b[38;5;28;01mexcept\u001b[39;00m \u001b[38;5;167;01mKeyError\u001b[39;00m \u001b[38;5;28;01mas\u001b[39;00m err:\n",
      "File \u001b[1;32m~\\Anaconda3\\envs\\CS418\\lib\\site-packages\\pandas\\_libs\\index.pyx:138\u001b[0m, in \u001b[0;36mpandas._libs.index.IndexEngine.get_loc\u001b[1;34m()\u001b[0m\n",
      "File \u001b[1;32m~\\Anaconda3\\envs\\CS418\\lib\\site-packages\\pandas\\_libs\\index.pyx:165\u001b[0m, in \u001b[0;36mpandas._libs.index.IndexEngine.get_loc\u001b[1;34m()\u001b[0m\n",
      "File \u001b[1;32mpandas\\_libs\\hashtable_class_helper.pxi:5745\u001b[0m, in \u001b[0;36mpandas._libs.hashtable.PyObjectHashTable.get_item\u001b[1;34m()\u001b[0m\n",
      "File \u001b[1;32mpandas\\_libs\\hashtable_class_helper.pxi:5753\u001b[0m, in \u001b[0;36mpandas._libs.hashtable.PyObjectHashTable.get_item\u001b[1;34m()\u001b[0m\n",
      "\u001b[1;31mKeyError\u001b[0m: 'FREQUENCY'",
      "\nThe above exception was the direct cause of the following exception:\n",
      "\u001b[1;31mKeyError\u001b[0m                                  Traceback (most recent call last)",
      "Cell \u001b[1;32mIn[36], line 1\u001b[0m\n\u001b[1;32m----> 1\u001b[0m \u001b[38;5;28mprint\u001b[39m(\u001b[38;5;124m'\u001b[39m\u001b[38;5;124mUnique value of FREQUENCY column\u001b[39m\u001b[38;5;124m'\u001b[39m,\u001b[43mhouse_spend_df\u001b[49m\u001b[43m[\u001b[49m\u001b[38;5;124;43m'\u001b[39;49m\u001b[38;5;124;43mFREQUENCY\u001b[39;49m\u001b[38;5;124;43m'\u001b[39;49m\u001b[43m]\u001b[49m\u001b[38;5;241m.\u001b[39munique())\n\u001b[0;32m      2\u001b[0m \u001b[38;5;66;03m# Unique value of FREQUENCY column ['A']\u001b[39;00m\n\u001b[0;32m      3\u001b[0m \u001b[38;5;66;03m# Hence dropping FREQUENCY\u001b[39;00m\n\u001b[0;32m      4\u001b[0m house_spend_df \u001b[38;5;241m=\u001b[39m house_spend_df\u001b[38;5;241m.\u001b[39mdrop(\u001b[38;5;124m'\u001b[39m\u001b[38;5;124mFREQUENCY\u001b[39m\u001b[38;5;124m'\u001b[39m,axis\u001b[38;5;241m=\u001b[39m\u001b[38;5;241m1\u001b[39m)\n",
      "File \u001b[1;32m~\\Anaconda3\\envs\\CS418\\lib\\site-packages\\pandas\\core\\frame.py:3807\u001b[0m, in \u001b[0;36mDataFrame.__getitem__\u001b[1;34m(self, key)\u001b[0m\n\u001b[0;32m   3805\u001b[0m \u001b[38;5;28;01mif\u001b[39;00m \u001b[38;5;28mself\u001b[39m\u001b[38;5;241m.\u001b[39mcolumns\u001b[38;5;241m.\u001b[39mnlevels \u001b[38;5;241m>\u001b[39m \u001b[38;5;241m1\u001b[39m:\n\u001b[0;32m   3806\u001b[0m     \u001b[38;5;28;01mreturn\u001b[39;00m \u001b[38;5;28mself\u001b[39m\u001b[38;5;241m.\u001b[39m_getitem_multilevel(key)\n\u001b[1;32m-> 3807\u001b[0m indexer \u001b[38;5;241m=\u001b[39m \u001b[38;5;28;43mself\u001b[39;49m\u001b[38;5;241;43m.\u001b[39;49m\u001b[43mcolumns\u001b[49m\u001b[38;5;241;43m.\u001b[39;49m\u001b[43mget_loc\u001b[49m\u001b[43m(\u001b[49m\u001b[43mkey\u001b[49m\u001b[43m)\u001b[49m\n\u001b[0;32m   3808\u001b[0m \u001b[38;5;28;01mif\u001b[39;00m is_integer(indexer):\n\u001b[0;32m   3809\u001b[0m     indexer \u001b[38;5;241m=\u001b[39m [indexer]\n",
      "File \u001b[1;32m~\\Anaconda3\\envs\\CS418\\lib\\site-packages\\pandas\\core\\indexes\\base.py:3804\u001b[0m, in \u001b[0;36mIndex.get_loc\u001b[1;34m(self, key, method, tolerance)\u001b[0m\n\u001b[0;32m   3802\u001b[0m     \u001b[38;5;28;01mreturn\u001b[39;00m \u001b[38;5;28mself\u001b[39m\u001b[38;5;241m.\u001b[39m_engine\u001b[38;5;241m.\u001b[39mget_loc(casted_key)\n\u001b[0;32m   3803\u001b[0m \u001b[38;5;28;01mexcept\u001b[39;00m \u001b[38;5;167;01mKeyError\u001b[39;00m \u001b[38;5;28;01mas\u001b[39;00m err:\n\u001b[1;32m-> 3804\u001b[0m     \u001b[38;5;28;01mraise\u001b[39;00m \u001b[38;5;167;01mKeyError\u001b[39;00m(key) \u001b[38;5;28;01mfrom\u001b[39;00m \u001b[38;5;21;01merr\u001b[39;00m\n\u001b[0;32m   3805\u001b[0m \u001b[38;5;28;01mexcept\u001b[39;00m \u001b[38;5;167;01mTypeError\u001b[39;00m:\n\u001b[0;32m   3806\u001b[0m     \u001b[38;5;66;03m# If we have a listlike key, _check_indexing_error will raise\u001b[39;00m\n\u001b[0;32m   3807\u001b[0m     \u001b[38;5;66;03m#  InvalidIndexError. Otherwise we fall through and re-raise\u001b[39;00m\n\u001b[0;32m   3808\u001b[0m     \u001b[38;5;66;03m#  the TypeError.\u001b[39;00m\n\u001b[0;32m   3809\u001b[0m     \u001b[38;5;28mself\u001b[39m\u001b[38;5;241m.\u001b[39m_check_indexing_error(key)\n",
      "\u001b[1;31mKeyError\u001b[0m: 'FREQUENCY'"
     ]
    }
   ],
   "source": [
    "print('Unique value of FREQUENCY column',house_spend_df['FREQUENCY'].unique())\n",
    "# Unique value of FREQUENCY column ['A']\n",
    "# Hence dropping FREQUENCY\n",
    "house_spend_df = house_spend_df.drop('FREQUENCY',axis=1) "
   ]
  },
  {
   "cell_type": "code",
   "execution_count": 39,
   "id": "8289858d",
   "metadata": {},
   "outputs": [
    {
     "name": "stdout",
     "output_type": "stream",
     "text": [
      "Unique value of INDICATOR column ['HHEXP']\n"
     ]
    }
   ],
   "source": [
    "print('Unique value of INDICATOR column',house_spend_df['INDICATOR'].unique())\n",
    "# Unique value of INDICATOR column ['HHEXP']\n",
    "# Hence dropping INDICATOR\n",
    "house_spend_df = house_spend_df.drop('INDICATOR',axis=1) "
   ]
  },
  {
   "cell_type": "code",
   "execution_count": 40,
   "id": "3e293abb",
   "metadata": {},
   "outputs": [
    {
     "data": {
      "text/html": [
       "<div>\n",
       "<style scoped>\n",
       "    .dataframe tbody tr th:only-of-type {\n",
       "        vertical-align: middle;\n",
       "    }\n",
       "\n",
       "    .dataframe tbody tr th {\n",
       "        vertical-align: top;\n",
       "    }\n",
       "\n",
       "    .dataframe thead th {\n",
       "        text-align: right;\n",
       "    }\n",
       "</style>\n",
       "<table border=\"1\" class=\"dataframe\">\n",
       "  <thead>\n",
       "    <tr style=\"text-align: right;\">\n",
       "      <th></th>\n",
       "      <th>LOCATION</th>\n",
       "      <th>SUBJECT</th>\n",
       "      <th>MEASURE</th>\n",
       "      <th>TIME</th>\n",
       "      <th>Value</th>\n",
       "    </tr>\n",
       "  </thead>\n",
       "  <tbody>\n",
       "    <tr>\n",
       "      <th>0</th>\n",
       "      <td>AUS</td>\n",
       "      <td>TOT</td>\n",
       "      <td>MLN_USD</td>\n",
       "      <td>1970</td>\n",
       "      <td>30476.510257</td>\n",
       "    </tr>\n",
       "    <tr>\n",
       "      <th>1</th>\n",
       "      <td>AUS</td>\n",
       "      <td>TOT</td>\n",
       "      <td>MLN_USD</td>\n",
       "      <td>1971</td>\n",
       "      <td>32799.844017</td>\n",
       "    </tr>\n",
       "    <tr>\n",
       "      <th>2</th>\n",
       "      <td>AUS</td>\n",
       "      <td>TOT</td>\n",
       "      <td>MLN_USD</td>\n",
       "      <td>1972</td>\n",
       "      <td>35590.183565</td>\n",
       "    </tr>\n",
       "    <tr>\n",
       "      <th>3</th>\n",
       "      <td>AUS</td>\n",
       "      <td>TOT</td>\n",
       "      <td>MLN_USD</td>\n",
       "      <td>1973</td>\n",
       "      <td>41114.456624</td>\n",
       "    </tr>\n",
       "    <tr>\n",
       "      <th>4</th>\n",
       "      <td>AUS</td>\n",
       "      <td>TOT</td>\n",
       "      <td>MLN_USD</td>\n",
       "      <td>1974</td>\n",
       "      <td>48461.851872</td>\n",
       "    </tr>\n",
       "  </tbody>\n",
       "</table>\n",
       "</div>"
      ],
      "text/plain": [
       "  LOCATION SUBJECT  MEASURE  TIME         Value\n",
       "0      AUS     TOT  MLN_USD  1970  30476.510257\n",
       "1      AUS     TOT  MLN_USD  1971  32799.844017\n",
       "2      AUS     TOT  MLN_USD  1972  35590.183565\n",
       "3      AUS     TOT  MLN_USD  1973  41114.456624\n",
       "4      AUS     TOT  MLN_USD  1974  48461.851872"
      ]
     },
     "execution_count": 40,
     "metadata": {},
     "output_type": "execute_result"
    }
   ],
   "source": [
    "house_spend_df.head()"
   ]
  },
  {
   "cell_type": "code",
   "execution_count": 47,
   "id": "440b23d5",
   "metadata": {},
   "outputs": [
    {
     "name": "stdout",
     "output_type": "stream",
     "text": [
      "LOCATION\n",
      "AUS     260\n",
      "AUT     234\n",
      "BEL     234\n",
      "BRA      79\n",
      "CAN     236\n",
      "CHE     233\n",
      "CHL     108\n",
      "CHN      76\n",
      "COL      87\n",
      "CRI     131\n",
      "CZE     154\n",
      "DEU     237\n",
      "DNK     235\n",
      "EA      130\n",
      "ESP     237\n",
      "EST     141\n",
      "EU      130\n",
      "FIN     254\n",
      "FRA     252\n",
      "GBR     234\n",
      "GRC     235\n",
      "HUN     150\n",
      "IDN     101\n",
      "IND     139\n",
      "IRL     234\n",
      "ISL     187\n",
      "ISR     162\n",
      "ITA     234\n",
      "JPN     234\n",
      "KOR     254\n",
      "LTU     134\n",
      "LUX     234\n",
      "LVA     136\n",
      "MEX     225\n",
      "NLD     238\n",
      "NOR     251\n",
      "NZL     229\n",
      "OAVG     87\n",
      "POL     154\n",
      "PRT     234\n",
      "RUS     123\n",
      "SVK     145\n",
      "SVN     153\n",
      "SWE     237\n",
      "TUR     207\n",
      "USA     259\n",
      "ZAF     204\n",
      "Name: TIME, dtype: int64\n"
     ]
    }
   ],
   "source": [
    "# For Time\n",
    "house_spend_df_time_clean = house_spend_df.groupby(\"LOCATION\")[\"TIME\"].count()\n",
    "print(house_spend_df_time_clean.head(50))\n",
    "\n",
    "max_year = -1\n",
    "min_year = 1000000\n",
    "\n",
    "house_spend_df"
   ]
  },
  {
   "cell_type": "code",
   "execution_count": 52,
   "id": "c64acb7b",
   "metadata": {},
   "outputs": [
    {
     "name": "stderr",
     "output_type": "stream",
     "text": [
      "C:\\Users\\unair2\\AppData\\Local\\Temp\\ipykernel_4168\\3875225121.py:22: FutureWarning: The default dtype for empty Series will be 'object' instead of 'float64' in a future version. Specify a dtype explicitly to silence this warning.\n",
      "  missingyear = pd.Series(missingyear)\n"
     ]
    },
    {
     "name": "stdout",
     "output_type": "stream",
     "text": [
      "Country =  AUS Minimum Year =  1970 Maximum Year =  2021 Missing Years =  Series([], dtype: float64)\n",
      "Country =  AUT Minimum Year =  1970 Maximum Year =  2021 Missing Years =  Series([], dtype: float64)\n",
      "Country =  BEL Minimum Year =  1970 Maximum Year =  2021 Missing Years =  Series([], dtype: float64)\n",
      "Country =  CAN Minimum Year =  1970 Maximum Year =  2021 Missing Years =  Series([], dtype: float64)\n",
      "Country =  CZE Minimum Year =  1990 Maximum Year =  2021 Missing Years =  Series([], dtype: float64)\n",
      "Country =  DNK Minimum Year =  1970 Maximum Year =  2021 Missing Years =  Series([], dtype: float64)\n",
      "Country =  FIN Minimum Year =  1970 Maximum Year =  2021 Missing Years =  Series([], dtype: float64)\n",
      "Country =  FRA Minimum Year =  1970 Maximum Year =  2021 Missing Years =  Series([], dtype: float64)\n",
      "Country =  DEU Minimum Year =  1970 Maximum Year =  2022 Missing Years =  Series([], dtype: float64)\n",
      "Country =  GRC Minimum Year =  1970 Maximum Year =  2021 Missing Years =  Series([], dtype: float64)\n",
      "Country =  HUN Minimum Year =  1991 Maximum Year =  2021 Missing Years =  Series([], dtype: float64)\n",
      "Country =  ISL Minimum Year =  1970 Maximum Year =  2021 Missing Years =  Series([], dtype: float64)\n",
      "Country =  IRL Minimum Year =  1970 Maximum Year =  2021 Missing Years =  Series([], dtype: float64)\n",
      "Country =  ITA Minimum Year =  1970 Maximum Year =  2021 Missing Years =  Series([], dtype: float64)\n",
      "Country =  JPN Minimum Year =  1970 Maximum Year =  2021 Missing Years =  Series([], dtype: float64)\n",
      "Country =  KOR Minimum Year =  1970 Maximum Year =  2021 Missing Years =  Series([], dtype: float64)\n",
      "Country =  LUX Minimum Year =  1970 Maximum Year =  2021 Missing Years =  Series([], dtype: float64)\n",
      "Country =  MEX Minimum Year =  1970 Maximum Year =  2021 Missing Years =  Series([], dtype: float64)\n",
      "Country =  NLD Minimum Year =  1970 Maximum Year =  2022 Missing Years =  Series([], dtype: float64)\n",
      "Country =  NZL Minimum Year =  1970 Maximum Year =  2021 Missing Years =  Series([], dtype: float64)\n",
      "Country =  NOR Minimum Year =  1970 Maximum Year =  2021 Missing Years =  Series([], dtype: float64)\n",
      "Country =  POL Minimum Year =  1990 Maximum Year =  2021 Missing Years =  Series([], dtype: float64)\n",
      "Country =  PRT Minimum Year =  1970 Maximum Year =  2021 Missing Years =  Series([], dtype: float64)\n",
      "Country =  SVK Minimum Year =  1990 Maximum Year =  2021 Missing Years =  Series([], dtype: float64)\n",
      "Country =  ESP Minimum Year =  1970 Maximum Year =  2022 Missing Years =  Series([], dtype: float64)\n",
      "Country =  SWE Minimum Year =  1970 Maximum Year =  2021 Missing Years =  Series([], dtype: float64)\n",
      "Country =  CHE Minimum Year =  1970 Maximum Year =  2021 Missing Years =  Series([], dtype: float64)\n",
      "Country =  TUR Minimum Year =  1970 Maximum Year =  2021 Missing Years =  Series([], dtype: float64)\n",
      "Country =  GBR Minimum Year =  1970 Maximum Year =  2021 Missing Years =  Series([], dtype: float64)\n",
      "Country =  USA Minimum Year =  1970 Maximum Year =  2021 Missing Years =  Series([], dtype: float64)\n",
      "Country =  CHL Minimum Year =  1986 Maximum Year =  2021 Missing Years =  Series([], dtype: float64)\n",
      "Country =  CHN Minimum Year =  1978 Maximum Year =  2021 Missing Years =  Series([], dtype: float64)\n",
      "Country =  COL Minimum Year =  1995 Maximum Year =  2021 Missing Years =  Series([], dtype: float64)\n",
      "Country =  EST Minimum Year =  1993 Maximum Year =  2021 Missing Years =  Series([], dtype: float64)\n",
      "Country =  IND Minimum Year =  1970 Maximum Year =  2019 Missing Years =  Series([], dtype: float64)\n",
      "Country =  IDN Minimum Year =  1993 Maximum Year =  2022 Missing Years =  Series([], dtype: float64)\n",
      "Country =  ISR Minimum Year =  1970 Maximum Year =  2021 Missing Years =  Series([], dtype: float64)\n",
      "Country =  RUS Minimum Year =  1989 Maximum Year =  2020 Missing Years =  Series([], dtype: float64)\n",
      "Country =  SVN Minimum Year =  1990 Maximum Year =  2021 Missing Years =  Series([], dtype: float64)\n",
      "Country =  ZAF Minimum Year =  1970 Maximum Year =  2020 Missing Years =  Series([], dtype: float64)\n",
      "Country =  EA Minimum Year =  1995 Maximum Year =  2021 Missing Years =  Series([], dtype: float64)\n",
      "Country =  EU Minimum Year =  1995 Maximum Year =  2021 Missing Years =  Series([], dtype: float64)\n",
      "Country =  LVA Minimum Year =  1994 Maximum Year =  2021 Missing Years =  Series([], dtype: float64)\n",
      "Country =  BRA Minimum Year =  1995 Maximum Year =  2019 Missing Years =  Series([], dtype: float64)\n",
      "Country =  LTU Minimum Year =  1995 Maximum Year =  2021 Missing Years =  Series([], dtype: float64)\n",
      "Country =  CRI Minimum Year =  1991 Maximum Year =  2021 Missing Years =  Series([], dtype: float64)\n",
      "Country =  OAVG Minimum Year =  1970 Maximum Year =  2021 Missing Years =  Series([], dtype: float64)\n",
      "Highest Min =  1995  Country =  COL\n",
      "Lowest Max =  2019  Country =  IND\n"
     ]
    }
   ],
   "source": [
    "min_high = 1\n",
    "min_high_country = ''\n",
    "max_low = 9999\n",
    "max_low_country  = ''\n",
    "\n",
    "for country in house_spend_df.LOCATION.unique():\n",
    "    #print(country)\n",
    "    tempdf = house_spend_df[house_spend_df['LOCATION']==country]\n",
    "    minyear = int(tempdf.TIME.min())\n",
    "    if(min_high<minyear):\n",
    "        min_high=minyear\n",
    "        min_high_country = country\n",
    "\n",
    "    maxyear = int(tempdf.TIME.max())\n",
    "    if(max_low>maxyear):\n",
    "        max_low=maxyear\n",
    "        max_low_country = country\n",
    "    missingyear = []\n",
    "    for i in range(minyear,maxyear):\n",
    "        if((tempdf['TIME']==str(i)).any() == False):\n",
    "            tempseries = pd.Series([str(i)])\n",
    "            missingyear = pd.Series(missingyear)\n",
    "            pd.concat([missingyear, tempseries])\n",
    "\n",
    "    print('Country = ', country, 'Minimum Year = ',minyear, 'Maximum Year = ', maxyear, 'Missing Years = ', missingyear)\n",
    "\n",
    "print('Highest Min = ', min_high, ' Country = ', min_high_country)\n",
    "print('Lowest Max = ', max_low, ' Country = ', max_low_country )"
   ]
  },
  {
   "cell_type": "code",
   "execution_count": 54,
   "id": "7b50fcef",
   "metadata": {},
   "outputs": [
    {
     "name": "stderr",
     "output_type": "stream",
     "text": [
      "C:\\Users\\unair2\\AppData\\Local\\Temp\\ipykernel_4168\\83512329.py:23: FutureWarning: The default dtype for empty Series will be 'object' instead of 'float64' in a future version. Specify a dtype explicitly to silence this warning.\n",
      "  missingyear = pd.Series(missingyear)\n"
     ]
    },
    {
     "name": "stdout",
     "output_type": "stream",
     "text": [
      "Country =  AUS Minimum Year =  1970 Maximum Year =  2021 Missing Years =  Series([], dtype: float64)\n",
      "Country =  AUT Minimum Year =  1970 Maximum Year =  2021 Missing Years =  Series([], dtype: float64)\n",
      "Country =  BEL Minimum Year =  1970 Maximum Year =  2021 Missing Years =  Series([], dtype: float64)\n",
      "Country =  CAN Minimum Year =  1970 Maximum Year =  2021 Missing Years =  Series([], dtype: float64)\n",
      "Country =  CZE Minimum Year =  1990 Maximum Year =  2021 Missing Years =  Series([], dtype: float64)\n",
      "Country =  DNK Minimum Year =  1970 Maximum Year =  2021 Missing Years =  Series([], dtype: float64)\n",
      "Country =  FIN Minimum Year =  1970 Maximum Year =  2021 Missing Years =  Series([], dtype: float64)\n",
      "Country =  FRA Minimum Year =  1970 Maximum Year =  2021 Missing Years =  Series([], dtype: float64)\n",
      "Country =  DEU Minimum Year =  1970 Maximum Year =  2021 Missing Years =  Series([], dtype: float64)\n",
      "Country =  GRC Minimum Year =  1970 Maximum Year =  2021 Missing Years =  Series([], dtype: float64)\n",
      "Country =  HUN Minimum Year =  1991 Maximum Year =  2021 Missing Years =  Series([], dtype: float64)\n",
      "Country =  ISL Minimum Year =  1970 Maximum Year =  2021 Missing Years =  Series([], dtype: float64)\n",
      "Country =  IRL Minimum Year =  1970 Maximum Year =  2021 Missing Years =  Series([], dtype: float64)\n",
      "Country =  ITA Minimum Year =  1970 Maximum Year =  2021 Missing Years =  Series([], dtype: float64)\n",
      "Country =  JPN Minimum Year =  1970 Maximum Year =  2021 Missing Years =  Series([], dtype: float64)\n",
      "Country =  KOR Minimum Year =  1970 Maximum Year =  2021 Missing Years =  Series([], dtype: float64)\n",
      "Country =  LUX Minimum Year =  1970 Maximum Year =  2021 Missing Years =  Series([], dtype: float64)\n",
      "Country =  MEX Minimum Year =  1970 Maximum Year =  2021 Missing Years =  Series([], dtype: float64)\n",
      "Country =  NLD Minimum Year =  1970 Maximum Year =  2021 Missing Years =  Series([], dtype: float64)\n",
      "Country =  NZL Minimum Year =  1970 Maximum Year =  2021 Missing Years =  Series([], dtype: float64)\n",
      "Country =  NOR Minimum Year =  1970 Maximum Year =  2021 Missing Years =  Series([], dtype: float64)\n",
      "Country =  POL Minimum Year =  1990 Maximum Year =  2021 Missing Years =  Series([], dtype: float64)\n",
      "Country =  PRT Minimum Year =  1970 Maximum Year =  2021 Missing Years =  Series([], dtype: float64)\n",
      "Country =  SVK Minimum Year =  1993 Maximum Year =  2021 Missing Years =  Series([], dtype: float64)\n",
      "Country =  ESP Minimum Year =  1970 Maximum Year =  2021 Missing Years =  Series([], dtype: float64)\n",
      "Country =  SWE Minimum Year =  1970 Maximum Year =  2021 Missing Years =  Series([], dtype: float64)\n",
      "Country =  CHE Minimum Year =  1970 Maximum Year =  2021 Missing Years =  Series([], dtype: float64)\n",
      "Country =  TUR Minimum Year =  1970 Maximum Year =  2021 Missing Years =  Series([], dtype: float64)\n",
      "Country =  GBR Minimum Year =  1970 Maximum Year =  2021 Missing Years =  Series([], dtype: float64)\n",
      "Country =  USA Minimum Year =  1970 Maximum Year =  2021 Missing Years =  Series([], dtype: float64)\n",
      "Country =  CHL Minimum Year =  1994 Maximum Year =  2021 Missing Years =  Series([], dtype: float64)\n",
      "Country =  CHN Minimum Year =  1990 Maximum Year =  2021 Missing Years =  Series([], dtype: float64)\n",
      "Country =  COL Minimum Year =  1995 Maximum Year =  2021 Missing Years =  Series([], dtype: float64)\n",
      "Country =  EST Minimum Year =  1994 Maximum Year =  2021 Missing Years =  Series([], dtype: float64)\n",
      "Country =  IND Minimum Year =  1990 Maximum Year =  2019 Missing Years =  Series([], dtype: float64)\n",
      "Country =  IDN Minimum Year =  1993 Maximum Year =  2021 Missing Years =  Series([], dtype: float64)\n",
      "Country =  ISR Minimum Year =  1990 Maximum Year =  2021 Missing Years =  Series([], dtype: float64)\n",
      "Country =  RUS Minimum Year =  1995 Maximum Year =  2020 Missing Years =  Series([], dtype: float64)\n",
      "Country =  SVN Minimum Year =  1991 Maximum Year =  2021 Missing Years =  Series([], dtype: float64)\n",
      "Country =  ZAF Minimum Year =  1970 Maximum Year =  2020 Missing Years =  Series([], dtype: float64)\n",
      "Country =  LVA Minimum Year =  1994 Maximum Year =  2021 Missing Years =  Series([], dtype: float64)\n",
      "Country =  BRA Minimum Year =  1995 Maximum Year =  2019 Missing Years =  Series([], dtype: float64)\n",
      "Country =  LTU Minimum Year =  1995 Maximum Year =  2021 Missing Years =  Series([], dtype: float64)\n",
      "Country =  CRI Minimum Year =  1991 Maximum Year =  2021 Missing Years =  Series([], dtype: float64)\n",
      "Country =  EA Minimum Year =  1995 Maximum Year =  2021 Missing Years =  Series([], dtype: float64)\n",
      "Country =  EU Minimum Year =  1995 Maximum Year =  2021 Missing Years =  Series([], dtype: float64)\n",
      "Highest Min =  1995  Country =  COL\n",
      "Lowest Max =  2019  Country =  IND\n"
     ]
    }
   ],
   "source": [
    "# house_spend_df_dropped\n",
    "min_high = 1\n",
    "min_high_country = ''\n",
    "max_low = 9999\n",
    "max_low_country  = ''\n",
    "\n",
    "for country in house_spend_df_dropped.LOCATION.unique():\n",
    "    #print(country)\n",
    "    tempdf = house_spend_df_dropped[house_spend_df_dropped['LOCATION']==country]\n",
    "    minyear = int(tempdf.TIME.min())\n",
    "    if(min_high<minyear):\n",
    "        min_high=minyear\n",
    "        min_high_country = country\n",
    "\n",
    "    maxyear = int(tempdf.TIME.max())\n",
    "    if(max_low>maxyear):\n",
    "        max_low=maxyear\n",
    "        max_low_country = country\n",
    "    missingyear = []\n",
    "    for i in range(minyear,maxyear):\n",
    "        if((tempdf['TIME']==str(i)).any() == False):\n",
    "            tempseries = pd.Series([str(i)])\n",
    "            missingyear = pd.Series(missingyear)\n",
    "            pd.concat([missingyear, tempseries])\n",
    "\n",
    "    print('Country = ', country, 'Minimum Year = ',minyear, 'Maximum Year = ', maxyear, 'Missing Years = ', missingyear)\n",
    "\n",
    "print('Highest Min = ', min_high, ' Country = ', min_high_country)\n",
    "print('Lowest Max = ', max_low, ' Country = ', max_low_country )"
   ]
  }
 ],
 "metadata": {
  "kernelspec": {
   "display_name": "Python 3 (ipykernel)",
   "language": "python",
   "name": "python3"
  },
  "language_info": {
   "codemirror_mode": {
    "name": "ipython",
    "version": 3
   },
   "file_extension": ".py",
   "mimetype": "text/x-python",
   "name": "python",
   "nbconvert_exporter": "python",
   "pygments_lexer": "ipython3",
   "version": "3.9.12"
  }
 },
 "nbformat": 4,
 "nbformat_minor": 5
}
