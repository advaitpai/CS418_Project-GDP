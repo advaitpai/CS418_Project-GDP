{
 "cells": [
  {
   "cell_type": "code",
   "execution_count": 1,
   "id": "70e28806",
   "metadata": {},
   "outputs": [
    {
     "data": {
      "text/html": [
       "<div>\n",
       "<style scoped>\n",
       "    .dataframe tbody tr th:only-of-type {\n",
       "        vertical-align: middle;\n",
       "    }\n",
       "\n",
       "    .dataframe tbody tr th {\n",
       "        vertical-align: top;\n",
       "    }\n",
       "\n",
       "    .dataframe thead th {\n",
       "        text-align: right;\n",
       "    }\n",
       "</style>\n",
       "<table border=\"1\" class=\"dataframe\">\n",
       "  <thead>\n",
       "    <tr style=\"text-align: right;\">\n",
       "      <th></th>\n",
       "      <th>LOCATION</th>\n",
       "      <th>INDICATOR</th>\n",
       "      <th>SUBJECT</th>\n",
       "      <th>MEASURE</th>\n",
       "      <th>FREQUENCY</th>\n",
       "      <th>TIME</th>\n",
       "      <th>Value</th>\n",
       "      <th>Flag Codes</th>\n",
       "    </tr>\n",
       "  </thead>\n",
       "  <tbody>\n",
       "    <tr>\n",
       "      <th>0</th>\n",
       "      <td>AUS</td>\n",
       "      <td>HHEXP</td>\n",
       "      <td>TOT</td>\n",
       "      <td>MLN_USD</td>\n",
       "      <td>A</td>\n",
       "      <td>1970</td>\n",
       "      <td>30476.510257</td>\n",
       "      <td>NaN</td>\n",
       "    </tr>\n",
       "    <tr>\n",
       "      <th>1</th>\n",
       "      <td>AUS</td>\n",
       "      <td>HHEXP</td>\n",
       "      <td>TOT</td>\n",
       "      <td>MLN_USD</td>\n",
       "      <td>A</td>\n",
       "      <td>1971</td>\n",
       "      <td>32799.844017</td>\n",
       "      <td>NaN</td>\n",
       "    </tr>\n",
       "    <tr>\n",
       "      <th>2</th>\n",
       "      <td>AUS</td>\n",
       "      <td>HHEXP</td>\n",
       "      <td>TOT</td>\n",
       "      <td>MLN_USD</td>\n",
       "      <td>A</td>\n",
       "      <td>1972</td>\n",
       "      <td>35590.183565</td>\n",
       "      <td>NaN</td>\n",
       "    </tr>\n",
       "    <tr>\n",
       "      <th>3</th>\n",
       "      <td>AUS</td>\n",
       "      <td>HHEXP</td>\n",
       "      <td>TOT</td>\n",
       "      <td>MLN_USD</td>\n",
       "      <td>A</td>\n",
       "      <td>1973</td>\n",
       "      <td>41114.456624</td>\n",
       "      <td>NaN</td>\n",
       "    </tr>\n",
       "    <tr>\n",
       "      <th>4</th>\n",
       "      <td>AUS</td>\n",
       "      <td>HHEXP</td>\n",
       "      <td>TOT</td>\n",
       "      <td>MLN_USD</td>\n",
       "      <td>A</td>\n",
       "      <td>1974</td>\n",
       "      <td>48461.851872</td>\n",
       "      <td>NaN</td>\n",
       "    </tr>\n",
       "  </tbody>\n",
       "</table>\n",
       "</div>"
      ],
      "text/plain": [
       "  LOCATION INDICATOR SUBJECT  MEASURE FREQUENCY  TIME         Value Flag Codes\n",
       "0      AUS     HHEXP     TOT  MLN_USD         A  1970  30476.510257        NaN\n",
       "1      AUS     HHEXP     TOT  MLN_USD         A  1971  32799.844017        NaN\n",
       "2      AUS     HHEXP     TOT  MLN_USD         A  1972  35590.183565        NaN\n",
       "3      AUS     HHEXP     TOT  MLN_USD         A  1973  41114.456624        NaN\n",
       "4      AUS     HHEXP     TOT  MLN_USD         A  1974  48461.851872        NaN"
      ]
     },
     "execution_count": 1,
     "metadata": {},
     "output_type": "execute_result"
    }
   ],
   "source": [
    "import pandas as pd\n",
    "house_spend_df = pd.read_csv('../data/uncleaned/household_spend.csv')\n",
    "house_spend_df.head()"
   ]
  },
  {
   "attachments": {},
   "cell_type": "markdown",
   "id": "ac5dad2d",
   "metadata": {},
   "source": [
    "Checking Values in Each column of the Dataset"
   ]
  },
  {
   "cell_type": "code",
   "execution_count": 2,
   "id": "6e9fda47",
   "metadata": {},
   "outputs": [
    {
     "name": "stdout",
     "output_type": "stream",
     "text": [
      "Number of rows 8938\n",
      "Number of unique values in each column\n",
      "Unique value of LOCATION column AUS     260\n",
      "USA     259\n",
      "FIN     257\n",
      "FRA     255\n",
      "KOR     254\n",
      "NOR     254\n",
      "SWE     240\n",
      "CAN     239\n",
      "DNK     238\n",
      "GRC     238\n",
      "NLD     238\n",
      "GBR     237\n",
      "ESP     237\n",
      "AUT     237\n",
      "PRT     237\n",
      "LUX     237\n",
      "ITA     237\n",
      "IRL     237\n",
      "DEU     237\n",
      "BEL     237\n",
      "JPN     235\n",
      "CHE     235\n",
      "NZL     229\n",
      "MEX     226\n",
      "TUR     207\n",
      "ZAF     204\n",
      "ISL     187\n",
      "ISR     162\n",
      "POL     157\n",
      "CZE     157\n",
      "SVN     156\n",
      "HUN     153\n",
      "SVK     148\n",
      "EST     144\n",
      "IND     139\n",
      "LVA     139\n",
      "LTU     137\n",
      "EA      133\n",
      "EU      133\n",
      "CRI     131\n",
      "RUS     123\n",
      "CHL     108\n",
      "IDN     101\n",
      "COL      87\n",
      "OAVG     87\n",
      "BRA      79\n",
      "CHN      76\n",
      "Name: LOCATION, dtype: int64\n",
      "Unique value of SUBJECT column TOT          6002\n",
      "GOVTRANSF    1875\n",
      "HOUSING      1061\n",
      "Name: SUBJECT, dtype: int64\n",
      "Unique value of MEASURE column PC_GDP     3957\n",
      "AGRWTH     1965\n",
      "MLN_USD    1955\n",
      "PC_DI      1061\n",
      "Name: MEASURE, dtype: int64\n",
      "Unique value of TIME column 2019    221\n",
      "2018    221\n",
      "2017    221\n",
      "2016    221\n",
      "2015    221\n",
      "2014    221\n",
      "2013    221\n",
      "2012    219\n",
      "2011    218\n",
      "2010    216\n",
      "2006    214\n",
      "2003    214\n",
      "2004    214\n",
      "2005    214\n",
      "2009    214\n",
      "2007    214\n",
      "2008    214\n",
      "2002    213\n",
      "2001    213\n",
      "1999    212\n",
      "2000    212\n",
      "1998    210\n",
      "1997    209\n",
      "1996    209\n",
      "2020    209\n",
      "1995    202\n",
      "2021    200\n",
      "1994    164\n",
      "1993    156\n",
      "1992    148\n",
      "1991    146\n",
      "1990    135\n",
      "1989    122\n",
      "1988    120\n",
      "1987    120\n",
      "1986    119\n",
      "1981    118\n",
      "1978    118\n",
      "1979    118\n",
      "1980    118\n",
      "1982    118\n",
      "1984    118\n",
      "1985    118\n",
      "1983    118\n",
      "1977    115\n",
      "1976    115\n",
      "1975    115\n",
      "1971    113\n",
      "1974    113\n",
      "1973    113\n",
      "1972    113\n",
      "1970     94\n",
      "2022     86\n",
      "Name: TIME, dtype: int64\n"
     ]
    }
   ],
   "source": [
    "print('Number of rows',house_spend_df.shape[0])\n",
    "print('Number of unique values in each column')\n",
    "# print(house_spend_df.nunique())\n",
    "print('Unique value of LOCATION column',house_spend_df['LOCATION'].value_counts())\n",
    "print('Unique value of SUBJECT column',house_spend_df['SUBJECT'].value_counts())\n",
    "print('Unique value of MEASURE column',house_spend_df['MEASURE'].value_counts())\n",
    "print('Unique value of TIME column',house_spend_df['TIME'].value_counts())"
   ]
  },
  {
   "attachments": {},
   "cell_type": "markdown",
   "id": "92e30e33",
   "metadata": {},
   "source": [
    "### Dropping Columns with irrelevant values\n",
    "Flag Codes  \n",
    "Frequency  \n",
    "INDICATOR column  \n",
    "TOT valued rows in SUBJECT  \n",
    "MLN_USD valued rows in MEASURE  "
   ]
  },
  {
   "cell_type": "code",
   "execution_count": 3,
   "id": "03530ffb",
   "metadata": {},
   "outputs": [
    {
     "name": "stdout",
     "output_type": "stream",
     "text": [
      "Unique value of Flag Codes column [nan 'E' 'B']\n"
     ]
    }
   ],
   "source": [
    "print('Unique value of Flag Codes column',house_spend_df['Flag Codes'].unique())\n",
    "# Unique value of Flag Codes column [nan 'E' 'B']\n",
    "# Dropping Flag Codes\n",
    "house_spend_df = house_spend_df.drop('Flag Codes',axis=1) "
   ]
  },
  {
   "cell_type": "code",
   "execution_count": 4,
   "id": "87f475ae",
   "metadata": {},
   "outputs": [
    {
     "name": "stdout",
     "output_type": "stream",
     "text": [
      "Unique value of FREQUENCY column ['A']\n"
     ]
    }
   ],
   "source": [
    "print('Unique value of FREQUENCY column',house_spend_df['FREQUENCY'].unique())\n",
    "# Unique value of FREQUENCY column ['A']\n",
    "# Dropping FREQUENCY\n",
    "house_spend_df = house_spend_df.drop('FREQUENCY',axis=1) "
   ]
  },
  {
   "cell_type": "code",
   "execution_count": 5,
   "id": "8289858d",
   "metadata": {},
   "outputs": [
    {
     "name": "stdout",
     "output_type": "stream",
     "text": [
      "Unique value of INDICATOR column ['HHEXP']\n"
     ]
    }
   ],
   "source": [
    "print('Unique value of INDICATOR column',house_spend_df['INDICATOR'].unique())\n",
    "# Unique value of INDICATOR column ['HHEXP']\n",
    "# Dropping INDICATOR\n",
    "house_spend_df = house_spend_df.drop('INDICATOR',axis=1) "
   ]
  },
  {
   "cell_type": "code",
   "execution_count": 6,
   "id": "d3f0cc5f",
   "metadata": {},
   "outputs": [],
   "source": [
    "house_spend_df_dropped = house_spend_df[house_spend_df['SUBJECT'] == 'TOT']\n",
    "house_spend_df_dropped = house_spend_df_dropped[house_spend_df_dropped['MEASURE'] == 'MLN_USD']"
   ]
  },
  {
   "cell_type": "code",
   "execution_count": 7,
   "id": "636ba874",
   "metadata": {},
   "outputs": [
    {
     "name": "stdout",
     "output_type": "stream",
     "text": [
      "Number of nan values in Value column 0\n",
      "Type of data in Value column that are not float 0\n"
     ]
    }
   ],
   "source": [
    "print('Number of nan values in Value column',house_spend_df_dropped['Value'].isnull().sum())\n",
    "print('Type of data in Value column that are not float',(house_spend_df_dropped['Value'].map(type)!= float).sum())"
   ]
  },
  {
   "cell_type": "code",
   "execution_count": 8,
   "id": "3e293abb",
   "metadata": {},
   "outputs": [
    {
     "data": {
      "text/plain": [
       "(1955, 5)"
      ]
     },
     "execution_count": 8,
     "metadata": {},
     "output_type": "execute_result"
    }
   ],
   "source": [
    "house_spend_df_dropped.head() \n",
    "house_spend_df_dropped.shape"
   ]
  },
  {
   "cell_type": "code",
   "execution_count": 9,
   "id": "650457e5",
   "metadata": {},
   "outputs": [
    {
     "data": {
      "text/plain": [
       "(8938, 5)"
      ]
     },
     "execution_count": 9,
     "metadata": {},
     "output_type": "execute_result"
    }
   ],
   "source": [
    "house_spend_df.head()\n",
    "house_spend_df.shape"
   ]
  },
  {
   "cell_type": "code",
   "execution_count": 10,
   "id": "c64acb7b",
   "metadata": {},
   "outputs": [
    {
     "name": "stderr",
     "output_type": "stream",
     "text": [
      "C:\\Users\\unair2\\AppData\\Local\\Temp\\ipykernel_29912\\3875225121.py:22: FutureWarning: The default dtype for empty Series will be 'object' instead of 'float64' in a future version. Specify a dtype explicitly to silence this warning.\n",
      "  missingyear = pd.Series(missingyear)\n"
     ]
    },
    {
     "name": "stdout",
     "output_type": "stream",
     "text": [
      "Country =  AUS Minimum Year =  1970 Maximum Year =  2021 Missing Years =  Series([], dtype: float64)\n",
      "Country =  AUT Minimum Year =  1970 Maximum Year =  2022 Missing Years =  Series([], dtype: float64)\n",
      "Country =  BEL Minimum Year =  1970 Maximum Year =  2022 Missing Years =  Series([], dtype: float64)\n",
      "Country =  CAN Minimum Year =  1970 Maximum Year =  2022 Missing Years =  Series([], dtype: float64)\n",
      "Country =  CZE Minimum Year =  1990 Maximum Year =  2022 Missing Years =  Series([], dtype: float64)\n",
      "Country =  DNK Minimum Year =  1970 Maximum Year =  2022 Missing Years =  Series([], dtype: float64)\n",
      "Country =  FIN Minimum Year =  1970 Maximum Year =  2022 Missing Years =  Series([], dtype: float64)\n",
      "Country =  FRA Minimum Year =  1970 Maximum Year =  2022 Missing Years =  Series([], dtype: float64)\n",
      "Country =  DEU Minimum Year =  1970 Maximum Year =  2022 Missing Years =  Series([], dtype: float64)\n",
      "Country =  GRC Minimum Year =  1970 Maximum Year =  2022 Missing Years =  Series([], dtype: float64)\n",
      "Country =  HUN Minimum Year =  1991 Maximum Year =  2022 Missing Years =  Series([], dtype: float64)\n",
      "Country =  ISL Minimum Year =  1970 Maximum Year =  2021 Missing Years =  Series([], dtype: float64)\n",
      "Country =  IRL Minimum Year =  1970 Maximum Year =  2022 Missing Years =  Series([], dtype: float64)\n",
      "Country =  ITA Minimum Year =  1970 Maximum Year =  2022 Missing Years =  Series([], dtype: float64)\n",
      "Country =  JPN Minimum Year =  1970 Maximum Year =  2021 Missing Years =  Series([], dtype: float64)\n",
      "Country =  KOR Minimum Year =  1970 Maximum Year =  2021 Missing Years =  Series([], dtype: float64)\n",
      "Country =  LUX Minimum Year =  1970 Maximum Year =  2022 Missing Years =  Series([], dtype: float64)\n",
      "Country =  MEX Minimum Year =  1970 Maximum Year =  2021 Missing Years =  Series([], dtype: float64)\n",
      "Country =  NLD Minimum Year =  1970 Maximum Year =  2022 Missing Years =  Series([], dtype: float64)\n",
      "Country =  NZL Minimum Year =  1970 Maximum Year =  2021 Missing Years =  Series([], dtype: float64)\n",
      "Country =  NOR Minimum Year =  1970 Maximum Year =  2022 Missing Years =  Series([], dtype: float64)\n",
      "Country =  POL Minimum Year =  1990 Maximum Year =  2022 Missing Years =  Series([], dtype: float64)\n",
      "Country =  PRT Minimum Year =  1970 Maximum Year =  2022 Missing Years =  Series([], dtype: float64)\n",
      "Country =  SVK Minimum Year =  1990 Maximum Year =  2022 Missing Years =  Series([], dtype: float64)\n",
      "Country =  ESP Minimum Year =  1970 Maximum Year =  2022 Missing Years =  Series([], dtype: float64)\n",
      "Country =  SWE Minimum Year =  1970 Maximum Year =  2022 Missing Years =  Series([], dtype: float64)\n",
      "Country =  CHE Minimum Year =  1970 Maximum Year =  2022 Missing Years =  Series([], dtype: float64)\n",
      "Country =  TUR Minimum Year =  1970 Maximum Year =  2021 Missing Years =  Series([], dtype: float64)\n",
      "Country =  GBR Minimum Year =  1970 Maximum Year =  2022 Missing Years =  Series([], dtype: float64)\n",
      "Country =  USA Minimum Year =  1970 Maximum Year =  2021 Missing Years =  Series([], dtype: float64)\n",
      "Country =  CHL Minimum Year =  1986 Maximum Year =  2021 Missing Years =  Series([], dtype: float64)\n",
      "Country =  CHN Minimum Year =  1978 Maximum Year =  2021 Missing Years =  Series([], dtype: float64)\n",
      "Country =  COL Minimum Year =  1995 Maximum Year =  2021 Missing Years =  Series([], dtype: float64)\n",
      "Country =  EST Minimum Year =  1993 Maximum Year =  2022 Missing Years =  Series([], dtype: float64)\n",
      "Country =  IND Minimum Year =  1970 Maximum Year =  2019 Missing Years =  Series([], dtype: float64)\n",
      "Country =  IDN Minimum Year =  1993 Maximum Year =  2022 Missing Years =  Series([], dtype: float64)\n",
      "Country =  ISR Minimum Year =  1970 Maximum Year =  2021 Missing Years =  Series([], dtype: float64)\n",
      "Country =  RUS Minimum Year =  1989 Maximum Year =  2020 Missing Years =  Series([], dtype: float64)\n",
      "Country =  SVN Minimum Year =  1990 Maximum Year =  2022 Missing Years =  Series([], dtype: float64)\n",
      "Country =  ZAF Minimum Year =  1970 Maximum Year =  2020 Missing Years =  Series([], dtype: float64)\n",
      "Country =  EA Minimum Year =  1995 Maximum Year =  2022 Missing Years =  Series([], dtype: float64)\n",
      "Country =  EU Minimum Year =  1995 Maximum Year =  2022 Missing Years =  Series([], dtype: float64)\n",
      "Country =  LVA Minimum Year =  1994 Maximum Year =  2022 Missing Years =  Series([], dtype: float64)\n",
      "Country =  BRA Minimum Year =  1995 Maximum Year =  2019 Missing Years =  Series([], dtype: float64)\n",
      "Country =  LTU Minimum Year =  1995 Maximum Year =  2022 Missing Years =  Series([], dtype: float64)\n",
      "Country =  CRI Minimum Year =  1991 Maximum Year =  2021 Missing Years =  Series([], dtype: float64)\n",
      "Country =  OAVG Minimum Year =  1970 Maximum Year =  2021 Missing Years =  Series([], dtype: float64)\n",
      "Highest Min =  1995  Country =  COL\n",
      "Lowest Max =  2019  Country =  IND\n"
     ]
    }
   ],
   "source": [
    "min_high = 1\n",
    "min_high_country = ''\n",
    "max_low = 9999\n",
    "max_low_country  = ''\n",
    "\n",
    "for country in house_spend_df.LOCATION.unique():\n",
    "    #print(country)\n",
    "    tempdf = house_spend_df[house_spend_df['LOCATION']==country]\n",
    "    minyear = int(tempdf.TIME.min())\n",
    "    if(min_high<minyear):\n",
    "        min_high=minyear\n",
    "        min_high_country = country\n",
    "\n",
    "    maxyear = int(tempdf.TIME.max())\n",
    "    if(max_low>maxyear):\n",
    "        max_low=maxyear\n",
    "        max_low_country = country\n",
    "    missingyear = []\n",
    "    for i in range(minyear,maxyear):\n",
    "        if((tempdf['TIME']==str(i)).any() == False):\n",
    "            tempseries = pd.Series([str(i)])\n",
    "            missingyear = pd.Series(missingyear)\n",
    "            pd.concat([missingyear, tempseries])\n",
    "\n",
    "    print('Country = ', country, 'Minimum Year = ',minyear, 'Maximum Year = ', maxyear, 'Missing Years = ', missingyear)\n",
    "\n",
    "print('Highest Min = ', min_high, ' Country = ', min_high_country)\n",
    "print('Lowest Max = ', max_low, ' Country = ', max_low_country )"
   ]
  },
  {
   "attachments": {},
   "cell_type": "markdown",
   "id": "cedbab12",
   "metadata": {},
   "source": [
    "Checking for missing values in between year ranges for each country"
   ]
  },
  {
   "cell_type": "code",
   "execution_count": 11,
   "id": "7b50fcef",
   "metadata": {},
   "outputs": [
    {
     "name": "stdout",
     "output_type": "stream",
     "text": [
      "Country = "
     ]
    },
    {
     "name": "stderr",
     "output_type": "stream",
     "text": [
      "C:\\Users\\unair2\\AppData\\Local\\Temp\\ipykernel_29912\\3001009276.py:23: FutureWarning: The default dtype for empty Series will be 'object' instead of 'float64' in a future version. Specify a dtype explicitly to silence this warning.\n",
      "  missingyear = pd.Series(missingyear)\n",
      "C:\\Users\\unair2\\AppData\\Local\\Temp\\ipykernel_29912\\3001009276.py:23: FutureWarning: The default dtype for empty Series will be 'object' instead of 'float64' in a future version. Specify a dtype explicitly to silence this warning.\n",
      "  missingyear = pd.Series(missingyear)\n"
     ]
    },
    {
     "name": "stdout",
     "output_type": "stream",
     "text": [
      " AUS Minimum Year =  1970 Maximum Year =  2021 Missing Years =  Series([], dtype: float64)\n",
      "Country =  AUT Minimum Year =  1970 Maximum Year =  2021 Missing Years =  Series([], dtype: float64)\n",
      "Country =  BEL Minimum Year =  1970 Maximum Year =  2021 Missing Years =  Series([], dtype: float64)\n",
      "Country =  CAN Minimum Year =  1970 Maximum Year =  2021 Missing Years =  Series([], dtype: float64)\n",
      "Country =  CZE Minimum Year =  1990 Maximum Year =  2021 Missing Years =  Series([], dtype: float64)\n",
      "Country =  DNK Minimum Year =  1970 Maximum Year =  2021 Missing Years =  Series([], dtype: float64)\n",
      "Country =  FIN Minimum Year =  1970 Maximum Year =  2021 Missing Years =  Series([], dtype: float64)\n",
      "Country =  FRA Minimum Year =  1970 Maximum Year =  2021 Missing Years =  Series([], dtype: float64)\n",
      "Country =  DEU Minimum Year =  1970 Maximum Year =  2021 Missing Years =  Series([], dtype: float64)\n",
      "Country =  GRC Minimum Year =  1970 Maximum Year =  2021 Missing Years =  Series([], dtype: float64)\n",
      "Country =  HUN Minimum Year =  1991 Maximum Year =  2021 Missing Years =  Series([], dtype: float64)\n",
      "Country =  ISL Minimum Year =  1970 Maximum Year =  2021 Missing Years =  Series([], dtype: float64)\n",
      "Country =  IRL Minimum Year =  1970 Maximum Year =  2021 Missing Years =  Series([], dtype: float64)\n",
      "Country =  ITA Minimum Year =  1970 Maximum Year =  2021 Missing Years =  Series([], dtype: float64)\n",
      "Country =  JPN Minimum Year =  1970 Maximum Year =  2021 Missing Years =  Series([], dtype: float64)\n",
      "Country =  KOR Minimum Year =  1970 Maximum Year =  2021 Missing Years =  Series([], dtype: float64)\n",
      "Country =  LUX Minimum Year =  1970 Maximum Year =  2021 Missing Years =  Series([], dtype: float64)\n",
      "Country =  MEX Minimum Year =  1970 Maximum Year =  2021 Missing Years =  Series([], dtype: float64)\n",
      "Country =  NLD Minimum Year =  1970 Maximum Year =  2021 Missing Years =  Series([], dtype: float64)\n",
      "Country =  NZL Minimum Year =  1970 Maximum Year =  2021 Missing Years =  Series([], dtype: float64)\n",
      "Country =  NOR Minimum Year =  1970 Maximum Year =  2021 Missing Years =  Series([], dtype: float64)\n",
      "Country =  POL Minimum Year =  1990 Maximum Year =  2021 Missing Years =  Series([], dtype: float64)\n",
      "Country =  PRT Minimum Year =  1970 Maximum Year =  2021 Missing Years =  Series([], dtype: float64)\n",
      "Country =  SVK Minimum Year =  1993 Maximum Year =  2021 Missing Years =  Series([], dtype: float64)\n",
      "Country =  ESP Minimum Year =  1970 Maximum Year =  2021 Missing Years =  Series([], dtype: float64)\n",
      "Country =  SWE Minimum Year =  1970 Maximum Year =  2021 Missing Years =  Series([], dtype: float64)\n",
      "Country =  CHE Minimum Year =  1970 Maximum Year =  2021 Missing Years =  Series([], dtype: float64)\n",
      "Country =  TUR Minimum Year =  1970 Maximum Year =  2021 Missing Years =  Series([], dtype: float64)\n",
      "Country =  GBR Minimum Year =  1970 Maximum Year =  2021 Missing Years =  Series([], dtype: float64)\n",
      "Country =  USA Minimum Year =  1970 Maximum Year =  2021 Missing Years =  Series([], dtype: float64)\n",
      "Country =  CHL Minimum Year =  1994 Maximum Year =  2021 Missing Years =  Series([], dtype: float64)\n",
      "Country =  CHN Minimum Year =  1990 Maximum Year =  2021 Missing Years =  Series([], dtype: float64)\n",
      "Country =  COL Minimum Year =  1995 Maximum Year =  2021 Missing Years =  Series([], dtype: float64)\n",
      "Country =  EST Minimum Year =  1994 Maximum Year =  2021 Missing Years =  Series([], dtype: float64)\n",
      "Country =  IND Minimum Year =  1990 Maximum Year =  2019 Missing Years =  Series([], dtype: float64)\n",
      "Country =  IDN Minimum Year =  1993 Maximum Year =  2021 Missing Years =  Series([], dtype: float64)\n",
      "Country =  ISR Minimum Year =  1990 Maximum Year =  2021 Missing Years =  Series([], dtype: float64)\n",
      "Country =  RUS Minimum Year =  1995 Maximum Year =  2020 Missing Years =  Series([], dtype: float64)\n",
      "Country =  SVN Minimum Year =  1991 Maximum Year =  2021 Missing Years =  Series([], dtype: float64)\n",
      "Country =  ZAF Minimum Year =  1970 Maximum Year =  2020 Missing Years =  Series([], dtype: float64)\n",
      "Country =  LVA Minimum Year =  1994 Maximum Year =  2021 Missing Years =  Series([], dtype: float64)\n",
      "Country =  BRA Minimum Year =  1995 Maximum Year =  2019 Missing Years =  Series([], dtype: float64)\n",
      "Country =  LTU Minimum Year =  1995 Maximum Year =  2021 Missing Years =  Series([], dtype: float64)\n",
      "Country =  CRI Minimum Year =  1991 Maximum Year =  2021 Missing Years =  Series([], dtype: float64)\n",
      "Country =  EA Minimum Year =  1995 Maximum Year =  2021 Missing Years =  Series([], dtype: float64)\n",
      "Country =  EU Minimum Year =  1995 Maximum Year =  2021 Missing Years =  Series([], dtype: float64)\n",
      "Highest Min =  1995  Country =  COL\n",
      "Lowest Max =  2019  Country =  IND\n"
     ]
    }
   ],
   "source": [
    "# house_spend_df_dropped\n",
    "min_high = 1\n",
    "min_high_country = ''\n",
    "max_low = 9999\n",
    "max_low_country  = ''\n",
    "\n",
    "for country in house_spend_df_dropped.LOCATION.unique():\n",
    "    #print(country)\n",
    "    tempdf = house_spend_df_dropped[house_spend_df_dropped['LOCATION']==country]\n",
    "    minyear = int(tempdf.TIME.min())\n",
    "    if(min_high<minyear):\n",
    "        min_high=minyear\n",
    "        min_high_country = country\n",
    "\n",
    "    maxyear = int(tempdf.TIME.max())\n",
    "    if(max_low>maxyear):\n",
    "        max_low=maxyear\n",
    "        max_low_country = country\n",
    "    missingyear = []\n",
    "    for i in range(minyear,maxyear):\n",
    "        if((tempdf['TIME']==str(i)).any() == False):\n",
    "            tempseries = pd.Series([str(i)])\n",
    "            missingyear = pd.Series(missingyear)\n",
    "            pd.concat([missingyear, tempseries])\n",
    "\n",
    "    print('Country = ', country, 'Minimum Year = ',minyear, 'Maximum Year = ', maxyear, 'Missing Years = ', missingyear)\n",
    "    house_spend_df_dropped.loc[house_spend_df_dropped.LOCATION == country, 'MAXYEAR'] = maxyear\n",
    "    house_spend_df_dropped.loc[house_spend_df_dropped.LOCATION == country, 'MINYEAR'] = minyear\n",
    "#     house_spend_df_dropped['MINYEAR'] = minyear\n",
    "#     house_spend_df_dropped['MAXYEAR'] = maxyear\n",
    "    \n",
    "print('Highest Min = ', min_high, ' Country = ', min_high_country)\n",
    "print('Lowest Max = ', max_low, ' Country = ', max_low_country )"
   ]
  },
  {
   "attachments": {},
   "cell_type": "markdown",
   "id": "4b832a79",
   "metadata": {},
   "source": [
    "CODE for selection of data from a specific date range "
   ]
  },
  {
   "cell_type": "code",
   "execution_count": 12,
   "id": "2b491f45",
   "metadata": {},
   "outputs": [],
   "source": [
    "# house_spend_df_dropped['LOCATION'].unique()\n",
    "# house_spend_df_dropped.head()\n",
    "# Keep only the countries with minyear = 1970 and maxyear as 2021\n",
    "# and export that as a csv\n",
    "# change the value to HOUSESPEND\n",
    "\n",
    "# final_df = house_spend_df_dropped.loc[house_spend_df_dropped.MINYEAR == 1970]\n",
    "# final_df = final_df.loc[final_df.MAXYEAR == 2021]\n",
    "\n",
    "# house_spend_df_dropped.rename(columns={'Value': 'HOUSESPEND'})\n",
    "# final_df['LOCATION'].unique()"
   ]
  },
  {
   "cell_type": "code",
   "execution_count": 13,
   "id": "a894b8e9",
   "metadata": {},
   "outputs": [
    {
     "data": {
      "text/html": [
       "<div>\n",
       "<style scoped>\n",
       "    .dataframe tbody tr th:only-of-type {\n",
       "        vertical-align: middle;\n",
       "    }\n",
       "\n",
       "    .dataframe tbody tr th {\n",
       "        vertical-align: top;\n",
       "    }\n",
       "\n",
       "    .dataframe thead th {\n",
       "        text-align: right;\n",
       "    }\n",
       "</style>\n",
       "<table border=\"1\" class=\"dataframe\">\n",
       "  <thead>\n",
       "    <tr style=\"text-align: right;\">\n",
       "      <th></th>\n",
       "      <th>LOCATION</th>\n",
       "      <th>SUBJECT</th>\n",
       "      <th>MEASURE</th>\n",
       "      <th>TIME</th>\n",
       "      <th>Value</th>\n",
       "      <th>MAXYEAR</th>\n",
       "      <th>MINYEAR</th>\n",
       "    </tr>\n",
       "  </thead>\n",
       "  <tbody>\n",
       "    <tr>\n",
       "      <th>0</th>\n",
       "      <td>AUS</td>\n",
       "      <td>TOT</td>\n",
       "      <td>MLN_USD</td>\n",
       "      <td>1970</td>\n",
       "      <td>30476.510257</td>\n",
       "      <td>2021.0</td>\n",
       "      <td>1970.0</td>\n",
       "    </tr>\n",
       "    <tr>\n",
       "      <th>1</th>\n",
       "      <td>AUS</td>\n",
       "      <td>TOT</td>\n",
       "      <td>MLN_USD</td>\n",
       "      <td>1971</td>\n",
       "      <td>32799.844017</td>\n",
       "      <td>2021.0</td>\n",
       "      <td>1970.0</td>\n",
       "    </tr>\n",
       "    <tr>\n",
       "      <th>2</th>\n",
       "      <td>AUS</td>\n",
       "      <td>TOT</td>\n",
       "      <td>MLN_USD</td>\n",
       "      <td>1972</td>\n",
       "      <td>35590.183565</td>\n",
       "      <td>2021.0</td>\n",
       "      <td>1970.0</td>\n",
       "    </tr>\n",
       "    <tr>\n",
       "      <th>3</th>\n",
       "      <td>AUS</td>\n",
       "      <td>TOT</td>\n",
       "      <td>MLN_USD</td>\n",
       "      <td>1973</td>\n",
       "      <td>41114.456624</td>\n",
       "      <td>2021.0</td>\n",
       "      <td>1970.0</td>\n",
       "    </tr>\n",
       "    <tr>\n",
       "      <th>4</th>\n",
       "      <td>AUS</td>\n",
       "      <td>TOT</td>\n",
       "      <td>MLN_USD</td>\n",
       "      <td>1974</td>\n",
       "      <td>48461.851872</td>\n",
       "      <td>2021.0</td>\n",
       "      <td>1970.0</td>\n",
       "    </tr>\n",
       "  </tbody>\n",
       "</table>\n",
       "</div>"
      ],
      "text/plain": [
       "  LOCATION SUBJECT  MEASURE  TIME         Value  MAXYEAR  MINYEAR\n",
       "0      AUS     TOT  MLN_USD  1970  30476.510257   2021.0   1970.0\n",
       "1      AUS     TOT  MLN_USD  1971  32799.844017   2021.0   1970.0\n",
       "2      AUS     TOT  MLN_USD  1972  35590.183565   2021.0   1970.0\n",
       "3      AUS     TOT  MLN_USD  1973  41114.456624   2021.0   1970.0\n",
       "4      AUS     TOT  MLN_USD  1974  48461.851872   2021.0   1970.0"
      ]
     },
     "execution_count": 13,
     "metadata": {},
     "output_type": "execute_result"
    }
   ],
   "source": [
    "final_df = house_spend_df_dropped\n",
    "final_df.head()"
   ]
  },
  {
   "cell_type": "code",
   "execution_count": 14,
   "id": "e7c6fe39",
   "metadata": {},
   "outputs": [
    {
     "data": {
      "text/plain": [
       "(1955, 3)"
      ]
     },
     "execution_count": 14,
     "metadata": {},
     "output_type": "execute_result"
    }
   ],
   "source": [
    "# final_df = final_df.rename(columns={'Value': 'HOUSESPEND'})\n",
    "final_df.head()\n",
    "final_df = final_df[['LOCATION','TIME','Value']]\n",
    "final_df.shape"
   ]
  },
  {
   "cell_type": "code",
   "execution_count": 15,
   "id": "0da13522",
   "metadata": {},
   "outputs": [],
   "source": [
    "from pathlib import Path \n",
    "filepath = Path('../data/temp/household_spend_cleaned.csv')\n",
    "final_df.to_csv(filepath)  "
   ]
  }
 ],
 "metadata": {
  "kernelspec": {
   "display_name": "Python 3 (ipykernel)",
   "language": "python",
   "name": "python3"
  },
  "language_info": {
   "codemirror_mode": {
    "name": "ipython",
    "version": 3
   },
   "file_extension": ".py",
   "mimetype": "text/x-python",
   "name": "python",
   "nbconvert_exporter": "python",
   "pygments_lexer": "ipython3",
   "version": "3.9.12"
  }
 },
 "nbformat": 4,
 "nbformat_minor": 5
}
