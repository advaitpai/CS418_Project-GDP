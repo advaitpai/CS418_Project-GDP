{
 "cells": [
  {
   "cell_type": "markdown",
   "id": "581aeed2",
   "metadata": {},
   "source": [
    "# Labour Force Dataset Cleaning"
   ]
  },
  {
   "cell_type": "code",
   "execution_count": 1,
   "id": "69997be4",
   "metadata": {},
   "outputs": [],
   "source": [
    "import pandas as pd"
   ]
  },
  {
   "cell_type": "code",
   "execution_count": 2,
   "id": "6a77008b",
   "metadata": {},
   "outputs": [
    {
     "data": {
      "text/html": [
       "<div>\n",
       "<style scoped>\n",
       "    .dataframe tbody tr th:only-of-type {\n",
       "        vertical-align: middle;\n",
       "    }\n",
       "\n",
       "    .dataframe tbody tr th {\n",
       "        vertical-align: top;\n",
       "    }\n",
       "\n",
       "    .dataframe thead th {\n",
       "        text-align: right;\n",
       "    }\n",
       "</style>\n",
       "<table border=\"1\" class=\"dataframe\">\n",
       "  <thead>\n",
       "    <tr style=\"text-align: right;\">\n",
       "      <th></th>\n",
       "      <th>LOCATION</th>\n",
       "      <th>INDICATOR</th>\n",
       "      <th>SUBJECT</th>\n",
       "      <th>MEASURE</th>\n",
       "      <th>FREQUENCY</th>\n",
       "      <th>TIME</th>\n",
       "      <th>Value</th>\n",
       "      <th>Flag Codes</th>\n",
       "    </tr>\n",
       "  </thead>\n",
       "  <tbody>\n",
       "    <tr>\n",
       "      <th>0</th>\n",
       "      <td>PRT</td>\n",
       "      <td>LF</td>\n",
       "      <td>MEN</td>\n",
       "      <td>THND_PER</td>\n",
       "      <td>A</td>\n",
       "      <td>1960</td>\n",
       "      <td>2791.0000</td>\n",
       "      <td>NaN</td>\n",
       "    </tr>\n",
       "    <tr>\n",
       "      <th>1</th>\n",
       "      <td>PRT</td>\n",
       "      <td>LF</td>\n",
       "      <td>MEN</td>\n",
       "      <td>THND_PER</td>\n",
       "      <td>A</td>\n",
       "      <td>1974</td>\n",
       "      <td>2259.0000</td>\n",
       "      <td>NaN</td>\n",
       "    </tr>\n",
       "    <tr>\n",
       "      <th>2</th>\n",
       "      <td>PRT</td>\n",
       "      <td>LF</td>\n",
       "      <td>MEN</td>\n",
       "      <td>THND_PER</td>\n",
       "      <td>A</td>\n",
       "      <td>1975</td>\n",
       "      <td>2378.0000</td>\n",
       "      <td>NaN</td>\n",
       "    </tr>\n",
       "    <tr>\n",
       "      <th>3</th>\n",
       "      <td>PRT</td>\n",
       "      <td>LF</td>\n",
       "      <td>MEN</td>\n",
       "      <td>THND_PER</td>\n",
       "      <td>A</td>\n",
       "      <td>1976</td>\n",
       "      <td>2481.0000</td>\n",
       "      <td>NaN</td>\n",
       "    </tr>\n",
       "    <tr>\n",
       "      <th>4</th>\n",
       "      <td>PRT</td>\n",
       "      <td>LF</td>\n",
       "      <td>MEN</td>\n",
       "      <td>THND_PER</td>\n",
       "      <td>A</td>\n",
       "      <td>1977</td>\n",
       "      <td>2477.0000</td>\n",
       "      <td>NaN</td>\n",
       "    </tr>\n",
       "    <tr>\n",
       "      <th>...</th>\n",
       "      <td>...</td>\n",
       "      <td>...</td>\n",
       "      <td>...</td>\n",
       "      <td>...</td>\n",
       "      <td>...</td>\n",
       "      <td>...</td>\n",
       "      <td>...</td>\n",
       "      <td>...</td>\n",
       "    </tr>\n",
       "    <tr>\n",
       "      <th>33709</th>\n",
       "      <td>CRI</td>\n",
       "      <td>LF</td>\n",
       "      <td>WOMEN</td>\n",
       "      <td>THND_PER</td>\n",
       "      <td>Q</td>\n",
       "      <td>2021-Q4</td>\n",
       "      <td>971.8795</td>\n",
       "      <td>NaN</td>\n",
       "    </tr>\n",
       "    <tr>\n",
       "      <th>33710</th>\n",
       "      <td>CRI</td>\n",
       "      <td>LF</td>\n",
       "      <td>WOMEN</td>\n",
       "      <td>THND_PER</td>\n",
       "      <td>Q</td>\n",
       "      <td>2022-Q1</td>\n",
       "      <td>985.6447</td>\n",
       "      <td>NaN</td>\n",
       "    </tr>\n",
       "    <tr>\n",
       "      <th>33711</th>\n",
       "      <td>CRI</td>\n",
       "      <td>LF</td>\n",
       "      <td>WOMEN</td>\n",
       "      <td>THND_PER</td>\n",
       "      <td>Q</td>\n",
       "      <td>2022-Q2</td>\n",
       "      <td>979.6906</td>\n",
       "      <td>NaN</td>\n",
       "    </tr>\n",
       "    <tr>\n",
       "      <th>33712</th>\n",
       "      <td>CRI</td>\n",
       "      <td>LF</td>\n",
       "      <td>WOMEN</td>\n",
       "      <td>THND_PER</td>\n",
       "      <td>Q</td>\n",
       "      <td>2022-Q3</td>\n",
       "      <td>996.8923</td>\n",
       "      <td>NaN</td>\n",
       "    </tr>\n",
       "    <tr>\n",
       "      <th>33713</th>\n",
       "      <td>CRI</td>\n",
       "      <td>LF</td>\n",
       "      <td>WOMEN</td>\n",
       "      <td>THND_PER</td>\n",
       "      <td>Q</td>\n",
       "      <td>2022-Q4</td>\n",
       "      <td>993.3235</td>\n",
       "      <td>NaN</td>\n",
       "    </tr>\n",
       "  </tbody>\n",
       "</table>\n",
       "<p>33714 rows × 8 columns</p>\n",
       "</div>"
      ],
      "text/plain": [
       "      LOCATION INDICATOR SUBJECT   MEASURE FREQUENCY     TIME      Value  \\\n",
       "0          PRT        LF     MEN  THND_PER         A     1960  2791.0000   \n",
       "1          PRT        LF     MEN  THND_PER         A     1974  2259.0000   \n",
       "2          PRT        LF     MEN  THND_PER         A     1975  2378.0000   \n",
       "3          PRT        LF     MEN  THND_PER         A     1976  2481.0000   \n",
       "4          PRT        LF     MEN  THND_PER         A     1977  2477.0000   \n",
       "...        ...       ...     ...       ...       ...      ...        ...   \n",
       "33709      CRI        LF   WOMEN  THND_PER         Q  2021-Q4   971.8795   \n",
       "33710      CRI        LF   WOMEN  THND_PER         Q  2022-Q1   985.6447   \n",
       "33711      CRI        LF   WOMEN  THND_PER         Q  2022-Q2   979.6906   \n",
       "33712      CRI        LF   WOMEN  THND_PER         Q  2022-Q3   996.8923   \n",
       "33713      CRI        LF   WOMEN  THND_PER         Q  2022-Q4   993.3235   \n",
       "\n",
       "      Flag Codes  \n",
       "0            NaN  \n",
       "1            NaN  \n",
       "2            NaN  \n",
       "3            NaN  \n",
       "4            NaN  \n",
       "...          ...  \n",
       "33709        NaN  \n",
       "33710        NaN  \n",
       "33711        NaN  \n",
       "33712        NaN  \n",
       "33713        NaN  \n",
       "\n",
       "[33714 rows x 8 columns]"
      ]
     },
     "execution_count": 2,
     "metadata": {},
     "output_type": "execute_result"
    }
   ],
   "source": [
    "lb = pd.read_csv('../data/uncleaned/labour_force.csv')\n",
    "lb"
   ]
  },
  {
   "cell_type": "markdown",
   "id": "724ebd98",
   "metadata": {},
   "source": [
    "**This Dataset has about 33k records for 8 features**"
   ]
  },
  {
   "cell_type": "code",
   "execution_count": 3,
   "id": "4759ff5e",
   "metadata": {},
   "outputs": [
    {
     "name": "stdout",
     "output_type": "stream",
     "text": [
      "LOCATION False\n",
      "INDICATOR False\n",
      "SUBJECT False\n",
      "MEASURE False\n",
      "FREQUENCY False\n",
      "TIME False\n",
      "Value False\n",
      "Flag Codes True\n"
     ]
    }
   ],
   "source": [
    "for col in lb.keys():\n",
    "    lb[col]\n",
    "    print(col,lb[col].isnull().values.any())"
   ]
  },
  {
   "cell_type": "markdown",
   "id": "44f34255",
   "metadata": {},
   "source": [
    "**No feature except Flag Codes has null values**"
   ]
  },
  {
   "cell_type": "code",
   "execution_count": 4,
   "id": "30145226",
   "metadata": {},
   "outputs": [
    {
     "data": {
      "text/plain": [
       "LOCATION         45\n",
       "INDICATOR         1\n",
       "SUBJECT           3\n",
       "MEASURE           1\n",
       "FREQUENCY         3\n",
       "TIME           1158\n",
       "Value         31586\n",
       "Flag Codes        2\n",
       "dtype: int64"
      ]
     },
     "execution_count": 4,
     "metadata": {},
     "output_type": "execute_result"
    }
   ],
   "source": [
    "lb.nunique()"
   ]
  },
  {
   "cell_type": "code",
   "execution_count": 5,
   "id": "83866178",
   "metadata": {},
   "outputs": [
    {
     "data": {
      "text/plain": [
       "array(['MEN', 'TOT', 'WOMEN'], dtype=object)"
      ]
     },
     "execution_count": 5,
     "metadata": {},
     "output_type": "execute_result"
    }
   ],
   "source": [
    "lb['SUBJECT'].unique()"
   ]
  },
  {
   "cell_type": "markdown",
   "id": "f0592676",
   "metadata": {},
   "source": [
    "**Subject belongs to 3 classes -> ['MEN', 'TOT', 'WOMEN'].\n",
    "Since Total (TOT) consists of all the Labour Force, we drop the records with both MEN and WOMEN subjects.**"
   ]
  },
  {
   "cell_type": "code",
   "execution_count": 6,
   "id": "60900389",
   "metadata": {},
   "outputs": [
    {
     "data": {
      "text/plain": [
       "array(['A', 'Q', 'M'], dtype=object)"
      ]
     },
     "execution_count": 6,
     "metadata": {},
     "output_type": "execute_result"
    }
   ],
   "source": [
    "lb['FREQUENCY'].unique()"
   ]
  },
  {
   "cell_type": "markdown",
   "id": "654f37f6",
   "metadata": {},
   "source": [
    "**Data is recorded for 3 frequencies -> ['A', 'Q', 'M']. We only take Annual (A) data.**"
   ]
  },
  {
   "cell_type": "code",
   "execution_count": 7,
   "id": "a092d953",
   "metadata": {},
   "outputs": [
    {
     "name": "stdout",
     "output_type": "stream",
     "text": [
      "(5665, 8)\n",
      "(1993, 8)\n"
     ]
    }
   ],
   "source": [
    "lb = lb[(lb['FREQUENCY']=='A')]\n",
    "print(lb.shape)\n",
    "lb = lb[lb['SUBJECT']=='TOT']\n",
    "print(lb.shape)\n",
    "# group = group.groupby(by=['location','time']).sum()"
   ]
  },
  {
   "cell_type": "markdown",
   "id": "b0af06ce",
   "metadata": {},
   "source": [
    "**After filtering for *Annual* occuring data and *Total* Labour Force, 1993 records are left.** "
   ]
  },
  {
   "cell_type": "code",
   "execution_count": 8,
   "id": "66e04c2f",
   "metadata": {},
   "outputs": [
    {
     "data": {
      "text/html": [
       "<div>\n",
       "<style scoped>\n",
       "    .dataframe tbody tr th:only-of-type {\n",
       "        vertical-align: middle;\n",
       "    }\n",
       "\n",
       "    .dataframe tbody tr th {\n",
       "        vertical-align: top;\n",
       "    }\n",
       "\n",
       "    .dataframe thead th {\n",
       "        text-align: right;\n",
       "    }\n",
       "</style>\n",
       "<table border=\"1\" class=\"dataframe\">\n",
       "  <thead>\n",
       "    <tr style=\"text-align: right;\">\n",
       "      <th></th>\n",
       "      <th>LOCATION</th>\n",
       "      <th>INDICATOR</th>\n",
       "      <th>SUBJECT</th>\n",
       "      <th>MEASURE</th>\n",
       "      <th>FREQUENCY</th>\n",
       "      <th>TIME</th>\n",
       "      <th>Value</th>\n",
       "      <th>Flag Codes</th>\n",
       "    </tr>\n",
       "  </thead>\n",
       "  <tbody>\n",
       "    <tr>\n",
       "      <th>1734</th>\n",
       "      <td>MEX</td>\n",
       "      <td>LF</td>\n",
       "      <td>TOT</td>\n",
       "      <td>THND_PER</td>\n",
       "      <td>A</td>\n",
       "      <td>2005</td>\n",
       "      <td>43631.500</td>\n",
       "      <td>NaN</td>\n",
       "    </tr>\n",
       "    <tr>\n",
       "      <th>1735</th>\n",
       "      <td>MEX</td>\n",
       "      <td>LF</td>\n",
       "      <td>TOT</td>\n",
       "      <td>THND_PER</td>\n",
       "      <td>A</td>\n",
       "      <td>2006</td>\n",
       "      <td>44982.520</td>\n",
       "      <td>NaN</td>\n",
       "    </tr>\n",
       "    <tr>\n",
       "      <th>1736</th>\n",
       "      <td>MEX</td>\n",
       "      <td>LF</td>\n",
       "      <td>TOT</td>\n",
       "      <td>THND_PER</td>\n",
       "      <td>A</td>\n",
       "      <td>2007</td>\n",
       "      <td>45904.540</td>\n",
       "      <td>NaN</td>\n",
       "    </tr>\n",
       "    <tr>\n",
       "      <th>1737</th>\n",
       "      <td>MEX</td>\n",
       "      <td>LF</td>\n",
       "      <td>TOT</td>\n",
       "      <td>THND_PER</td>\n",
       "      <td>A</td>\n",
       "      <td>2008</td>\n",
       "      <td>46769.210</td>\n",
       "      <td>NaN</td>\n",
       "    </tr>\n",
       "    <tr>\n",
       "      <th>1738</th>\n",
       "      <td>MEX</td>\n",
       "      <td>LF</td>\n",
       "      <td>TOT</td>\n",
       "      <td>THND_PER</td>\n",
       "      <td>A</td>\n",
       "      <td>2009</td>\n",
       "      <td>48018.360</td>\n",
       "      <td>NaN</td>\n",
       "    </tr>\n",
       "    <tr>\n",
       "      <th>...</th>\n",
       "      <td>...</td>\n",
       "      <td>...</td>\n",
       "      <td>...</td>\n",
       "      <td>...</td>\n",
       "      <td>...</td>\n",
       "      <td>...</td>\n",
       "      <td>...</td>\n",
       "      <td>...</td>\n",
       "    </tr>\n",
       "    <tr>\n",
       "      <th>33547</th>\n",
       "      <td>CRI</td>\n",
       "      <td>LF</td>\n",
       "      <td>TOT</td>\n",
       "      <td>THND_PER</td>\n",
       "      <td>A</td>\n",
       "      <td>2018</td>\n",
       "      <td>2359.644</td>\n",
       "      <td>NaN</td>\n",
       "    </tr>\n",
       "    <tr>\n",
       "      <th>33548</th>\n",
       "      <td>CRI</td>\n",
       "      <td>LF</td>\n",
       "      <td>TOT</td>\n",
       "      <td>THND_PER</td>\n",
       "      <td>A</td>\n",
       "      <td>2019</td>\n",
       "      <td>2464.956</td>\n",
       "      <td>NaN</td>\n",
       "    </tr>\n",
       "    <tr>\n",
       "      <th>33549</th>\n",
       "      <td>CRI</td>\n",
       "      <td>LF</td>\n",
       "      <td>TOT</td>\n",
       "      <td>THND_PER</td>\n",
       "      <td>A</td>\n",
       "      <td>2020</td>\n",
       "      <td>2406.532</td>\n",
       "      <td>NaN</td>\n",
       "    </tr>\n",
       "    <tr>\n",
       "      <th>33550</th>\n",
       "      <td>CRI</td>\n",
       "      <td>LF</td>\n",
       "      <td>TOT</td>\n",
       "      <td>THND_PER</td>\n",
       "      <td>A</td>\n",
       "      <td>2021</td>\n",
       "      <td>2440.771</td>\n",
       "      <td>NaN</td>\n",
       "    </tr>\n",
       "    <tr>\n",
       "      <th>33551</th>\n",
       "      <td>CRI</td>\n",
       "      <td>LF</td>\n",
       "      <td>TOT</td>\n",
       "      <td>THND_PER</td>\n",
       "      <td>A</td>\n",
       "      <td>2022</td>\n",
       "      <td>2454.023</td>\n",
       "      <td>NaN</td>\n",
       "    </tr>\n",
       "  </tbody>\n",
       "</table>\n",
       "<p>1993 rows × 8 columns</p>\n",
       "</div>"
      ],
      "text/plain": [
       "      LOCATION INDICATOR SUBJECT   MEASURE FREQUENCY  TIME      Value  \\\n",
       "1734       MEX        LF     TOT  THND_PER         A  2005  43631.500   \n",
       "1735       MEX        LF     TOT  THND_PER         A  2006  44982.520   \n",
       "1736       MEX        LF     TOT  THND_PER         A  2007  45904.540   \n",
       "1737       MEX        LF     TOT  THND_PER         A  2008  46769.210   \n",
       "1738       MEX        LF     TOT  THND_PER         A  2009  48018.360   \n",
       "...        ...       ...     ...       ...       ...   ...        ...   \n",
       "33547      CRI        LF     TOT  THND_PER         A  2018   2359.644   \n",
       "33548      CRI        LF     TOT  THND_PER         A  2019   2464.956   \n",
       "33549      CRI        LF     TOT  THND_PER         A  2020   2406.532   \n",
       "33550      CRI        LF     TOT  THND_PER         A  2021   2440.771   \n",
       "33551      CRI        LF     TOT  THND_PER         A  2022   2454.023   \n",
       "\n",
       "      Flag Codes  \n",
       "1734         NaN  \n",
       "1735         NaN  \n",
       "1736         NaN  \n",
       "1737         NaN  \n",
       "1738         NaN  \n",
       "...          ...  \n",
       "33547        NaN  \n",
       "33548        NaN  \n",
       "33549        NaN  \n",
       "33550        NaN  \n",
       "33551        NaN  \n",
       "\n",
       "[1993 rows x 8 columns]"
      ]
     },
     "execution_count": 8,
     "metadata": {},
     "output_type": "execute_result"
    }
   ],
   "source": [
    "lb"
   ]
  },
  {
   "cell_type": "code",
   "execution_count": 9,
   "id": "2c9b06d1",
   "metadata": {},
   "outputs": [],
   "source": [
    "# group.to_csv(\"./group.csv\")"
   ]
  },
  {
   "cell_type": "code",
   "execution_count": 10,
   "id": "a5262e31",
   "metadata": {},
   "outputs": [],
   "source": [
    "# group = pd.read_csv(\"./group.csv\")\n",
    "# group"
   ]
  },
  {
   "cell_type": "code",
   "execution_count": 11,
   "id": "ed8ab7dc",
   "metadata": {},
   "outputs": [
    {
     "name": "stdout",
     "output_type": "stream",
     "text": [
      "AUS [1955, 1956, 1957, 1958, 1959, 1960, 1961, 1962, 1963]\n",
      "AUT [1955]\n",
      "BEL [1955]\n",
      "BRA [1955, 1956, 1957, 1958, 1959, 1960, 1961, 1962, 1963, 1964, 1965, 1966, 1967, 1968, 1969, 1970, 1971, 1972, 1973, 1974, 1975, 1976, 1977, 1978, 1979, 1980, 1981, 1982, 1983, 1984, 1985, 1986, 1987, 1988, 1989, 1990, 1991, 1992, 1993, 1994, 1995, 1996, 1997, 1998, 1999, 2000, 2001, 2002, 2015, 2016, 2017, 2018, 2019, 2020, 2021]\n",
      "CAN [1955]\n",
      "CHE [1955, 1956, 1957, 1958, 1959, 1960, 1961, 1962, 1963, 1964, 1965, 1966, 1967, 1968, 1969, 1970, 1971, 1972, 1973, 1974, 1975, 1976, 1977, 1978, 1979, 1980, 1981, 1982, 1983, 1984, 1985, 1986, 1987, 1988, 1989, 1990, 1991, 1992, 1993, 1994, 1995, 1996, 1997, 1998, 1999, 2000, 2001, 2002, 2003, 2004]\n",
      "CHL [1955, 1956, 1957, 1958, 1959, 1960, 1961, 1962, 1963, 1964, 1965, 1966, 1967, 1968, 1969, 1970, 1971, 1972, 1973, 1974, 1975, 1976, 1977, 1978, 1979, 1980, 1981, 1982, 1983, 1984, 1985]\n",
      "COL [1955, 1956, 1957, 1958, 1959, 1960, 1961, 1962, 1963, 1964, 1965, 1966, 1967, 1968, 1969, 1970, 1971, 1972, 1973, 1974, 1975, 1976, 1977, 1978, 1979, 1980, 1981, 1982, 1983, 1984, 1985, 1986, 1987, 1988, 1989, 1990, 1991, 1992, 1993, 1994, 1995, 1996, 1997, 1998, 1999, 2000, 2001, 2002, 2003, 2004, 2005, 2006]\n",
      "CRI [1955, 1956, 1957, 1958, 1959, 1960, 1961, 1962, 1963, 1964, 1965, 1966, 1967, 1968, 1969, 1970, 1971, 1972, 1973, 1974, 1975, 1976, 1977, 1978, 1979, 1980, 1981, 1982, 1983, 1984, 1985, 1986, 1987, 1988, 1989, 1990, 1991, 1992, 1993, 1994, 1995, 1996, 1997, 1998, 1999, 2000, 2001, 2002, 2003, 2004, 2005, 2006, 2007, 2008, 2009, 2010]\n",
      "CZE [1955, 1956, 1957, 1958, 1959, 1960, 1961, 1962, 1963, 1964, 1965, 1966, 1967, 1968, 1969, 1970, 1971, 1972, 1973, 1974, 1975, 1976, 1977, 1978, 1979, 1980, 1981, 1982, 1983, 1984, 1985, 1986, 1987, 1988, 1989]\n",
      "DEU [1955]\n",
      "DNK [1955, 1956, 1957, 1958, 1959, 1961, 1962, 1963, 1964, 1966, 1968]\n",
      "EA19 [1955, 1956, 1957, 1958, 1959, 1960, 1961, 1962, 1963, 1964, 1965, 1966, 1967, 1968, 1969, 1970, 1971, 1972, 1973, 1974, 1975, 1976, 1977, 1978, 1979, 1980, 1981, 1982, 1983, 1984, 1985, 1986, 1987, 1988, 1989, 1990, 1991, 1992, 1993, 1994, 1995, 1996, 1997]\n",
      "ESP [1955]\n",
      "EST [1955, 1956, 1957, 1958, 1959, 1960, 1961, 1962, 1963, 1964, 1965, 1966, 1967, 1968, 1969, 1970, 1971, 1972, 1973, 1974, 1975, 1976, 1977, 1978, 1979, 1980, 1981, 1982, 1983, 1984, 1985, 1986, 1987, 1988]\n",
      "EU27_2020 [1955, 1956, 1957, 1958, 1959, 1960, 1961, 1962, 1963, 1964, 1965, 1966, 1967, 1968, 1969, 1970, 1971, 1972, 1973, 1974, 1975, 1976, 1977, 1978, 1979, 1980, 1981, 1982, 1983, 1984, 1985, 1986, 1987, 1988, 1989, 1990, 1991, 1992, 1993, 1994, 1995, 1996, 1997]\n",
      "FIN [1955, 1956, 1957, 1958]\n",
      "FRA [1955]\n",
      "G-7 [1955]\n",
      "GRC [1955, 1956, 1957, 1958, 1959, 1960, 1962, 1963, 1964, 1965, 1966, 1967, 1968, 1969, 1970, 1971, 1972, 1973, 1974, 1975, 1976]\n",
      "HUN [1955, 1956, 1957, 1958, 1959, 1960, 1961, 1962, 1963, 1964, 1965, 1966, 1967, 1968, 1969, 1970, 1971, 1972, 1973, 1974, 1975, 1976, 1977, 1978, 1979, 1980, 1981, 1982, 1983, 1984, 1985, 1986, 1987, 1988, 1989, 1990, 1991]\n",
      "IDN [1955, 1956, 1957, 1958, 1959, 1960, 1961, 1962, 1963, 1964, 1965, 1966, 1967, 1968, 1969, 1970, 1971, 1972, 1973, 1974, 1975, 1979, 1980, 1981, 1983, 1995, 2012, 2013, 2014, 2015, 2016, 2017, 2018, 2019, 2020, 2021]\n",
      "IRL [1955]\n",
      "ISL [1955, 1956, 1957, 1958, 1959, 1960, 1961, 1962, 1963]\n",
      "ISR [1955, 1956, 1957, 1958, 1959, 1960, 1961, 1962, 1963, 1964, 1965, 1966, 1967, 1968, 1969, 1970, 1971, 1972, 1973, 1974, 1975, 1976, 1977, 1978, 1979, 1980, 1981, 1982, 1983, 1984, 1985, 1986, 1987, 1988, 1989, 1990, 1991, 1992, 1993, 1994]\n",
      "ITA [1955]\n",
      "KOR [1955, 1956, 1957, 1958, 1959, 1960, 1961, 1962, 1963, 1964, 1965, 1966, 1967, 1968, 1969, 1970, 1971, 1972, 1973, 1974, 1975, 1976, 1977, 1978, 1979, 1980, 1981, 1982, 1983, 1984, 1985, 1986, 1987, 1988]\n",
      "LTU [1955, 1956, 1957, 1958, 1959, 1960, 1961, 1962, 1963, 1964, 1965, 1966, 1967, 1968, 1969, 1970, 1971, 1972, 1973, 1974, 1975, 1976, 1977, 1978, 1979, 1980, 1981, 1982, 1983, 1984, 1985, 1986, 1987, 1988, 1989, 1990, 1991, 1992, 1993, 1994, 1995, 1996, 1997, 1998, 1999, 2000, 2001, 2002, 2003, 2004]\n",
      "LUX [1955, 1956, 1957, 1958, 1959, 1960, 1961, 1962, 1963, 1964, 1965, 1966, 1967, 1968, 1969, 1970, 1971, 1972, 1973, 1974, 1975, 1976, 1977, 1978, 1979, 1980, 1981, 1982, 1983, 1984, 1985, 1986, 1987, 1988, 1989, 1990, 1991, 1992, 1993, 1994, 1995, 1996, 1997]\n",
      "LVA [1955, 1956, 1957, 1958, 1959, 1960, 1961, 1962, 1963, 1964, 1965, 1966, 1967, 1968, 1969, 1970, 1971, 1972, 1973, 1974, 1975, 1976, 1977, 1978, 1979, 1980, 1981, 1982, 1983, 1984, 1985, 1986, 1987, 1988, 1989, 1990, 1991, 1992, 1993, 1994, 1995, 1996, 1997]\n",
      "MEX [1955, 1956, 1957, 1958, 1959, 1960, 1961, 1962, 1963, 1964, 1965, 1966, 1967, 1968, 1969, 1970, 1971, 1972, 1973, 1974, 1975, 1976, 1977, 1978, 1979, 1980, 1981, 1982, 1983, 1984, 1985, 1986, 1987, 1988, 1989, 1990, 1991, 1992, 1993, 1994, 1995, 1996, 1997, 1998, 1999, 2000, 2001, 2002, 2003, 2004]\n",
      "NLD [1955, 1956, 1957, 1958, 1959, 1960, 1961, 1962, 1963, 1964, 1965, 1966, 1967, 1968, 1969, 1970, 1971, 1972, 1973, 1974]\n",
      "NOR [1955, 1971]\n",
      "NZL [1955]\n",
      "OECD [1955, 1956, 1957, 1958, 1959, 1960, 1961, 1962, 1963, 1964, 1965, 1966, 1967, 1968, 1969, 1970, 1971, 1972, 1973, 1974, 1975, 1976, 1977, 1978, 1979, 1980, 1981, 1982, 1983, 1984, 1985, 1986, 1987, 1988, 1989, 1990, 1991, 1992, 1993, 1994, 1995, 1996, 1997, 1998, 1999, 2000, 2001, 2002, 2003, 2004, 2005, 2006]\n",
      "PRT [1955, 1956, 1957, 1958, 1959, 1961, 1962, 1963, 1964, 1965, 1966, 1967, 1968, 1969, 1970, 1971, 1972, 1973]\n",
      "RUS [1955, 1956, 1957, 1958, 1959, 1960, 1961, 1962, 1963, 1964, 1965, 1966, 1967, 1968, 1969, 1970, 1971, 1972, 1973, 1974, 1975, 1976, 1977, 1978, 1979, 1980, 1981, 1982, 1983, 1984, 1985, 1986, 1987, 1988, 1989, 1990, 1991]\n",
      "SVK [1955, 1956, 1957, 1958, 1959, 1960, 1961, 1962, 1963, 1964, 1965, 1966, 1967, 1968, 1969, 1970, 1971, 1972, 1973, 1974, 1975, 1976, 1977, 1978, 1979, 1980, 1981, 1982, 1983, 1984, 1985, 1986, 1987, 1988, 1989, 1990, 1991, 1992, 1993]\n",
      "SVN [1955, 1956, 1957, 1958, 1959, 1960, 1961, 1962, 1963, 1964, 1965, 1966, 1967, 1968, 1969, 1970, 1971, 1972, 1973, 1974, 1975, 1976, 1977, 1978, 1979, 1980, 1981, 1982, 1983, 1984, 1985, 1986, 1987, 1988, 1989, 1990, 1991, 1992, 1993, 1994, 1995]\n",
      "SWE [1955, 1956, 1957, 1958, 1959, 1960, 1961, 1962]\n",
      "TUR [1955, 1956, 1957, 1958, 1959, 1960, 1961, 1962, 1963, 1964, 1965, 1966, 1967, 1968, 1969, 1970, 1971, 1972, 1973, 1974, 1975, 1976, 1977, 1978, 1979, 1980, 1981, 1982, 1983, 1984, 1985, 1986, 1987, 1988, 1989, 1990, 1991, 1992, 1993, 1994, 1995, 1996, 1997, 1998, 1999, 2000, 2001, 2002, 2003, 2004, 2005]\n"
     ]
    }
   ],
   "source": [
    "min_year = int(lb['TIME'].min())\n",
    "# int(lb['time'].min())\n",
    "max_year = int(lb['TIME'].max())\n",
    "sorted_cont = lb['LOCATION'].unique()\n",
    "sorted_cont.sort()\n",
    "for cont in sorted_cont:\n",
    "    years = []\n",
    "    for y in range(min_year, max_year):\n",
    "#         print(lb[lb['location']==cont]['time'].astype(\"string\"))\n",
    "        if (str(y) not in lb[lb['LOCATION']==cont]['TIME'].astype(\"string\").values):\n",
    "            years.append(y)\n",
    "    if len(years)!=0:\n",
    "        print(cont, years)\n",
    "#         print(cont,y,lb[lb['location']==cont]['time'])"
   ]
  },
  {
   "cell_type": "markdown",
   "id": "07544995",
   "metadata": {},
   "source": [
    "**Above are all the years that each country is missing the data for. It'll help us in determining the countries and years to choose for our model**"
   ]
  },
  {
   "cell_type": "code",
   "execution_count": 12,
   "id": "ea7bb6d2",
   "metadata": {},
   "outputs": [
    {
     "data": {
      "text/html": [
       "<div>\n",
       "<style scoped>\n",
       "    .dataframe tbody tr th:only-of-type {\n",
       "        vertical-align: middle;\n",
       "    }\n",
       "\n",
       "    .dataframe tbody tr th {\n",
       "        vertical-align: top;\n",
       "    }\n",
       "\n",
       "    .dataframe thead th {\n",
       "        text-align: right;\n",
       "    }\n",
       "</style>\n",
       "<table border=\"1\" class=\"dataframe\">\n",
       "  <thead>\n",
       "    <tr style=\"text-align: right;\">\n",
       "      <th></th>\n",
       "      <th>LOCATION</th>\n",
       "      <th>TIME</th>\n",
       "      <th>Value</th>\n",
       "    </tr>\n",
       "  </thead>\n",
       "  <tbody>\n",
       "    <tr>\n",
       "      <th>1734</th>\n",
       "      <td>MEX</td>\n",
       "      <td>2005</td>\n",
       "      <td>43631.500</td>\n",
       "    </tr>\n",
       "    <tr>\n",
       "      <th>1735</th>\n",
       "      <td>MEX</td>\n",
       "      <td>2006</td>\n",
       "      <td>44982.520</td>\n",
       "    </tr>\n",
       "    <tr>\n",
       "      <th>1736</th>\n",
       "      <td>MEX</td>\n",
       "      <td>2007</td>\n",
       "      <td>45904.540</td>\n",
       "    </tr>\n",
       "    <tr>\n",
       "      <th>1737</th>\n",
       "      <td>MEX</td>\n",
       "      <td>2008</td>\n",
       "      <td>46769.210</td>\n",
       "    </tr>\n",
       "    <tr>\n",
       "      <th>1738</th>\n",
       "      <td>MEX</td>\n",
       "      <td>2009</td>\n",
       "      <td>48018.360</td>\n",
       "    </tr>\n",
       "    <tr>\n",
       "      <th>...</th>\n",
       "      <td>...</td>\n",
       "      <td>...</td>\n",
       "      <td>...</td>\n",
       "    </tr>\n",
       "    <tr>\n",
       "      <th>33547</th>\n",
       "      <td>CRI</td>\n",
       "      <td>2018</td>\n",
       "      <td>2359.644</td>\n",
       "    </tr>\n",
       "    <tr>\n",
       "      <th>33548</th>\n",
       "      <td>CRI</td>\n",
       "      <td>2019</td>\n",
       "      <td>2464.956</td>\n",
       "    </tr>\n",
       "    <tr>\n",
       "      <th>33549</th>\n",
       "      <td>CRI</td>\n",
       "      <td>2020</td>\n",
       "      <td>2406.532</td>\n",
       "    </tr>\n",
       "    <tr>\n",
       "      <th>33550</th>\n",
       "      <td>CRI</td>\n",
       "      <td>2021</td>\n",
       "      <td>2440.771</td>\n",
       "    </tr>\n",
       "    <tr>\n",
       "      <th>33551</th>\n",
       "      <td>CRI</td>\n",
       "      <td>2022</td>\n",
       "      <td>2454.023</td>\n",
       "    </tr>\n",
       "  </tbody>\n",
       "</table>\n",
       "<p>1993 rows × 3 columns</p>\n",
       "</div>"
      ],
      "text/plain": [
       "      LOCATION  TIME      Value\n",
       "1734       MEX  2005  43631.500\n",
       "1735       MEX  2006  44982.520\n",
       "1736       MEX  2007  45904.540\n",
       "1737       MEX  2008  46769.210\n",
       "1738       MEX  2009  48018.360\n",
       "...        ...   ...        ...\n",
       "33547      CRI  2018   2359.644\n",
       "33548      CRI  2019   2464.956\n",
       "33549      CRI  2020   2406.532\n",
       "33550      CRI  2021   2440.771\n",
       "33551      CRI  2022   2454.023\n",
       "\n",
       "[1993 rows x 3 columns]"
      ]
     },
     "execution_count": 12,
     "metadata": {},
     "output_type": "execute_result"
    }
   ],
   "source": [
    "#Dropping superfluous columns\n",
    "lb = lb.drop(['INDICATOR','SUBJECT','MEASURE','FREQUENCY','Flag Codes'],axis=1,errors='ignore')\n",
    "lb"
   ]
  },
  {
   "cell_type": "code",
   "execution_count": 13,
   "id": "0586d84d",
   "metadata": {},
   "outputs": [
    {
     "data": {
      "text/plain": [
       "{'whiskers': [<matplotlib.lines.Line2D at 0x127698910>,\n",
       "  <matplotlib.lines.Line2D at 0x127698bb0>],\n",
       " 'caps': [<matplotlib.lines.Line2D at 0x127698e50>,\n",
       "  <matplotlib.lines.Line2D at 0x1276ba130>],\n",
       " 'boxes': [<matplotlib.lines.Line2D at 0x127698670>],\n",
       " 'medians': [<matplotlib.lines.Line2D at 0x1276ba3d0>],\n",
       " 'fliers': [<matplotlib.lines.Line2D at 0x1276ba670>],\n",
       " 'means': []}"
      ]
     },
     "execution_count": 13,
     "metadata": {},
     "output_type": "execute_result"
    },
    {
     "data": {
      "image/png": "[encoded data removed]",
      "text/plain": [
       "<Figure size 640x480 with 1 Axes>"
      ]
     },
     "metadata": {},
     "output_type": "display_data"
    }
   ],
   "source": [
    "%matplotlib inline\n",
    "import matplotlib.pyplot as plt\n",
    "\n",
    "plt.boxplot(lb['Value'])"
   ]
  },
  {
   "attachments": {},
   "cell_type": "markdown",
   "id": "fbf1ad7f",
   "metadata": {},
   "source": [
    "**We see here that a lot of data is shown as outliers, that is because the data is changing according to time and varies for countries. Becasue of temportal data in this case, we cannot remove the outliers.**"
   ]
  },
  {
   "cell_type": "code",
   "execution_count": 14,
   "id": "670020c4",
   "metadata": {},
   "outputs": [],
   "source": [
    "lb.to_csv('../data/temp/labour_force_cleaned.csv',index=False,mode='wb')"
   ]
  },
  {
   "cell_type": "markdown",
   "id": "c6863aaa",
   "metadata": {},
   "source": [
    "# EDA"
   ]
  },
  {
   "cell_type": "markdown",
   "id": "9cacbea6",
   "metadata": {},
   "source": [
    "### Statistical Measures of the feature:"
   ]
  },
  {
   "cell_type": "code",
   "execution_count": 15,
   "id": "365498ca",
   "metadata": {},
   "outputs": [
    {
     "data": {
      "text/html": [
       "<div>\n",
       "<style scoped>\n",
       "    .dataframe tbody tr th:only-of-type {\n",
       "        vertical-align: middle;\n",
       "    }\n",
       "\n",
       "    .dataframe tbody tr th {\n",
       "        vertical-align: top;\n",
       "    }\n",
       "\n",
       "    .dataframe thead th {\n",
       "        text-align: right;\n",
       "    }\n",
       "</style>\n",
       "<table border=\"1\" class=\"dataframe\">\n",
       "  <thead>\n",
       "    <tr style=\"text-align: right;\">\n",
       "      <th></th>\n",
       "      <th>Value</th>\n",
       "    </tr>\n",
       "  </thead>\n",
       "  <tbody>\n",
       "    <tr>\n",
       "      <th>count</th>\n",
       "      <td>1993.000000</td>\n",
       "    </tr>\n",
       "    <tr>\n",
       "      <th>mean</th>\n",
       "      <td>36890.282020</td>\n",
       "    </tr>\n",
       "    <tr>\n",
       "      <th>std</th>\n",
       "      <td>83595.337607</td>\n",
       "    </tr>\n",
       "    <tr>\n",
       "      <th>min</th>\n",
       "      <td>0.000000</td>\n",
       "    </tr>\n",
       "    <tr>\n",
       "      <th>25%</th>\n",
       "      <td>2738.400000</td>\n",
       "    </tr>\n",
       "    <tr>\n",
       "      <th>50%</th>\n",
       "      <td>6241.667000</td>\n",
       "    </tr>\n",
       "    <tr>\n",
       "      <th>75%</th>\n",
       "      <td>26314.000000</td>\n",
       "    </tr>\n",
       "    <tr>\n",
       "      <th>max</th>\n",
       "      <td>678957.100000</td>\n",
       "    </tr>\n",
       "  </tbody>\n",
       "</table>\n",
       "</div>"
      ],
      "text/plain": [
       "               Value\n",
       "count    1993.000000\n",
       "mean    36890.282020\n",
       "std     83595.337607\n",
       "min         0.000000\n",
       "25%      2738.400000\n",
       "50%      6241.667000\n",
       "75%     26314.000000\n",
       "max    678957.100000"
      ]
     },
     "execution_count": 15,
     "metadata": {},
     "output_type": "execute_result"
    }
   ],
   "source": [
    "lb.describe()"
   ]
  },
  {
   "cell_type": "markdown",
   "id": "fa38dcdc",
   "metadata": {},
   "source": [
    "### Data Types of the Columns:"
   ]
  },
  {
   "cell_type": "code",
   "execution_count": 16,
   "id": "215a4eb7",
   "metadata": {},
   "outputs": [
    {
     "name": "stdout",
     "output_type": "stream",
     "text": [
      "<class 'pandas.core.frame.DataFrame'>\n",
      "Int64Index: 1993 entries, 1734 to 33551\n",
      "Data columns (total 3 columns):\n",
      " #   Column    Non-Null Count  Dtype  \n",
      "---  ------    --------------  -----  \n",
      " 0   LOCATION  1993 non-null   object \n",
      " 1   TIME      1993 non-null   object \n",
      " 2   Value     1993 non-null   float64\n",
      "dtypes: float64(1), object(2)\n",
      "memory usage: 62.3+ KB\n"
     ]
    }
   ],
   "source": [
    "lb.info()"
   ]
  },
  {
   "cell_type": "markdown",
   "id": "0d1c701f",
   "metadata": {},
   "source": [
    "### Number of rows:"
   ]
  },
  {
   "cell_type": "code",
   "execution_count": 17,
   "id": "a7e97439",
   "metadata": {},
   "outputs": [
    {
     "data": {
      "text/plain": [
       "1993"
      ]
     },
     "execution_count": 17,
     "metadata": {},
     "output_type": "execute_result"
    }
   ],
   "source": [
    "lb.shape[0]"
   ]
  },
  {
   "cell_type": "code",
   "execution_count": null,
   "id": "6435ada5",
   "metadata": {},
   "outputs": [],
   "source": []
  }
 ],
 "metadata": {
  "kernelspec": {
   "display_name": "Python 3 (ipykernel)",
   "language": "python",
   "name": "python3"
  },
  "language_info": {
   "codemirror_mode": {
    "name": "ipython",
    "version": 3
   },
   "file_extension": ".py",
   "mimetype": "text/x-python",
   "name": "python",
   "nbconvert_exporter": "python",
   "pygments_lexer": "ipython3",
   "version": "3.9.16"
  }
 },
 "nbformat": 4,
 "nbformat_minor": 5
}
