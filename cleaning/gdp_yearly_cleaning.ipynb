{
 "cells": [
  {
   "cell_type": "code",
   "execution_count": 2,
   "id": "015ea249",
   "metadata": {},
   "outputs": [],
   "source": [
    "import pandas as pd\n",
    "import numpy as np"
   ]
  },
  {
   "cell_type": "markdown",
   "id": "3477a6f4",
   "metadata": {},
   "source": [
    "This Notebook loads and cleans the data for the GDP_Yearly CSV file. The data is downloaded using the `driver.ipynb` notebook, and placed in the folder `data/uncleaned`."
   ]
  },
  {
   "cell_type": "code",
   "execution_count": 3,
   "id": "1fd35310",
   "metadata": {},
   "outputs": [
    {
     "name": "stdout",
     "output_type": "stream",
     "text": [
      "(5222, 8)\n"
     ]
    },
    {
     "data": {
      "text/html": [
       "<div>\n",
       "<style scoped>\n",
       "    .dataframe tbody tr th:only-of-type {\n",
       "        vertical-align: middle;\n",
       "    }\n",
       "\n",
       "    .dataframe tbody tr th {\n",
       "        vertical-align: top;\n",
       "    }\n",
       "\n",
       "    .dataframe thead th {\n",
       "        text-align: right;\n",
       "    }\n",
       "</style>\n",
       "<table border=\"1\" class=\"dataframe\">\n",
       "  <thead>\n",
       "    <tr style=\"text-align: right;\">\n",
       "      <th></th>\n",
       "      <th>LOCATION</th>\n",
       "      <th>INDICATOR</th>\n",
       "      <th>SUBJECT</th>\n",
       "      <th>MEASURE</th>\n",
       "      <th>FREQUENCY</th>\n",
       "      <th>TIME</th>\n",
       "      <th>Value</th>\n",
       "      <th>Flag Codes</th>\n",
       "    </tr>\n",
       "  </thead>\n",
       "  <tbody>\n",
       "    <tr>\n",
       "      <th>0</th>\n",
       "      <td>AUS</td>\n",
       "      <td>GDP</td>\n",
       "      <td>TOT</td>\n",
       "      <td>MLN_USD</td>\n",
       "      <td>A</td>\n",
       "      <td>1960</td>\n",
       "      <td>25071.833</td>\n",
       "      <td>NaN</td>\n",
       "    </tr>\n",
       "    <tr>\n",
       "      <th>1</th>\n",
       "      <td>AUS</td>\n",
       "      <td>GDP</td>\n",
       "      <td>TOT</td>\n",
       "      <td>MLN_USD</td>\n",
       "      <td>A</td>\n",
       "      <td>1961</td>\n",
       "      <td>25363.455</td>\n",
       "      <td>NaN</td>\n",
       "    </tr>\n",
       "    <tr>\n",
       "      <th>2</th>\n",
       "      <td>AUS</td>\n",
       "      <td>GDP</td>\n",
       "      <td>TOT</td>\n",
       "      <td>MLN_USD</td>\n",
       "      <td>A</td>\n",
       "      <td>1962</td>\n",
       "      <td>27953.904</td>\n",
       "      <td>NaN</td>\n",
       "    </tr>\n",
       "    <tr>\n",
       "      <th>3</th>\n",
       "      <td>AUS</td>\n",
       "      <td>GDP</td>\n",
       "      <td>TOT</td>\n",
       "      <td>MLN_USD</td>\n",
       "      <td>A</td>\n",
       "      <td>1963</td>\n",
       "      <td>30431.547</td>\n",
       "      <td>NaN</td>\n",
       "    </tr>\n",
       "    <tr>\n",
       "      <th>4</th>\n",
       "      <td>AUS</td>\n",
       "      <td>GDP</td>\n",
       "      <td>TOT</td>\n",
       "      <td>MLN_USD</td>\n",
       "      <td>A</td>\n",
       "      <td>1964</td>\n",
       "      <td>32742.466</td>\n",
       "      <td>NaN</td>\n",
       "    </tr>\n",
       "  </tbody>\n",
       "</table>\n",
       "</div>"
      ],
      "text/plain": [
       "  LOCATION INDICATOR SUBJECT  MEASURE FREQUENCY  TIME      Value Flag Codes\n",
       "0      AUS       GDP     TOT  MLN_USD         A  1960  25071.833        NaN\n",
       "1      AUS       GDP     TOT  MLN_USD         A  1961  25363.455        NaN\n",
       "2      AUS       GDP     TOT  MLN_USD         A  1962  27953.904        NaN\n",
       "3      AUS       GDP     TOT  MLN_USD         A  1963  30431.547        NaN\n",
       "4      AUS       GDP     TOT  MLN_USD         A  1964  32742.466        NaN"
      ]
     },
     "execution_count": 3,
     "metadata": {},
     "output_type": "execute_result"
    }
   ],
   "source": [
    "gdp = pd.read_csv('../data/uncleaned/gdp_yearly.csv')\n",
    "print(gdp.shape)\n",
    "gdp.head()"
   ]
  },
  {
   "cell_type": "markdown",
   "id": "1916fec6",
   "metadata": {},
   "source": [
    "We first find the unique values present in the `MEASURE` column:"
   ]
  },
  {
   "cell_type": "code",
   "execution_count": 4,
   "id": "d000e6ab",
   "metadata": {},
   "outputs": [
    {
     "data": {
      "text/plain": [
       "array(['MLN_USD', 'USD_CAP'], dtype=object)"
      ]
     },
     "execution_count": 4,
     "metadata": {},
     "output_type": "execute_result"
    }
   ],
   "source": [
    "gdp.MEASURE.unique()"
   ]
  },
  {
   "cell_type": "markdown",
   "id": "86a3d297",
   "metadata": {},
   "source": [
    "Looking at the unique values in the `FREQUENCY` cell:"
   ]
  },
  {
   "cell_type": "code",
   "execution_count": 5,
   "id": "7cbe1a0c",
   "metadata": {},
   "outputs": [
    {
     "data": {
      "text/plain": [
       "array(['A'], dtype=object)"
      ]
     },
     "execution_count": 5,
     "metadata": {},
     "output_type": "execute_result"
    }
   ],
   "source": [
    "gdp.FREQUENCY.unique()"
   ]
  },
  {
   "cell_type": "markdown",
   "id": "6ae927e7",
   "metadata": {},
   "source": [
    "And finally, looking at the unique values in the `SUBJECT` cell:"
   ]
  },
  {
   "cell_type": "code",
   "execution_count": 6,
   "id": "1760f139",
   "metadata": {},
   "outputs": [
    {
     "data": {
      "text/plain": [
       "array(['TOT'], dtype=object)"
      ]
     },
     "execution_count": 6,
     "metadata": {},
     "output_type": "execute_result"
    }
   ],
   "source": [
    "gdp.SUBJECT.unique()"
   ]
  },
  {
   "cell_type": "markdown",
   "id": "4f95c58b",
   "metadata": {},
   "source": [
    "The column `Flag Codes` is not useful for us, so we drop it from the dataframe."
   ]
  },
  {
   "cell_type": "code",
   "execution_count": 7,
   "id": "3fd202c3",
   "metadata": {},
   "outputs": [],
   "source": [
    "gdp = gdp.drop(['Flag Codes'], axis=1)"
   ]
  },
  {
   "attachments": {},
   "cell_type": "markdown",
   "id": "5adb1e29",
   "metadata": {},
   "source": [
    "We are only interested in the MEASURE `MLN_USD`, so we keep only those values."
   ]
  },
  {
   "cell_type": "code",
   "execution_count": 8,
   "id": "cc36ec62",
   "metadata": {},
   "outputs": [],
   "source": [
    "gdp = gdp[(gdp['MEASURE']=='MLN_USD')]"
   ]
  },
  {
   "attachments": {},
   "cell_type": "markdown",
   "id": "34428200",
   "metadata": {},
   "source": [
    "Checking the head of our dataframe now:"
   ]
  },
  {
   "cell_type": "code",
   "execution_count": 9,
   "id": "040ce38a",
   "metadata": {},
   "outputs": [
    {
     "data": {
      "text/html": [
       "<div>\n",
       "<style scoped>\n",
       "    .dataframe tbody tr th:only-of-type {\n",
       "        vertical-align: middle;\n",
       "    }\n",
       "\n",
       "    .dataframe tbody tr th {\n",
       "        vertical-align: top;\n",
       "    }\n",
       "\n",
       "    .dataframe thead th {\n",
       "        text-align: right;\n",
       "    }\n",
       "</style>\n",
       "<table border=\"1\" class=\"dataframe\">\n",
       "  <thead>\n",
       "    <tr style=\"text-align: right;\">\n",
       "      <th></th>\n",
       "      <th>LOCATION</th>\n",
       "      <th>INDICATOR</th>\n",
       "      <th>SUBJECT</th>\n",
       "      <th>MEASURE</th>\n",
       "      <th>FREQUENCY</th>\n",
       "      <th>TIME</th>\n",
       "      <th>Value</th>\n",
       "    </tr>\n",
       "  </thead>\n",
       "  <tbody>\n",
       "    <tr>\n",
       "      <th>0</th>\n",
       "      <td>AUS</td>\n",
       "      <td>GDP</td>\n",
       "      <td>TOT</td>\n",
       "      <td>MLN_USD</td>\n",
       "      <td>A</td>\n",
       "      <td>1960</td>\n",
       "      <td>25071.833</td>\n",
       "    </tr>\n",
       "    <tr>\n",
       "      <th>1</th>\n",
       "      <td>AUS</td>\n",
       "      <td>GDP</td>\n",
       "      <td>TOT</td>\n",
       "      <td>MLN_USD</td>\n",
       "      <td>A</td>\n",
       "      <td>1961</td>\n",
       "      <td>25363.455</td>\n",
       "    </tr>\n",
       "    <tr>\n",
       "      <th>2</th>\n",
       "      <td>AUS</td>\n",
       "      <td>GDP</td>\n",
       "      <td>TOT</td>\n",
       "      <td>MLN_USD</td>\n",
       "      <td>A</td>\n",
       "      <td>1962</td>\n",
       "      <td>27953.904</td>\n",
       "    </tr>\n",
       "    <tr>\n",
       "      <th>3</th>\n",
       "      <td>AUS</td>\n",
       "      <td>GDP</td>\n",
       "      <td>TOT</td>\n",
       "      <td>MLN_USD</td>\n",
       "      <td>A</td>\n",
       "      <td>1963</td>\n",
       "      <td>30431.547</td>\n",
       "    </tr>\n",
       "    <tr>\n",
       "      <th>4</th>\n",
       "      <td>AUS</td>\n",
       "      <td>GDP</td>\n",
       "      <td>TOT</td>\n",
       "      <td>MLN_USD</td>\n",
       "      <td>A</td>\n",
       "      <td>1964</td>\n",
       "      <td>32742.466</td>\n",
       "    </tr>\n",
       "  </tbody>\n",
       "</table>\n",
       "</div>"
      ],
      "text/plain": [
       "  LOCATION INDICATOR SUBJECT  MEASURE FREQUENCY  TIME      Value\n",
       "0      AUS       GDP     TOT  MLN_USD         A  1960  25071.833\n",
       "1      AUS       GDP     TOT  MLN_USD         A  1961  25363.455\n",
       "2      AUS       GDP     TOT  MLN_USD         A  1962  27953.904\n",
       "3      AUS       GDP     TOT  MLN_USD         A  1963  30431.547\n",
       "4      AUS       GDP     TOT  MLN_USD         A  1964  32742.466"
      ]
     },
     "execution_count": 9,
     "metadata": {},
     "output_type": "execute_result"
    }
   ],
   "source": [
    "gdp.head()"
   ]
  },
  {
   "attachments": {},
   "cell_type": "markdown",
   "id": "3454f12b",
   "metadata": {},
   "source": [
    "We can check the number of unique values for each column:"
   ]
  },
  {
   "cell_type": "code",
   "execution_count": 10,
   "id": "07e30470",
   "metadata": {},
   "outputs": [
    {
     "data": {
      "text/plain": [
       "LOCATION       67\n",
       "INDICATOR       1\n",
       "SUBJECT         1\n",
       "MEASURE         1\n",
       "FREQUENCY       1\n",
       "TIME           63\n",
       "Value        2675\n",
       "dtype: int64"
      ]
     },
     "execution_count": 10,
     "metadata": {},
     "output_type": "execute_result"
    }
   ],
   "source": [
    "gdp.nunique()"
   ]
  },
  {
   "attachments": {},
   "cell_type": "markdown",
   "id": "be3c02a3",
   "metadata": {},
   "source": [
    "We can now drop the columns `INDICATOR`,`SUBJECT`,`FREQUENCY` and `MEASURE` since they have only 1 value in them and do not add any information."
   ]
  },
  {
   "cell_type": "code",
   "execution_count": 11,
   "id": "b14e6702",
   "metadata": {},
   "outputs": [],
   "source": [
    "gdp = gdp.drop(['INDICATOR','SUBJECT','FREQUENCY','MEASURE'], axis=1)\n",
    "gdp.reset_index(drop=True, inplace=True)"
   ]
  },
  {
   "attachments": {},
   "cell_type": "markdown",
   "id": "edd5f284",
   "metadata": {},
   "source": [
    "Checking our datatypes for the columns:"
   ]
  },
  {
   "cell_type": "code",
   "execution_count": 12,
   "id": "9dd6418f",
   "metadata": {},
   "outputs": [
    {
     "data": {
      "text/plain": [
       "LOCATION     object\n",
       "TIME          int64\n",
       "Value       float64\n",
       "dtype: object"
      ]
     },
     "execution_count": 12,
     "metadata": {},
     "output_type": "execute_result"
    }
   ],
   "source": [
    "gdp.dtypes"
   ]
  },
  {
   "attachments": {},
   "cell_type": "markdown",
   "id": "ab74c264",
   "metadata": {},
   "source": [
    "We want `LOCATION` and `TIME` to be string."
   ]
  },
  {
   "cell_type": "code",
   "execution_count": 13,
   "id": "b87e6733",
   "metadata": {},
   "outputs": [],
   "source": [
    "gdp['LOCATION']= gdp['LOCATION'].astype('string')\n",
    "gdp['TIME']= gdp['TIME'].astype('string')"
   ]
  },
  {
   "attachments": {},
   "cell_type": "markdown",
   "id": "2e762f61",
   "metadata": {},
   "source": [
    "Checking our datatypes again:"
   ]
  },
  {
   "cell_type": "code",
   "execution_count": 14,
   "id": "53615a29",
   "metadata": {},
   "outputs": [
    {
     "data": {
      "text/plain": [
       "LOCATION    string[python]\n",
       "TIME        string[python]\n",
       "Value              float64\n",
       "dtype: object"
      ]
     },
     "execution_count": 14,
     "metadata": {},
     "output_type": "execute_result"
    }
   ],
   "source": [
    "gdp.dtypes"
   ]
  },
  {
   "attachments": {},
   "cell_type": "markdown",
   "id": "b1787a4f",
   "metadata": {},
   "source": [
    "We also check for any null values in our dataframe"
   ]
  },
  {
   "cell_type": "code",
   "execution_count": 15,
   "id": "d34481b2",
   "metadata": {},
   "outputs": [
    {
     "data": {
      "text/plain": [
       "LOCATION    0\n",
       "TIME        0\n",
       "Value       0\n",
       "dtype: int64"
      ]
     },
     "execution_count": 15,
     "metadata": {},
     "output_type": "execute_result"
    }
   ],
   "source": [
    "gdp.isna().sum()"
   ]
  },
  {
   "attachments": {},
   "cell_type": "markdown",
   "id": "dfdce848",
   "metadata": {},
   "source": [
    "Finally, our shape looks like this:"
   ]
  },
  {
   "cell_type": "code",
   "execution_count": 16,
   "id": "f0bd5c32",
   "metadata": {},
   "outputs": [
    {
     "data": {
      "text/plain": [
       "(2675, 3)"
      ]
     },
     "execution_count": 16,
     "metadata": {},
     "output_type": "execute_result"
    }
   ],
   "source": [
    "gdp.shape"
   ]
  },
  {
   "attachments": {},
   "cell_type": "markdown",
   "id": "413e399b",
   "metadata": {},
   "source": [
    "We now need to check if we are missing any data. For all unique values of `LOCATION` in our dataframe, we perform an analysis to find the first year that their data is available from, the last year that the data is available for, and any missing years between this range."
   ]
  },
  {
   "cell_type": "code",
   "execution_count": 17,
   "id": "bf997692",
   "metadata": {},
   "outputs": [
    {
     "name": "stdout",
     "output_type": "stream",
     "text": [
      "Country =  AUS Minimum Year =  1960 Maximum Year =  2021 Missing Years =  []\n",
      "Country =  AUT Minimum Year =  1970 Maximum Year =  2022 Missing Years =  []\n",
      "Country =  BEL Minimum Year =  1970 Maximum Year =  2022 Missing Years =  []\n",
      "Country =  CAN Minimum Year =  1961 Maximum Year =  2022 Missing Years =  []\n",
      "Country =  CZE Minimum Year =  1990 Maximum Year =  2022 Missing Years =  []\n",
      "Country =  DNK Minimum Year =  1966 Maximum Year =  2022 Missing Years =  []\n",
      "Country =  FIN Minimum Year =  1970 Maximum Year =  2022 Missing Years =  []\n",
      "Country =  FRA Minimum Year =  1960 Maximum Year =  2022 Missing Years =  []\n",
      "Country =  DEU Minimum Year =  1970 Maximum Year =  2022 Missing Years =  []\n",
      "Country =  GRC Minimum Year =  1960 Maximum Year =  2022 Missing Years =  []\n",
      "Country =  HUN Minimum Year =  1991 Maximum Year =  2022 Missing Years =  []\n",
      "Country =  ISL Minimum Year =  1970 Maximum Year =  2021 Missing Years =  []\n",
      "Country =  IRL Minimum Year =  1970 Maximum Year =  2022 Missing Years =  []\n",
      "Country =  ITA Minimum Year =  1970 Maximum Year =  2022 Missing Years =  []\n",
      "Country =  JPN Minimum Year =  1970 Maximum Year =  2021 Missing Years =  []\n",
      "Country =  KOR Minimum Year =  1970 Maximum Year =  2021 Missing Years =  []\n",
      "Country =  LUX Minimum Year =  1970 Maximum Year =  2022 Missing Years =  []\n",
      "Country =  MEX Minimum Year =  1970 Maximum Year =  2021 Missing Years =  []\n",
      "Country =  NLD Minimum Year =  1969 Maximum Year =  2022 Missing Years =  []\n",
      "Country =  NZL Minimum Year =  1970 Maximum Year =  2021 Missing Years =  []\n",
      "Country =  NOR Minimum Year =  1970 Maximum Year =  2022 Missing Years =  []\n",
      "Country =  POL Minimum Year =  1990 Maximum Year =  2022 Missing Years =  []\n",
      "Country =  PRT Minimum Year =  1970 Maximum Year =  2022 Missing Years =  []\n",
      "Country =  SVK Minimum Year =  1992 Maximum Year =  2022 Missing Years =  []\n",
      "Country =  ESP Minimum Year =  1970 Maximum Year =  2022 Missing Years =  []\n",
      "Country =  SWE Minimum Year =  1960 Maximum Year =  2022 Missing Years =  []\n",
      "Country =  CHE Minimum Year =  1970 Maximum Year =  2022 Missing Years =  []\n",
      "Country =  TUR Minimum Year =  1970 Maximum Year =  2021 Missing Years =  []\n",
      "Country =  GBR Minimum Year =  1960 Maximum Year =  2022 Missing Years =  []\n",
      "Country =  USA Minimum Year =  1970 Maximum Year =  2021 Missing Years =  []\n",
      "Country =  CHL Minimum Year =  1986 Maximum Year =  2021 Missing Years =  []\n",
      "Country =  CHN Minimum Year =  1970 Maximum Year =  2021 Missing Years =  []\n",
      "Country =  COL Minimum Year =  1975 Maximum Year =  2021 Missing Years =  []\n",
      "Country =  EST Minimum Year =  1993 Maximum Year =  2022 Missing Years =  []\n",
      "Country =  IND Minimum Year =  1970 Maximum Year =  2019 Missing Years =  []\n",
      "Country =  IDN Minimum Year =  1993 Maximum Year =  2022 Missing Years =  []\n",
      "Country =  ISR Minimum Year =  1977 Maximum Year =  2021 Missing Years =  []\n",
      "Country =  RUS Minimum Year =  1995 Maximum Year =  2020 Missing Years =  []\n",
      "Country =  SVN Minimum Year =  1990 Maximum Year =  2022 Missing Years =  []\n",
      "Country =  ZAF Minimum Year =  1970 Maximum Year =  2020 Missing Years =  []\n",
      "Country =  DEW Minimum Year =  1970 Maximum Year =  1991 Missing Years =  []\n",
      "Country =  OECD Minimum Year =  1970 Maximum Year =  2021 Missing Years =  []\n",
      "Country =  OECDE Minimum Year =  1994 Maximum Year =  2021 Missing Years =  []\n",
      "Country =  LVA Minimum Year =  1994 Maximum Year =  2022 Missing Years =  []\n",
      "Country =  BRA Minimum Year =  1995 Maximum Year =  2019 Missing Years =  []\n",
      "Country =  LTU Minimum Year =  1995 Maximum Year =  2022 Missing Years =  []\n",
      "Country =  SAU Minimum Year =  1970 Maximum Year =  2021 Missing Years =  []\n",
      "Country =  EA19 Minimum Year =  1995 Maximum Year =  2022 Missing Years =  []\n",
      "Country =  ARG Minimum Year =  2004 Maximum Year =  2021 Missing Years =  []\n",
      "Country =  CRI Minimum Year =  1991 Maximum Year =  2021 Missing Years =  []\n",
      "Country =  BGR Minimum Year =  1995 Maximum Year =  2021 Missing Years =  []\n",
      "Country =  HRV Minimum Year =  1995 Maximum Year =  2021 Missing Years =  []\n",
      "Country =  CYP Minimum Year =  1995 Maximum Year =  2021 Missing Years =  []\n",
      "Country =  MLT Minimum Year =  1995 Maximum Year =  2021 Missing Years =  []\n",
      "Country =  ROU Minimum Year =  1995 Maximum Year =  2021 Missing Years =  []\n",
      "Country =  MKD Minimum Year =  2000 Maximum Year =  2021 Missing Years =  []\n",
      "Country =  ZMB Minimum Year =  2006 Maximum Year =  2020 Missing Years =  []\n",
      "Country =  HKG Minimum Year =  1990 Maximum Year =  2021 Missing Years =  []\n",
      "Country =  MDG Minimum Year =  2007 Maximum Year =  2020 Missing Years =  []\n",
      "Country =  MAR Minimum Year =  2007 Maximum Year =  2021 Missing Years =  []\n",
      "Country =  SGP Minimum Year =  1990 Maximum Year =  2020 Missing Years =  []\n",
      "Country =  EU27_2020 Minimum Year =  1995 Maximum Year =  2022 Missing Years =  []\n",
      "Country =  ALB Minimum Year =  1997 Maximum Year =  2020 Missing Years =  []\n",
      "Country =  SRB Minimum Year =  2000 Maximum Year =  2021 Missing Years =  []\n",
      "Country =  GEO Minimum Year =  2010 Maximum Year =  2020 Missing Years =  []\n",
      "Country =  CMR Minimum Year =  1993 Maximum Year =  2020 Missing Years =  []\n",
      "Country =  SEN Minimum Year =  1999 Maximum Year =  2020 Missing Years =  []\n",
      "Highest Min =  2010  Country =  GEO\n",
      "Lowest Max =  1991  Country =  DEW\n"
     ]
    }
   ],
   "source": [
    "highestmin = 1\n",
    "highestmincountry = ''\n",
    "lowestmax = 9999\n",
    "lowestmaxcountry = ''\n",
    "\n",
    "for country in gdp.LOCATION.unique():\n",
    "    tempdf = gdp[gdp['LOCATION']==country]\n",
    "    minyear = int(tempdf.TIME.min())\n",
    "    if(highestmin<minyear):\n",
    "        highestmin=minyear\n",
    "        highestmincountry = country\n",
    "        \n",
    "    maxyear = int(tempdf.TIME.max())\n",
    "    if(lowestmax>maxyear):\n",
    "        lowestmax=maxyear\n",
    "        lowestmaxcountry=country\n",
    "    missingyear = []\n",
    "    for i in range(minyear,maxyear):\n",
    "        if((tempdf['TIME']==str(i)).any() == False):\n",
    "            tempseries = pd.Series([str(i)])\n",
    "            missingyear = pd.concat([missingyear,tempseries])\n",
    "            missingyear.reset_index(inplace=True, drop = True)\n",
    "    \n",
    "    print('Country = ', country, 'Minimum Year = ',minyear, 'Maximum Year = ', maxyear, 'Missing Years = ', missingyear)\n",
    "    \n",
    "print('Highest Min = ', highestmin, ' Country = ', highestmincountry)\n",
    "print('Lowest Max = ', lowestmax, ' Country = ', lowestmaxcountry)"
   ]
  },
  {
   "attachments": {},
   "cell_type": "markdown",
   "id": "ee832831",
   "metadata": {},
   "source": [
    "Finally, we export our cleaned dataframe into a csv file and place it in `data/temp`."
   ]
  },
  {
   "cell_type": "code",
   "execution_count": 18,
   "id": "f5b63670",
   "metadata": {},
   "outputs": [],
   "source": [
    "from pathlib import Path \n",
    "filepath = Path('../data/cleaned/gdp_yearly_cleaned.csv')\n",
    "gdp.to_csv(filepath, mode='wb', index=False)  \n"
   ]
  }
 ],
 "metadata": {
  "kernelspec": {
   "display_name": "Python 3 (ipykernel)",
   "language": "python",
   "name": "python3"
  },
  "language_info": {
   "codemirror_mode": {
    "name": "ipython",
    "version": 3
   },
   "file_extension": ".py",
   "mimetype": "text/x-python",
   "name": "python",
   "nbconvert_exporter": "python",
   "pygments_lexer": "ipython3",
   "version": "3.9.16"
  }
 },
 "nbformat": 4,
 "nbformat_minor": 5
}
