{
 "cells": [
  {
   "cell_type": "markdown",
   "id": "eee52ad9",
   "metadata": {},
   "source": [
    "## Tax Revenue"
   ]
  },
  {
   "cell_type": "code",
   "execution_count": 1,
   "id": "e917c8d4",
   "metadata": {},
   "outputs": [],
   "source": [
    "import pandas as pd\n",
    "import numpy as np"
   ]
  },
  {
   "cell_type": "markdown",
   "id": "e2457169",
   "metadata": {},
   "source": [
    "This data is for the tax revenue for all the countries in OECD. The CSV files has been downloaded using the `driver.ipynb` notebook, which downloads the data and places it in the folder. In this notebook, we open the file, clean the data and output a new CSV to the `data/temp` folder."
   ]
  },
  {
   "cell_type": "code",
   "execution_count": 2,
   "id": "a8219da9",
   "metadata": {},
   "outputs": [
    {
     "name": "stdout",
     "output_type": "stream",
     "text": [
      "(3549, 8)\n"
     ]
    },
    {
     "data": {
      "text/html": [
       "<div>\n",
       "<style scoped>\n",
       "    .dataframe tbody tr th:only-of-type {\n",
       "        vertical-align: middle;\n",
       "    }\n",
       "\n",
       "    .dataframe tbody tr th {\n",
       "        vertical-align: top;\n",
       "    }\n",
       "\n",
       "    .dataframe thead th {\n",
       "        text-align: right;\n",
       "    }\n",
       "</style>\n",
       "<table border=\"1\" class=\"dataframe\">\n",
       "  <thead>\n",
       "    <tr style=\"text-align: right;\">\n",
       "      <th></th>\n",
       "      <th>LOCATION</th>\n",
       "      <th>INDICATOR</th>\n",
       "      <th>SUBJECT</th>\n",
       "      <th>MEASURE</th>\n",
       "      <th>FREQUENCY</th>\n",
       "      <th>TIME</th>\n",
       "      <th>Value</th>\n",
       "      <th>Flag Codes</th>\n",
       "    </tr>\n",
       "  </thead>\n",
       "  <tbody>\n",
       "    <tr>\n",
       "      <th>0</th>\n",
       "      <td>AUS</td>\n",
       "      <td>TAXREV</td>\n",
       "      <td>TOT</td>\n",
       "      <td>PC_GDP</td>\n",
       "      <td>A</td>\n",
       "      <td>1965</td>\n",
       "      <td>20.609</td>\n",
       "      <td>NaN</td>\n",
       "    </tr>\n",
       "    <tr>\n",
       "      <th>1</th>\n",
       "      <td>AUS</td>\n",
       "      <td>TAXREV</td>\n",
       "      <td>TOT</td>\n",
       "      <td>PC_GDP</td>\n",
       "      <td>A</td>\n",
       "      <td>1966</td>\n",
       "      <td>19.829</td>\n",
       "      <td>NaN</td>\n",
       "    </tr>\n",
       "    <tr>\n",
       "      <th>2</th>\n",
       "      <td>AUS</td>\n",
       "      <td>TAXREV</td>\n",
       "      <td>TOT</td>\n",
       "      <td>PC_GDP</td>\n",
       "      <td>A</td>\n",
       "      <td>1967</td>\n",
       "      <td>20.409</td>\n",
       "      <td>NaN</td>\n",
       "    </tr>\n",
       "    <tr>\n",
       "      <th>3</th>\n",
       "      <td>AUS</td>\n",
       "      <td>TAXREV</td>\n",
       "      <td>TOT</td>\n",
       "      <td>PC_GDP</td>\n",
       "      <td>A</td>\n",
       "      <td>1968</td>\n",
       "      <td>20.340</td>\n",
       "      <td>NaN</td>\n",
       "    </tr>\n",
       "    <tr>\n",
       "      <th>4</th>\n",
       "      <td>AUS</td>\n",
       "      <td>TAXREV</td>\n",
       "      <td>TOT</td>\n",
       "      <td>PC_GDP</td>\n",
       "      <td>A</td>\n",
       "      <td>1969</td>\n",
       "      <td>20.681</td>\n",
       "      <td>NaN</td>\n",
       "    </tr>\n",
       "  </tbody>\n",
       "</table>\n",
       "</div>"
      ],
      "text/plain": [
       "  LOCATION INDICATOR SUBJECT MEASURE FREQUENCY  TIME   Value  Flag Codes\n",
       "0      AUS    TAXREV     TOT  PC_GDP         A  1965  20.609         NaN\n",
       "1      AUS    TAXREV     TOT  PC_GDP         A  1966  19.829         NaN\n",
       "2      AUS    TAXREV     TOT  PC_GDP         A  1967  20.409         NaN\n",
       "3      AUS    TAXREV     TOT  PC_GDP         A  1968  20.340         NaN\n",
       "4      AUS    TAXREV     TOT  PC_GDP         A  1969  20.681         NaN"
      ]
     },
     "execution_count": 2,
     "metadata": {},
     "output_type": "execute_result"
    }
   ],
   "source": [
    "tax_revenue = pd.read_csv('../data/uncleaned/tax_revenue.csv')\n",
    "print(tax_revenue.shape)\n",
    "tax_revenue.head()"
   ]
  },
  {
   "cell_type": "code",
   "execution_count": 3,
   "id": "b89db54e",
   "metadata": {},
   "outputs": [
    {
     "data": {
      "text/plain": [
       "array(['A'], dtype=object)"
      ]
     },
     "execution_count": 3,
     "metadata": {},
     "output_type": "execute_result"
    }
   ],
   "source": [
    "tax_revenue.FREQUENCY.unique()"
   ]
  },
  {
   "cell_type": "code",
   "execution_count": 4,
   "id": "7640c486",
   "metadata": {},
   "outputs": [
    {
     "data": {
      "text/plain": [
       "array(['TOT'], dtype=object)"
      ]
     },
     "execution_count": 4,
     "metadata": {},
     "output_type": "execute_result"
    }
   ],
   "source": [
    "tax_revenue.SUBJECT.unique()"
   ]
  },
  {
   "cell_type": "markdown",
   "id": "914406c2",
   "metadata": {},
   "source": [
    "The column `Flag Codes` is not needed for our purpose, and since this data is all annual, we can also drop the column `FREQUENCY`. Additionally, since we know this data is for tax revenue, we can drop the column `INDICATOR` too. The column `SUBJECT` also has only 1 value, so we can drop that column as well."
   ]
  },
  {
   "cell_type": "code",
   "execution_count": 5,
   "id": "72a8afda",
   "metadata": {},
   "outputs": [],
   "source": [
    "tax_revenue = tax_revenue.drop(['Flag Codes','FREQUENCY','INDICATOR','SUBJECT'], axis=1)"
   ]
  },
  {
   "cell_type": "code",
   "execution_count": 6,
   "id": "d03aeeb2",
   "metadata": {},
   "outputs": [
    {
     "data": {
      "text/plain": [
       "array(['PC_GDP', 'MLN_USD'], dtype=object)"
      ]
     },
     "execution_count": 6,
     "metadata": {},
     "output_type": "execute_result"
    }
   ],
   "source": [
    "tax_revenue.MEASURE.unique()"
   ]
  },
  {
   "cell_type": "markdown",
   "id": "e903f9d3",
   "metadata": {},
   "source": [
    "Here, we are only concerned with the measure `MLN_USD`, so we keep only those rows."
   ]
  },
  {
   "cell_type": "code",
   "execution_count": 7,
   "id": "f4bbafe0",
   "metadata": {},
   "outputs": [],
   "source": [
    "tax_revenue = tax_revenue[(tax_revenue['MEASURE']=='MLN_USD')]"
   ]
  },
  {
   "cell_type": "markdown",
   "id": "4110e5cf",
   "metadata": {},
   "source": [
    "We reset the index of this dataframe, since we have deleted a lot of rows."
   ]
  },
  {
   "cell_type": "code",
   "execution_count": 8,
   "id": "006aac9c",
   "metadata": {},
   "outputs": [],
   "source": [
    "tax_revenue.reset_index(drop=True, inplace=True)"
   ]
  },
  {
   "cell_type": "code",
   "execution_count": 9,
   "id": "afedfe35",
   "metadata": {},
   "outputs": [
    {
     "data": {
      "text/html": [
       "<div>\n",
       "<style scoped>\n",
       "    .dataframe tbody tr th:only-of-type {\n",
       "        vertical-align: middle;\n",
       "    }\n",
       "\n",
       "    .dataframe tbody tr th {\n",
       "        vertical-align: top;\n",
       "    }\n",
       "\n",
       "    .dataframe thead th {\n",
       "        text-align: right;\n",
       "    }\n",
       "</style>\n",
       "<table border=\"1\" class=\"dataframe\">\n",
       "  <thead>\n",
       "    <tr style=\"text-align: right;\">\n",
       "      <th></th>\n",
       "      <th>LOCATION</th>\n",
       "      <th>MEASURE</th>\n",
       "      <th>TIME</th>\n",
       "      <th>Value</th>\n",
       "    </tr>\n",
       "  </thead>\n",
       "  <tbody>\n",
       "    <tr>\n",
       "      <th>0</th>\n",
       "      <td>AUS</td>\n",
       "      <td>MLN_USD</td>\n",
       "      <td>1965</td>\n",
       "      <td>5.608</td>\n",
       "    </tr>\n",
       "    <tr>\n",
       "      <th>1</th>\n",
       "      <td>AUS</td>\n",
       "      <td>MLN_USD</td>\n",
       "      <td>1966</td>\n",
       "      <td>5.996</td>\n",
       "    </tr>\n",
       "    <tr>\n",
       "      <th>2</th>\n",
       "      <td>AUS</td>\n",
       "      <td>MLN_USD</td>\n",
       "      <td>1967</td>\n",
       "      <td>6.631</td>\n",
       "    </tr>\n",
       "    <tr>\n",
       "      <th>3</th>\n",
       "      <td>AUS</td>\n",
       "      <td>MLN_USD</td>\n",
       "      <td>1968</td>\n",
       "      <td>7.405</td>\n",
       "    </tr>\n",
       "    <tr>\n",
       "      <th>4</th>\n",
       "      <td>AUS</td>\n",
       "      <td>MLN_USD</td>\n",
       "      <td>1969</td>\n",
       "      <td>8.488</td>\n",
       "    </tr>\n",
       "  </tbody>\n",
       "</table>\n",
       "</div>"
      ],
      "text/plain": [
       "  LOCATION  MEASURE  TIME  Value\n",
       "0      AUS  MLN_USD  1965  5.608\n",
       "1      AUS  MLN_USD  1966  5.996\n",
       "2      AUS  MLN_USD  1967  6.631\n",
       "3      AUS  MLN_USD  1968  7.405\n",
       "4      AUS  MLN_USD  1969  8.488"
      ]
     },
     "execution_count": 9,
     "metadata": {},
     "output_type": "execute_result"
    }
   ],
   "source": [
    "tax_revenue.head()"
   ]
  },
  {
   "cell_type": "markdown",
   "id": "5cb865f6",
   "metadata": {},
   "source": [
    "Checking the total number of unique elements per column:"
   ]
  },
  {
   "cell_type": "code",
   "execution_count": 10,
   "id": "36f18e61",
   "metadata": {},
   "outputs": [
    {
     "data": {
      "text/plain": [
       "LOCATION      39\n",
       "MEASURE        1\n",
       "TIME          57\n",
       "Value       1684\n",
       "dtype: int64"
      ]
     },
     "execution_count": 10,
     "metadata": {},
     "output_type": "execute_result"
    }
   ],
   "source": [
    "tax_revenue.nunique()"
   ]
  },
  {
   "cell_type": "markdown",
   "id": "e6fdd84c",
   "metadata": {},
   "source": [
    "Now, we can check the datatypes of our columns."
   ]
  },
  {
   "cell_type": "code",
   "execution_count": 11,
   "id": "e1c4641c",
   "metadata": {},
   "outputs": [
    {
     "data": {
      "text/plain": [
       "LOCATION     object\n",
       "MEASURE      object\n",
       "TIME          int64\n",
       "Value       float64\n",
       "dtype: object"
      ]
     },
     "execution_count": 11,
     "metadata": {},
     "output_type": "execute_result"
    }
   ],
   "source": [
    "tax_revenue.dtypes"
   ]
  },
  {
   "cell_type": "markdown",
   "id": "4802cd2a",
   "metadata": {},
   "source": [
    "Since `LOCATION`, `MEASURE` and `TIME` are not in the datatype that we want, we change them to the new datatypes as shown below:"
   ]
  },
  {
   "cell_type": "code",
   "execution_count": 12,
   "id": "0963c836",
   "metadata": {},
   "outputs": [],
   "source": [
    "tax_revenue['LOCATION']= tax_revenue['LOCATION'].astype('string')\n",
    "tax_revenue['MEASURE']= tax_revenue['MEASURE'].astype('string')\n",
    "tax_revenue['TIME']= tax_revenue['TIME'].astype('string')"
   ]
  },
  {
   "cell_type": "markdown",
   "id": "e255aba7",
   "metadata": {},
   "source": [
    "When we recheck the datatypes, we can see that they have been changed."
   ]
  },
  {
   "cell_type": "code",
   "execution_count": 13,
   "id": "72d6ffc1",
   "metadata": {},
   "outputs": [
    {
     "data": {
      "text/plain": [
       "LOCATION     string\n",
       "MEASURE      string\n",
       "TIME         string\n",
       "Value       float64\n",
       "dtype: object"
      ]
     },
     "execution_count": 13,
     "metadata": {},
     "output_type": "execute_result"
    }
   ],
   "source": [
    "tax_revenue.dtypes"
   ]
  },
  {
   "cell_type": "markdown",
   "id": "b22a14af",
   "metadata": {},
   "source": [
    "To be thorough, we check if any values in our dataframe are null, in case we need to handle them."
   ]
  },
  {
   "cell_type": "code",
   "execution_count": 14,
   "id": "07529aca",
   "metadata": {},
   "outputs": [
    {
     "data": {
      "text/plain": [
       "LOCATION    0\n",
       "MEASURE     0\n",
       "TIME        0\n",
       "Value       0\n",
       "dtype: int64"
      ]
     },
     "execution_count": 14,
     "metadata": {},
     "output_type": "execute_result"
    }
   ],
   "source": [
    "tax_revenue.isna().sum()"
   ]
  },
  {
   "cell_type": "markdown",
   "id": "fc8bf925",
   "metadata": {},
   "source": [
    "No column in the dataframe is missing any values, so we don't need to handle anything here."
   ]
  },
  {
   "cell_type": "markdown",
   "id": "fc461f15",
   "metadata": {},
   "source": [
    "Finally, our table is shaped as below:"
   ]
  },
  {
   "cell_type": "code",
   "execution_count": 15,
   "id": "0d7cf4a8",
   "metadata": {},
   "outputs": [
    {
     "data": {
      "text/plain": [
       "(1697, 4)"
      ]
     },
     "execution_count": 15,
     "metadata": {},
     "output_type": "execute_result"
    }
   ],
   "source": [
    "tax_revenue.shape"
   ]
  },
  {
   "cell_type": "markdown",
   "id": "40769854",
   "metadata": {},
   "source": [
    "We now need to check if we are missing any data. Fot all unique values of `LOCATION` in our dataframe, we perform an analysis to find the first year that their data is available from, the last year that the data is available for, and any missing years between this range."
   ]
  },
  {
   "cell_type": "code",
   "execution_count": 16,
   "id": "93ee6d75",
   "metadata": {
    "scrolled": false
   },
   "outputs": [
    {
     "name": "stdout",
     "output_type": "stream",
     "text": [
      "Country =  AUS Minimum Year =  1965 Maximum Year =  2020 Missing Years =  Series([], dtype: string)\n",
      "Country =  AUT Minimum Year =  1979 Maximum Year =  2021 Missing Years =  Series([], dtype: string)\n",
      "Country =  BEL Minimum Year =  1979 Maximum Year =  2021 Missing Years =  Series([], dtype: string)\n",
      "Country =  CAN Minimum Year =  1965 Maximum Year =  2021 Missing Years =  Series([], dtype: string)\n",
      "Country =  CZE Minimum Year =  1993 Maximum Year =  2021 Missing Years =  Series([], dtype: string)\n",
      "Country =  DNK Minimum Year =  1965 Maximum Year =  2021 Missing Years =  Series([], dtype: string)\n",
      "Country =  FIN Minimum Year =  1979 Maximum Year =  2021 Missing Years =  Series([], dtype: string)\n",
      "Country =  FRA Minimum Year =  1979 Maximum Year =  2021 Missing Years =  Series([], dtype: string)\n",
      "Country =  DEU Minimum Year =  1979 Maximum Year =  2021 Missing Years =  Series([], dtype: string)\n",
      "Country =  GRC Minimum Year =  1979 Maximum Year =  2021 Missing Years =  Series([], dtype: string)\n",
      "Country =  HUN Minimum Year =  1991 Maximum Year =  2021 Missing Years =  Series([], dtype: string)\n",
      "Country =  ISL Minimum Year =  1965 Maximum Year =  2021 Missing Years =  0     1966\n",
      "1     1967\n",
      "2     1968\n",
      "3     1969\n",
      "4     1971\n",
      "5     1972\n",
      "6     1973\n",
      "7     1974\n",
      "8     1976\n",
      "9     1977\n",
      "10    1978\n",
      "11    1979\n",
      "dtype: object\n",
      "Country =  IRL Minimum Year =  1965 Maximum Year =  2021 Missing Years =  Series([], dtype: string)\n",
      "Country =  ITA Minimum Year =  1979 Maximum Year =  2021 Missing Years =  Series([], dtype: string)\n",
      "Country =  JPN Minimum Year =  1965 Maximum Year =  2020 Missing Years =  Series([], dtype: string)\n",
      "Country =  KOR Minimum Year =  1972 Maximum Year =  2021 Missing Years =  Series([], dtype: string)\n",
      "Country =  LUX Minimum Year =  1979 Maximum Year =  2021 Missing Years =  Series([], dtype: string)\n",
      "Country =  MEX Minimum Year =  1980 Maximum Year =  2021 Missing Years =  Series([], dtype: string)\n",
      "Country =  NLD Minimum Year =  1979 Maximum Year =  2021 Missing Years =  Series([], dtype: string)\n",
      "Country =  NZL Minimum Year =  1965 Maximum Year =  2021 Missing Years =  Series([], dtype: string)\n",
      "Country =  NOR Minimum Year =  1965 Maximum Year =  2021 Missing Years =  Series([], dtype: string)\n",
      "Country =  POL Minimum Year =  1991 Maximum Year =  2021 Missing Years =  Series([], dtype: string)\n",
      "Country =  PRT Minimum Year =  1979 Maximum Year =  2021 Missing Years =  Series([], dtype: string)\n",
      "Country =  SVK Minimum Year =  1995 Maximum Year =  2021 Missing Years =  Series([], dtype: string)\n",
      "Country =  ESP Minimum Year =  1979 Maximum Year =  2021 Missing Years =  Series([], dtype: string)\n",
      "Country =  SWE Minimum Year =  1965 Maximum Year =  2021 Missing Years =  Series([], dtype: string)\n",
      "Country =  CHE Minimum Year =  1965 Maximum Year =  2021 Missing Years =  Series([], dtype: string)\n",
      "Country =  TUR Minimum Year =  1965 Maximum Year =  2021 Missing Years =  Series([], dtype: string)\n",
      "Country =  GBR Minimum Year =  1965 Maximum Year =  2021 Missing Years =  Series([], dtype: string)\n",
      "Country =  USA Minimum Year =  1965 Maximum Year =  2021 Missing Years =  Series([], dtype: string)\n",
      "Country =  CHL Minimum Year =  1990 Maximum Year =  2021 Missing Years =  Series([], dtype: string)\n",
      "Country =  EST Minimum Year =  1995 Maximum Year =  2021 Missing Years =  Series([], dtype: string)\n",
      "Country =  ISR Minimum Year =  1995 Maximum Year =  2021 Missing Years =  Series([], dtype: string)\n",
      "Country =  LVA Minimum Year =  1995 Maximum Year =  2021 Missing Years =  Series([], dtype: string)\n",
      "Country =  SVN Minimum Year =  1995 Maximum Year =  2021 Missing Years =  Series([], dtype: string)\n",
      "Country =  OAVG Minimum Year =  1965 Maximum Year =  2020 Missing Years =  Series([], dtype: string)\n",
      "Country =  LTU Minimum Year =  1995 Maximum Year =  2021 Missing Years =  Series([], dtype: string)\n",
      "Country =  COL Minimum Year =  1990 Maximum Year =  2021 Missing Years =  Series([], dtype: string)\n",
      "Country =  CRI Minimum Year =  1990 Maximum Year =  2021 Missing Years =  Series([], dtype: string)\n",
      "Highest Min =  1995  Country =  SVK\n",
      "Lowest Max =  2020  Country =  AUS\n"
     ]
    }
   ],
   "source": [
    "highestmin = 1\n",
    "highestmincountry = ''\n",
    "lowestmax = 9999\n",
    "lowestmaxcountry = ''\n",
    "\n",
    "for country in tax_revenue.LOCATION.unique():\n",
    "    tempdf = tax_revenue[tax_revenue['LOCATION']==country]\n",
    "    minyear = int(tempdf.TIME.min())\n",
    "    if(highestmin<minyear):\n",
    "        highestmin=minyear\n",
    "        highestmincountry = country\n",
    "        \n",
    "    maxyear = int(tempdf.TIME.max())\n",
    "    if(lowestmax>maxyear):\n",
    "        lowestmax=maxyear\n",
    "        lowestmaxcountry=country\n",
    "   \n",
    "    missingyear = pd.Series([], dtype='string')\n",
    "    for i in range(minyear,maxyear):\n",
    "        if((tempdf['TIME']==str(i)).any() == False):\n",
    "            tempseries = pd.Series([str(i)])\n",
    "            missingyear = pd.concat([missingyear,tempseries])\n",
    "            missingyear.reset_index(inplace=True, drop = True)\n",
    "    \n",
    "    print('Country = ', country, 'Minimum Year = ',minyear, 'Maximum Year = ', maxyear, 'Missing Years = ', missingyear)\n",
    "    \n",
    "print('Highest Min = ', highestmin, ' Country = ', highestmincountry)\n",
    "print('Lowest Max = ', lowestmax, ' Country = ', lowestmaxcountry)"
   ]
  },
  {
   "cell_type": "markdown",
   "id": "a630a18c",
   "metadata": {},
   "source": [
    "Now that we have cleaned our data, we can output it to our final CSV file."
   ]
  },
  {
   "cell_type": "code",
   "execution_count": null,
   "id": "43e22c12",
   "metadata": {},
   "outputs": [],
   "source": [
    "from pathlib import Path \n",
    "filepath = Path('../data/temp/tax_revenue_cleaned.csv')\n",
    "final_df.to_csv(filepath, mode='wb')  \n"
   ]
  }
 ],
 "metadata": {
  "kernelspec": {
   "display_name": "Python 3 (ipykernel)",
   "language": "python",
   "name": "python3"
  },
  "language_info": {
   "codemirror_mode": {
    "name": "ipython",
    "version": 3
   },
   "file_extension": ".py",
   "mimetype": "text/x-python",
   "name": "python",
   "nbconvert_exporter": "python",
   "pygments_lexer": "ipython3",
   "version": "3.9.16"
  }
 },
 "nbformat": 4,
 "nbformat_minor": 5
}
