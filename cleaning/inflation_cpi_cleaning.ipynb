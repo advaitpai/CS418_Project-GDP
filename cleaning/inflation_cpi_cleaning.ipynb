{
 "cells": [
  {
   "cell_type": "markdown",
   "metadata": {},
   "source": [
    "# Inflation - Consumer Price Index - Cleaning"
   ]
  },
  {
   "cell_type": "markdown",
   "metadata": {},
   "source": [
    "Summary:\n",
    "1. We read the dataset from inflation_cpi.csv\n",
    "2. We then check for null values for all columns, which are not existent in the dataset for the values of share prices.\n",
    "3. Since the column flag codes provide no relevant information and contain only 72 non-null objects, we drop that column.\n",
    "4. Then we perform datatype reset of ['LOCATION','SUBJECT','MEASURE','TIME'] from object to string and int.\n",
    "5. We perform a unique value analysis for all the columns. The columns ['INDICATOR'] has only a single value in it, so we can drop this column as well.\n",
    "6. Next we analyse the columns ['FREQUENCY'], here we see that there are three unique values ['A','Q','M'] but since we intend to only perform the dataset joins on ['A'] (Annual values), we use only the annual values.\n",
    "7. Once we have selected the data with ['FREQUENCY'] == Annual, we now have the data reported in two different 'MEASURES' == ['IDX2015','AGRWTH'] and three different 'SUBJECTS' == ['TOT','FOOD','ENRG','TOT_FOODENRG']. Now we need only the data which is SUBJECT == 'TOTAL' and not divided into the subcategory of 'FOOD' or 'ENERGY', so we analyse the data loss for both the measures and finally choose values where 'MEASURE' == 'IDX2015' and 'SUBJECTS' == 'TOT'.\n",
    "8. We check for the final values and null values to create the final dataset and write it to the data/temp folder"
   ]
  },
  {
   "cell_type": "code",
   "execution_count": 1,
   "metadata": {},
   "outputs": [],
   "source": [
    "import pandas as pd"
   ]
  },
  {
   "cell_type": "code",
   "execution_count": 2,
   "metadata": {},
   "outputs": [
    {
     "data": {
      "text/html": [
       "<div>\n",
       "<style scoped>\n",
       "    .dataframe tbody tr th:only-of-type {\n",
       "        vertical-align: middle;\n",
       "    }\n",
       "\n",
       "    .dataframe tbody tr th {\n",
       "        vertical-align: top;\n",
       "    }\n",
       "\n",
       "    .dataframe thead th {\n",
       "        text-align: right;\n",
       "    }\n",
       "</style>\n",
       "<table border=\"1\" class=\"dataframe\">\n",
       "  <thead>\n",
       "    <tr style=\"text-align: right;\">\n",
       "      <th></th>\n",
       "      <th>LOCATION</th>\n",
       "      <th>INDICATOR</th>\n",
       "      <th>SUBJECT</th>\n",
       "      <th>MEASURE</th>\n",
       "      <th>FREQUENCY</th>\n",
       "      <th>TIME</th>\n",
       "      <th>Value</th>\n",
       "      <th>Flag Codes</th>\n",
       "    </tr>\n",
       "  </thead>\n",
       "  <tbody>\n",
       "    <tr>\n",
       "      <th>0</th>\n",
       "      <td>AUS</td>\n",
       "      <td>CPI</td>\n",
       "      <td>ENRG</td>\n",
       "      <td>AGRWTH</td>\n",
       "      <td>A</td>\n",
       "      <td>1972</td>\n",
       "      <td>4.910070</td>\n",
       "      <td>NaN</td>\n",
       "    </tr>\n",
       "    <tr>\n",
       "      <th>1</th>\n",
       "      <td>AUS</td>\n",
       "      <td>CPI</td>\n",
       "      <td>ENRG</td>\n",
       "      <td>AGRWTH</td>\n",
       "      <td>A</td>\n",
       "      <td>1973</td>\n",
       "      <td>3.762801</td>\n",
       "      <td>NaN</td>\n",
       "    </tr>\n",
       "    <tr>\n",
       "      <th>2</th>\n",
       "      <td>AUS</td>\n",
       "      <td>CPI</td>\n",
       "      <td>ENRG</td>\n",
       "      <td>AGRWTH</td>\n",
       "      <td>A</td>\n",
       "      <td>1974</td>\n",
       "      <td>13.173540</td>\n",
       "      <td>NaN</td>\n",
       "    </tr>\n",
       "    <tr>\n",
       "      <th>3</th>\n",
       "      <td>AUS</td>\n",
       "      <td>CPI</td>\n",
       "      <td>ENRG</td>\n",
       "      <td>AGRWTH</td>\n",
       "      <td>A</td>\n",
       "      <td>1975</td>\n",
       "      <td>19.422470</td>\n",
       "      <td>NaN</td>\n",
       "    </tr>\n",
       "    <tr>\n",
       "      <th>4</th>\n",
       "      <td>AUS</td>\n",
       "      <td>CPI</td>\n",
       "      <td>ENRG</td>\n",
       "      <td>AGRWTH</td>\n",
       "      <td>A</td>\n",
       "      <td>1976</td>\n",
       "      <td>8.833195</td>\n",
       "      <td>NaN</td>\n",
       "    </tr>\n",
       "  </tbody>\n",
       "</table>\n",
       "</div>"
      ],
      "text/plain": [
       "  LOCATION INDICATOR SUBJECT MEASURE FREQUENCY  TIME      Value Flag Codes\n",
       "0      AUS       CPI    ENRG  AGRWTH         A  1972   4.910070        NaN\n",
       "1      AUS       CPI    ENRG  AGRWTH         A  1973   3.762801        NaN\n",
       "2      AUS       CPI    ENRG  AGRWTH         A  1974  13.173540        NaN\n",
       "3      AUS       CPI    ENRG  AGRWTH         A  1975  19.422470        NaN\n",
       "4      AUS       CPI    ENRG  AGRWTH         A  1976   8.833195        NaN"
      ]
     },
     "execution_count": 2,
     "metadata": {},
     "output_type": "execute_result"
    }
   ],
   "source": [
    "df_cpi = pd.read_csv('../data/uncleaned/inflation_cpi.csv')\n",
    "df_cpi.head()"
   ]
  },
  {
   "cell_type": "code",
   "execution_count": 3,
   "metadata": {},
   "outputs": [
    {
     "name": "stdout",
     "output_type": "stream",
     "text": [
      "(294281, 8)\n"
     ]
    }
   ],
   "source": [
    "print(df_cpi.shape)"
   ]
  },
  {
   "cell_type": "markdown",
   "metadata": {},
   "source": [
    "## Null Value Analysis"
   ]
  },
  {
   "cell_type": "code",
   "execution_count": 4,
   "metadata": {},
   "outputs": [
    {
     "name": "stdout",
     "output_type": "stream",
     "text": [
      "Analysis of Null values:\n",
      "<class 'pandas.core.frame.DataFrame'>\n",
      "RangeIndex: 294281 entries, 0 to 294280\n",
      "Data columns (total 8 columns):\n",
      " #   Column      Non-Null Count   Dtype  \n",
      "---  ------      --------------   -----  \n",
      " 0   LOCATION    294281 non-null  object \n",
      " 1   INDICATOR   294281 non-null  object \n",
      " 2   SUBJECT     294281 non-null  object \n",
      " 3   MEASURE     294281 non-null  object \n",
      " 4   FREQUENCY   294281 non-null  object \n",
      " 5   TIME        294281 non-null  object \n",
      " 6   Value       294281 non-null  float64\n",
      " 7   Flag Codes  72 non-null      object \n",
      "dtypes: float64(1), object(7)\n",
      "memory usage: 18.0+ MB\n"
     ]
    }
   ],
   "source": [
    "print(\"Analysis of Null values:\")\n",
    "df_cpi.info()"
   ]
  },
  {
   "cell_type": "markdown",
   "metadata": {},
   "source": [
    "### Hence we see that there are only 72 non-null value in Flag Codes, hence we dropp it."
   ]
  },
  {
   "cell_type": "code",
   "execution_count": 5,
   "metadata": {},
   "outputs": [
    {
     "data": {
      "text/html": [
       "<div>\n",
       "<style scoped>\n",
       "    .dataframe tbody tr th:only-of-type {\n",
       "        vertical-align: middle;\n",
       "    }\n",
       "\n",
       "    .dataframe tbody tr th {\n",
       "        vertical-align: top;\n",
       "    }\n",
       "\n",
       "    .dataframe thead th {\n",
       "        text-align: right;\n",
       "    }\n",
       "</style>\n",
       "<table border=\"1\" class=\"dataframe\">\n",
       "  <thead>\n",
       "    <tr style=\"text-align: right;\">\n",
       "      <th></th>\n",
       "      <th>LOCATION</th>\n",
       "      <th>INDICATOR</th>\n",
       "      <th>SUBJECT</th>\n",
       "      <th>MEASURE</th>\n",
       "      <th>FREQUENCY</th>\n",
       "      <th>TIME</th>\n",
       "      <th>Value</th>\n",
       "    </tr>\n",
       "  </thead>\n",
       "  <tbody>\n",
       "    <tr>\n",
       "      <th>0</th>\n",
       "      <td>AUS</td>\n",
       "      <td>CPI</td>\n",
       "      <td>ENRG</td>\n",
       "      <td>AGRWTH</td>\n",
       "      <td>A</td>\n",
       "      <td>1972</td>\n",
       "      <td>4.910070</td>\n",
       "    </tr>\n",
       "    <tr>\n",
       "      <th>1</th>\n",
       "      <td>AUS</td>\n",
       "      <td>CPI</td>\n",
       "      <td>ENRG</td>\n",
       "      <td>AGRWTH</td>\n",
       "      <td>A</td>\n",
       "      <td>1973</td>\n",
       "      <td>3.762801</td>\n",
       "    </tr>\n",
       "    <tr>\n",
       "      <th>2</th>\n",
       "      <td>AUS</td>\n",
       "      <td>CPI</td>\n",
       "      <td>ENRG</td>\n",
       "      <td>AGRWTH</td>\n",
       "      <td>A</td>\n",
       "      <td>1974</td>\n",
       "      <td>13.173540</td>\n",
       "    </tr>\n",
       "    <tr>\n",
       "      <th>3</th>\n",
       "      <td>AUS</td>\n",
       "      <td>CPI</td>\n",
       "      <td>ENRG</td>\n",
       "      <td>AGRWTH</td>\n",
       "      <td>A</td>\n",
       "      <td>1975</td>\n",
       "      <td>19.422470</td>\n",
       "    </tr>\n",
       "    <tr>\n",
       "      <th>4</th>\n",
       "      <td>AUS</td>\n",
       "      <td>CPI</td>\n",
       "      <td>ENRG</td>\n",
       "      <td>AGRWTH</td>\n",
       "      <td>A</td>\n",
       "      <td>1976</td>\n",
       "      <td>8.833195</td>\n",
       "    </tr>\n",
       "  </tbody>\n",
       "</table>\n",
       "</div>"
      ],
      "text/plain": [
       "  LOCATION INDICATOR SUBJECT MEASURE FREQUENCY  TIME      Value\n",
       "0      AUS       CPI    ENRG  AGRWTH         A  1972   4.910070\n",
       "1      AUS       CPI    ENRG  AGRWTH         A  1973   3.762801\n",
       "2      AUS       CPI    ENRG  AGRWTH         A  1974  13.173540\n",
       "3      AUS       CPI    ENRG  AGRWTH         A  1975  19.422470\n",
       "4      AUS       CPI    ENRG  AGRWTH         A  1976   8.833195"
      ]
     },
     "execution_count": 5,
     "metadata": {},
     "output_type": "execute_result"
    }
   ],
   "source": [
    "df_cpi = df_cpi.drop(columns=['Flag Codes'])\n",
    "df_cpi.head()"
   ]
  },
  {
   "cell_type": "markdown",
   "metadata": {},
   "source": [
    "## Datatype Reset"
   ]
  },
  {
   "cell_type": "code",
   "execution_count": 6,
   "metadata": {},
   "outputs": [],
   "source": [
    "df_cpi['LOCATION']=df_cpi['LOCATION'].astype('string')\n",
    "df_cpi['TIME']=df_cpi['TIME'].astype('string')\n",
    "df_cpi['MEASURE']=df_cpi['MEASURE'].astype('string')\n",
    "df_cpi['SUBJECT']=df_cpi['SUBJECT'].astype('string')"
   ]
  },
  {
   "cell_type": "code",
   "execution_count": 7,
   "metadata": {},
   "outputs": [
    {
     "name": "stdout",
     "output_type": "stream",
     "text": [
      "<class 'pandas.core.frame.DataFrame'>\n",
      "RangeIndex: 294281 entries, 0 to 294280\n",
      "Data columns (total 7 columns):\n",
      " #   Column     Non-Null Count   Dtype  \n",
      "---  ------     --------------   -----  \n",
      " 0   LOCATION   294281 non-null  string \n",
      " 1   INDICATOR  294281 non-null  object \n",
      " 2   SUBJECT    294281 non-null  string \n",
      " 3   MEASURE    294281 non-null  string \n",
      " 4   FREQUENCY  294281 non-null  object \n",
      " 5   TIME       294281 non-null  string \n",
      " 6   Value      294281 non-null  float64\n",
      "dtypes: float64(1), object(2), string(4)\n",
      "memory usage: 15.7+ MB\n"
     ]
    }
   ],
   "source": [
    "df_cpi.info()"
   ]
  },
  {
   "cell_type": "markdown",
   "metadata": {},
   "source": [
    "## Unique Value Analysis"
   ]
  },
  {
   "cell_type": "code",
   "execution_count": 8,
   "metadata": {},
   "outputs": [
    {
     "data": {
      "text/plain": [
       "LOCATION         52\n",
       "INDICATOR         1\n",
       "SUBJECT           4\n",
       "MEASURE           2\n",
       "FREQUENCY         3\n",
       "TIME           1855\n",
       "Value        247327\n",
       "dtype: int64"
      ]
     },
     "execution_count": 8,
     "metadata": {},
     "output_type": "execute_result"
    }
   ],
   "source": [
    "df_cpi.nunique()"
   ]
  },
  {
   "cell_type": "markdown",
   "metadata": {},
   "source": [
    "#### Hence we can drop the INDICATOR column"
   ]
  },
  {
   "cell_type": "code",
   "execution_count": 9,
   "metadata": {},
   "outputs": [],
   "source": [
    "df_cpi = df_cpi.drop(columns=\"INDICATOR\")"
   ]
  },
  {
   "cell_type": "markdown",
   "metadata": {},
   "source": [
    "### FREQUENCY unique Analysis"
   ]
  },
  {
   "cell_type": "code",
   "execution_count": 10,
   "metadata": {},
   "outputs": [
    {
     "data": {
      "text/plain": [
       "array(['A', 'Q', 'M'], dtype=object)"
      ]
     },
     "execution_count": 10,
     "metadata": {},
     "output_type": "execute_result"
    }
   ],
   "source": [
    "df_cpi['FREQUENCY'].unique()"
   ]
  },
  {
   "cell_type": "markdown",
   "metadata": {},
   "source": [
    "We need to analyse the FREQUENCY column to see if all countries have data consistent in the annual \"A\" format. We first need to set a range of which we will check the dates for"
   ]
  },
  {
   "cell_type": "code",
   "execution_count": 11,
   "metadata": {},
   "outputs": [
    {
     "name": "stdout",
     "output_type": "stream",
     "text": [
      "Start Year 1914\n",
      "End Year 2022\n"
     ]
    }
   ],
   "source": [
    "start_year = int(min(df_cpi[\"TIME\"]))\n",
    "end_year = int(max(df_cpi.loc[df_cpi[\"FREQUENCY\"] == \"A\"][\"TIME\"]))\n",
    "print(\"Start Year\",start_year)\n",
    "print(\"End Year\",end_year)"
   ]
  },
  {
   "cell_type": "code",
   "execution_count": 12,
   "metadata": {},
   "outputs": [
    {
     "name": "stdout",
     "output_type": "stream",
     "text": [
      "Countries with missing values between 1914 and 2022 : 51\n"
     ]
    }
   ],
   "source": [
    "# start_year = 2001\n",
    "countries = []\n",
    "# print(\"Missing Values:\\n\")\n",
    "for c in df_cpi[\"LOCATION\"].unique():\n",
    "    temp = df_cpi.loc[df_cpi[\"LOCATION\"] == c]\n",
    "    temp = temp[temp[\"FREQUENCY\"] == \"A\"][\"TIME\"]\n",
    "    for i in range(start_year,end_year+1):\n",
    "        if(str(i) not in temp.values):\n",
    "            # print(\"Location:\",c,\"\\tYear:\",i)\n",
    "            if c not in countries:\n",
    "                countries.append(c)\n",
    "print(\"Countries with missing values between\",start_year,\"and\",end_year,\":\",len(countries))"
   ]
  },
  {
   "cell_type": "code",
   "execution_count": 13,
   "metadata": {},
   "outputs": [],
   "source": [
    "df_cpi = df_cpi.loc[df_cpi[\"FREQUENCY\"]=='A']"
   ]
  },
  {
   "cell_type": "code",
   "execution_count": 14,
   "metadata": {},
   "outputs": [
    {
     "data": {
      "text/plain": [
       "array(['A'], dtype=object)"
      ]
     },
     "execution_count": 14,
     "metadata": {},
     "output_type": "execute_result"
    }
   ],
   "source": [
    "df_cpi[\"FREQUENCY\"].unique()"
   ]
  },
  {
   "cell_type": "markdown",
   "metadata": {},
   "source": [
    "### MEASURE Analysis"
   ]
  },
  {
   "cell_type": "code",
   "execution_count": 15,
   "metadata": {},
   "outputs": [
    {
     "data": {
      "text/plain": [
       "IDX2015    9068\n",
       "AGRWTH     8942\n",
       "Name: MEASURE, dtype: Int64"
      ]
     },
     "execution_count": 15,
     "metadata": {},
     "output_type": "execute_result"
    }
   ],
   "source": [
    "df_cpi['MEASURE'].value_counts()"
   ]
  },
  {
   "cell_type": "markdown",
   "metadata": {},
   "source": [
    "#### Let us now split this into two separate tables to perform our further analysis"
   ]
  },
  {
   "cell_type": "code",
   "execution_count": 16,
   "metadata": {},
   "outputs": [
    {
     "data": {
      "text/html": [
       "<div>\n",
       "<style scoped>\n",
       "    .dataframe tbody tr th:only-of-type {\n",
       "        vertical-align: middle;\n",
       "    }\n",
       "\n",
       "    .dataframe tbody tr th {\n",
       "        vertical-align: top;\n",
       "    }\n",
       "\n",
       "    .dataframe thead th {\n",
       "        text-align: right;\n",
       "    }\n",
       "</style>\n",
       "<table border=\"1\" class=\"dataframe\">\n",
       "  <thead>\n",
       "    <tr style=\"text-align: right;\">\n",
       "      <th></th>\n",
       "      <th>LOCATION</th>\n",
       "      <th>SUBJECT</th>\n",
       "      <th>MEASURE</th>\n",
       "      <th>FREQUENCY</th>\n",
       "      <th>TIME</th>\n",
       "      <th>Value</th>\n",
       "    </tr>\n",
       "  </thead>\n",
       "  <tbody>\n",
       "    <tr>\n",
       "      <th>144706</th>\n",
       "      <td>AUS</td>\n",
       "      <td>ENRG</td>\n",
       "      <td>IDX2015</td>\n",
       "      <td>A</td>\n",
       "      <td>1972</td>\n",
       "      <td>6.649913</td>\n",
       "    </tr>\n",
       "    <tr>\n",
       "      <th>144707</th>\n",
       "      <td>AUS</td>\n",
       "      <td>ENRG</td>\n",
       "      <td>IDX2015</td>\n",
       "      <td>A</td>\n",
       "      <td>1973</td>\n",
       "      <td>6.900136</td>\n",
       "    </tr>\n",
       "    <tr>\n",
       "      <th>144708</th>\n",
       "      <td>AUS</td>\n",
       "      <td>ENRG</td>\n",
       "      <td>IDX2015</td>\n",
       "      <td>A</td>\n",
       "      <td>1974</td>\n",
       "      <td>7.809128</td>\n",
       "    </tr>\n",
       "    <tr>\n",
       "      <th>144709</th>\n",
       "      <td>AUS</td>\n",
       "      <td>ENRG</td>\n",
       "      <td>IDX2015</td>\n",
       "      <td>A</td>\n",
       "      <td>1975</td>\n",
       "      <td>9.325853</td>\n",
       "    </tr>\n",
       "    <tr>\n",
       "      <th>144710</th>\n",
       "      <td>AUS</td>\n",
       "      <td>ENRG</td>\n",
       "      <td>IDX2015</td>\n",
       "      <td>A</td>\n",
       "      <td>1976</td>\n",
       "      <td>10.149620</td>\n",
       "    </tr>\n",
       "  </tbody>\n",
       "</table>\n",
       "</div>"
      ],
      "text/plain": [
       "       LOCATION SUBJECT  MEASURE FREQUENCY  TIME      Value\n",
       "144706      AUS    ENRG  IDX2015         A  1972   6.649913\n",
       "144707      AUS    ENRG  IDX2015         A  1973   6.900136\n",
       "144708      AUS    ENRG  IDX2015         A  1974   7.809128\n",
       "144709      AUS    ENRG  IDX2015         A  1975   9.325853\n",
       "144710      AUS    ENRG  IDX2015         A  1976  10.149620"
      ]
     },
     "execution_count": 16,
     "metadata": {},
     "output_type": "execute_result"
    }
   ],
   "source": [
    "df_cpi_idx = df_cpi.loc[df_cpi[\"MEASURE\"] == \"IDX2015\"]\n",
    "df_cpi_idx.head()"
   ]
  },
  {
   "cell_type": "code",
   "execution_count": 17,
   "metadata": {},
   "outputs": [
    {
     "data": {
      "text/html": [
       "<div>\n",
       "<style scoped>\n",
       "    .dataframe tbody tr th:only-of-type {\n",
       "        vertical-align: middle;\n",
       "    }\n",
       "\n",
       "    .dataframe tbody tr th {\n",
       "        vertical-align: top;\n",
       "    }\n",
       "\n",
       "    .dataframe thead th {\n",
       "        text-align: right;\n",
       "    }\n",
       "</style>\n",
       "<table border=\"1\" class=\"dataframe\">\n",
       "  <thead>\n",
       "    <tr style=\"text-align: right;\">\n",
       "      <th></th>\n",
       "      <th>LOCATION</th>\n",
       "      <th>SUBJECT</th>\n",
       "      <th>MEASURE</th>\n",
       "      <th>FREQUENCY</th>\n",
       "      <th>TIME</th>\n",
       "      <th>Value</th>\n",
       "    </tr>\n",
       "  </thead>\n",
       "  <tbody>\n",
       "    <tr>\n",
       "      <th>0</th>\n",
       "      <td>AUS</td>\n",
       "      <td>ENRG</td>\n",
       "      <td>AGRWTH</td>\n",
       "      <td>A</td>\n",
       "      <td>1972</td>\n",
       "      <td>4.910070</td>\n",
       "    </tr>\n",
       "    <tr>\n",
       "      <th>1</th>\n",
       "      <td>AUS</td>\n",
       "      <td>ENRG</td>\n",
       "      <td>AGRWTH</td>\n",
       "      <td>A</td>\n",
       "      <td>1973</td>\n",
       "      <td>3.762801</td>\n",
       "    </tr>\n",
       "    <tr>\n",
       "      <th>2</th>\n",
       "      <td>AUS</td>\n",
       "      <td>ENRG</td>\n",
       "      <td>AGRWTH</td>\n",
       "      <td>A</td>\n",
       "      <td>1974</td>\n",
       "      <td>13.173540</td>\n",
       "    </tr>\n",
       "    <tr>\n",
       "      <th>3</th>\n",
       "      <td>AUS</td>\n",
       "      <td>ENRG</td>\n",
       "      <td>AGRWTH</td>\n",
       "      <td>A</td>\n",
       "      <td>1975</td>\n",
       "      <td>19.422470</td>\n",
       "    </tr>\n",
       "    <tr>\n",
       "      <th>4</th>\n",
       "      <td>AUS</td>\n",
       "      <td>ENRG</td>\n",
       "      <td>AGRWTH</td>\n",
       "      <td>A</td>\n",
       "      <td>1976</td>\n",
       "      <td>8.833195</td>\n",
       "    </tr>\n",
       "  </tbody>\n",
       "</table>\n",
       "</div>"
      ],
      "text/plain": [
       "  LOCATION SUBJECT MEASURE FREQUENCY  TIME      Value\n",
       "0      AUS    ENRG  AGRWTH         A  1972   4.910070\n",
       "1      AUS    ENRG  AGRWTH         A  1973   3.762801\n",
       "2      AUS    ENRG  AGRWTH         A  1974  13.173540\n",
       "3      AUS    ENRG  AGRWTH         A  1975  19.422470\n",
       "4      AUS    ENRG  AGRWTH         A  1976   8.833195"
      ]
     },
     "execution_count": 17,
     "metadata": {},
     "output_type": "execute_result"
    }
   ],
   "source": [
    "df_cpi_agrowth = df_cpi.loc[df_cpi[\"MEASURE\"] == \"AGRWTH\"]\n",
    "df_cpi_agrowth.head()"
   ]
  },
  {
   "cell_type": "markdown",
   "metadata": {},
   "source": [
    "Once we have the data split on the basis of the measure, we create a further split on the basis of subject"
   ]
  },
  {
   "cell_type": "markdown",
   "metadata": {},
   "source": [
    "### SUBJECT Analysis"
   ]
  },
  {
   "cell_type": "code",
   "execution_count": 18,
   "metadata": {},
   "outputs": [
    {
     "data": {
      "text/plain": [
       "TOT             2840\n",
       "FOOD            2285\n",
       "ENRG            1988\n",
       "TOT_FOODENRG    1955\n",
       "Name: SUBJECT, dtype: Int64"
      ]
     },
     "execution_count": 18,
     "metadata": {},
     "output_type": "execute_result"
    }
   ],
   "source": [
    "x = df_cpi_idx[\"SUBJECT\"].value_counts()\n",
    "x"
   ]
  },
  {
   "cell_type": "code",
   "execution_count": 19,
   "metadata": {},
   "outputs": [
    {
     "data": {
      "text/plain": [
       "TOT             2792\n",
       "FOOD            2249\n",
       "ENRG            1967\n",
       "TOT_FOODENRG    1934\n",
       "Name: SUBJECT, dtype: Int64"
      ]
     },
     "execution_count": 19,
     "metadata": {},
     "output_type": "execute_result"
    }
   ],
   "source": [
    "y = df_cpi_agrowth[\"SUBJECT\"].value_counts()\n",
    "y"
   ]
  },
  {
   "cell_type": "code",
   "execution_count": 20,
   "metadata": {},
   "outputs": [
    {
     "name": "stdout",
     "output_type": "stream",
     "text": [
      "Difference in data (IDX-AGROWTH):\n"
     ]
    },
    {
     "data": {
      "text/plain": [
       "TOT             48\n",
       "FOOD            36\n",
       "ENRG            21\n",
       "TOT_FOODENRG    21\n",
       "Name: SUBJECT, dtype: Int64"
      ]
     },
     "execution_count": 20,
     "metadata": {},
     "output_type": "execute_result"
    }
   ],
   "source": [
    "print(\"Difference in data (IDX-AGROWTH):\")\n",
    "x-y"
   ]
  },
  {
   "cell_type": "markdown",
   "metadata": {},
   "source": [
    "#### Hence we choose the IDX Measure as the value to prevent data loss. Now we need to choose the subject we will take"
   ]
  },
  {
   "cell_type": "code",
   "execution_count": 21,
   "metadata": {},
   "outputs": [
    {
     "data": {
      "text/plain": [
       "TOT             2840\n",
       "FOOD            2285\n",
       "ENRG            1988\n",
       "TOT_FOODENRG    1955\n",
       "Name: SUBJECT, dtype: Int64"
      ]
     },
     "execution_count": 21,
     "metadata": {},
     "output_type": "execute_result"
    }
   ],
   "source": [
    "df_cpi_idx['SUBJECT'].value_counts()"
   ]
  },
  {
   "cell_type": "markdown",
   "metadata": {},
   "source": [
    "#### Now we will only select the total values as we need only the total"
   ]
  },
  {
   "cell_type": "code",
   "execution_count": 22,
   "metadata": {},
   "outputs": [],
   "source": [
    "df_cpi_idx = df_cpi_idx.loc[df_cpi_idx[\"SUBJECT\"]==\"TOT\"]"
   ]
  },
  {
   "cell_type": "code",
   "execution_count": 23,
   "metadata": {},
   "outputs": [
    {
     "data": {
      "text/plain": [
       "LOCATION       51\n",
       "SUBJECT         1\n",
       "MEASURE         1\n",
       "FREQUENCY       1\n",
       "TIME          109\n",
       "Value        2787\n",
       "dtype: int64"
      ]
     },
     "execution_count": 23,
     "metadata": {},
     "output_type": "execute_result"
    }
   ],
   "source": [
    "df_cpi_idx.nunique()"
   ]
  },
  {
   "cell_type": "code",
   "execution_count": 24,
   "metadata": {},
   "outputs": [
    {
     "data": {
      "text/plain": [
       "(2840, 3)"
      ]
     },
     "execution_count": 24,
     "metadata": {},
     "output_type": "execute_result"
    }
   ],
   "source": [
    "df_cpi_idx = df_cpi_idx.drop(columns=[\"SUBJECT\",\"MEASURE\",\"FREQUENCY\"])\n",
    "df_cpi_idx = df_cpi_idx.reset_index(drop=True)\n",
    "df_cpi_idx.shape"
   ]
  },
  {
   "cell_type": "code",
   "execution_count": 25,
   "metadata": {},
   "outputs": [
    {
     "data": {
      "text/html": [
       "<div>\n",
       "<style scoped>\n",
       "    .dataframe tbody tr th:only-of-type {\n",
       "        vertical-align: middle;\n",
       "    }\n",
       "\n",
       "    .dataframe tbody tr th {\n",
       "        vertical-align: top;\n",
       "    }\n",
       "\n",
       "    .dataframe thead th {\n",
       "        text-align: right;\n",
       "    }\n",
       "</style>\n",
       "<table border=\"1\" class=\"dataframe\">\n",
       "  <thead>\n",
       "    <tr style=\"text-align: right;\">\n",
       "      <th></th>\n",
       "      <th>LOCATION</th>\n",
       "      <th>TIME</th>\n",
       "      <th>Value</th>\n",
       "    </tr>\n",
       "  </thead>\n",
       "  <tbody>\n",
       "    <tr>\n",
       "      <th>0</th>\n",
       "      <td>AUS</td>\n",
       "      <td>1949</td>\n",
       "      <td>3.738101</td>\n",
       "    </tr>\n",
       "    <tr>\n",
       "      <th>1</th>\n",
       "      <td>AUS</td>\n",
       "      <td>1950</td>\n",
       "      <td>4.063153</td>\n",
       "    </tr>\n",
       "    <tr>\n",
       "      <th>2</th>\n",
       "      <td>AUS</td>\n",
       "      <td>1951</td>\n",
       "      <td>4.852566</td>\n",
       "    </tr>\n",
       "    <tr>\n",
       "      <th>3</th>\n",
       "      <td>AUS</td>\n",
       "      <td>1952</td>\n",
       "      <td>5.688414</td>\n",
       "    </tr>\n",
       "    <tr>\n",
       "      <th>4</th>\n",
       "      <td>AUS</td>\n",
       "      <td>1953</td>\n",
       "      <td>5.943812</td>\n",
       "    </tr>\n",
       "  </tbody>\n",
       "</table>\n",
       "</div>"
      ],
      "text/plain": [
       "  LOCATION  TIME     Value\n",
       "0      AUS  1949  3.738101\n",
       "1      AUS  1950  4.063153\n",
       "2      AUS  1951  4.852566\n",
       "3      AUS  1952  5.688414\n",
       "4      AUS  1953  5.943812"
      ]
     },
     "execution_count": 25,
     "metadata": {},
     "output_type": "execute_result"
    }
   ],
   "source": [
    "df_cpi_idx.head()"
   ]
  },
  {
   "cell_type": "code",
   "execution_count": 26,
   "metadata": {},
   "outputs": [],
   "source": [
    "df_cpi_idx.to_csv('../data/temp/inflation_cpi_cleaned.csv',mode='wb',index=False)\n",
    "df_cpi_idx.to_csv('../data/cleaned/inflation_cpi_cleaned.csv',mode='wb',index=False)"
   ]
  }
 ],
 "metadata": {
  "kernelspec": {
   "display_name": "Python 3 (ipykernel)",
   "language": "python",
   "name": "python3"
  },
  "language_info": {
   "codemirror_mode": {
    "name": "ipython",
    "version": 3
   },
   "file_extension": ".py",
   "mimetype": "text/x-python",
   "name": "python",
   "nbconvert_exporter": "python",
   "pygments_lexer": "ipython3",
   "version": "3.9.16"
  },
  "vscode": {
   "interpreter": {
    "hash": "c8ac7bcc6b2dbb39842d89486c34ab7849f692bd3067ed6f57c4db9cdfb88efc"
   }
  }
 },
 "nbformat": 4,
 "nbformat_minor": 2
}
