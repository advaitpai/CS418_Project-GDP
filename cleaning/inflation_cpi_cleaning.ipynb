{
 "cells": [
  {
   "cell_type": "markdown",
   "metadata": {},
   "source": [
    "# Inflation - Consumer Price Index"
   ]
  },
  {
   "cell_type": "code",
   "execution_count": 5,
   "metadata": {},
   "outputs": [],
   "source": [
    "import pandas as pd"
   ]
  },
  {
   "cell_type": "code",
   "execution_count": 6,
   "metadata": {},
   "outputs": [
    {
     "data": {
      "text/html": [
       "<div>\n",
       "<style scoped>\n",
       "    .dataframe tbody tr th:only-of-type {\n",
       "        vertical-align: middle;\n",
       "    }\n",
       "\n",
       "    .dataframe tbody tr th {\n",
       "        vertical-align: top;\n",
       "    }\n",
       "\n",
       "    .dataframe thead th {\n",
       "        text-align: right;\n",
       "    }\n",
       "</style>\n",
       "<table border=\"1\" class=\"dataframe\">\n",
       "  <thead>\n",
       "    <tr style=\"text-align: right;\">\n",
       "      <th></th>\n",
       "      <th>LOCATION</th>\n",
       "      <th>INDICATOR</th>\n",
       "      <th>SUBJECT</th>\n",
       "      <th>MEASURE</th>\n",
       "      <th>FREQUENCY</th>\n",
       "      <th>TIME</th>\n",
       "      <th>Value</th>\n",
       "      <th>Flag Codes</th>\n",
       "    </tr>\n",
       "  </thead>\n",
       "  <tbody>\n",
       "    <tr>\n",
       "      <th>0</th>\n",
       "      <td>AUS</td>\n",
       "      <td>CPI</td>\n",
       "      <td>ENRG</td>\n",
       "      <td>AGRWTH</td>\n",
       "      <td>A</td>\n",
       "      <td>1972</td>\n",
       "      <td>4.910070</td>\n",
       "      <td>NaN</td>\n",
       "    </tr>\n",
       "    <tr>\n",
       "      <th>1</th>\n",
       "      <td>AUS</td>\n",
       "      <td>CPI</td>\n",
       "      <td>ENRG</td>\n",
       "      <td>AGRWTH</td>\n",
       "      <td>A</td>\n",
       "      <td>1973</td>\n",
       "      <td>3.762801</td>\n",
       "      <td>NaN</td>\n",
       "    </tr>\n",
       "    <tr>\n",
       "      <th>2</th>\n",
       "      <td>AUS</td>\n",
       "      <td>CPI</td>\n",
       "      <td>ENRG</td>\n",
       "      <td>AGRWTH</td>\n",
       "      <td>A</td>\n",
       "      <td>1974</td>\n",
       "      <td>13.173540</td>\n",
       "      <td>NaN</td>\n",
       "    </tr>\n",
       "    <tr>\n",
       "      <th>3</th>\n",
       "      <td>AUS</td>\n",
       "      <td>CPI</td>\n",
       "      <td>ENRG</td>\n",
       "      <td>AGRWTH</td>\n",
       "      <td>A</td>\n",
       "      <td>1975</td>\n",
       "      <td>19.422470</td>\n",
       "      <td>NaN</td>\n",
       "    </tr>\n",
       "    <tr>\n",
       "      <th>4</th>\n",
       "      <td>AUS</td>\n",
       "      <td>CPI</td>\n",
       "      <td>ENRG</td>\n",
       "      <td>AGRWTH</td>\n",
       "      <td>A</td>\n",
       "      <td>1976</td>\n",
       "      <td>8.833195</td>\n",
       "      <td>NaN</td>\n",
       "    </tr>\n",
       "  </tbody>\n",
       "</table>\n",
       "</div>"
      ],
      "text/plain": [
       "  LOCATION INDICATOR SUBJECT MEASURE FREQUENCY  TIME      Value Flag Codes\n",
       "0      AUS       CPI    ENRG  AGRWTH         A  1972   4.910070        NaN\n",
       "1      AUS       CPI    ENRG  AGRWTH         A  1973   3.762801        NaN\n",
       "2      AUS       CPI    ENRG  AGRWTH         A  1974  13.173540        NaN\n",
       "3      AUS       CPI    ENRG  AGRWTH         A  1975  19.422470        NaN\n",
       "4      AUS       CPI    ENRG  AGRWTH         A  1976   8.833195        NaN"
      ]
     },
     "execution_count": 6,
     "metadata": {},
     "output_type": "execute_result"
    }
   ],
   "source": [
    "df_cpi = pd.read_csv('../data/uncleaned/inflation_cpi.csv')\n",
    "df_cpi.head()"
   ]
  },
  {
   "cell_type": "code",
   "execution_count": 7,
   "metadata": {},
   "outputs": [
    {
     "name": "stdout",
     "output_type": "stream",
     "text": [
      "(294281, 8)\n"
     ]
    }
   ],
   "source": [
    "print(df_cpi.shape)"
   ]
  },
  {
   "cell_type": "markdown",
   "metadata": {},
   "source": [
    "## Null Value Analysis"
   ]
  },
  {
   "cell_type": "code",
   "execution_count": 8,
   "metadata": {},
   "outputs": [
    {
     "name": "stdout",
     "output_type": "stream",
     "text": [
      "Analysis of Null values:\n",
      "<class 'pandas.core.frame.DataFrame'>\n",
      "RangeIndex: 294281 entries, 0 to 294280\n",
      "Data columns (total 8 columns):\n",
      " #   Column      Non-Null Count   Dtype  \n",
      "---  ------      --------------   -----  \n",
      " 0   LOCATION    294281 non-null  object \n",
      " 1   INDICATOR   294281 non-null  object \n",
      " 2   SUBJECT     294281 non-null  object \n",
      " 3   MEASURE     294281 non-null  object \n",
      " 4   FREQUENCY   294281 non-null  object \n",
      " 5   TIME        294281 non-null  object \n",
      " 6   Value       294281 non-null  float64\n",
      " 7   Flag Codes  72 non-null      object \n",
      "dtypes: float64(1), object(7)\n",
      "memory usage: 18.0+ MB\n"
     ]
    }
   ],
   "source": [
    "print(\"Analysis of Null values:\")\n",
    "df_cpi.info()"
   ]
  },
  {
   "cell_type": "markdown",
   "metadata": {},
   "source": [
    "### Hence we see that there are only 25 non-null value in Flag Codes, hence we dropp it."
   ]
  },
  {
   "cell_type": "code",
   "execution_count": 9,
   "metadata": {},
   "outputs": [
    {
     "data": {
      "text/html": [
       "<div>\n",
       "<style scoped>\n",
       "    .dataframe tbody tr th:only-of-type {\n",
       "        vertical-align: middle;\n",
       "    }\n",
       "\n",
       "    .dataframe tbody tr th {\n",
       "        vertical-align: top;\n",
       "    }\n",
       "\n",
       "    .dataframe thead th {\n",
       "        text-align: right;\n",
       "    }\n",
       "</style>\n",
       "<table border=\"1\" class=\"dataframe\">\n",
       "  <thead>\n",
       "    <tr style=\"text-align: right;\">\n",
       "      <th></th>\n",
       "      <th>LOCATION</th>\n",
       "      <th>INDICATOR</th>\n",
       "      <th>SUBJECT</th>\n",
       "      <th>MEASURE</th>\n",
       "      <th>FREQUENCY</th>\n",
       "      <th>TIME</th>\n",
       "      <th>Value</th>\n",
       "    </tr>\n",
       "  </thead>\n",
       "  <tbody>\n",
       "    <tr>\n",
       "      <th>0</th>\n",
       "      <td>AUS</td>\n",
       "      <td>CPI</td>\n",
       "      <td>ENRG</td>\n",
       "      <td>AGRWTH</td>\n",
       "      <td>A</td>\n",
       "      <td>1972</td>\n",
       "      <td>4.910070</td>\n",
       "    </tr>\n",
       "    <tr>\n",
       "      <th>1</th>\n",
       "      <td>AUS</td>\n",
       "      <td>CPI</td>\n",
       "      <td>ENRG</td>\n",
       "      <td>AGRWTH</td>\n",
       "      <td>A</td>\n",
       "      <td>1973</td>\n",
       "      <td>3.762801</td>\n",
       "    </tr>\n",
       "    <tr>\n",
       "      <th>2</th>\n",
       "      <td>AUS</td>\n",
       "      <td>CPI</td>\n",
       "      <td>ENRG</td>\n",
       "      <td>AGRWTH</td>\n",
       "      <td>A</td>\n",
       "      <td>1974</td>\n",
       "      <td>13.173540</td>\n",
       "    </tr>\n",
       "    <tr>\n",
       "      <th>3</th>\n",
       "      <td>AUS</td>\n",
       "      <td>CPI</td>\n",
       "      <td>ENRG</td>\n",
       "      <td>AGRWTH</td>\n",
       "      <td>A</td>\n",
       "      <td>1975</td>\n",
       "      <td>19.422470</td>\n",
       "    </tr>\n",
       "    <tr>\n",
       "      <th>4</th>\n",
       "      <td>AUS</td>\n",
       "      <td>CPI</td>\n",
       "      <td>ENRG</td>\n",
       "      <td>AGRWTH</td>\n",
       "      <td>A</td>\n",
       "      <td>1976</td>\n",
       "      <td>8.833195</td>\n",
       "    </tr>\n",
       "  </tbody>\n",
       "</table>\n",
       "</div>"
      ],
      "text/plain": [
       "  LOCATION INDICATOR SUBJECT MEASURE FREQUENCY  TIME      Value\n",
       "0      AUS       CPI    ENRG  AGRWTH         A  1972   4.910070\n",
       "1      AUS       CPI    ENRG  AGRWTH         A  1973   3.762801\n",
       "2      AUS       CPI    ENRG  AGRWTH         A  1974  13.173540\n",
       "3      AUS       CPI    ENRG  AGRWTH         A  1975  19.422470\n",
       "4      AUS       CPI    ENRG  AGRWTH         A  1976   8.833195"
      ]
     },
     "execution_count": 9,
     "metadata": {},
     "output_type": "execute_result"
    }
   ],
   "source": [
    "df_cpi = df_cpi.drop(columns=['Flag Codes'])\n",
    "df_cpi.head()"
   ]
  },
  {
   "cell_type": "markdown",
   "metadata": {},
   "source": [
    "## Unique Value Analysis"
   ]
  },
  {
   "cell_type": "code",
   "execution_count": 10,
   "metadata": {},
   "outputs": [
    {
     "data": {
      "text/plain": [
       "LOCATION         52\n",
       "INDICATOR         1\n",
       "SUBJECT           4\n",
       "MEASURE           2\n",
       "FREQUENCY         3\n",
       "TIME           1855\n",
       "Value        247327\n",
       "dtype: int64"
      ]
     },
     "execution_count": 10,
     "metadata": {},
     "output_type": "execute_result"
    }
   ],
   "source": [
    "df_cpi.nunique()"
   ]
  },
  {
   "cell_type": "markdown",
   "metadata": {},
   "source": [
    "### Here we see that INDICATOR, SUBJECT, MEASURE consists of only a single value within them, hence we can drp those columns."
   ]
  },
  {
   "cell_type": "code",
   "execution_count": 7,
   "metadata": {},
   "outputs": [
    {
     "data": {
      "text/html": [
       "<div>\n",
       "<style scoped>\n",
       "    .dataframe tbody tr th:only-of-type {\n",
       "        vertical-align: middle;\n",
       "    }\n",
       "\n",
       "    .dataframe tbody tr th {\n",
       "        vertical-align: top;\n",
       "    }\n",
       "\n",
       "    .dataframe thead th {\n",
       "        text-align: right;\n",
       "    }\n",
       "</style>\n",
       "<table border=\"1\" class=\"dataframe\">\n",
       "  <thead>\n",
       "    <tr style=\"text-align: right;\">\n",
       "      <th></th>\n",
       "      <th>LOCATION</th>\n",
       "      <th>FREQUENCY</th>\n",
       "      <th>TIME</th>\n",
       "      <th>Value</th>\n",
       "    </tr>\n",
       "  </thead>\n",
       "  <tbody>\n",
       "    <tr>\n",
       "      <th>0</th>\n",
       "      <td>AUS</td>\n",
       "      <td>A</td>\n",
       "      <td>1972</td>\n",
       "      <td>4.910070</td>\n",
       "    </tr>\n",
       "    <tr>\n",
       "      <th>1</th>\n",
       "      <td>AUS</td>\n",
       "      <td>A</td>\n",
       "      <td>1973</td>\n",
       "      <td>3.762801</td>\n",
       "    </tr>\n",
       "    <tr>\n",
       "      <th>2</th>\n",
       "      <td>AUS</td>\n",
       "      <td>A</td>\n",
       "      <td>1974</td>\n",
       "      <td>13.173540</td>\n",
       "    </tr>\n",
       "    <tr>\n",
       "      <th>3</th>\n",
       "      <td>AUS</td>\n",
       "      <td>A</td>\n",
       "      <td>1975</td>\n",
       "      <td>19.422470</td>\n",
       "    </tr>\n",
       "    <tr>\n",
       "      <th>4</th>\n",
       "      <td>AUS</td>\n",
       "      <td>A</td>\n",
       "      <td>1976</td>\n",
       "      <td>8.833195</td>\n",
       "    </tr>\n",
       "  </tbody>\n",
       "</table>\n",
       "</div>"
      ],
      "text/plain": [
       "  LOCATION FREQUENCY  TIME      Value\n",
       "0      AUS         A  1972   4.910070\n",
       "1      AUS         A  1973   3.762801\n",
       "2      AUS         A  1974  13.173540\n",
       "3      AUS         A  1975  19.422470\n",
       "4      AUS         A  1976   8.833195"
      ]
     },
     "execution_count": 7,
     "metadata": {},
     "output_type": "execute_result"
    }
   ],
   "source": [
    "df_cpi = df_cpi.drop(columns=[\"INDICATOR\",\"MEASURE\"])\n",
    "df_cpi.head()"
   ]
  },
  {
   "cell_type": "code",
   "execution_count": 8,
   "metadata": {},
   "outputs": [
    {
     "data": {
      "text/plain": [
       "(294005, 4)"
      ]
     },
     "execution_count": 8,
     "metadata": {},
     "output_type": "execute_result"
    }
   ],
   "source": [
    "df_cpi.shape"
   ]
  },
  {
   "cell_type": "markdown",
   "metadata": {},
   "source": [
    "## Datatype Reset"
   ]
  },
  {
   "cell_type": "code",
   "execution_count": 9,
   "metadata": {},
   "outputs": [],
   "source": [
    "df_cpi['LOCATION']=df_cpi['LOCATION'].astype('string')\n",
    "df_cpi['TIME']=df_cpi['TIME'].astype('string')"
   ]
  },
  {
   "cell_type": "code",
   "execution_count": 10,
   "metadata": {},
   "outputs": [
    {
     "name": "stdout",
     "output_type": "stream",
     "text": [
      "<class 'pandas.core.frame.DataFrame'>\n",
      "RangeIndex: 294005 entries, 0 to 294004\n",
      "Data columns (total 4 columns):\n",
      " #   Column     Non-Null Count   Dtype  \n",
      "---  ------     --------------   -----  \n",
      " 0   LOCATION   294005 non-null  string \n",
      " 1   FREQUENCY  294005 non-null  object \n",
      " 2   TIME       294005 non-null  string \n",
      " 3   Value      294005 non-null  float64\n",
      "dtypes: float64(1), object(1), string(2)\n",
      "memory usage: 9.0+ MB\n"
     ]
    }
   ],
   "source": [
    "df_cpi.info()"
   ]
  },
  {
   "cell_type": "markdown",
   "metadata": {},
   "source": [
    "# "
   ]
  },
  {
   "cell_type": "code",
   "execution_count": null,
   "metadata": {},
   "outputs": [],
   "source": []
  },
  {
   "cell_type": "markdown",
   "metadata": {},
   "source": [
    "## SUBJECT ANALYSIS"
   ]
  },
  {
   "cell_type": "code",
   "execution_count": 11,
   "metadata": {},
   "outputs": [
    {
     "data": {
      "text/plain": [
       "array(['ENRG', 'FOOD', 'TOT', 'TOT_FOODENRG'], dtype=object)"
      ]
     },
     "execution_count": 11,
     "metadata": {},
     "output_type": "execute_result"
    }
   ],
   "source": [
    "df_cpi['SUBJECT'].unique()"
   ]
  },
  {
   "cell_type": "markdown",
   "metadata": {},
   "source": [
    "## FREQUENCY Analysis"
   ]
  },
  {
   "cell_type": "code",
   "execution_count": 11,
   "metadata": {},
   "outputs": [
    {
     "data": {
      "text/plain": [
       "array(['A', 'Q', 'M'], dtype=object)"
      ]
     },
     "execution_count": 11,
     "metadata": {},
     "output_type": "execute_result"
    }
   ],
   "source": [
    "df_cpi['FREQUENCY'].unique()"
   ]
  },
  {
   "cell_type": "markdown",
   "metadata": {},
   "source": [
    "We need to analyse the FREQUENCY column to see if all countries have data consistent in the annual \"A\" format. We first need to set a range of which we will check the dates for"
   ]
  },
  {
   "cell_type": "code",
   "execution_count": 12,
   "metadata": {},
   "outputs": [
    {
     "name": "stdout",
     "output_type": "stream",
     "text": [
      "Start Year 1914\n",
      "End Year 2022\n"
     ]
    }
   ],
   "source": [
    "start_year = int(min(df_cpi[\"TIME\"]))\n",
    "end_year = int(max(df_cpi.loc[df_cpi[\"FREQUENCY\"] == \"A\"][\"TIME\"]))\n",
    "print(\"Start Year\",start_year)\n",
    "print(\"End Year\",end_year)\n"
   ]
  },
  {
   "cell_type": "markdown",
   "metadata": {},
   "source": [
    "Now we will set the start year to 2001 since we want roughly 15 years worth data."
   ]
  },
  {
   "cell_type": "code",
   "execution_count": 13,
   "metadata": {},
   "outputs": [
    {
     "name": "stdout",
     "output_type": "stream",
     "text": [
      "Missing Values:\n",
      "\n",
      "Location: RUS \tYear: 2022\n",
      "Location: ARG \tYear: 2001\n",
      "Location: ARG \tYear: 2002\n",
      "Location: ARG \tYear: 2003\n",
      "Location: ARG \tYear: 2004\n",
      "Location: ARG \tYear: 2005\n",
      "Location: ARG \tYear: 2006\n",
      "Location: ARG \tYear: 2007\n",
      "Location: ARG \tYear: 2008\n",
      "Location: ARG \tYear: 2009\n",
      "Location: ARG \tYear: 2010\n",
      "Location: ARG \tYear: 2011\n",
      "Location: ARG \tYear: 2012\n",
      "Location: ARG \tYear: 2013\n",
      "Location: ARG \tYear: 2014\n",
      "Location: ARG \tYear: 2015\n",
      "Location: ARG \tYear: 2016\n",
      "Location: ARG \tYear: 2017\n",
      "Location: CRI \tYear: 2022\n",
      "\n",
      "Countries with missing values between 2001 and 2022: 3\n"
     ]
    }
   ],
   "source": [
    "start_year = 2001\n",
    "countries = []\n",
    "print(\"Missing Values:\\n\")\n",
    "for c in df_cpi[\"LOCATION\"].unique():\n",
    "    temp = df_cpi.loc[df_cpi[\"LOCATION\"] == c]\n",
    "    temp = temp[temp[\"FREQUENCY\"] == \"A\"][\"TIME\"]\n",
    "    for i in range(start_year,end_year+1):\n",
    "        if(str(i) not in temp.values):\n",
    "            print(\"Location:\",c,\"\\tYear:\",i)\n",
    "            if c not in countries:\n",
    "                countries.append(c)\n",
    "print(\"\\nCountries with missing values between 2001 and 2022:\",len(countries))"
   ]
  },
  {
   "cell_type": "markdown",
   "metadata": {},
   "source": [
    "## Hence since the country has all the data from "
   ]
  }
 ],
 "metadata": {
  "kernelspec": {
   "display_name": "Python 3 (ipykernel)",
   "language": "python",
   "name": "python3"
  },
  "language_info": {
   "codemirror_mode": {
    "name": "ipython",
    "version": 3
   },
   "file_extension": ".py",
   "mimetype": "text/x-python",
   "name": "python",
   "nbconvert_exporter": "python",
   "pygments_lexer": "ipython3",
   "version": "3.9.16"
  },
  "vscode": {
   "interpreter": {
    "hash": "c8ac7bcc6b2dbb39842d89486c34ab7849f692bd3067ed6f57c4db9cdfb88efc"
   }
  }
 },
 "nbformat": 4,
 "nbformat_minor": 2
}
