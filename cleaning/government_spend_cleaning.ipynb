{
 "cells": [
  {
   "cell_type": "markdown",
   "id": "8978d315",
   "metadata": {},
   "source": [
    "# Data Cleaning"
   ]
  },
  {
   "cell_type": "markdown",
   "id": "02a0bbd0",
   "metadata": {},
   "source": [
    "## Government Spending"
   ]
  },
  {
   "cell_type": "code",
   "execution_count": 1,
   "id": "fe480aa8",
   "metadata": {},
   "outputs": [],
   "source": [
    "import pandas as pd\n",
    "import numpy as np"
   ]
  },
  {
   "cell_type": "code",
   "execution_count": 2,
   "id": "36c2269f",
   "metadata": {},
   "outputs": [
    {
     "name": "stdout",
     "output_type": "stream",
     "text": [
      "(10466, 8)\n"
     ]
    },
    {
     "data": {
      "text/html": [
       "<div>\n",
       "<style scoped>\n",
       "    .dataframe tbody tr th:only-of-type {\n",
       "        vertical-align: middle;\n",
       "    }\n",
       "\n",
       "    .dataframe tbody tr th {\n",
       "        vertical-align: top;\n",
       "    }\n",
       "\n",
       "    .dataframe thead th {\n",
       "        text-align: right;\n",
       "    }\n",
       "</style>\n",
       "<table border=\"1\" class=\"dataframe\">\n",
       "  <thead>\n",
       "    <tr style=\"text-align: right;\">\n",
       "      <th></th>\n",
       "      <th>LOCATION</th>\n",
       "      <th>INDICATOR</th>\n",
       "      <th>SUBJECT</th>\n",
       "      <th>MEASURE</th>\n",
       "      <th>FREQUENCY</th>\n",
       "      <th>TIME</th>\n",
       "      <th>Value</th>\n",
       "      <th>Flag Codes</th>\n",
       "    </tr>\n",
       "  </thead>\n",
       "  <tbody>\n",
       "    <tr>\n",
       "      <th>0</th>\n",
       "      <td>AUS</td>\n",
       "      <td>GGEXP</td>\n",
       "      <td>TOT</td>\n",
       "      <td>THND_USD_CAP</td>\n",
       "      <td>A</td>\n",
       "      <td>2007</td>\n",
       "      <td>13737.93</td>\n",
       "      <td>NaN</td>\n",
       "    </tr>\n",
       "    <tr>\n",
       "      <th>1</th>\n",
       "      <td>AUS</td>\n",
       "      <td>GGEXP</td>\n",
       "      <td>TOT</td>\n",
       "      <td>THND_USD_CAP</td>\n",
       "      <td>A</td>\n",
       "      <td>2008</td>\n",
       "      <td>14835.57</td>\n",
       "      <td>NaN</td>\n",
       "    </tr>\n",
       "    <tr>\n",
       "      <th>2</th>\n",
       "      <td>AUS</td>\n",
       "      <td>GGEXP</td>\n",
       "      <td>TOT</td>\n",
       "      <td>THND_USD_CAP</td>\n",
       "      <td>A</td>\n",
       "      <td>2009</td>\n",
       "      <td>15963.85</td>\n",
       "      <td>NaN</td>\n",
       "    </tr>\n",
       "    <tr>\n",
       "      <th>3</th>\n",
       "      <td>AUS</td>\n",
       "      <td>GGEXP</td>\n",
       "      <td>TOT</td>\n",
       "      <td>THND_USD_CAP</td>\n",
       "      <td>A</td>\n",
       "      <td>2010</td>\n",
       "      <td>15802.56</td>\n",
       "      <td>NaN</td>\n",
       "    </tr>\n",
       "    <tr>\n",
       "      <th>4</th>\n",
       "      <td>AUS</td>\n",
       "      <td>GGEXP</td>\n",
       "      <td>TOT</td>\n",
       "      <td>THND_USD_CAP</td>\n",
       "      <td>A</td>\n",
       "      <td>2011</td>\n",
       "      <td>16535.76</td>\n",
       "      <td>NaN</td>\n",
       "    </tr>\n",
       "  </tbody>\n",
       "</table>\n",
       "</div>"
      ],
      "text/plain": [
       "  LOCATION INDICATOR SUBJECT       MEASURE FREQUENCY  TIME     Value   \n",
       "0      AUS     GGEXP     TOT  THND_USD_CAP         A  2007  13737.93  \\\n",
       "1      AUS     GGEXP     TOT  THND_USD_CAP         A  2008  14835.57   \n",
       "2      AUS     GGEXP     TOT  THND_USD_CAP         A  2009  15963.85   \n",
       "3      AUS     GGEXP     TOT  THND_USD_CAP         A  2010  15802.56   \n",
       "4      AUS     GGEXP     TOT  THND_USD_CAP         A  2011  16535.76   \n",
       "\n",
       "  Flag Codes  \n",
       "0        NaN  \n",
       "1        NaN  \n",
       "2        NaN  \n",
       "3        NaN  \n",
       "4        NaN  "
      ]
     },
     "execution_count": 2,
     "metadata": {},
     "output_type": "execute_result"
    }
   ],
   "source": [
    "spend = pd.read_csv('../data/uncleaned/government_spend.csv')\n",
    "print(spend.shape)\n",
    "spend.head()"
   ]
  },
  {
   "cell_type": "code",
   "execution_count": 3,
   "id": "17198b90",
   "metadata": {},
   "outputs": [
    {
     "data": {
      "text/plain": [
       "array(['A'], dtype=object)"
      ]
     },
     "execution_count": 3,
     "metadata": {},
     "output_type": "execute_result"
    }
   ],
   "source": [
    "spend.FREQUENCY.unique()"
   ]
  },
  {
   "cell_type": "code",
   "execution_count": 4,
   "id": "1a41e3c1",
   "metadata": {},
   "outputs": [
    {
     "data": {
      "text/plain": [
       "array(['THND_USD_CAP', 'PC_GDP'], dtype=object)"
      ]
     },
     "execution_count": 4,
     "metadata": {},
     "output_type": "execute_result"
    }
   ],
   "source": [
    "spend.MEASURE.unique()"
   ]
  },
  {
   "cell_type": "code",
   "execution_count": 5,
   "id": "4a512cb0",
   "metadata": {},
   "outputs": [
    {
     "data": {
      "text/plain": [
       "array(['TOT', 'RECULTREL', 'HOUCOMM', 'PUBORD', 'EDU', 'ENVPROT',\n",
       "       'GRALPUBSER', 'SOCPROT', 'ECOAFF', 'DEF', 'HEALTH'], dtype=object)"
      ]
     },
     "execution_count": 5,
     "metadata": {},
     "output_type": "execute_result"
    }
   ],
   "source": [
    "spend.SUBJECT.unique()"
   ]
  },
  {
   "cell_type": "code",
   "execution_count": 6,
   "id": "323a73a0",
   "metadata": {},
   "outputs": [
    {
     "data": {
      "text/plain": [
       "array(['GGEXP'], dtype=object)"
      ]
     },
     "execution_count": 6,
     "metadata": {},
     "output_type": "execute_result"
    }
   ],
   "source": [
    "spend.INDICATOR.unique()"
   ]
  },
  {
   "attachments": {},
   "cell_type": "markdown",
   "id": "4e0f9a34",
   "metadata": {},
   "source": [
    "This data is for the general government expenditure for all the countries in OECD. The column `Flag Codes` is not needed for our purpose, and since this data is all annual, we can also drop the column `FREQUENCY`. The column `INDICATOR` also has only 1 value, so we drop that too."
   ]
  },
  {
   "cell_type": "code",
   "execution_count": 7,
   "id": "9d07d8ae",
   "metadata": {},
   "outputs": [],
   "source": [
    "spend = spend.drop(['Flag Codes','FREQUENCY','INDICATOR'], axis=1)"
   ]
  },
  {
   "cell_type": "markdown",
   "id": "bb94391a",
   "metadata": {},
   "source": [
    "The dataframe now looks like this:"
   ]
  },
  {
   "cell_type": "code",
   "execution_count": 8,
   "id": "d6328af8",
   "metadata": {},
   "outputs": [
    {
     "data": {
      "text/html": [
       "<div>\n",
       "<style scoped>\n",
       "    .dataframe tbody tr th:only-of-type {\n",
       "        vertical-align: middle;\n",
       "    }\n",
       "\n",
       "    .dataframe tbody tr th {\n",
       "        vertical-align: top;\n",
       "    }\n",
       "\n",
       "    .dataframe thead th {\n",
       "        text-align: right;\n",
       "    }\n",
       "</style>\n",
       "<table border=\"1\" class=\"dataframe\">\n",
       "  <thead>\n",
       "    <tr style=\"text-align: right;\">\n",
       "      <th></th>\n",
       "      <th>LOCATION</th>\n",
       "      <th>SUBJECT</th>\n",
       "      <th>MEASURE</th>\n",
       "      <th>TIME</th>\n",
       "      <th>Value</th>\n",
       "    </tr>\n",
       "  </thead>\n",
       "  <tbody>\n",
       "    <tr>\n",
       "      <th>0</th>\n",
       "      <td>AUS</td>\n",
       "      <td>TOT</td>\n",
       "      <td>THND_USD_CAP</td>\n",
       "      <td>2007</td>\n",
       "      <td>13737.93</td>\n",
       "    </tr>\n",
       "    <tr>\n",
       "      <th>1</th>\n",
       "      <td>AUS</td>\n",
       "      <td>TOT</td>\n",
       "      <td>THND_USD_CAP</td>\n",
       "      <td>2008</td>\n",
       "      <td>14835.57</td>\n",
       "    </tr>\n",
       "    <tr>\n",
       "      <th>2</th>\n",
       "      <td>AUS</td>\n",
       "      <td>TOT</td>\n",
       "      <td>THND_USD_CAP</td>\n",
       "      <td>2009</td>\n",
       "      <td>15963.85</td>\n",
       "    </tr>\n",
       "    <tr>\n",
       "      <th>3</th>\n",
       "      <td>AUS</td>\n",
       "      <td>TOT</td>\n",
       "      <td>THND_USD_CAP</td>\n",
       "      <td>2010</td>\n",
       "      <td>15802.56</td>\n",
       "    </tr>\n",
       "    <tr>\n",
       "      <th>4</th>\n",
       "      <td>AUS</td>\n",
       "      <td>TOT</td>\n",
       "      <td>THND_USD_CAP</td>\n",
       "      <td>2011</td>\n",
       "      <td>16535.76</td>\n",
       "    </tr>\n",
       "  </tbody>\n",
       "</table>\n",
       "</div>"
      ],
      "text/plain": [
       "  LOCATION SUBJECT       MEASURE  TIME     Value\n",
       "0      AUS     TOT  THND_USD_CAP  2007  13737.93\n",
       "1      AUS     TOT  THND_USD_CAP  2008  14835.57\n",
       "2      AUS     TOT  THND_USD_CAP  2009  15963.85\n",
       "3      AUS     TOT  THND_USD_CAP  2010  15802.56\n",
       "4      AUS     TOT  THND_USD_CAP  2011  16535.76"
      ]
     },
     "execution_count": 8,
     "metadata": {},
     "output_type": "execute_result"
    }
   ],
   "source": [
    "spend.head()"
   ]
  },
  {
   "cell_type": "code",
   "execution_count": 9,
   "id": "85b29fad",
   "metadata": {},
   "outputs": [
    {
     "data": {
      "text/plain": [
       "array(['THND_USD_CAP', 'PC_GDP'], dtype=object)"
      ]
     },
     "execution_count": 9,
     "metadata": {},
     "output_type": "execute_result"
    }
   ],
   "source": [
    "spend.MEASURE.unique()"
   ]
  },
  {
   "cell_type": "code",
   "execution_count": 10,
   "id": "07ec800f",
   "metadata": {},
   "outputs": [
    {
     "data": {
      "text/plain": [
       "array(['TOT', 'RECULTREL', 'HOUCOMM', 'PUBORD', 'EDU', 'ENVPROT',\n",
       "       'GRALPUBSER', 'SOCPROT', 'ECOAFF', 'DEF', 'HEALTH'], dtype=object)"
      ]
     },
     "execution_count": 10,
     "metadata": {},
     "output_type": "execute_result"
    }
   ],
   "source": [
    "spend.SUBJECT.unique()"
   ]
  },
  {
   "cell_type": "markdown",
   "id": "0d06e530",
   "metadata": {},
   "source": [
    "We are only concerned with `THND_USD_CAP`, so we can drop all rows with `MEASURE == PC_GDP`.\n",
    "We can also see that there are a lot of different elements under `SUBJECT`. For our case, we are only concerned with `TOT`."
   ]
  },
  {
   "cell_type": "code",
   "execution_count": 11,
   "id": "b6a2ab28",
   "metadata": {},
   "outputs": [],
   "source": [
    "spend = spend[(spend['MEASURE']=='THND_USD_CAP') & (spend['SUBJECT']=='TOT')]"
   ]
  },
  {
   "cell_type": "markdown",
   "id": "3859a243",
   "metadata": {},
   "source": [
    "Now, we can remove the columns `SUBJECT` and `MEASURE` from the dataframe, since we have only one value in those column."
   ]
  },
  {
   "cell_type": "code",
   "execution_count": 12,
   "id": "af45ba6b",
   "metadata": {},
   "outputs": [],
   "source": [
    "spend = spend.drop(['SUBJECT','MEASURE'], axis=1)"
   ]
  },
  {
   "attachments": {},
   "cell_type": "markdown",
   "id": "99eb333b",
   "metadata": {},
   "source": [
    "Checking the unique values in the columns:"
   ]
  },
  {
   "cell_type": "code",
   "execution_count": 13,
   "id": "99c1759c",
   "metadata": {},
   "outputs": [
    {
     "data": {
      "text/plain": [
       "LOCATION     45\n",
       "TIME         15\n",
       "Value       654\n",
       "dtype: int64"
      ]
     },
     "execution_count": 13,
     "metadata": {},
     "output_type": "execute_result"
    }
   ],
   "source": [
    "spend.nunique()"
   ]
  },
  {
   "attachments": {},
   "cell_type": "markdown",
   "id": "11314f9f",
   "metadata": {},
   "source": [
    "And now we check the shape:"
   ]
  },
  {
   "cell_type": "code",
   "execution_count": 14,
   "id": "9bf9736c",
   "metadata": {},
   "outputs": [
    {
     "data": {
      "text/plain": [
       "(654, 3)"
      ]
     },
     "execution_count": 14,
     "metadata": {},
     "output_type": "execute_result"
    }
   ],
   "source": [
    "spend.shape"
   ]
  },
  {
   "attachments": {},
   "cell_type": "markdown",
   "id": "6333e2a7",
   "metadata": {},
   "source": [
    "We check the datatypes of the columns below:"
   ]
  },
  {
   "cell_type": "code",
   "execution_count": 15,
   "id": "75259356",
   "metadata": {},
   "outputs": [
    {
     "data": {
      "text/plain": [
       "LOCATION     object\n",
       "TIME          int64\n",
       "Value       float64\n",
       "dtype: object"
      ]
     },
     "execution_count": 15,
     "metadata": {},
     "output_type": "execute_result"
    }
   ],
   "source": [
    "spend.dtypes"
   ]
  },
  {
   "attachments": {},
   "cell_type": "markdown",
   "id": "17116b85",
   "metadata": {},
   "source": [
    "We need `LOCATION` and `TIME` to be strings, so we convert them here. "
   ]
  },
  {
   "cell_type": "code",
   "execution_count": 16,
   "id": "252c1f96",
   "metadata": {},
   "outputs": [],
   "source": [
    "spend['LOCATION']= spend['LOCATION'].astype('string')\n",
    "spend['TIME']= spend['TIME'].astype('string')"
   ]
  },
  {
   "attachments": {},
   "cell_type": "markdown",
   "id": "cd5448a9",
   "metadata": {},
   "source": [
    "Checking the datatypes again:"
   ]
  },
  {
   "cell_type": "code",
   "execution_count": 17,
   "id": "7cdbdf0e",
   "metadata": {},
   "outputs": [
    {
     "data": {
      "text/plain": [
       "LOCATION    string[python]\n",
       "TIME        string[python]\n",
       "Value              float64\n",
       "dtype: object"
      ]
     },
     "execution_count": 17,
     "metadata": {},
     "output_type": "execute_result"
    }
   ],
   "source": [
    "spend.dtypes"
   ]
  },
  {
   "attachments": {},
   "cell_type": "markdown",
   "id": "21fd5d5e",
   "metadata": {},
   "source": [
    "We reset the index because we have removed a number of rows from the dataframe."
   ]
  },
  {
   "cell_type": "code",
   "execution_count": 18,
   "id": "57f0c8a2",
   "metadata": {},
   "outputs": [],
   "source": [
    "spend.reset_index(drop=True, inplace=True)"
   ]
  },
  {
   "attachments": {},
   "cell_type": "markdown",
   "id": "270cc155",
   "metadata": {},
   "source": [
    "We check if there are any null values in the dataframe:"
   ]
  },
  {
   "cell_type": "code",
   "execution_count": 19,
   "id": "71df735a",
   "metadata": {},
   "outputs": [
    {
     "data": {
      "text/plain": [
       "LOCATION    0\n",
       "TIME        0\n",
       "Value       0\n",
       "dtype: int64"
      ]
     },
     "execution_count": 19,
     "metadata": {},
     "output_type": "execute_result"
    }
   ],
   "source": [
    "spend.isna().sum()"
   ]
  },
  {
   "attachments": {},
   "cell_type": "markdown",
   "id": "c2d5403a",
   "metadata": {},
   "source": [
    "And the dataset now looks like this:"
   ]
  },
  {
   "cell_type": "code",
   "execution_count": 20,
   "id": "0c813fbd",
   "metadata": {},
   "outputs": [
    {
     "data": {
      "text/html": [
       "<div>\n",
       "<style scoped>\n",
       "    .dataframe tbody tr th:only-of-type {\n",
       "        vertical-align: middle;\n",
       "    }\n",
       "\n",
       "    .dataframe tbody tr th {\n",
       "        vertical-align: top;\n",
       "    }\n",
       "\n",
       "    .dataframe thead th {\n",
       "        text-align: right;\n",
       "    }\n",
       "</style>\n",
       "<table border=\"1\" class=\"dataframe\">\n",
       "  <thead>\n",
       "    <tr style=\"text-align: right;\">\n",
       "      <th></th>\n",
       "      <th>LOCATION</th>\n",
       "      <th>TIME</th>\n",
       "      <th>Value</th>\n",
       "    </tr>\n",
       "  </thead>\n",
       "  <tbody>\n",
       "    <tr>\n",
       "      <th>0</th>\n",
       "      <td>AUS</td>\n",
       "      <td>2007</td>\n",
       "      <td>13737.93</td>\n",
       "    </tr>\n",
       "    <tr>\n",
       "      <th>1</th>\n",
       "      <td>AUS</td>\n",
       "      <td>2008</td>\n",
       "      <td>14835.57</td>\n",
       "    </tr>\n",
       "    <tr>\n",
       "      <th>2</th>\n",
       "      <td>AUS</td>\n",
       "      <td>2009</td>\n",
       "      <td>15963.85</td>\n",
       "    </tr>\n",
       "    <tr>\n",
       "      <th>3</th>\n",
       "      <td>AUS</td>\n",
       "      <td>2010</td>\n",
       "      <td>15802.56</td>\n",
       "    </tr>\n",
       "    <tr>\n",
       "      <th>4</th>\n",
       "      <td>AUS</td>\n",
       "      <td>2011</td>\n",
       "      <td>16535.76</td>\n",
       "    </tr>\n",
       "  </tbody>\n",
       "</table>\n",
       "</div>"
      ],
      "text/plain": [
       "  LOCATION  TIME     Value\n",
       "0      AUS  2007  13737.93\n",
       "1      AUS  2008  14835.57\n",
       "2      AUS  2009  15963.85\n",
       "3      AUS  2010  15802.56\n",
       "4      AUS  2011  16535.76"
      ]
     },
     "execution_count": 20,
     "metadata": {},
     "output_type": "execute_result"
    }
   ],
   "source": [
    "spend.head()"
   ]
  },
  {
   "attachments": {},
   "cell_type": "markdown",
   "id": "c118348b",
   "metadata": {},
   "source": [
    "We now need to check if we are missing any data. For all unique values of LOCATION in our dataframe, we perform an analysis to find the first year that their data is available from, the last year that the data is available for, and any missing years between this range."
   ]
  },
  {
   "cell_type": "code",
   "execution_count": 21,
   "id": "703edb01",
   "metadata": {
    "scrolled": false
   },
   "outputs": [
    {
     "name": "stdout",
     "output_type": "stream",
     "text": [
      "Country =  AUS Minimum Year =  2007 Maximum Year =  2021 Missing Years =  Series([], dtype: string)\n",
      "Country =  AUT Minimum Year =  2007 Maximum Year =  2021 Missing Years =  Series([], dtype: string)\n",
      "Country =  BEL Minimum Year =  2007 Maximum Year =  2021 Missing Years =  Series([], dtype: string)\n",
      "Country =  CAN Minimum Year =  2007 Maximum Year =  2021 Missing Years =  Series([], dtype: string)\n",
      "Country =  CZE Minimum Year =  2007 Maximum Year =  2021 Missing Years =  Series([], dtype: string)\n",
      "Country =  DNK Minimum Year =  2007 Maximum Year =  2021 Missing Years =  Series([], dtype: string)\n",
      "Country =  FIN Minimum Year =  2007 Maximum Year =  2021 Missing Years =  Series([], dtype: string)\n",
      "Country =  FRA Minimum Year =  2007 Maximum Year =  2021 Missing Years =  Series([], dtype: string)\n",
      "Country =  DEU Minimum Year =  2007 Maximum Year =  2021 Missing Years =  Series([], dtype: string)\n",
      "Country =  GRC Minimum Year =  2007 Maximum Year =  2021 Missing Years =  Series([], dtype: string)\n",
      "Country =  HUN Minimum Year =  2007 Maximum Year =  2021 Missing Years =  Series([], dtype: string)\n",
      "Country =  ISL Minimum Year =  2007 Maximum Year =  2021 Missing Years =  Series([], dtype: string)\n",
      "Country =  IRL Minimum Year =  2007 Maximum Year =  2021 Missing Years =  Series([], dtype: string)\n",
      "Country =  ITA Minimum Year =  2007 Maximum Year =  2021 Missing Years =  Series([], dtype: string)\n",
      "Country =  JPN Minimum Year =  2007 Maximum Year =  2020 Missing Years =  Series([], dtype: string)\n",
      "Country =  KOR Minimum Year =  2007 Maximum Year =  2021 Missing Years =  Series([], dtype: string)\n",
      "Country =  LUX Minimum Year =  2007 Maximum Year =  2021 Missing Years =  Series([], dtype: string)\n",
      "Country =  MEX Minimum Year =  2007 Maximum Year =  2020 Missing Years =  Series([], dtype: string)\n",
      "Country =  NLD Minimum Year =  2007 Maximum Year =  2021 Missing Years =  Series([], dtype: string)\n",
      "Country =  NZL Minimum Year =  2007 Maximum Year =  2020 Missing Years =  Series([], dtype: string)\n",
      "Country =  NOR Minimum Year =  2007 Maximum Year =  2021 Missing Years =  Series([], dtype: string)\n",
      "Country =  POL Minimum Year =  2007 Maximum Year =  2021 Missing Years =  Series([], dtype: string)\n",
      "Country =  PRT Minimum Year =  2007 Maximum Year =  2021 Missing Years =  Series([], dtype: string)\n",
      "Country =  SVK Minimum Year =  2007 Maximum Year =  2021 Missing Years =  Series([], dtype: string)\n",
      "Country =  ESP Minimum Year =  2007 Maximum Year =  2021 Missing Years =  Series([], dtype: string)\n",
      "Country =  SWE Minimum Year =  2007 Maximum Year =  2021 Missing Years =  Series([], dtype: string)\n",
      "Country =  CHE Minimum Year =  2007 Maximum Year =  2021 Missing Years =  Series([], dtype: string)\n",
      "Country =  TUR Minimum Year =  2009 Maximum Year =  2020 Missing Years =  Series([], dtype: string)\n",
      "Country =  GBR Minimum Year =  2007 Maximum Year =  2021 Missing Years =  Series([], dtype: string)\n",
      "Country =  USA Minimum Year =  2007 Maximum Year =  2021 Missing Years =  Series([], dtype: string)\n",
      "Country =  BRA Minimum Year =  2007 Maximum Year =  2019 Missing Years =  Series([], dtype: string)\n",
      "Country =  CHL Minimum Year =  2007 Maximum Year =  2020 Missing Years =  Series([], dtype: string)\n",
      "Country =  EST Minimum Year =  2007 Maximum Year =  2021 Missing Years =  Series([], dtype: string)\n",
      "Country =  IDN Minimum Year =  2010 Maximum Year =  2019 Missing Years =  Series([], dtype: string)\n",
      "Country =  ISR Minimum Year =  2007 Maximum Year =  2021 Missing Years =  Series([], dtype: string)\n",
      "Country =  RUS Minimum Year =  2011 Maximum Year =  2019 Missing Years =  Series([], dtype: string)\n",
      "Country =  SVN Minimum Year =  2007 Maximum Year =  2021 Missing Years =  Series([], dtype: string)\n",
      "Country =  OECD Minimum Year =  2007 Maximum Year =  2021 Missing Years =  Series([], dtype: string)\n",
      "Country =  COL Minimum Year =  2007 Maximum Year =  2020 Missing Years =  Series([], dtype: string)\n",
      "Country =  LVA Minimum Year =  2007 Maximum Year =  2021 Missing Years =  Series([], dtype: string)\n",
      "Country =  OAVG Minimum Year =  2007 Maximum Year =  2021 Missing Years =  Series([], dtype: string)\n",
      "Country =  LTU Minimum Year =  2007 Maximum Year =  2021 Missing Years =  Series([], dtype: string)\n",
      "Country =  CRI Minimum Year =  2007 Maximum Year =  2021 Missing Years =  Series([], dtype: string)\n",
      "Country =  ROU Minimum Year =  2007 Maximum Year =  2021 Missing Years =  Series([], dtype: string)\n",
      "Country =  OEU Minimum Year =  2007 Maximum Year =  2021 Missing Years =  Series([], dtype: string)\n",
      "Highest Min =  2011  Country =  RUS\n",
      "Lowest Max =  2019  Country =  BRA\n"
     ]
    }
   ],
   "source": [
    "highestmin = 1\n",
    "highestmincountry = ''\n",
    "lowestmax = 9999\n",
    "lowestmaxcountry = ''\n",
    "\n",
    "for country in spend.LOCATION.unique():\n",
    "    tempdf = spend[spend['LOCATION']==country]\n",
    "    minyear = int(tempdf.TIME.min())\n",
    "    if(highestmin<minyear):\n",
    "        highestmin=minyear\n",
    "        highestmincountry = country\n",
    "        \n",
    "    maxyear = int(tempdf.TIME.max())\n",
    "    if(lowestmax>maxyear):\n",
    "        lowestmax=maxyear\n",
    "        lowestmaxcountry=country\n",
    "   \n",
    "    missingyear = pd.Series([], dtype='string')\n",
    "    for i in range(minyear,maxyear):\n",
    "        if((tempdf['TIME']==str(i)).any() == False):\n",
    "            tempseries = pd.Series([str(i)])\n",
    "            missingyear = pd.concat([missingyear,tempseries])\n",
    "            missingyear.reset_index(inplace=True, drop = True)\n",
    "    \n",
    "    print('Country = ', country, 'Minimum Year = ',minyear, 'Maximum Year = ', maxyear, 'Missing Years = ', missingyear)\n",
    "    \n",
    "print('Highest Min = ', highestmin, ' Country = ', highestmincountry)\n",
    "print('Lowest Max = ', lowestmax, ' Country = ', lowestmaxcountry)"
   ]
  },
  {
   "attachments": {},
   "cell_type": "markdown",
   "id": "7b9ac198",
   "metadata": {},
   "source": [
    "Finally, we export the cleaned dataset into a new csv file that is placed in the `data/temp` directory."
   ]
  },
  {
   "cell_type": "code",
   "execution_count": 22,
   "id": "fdd03e0e",
   "metadata": {},
   "outputs": [],
   "source": [
    "from pathlib import Path \n",
    "filepath = Path('../data/cleaned/government_spend_cleaned.csv')\n",
    "spend.to_csv(filepath, mode='wb', index=False)"
   ]
  },
  {
   "cell_type": "code",
   "execution_count": null,
   "id": "231b9219",
   "metadata": {},
   "outputs": [],
   "source": []
  }
 ],
 "metadata": {
  "kernelspec": {
   "display_name": "Python 3 (ipykernel)",
   "language": "python",
   "name": "python3"
  },
  "language_info": {
   "codemirror_mode": {
    "name": "ipython",
    "version": 3
   },
   "file_extension": ".py",
   "mimetype": "text/x-python",
   "name": "python",
   "nbconvert_exporter": "python",
   "pygments_lexer": "ipython3",
   "version": "3.9.16"
  }
 },
 "nbformat": 4,
 "nbformat_minor": 5
}
