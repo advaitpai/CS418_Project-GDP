{
 "cells": [
  {
   "cell_type": "code",
   "execution_count": 18,
   "id": "05a129f0",
   "metadata": {},
   "outputs": [
    {
     "data": {
      "text/html": [
       "<div>\n",
       "<style scoped>\n",
       "    .dataframe tbody tr th:only-of-type {\n",
       "        vertical-align: middle;\n",
       "    }\n",
       "\n",
       "    .dataframe tbody tr th {\n",
       "        vertical-align: top;\n",
       "    }\n",
       "\n",
       "    .dataframe thead th {\n",
       "        text-align: right;\n",
       "    }\n",
       "</style>\n",
       "<table border=\"1\" class=\"dataframe\">\n",
       "  <thead>\n",
       "    <tr style=\"text-align: right;\">\n",
       "      <th></th>\n",
       "      <th>LOCATION</th>\n",
       "      <th>INDICATOR</th>\n",
       "      <th>SUBJECT</th>\n",
       "      <th>MEASURE</th>\n",
       "      <th>FREQUENCY</th>\n",
       "      <th>TIME</th>\n",
       "      <th>Value</th>\n",
       "      <th>Flag Codes</th>\n",
       "    </tr>\n",
       "  </thead>\n",
       "  <tbody>\n",
       "    <tr>\n",
       "      <th>0</th>\n",
       "      <td>AUS</td>\n",
       "      <td>TRADEGOODSERV</td>\n",
       "      <td>EXP</td>\n",
       "      <td>PC_GDP</td>\n",
       "      <td>A</td>\n",
       "      <td>1970</td>\n",
       "      <td>12.639948</td>\n",
       "      <td>NaN</td>\n",
       "    </tr>\n",
       "    <tr>\n",
       "      <th>1</th>\n",
       "      <td>AUS</td>\n",
       "      <td>TRADEGOODSERV</td>\n",
       "      <td>EXP</td>\n",
       "      <td>PC_GDP</td>\n",
       "      <td>A</td>\n",
       "      <td>1971</td>\n",
       "      <td>12.804166</td>\n",
       "      <td>NaN</td>\n",
       "    </tr>\n",
       "    <tr>\n",
       "      <th>2</th>\n",
       "      <td>AUS</td>\n",
       "      <td>TRADEGOODSERV</td>\n",
       "      <td>EXP</td>\n",
       "      <td>PC_GDP</td>\n",
       "      <td>A</td>\n",
       "      <td>1972</td>\n",
       "      <td>14.130588</td>\n",
       "      <td>NaN</td>\n",
       "    </tr>\n",
       "    <tr>\n",
       "      <th>3</th>\n",
       "      <td>AUS</td>\n",
       "      <td>TRADEGOODSERV</td>\n",
       "      <td>EXP</td>\n",
       "      <td>PC_GDP</td>\n",
       "      <td>A</td>\n",
       "      <td>1973</td>\n",
       "      <td>13.129121</td>\n",
       "      <td>NaN</td>\n",
       "    </tr>\n",
       "    <tr>\n",
       "      <th>4</th>\n",
       "      <td>AUS</td>\n",
       "      <td>TRADEGOODSERV</td>\n",
       "      <td>EXP</td>\n",
       "      <td>PC_GDP</td>\n",
       "      <td>A</td>\n",
       "      <td>1974</td>\n",
       "      <td>14.258448</td>\n",
       "      <td>NaN</td>\n",
       "    </tr>\n",
       "  </tbody>\n",
       "</table>\n",
       "</div>"
      ],
      "text/plain": [
       "  LOCATION      INDICATOR SUBJECT MEASURE FREQUENCY  TIME      Value  \\\n",
       "0      AUS  TRADEGOODSERV     EXP  PC_GDP         A  1970  12.639948   \n",
       "1      AUS  TRADEGOODSERV     EXP  PC_GDP         A  1971  12.804166   \n",
       "2      AUS  TRADEGOODSERV     EXP  PC_GDP         A  1972  14.130588   \n",
       "3      AUS  TRADEGOODSERV     EXP  PC_GDP         A  1973  13.129121   \n",
       "4      AUS  TRADEGOODSERV     EXP  PC_GDP         A  1974  14.258448   \n",
       "\n",
       "  Flag Codes  \n",
       "0        NaN  \n",
       "1        NaN  \n",
       "2        NaN  \n",
       "3        NaN  \n",
       "4        NaN  "
      ]
     },
     "execution_count": 18,
     "metadata": {},
     "output_type": "execute_result"
    }
   ],
   "source": [
    "import pandas as pd\n",
    "trade_in_gs_df = pd.read_csv('../data/uncleaned/trade_in_gs.csv')\n",
    "trade_in_gs_df.head()"
   ]
  },
  {
   "attachments": {},
   "cell_type": "markdown",
   "id": "667f4c4b",
   "metadata": {},
   "source": [
    "Checking the count of values in each column"
   ]
  },
  {
   "cell_type": "code",
   "execution_count": 4,
   "id": "281c9286",
   "metadata": {},
   "outputs": [
    {
     "name": "stdout",
     "output_type": "stream",
     "text": [
      "Number of rows 16103\n",
      "Number of unique values in each column\n",
      "LOCATION         68\n",
      "INDICATOR         1\n",
      "SUBJECT           3\n",
      "MEASURE           3\n",
      "FREQUENCY         1\n",
      "TIME             73\n",
      "Value         16100\n",
      "Flag Codes        4\n",
      "dtype: int64\n",
      "Unique value of LOCATION column ['AUS' 'AUT' 'BEL' 'CAN' 'CZE' 'DNK' 'FIN' 'FRA' 'DEU' 'GRC' 'HUN' 'ISL'\n",
      " 'IRL' 'ITA' 'JPN' 'KOR' 'LUX' 'MEX' 'NLD' 'NZL' 'NOR' 'POL' 'PRT' 'SVK'\n",
      " 'ESP' 'SWE' 'CHE' 'TUR' 'GBR' 'USA' 'CHL' 'CHN' 'EST' 'IND' 'IDN' 'ISR'\n",
      " 'RUS' 'SVN' 'ZAF' 'EA' 'EU' 'BRA' 'ARG' 'COL' 'LVA' 'LTU' 'OECD' 'OECDE'\n",
      " 'EA19' 'CRI' 'BGR' 'HRV' 'CYP' 'MLT' 'ROU' 'OAVG' 'MKD' 'HKG' 'MDG' 'MAR'\n",
      " 'SGP' 'EU27_2020' 'SAU' 'SRB' 'ALB' 'GEO' 'CMR' 'SEN']\n",
      "Unique value of INDICATOR column ['TRADEGOODSERV']\n",
      "Unique value of SUBJECT column ['EXP' 'IMP' 'NTRADE']\n",
      "Unique value of MEASURE column ['PC_GDP' 'AGRWTH' 'MLN_USD']\n",
      "Unique value of FREQUENCY column ['A']\n",
      "Unique value of TIME column [1970 1971 1972 1973 1974 1975 1976 1977 1978 1979 1980 1981 1982 1983\n",
      " 1984 1985 1986 1987 1988 1989 1990 1991 1992 1993 1994 1995 1996 1997\n",
      " 1998 1999 2000 2001 2002 2003 2004 2005 2006 2007 2008 2009 2010 2011\n",
      " 2012 2013 2014 2015 2016 2017 2018 2019 2020 2021 2022 1959 1960 1961\n",
      " 1962 1963 1964 1965 1966 1967 1968 1969 1950 1951 1952 1953 1954 1955\n",
      " 1956 1957 1958]\n",
      "Unique value of Value column [   12.63994848    12.80416629    14.1305875  ... -3640.794\n",
      " -3503.946      -4891.864     ]\n",
      "Unique value of Flag Codes column [nan 'E' 'B' 'P' 'D']\n"
     ]
    }
   ],
   "source": [
    "print('Number of rows',trade_in_gs_df.shape[0])\n",
    "print('Number of unique values in each column')\n",
    "print(trade_in_gs_df.nunique())\n",
    "print('Unique value of LOCATION column',trade_in_gs_df['LOCATION'].unique())\n",
    "print('Unique value of INDICATOR column',trade_in_gs_df['INDICATOR'].unique())\n",
    "print('Unique value of SUBJECT column',trade_in_gs_df['SUBJECT'].unique())\n",
    "print('Unique value of MEASURE column',trade_in_gs_df['MEASURE'].unique())\n",
    "print('Unique value of FREQUENCY column',trade_in_gs_df['FREQUENCY'].unique())\n",
    "print('Unique value of TIME column',trade_in_gs_df['TIME'].unique())\n",
    "print('Unique value of Value column',trade_in_gs_df['Value'].unique())\n",
    "print('Unique value of Flag Codes column',trade_in_gs_df['Flag Codes'].unique())"
   ]
  },
  {
   "attachments": {},
   "cell_type": "markdown",
   "id": "41c02ff5",
   "metadata": {},
   "source": [
    "### Dropping columns with single values and rows with irrelevant values in specific columns\n",
    "Dropping INDICATOR column  \n",
    "Dropping Flag Codes column  \n",
    "Dropping FREQUENCY column  \n",
    "Keeping MLN_USD in MEASURE column  \n"
   ]
  },
  {
   "cell_type": "code",
   "execution_count": 5,
   "id": "c05fb049",
   "metadata": {},
   "outputs": [
    {
     "name": "stdout",
     "output_type": "stream",
     "text": [
      "Unique value of INDICATOR column ['TRADEGOODSERV']\n"
     ]
    }
   ],
   "source": [
    "print('Unique value of INDICATOR column',trade_in_gs_df['INDICATOR'].unique())\n",
    "# Unique value of INDICATOR column ['TRADEGOODSERV']\n",
    "# Hence dropping INDICATOR\n",
    "trade_in_gs_df = trade_in_gs_df.drop('INDICATOR',axis=1) "
   ]
  },
  {
   "cell_type": "code",
   "execution_count": 6,
   "id": "abdd9061",
   "metadata": {
    "scrolled": false
   },
   "outputs": [
    {
     "name": "stdout",
     "output_type": "stream",
     "text": [
      "Unique value of Flag Codes column [nan 'E' 'B' 'P' 'D']\n"
     ]
    }
   ],
   "source": [
    "print('Unique value of Flag Codes column',trade_in_gs_df['Flag Codes'].unique())\n",
    "# Unique value of Flag Codes column [nan 'E' 'B' 'P' 'D']\n",
    "# Hence dropping Flag Codes\n",
    "trade_in_gs_df = trade_in_gs_df.drop('Flag Codes',axis=1) "
   ]
  },
  {
   "cell_type": "code",
   "execution_count": 7,
   "id": "495dd9f3",
   "metadata": {},
   "outputs": [],
   "source": [
    "trade_in_gs_df.drop('FREQUENCY',axis=1, inplace = True)"
   ]
  },
  {
   "cell_type": "code",
   "execution_count": 8,
   "id": "48fe5078",
   "metadata": {},
   "outputs": [],
   "source": [
    "# trade_in_gs_df.drop('FREQUENCY',axis=1, inplace = True)\n",
    "# PC_GDP' 'AGRWTH' 'MLN_USD'\n",
    "trade_in_gs_df = trade_in_gs_df[trade_in_gs_df.MEASURE == 'MLN_USD'] "
   ]
  },
  {
   "attachments": {},
   "cell_type": "markdown",
   "id": "715869f4",
   "metadata": {},
   "source": [
    "Splitting SUBJECT column to EXP, IMP, NTRADE dataframes  \n",
    "Then renaming the columns and merging it to make EXP, IMP, NTRADE as 3 columns "
   ]
  },
  {
   "cell_type": "code",
   "execution_count": 10,
   "id": "0b0484c2",
   "metadata": {},
   "outputs": [
    {
     "name": "stdout",
     "output_type": "stream",
     "text": [
      "EXP 2641\n",
      "IMP 2641\n",
      "NTRADE 2641\n",
      "     LOCATION SUBJECT  MEASURE  TIME      Value\n",
      "7546      AUS     EXP  MLN_USD  1959  12041.643\n",
      "7547      AUS     EXP  MLN_USD  1960  12642.489\n",
      "7548      AUS     EXP  MLN_USD  1961  14354.739\n",
      "7549      AUS     EXP  MLN_USD  1962  14034.969\n",
      "7550      AUS     EXP  MLN_USD  1963  16349.677\n"
     ]
    }
   ],
   "source": [
    "print('EXP',trade_in_gs_df[trade_in_gs_df.SUBJECT == 'EXP'].shape[0])\n",
    "print('IMP',trade_in_gs_df[trade_in_gs_df.SUBJECT == 'IMP'].shape[0])\n",
    "print('NTRADE',trade_in_gs_df[trade_in_gs_df.SUBJECT == 'NTRADE'].shape[0])\n",
    "trade_in_gs_imp_df = trade_in_gs_df[trade_in_gs_df.SUBJECT == 'EXP']\n",
    "trade_in_gs_exp_df = trade_in_gs_df[trade_in_gs_df.SUBJECT == 'IMP']\n",
    "trade_in_gs_ntr_df = trade_in_gs_df[trade_in_gs_df.SUBJECT == 'NTRADE']\n",
    "print(trade_in_gs_imp_df.head())\n",
    "# print('trade_in_gs_exp_df',trade_in_gs_exp_df.head())\n",
    "# print('trade_in_gs_ntr_df',trade_in_gs_ntr_df.head())"
   ]
  },
  {
   "cell_type": "code",
   "execution_count": 12,
   "id": "9d1c6ca5",
   "metadata": {},
   "outputs": [
    {
     "data": {
      "text/plain": [
       "0"
      ]
     },
     "execution_count": 12,
     "metadata": {},
     "output_type": "execute_result"
    }
   ],
   "source": [
    "# creating 3 columns with export, import and net trade values\n",
    "trade_in_gs_imp_df = trade_in_gs_imp_df.rename(columns={'Value': 'IMPVAL'})\n",
    "trade_in_gs_exp_df = trade_in_gs_exp_df.rename(columns={'Value': 'EXPVAL'})\n",
    "trade_in_gs_ntr_df = trade_in_gs_ntr_df.rename(columns={'Value': 'NTRVAL'})\n",
    "\n",
    "# merging the three dataframes to make one single df with the three columns as features\n",
    "final_df = pd.merge(trade_in_gs_imp_df, trade_in_gs_exp_df,how='outer',on=['LOCATION','TIME'])\n",
    "final_df = pd.merge(final_df,trade_in_gs_ntr_df,how='outer',on=['LOCATION','TIME'])\n",
    "# trade_in_gs_imp_df.head()\n",
    "# trade_in_gs_exp_df.head()\n",
    "# trade_in_gs_ntr_df.head()\n",
    "# final_df.head()\n",
    "final_df.isna().sum().sum()"
   ]
  },
  {
   "cell_type": "code",
   "execution_count": 13,
   "id": "2823531f",
   "metadata": {},
   "outputs": [
    {
     "name": "stderr",
     "output_type": "stream",
     "text": [
      "C:\\Users\\unair2\\AppData\\Local\\Temp\\ipykernel_22080\\3074799710.py:22: FutureWarning: The default dtype for empty Series will be 'object' instead of 'float64' in a future version. Specify a dtype explicitly to silence this warning.\n",
      "  missingyear = pd.Series(missingyear)\n"
     ]
    },
    {
     "name": "stdout",
     "output_type": "stream",
     "text": [
      "Country =  AUS Minimum Year =  1959 Maximum Year =  2021 Missing Years =  Series([], dtype: float64)\n",
      "Country =  AUT Minimum Year =  1970 Maximum Year =  2022 Missing Years =  Series([], dtype: float64)\n",
      "Country =  BEL Minimum Year =  1970 Maximum Year =  2022 Missing Years =  Series([], dtype: float64)\n",
      "Country =  CAN Minimum Year =  1961 Maximum Year =  2022 Missing Years =  Series([], dtype: float64)\n",
      "Country =  CZE Minimum Year =  1990 Maximum Year =  2022 Missing Years =  Series([], dtype: float64)\n",
      "Country =  DNK Minimum Year =  1967 Maximum Year =  2022 Missing Years =  Series([], dtype: float64)\n",
      "Country =  FIN Minimum Year =  1970 Maximum Year =  2022 Missing Years =  Series([], dtype: float64)\n",
      "Country =  FRA Minimum Year =  1950 Maximum Year =  2022 Missing Years =  Series([], dtype: float64)\n",
      "Country =  DEU Minimum Year =  1970 Maximum Year =  2022 Missing Years =  Series([], dtype: float64)\n",
      "Country =  GRC Minimum Year =  1960 Maximum Year =  2022 Missing Years =  Series([], dtype: float64)\n",
      "Country =  HUN Minimum Year =  1991 Maximum Year =  2022 Missing Years =  Series([], dtype: float64)\n",
      "Country =  ISL Minimum Year =  1970 Maximum Year =  2021 Missing Years =  Series([], dtype: float64)\n",
      "Country =  IRL Minimum Year =  1970 Maximum Year =  2022 Missing Years =  Series([], dtype: float64)\n",
      "Country =  ITA Minimum Year =  1970 Maximum Year =  2022 Missing Years =  Series([], dtype: float64)\n",
      "Country =  JPN Minimum Year =  1970 Maximum Year =  2021 Missing Years =  Series([], dtype: float64)\n",
      "Country =  KOR Minimum Year =  1953 Maximum Year =  2021 Missing Years =  Series([], dtype: float64)\n",
      "Country =  LUX Minimum Year =  1970 Maximum Year =  2022 Missing Years =  Series([], dtype: float64)\n",
      "Country =  MEX Minimum Year =  1970 Maximum Year =  2021 Missing Years =  Series([], dtype: float64)\n",
      "Country =  NLD Minimum Year =  1969 Maximum Year =  2022 Missing Years =  Series([], dtype: float64)\n",
      "Country =  NZL Minimum Year =  1970 Maximum Year =  2021 Missing Years =  Series([], dtype: float64)\n",
      "Country =  NOR Minimum Year =  1970 Maximum Year =  2022 Missing Years =  Series([], dtype: float64)\n",
      "Country =  POL Minimum Year =  1990 Maximum Year =  2022 Missing Years =  Series([], dtype: float64)\n",
      "Country =  PRT Minimum Year =  1970 Maximum Year =  2022 Missing Years =  Series([], dtype: float64)\n",
      "Country =  SVK Minimum Year =  1992 Maximum Year =  2022 Missing Years =  Series([], dtype: float64)\n",
      "Country =  ESP Minimum Year =  1970 Maximum Year =  2022 Missing Years =  Series([], dtype: float64)\n",
      "Country =  SWE Minimum Year =  1950 Maximum Year =  2022 Missing Years =  Series([], dtype: float64)\n",
      "Country =  CHE Minimum Year =  1970 Maximum Year =  2022 Missing Years =  Series([], dtype: float64)\n",
      "Country =  TUR Minimum Year =  1970 Maximum Year =  2021 Missing Years =  Series([], dtype: float64)\n",
      "Country =  GBR Minimum Year =  1970 Maximum Year =  2022 Missing Years =  Series([], dtype: float64)\n",
      "Country =  USA Minimum Year =  1970 Maximum Year =  2021 Missing Years =  Series([], dtype: float64)\n",
      "Country =  ARG Minimum Year =  2004 Maximum Year =  2021 Missing Years =  Series([], dtype: float64)\n",
      "Country =  BRA Minimum Year =  2000 Maximum Year =  2019 Missing Years =  Series([], dtype: float64)\n",
      "Country =  CHL Minimum Year =  1986 Maximum Year =  2021 Missing Years =  Series([], dtype: float64)\n",
      "Country =  COL Minimum Year =  1975 Maximum Year =  2021 Missing Years =  Series([], dtype: float64)\n",
      "Country =  EST Minimum Year =  1993 Maximum Year =  2022 Missing Years =  Series([], dtype: float64)\n",
      "Country =  IDN Minimum Year =  1993 Maximum Year =  2022 Missing Years =  Series([], dtype: float64)\n",
      "Country =  ISR Minimum Year =  1970 Maximum Year =  2021 Missing Years =  Series([], dtype: float64)\n",
      "Country =  LVA Minimum Year =  1995 Maximum Year =  2022 Missing Years =  Series([], dtype: float64)\n",
      "Country =  LTU Minimum Year =  1995 Maximum Year =  2022 Missing Years =  Series([], dtype: float64)\n",
      "Country =  RUS Minimum Year =  1995 Maximum Year =  2019 Missing Years =  Series([], dtype: float64)\n",
      "Country =  SVN Minimum Year =  1990 Maximum Year =  2022 Missing Years =  Series([], dtype: float64)\n",
      "Country =  ZAF Minimum Year =  1960 Maximum Year =  2020 Missing Years =  Series([], dtype: float64)\n",
      "Country =  OECD Minimum Year =  1995 Maximum Year =  2021 Missing Years =  Series([], dtype: float64)\n",
      "Country =  OECDE Minimum Year =  1995 Maximum Year =  2021 Missing Years =  Series([], dtype: float64)\n",
      "Country =  EA19 Minimum Year =  1995 Maximum Year =  2022 Missing Years =  Series([], dtype: float64)\n",
      "Country =  CRI Minimum Year =  1991 Maximum Year =  2021 Missing Years =  Series([], dtype: float64)\n",
      "Country =  BGR Minimum Year =  1995 Maximum Year =  2022 Missing Years =  Series([], dtype: float64)\n",
      "Country =  HRV Minimum Year =  1995 Maximum Year =  2021 Missing Years =  Series([], dtype: float64)\n",
      "Country =  CYP Minimum Year =  1995 Maximum Year =  2021 Missing Years =  Series([], dtype: float64)\n",
      "Country =  MLT Minimum Year =  2000 Maximum Year =  2021 Missing Years =  Series([], dtype: float64)\n",
      "Country =  ROU Minimum Year =  1995 Maximum Year =  2021 Missing Years =  Series([], dtype: float64)\n",
      "Country =  MKD Minimum Year =  2000 Maximum Year =  2021 Missing Years =  Series([], dtype: float64)\n",
      "Country =  IND Minimum Year =  1950 Maximum Year =  2019 Missing Years =  Series([], dtype: float64)\n",
      "Country =  HKG Minimum Year =  1970 Maximum Year =  2021 Missing Years =  Series([], dtype: float64)\n",
      "Country =  MDG Minimum Year =  2007 Maximum Year =  2020 Missing Years =  Series([], dtype: float64)\n",
      "Country =  MAR Minimum Year =  2007 Maximum Year =  2021 Missing Years =  Series([], dtype: float64)\n",
      "Country =  SGP Minimum Year =  1960 Maximum Year =  2020 Missing Years =  Series([], dtype: float64)\n",
      "Country =  EU27_2020 Minimum Year =  1995 Maximum Year =  2022 Missing Years =  Series([], dtype: float64)\n",
      "Country =  SAU Minimum Year =  2000 Maximum Year =  2021 Missing Years =  Series([], dtype: float64)\n",
      "Country =  SRB Minimum Year =  1995 Maximum Year =  2021 Missing Years =  Series([], dtype: float64)\n",
      "Country =  ALB Minimum Year =  1995 Maximum Year =  2021 Missing Years =  Series([], dtype: float64)\n",
      "Country =  GEO Minimum Year =  2010 Maximum Year =  2020 Missing Years =  Series([], dtype: float64)\n",
      "Country =  CMR Minimum Year =  1993 Maximum Year =  2020 Missing Years =  Series([], dtype: float64)\n",
      "Country =  SEN Minimum Year =  1999 Maximum Year =  2020 Missing Years =  Series([], dtype: float64)\n",
      "Highest Min =  2010  Country =  GEO\n",
      "Lowest Max =  2019  Country =  BRA\n"
     ]
    }
   ],
   "source": [
    "min_high = 1\n",
    "min_high_trade = ''\n",
    "max_low = 9999\n",
    "max_low_trade  = ''\n",
    "\n",
    "for country in final_df.LOCATION.unique():\n",
    "    #print(country)\n",
    "    tempdf = final_df[final_df['LOCATION']==country]\n",
    "    minyear = int(tempdf.TIME.min())\n",
    "    if(min_high<minyear):\n",
    "        min_high=minyear\n",
    "        min_high_trade = country\n",
    "\n",
    "    maxyear = int(tempdf.TIME.max())\n",
    "    if(max_low>maxyear):\n",
    "        max_low=maxyear\n",
    "        max_low_trade = country\n",
    "    missingyear = []\n",
    "    for i in range(minyear,maxyear):\n",
    "        if((tempdf['TIME']==str(i)).any() == False):\n",
    "            tempseries = pd.Series([str(i)])\n",
    "            missingyear = pd.Series(missingyear)\n",
    "            pd.concat([missingyear, tempseries])\n",
    "\n",
    "    print('Country = ', country, 'Minimum Year = ',minyear, 'Maximum Year = ', maxyear, 'Missing Years = ', missingyear)\n",
    "\n",
    "print('Highest Min = ', min_high, ' Country = ', min_high_trade)\n",
    "print('Lowest Max = ', max_low, ' Country = ', max_low_trade )"
   ]
  },
  {
   "cell_type": "code",
   "execution_count": 14,
   "id": "dd58b134",
   "metadata": {},
   "outputs": [
    {
     "name": "stderr",
     "output_type": "stream",
     "text": [
      "C:\\Users\\unair2\\AppData\\Local\\Temp\\ipykernel_22080\\3204560378.py:22: FutureWarning: The default dtype for empty Series will be 'object' instead of 'float64' in a future version. Specify a dtype explicitly to silence this warning.\n",
      "  missingyear = pd.Series(missingyear)\n"
     ]
    },
    {
     "name": "stdout",
     "output_type": "stream",
     "text": [
      "Country =  AUS Minimum Year =  1959 Maximum Year =  2021 Missing Years =  Series([], dtype: float64)\n",
      "Country =  AUT Minimum Year =  1970 Maximum Year =  2022 Missing Years =  Series([], dtype: float64)\n",
      "Country =  BEL Minimum Year =  1970 Maximum Year =  2022 Missing Years =  Series([], dtype: float64)\n",
      "Country =  CAN Minimum Year =  1961 Maximum Year =  2022 Missing Years =  Series([], dtype: float64)\n",
      "Country =  CZE Minimum Year =  1990 Maximum Year =  2022 Missing Years =  Series([], dtype: float64)\n",
      "Country =  DNK Minimum Year =  1967 Maximum Year =  2022 Missing Years =  Series([], dtype: float64)\n",
      "Country =  FIN Minimum Year =  1970 Maximum Year =  2022 Missing Years =  Series([], dtype: float64)\n",
      "Country =  FRA Minimum Year =  1950 Maximum Year =  2022 Missing Years =  Series([], dtype: float64)\n",
      "Country =  DEU Minimum Year =  1970 Maximum Year =  2022 Missing Years =  Series([], dtype: float64)\n",
      "Country =  GRC Minimum Year =  1960 Maximum Year =  2022 Missing Years =  Series([], dtype: float64)\n",
      "Country =  HUN Minimum Year =  1991 Maximum Year =  2022 Missing Years =  Series([], dtype: float64)\n",
      "Country =  ISL Minimum Year =  1970 Maximum Year =  2021 Missing Years =  Series([], dtype: float64)\n",
      "Country =  IRL Minimum Year =  1970 Maximum Year =  2022 Missing Years =  Series([], dtype: float64)\n",
      "Country =  ITA Minimum Year =  1970 Maximum Year =  2022 Missing Years =  Series([], dtype: float64)\n",
      "Country =  JPN Minimum Year =  1970 Maximum Year =  2021 Missing Years =  Series([], dtype: float64)\n",
      "Country =  KOR Minimum Year =  1953 Maximum Year =  2021 Missing Years =  Series([], dtype: float64)\n",
      "Country =  LUX Minimum Year =  1970 Maximum Year =  2022 Missing Years =  Series([], dtype: float64)\n",
      "Country =  MEX Minimum Year =  1970 Maximum Year =  2021 Missing Years =  Series([], dtype: float64)\n",
      "Country =  NLD Minimum Year =  1969 Maximum Year =  2022 Missing Years =  Series([], dtype: float64)\n",
      "Country =  NZL Minimum Year =  1970 Maximum Year =  2021 Missing Years =  Series([], dtype: float64)\n",
      "Country =  NOR Minimum Year =  1970 Maximum Year =  2022 Missing Years =  Series([], dtype: float64)\n",
      "Country =  POL Minimum Year =  1990 Maximum Year =  2022 Missing Years =  Series([], dtype: float64)\n",
      "Country =  PRT Minimum Year =  1970 Maximum Year =  2022 Missing Years =  Series([], dtype: float64)\n",
      "Country =  SVK Minimum Year =  1992 Maximum Year =  2022 Missing Years =  Series([], dtype: float64)\n",
      "Country =  ESP Minimum Year =  1970 Maximum Year =  2022 Missing Years =  Series([], dtype: float64)\n",
      "Country =  SWE Minimum Year =  1950 Maximum Year =  2022 Missing Years =  Series([], dtype: float64)\n",
      "Country =  CHE Minimum Year =  1970 Maximum Year =  2022 Missing Years =  Series([], dtype: float64)\n",
      "Country =  TUR Minimum Year =  1970 Maximum Year =  2021 Missing Years =  Series([], dtype: float64)\n",
      "Country =  GBR Minimum Year =  1970 Maximum Year =  2022 Missing Years =  Series([], dtype: float64)\n",
      "Country =  USA Minimum Year =  1970 Maximum Year =  2021 Missing Years =  Series([], dtype: float64)\n",
      "Country =  ARG Minimum Year =  2004 Maximum Year =  2021 Missing Years =  Series([], dtype: float64)\n",
      "Country =  BRA Minimum Year =  2000 Maximum Year =  2019 Missing Years =  Series([], dtype: float64)\n",
      "Country =  CHL Minimum Year =  1986 Maximum Year =  2021 Missing Years =  Series([], dtype: float64)\n",
      "Country =  COL Minimum Year =  1975 Maximum Year =  2021 Missing Years =  Series([], dtype: float64)\n",
      "Country =  EST Minimum Year =  1993 Maximum Year =  2022 Missing Years =  Series([], dtype: float64)\n",
      "Country =  IDN Minimum Year =  1993 Maximum Year =  2022 Missing Years =  Series([], dtype: float64)\n",
      "Country =  ISR Minimum Year =  1970 Maximum Year =  2021 Missing Years =  Series([], dtype: float64)\n",
      "Country =  LVA Minimum Year =  1995 Maximum Year =  2022 Missing Years =  Series([], dtype: float64)\n",
      "Country =  LTU Minimum Year =  1995 Maximum Year =  2022 Missing Years =  Series([], dtype: float64)\n",
      "Country =  RUS Minimum Year =  1995 Maximum Year =  2019 Missing Years =  Series([], dtype: float64)\n",
      "Country =  SVN Minimum Year =  1990 Maximum Year =  2022 Missing Years =  Series([], dtype: float64)\n",
      "Country =  ZAF Minimum Year =  1960 Maximum Year =  2020 Missing Years =  Series([], dtype: float64)\n",
      "Country =  OECD Minimum Year =  1995 Maximum Year =  2021 Missing Years =  Series([], dtype: float64)\n",
      "Country =  OECDE Minimum Year =  1995 Maximum Year =  2021 Missing Years =  Series([], dtype: float64)\n",
      "Country =  EA19 Minimum Year =  1995 Maximum Year =  2022 Missing Years =  Series([], dtype: float64)\n",
      "Country =  CRI Minimum Year =  1991 Maximum Year =  2021 Missing Years =  Series([], dtype: float64)\n",
      "Country =  BGR Minimum Year =  1995 Maximum Year =  2022 Missing Years =  Series([], dtype: float64)\n",
      "Country =  HRV Minimum Year =  1995 Maximum Year =  2021 Missing Years =  Series([], dtype: float64)\n",
      "Country =  CYP Minimum Year =  1995 Maximum Year =  2021 Missing Years =  Series([], dtype: float64)\n",
      "Country =  MLT Minimum Year =  2000 Maximum Year =  2021 Missing Years =  Series([], dtype: float64)\n",
      "Country =  ROU Minimum Year =  1995 Maximum Year =  2021 Missing Years =  Series([], dtype: float64)\n",
      "Country =  MKD Minimum Year =  2000 Maximum Year =  2021 Missing Years =  Series([], dtype: float64)\n",
      "Country =  IND Minimum Year =  1950 Maximum Year =  2019 Missing Years =  Series([], dtype: float64)\n",
      "Country =  HKG Minimum Year =  1970 Maximum Year =  2021 Missing Years =  Series([], dtype: float64)\n",
      "Country =  MDG Minimum Year =  2007 Maximum Year =  2020 Missing Years =  Series([], dtype: float64)\n",
      "Country =  MAR Minimum Year =  2007 Maximum Year =  2021 Missing Years =  Series([], dtype: float64)\n",
      "Country =  SGP Minimum Year =  1960 Maximum Year =  2020 Missing Years =  Series([], dtype: float64)\n",
      "Country =  EU27_2020 Minimum Year =  1995 Maximum Year =  2022 Missing Years =  Series([], dtype: float64)\n",
      "Country =  SAU Minimum Year =  2000 Maximum Year =  2021 Missing Years =  Series([], dtype: float64)\n",
      "Country =  SRB Minimum Year =  1995 Maximum Year =  2021 Missing Years =  Series([], dtype: float64)\n",
      "Country =  ALB Minimum Year =  1995 Maximum Year =  2021 Missing Years =  Series([], dtype: float64)\n",
      "Country =  GEO Minimum Year =  2010 Maximum Year =  2020 Missing Years =  Series([], dtype: float64)\n",
      "Country =  CMR Minimum Year =  1993 Maximum Year =  2020 Missing Years =  Series([], dtype: float64)\n",
      "Country =  SEN Minimum Year =  1999 Maximum Year =  2020 Missing Years =  Series([], dtype: float64)\n",
      "Highest Min =  2010  Country =  GEO\n",
      "Lowest Max =  2019  Country =  BRA\n"
     ]
    }
   ],
   "source": [
    "min_high = 1\n",
    "min_high_trade = ''\n",
    "max_low = 9999\n",
    "max_low_trade  = ''\n",
    "\n",
    "for country in trade_in_gs_exp_df.LOCATION.unique():\n",
    "    #print(country)\n",
    "    tempdf = trade_in_gs_exp_df[trade_in_gs_exp_df['LOCATION']==country]\n",
    "    minyear = int(tempdf.TIME.min())\n",
    "    if(min_high<minyear):\n",
    "        min_high=minyear\n",
    "        min_high_trade = country\n",
    "\n",
    "    maxyear = int(tempdf.TIME.max())\n",
    "    if(max_low>maxyear):\n",
    "        max_low=maxyear\n",
    "        max_low_trade = country\n",
    "    missingyear = []\n",
    "    for i in range(minyear,maxyear):\n",
    "        if((tempdf['TIME']==str(i)).any() == False):\n",
    "            tempseries = pd.Series([str(i)])\n",
    "            missingyear = pd.Series(missingyear)\n",
    "            pd.concat([missingyear, tempseries])\n",
    "\n",
    "    print('Country = ', country, 'Minimum Year = ',minyear, 'Maximum Year = ', maxyear, 'Missing Years = ', missingyear)\n",
    "\n",
    "print('Highest Min = ', min_high, ' Country = ', min_high_trade)\n",
    "print('Lowest Max = ', max_low, ' Country = ', max_low_trade )"
   ]
  },
  {
   "cell_type": "code",
   "execution_count": 15,
   "id": "68f6edb6",
   "metadata": {},
   "outputs": [
    {
     "name": "stderr",
     "output_type": "stream",
     "text": [
      "C:\\Users\\unair2\\AppData\\Local\\Temp\\ipykernel_22080\\1688008070.py:22: FutureWarning: The default dtype for empty Series will be 'object' instead of 'float64' in a future version. Specify a dtype explicitly to silence this warning.\n",
      "  missingyear = pd.Series(missingyear)\n"
     ]
    },
    {
     "name": "stdout",
     "output_type": "stream",
     "text": [
      "Country =  AUS Minimum Year =  1959 Maximum Year =  2021 Missing Years =  Series([], dtype: float64)\n",
      "Country =  AUT Minimum Year =  1970 Maximum Year =  2022 Missing Years =  Series([], dtype: float64)\n",
      "Country =  BEL Minimum Year =  1970 Maximum Year =  2022 Missing Years =  Series([], dtype: float64)\n",
      "Country =  CAN Minimum Year =  1961 Maximum Year =  2022 Missing Years =  Series([], dtype: float64)\n",
      "Country =  CZE Minimum Year =  1990 Maximum Year =  2022 Missing Years =  Series([], dtype: float64)\n",
      "Country =  DNK Minimum Year =  1967 Maximum Year =  2022 Missing Years =  Series([], dtype: float64)\n",
      "Country =  FIN Minimum Year =  1970 Maximum Year =  2022 Missing Years =  Series([], dtype: float64)\n",
      "Country =  FRA Minimum Year =  1950 Maximum Year =  2022 Missing Years =  Series([], dtype: float64)\n",
      "Country =  DEU Minimum Year =  1970 Maximum Year =  2022 Missing Years =  Series([], dtype: float64)\n",
      "Country =  GRC Minimum Year =  1960 Maximum Year =  2022 Missing Years =  Series([], dtype: float64)\n",
      "Country =  HUN Minimum Year =  1991 Maximum Year =  2022 Missing Years =  Series([], dtype: float64)\n",
      "Country =  ISL Minimum Year =  1970 Maximum Year =  2021 Missing Years =  Series([], dtype: float64)\n",
      "Country =  IRL Minimum Year =  1970 Maximum Year =  2022 Missing Years =  Series([], dtype: float64)\n",
      "Country =  ITA Minimum Year =  1970 Maximum Year =  2022 Missing Years =  Series([], dtype: float64)\n",
      "Country =  JPN Minimum Year =  1970 Maximum Year =  2021 Missing Years =  Series([], dtype: float64)\n",
      "Country =  KOR Minimum Year =  1953 Maximum Year =  2021 Missing Years =  Series([], dtype: float64)\n",
      "Country =  LUX Minimum Year =  1970 Maximum Year =  2022 Missing Years =  Series([], dtype: float64)\n",
      "Country =  MEX Minimum Year =  1970 Maximum Year =  2021 Missing Years =  Series([], dtype: float64)\n",
      "Country =  NLD Minimum Year =  1969 Maximum Year =  2022 Missing Years =  Series([], dtype: float64)\n",
      "Country =  NZL Minimum Year =  1970 Maximum Year =  2021 Missing Years =  Series([], dtype: float64)\n",
      "Country =  NOR Minimum Year =  1970 Maximum Year =  2022 Missing Years =  Series([], dtype: float64)\n",
      "Country =  POL Minimum Year =  1990 Maximum Year =  2022 Missing Years =  Series([], dtype: float64)\n",
      "Country =  PRT Minimum Year =  1970 Maximum Year =  2022 Missing Years =  Series([], dtype: float64)\n",
      "Country =  SVK Minimum Year =  1992 Maximum Year =  2022 Missing Years =  Series([], dtype: float64)\n",
      "Country =  ESP Minimum Year =  1970 Maximum Year =  2022 Missing Years =  Series([], dtype: float64)\n",
      "Country =  SWE Minimum Year =  1950 Maximum Year =  2022 Missing Years =  Series([], dtype: float64)\n",
      "Country =  CHE Minimum Year =  1970 Maximum Year =  2022 Missing Years =  Series([], dtype: float64)\n",
      "Country =  TUR Minimum Year =  1970 Maximum Year =  2021 Missing Years =  Series([], dtype: float64)\n",
      "Country =  GBR Minimum Year =  1970 Maximum Year =  2022 Missing Years =  Series([], dtype: float64)\n",
      "Country =  USA Minimum Year =  1970 Maximum Year =  2021 Missing Years =  Series([], dtype: float64)\n",
      "Country =  ARG Minimum Year =  2004 Maximum Year =  2021 Missing Years =  Series([], dtype: float64)\n",
      "Country =  BRA Minimum Year =  2000 Maximum Year =  2019 Missing Years =  Series([], dtype: float64)\n",
      "Country =  CHL Minimum Year =  1986 Maximum Year =  2021 Missing Years =  Series([], dtype: float64)\n",
      "Country =  COL Minimum Year =  1975 Maximum Year =  2021 Missing Years =  Series([], dtype: float64)\n",
      "Country =  EST Minimum Year =  1993 Maximum Year =  2022 Missing Years =  Series([], dtype: float64)\n",
      "Country =  IDN Minimum Year =  1993 Maximum Year =  2022 Missing Years =  Series([], dtype: float64)\n",
      "Country =  ISR Minimum Year =  1970 Maximum Year =  2021 Missing Years =  Series([], dtype: float64)\n",
      "Country =  LVA Minimum Year =  1995 Maximum Year =  2022 Missing Years =  Series([], dtype: float64)\n",
      "Country =  LTU Minimum Year =  1995 Maximum Year =  2022 Missing Years =  Series([], dtype: float64)\n",
      "Country =  RUS Minimum Year =  1995 Maximum Year =  2019 Missing Years =  Series([], dtype: float64)\n",
      "Country =  SVN Minimum Year =  1990 Maximum Year =  2022 Missing Years =  Series([], dtype: float64)\n",
      "Country =  ZAF Minimum Year =  1960 Maximum Year =  2020 Missing Years =  Series([], dtype: float64)\n",
      "Country =  OECD Minimum Year =  1995 Maximum Year =  2021 Missing Years =  Series([], dtype: float64)\n",
      "Country =  OECDE Minimum Year =  1995 Maximum Year =  2021 Missing Years =  Series([], dtype: float64)\n",
      "Country =  EA19 Minimum Year =  1995 Maximum Year =  2022 Missing Years =  Series([], dtype: float64)\n",
      "Country =  CRI Minimum Year =  1991 Maximum Year =  2021 Missing Years =  Series([], dtype: float64)\n",
      "Country =  BGR Minimum Year =  1995 Maximum Year =  2022 Missing Years =  Series([], dtype: float64)\n",
      "Country =  HRV Minimum Year =  1995 Maximum Year =  2021 Missing Years =  Series([], dtype: float64)\n",
      "Country =  CYP Minimum Year =  1995 Maximum Year =  2021 Missing Years =  Series([], dtype: float64)\n",
      "Country =  MLT Minimum Year =  2000 Maximum Year =  2021 Missing Years =  Series([], dtype: float64)\n",
      "Country =  ROU Minimum Year =  1995 Maximum Year =  2021 Missing Years =  Series([], dtype: float64)\n",
      "Country =  MKD Minimum Year =  2000 Maximum Year =  2021 Missing Years =  Series([], dtype: float64)\n",
      "Country =  IND Minimum Year =  1950 Maximum Year =  2019 Missing Years =  Series([], dtype: float64)\n",
      "Country =  HKG Minimum Year =  1970 Maximum Year =  2021 Missing Years =  Series([], dtype: float64)\n",
      "Country =  MDG Minimum Year =  2007 Maximum Year =  2020 Missing Years =  Series([], dtype: float64)\n",
      "Country =  MAR Minimum Year =  2007 Maximum Year =  2021 Missing Years =  Series([], dtype: float64)\n",
      "Country =  SGP Minimum Year =  1960 Maximum Year =  2020 Missing Years =  Series([], dtype: float64)\n",
      "Country =  EU27_2020 Minimum Year =  1995 Maximum Year =  2022 Missing Years =  Series([], dtype: float64)\n",
      "Country =  SAU Minimum Year =  2000 Maximum Year =  2021 Missing Years =  Series([], dtype: float64)\n",
      "Country =  SRB Minimum Year =  1995 Maximum Year =  2021 Missing Years =  Series([], dtype: float64)\n",
      "Country =  ALB Minimum Year =  1995 Maximum Year =  2021 Missing Years =  Series([], dtype: float64)\n",
      "Country =  GEO Minimum Year =  2010 Maximum Year =  2020 Missing Years =  Series([], dtype: float64)\n",
      "Country =  CMR Minimum Year =  1993 Maximum Year =  2020 Missing Years =  Series([], dtype: float64)\n",
      "Country =  SEN Minimum Year =  1999 Maximum Year =  2020 Missing Years =  Series([], dtype: float64)\n",
      "Highest Min =  2010  Country =  GEO\n",
      "Lowest Max =  2019  Country =  BRA\n"
     ]
    }
   ],
   "source": [
    "min_high = 1\n",
    "min_high_trade = ''\n",
    "max_low = 9999\n",
    "max_low_trade  = ''\n",
    "\n",
    "for country in trade_in_gs_ntr_df.LOCATION.unique():\n",
    "    #print(country)\n",
    "    tempdf = trade_in_gs_ntr_df[trade_in_gs_ntr_df['LOCATION']==country]\n",
    "    minyear = int(tempdf.TIME.min())\n",
    "    if(min_high<minyear):\n",
    "        min_high=minyear\n",
    "        min_high_trade = country\n",
    "\n",
    "    maxyear = int(tempdf.TIME.max())\n",
    "    if(max_low>maxyear):\n",
    "        max_low=maxyear\n",
    "        max_low_trade = country\n",
    "    missingyear = []\n",
    "    for i in range(minyear,maxyear):\n",
    "        if((tempdf['TIME']==str(i)).any() == False):\n",
    "            tempseries = pd.Series([str(i)])\n",
    "            missingyear = pd.Series(missingyear)\n",
    "            pd.concat([missingyear, tempseries])\n",
    "\n",
    "    print('Country = ', country, 'Minimum Year = ',minyear, 'Maximum Year = ', maxyear, 'Missing Years = ', missingyear)\n",
    "\n",
    "print('Highest Min = ', min_high, ' Country = ', min_high_trade)\n",
    "print('Lowest Max = ', max_low, ' Country = ', max_low_trade )"
   ]
  },
  {
   "attachments": {},
   "cell_type": "markdown",
   "id": "a410dd7a",
   "metadata": {},
   "source": [
    "Dropping the unnecessary columns from the dataframe"
   ]
  },
  {
   "cell_type": "code",
   "execution_count": 16,
   "id": "666d43a9",
   "metadata": {},
   "outputs": [
    {
     "data": {
      "text/html": [
       "<div>\n",
       "<style scoped>\n",
       "    .dataframe tbody tr th:only-of-type {\n",
       "        vertical-align: middle;\n",
       "    }\n",
       "\n",
       "    .dataframe tbody tr th {\n",
       "        vertical-align: top;\n",
       "    }\n",
       "\n",
       "    .dataframe thead th {\n",
       "        text-align: right;\n",
       "    }\n",
       "</style>\n",
       "<table border=\"1\" class=\"dataframe\">\n",
       "  <thead>\n",
       "    <tr style=\"text-align: right;\">\n",
       "      <th></th>\n",
       "      <th>LOCATION</th>\n",
       "      <th>TIME</th>\n",
       "      <th>IMPVAL</th>\n",
       "      <th>EXPVAL</th>\n",
       "      <th>NTRVAL</th>\n",
       "    </tr>\n",
       "  </thead>\n",
       "  <tbody>\n",
       "    <tr>\n",
       "      <th>0</th>\n",
       "      <td>AUS</td>\n",
       "      <td>1959</td>\n",
       "      <td>12041.643</td>\n",
       "      <td>10820.433</td>\n",
       "      <td>1221.210</td>\n",
       "    </tr>\n",
       "    <tr>\n",
       "      <th>1</th>\n",
       "      <td>AUS</td>\n",
       "      <td>1960</td>\n",
       "      <td>12642.489</td>\n",
       "      <td>12174.641</td>\n",
       "      <td>467.848</td>\n",
       "    </tr>\n",
       "    <tr>\n",
       "      <th>2</th>\n",
       "      <td>AUS</td>\n",
       "      <td>1961</td>\n",
       "      <td>14354.739</td>\n",
       "      <td>10438.873</td>\n",
       "      <td>3915.866</td>\n",
       "    </tr>\n",
       "    <tr>\n",
       "      <th>3</th>\n",
       "      <td>AUS</td>\n",
       "      <td>1962</td>\n",
       "      <td>14034.969</td>\n",
       "      <td>12247.425</td>\n",
       "      <td>1787.544</td>\n",
       "    </tr>\n",
       "    <tr>\n",
       "      <th>4</th>\n",
       "      <td>AUS</td>\n",
       "      <td>1963</td>\n",
       "      <td>16349.677</td>\n",
       "      <td>13623.688</td>\n",
       "      <td>2725.988</td>\n",
       "    </tr>\n",
       "  </tbody>\n",
       "</table>\n",
       "</div>"
      ],
      "text/plain": [
       "  LOCATION  TIME     IMPVAL     EXPVAL    NTRVAL\n",
       "0      AUS  1959  12041.643  10820.433  1221.210\n",
       "1      AUS  1960  12642.489  12174.641   467.848\n",
       "2      AUS  1961  14354.739  10438.873  3915.866\n",
       "3      AUS  1962  14034.969  12247.425  1787.544\n",
       "4      AUS  1963  16349.677  13623.688  2725.988"
      ]
     },
     "execution_count": 16,
     "metadata": {},
     "output_type": "execute_result"
    }
   ],
   "source": [
    "final_df.head()\n",
    "final_df.drop(['SUBJECT_x','MEASURE_x','SUBJECT_y','MEASURE_y','SUBJECT','MEASURE'],axis=1,inplace=True)\n",
    "final_df.head()"
   ]
  },
  {
   "cell_type": "code",
   "execution_count": 17,
   "id": "88d42acb",
   "metadata": {},
   "outputs": [
    {
     "data": {
      "text/plain": [
       "(2641, 5)"
      ]
     },
     "execution_count": 17,
     "metadata": {},
     "output_type": "execute_result"
    }
   ],
   "source": [
    "final_df.shape"
   ]
  },
  {
   "cell_type": "code",
   "execution_count": 56,
   "id": "892bab53",
   "metadata": {},
   "outputs": [],
   "source": [
    "from pathlib import Path \n",
    "filepath = Path('../data/temp/trade_in_gs_cleaned.csv')\n",
    "# final_df = final_df[['LOCATION','TIME','HOUSESPEND']]\n",
    "final_df.to_csv(filepath)"
   ]
  }
 ],
 "metadata": {
  "kernelspec": {
   "display_name": "Python 3 (ipykernel)",
   "language": "python",
   "name": "python3"
  },
  "language_info": {
   "codemirror_mode": {
    "name": "ipython",
    "version": 3
   },
   "file_extension": ".py",
   "mimetype": "text/x-python",
   "name": "python",
   "nbconvert_exporter": "python",
   "pygments_lexer": "ipython3",
   "version": "3.9.12"
  }
 },
 "nbformat": 4,
 "nbformat_minor": 5
}
