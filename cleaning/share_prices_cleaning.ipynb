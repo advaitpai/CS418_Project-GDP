{
 "cells": [
  {
   "cell_type": "code",
   "execution_count": 1,
   "metadata": {},
   "outputs": [],
   "source": [
    "import pandas as pd"
   ]
  },
  {
   "cell_type": "code",
   "execution_count": 2,
   "metadata": {},
   "outputs": [
    {
     "data": {
      "text/html": [
       "<div>\n",
       "<style scoped>\n",
       "    .dataframe tbody tr th:only-of-type {\n",
       "        vertical-align: middle;\n",
       "    }\n",
       "\n",
       "    .dataframe tbody tr th {\n",
       "        vertical-align: top;\n",
       "    }\n",
       "\n",
       "    .dataframe thead th {\n",
       "        text-align: right;\n",
       "    }\n",
       "</style>\n",
       "<table border=\"1\" class=\"dataframe\">\n",
       "  <thead>\n",
       "    <tr style=\"text-align: right;\">\n",
       "      <th></th>\n",
       "      <th>LOCATION</th>\n",
       "      <th>INDICATOR</th>\n",
       "      <th>SUBJECT</th>\n",
       "      <th>MEASURE</th>\n",
       "      <th>FREQUENCY</th>\n",
       "      <th>TIME</th>\n",
       "      <th>Value</th>\n",
       "      <th>Flag Codes</th>\n",
       "    </tr>\n",
       "  </thead>\n",
       "  <tbody>\n",
       "    <tr>\n",
       "      <th>0</th>\n",
       "      <td>AUS</td>\n",
       "      <td>SHPRICE</td>\n",
       "      <td>TOT</td>\n",
       "      <td>IDX2015</td>\n",
       "      <td>A</td>\n",
       "      <td>1958</td>\n",
       "      <td>2.613002</td>\n",
       "      <td>NaN</td>\n",
       "    </tr>\n",
       "    <tr>\n",
       "      <th>1</th>\n",
       "      <td>AUS</td>\n",
       "      <td>SHPRICE</td>\n",
       "      <td>TOT</td>\n",
       "      <td>IDX2015</td>\n",
       "      <td>A</td>\n",
       "      <td>1959</td>\n",
       "      <td>3.256618</td>\n",
       "      <td>NaN</td>\n",
       "    </tr>\n",
       "    <tr>\n",
       "      <th>2</th>\n",
       "      <td>AUS</td>\n",
       "      <td>SHPRICE</td>\n",
       "      <td>TOT</td>\n",
       "      <td>IDX2015</td>\n",
       "      <td>A</td>\n",
       "      <td>1960</td>\n",
       "      <td>3.966841</td>\n",
       "      <td>NaN</td>\n",
       "    </tr>\n",
       "    <tr>\n",
       "      <th>3</th>\n",
       "      <td>AUS</td>\n",
       "      <td>SHPRICE</td>\n",
       "      <td>TOT</td>\n",
       "      <td>IDX2015</td>\n",
       "      <td>A</td>\n",
       "      <td>1961</td>\n",
       "      <td>3.653984</td>\n",
       "      <td>NaN</td>\n",
       "    </tr>\n",
       "    <tr>\n",
       "      <th>4</th>\n",
       "      <td>AUS</td>\n",
       "      <td>SHPRICE</td>\n",
       "      <td>TOT</td>\n",
       "      <td>IDX2015</td>\n",
       "      <td>A</td>\n",
       "      <td>1962</td>\n",
       "      <td>3.678260</td>\n",
       "      <td>NaN</td>\n",
       "    </tr>\n",
       "  </tbody>\n",
       "</table>\n",
       "</div>"
      ],
      "text/plain": [
       "  LOCATION INDICATOR SUBJECT  MEASURE FREQUENCY  TIME     Value Flag Codes\n",
       "0      AUS   SHPRICE     TOT  IDX2015         A  1958  2.613002        NaN\n",
       "1      AUS   SHPRICE     TOT  IDX2015         A  1959  3.256618        NaN\n",
       "2      AUS   SHPRICE     TOT  IDX2015         A  1960  3.966841        NaN\n",
       "3      AUS   SHPRICE     TOT  IDX2015         A  1961  3.653984        NaN\n",
       "4      AUS   SHPRICE     TOT  IDX2015         A  1962  3.678260        NaN"
      ]
     },
     "execution_count": 2,
     "metadata": {},
     "output_type": "execute_result"
    }
   ],
   "source": [
    "df_sp = pd.read_csv('../data/share_prices.csv')\n",
    "df_sp.head()"
   ]
  },
  {
   "cell_type": "code",
   "execution_count": 3,
   "metadata": {},
   "outputs": [
    {
     "name": "stdout",
     "output_type": "stream",
     "text": [
      "(35144, 8)\n"
     ]
    }
   ],
   "source": [
    "print(df_sp.shape)"
   ]
  },
  {
   "cell_type": "markdown",
   "metadata": {},
   "source": [
    "## Null Value Analysis"
   ]
  },
  {
   "cell_type": "code",
   "execution_count": 4,
   "metadata": {},
   "outputs": [
    {
     "name": "stdout",
     "output_type": "stream",
     "text": [
      "Analysis of Null values:\n",
      "<class 'pandas.core.frame.DataFrame'>\n",
      "RangeIndex: 35144 entries, 0 to 35143\n",
      "Data columns (total 8 columns):\n",
      " #   Column      Non-Null Count  Dtype  \n",
      "---  ------      --------------  -----  \n",
      " 0   LOCATION    35144 non-null  object \n",
      " 1   INDICATOR   35144 non-null  object \n",
      " 2   SUBJECT     35144 non-null  object \n",
      " 3   MEASURE     35144 non-null  object \n",
      " 4   FREQUENCY   35144 non-null  object \n",
      " 5   TIME        35144 non-null  object \n",
      " 6   Value       35144 non-null  float64\n",
      " 7   Flag Codes  25 non-null     object \n",
      "dtypes: float64(1), object(7)\n",
      "memory usage: 2.1+ MB\n"
     ]
    }
   ],
   "source": [
    "print(\"Analysis of Null values:\")\n",
    "df_sp.info()"
   ]
  },
  {
   "cell_type": "markdown",
   "metadata": {},
   "source": [
    "### Hence we see that there are only 25 non-null value in Flag Codes, hence we dropp it."
   ]
  },
  {
   "cell_type": "code",
   "execution_count": 5,
   "metadata": {},
   "outputs": [
    {
     "data": {
      "text/html": [
       "<div>\n",
       "<style scoped>\n",
       "    .dataframe tbody tr th:only-of-type {\n",
       "        vertical-align: middle;\n",
       "    }\n",
       "\n",
       "    .dataframe tbody tr th {\n",
       "        vertical-align: top;\n",
       "    }\n",
       "\n",
       "    .dataframe thead th {\n",
       "        text-align: right;\n",
       "    }\n",
       "</style>\n",
       "<table border=\"1\" class=\"dataframe\">\n",
       "  <thead>\n",
       "    <tr style=\"text-align: right;\">\n",
       "      <th></th>\n",
       "      <th>LOCATION</th>\n",
       "      <th>INDICATOR</th>\n",
       "      <th>SUBJECT</th>\n",
       "      <th>MEASURE</th>\n",
       "      <th>FREQUENCY</th>\n",
       "      <th>TIME</th>\n",
       "      <th>Value</th>\n",
       "    </tr>\n",
       "  </thead>\n",
       "  <tbody>\n",
       "    <tr>\n",
       "      <th>0</th>\n",
       "      <td>AUS</td>\n",
       "      <td>SHPRICE</td>\n",
       "      <td>TOT</td>\n",
       "      <td>IDX2015</td>\n",
       "      <td>A</td>\n",
       "      <td>1958</td>\n",
       "      <td>2.613002</td>\n",
       "    </tr>\n",
       "    <tr>\n",
       "      <th>1</th>\n",
       "      <td>AUS</td>\n",
       "      <td>SHPRICE</td>\n",
       "      <td>TOT</td>\n",
       "      <td>IDX2015</td>\n",
       "      <td>A</td>\n",
       "      <td>1959</td>\n",
       "      <td>3.256618</td>\n",
       "    </tr>\n",
       "    <tr>\n",
       "      <th>2</th>\n",
       "      <td>AUS</td>\n",
       "      <td>SHPRICE</td>\n",
       "      <td>TOT</td>\n",
       "      <td>IDX2015</td>\n",
       "      <td>A</td>\n",
       "      <td>1960</td>\n",
       "      <td>3.966841</td>\n",
       "    </tr>\n",
       "    <tr>\n",
       "      <th>3</th>\n",
       "      <td>AUS</td>\n",
       "      <td>SHPRICE</td>\n",
       "      <td>TOT</td>\n",
       "      <td>IDX2015</td>\n",
       "      <td>A</td>\n",
       "      <td>1961</td>\n",
       "      <td>3.653984</td>\n",
       "    </tr>\n",
       "    <tr>\n",
       "      <th>4</th>\n",
       "      <td>AUS</td>\n",
       "      <td>SHPRICE</td>\n",
       "      <td>TOT</td>\n",
       "      <td>IDX2015</td>\n",
       "      <td>A</td>\n",
       "      <td>1962</td>\n",
       "      <td>3.678260</td>\n",
       "    </tr>\n",
       "  </tbody>\n",
       "</table>\n",
       "</div>"
      ],
      "text/plain": [
       "  LOCATION INDICATOR SUBJECT  MEASURE FREQUENCY  TIME     Value\n",
       "0      AUS   SHPRICE     TOT  IDX2015         A  1958  2.613002\n",
       "1      AUS   SHPRICE     TOT  IDX2015         A  1959  3.256618\n",
       "2      AUS   SHPRICE     TOT  IDX2015         A  1960  3.966841\n",
       "3      AUS   SHPRICE     TOT  IDX2015         A  1961  3.653984\n",
       "4      AUS   SHPRICE     TOT  IDX2015         A  1962  3.678260"
      ]
     },
     "execution_count": 5,
     "metadata": {},
     "output_type": "execute_result"
    }
   ],
   "source": [
    "df_sp = df_sp.drop(columns=['Flag Codes'])\n",
    "df_sp.head()"
   ]
  },
  {
   "cell_type": "markdown",
   "metadata": {},
   "source": [
    "## Unique Value Analysis"
   ]
  },
  {
   "cell_type": "code",
   "execution_count": 6,
   "metadata": {},
   "outputs": [
    {
     "data": {
      "text/plain": [
       "LOCATION        46\n",
       "INDICATOR        1\n",
       "SUBJECT          1\n",
       "MEASURE          1\n",
       "FREQUENCY        3\n",
       "TIME          1243\n",
       "Value        33648\n",
       "dtype: int64"
      ]
     },
     "execution_count": 6,
     "metadata": {},
     "output_type": "execute_result"
    }
   ],
   "source": [
    "df_sp.nunique()"
   ]
  },
  {
   "cell_type": "markdown",
   "metadata": {},
   "source": [
    "### Here we see that INDICATOR, SUBJECT, MEASURE consists of only a single value within them, hence we can drp those columns."
   ]
  },
  {
   "cell_type": "code",
   "execution_count": 7,
   "metadata": {},
   "outputs": [
    {
     "data": {
      "text/html": [
       "<div>\n",
       "<style scoped>\n",
       "    .dataframe tbody tr th:only-of-type {\n",
       "        vertical-align: middle;\n",
       "    }\n",
       "\n",
       "    .dataframe tbody tr th {\n",
       "        vertical-align: top;\n",
       "    }\n",
       "\n",
       "    .dataframe thead th {\n",
       "        text-align: right;\n",
       "    }\n",
       "</style>\n",
       "<table border=\"1\" class=\"dataframe\">\n",
       "  <thead>\n",
       "    <tr style=\"text-align: right;\">\n",
       "      <th></th>\n",
       "      <th>LOCATION</th>\n",
       "      <th>FREQUENCY</th>\n",
       "      <th>TIME</th>\n",
       "      <th>Value</th>\n",
       "    </tr>\n",
       "  </thead>\n",
       "  <tbody>\n",
       "    <tr>\n",
       "      <th>0</th>\n",
       "      <td>AUS</td>\n",
       "      <td>A</td>\n",
       "      <td>1958</td>\n",
       "      <td>2.613002</td>\n",
       "    </tr>\n",
       "    <tr>\n",
       "      <th>1</th>\n",
       "      <td>AUS</td>\n",
       "      <td>A</td>\n",
       "      <td>1959</td>\n",
       "      <td>3.256618</td>\n",
       "    </tr>\n",
       "    <tr>\n",
       "      <th>2</th>\n",
       "      <td>AUS</td>\n",
       "      <td>A</td>\n",
       "      <td>1960</td>\n",
       "      <td>3.966841</td>\n",
       "    </tr>\n",
       "    <tr>\n",
       "      <th>3</th>\n",
       "      <td>AUS</td>\n",
       "      <td>A</td>\n",
       "      <td>1961</td>\n",
       "      <td>3.653984</td>\n",
       "    </tr>\n",
       "    <tr>\n",
       "      <th>4</th>\n",
       "      <td>AUS</td>\n",
       "      <td>A</td>\n",
       "      <td>1962</td>\n",
       "      <td>3.678260</td>\n",
       "    </tr>\n",
       "  </tbody>\n",
       "</table>\n",
       "</div>"
      ],
      "text/plain": [
       "  LOCATION FREQUENCY  TIME     Value\n",
       "0      AUS         A  1958  2.613002\n",
       "1      AUS         A  1959  3.256618\n",
       "2      AUS         A  1960  3.966841\n",
       "3      AUS         A  1961  3.653984\n",
       "4      AUS         A  1962  3.678260"
      ]
     },
     "execution_count": 7,
     "metadata": {},
     "output_type": "execute_result"
    }
   ],
   "source": [
    "df_sp = df_sp.drop(columns=[\"INDICATOR\",\"SUBJECT\",\"MEASURE\"])\n",
    "df_sp.head()"
   ]
  },
  {
   "cell_type": "code",
   "execution_count": 8,
   "metadata": {},
   "outputs": [
    {
     "data": {
      "text/plain": [
       "(35144, 4)"
      ]
     },
     "execution_count": 8,
     "metadata": {},
     "output_type": "execute_result"
    }
   ],
   "source": [
    "df_sp.shape"
   ]
  },
  {
   "cell_type": "markdown",
   "metadata": {},
   "source": [
    "## Datatype Reset"
   ]
  },
  {
   "cell_type": "code",
   "execution_count": 9,
   "metadata": {},
   "outputs": [],
   "source": [
    "df_sp['LOCATION']=df_sp['LOCATION'].astype('string')\n",
    "df_sp['TIME']=df_sp['TIME'].astype('string')"
   ]
  },
  {
   "cell_type": "code",
   "execution_count": 10,
   "metadata": {},
   "outputs": [
    {
     "name": "stdout",
     "output_type": "stream",
     "text": [
      "<class 'pandas.core.frame.DataFrame'>\n",
      "RangeIndex: 35144 entries, 0 to 35143\n",
      "Data columns (total 4 columns):\n",
      " #   Column     Non-Null Count  Dtype  \n",
      "---  ------     --------------  -----  \n",
      " 0   LOCATION   35144 non-null  string \n",
      " 1   FREQUENCY  35144 non-null  object \n",
      " 2   TIME       35144 non-null  string \n",
      " 3   Value      35144 non-null  float64\n",
      "dtypes: float64(1), object(1), string(2)\n",
      "memory usage: 1.1+ MB\n"
     ]
    }
   ],
   "source": [
    "df_sp.info()"
   ]
  },
  {
   "cell_type": "markdown",
   "metadata": {},
   "source": [
    "## FREQUENCY Analysis"
   ]
  },
  {
   "cell_type": "code",
   "execution_count": 11,
   "metadata": {},
   "outputs": [
    {
     "data": {
      "text/plain": [
       "array(['A', 'Q', 'M'], dtype=object)"
      ]
     },
     "execution_count": 11,
     "metadata": {},
     "output_type": "execute_result"
    }
   ],
   "source": [
    "df_sp['FREQUENCY'].unique()"
   ]
  },
  {
   "cell_type": "markdown",
   "metadata": {},
   "source": [
    "We need to analyse the FREQUENCY column to see if all countries have data consistent in the annual \"A\" format. We first need to set a range of which we will check the dates for"
   ]
  },
  {
   "cell_type": "code",
   "execution_count": 12,
   "metadata": {},
   "outputs": [
    {
     "name": "stdout",
     "output_type": "stream",
     "text": [
      "Start Year 1950\n",
      "End Year 2022\n"
     ]
    }
   ],
   "source": [
    "start_year = int(min(df_sp[\"TIME\"]))\n",
    "end_year = int(max(df_sp.loc[df_sp[\"FREQUENCY\"] == \"A\"][\"TIME\"]))\n",
    "print(\"Start Year\",start_year)\n",
    "print(\"End Year\",end_year)\n"
   ]
  },
  {
   "cell_type": "markdown",
   "metadata": {},
   "source": [
    "Now we will set the start year to 2001 since we want roughly 15 years worth data."
   ]
  },
  {
   "cell_type": "code",
   "execution_count": 13,
   "metadata": {},
   "outputs": [
    {
     "name": "stdout",
     "output_type": "stream",
     "text": [
      "Missing Values:\n",
      "\n",
      "\n",
      "Countries with missing values between 2001 and 2022: 0\n"
     ]
    }
   ],
   "source": [
    "start_year = 2001\n",
    "countries = []\n",
    "print(\"Missing Values:\\n\")\n",
    "for c in df_sp[\"LOCATION\"].unique():\n",
    "    temp = df_sp.loc[df_sp[\"LOCATION\"] == c]\n",
    "    temp = temp[temp[\"FREQUENCY\"] == \"A\"][\"TIME\"]\n",
    "    for i in range(start_year,end_year+1):\n",
    "        if(str(i) not in temp.values):\n",
    "            print(\"Location:\",c,\"\\tYear:\",i)\n",
    "            if c not in countries:\n",
    "                countries.append(c)\n",
    "print(\"\\nCountries with missing values between 2001 and 2022:\",len(countries))"
   ]
  },
  {
   "cell_type": "markdown",
   "metadata": {},
   "source": [
    "## Hence since the country has all the data from "
   ]
  },
  {
   "cell_type": "code",
   "execution_count": null,
   "metadata": {},
   "outputs": [],
   "source": []
  }
 ],
 "metadata": {
  "kernelspec": {
   "display_name": "Python 3.9.16 ('cs418-proj')",
   "language": "python",
   "name": "python3"
  },
  "language_info": {
   "codemirror_mode": {
    "name": "ipython",
    "version": 3
   },
   "file_extension": ".py",
   "mimetype": "text/x-python",
   "name": "python",
   "nbconvert_exporter": "python",
   "pygments_lexer": "ipython3",
   "version": "3.9.16"
  },
  "orig_nbformat": 4,
  "vscode": {
   "interpreter": {
    "hash": "c8ac7bcc6b2dbb39842d89486c34ab7849f692bd3067ed6f57c4db9cdfb88efc"
   }
  }
 },
 "nbformat": 4,
 "nbformat_minor": 2
}
