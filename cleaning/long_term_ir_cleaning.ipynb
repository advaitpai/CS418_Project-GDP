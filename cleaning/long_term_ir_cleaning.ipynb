{
 "cells": [
  {
   "cell_type": "markdown",
   "id": "51250d9d",
   "metadata": {},
   "source": [
    "# Long Term Interest Rate Dataset Cleaning"
   ]
  },
  {
   "cell_type": "code",
   "execution_count": 11,
   "id": "69997be4",
   "metadata": {},
   "outputs": [],
   "source": [
    "import pandas as pd"
   ]
  },
  {
   "cell_type": "code",
   "execution_count": 12,
   "id": "6a77008b",
   "metadata": {},
   "outputs": [
    {
     "data": {
      "text/html": [
       "<div>\n",
       "<style scoped>\n",
       "    .dataframe tbody tr th:only-of-type {\n",
       "        vertical-align: middle;\n",
       "    }\n",
       "\n",
       "    .dataframe tbody tr th {\n",
       "        vertical-align: top;\n",
       "    }\n",
       "\n",
       "    .dataframe thead th {\n",
       "        text-align: right;\n",
       "    }\n",
       "</style>\n",
       "<table border=\"1\" class=\"dataframe\">\n",
       "  <thead>\n",
       "    <tr style=\"text-align: right;\">\n",
       "      <th></th>\n",
       "      <th>LOCATION</th>\n",
       "      <th>INDICATOR</th>\n",
       "      <th>SUBJECT</th>\n",
       "      <th>MEASURE</th>\n",
       "      <th>FREQUENCY</th>\n",
       "      <th>TIME</th>\n",
       "      <th>Value</th>\n",
       "      <th>Flag Codes</th>\n",
       "    </tr>\n",
       "  </thead>\n",
       "  <tbody>\n",
       "    <tr>\n",
       "      <th>0</th>\n",
       "      <td>PRT</td>\n",
       "      <td>LTINT</td>\n",
       "      <td>TOT</td>\n",
       "      <td>PC_PA</td>\n",
       "      <td>A</td>\n",
       "      <td>1994</td>\n",
       "      <td>10.478330</td>\n",
       "      <td>NaN</td>\n",
       "    </tr>\n",
       "    <tr>\n",
       "      <th>1</th>\n",
       "      <td>PRT</td>\n",
       "      <td>LTINT</td>\n",
       "      <td>TOT</td>\n",
       "      <td>PC_PA</td>\n",
       "      <td>A</td>\n",
       "      <td>1995</td>\n",
       "      <td>11.465000</td>\n",
       "      <td>NaN</td>\n",
       "    </tr>\n",
       "    <tr>\n",
       "      <th>2</th>\n",
       "      <td>PRT</td>\n",
       "      <td>LTINT</td>\n",
       "      <td>TOT</td>\n",
       "      <td>PC_PA</td>\n",
       "      <td>A</td>\n",
       "      <td>1996</td>\n",
       "      <td>8.559167</td>\n",
       "      <td>NaN</td>\n",
       "    </tr>\n",
       "    <tr>\n",
       "      <th>3</th>\n",
       "      <td>PRT</td>\n",
       "      <td>LTINT</td>\n",
       "      <td>TOT</td>\n",
       "      <td>PC_PA</td>\n",
       "      <td>A</td>\n",
       "      <td>1997</td>\n",
       "      <td>6.358333</td>\n",
       "      <td>NaN</td>\n",
       "    </tr>\n",
       "    <tr>\n",
       "      <th>4</th>\n",
       "      <td>PRT</td>\n",
       "      <td>LTINT</td>\n",
       "      <td>TOT</td>\n",
       "      <td>PC_PA</td>\n",
       "      <td>A</td>\n",
       "      <td>1998</td>\n",
       "      <td>4.877500</td>\n",
       "      <td>NaN</td>\n",
       "    </tr>\n",
       "    <tr>\n",
       "      <th>...</th>\n",
       "      <td>...</td>\n",
       "      <td>...</td>\n",
       "      <td>...</td>\n",
       "      <td>...</td>\n",
       "      <td>...</td>\n",
       "      <td>...</td>\n",
       "      <td>...</td>\n",
       "      <td>...</td>\n",
       "    </tr>\n",
       "    <tr>\n",
       "      <th>27434</th>\n",
       "      <td>ROU</td>\n",
       "      <td>LTINT</td>\n",
       "      <td>TOT</td>\n",
       "      <td>PC_PA</td>\n",
       "      <td>M</td>\n",
       "      <td>2022-10</td>\n",
       "      <td>9.130000</td>\n",
       "      <td>NaN</td>\n",
       "    </tr>\n",
       "    <tr>\n",
       "      <th>27435</th>\n",
       "      <td>ROU</td>\n",
       "      <td>LTINT</td>\n",
       "      <td>TOT</td>\n",
       "      <td>PC_PA</td>\n",
       "      <td>M</td>\n",
       "      <td>2022-11</td>\n",
       "      <td>7.650000</td>\n",
       "      <td>NaN</td>\n",
       "    </tr>\n",
       "    <tr>\n",
       "      <th>27436</th>\n",
       "      <td>ROU</td>\n",
       "      <td>LTINT</td>\n",
       "      <td>TOT</td>\n",
       "      <td>PC_PA</td>\n",
       "      <td>M</td>\n",
       "      <td>2022-12</td>\n",
       "      <td>7.170000</td>\n",
       "      <td>NaN</td>\n",
       "    </tr>\n",
       "    <tr>\n",
       "      <th>27437</th>\n",
       "      <td>ROU</td>\n",
       "      <td>LTINT</td>\n",
       "      <td>TOT</td>\n",
       "      <td>PC_PA</td>\n",
       "      <td>M</td>\n",
       "      <td>2023-01</td>\n",
       "      <td>6.800000</td>\n",
       "      <td>NaN</td>\n",
       "    </tr>\n",
       "    <tr>\n",
       "      <th>27438</th>\n",
       "      <td>ROU</td>\n",
       "      <td>LTINT</td>\n",
       "      <td>TOT</td>\n",
       "      <td>PC_PA</td>\n",
       "      <td>M</td>\n",
       "      <td>2023-02</td>\n",
       "      <td>7.460000</td>\n",
       "      <td>NaN</td>\n",
       "    </tr>\n",
       "  </tbody>\n",
       "</table>\n",
       "<p>27439 rows × 8 columns</p>\n",
       "</div>"
      ],
      "text/plain": [
       "      LOCATION INDICATOR SUBJECT MEASURE FREQUENCY     TIME      Value  \\\n",
       "0          PRT     LTINT     TOT   PC_PA         A     1994  10.478330   \n",
       "1          PRT     LTINT     TOT   PC_PA         A     1995  11.465000   \n",
       "2          PRT     LTINT     TOT   PC_PA         A     1996   8.559167   \n",
       "3          PRT     LTINT     TOT   PC_PA         A     1997   6.358333   \n",
       "4          PRT     LTINT     TOT   PC_PA         A     1998   4.877500   \n",
       "...        ...       ...     ...     ...       ...      ...        ...   \n",
       "27434      ROU     LTINT     TOT   PC_PA         M  2022-10   9.130000   \n",
       "27435      ROU     LTINT     TOT   PC_PA         M  2022-11   7.650000   \n",
       "27436      ROU     LTINT     TOT   PC_PA         M  2022-12   7.170000   \n",
       "27437      ROU     LTINT     TOT   PC_PA         M  2023-01   6.800000   \n",
       "27438      ROU     LTINT     TOT   PC_PA         M  2023-02   7.460000   \n",
       "\n",
       "      Flag Codes  \n",
       "0            NaN  \n",
       "1            NaN  \n",
       "2            NaN  \n",
       "3            NaN  \n",
       "4            NaN  \n",
       "...          ...  \n",
       "27434        NaN  \n",
       "27435        NaN  \n",
       "27436        NaN  \n",
       "27437        NaN  \n",
       "27438        NaN  \n",
       "\n",
       "[27439 rows x 8 columns]"
      ]
     },
     "execution_count": 12,
     "metadata": {},
     "output_type": "execute_result"
    }
   ],
   "source": [
    "ir = pd.read_csv('../data/uncleaned/long_term_ir.csv')\n",
    "ir"
   ]
  },
  {
   "cell_type": "markdown",
   "id": "87ba077b",
   "metadata": {},
   "source": [
    "**This Dataset has about 27.5k records for 8 features**"
   ]
  },
  {
   "cell_type": "code",
   "execution_count": 13,
   "id": "4759ff5e",
   "metadata": {},
   "outputs": [
    {
     "name": "stdout",
     "output_type": "stream",
     "text": [
      "LOCATION False\n",
      "INDICATOR False\n",
      "SUBJECT False\n",
      "MEASURE False\n",
      "FREQUENCY False\n",
      "TIME False\n",
      "Value False\n",
      "Flag Codes True\n"
     ]
    }
   ],
   "source": [
    "for col in ir.keys():\n",
    "    ir[col]\n",
    "    print(col,ir[col].isnull().values.any())"
   ]
  },
  {
   "cell_type": "markdown",
   "id": "8e2de51f",
   "metadata": {},
   "source": [
    "**No feature except Flag Codes has null values**"
   ]
  },
  {
   "cell_type": "code",
   "execution_count": 14,
   "id": "30145226",
   "metadata": {},
   "outputs": [
    {
     "data": {
      "text/plain": [
       "LOCATION         47\n",
       "INDICATOR         1\n",
       "SUBJECT           1\n",
       "MEASURE           1\n",
       "FREQUENCY         3\n",
       "TIME           1187\n",
       "Value         13034\n",
       "Flag Codes        1\n",
       "dtype: int64"
      ]
     },
     "execution_count": 14,
     "metadata": {},
     "output_type": "execute_result"
    }
   ],
   "source": [
    "ir.nunique()"
   ]
  },
  {
   "cell_type": "code",
   "execution_count": 15,
   "id": "d211c22c",
   "metadata": {},
   "outputs": [
    {
     "data": {
      "text/plain": [
       "array(['A', 'M', 'Q'], dtype=object)"
      ]
     },
     "execution_count": 15,
     "metadata": {},
     "output_type": "execute_result"
    }
   ],
   "source": [
    "ir['FREQUENCY'].unique()"
   ]
  },
  {
   "cell_type": "markdown",
   "id": "a1ae1b7b",
   "metadata": {},
   "source": [
    "**Data is recorded for 3 frequencies -> ['A', 'Q', 'M']. We only take Annual (A) data.**"
   ]
  },
  {
   "cell_type": "code",
   "execution_count": 16,
   "id": "a092d953",
   "metadata": {},
   "outputs": [
    {
     "name": "stdout",
     "output_type": "stream",
     "text": [
      "(1587, 8)\n"
     ]
    }
   ],
   "source": [
    "ir = ir[(ir['FREQUENCY']=='A')]\n",
    "print(ir.shape)"
   ]
  },
  {
   "cell_type": "markdown",
   "id": "af965cec",
   "metadata": {},
   "source": [
    "**After filtering for Annual occuring data, 1587 records are left.**"
   ]
  },
  {
   "cell_type": "code",
   "execution_count": 17,
   "id": "66e04c2f",
   "metadata": {},
   "outputs": [
    {
     "data": {
      "text/html": [
       "<div>\n",
       "<style scoped>\n",
       "    .dataframe tbody tr th:only-of-type {\n",
       "        vertical-align: middle;\n",
       "    }\n",
       "\n",
       "    .dataframe tbody tr th {\n",
       "        vertical-align: top;\n",
       "    }\n",
       "\n",
       "    .dataframe thead th {\n",
       "        text-align: right;\n",
       "    }\n",
       "</style>\n",
       "<table border=\"1\" class=\"dataframe\">\n",
       "  <thead>\n",
       "    <tr style=\"text-align: right;\">\n",
       "      <th></th>\n",
       "      <th>LOCATION</th>\n",
       "      <th>INDICATOR</th>\n",
       "      <th>SUBJECT</th>\n",
       "      <th>MEASURE</th>\n",
       "      <th>FREQUENCY</th>\n",
       "      <th>TIME</th>\n",
       "      <th>Value</th>\n",
       "      <th>Flag Codes</th>\n",
       "    </tr>\n",
       "  </thead>\n",
       "  <tbody>\n",
       "    <tr>\n",
       "      <th>0</th>\n",
       "      <td>PRT</td>\n",
       "      <td>LTINT</td>\n",
       "      <td>TOT</td>\n",
       "      <td>PC_PA</td>\n",
       "      <td>A</td>\n",
       "      <td>1994</td>\n",
       "      <td>10.478330</td>\n",
       "      <td>NaN</td>\n",
       "    </tr>\n",
       "    <tr>\n",
       "      <th>1</th>\n",
       "      <td>PRT</td>\n",
       "      <td>LTINT</td>\n",
       "      <td>TOT</td>\n",
       "      <td>PC_PA</td>\n",
       "      <td>A</td>\n",
       "      <td>1995</td>\n",
       "      <td>11.465000</td>\n",
       "      <td>NaN</td>\n",
       "    </tr>\n",
       "    <tr>\n",
       "      <th>2</th>\n",
       "      <td>PRT</td>\n",
       "      <td>LTINT</td>\n",
       "      <td>TOT</td>\n",
       "      <td>PC_PA</td>\n",
       "      <td>A</td>\n",
       "      <td>1996</td>\n",
       "      <td>8.559167</td>\n",
       "      <td>NaN</td>\n",
       "    </tr>\n",
       "    <tr>\n",
       "      <th>3</th>\n",
       "      <td>PRT</td>\n",
       "      <td>LTINT</td>\n",
       "      <td>TOT</td>\n",
       "      <td>PC_PA</td>\n",
       "      <td>A</td>\n",
       "      <td>1997</td>\n",
       "      <td>6.358333</td>\n",
       "      <td>NaN</td>\n",
       "    </tr>\n",
       "    <tr>\n",
       "      <th>4</th>\n",
       "      <td>PRT</td>\n",
       "      <td>LTINT</td>\n",
       "      <td>TOT</td>\n",
       "      <td>PC_PA</td>\n",
       "      <td>A</td>\n",
       "      <td>1998</td>\n",
       "      <td>4.877500</td>\n",
       "      <td>NaN</td>\n",
       "    </tr>\n",
       "    <tr>\n",
       "      <th>...</th>\n",
       "      <td>...</td>\n",
       "      <td>...</td>\n",
       "      <td>...</td>\n",
       "      <td>...</td>\n",
       "      <td>...</td>\n",
       "      <td>...</td>\n",
       "      <td>...</td>\n",
       "      <td>...</td>\n",
       "    </tr>\n",
       "    <tr>\n",
       "      <th>26551</th>\n",
       "      <td>ROU</td>\n",
       "      <td>LTINT</td>\n",
       "      <td>TOT</td>\n",
       "      <td>PC_PA</td>\n",
       "      <td>A</td>\n",
       "      <td>2018</td>\n",
       "      <td>4.686666</td>\n",
       "      <td>NaN</td>\n",
       "    </tr>\n",
       "    <tr>\n",
       "      <th>26552</th>\n",
       "      <td>ROU</td>\n",
       "      <td>LTINT</td>\n",
       "      <td>TOT</td>\n",
       "      <td>PC_PA</td>\n",
       "      <td>A</td>\n",
       "      <td>2019</td>\n",
       "      <td>4.539166</td>\n",
       "      <td>NaN</td>\n",
       "    </tr>\n",
       "    <tr>\n",
       "      <th>26553</th>\n",
       "      <td>ROU</td>\n",
       "      <td>LTINT</td>\n",
       "      <td>TOT</td>\n",
       "      <td>PC_PA</td>\n",
       "      <td>A</td>\n",
       "      <td>2020</td>\n",
       "      <td>3.893333</td>\n",
       "      <td>NaN</td>\n",
       "    </tr>\n",
       "    <tr>\n",
       "      <th>26554</th>\n",
       "      <td>ROU</td>\n",
       "      <td>LTINT</td>\n",
       "      <td>TOT</td>\n",
       "      <td>PC_PA</td>\n",
       "      <td>A</td>\n",
       "      <td>2021</td>\n",
       "      <td>3.625000</td>\n",
       "      <td>NaN</td>\n",
       "    </tr>\n",
       "    <tr>\n",
       "      <th>26555</th>\n",
       "      <td>ROU</td>\n",
       "      <td>LTINT</td>\n",
       "      <td>TOT</td>\n",
       "      <td>PC_PA</td>\n",
       "      <td>A</td>\n",
       "      <td>2022</td>\n",
       "      <td>7.481667</td>\n",
       "      <td>NaN</td>\n",
       "    </tr>\n",
       "  </tbody>\n",
       "</table>\n",
       "<p>1587 rows × 8 columns</p>\n",
       "</div>"
      ],
      "text/plain": [
       "      LOCATION INDICATOR SUBJECT MEASURE FREQUENCY  TIME      Value Flag Codes\n",
       "0          PRT     LTINT     TOT   PC_PA         A  1994  10.478330        NaN\n",
       "1          PRT     LTINT     TOT   PC_PA         A  1995  11.465000        NaN\n",
       "2          PRT     LTINT     TOT   PC_PA         A  1996   8.559167        NaN\n",
       "3          PRT     LTINT     TOT   PC_PA         A  1997   6.358333        NaN\n",
       "4          PRT     LTINT     TOT   PC_PA         A  1998   4.877500        NaN\n",
       "...        ...       ...     ...     ...       ...   ...        ...        ...\n",
       "26551      ROU     LTINT     TOT   PC_PA         A  2018   4.686666        NaN\n",
       "26552      ROU     LTINT     TOT   PC_PA         A  2019   4.539166        NaN\n",
       "26553      ROU     LTINT     TOT   PC_PA         A  2020   3.893333        NaN\n",
       "26554      ROU     LTINT     TOT   PC_PA         A  2021   3.625000        NaN\n",
       "26555      ROU     LTINT     TOT   PC_PA         A  2022   7.481667        NaN\n",
       "\n",
       "[1587 rows x 8 columns]"
      ]
     },
     "execution_count": 17,
     "metadata": {},
     "output_type": "execute_result"
    }
   ],
   "source": [
    "ir"
   ]
  },
  {
   "cell_type": "code",
   "execution_count": 18,
   "id": "ed8ab7dc",
   "metadata": {
    "scrolled": false
   },
   "outputs": [
    {
     "name": "stdout",
     "output_type": "stream",
     "text": [
      "AUS [1954, 1955, 1956, 1957, 1958, 1959, 1960, 1961, 1962, 1963, 1964, 1965, 1966, 1967, 1968, 1969]\n",
      "AUT [1954, 1955, 1956, 1957, 1958, 1959, 1960, 1961, 1962, 1963, 1964, 1965, 1966, 1967, 1968, 1969, 1970, 1971, 1972, 1973, 1974, 1975, 1976, 1977, 1978, 1979, 1980, 1981, 1982, 1983, 1984, 1985, 1986, 1987, 1988, 1989]\n",
      "BEL [1954]\n",
      "BGR [1954, 1955, 1956, 1957, 1958, 1959, 1960, 1961, 1962, 1963, 1964, 1965, 1966, 1967, 1968, 1969, 1970, 1971, 1972, 1973, 1974, 1975, 1976, 1977, 1978, 1979, 1980, 1981, 1982, 1983, 1984, 1985, 1986, 1987, 1988, 1989, 1990, 1991, 1992, 1993, 1994, 1995, 1996, 1997, 1998, 1999, 2000, 2001, 2002]\n",
      "BRA [1954, 1955, 1956, 1957, 1958, 1959, 1960, 1961, 1962, 1963, 1964, 1965, 1966, 1967, 1968, 1969, 1970, 1971, 1972, 1973, 1974, 1975, 1976, 1977, 1978, 1979, 1980, 1981, 1982, 1983, 1984, 1985, 1986, 1987, 1988, 1989, 1990, 1991, 1992, 1993, 1994]\n",
      "CAN [1954]\n",
      "CHE [1954]\n",
      "CHL [1954, 1955, 1956, 1957, 1958, 1959, 1960, 1961, 1962, 1963, 1964, 1965, 1966, 1967, 1968, 1969, 1970, 1971, 1972, 1973, 1974, 1975, 1976, 1977, 1978, 1979, 1980, 1981, 1982, 1983, 1984, 1985, 1986, 1987, 1988, 1989, 1990, 1991, 1992, 1993, 1994, 1995, 1996, 1997, 1998, 1999, 2000, 2001, 2002, 2003, 2004]\n",
      "CHN [1954, 1955, 1956, 1957, 1958, 1959, 1960, 1961, 1962, 1963, 1964, 1965, 1966, 1967, 1968, 1969, 1970, 1971, 1972, 1973, 1974, 1975, 1976, 1977, 1978, 1979, 1980, 1981, 1982, 1983, 1984, 1985, 1986, 1987, 1988, 1989, 1990, 1991, 1992, 1993, 1994, 1995, 1996, 1997, 1998, 1999, 2000, 2001, 2002, 2003, 2004, 2005, 2006, 2007, 2008, 2009, 2010, 2011, 2012, 2013]\n",
      "COL [1954, 1955, 1956, 1957, 1958, 1959, 1960, 1961, 1962, 1963, 1964, 1965, 1966, 1967, 1968, 1969, 1970, 1971, 1972, 1973, 1974, 1975, 1976, 1977, 1978, 1979, 1980, 1981, 1982, 1983, 1984, 1985, 1986, 1987, 1988, 1989, 1990, 1991, 1992, 1993, 1994, 1995, 1996, 1997, 1998, 1999, 2000, 2001, 2002]\n",
      "CRI [1954, 1955, 1956, 1957, 1958, 1959, 1960, 1961, 1962, 1963, 1964, 1965, 1966, 1967, 1968, 1969, 1970, 1971, 1972, 1973, 1974, 1975, 1976, 1977, 1978, 1979, 1980, 1981, 1982, 1983, 1984, 1985, 1986, 1987, 1988, 1989, 1990, 1991, 1992, 1993, 1994, 1995, 1996, 1997, 1998, 1999, 2000, 2001, 2002, 2003, 2004, 2005, 2006, 2007, 2008, 2009, 2010, 2011, 2012, 2013, 2020, 2021]\n",
      "CZE [1954, 1955, 1956, 1957, 1958, 1959, 1960, 1961, 1962, 1963, 1964, 1965, 1966, 1967, 1968, 1969, 1970, 1971, 1972, 1973, 1974, 1975, 1976, 1977, 1978, 1979, 1980, 1981, 1982, 1983, 1984, 1985, 1986, 1987, 1988, 1989, 1990, 1991, 1992, 1993, 1994, 1995, 1996, 1997, 1998, 1999, 2000]\n",
      "DEU [1954, 1955, 1956]\n",
      "DNK [1954, 1955, 1956, 1957, 1958, 1959, 1960, 1961, 1962, 1963, 1964, 1965, 1966, 1967, 1968, 1969, 1970, 1971, 1972, 1973, 1974, 1975, 1976, 1977, 1978, 1979, 1980, 1981, 1982, 1983, 1984, 1985, 1986]\n",
      "EA19 [1954, 1955, 1956, 1957, 1958, 1959, 1960, 1961, 1962, 1963, 1964, 1965, 1966, 1967, 1968, 1969]\n",
      "ESP [1954, 1955, 1956, 1957, 1958, 1959, 1960, 1961, 1962, 1963, 1964, 1965, 1966, 1967, 1968, 1969, 1970, 1971, 1972, 1973, 1974, 1975, 1976, 1977, 1978, 1979]\n",
      "EST [1954, 1955, 1956, 1957, 1958, 1959, 1960, 1961, 1962, 1963, 1964, 1965, 1966, 1967, 1968, 1969, 1970, 1971, 1972, 1973, 1974, 1975, 1976, 1977, 1978, 1979, 1980, 1981, 1982, 1983, 1984, 1985, 1986, 1987, 1988, 1989, 1990, 1991, 1992, 1993, 1994, 1995, 1996, 1997, 1998, 1999, 2000, 2001, 2002, 2003, 2004, 2005, 2006, 2007, 2008, 2009, 2010, 2011, 2012, 2013, 2014, 2015, 2016, 2017, 2018, 2019, 2020]\n",
      "FIN [1954, 1955, 1956, 1957, 1958, 1959, 1960, 1961, 1962, 1963, 1964, 1965, 1966, 1967, 1968, 1969, 1970, 1971, 1972, 1973, 1974, 1975, 1976, 1977, 1978, 1979, 1980, 1981, 1982, 1983, 1984, 1985, 1986, 1987]\n",
      "FRA [1954, 1955, 1956, 1957, 1958, 1959]\n",
      "GBR [1954, 1955, 1956, 1957, 1958, 1959]\n",
      "GRC [1954, 1955, 1956, 1957, 1958, 1959, 1960, 1961, 1962, 1963, 1964, 1965, 1966, 1967, 1968, 1969, 1970, 1971, 1972, 1973, 1974, 1975, 1976, 1977, 1978, 1979, 1980, 1981, 1982, 1983, 1984, 1985, 1986, 1987, 1988, 1989, 1990, 1991, 1992, 1993, 1994, 1995, 1996, 1997]\n",
      "HRV [1954, 1955, 1956, 1957, 1958, 1959, 1960, 1961, 1962, 1963, 1964, 1965, 1966, 1967, 1968, 1969, 1970, 1971, 1972, 1973, 1974, 1975, 1976, 1977, 1978, 1979, 1980, 1981, 1982, 1983, 1984, 1985, 1986, 1987, 1988, 1989, 1990, 1991, 1992, 1993, 1994, 1995, 1996, 1997, 1998, 1999, 2000, 2001, 2002, 2003, 2004, 2005]\n",
      "HUN [1954, 1955, 1956, 1957, 1958, 1959, 1960, 1961, 1962, 1963, 1964, 1965, 1966, 1967, 1968, 1969, 1970, 1971, 1972, 1973, 1974, 1975, 1976, 1977, 1978, 1979, 1980, 1981, 1982, 1983, 1984, 1985, 1986, 1987, 1988, 1989, 1990, 1991, 1992, 1993, 1994, 1995, 1996, 1997, 1998, 1999]\n",
      "IDN [1954, 1955, 1956, 1957, 1958, 1959, 1960, 1961, 1962, 1963, 1964, 1965, 1966, 1967, 1968, 1969, 1970, 1971, 1972, 1973, 1974, 1975, 1976, 1977, 1978, 1979, 1980, 1981, 1982, 1983, 1984, 1985, 1986, 1987, 1988, 1989, 1990, 1991, 1992, 1993, 1994, 1995, 1996, 1997, 1998, 1999, 2000, 2001, 2002, 2003, 2004, 2005, 2006, 2007, 2008, 2009, 2010, 2011]\n",
      "IND [1954, 1955, 1956, 1957, 1958, 1959, 1960, 1961, 1962, 1963, 1964, 1965, 1966, 1967, 1968, 1969, 1970, 1971, 1972, 1973, 1974, 1975, 1976, 1977, 1978, 1979, 1980, 1981, 1982, 1983, 1984, 1985, 1986, 1987, 1988, 1989, 1990, 1991, 1992, 1993, 1994, 1995, 1996, 1997, 1998, 1999, 2000, 2001, 2002, 2003, 2004, 2005, 2006, 2007, 2008, 2009, 2010, 2011]\n",
      "IRL [1954, 1955, 1956, 1957, 1958, 1959, 1960, 1961, 1962, 1963, 1964, 1965, 1966, 1967, 1968, 1969, 1970]\n",
      "ISL [1954, 1955, 1956, 1957, 1958, 1959, 1960, 1961, 1962, 1963, 1964, 1965, 1966, 1967, 1968, 1969, 1970, 1971, 1972, 1973, 1974, 1975, 1976, 1977, 1978, 1979, 1980, 1981, 1982, 1983, 1984, 1985, 1986, 1987, 1988, 1989, 1990, 1991, 1992, 1993]\n",
      "ISR [1954, 1955, 1956, 1957, 1958, 1959, 1960, 1961, 1962, 1963, 1964, 1965, 1966, 1967, 1968, 1969, 1970, 1971, 1972, 1973, 1974, 1975, 1976, 1977, 1978, 1979, 1980, 1981, 1982, 1983, 1984, 1985, 1986, 1987, 1988, 1989, 1990, 1991, 1992, 1993, 1994, 1995, 1996]\n",
      "ITA [1954, 1955, 1956, 1957, 1958, 1959, 1960, 1961, 1962, 1963, 1964, 1965, 1966, 1967, 1968, 1969, 1970, 1971, 1972, 1973, 1974, 1975, 1976, 1977, 1978, 1979, 1980, 1981, 1982, 1983, 1984, 1985, 1986, 1987, 1988, 1989, 1990, 1991]\n",
      "JPN [1954, 1955, 1956, 1957, 1958, 1959, 1960, 1961, 1962, 1963, 1964, 1965, 1966, 1967, 1968, 1969, 1970, 1971, 1972, 1973, 1974, 1975, 1976, 1977, 1978, 1979, 1980, 1981, 1982, 1983, 1984, 1985, 1986, 1987, 1988]\n",
      "KOR [1954, 1955, 1956, 1957, 1958, 1959, 1960, 1961, 1962, 1963, 1964, 1965, 1966, 1967, 1968, 1969, 1970, 1971, 1972, 1973, 1974, 1975, 1976, 1977, 1978, 1979, 1980, 1981, 1982, 1983, 1984, 1985, 1986, 1987, 1988, 1989, 1990, 1991, 1992, 1993, 1994, 1995, 1996, 1997, 1998, 1999, 2000]\n",
      "LTU [1954, 1955, 1956, 1957, 1958, 1959, 1960, 1961, 1962, 1963, 1964, 1965, 1966, 1967, 1968, 1969, 1970, 1971, 1972, 1973, 1974, 1975, 1976, 1977, 1978, 1979, 1980, 1981, 1982, 1983, 1984, 1985, 1986, 1987, 1988, 1989, 1990, 1991, 1992, 1993, 1994, 1995, 1996, 1997, 1998, 1999, 2000]\n",
      "LUX [1954, 1955, 1956, 1957, 1958, 1959, 1960, 1961, 1962, 1963, 1964, 1965, 1966, 1967, 1968, 1969, 1970, 1971, 1972, 1973, 1974, 1975, 1976, 1977, 1978, 1979, 1980, 1981, 1982, 1983, 1984, 1985, 1986, 1987, 1988, 1989, 1990, 1991, 1992, 1993]\n",
      "LVA [1954, 1955, 1956, 1957, 1958, 1959, 1960, 1961, 1962, 1963, 1964, 1965, 1966, 1967, 1968, 1969, 1970, 1971, 1972, 1973, 1974, 1975, 1976, 1977, 1978, 1979, 1980, 1981, 1982, 1983, 1984, 1985, 1986, 1987, 1988, 1989, 1990, 1991, 1992, 1993, 1994, 1995, 1996, 1997, 1998, 1999, 2000]\n",
      "MEX [1954, 1955, 1956, 1957, 1958, 1959, 1960, 1961, 1962, 1963, 1964, 1965, 1966, 1967, 1968, 1969, 1970, 1971, 1972, 1973, 1974, 1975, 1976, 1977, 1978, 1979, 1980, 1981, 1982, 1983, 1984, 1985, 1986, 1987, 1988, 1989, 1990, 1991, 1992, 1993, 1994, 1995, 1996, 1997, 1998, 1999, 2000, 2001, 2007, 2008, 2009, 2010, 2011, 2012, 2013, 2014, 2015, 2016, 2017, 2018, 2019, 2020, 2021]\n",
      "NLD [1954, 1955, 1956, 1957, 1958]\n",
      "NOR [1954, 1955, 1956, 1957, 1958, 1959, 1960, 1961, 1962, 1963, 1964, 1965, 1966, 1967, 1968, 1969, 1970, 1971, 1972, 1973, 1974, 1975, 1976, 1977, 1978, 1979, 1980, 1981, 1982, 1983, 1984]\n",
      "NZL [1954, 1955, 1956, 1957, 1958, 1959, 1960, 1961, 1962, 1963, 1964, 1965, 1966, 1967, 1968, 1969]\n",
      "POL [1954, 1955, 1956, 1957, 1958, 1959, 1960, 1961, 1962, 1963, 1964, 1965, 1966, 1967, 1968, 1969, 1970, 1971, 1972, 1973, 1974, 1975, 1976, 1977, 1978, 1979, 1980, 1981, 1982, 1983, 1984, 1985, 1986, 1987, 1988, 1989, 1990, 1991, 1992, 1993, 1994, 1995, 1996, 1997, 1998, 1999, 2000]\n",
      "PRT [1954, 1955, 1956, 1957, 1958, 1959, 1960, 1961, 1962, 1963, 1964, 1965, 1966, 1967, 1968, 1969, 1970, 1971, 1972, 1973, 1974, 1975, 1976, 1977, 1978, 1979, 1980, 1981, 1982, 1983, 1984, 1985, 1986, 1987, 1988, 1989, 1990, 1991, 1992, 1993]\n",
      "ROU [1954, 1955, 1956, 1957, 1958, 1959, 1960, 1961, 1962, 1963, 1964, 1965, 1966, 1967, 1968, 1969, 1970, 1971, 1972, 1973, 1974, 1975, 1976, 1977, 1978, 1979, 1980, 1981, 1982, 1983, 1984, 1985, 1986, 1987, 1988, 1989, 1990, 1991, 1992, 1993, 1994, 1995, 1996, 1997, 1998, 1999, 2000, 2001, 2002, 2003, 2004, 2005]\n",
      "RUS [1954, 1955, 1956, 1957, 1958, 1959, 1960, 1961, 1962, 1963, 1964, 1965, 1966, 1967, 1968, 1969, 1970, 1971, 1972, 1973, 1974, 1975, 1976, 1977, 1978, 1979, 1980, 1981, 1982, 1983, 1984, 1985, 1986, 1987, 1988, 1989, 1990, 1991, 1992, 1993, 1994, 1995, 1996, 1997, 1998, 2018, 2019, 2020, 2021]\n",
      "SVK [1954, 1955, 1956, 1957, 1958, 1959, 1960, 1961, 1962, 1963, 1964, 1965, 1966, 1967, 1968, 1969, 1970, 1971, 1972, 1973, 1974, 1975, 1976, 1977, 1978, 1979, 1980, 1981, 1982, 1983, 1984, 1985, 1986, 1987, 1988, 1989, 1990, 1991, 1992, 1993, 1994, 1995, 1996, 1997, 1998, 1999, 2000]\n",
      "SVN [1954, 1955, 1956, 1957, 1958, 1959, 1960, 1961, 1962, 1963, 1964, 1965, 1966, 1967, 1968, 1969, 1970, 1971, 1972, 1973, 1974, 1975, 1976, 1977, 1978, 1979, 1980, 1981, 1982, 1983, 1984, 1985, 1986, 1987, 1988, 1989, 1990, 1991, 1992, 1993, 1994, 1995, 1996, 1997, 1998, 1999, 2000, 2001, 2002]\n",
      "SWE [1954, 1955, 1956, 1957, 1958, 1959, 1960, 1961, 1962, 1963, 1964, 1965, 1966, 1967, 1968, 1969, 1970, 1971, 1972, 1973, 1974, 1975, 1976, 1977, 1978, 1979, 1980, 1981, 1982, 1983, 1984, 1985, 1986]\n",
      "ZAF [1954, 1955, 1956]\n"
     ]
    }
   ],
   "source": [
    "min_year = int(ir['TIME'].min())\n",
    "# int(group['time'].min())\n",
    "max_year = int(ir['TIME'].max())\n",
    "sorted_cont = ir['LOCATION'].unique()\n",
    "sorted_cont.sort()\n",
    "for cont in sorted_cont:\n",
    "    years = []\n",
    "    for y in range(min_year,max_year):\n",
    "        if (str(y) not in ir[ir['LOCATION']==cont]['TIME'].astype(\"string\").values):\n",
    "            years.append(y)\n",
    "    if len(years)!=0:\n",
    "        print(cont, years)"
   ]
  },
  {
   "cell_type": "markdown",
   "id": "15f9c9e4",
   "metadata": {},
   "source": [
    "**Above are all the years that each country is missing the data for. It'll help us in determining the countries and years to choose for our model**"
   ]
  },
  {
   "cell_type": "code",
   "execution_count": 19,
   "id": "ea7bb6d2",
   "metadata": {
    "collapsed": true
   },
   "outputs": [
    {
     "data": {
      "text/html": [
       "<div>\n",
       "<style scoped>\n",
       "    .dataframe tbody tr th:only-of-type {\n",
       "        vertical-align: middle;\n",
       "    }\n",
       "\n",
       "    .dataframe tbody tr th {\n",
       "        vertical-align: top;\n",
       "    }\n",
       "\n",
       "    .dataframe thead th {\n",
       "        text-align: right;\n",
       "    }\n",
       "</style>\n",
       "<table border=\"1\" class=\"dataframe\">\n",
       "  <thead>\n",
       "    <tr style=\"text-align: right;\">\n",
       "      <th></th>\n",
       "      <th>LOCATION</th>\n",
       "      <th>TIME</th>\n",
       "      <th>Value</th>\n",
       "    </tr>\n",
       "  </thead>\n",
       "  <tbody>\n",
       "    <tr>\n",
       "      <th>0</th>\n",
       "      <td>PRT</td>\n",
       "      <td>1994</td>\n",
       "      <td>10.478330</td>\n",
       "    </tr>\n",
       "    <tr>\n",
       "      <th>1</th>\n",
       "      <td>PRT</td>\n",
       "      <td>1995</td>\n",
       "      <td>11.465000</td>\n",
       "    </tr>\n",
       "    <tr>\n",
       "      <th>2</th>\n",
       "      <td>PRT</td>\n",
       "      <td>1996</td>\n",
       "      <td>8.559167</td>\n",
       "    </tr>\n",
       "    <tr>\n",
       "      <th>3</th>\n",
       "      <td>PRT</td>\n",
       "      <td>1997</td>\n",
       "      <td>6.358333</td>\n",
       "    </tr>\n",
       "    <tr>\n",
       "      <th>4</th>\n",
       "      <td>PRT</td>\n",
       "      <td>1998</td>\n",
       "      <td>4.877500</td>\n",
       "    </tr>\n",
       "    <tr>\n",
       "      <th>...</th>\n",
       "      <td>...</td>\n",
       "      <td>...</td>\n",
       "      <td>...</td>\n",
       "    </tr>\n",
       "    <tr>\n",
       "      <th>26551</th>\n",
       "      <td>ROU</td>\n",
       "      <td>2018</td>\n",
       "      <td>4.686666</td>\n",
       "    </tr>\n",
       "    <tr>\n",
       "      <th>26552</th>\n",
       "      <td>ROU</td>\n",
       "      <td>2019</td>\n",
       "      <td>4.539166</td>\n",
       "    </tr>\n",
       "    <tr>\n",
       "      <th>26553</th>\n",
       "      <td>ROU</td>\n",
       "      <td>2020</td>\n",
       "      <td>3.893333</td>\n",
       "    </tr>\n",
       "    <tr>\n",
       "      <th>26554</th>\n",
       "      <td>ROU</td>\n",
       "      <td>2021</td>\n",
       "      <td>3.625000</td>\n",
       "    </tr>\n",
       "    <tr>\n",
       "      <th>26555</th>\n",
       "      <td>ROU</td>\n",
       "      <td>2022</td>\n",
       "      <td>7.481667</td>\n",
       "    </tr>\n",
       "  </tbody>\n",
       "</table>\n",
       "<p>1587 rows × 3 columns</p>\n",
       "</div>"
      ],
      "text/plain": [
       "      LOCATION  TIME      Value\n",
       "0          PRT  1994  10.478330\n",
       "1          PRT  1995  11.465000\n",
       "2          PRT  1996   8.559167\n",
       "3          PRT  1997   6.358333\n",
       "4          PRT  1998   4.877500\n",
       "...        ...   ...        ...\n",
       "26551      ROU  2018   4.686666\n",
       "26552      ROU  2019   4.539166\n",
       "26553      ROU  2020   3.893333\n",
       "26554      ROU  2021   3.625000\n",
       "26555      ROU  2022   7.481667\n",
       "\n",
       "[1587 rows x 3 columns]"
      ]
     },
     "execution_count": 19,
     "metadata": {},
     "output_type": "execute_result"
    }
   ],
   "source": [
    "#Dropping superfluous columns\n",
    "ir = ir.drop(['INDICATOR','SUBJECT','MEASURE','FREQUENCY','Flag Codes'],axis=1,errors='ignore')\n",
    "ir"
   ]
  },
  {
   "cell_type": "code",
   "execution_count": 20,
   "id": "988c7be9",
   "metadata": {},
   "outputs": [
    {
     "data": {
      "text/plain": [
       "{'whiskers': [<matplotlib.lines.Line2D at 0x1461a0f40>,\n",
       "  <matplotlib.lines.Line2D at 0x1461ac220>],\n",
       " 'caps': [<matplotlib.lines.Line2D at 0x1461e8160>,\n",
       "  <matplotlib.lines.Line2D at 0x1461e8460>],\n",
       " 'boxes': [<matplotlib.lines.Line2D at 0x1461a0ca0>],\n",
       " 'medians': [<matplotlib.lines.Line2D at 0x1461e8700>],\n",
       " 'fliers': [<matplotlib.lines.Line2D at 0x1461e89a0>],\n",
       " 'means': []}"
      ]
     },
     "execution_count": 20,
     "metadata": {},
     "output_type": "execute_result"
    },
    {
     "data": {
      "image/png": "[encoded data removed]",
      "text/plain": [
       "<Figure size 640x480 with 1 Axes>"
      ]
     },
     "metadata": {},
     "output_type": "display_data"
    }
   ],
   "source": [
    "%matplotlib inline\n",
    "import matplotlib.pyplot as plt\n",
    "\n",
    "plt.boxplot(ir['Value'])"
   ]
  },
  {
   "attachments": {},
   "cell_type": "markdown",
   "id": "932856cd",
   "metadata": {},
   "source": [
    "**We see a few outliers according to the box plot here, but the interest rate tends to increase over the years and varies for countries. Becasue of temportal data in this case, we cannot remove the outliers.**"
   ]
  },
  {
   "cell_type": "code",
   "execution_count": 21,
   "id": "e4e7f324",
   "metadata": {},
   "outputs": [],
   "source": [
    "ir.to_csv('../data/temp/long_term_ir_cleaned.csv',index=False,mode='wb')"
   ]
  },
  {
   "cell_type": "markdown",
   "id": "63387cd9",
   "metadata": {},
   "source": [
    "# EDA"
   ]
  },
  {
   "cell_type": "markdown",
   "id": "bdb53a9a",
   "metadata": {},
   "source": [
    "### Statistical Measures of the feature:"
   ]
  },
  {
   "cell_type": "code",
   "execution_count": 22,
   "id": "dbcffe02",
   "metadata": {},
   "outputs": [
    {
     "data": {
      "text/html": [
       "<div>\n",
       "<style scoped>\n",
       "    .dataframe tbody tr th:only-of-type {\n",
       "        vertical-align: middle;\n",
       "    }\n",
       "\n",
       "    .dataframe tbody tr th {\n",
       "        vertical-align: top;\n",
       "    }\n",
       "\n",
       "    .dataframe thead th {\n",
       "        text-align: right;\n",
       "    }\n",
       "</style>\n",
       "<table border=\"1\" class=\"dataframe\">\n",
       "  <thead>\n",
       "    <tr style=\"text-align: right;\">\n",
       "      <th></th>\n",
       "      <th>Value</th>\n",
       "    </tr>\n",
       "  </thead>\n",
       "  <tbody>\n",
       "    <tr>\n",
       "      <th>count</th>\n",
       "      <td>1587.000000</td>\n",
       "    </tr>\n",
       "    <tr>\n",
       "      <th>mean</th>\n",
       "      <td>5.914268</td>\n",
       "    </tr>\n",
       "    <tr>\n",
       "      <th>std</th>\n",
       "      <td>4.318848</td>\n",
       "    </tr>\n",
       "    <tr>\n",
       "      <th>min</th>\n",
       "      <td>-0.523833</td>\n",
       "    </tr>\n",
       "    <tr>\n",
       "      <th>25%</th>\n",
       "      <td>3.317584</td>\n",
       "    </tr>\n",
       "    <tr>\n",
       "      <th>50%</th>\n",
       "      <td>5.308737</td>\n",
       "    </tr>\n",
       "    <tr>\n",
       "      <th>75%</th>\n",
       "      <td>8.075000</td>\n",
       "    </tr>\n",
       "    <tr>\n",
       "      <th>max</th>\n",
       "      <td>87.375830</td>\n",
       "    </tr>\n",
       "  </tbody>\n",
       "</table>\n",
       "</div>"
      ],
      "text/plain": [
       "             Value\n",
       "count  1587.000000\n",
       "mean      5.914268\n",
       "std       4.318848\n",
       "min      -0.523833\n",
       "25%       3.317584\n",
       "50%       5.308737\n",
       "75%       8.075000\n",
       "max      87.375830"
      ]
     },
     "execution_count": 22,
     "metadata": {},
     "output_type": "execute_result"
    }
   ],
   "source": [
    "ir.describe()"
   ]
  },
  {
   "cell_type": "markdown",
   "id": "969c7de0",
   "metadata": {},
   "source": [
    "### Data Types of the Columns:"
   ]
  },
  {
   "cell_type": "code",
   "execution_count": 23,
   "id": "25df665a",
   "metadata": {},
   "outputs": [
    {
     "name": "stdout",
     "output_type": "stream",
     "text": [
      "<class 'pandas.core.frame.DataFrame'>\n",
      "Int64Index: 1587 entries, 0 to 26555\n",
      "Data columns (total 3 columns):\n",
      " #   Column    Non-Null Count  Dtype  \n",
      "---  ------    --------------  -----  \n",
      " 0   LOCATION  1587 non-null   object \n",
      " 1   TIME      1587 non-null   object \n",
      " 2   Value     1587 non-null   float64\n",
      "dtypes: float64(1), object(2)\n",
      "memory usage: 49.6+ KB\n"
     ]
    }
   ],
   "source": [
    "ir.info()"
   ]
  },
  {
   "cell_type": "markdown",
   "id": "ebaa3ad5",
   "metadata": {},
   "source": [
    "### Number of rows:"
   ]
  },
  {
   "cell_type": "code",
   "execution_count": 24,
   "id": "7f093d76",
   "metadata": {},
   "outputs": [
    {
     "data": {
      "text/plain": [
       "1587"
      ]
     },
     "execution_count": 24,
     "metadata": {},
     "output_type": "execute_result"
    }
   ],
   "source": [
    "ir.shape[0]"
   ]
  },
  {
   "cell_type": "code",
   "execution_count": null,
   "id": "f761e6c1",
   "metadata": {},
   "outputs": [],
   "source": []
  }
 ],
 "metadata": {
  "kernelspec": {
   "display_name": "Python 3 (ipykernel)",
   "language": "python",
   "name": "python3"
  },
  "language_info": {
   "codemirror_mode": {
    "name": "ipython",
    "version": 3
   },
   "file_extension": ".py",
   "mimetype": "text/x-python",
   "name": "python",
   "nbconvert_exporter": "python",
   "pygments_lexer": "ipython3",
   "version": "3.9.16"
  }
 },
 "nbformat": 4,
 "nbformat_minor": 5
}
