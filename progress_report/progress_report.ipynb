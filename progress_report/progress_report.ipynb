{
 "cells": [
  {
   "cell_type": "markdown",
   "id": "335b6638",
   "metadata": {},
   "source": [
    "# Progress Report - Team Outliers\n",
    "\n",
    "## Project Title - Gross Domestic Product and Economic Status of Countries\n",
    "\n",
    "### Team Members - \n",
    "1. Advait Pai - apai21@uic.edu\n",
    "2. Divyasha Pahuja - dpahuj2@uic.edu\n",
    "3. Uday Nair - unair2@uic.edu\n",
    "4. Utsav Sharma - usharm4@uic.edu"
   ]
  },
  {
   "attachments": {},
   "cell_type": "markdown",
   "id": "766cf04d",
   "metadata": {},
   "source": [
    "## Any Changes\n",
    "\n",
    "1. For Hypothesis 1, we decided to drop 1 feature i.e. Government Spending (discussed below), because on collating it with other leading and lagging factors, it was leading to major data loss. So, we decided to drop the factor and test other factors for their importance in GDP calculation.\n",
    "\n",
    "2. In Hypothesis 3 and 4, we have decided to change our course to classification and clustering of countries according to their income group instead of their development status. This change was made because of a lack of the label dataset for Developed, Under-developed and Emerging economies. \n",
    "Also, on researching about classifying countries based on their economic status, we that a better indicator of a country's economic status is it's income group which can be identified from the country's Gross National Income (GNI). The GNI depends on the GDP of a country, hence allowing us to build on our Hypothesis 1."
   ]
  },
  {
   "cell_type": "markdown",
   "id": "91801770",
   "metadata": {},
   "source": [
    "## Data"
   ]
  },
  {
   "attachments": {},
   "cell_type": "markdown",
   "id": "9d9d1c61",
   "metadata": {},
   "source": [
    "We are using data from the Organisation for Economic Co-operation and Development (OECD) and World Bank for different countries to carry out our predictions. The csv data is freely available on the website, which we have programmatically fetched these datasets from the website. This is done using a `driver.ipynb` notebook, which downloads the files and places them in a folder called `/data`.\n",
    "These files are downloaded as CSVs from the website, and then are cleaned using the steps shown later in the document.\n",
    "\n",
    "Our data is split across a number of datasets:\n",
    "\n",
    "\n",
    "| Sr.no | Dataset | Description | Rows | Columns |\n",
    "|-------|---------|-------------|------|---------|\n",
    "| 1 | Share Prices | Share price indices are calculated from the prices of common shares of companies traded on national or foreign stock exchanges. | 35098 | 8 |\n",
    "| 2 | Consumer Price Index | Inflation measured by consumer price index (CPI) is defined as the change in the prices of a basket of goods and services that are typically purchased by specific groups of households.| 293811 | 8 |\n",
    "| 3 | Long Term Interest Rates | Long-term interest rates refer to government bonds maturing in ten years. Rates are mainly determined by the price charged by the lender, the risk from the borrower and the fall in the capital value. | 27365 | 8 |\n",
    "| 4 | Labour Force | The labour force, or currently active population, comprises all persons who fulfil the requirements for inclusion among the employed (civilian employment plus the armed forces) or the unemployed. | 33517 | 8 |\n",
    "| 5 | Exports and Imports | Defined as the transactions in goods and services between residents and non-residents. It is measured in million USD at 2015 constant prices. | 15922 | 8 |\n",
    "| 6 | Household Spending | Household spending is the amount of final consumption expenditure made by resident households to meet their everyday needs, such as food, clothing, housing (rent), energy, transport, health costs, leisure.​ | 8862 | 8\n",
    "| 7 | Government Spending | General government spending provides an indication of the size of government across countries. The large variation in this indicator highlights the variety of countries' approaches to delivering public goods and services and providing social protection, not necessarily differences in resources spent.​ | 10290 | 8 | \n",
    "| 8 | Tax Revenue | Tax revenue is defined as the revenues collected from taxes on income and profits, social security contributions, taxes levied on goods and services, payroll taxes, taxes on the ownership and transfer of property, and other tax. | 3549 | 8 |\n",
    "| 9 | Investment GFCF | Gross fixed capital formation (GFCF), also called \"investment\", is defined as the acquisition of produced assets (including purchases of second-hand assets), including the production of such assets by producers for their own use, minus disposals. | 24513 | 8 |\n",
    "| 10 | GDP | Gross domestic product (GDP) is the standard measure of the value added created through the production of goods and services in a country during a certain period. As such, it also measures the income earned from that production, or the total amount spent on final goods and services (less imports). | 5162 | 8 |\n",
    "| 11 | Economic Category | This dataset contains the labels for the economic status of a country, which we will be using to perform classification. | 239 | 37 |\n",
    "| 12 | Net Primary Income from Aborad | Net primary income includes the net labor income and net property and entrepreneurial income components of the SNA. Labor income covers compensation of employees paid to nonresident workers. Property and entrepreneurial income covers investment income from the ownership of foreign financial claims (interest, dividends, rent, etc.) and nonfinancial property income (patents, copyrights, etc.). | 266 | 63 |\n",
    "\n",
    "The datasets `Share Prices`, `Consumer Price Index`, `Long Term Interest Rates`, `Labour Force`, `Exports and Imports`, `Household Spending`, `Government Spending`, `Tax Revenue` and `Investment GFCF` are indicators for `GDP`. The data from these datasets will be used to predict our target value of `GDP`.\n",
    "\n",
    "The datatsets `GDP`,`Net Primary Income from Aborad ` are indicators of the GNI of a country, which helps us classify the the countries into Income Classes (`Economic Category`)."
   ]
  },
  {
   "attachments": {},
   "cell_type": "markdown",
   "id": "d8f7ffe7",
   "metadata": {},
   "source": [
    "## Research Questions\n",
    "\n",
    "1. Considering we predict the Gross Domestic Product(GDP) of countries by using leading and lagging factors such as inflation, household spending, trade, tax revenue, etc. from Organization for Economic Co-operation and Development(OECD) datasets, what factors are of more importance from these leading and lagging factors?\n",
    "2. Using the historical data of Gross Domestic Product(GDP) of countries, what will be the forecast of the GDP for 5 years for the top 10 countries?  \n",
    "3. Can the economic and social indicators of GDP be used to classify countries as per their income classes (Lower, Lower Middle, Upper Middle and High)?\n",
    "4. What are the optimal number of income groups to divide the countries into, based on the econmic and social indicators of GDP? Does the optimal number correlate with the current World Bank classifications?"
   ]
  },
  {
   "cell_type": "markdown",
   "id": "99e0d2ae",
   "metadata": {},
   "source": [
    "## Data Cleaning"
   ]
  },
  {
   "attachments": {},
   "cell_type": "markdown",
   "id": "06e266e4",
   "metadata": {},
   "source": [
    "### Step by Step Cleaning\n",
    "\n",
    "Below our the links to the individual notebooks cleaned:\n",
    "\n",
    "1. Advait Pai -\n",
    "<br> &nbsp; a) Inflation_CPI - https://github.com/advaitpai/CS418_Project-GDP/blob/main/cleaning/inflation_cpi_cleaning.ipynb\n",
    "<br> &nbsp; b) Share_Price - https://github.com/advaitpai/CS418_Project-GDP/blob/main/cleaning/share_prices_cleaning.ipynb\n",
    "<br> &nbsp; c) Economic Category (Income Group Labels) - https://github.com/advaitpai/CS418_Project-GDP/blob/main/cleaning/economic_category_cleaning.ipynb\n",
    "\n",
    "2. Divyasha Pahuja - \n",
    "<br> &nbsp; a) Labour Force - https://github.com/advaitpai/CS418_Project-GDP/blob/main/cleaning/Labour_Force_cleaning.ipynb\n",
    "<br> &nbsp; b) Long Term Interest Rate - https://github.com/advaitpai/CS418_Project-GDP/blob/main/cleaning/long_term_ir_cleaning.ipynb\n",
    "<br> &nbsp; c) Net foreign factor income - https://github.com/advaitpai/CS418_Project-GDP/blob/main/cleaning/foreign_income_cleaning.ipynb\n",
    "3. Uday Nair - \n",
    "4. Utsav Sharma\n",
    "<br> &nbsp; a) GDP_Yearly - https://github.com/advaitpai/CS418_Project-GDP/blob/main/cleaning/gdp_yearly_cleaning.ipynb\n",
    "<br> &nbsp; b) Government Spending - https://github.com/advaitpai/CS418_Project-GDP/blob/main/cleaning/government_spend_cleaning.ipynb\n",
    "<br> &nbsp; c) Investment GFCF - https://github.com/advaitpai/CS418_Project-GDP/blob/main/cleaning/investment_gfcf_cleaning.ipynb\n",
    "<br> &nbsp; d) Tax Revenue - https://github.com/advaitpai/CS418_Project-GDP/blob/main/cleaning/tax_revenue_cleaning.ipynb"
   ]
  },
  {
   "cell_type": "markdown",
   "id": "e6ca0b61",
   "metadata": {},
   "source": [
    "### GDP Yearly:\n",
    "\n",
    "To clean this dataset, we load the CSV file from the `data/uncleaned` directory, and check the head to ensure that it loads properly. The initial shape of the dataframe is `(5222,8)` \n",
    "\n",
    "Then, we check the unique values in the column `MEASURE`. This tells us that this column has the values `MLN_USD` and `USD_CAP`.\n",
    "We also check for the columns `FREQUENCY` and `SUBJECT`, where the unique values are `A` and `TOT` respectively.\n",
    "\n",
    "The column `Flag_Codes` is of no use to us, so we drop it. For `MEASURE`, we keep the values with `MLN_USD` only.\n",
    "\n",
    "Before we drop any columns, we need to check the number of unique values per column. From this, the columns `INDICATOR`,`SUBJECT`,`FREQUENCY` and `MEASURE` can be dropped now since they have only 1 value in them and do not add any information.\n",
    "\n",
    "Now, we can check the `null` values for all columns. The dataset that we have no `null` values, so we do not need to handle this.\n",
    "\n",
    "After our cleaning, the shape of a dataframe is `(2675,3)`, which is then exported to a .csv file and placed in the `data/temp` folder."
   ]
  },
  {
   "attachments": {},
   "cell_type": "markdown",
   "id": "9cb59bff",
   "metadata": {},
   "source": [
    "#### Original Data Sizes"
   ]
  },
  {
   "cell_type": "code",
   "execution_count": 1,
   "id": "4af49fff",
   "metadata": {},
   "outputs": [
    {
     "name": "stdout",
     "output_type": "stream",
     "text": [
      "Original Dataset Shapes:-\n",
      "\n",
      "Share Prices Shape: (35144, 8)\n",
      "Inflation CPI Spend Shape: (294281, 8)\n",
      "Long Term Interest Rates Shape: (27439, 8)\n",
      "Labour Force Shape: (33714, 8)\n",
      "Trade in Government Spend Shape: (16103, 8)\n",
      "Household Spend Shape: (8938, 8)\n",
      "Gov Spend Shape: (10466, 8)\n",
      "Tax Revenue Shape: (3549, 8)\n",
      "Investment GCFC Shape: (24597, 8)\n",
      "GDP Yearly Shape: (5222, 8)\n",
      "Foreign Income Shape: (16492, 3)\n",
      "GNI Yearly Shape: (7630, 3)\n"
     ]
    }
   ],
   "source": [
    "import pandas as pd\n",
    "base_path = '../data/uncleaned/'\n",
    "print('Original Dataset Shapes:-\\n')\n",
    "\n",
    "\n",
    "# 1. Share Prices Data\n",
    "df_sp_uc = pd.read_csv(base_path+'share_prices.csv')\n",
    "print(\"Share Prices Shape:\",df_sp_uc.shape)\n",
    "# 2. Inflation CPI Data\n",
    "df_cpi_uc = pd.read_csv(base_path+'inflation_cpi.csv')\n",
    "print(\"Inflation CPI Spend Shape:\",df_cpi_uc.shape)\n",
    "# 3. Long Term Interest Rates\n",
    "df_lti_uc = pd.read_csv(base_path+'long_term_ir.csv')\n",
    "print(\"Long Term Interest Rates Shape:\",df_lti_uc.shape)\n",
    "# 4. Labour Force Date\n",
    "df_lf_uc = pd.read_csv(base_path+'labour_force.csv')\n",
    "print(\"Labour Force Shape:\",df_lf_uc.shape)\n",
    "# 5. Trade in Government Spend Data\n",
    "df_exp_imp_uc = pd.read_csv(base_path+'trade_in_gs.csv')\n",
    "print(\"Trade in Government Spend Shape:\",df_exp_imp_uc.shape)\n",
    "# 6. Household Spend\n",
    "df_hspend_uc = pd.read_csv(base_path+'household_spend.csv')\n",
    "print(\"Household Spend Shape:\",df_hspend_uc.shape)\n",
    "# 7. Government Spending\n",
    "df_gspend_uc = pd.read_csv(base_path+'government_spend.csv')\n",
    "print(\"Gov Spend Shape:\",df_gspend_uc.shape)\n",
    "# 8. Tax Revenue\n",
    "df_tax_uc = pd.read_csv(base_path+'tax_revenue.csv')\n",
    "print(\"Tax Revenue Shape:\",df_tax_uc.shape)\n",
    "# 9. Investment GCFC\n",
    "df_gfcf_uc = pd.read_csv(base_path+'investment_gfcf.csv')\n",
    "print(\"Investment GCFC Shape:\",df_gfcf_uc.shape)\n",
    "# 10. GDP Yearly Data\n",
    "df_gdp_uc = pd.read_csv(base_path+'gdp_yearly.csv')\n",
    "print(\"GDP Yearly Shape:\",df_gdp_uc.shape)\n",
    "# 11. FDI Data\n",
    "# df_fdi_in_uc = pd.read_csv(base_path+'FDI_inflow.csv')\n",
    "df_fi_uc_shape = (266*62,3)\n",
    "print(\"Foreign Income Shape:\", df_fi_uc_shape)\n",
    "# df_fdi_out_uc = pd.read_csv(base_path+'foreign_income.csv')\n",
    "# 12. GNI Data\n",
    "# df_gni = pd.read_csv(base_path+'economic_category.csv')\n",
    "df_gni_uc_shape = (218*35,3)\n",
    "print(\"GNI Yearly Shape:\", df_gni_uc_shape)"
   ]
  },
  {
   "attachments": {},
   "cell_type": "markdown",
   "id": "fcbf72f4",
   "metadata": {},
   "source": [
    "#### Final Sizes"
   ]
  },
  {
   "cell_type": "code",
   "execution_count": 2,
   "id": "493baaed",
   "metadata": {},
   "outputs": [
    {
     "name": "stdout",
     "output_type": "stream",
     "text": [
      "Final Dataset Shapes:-\n",
      "\n",
      "Share Prices Shape: (2065, 3)\n",
      "Inflation CPI Spend Shape: (2840, 3)\n",
      "Long Term Interest Rates Shape: (1587, 3)\n",
      "Labour Force Shape: (1993, 3)\n",
      "Trade in Government Spend Shape: (2641, 3)\n",
      "Household Spend Shape: (1955, 3)\n",
      "Gov Spend Shape: (654, 3)\n",
      "Tax Revenue Shape: (1697, 3)\n",
      "Investment GCFC Shape: (2635, 3)\n",
      "GDP Yearly Shape: (2675, 3)\n",
      "Net Foreign Income Shape: (9063, 3)\n",
      "GNI Yearly Shape: (7161, 3)\n"
     ]
    }
   ],
   "source": [
    "import pandas as pd\n",
    "base_path = '../data/temp/'\n",
    "print('Final Dataset Shapes:-\\n')\n",
    "# 1. Share Prices Data\n",
    "df_sp = pd.read_csv(base_path+'share_prices_cleaned.csv')\n",
    "print(\"Share Prices Shape:\",df_sp.shape)\n",
    "# 2. Inflation CPI Data\n",
    "df_cpi = pd.read_csv(base_path+'inflation_cpi_cleaned.csv')\n",
    "print(\"Inflation CPI Spend Shape:\",df_cpi.shape)\n",
    "# 3. Long Term Interest Rates\n",
    "df_lti = pd.read_csv(base_path+'long_term_ir_cleaned.csv')\n",
    "print(\"Long Term Interest Rates Shape:\",df_lti.shape)\n",
    "# 4. Labour Force Date\n",
    "df_lf = pd.read_csv(base_path+'labour_force_cleaned.csv')\n",
    "print(\"Labour Force Shape:\",df_lf.shape)\n",
    "# 5. Trade in Government Spend Data\n",
    "df_exp_imp = pd.read_csv(base_path+'trade_in_gs_cleaned.csv')\n",
    "print(\"Trade in Government Spend Shape:\",df_exp_imp.shape)\n",
    "# 6. Household Spend\n",
    "df_hspend = pd.read_csv(base_path+'household_spend_cleaned.csv')\n",
    "print(\"Household Spend Shape:\",df_hspend.shape)\n",
    "# 7. Government Spending\n",
    "df_gspend = pd.read_csv(base_path+'government_spend_cleaned.csv')\n",
    "print(\"Gov Spend Shape:\",df_gspend.shape)\n",
    "# 8. Tax Revenue\n",
    "df_tax = pd.read_csv(base_path+'tax_revenue_cleaned.csv')\n",
    "print(\"Tax Revenue Shape:\",df_tax.shape)\n",
    "# 9. Investment GCFC\n",
    "df_gfcf = pd.read_csv(base_path+'investment_gfcf_cleaned.csv')\n",
    "print(\"Investment GCFC Shape:\",df_gfcf.shape)\n",
    "# 10. GDP Yearly Data\n",
    "df_gdp = pd.read_csv(base_path+'gdp_yearly_cleaned.csv')\n",
    "print(\"GDP Yearly Shape:\",df_gdp.shape)\n",
    "# 11. FDI Data\n",
    "df_fi = pd.read_csv(base_path+'foreign_income_cleaned.csv')\n",
    "print(\"Net Foreign Income Shape:\",df_fi.shape)\n",
    "# 12. GNI Data\n",
    "df_gni = pd.read_csv(base_path+'economic_category_cleaned.csv')\n",
    "print(\"GNI Yearly Shape:\",df_gni.shape)"
   ]
  },
  {
   "cell_type": "code",
   "execution_count": 3,
   "id": "54c31a99",
   "metadata": {},
   "outputs": [],
   "source": [
    "def DataLoss(uncl, cl):\n",
    "    x = uncl[0] - cl[0]\n",
    "    y = uncl[1] - cl[1]\n",
    "    return (x,y)"
   ]
  },
  {
   "cell_type": "markdown",
   "id": "0f9fc15f",
   "metadata": {},
   "source": [
    "### Data loss for each table"
   ]
  },
  {
   "cell_type": "code",
   "execution_count": 4,
   "id": "f3760669",
   "metadata": {},
   "outputs": [
    {
     "name": "stdout",
     "output_type": "stream",
     "text": [
      "Data loss for each table:-\n",
      "\n",
      "Share Prices Data Loss: (33079, 5)\n",
      "Inflation CPI Spend Data Loss: (291441, 5)\n",
      "Long Term Interest Rates Data Loss: (25852, 5)\n",
      "Labour Force Data Loss: (31721, 5)\n",
      "Trade in Government Spend Data Loss: (13462, 5)\n",
      "Household Spend Data Loss: (6983, 5)\n",
      "Gov Spend Data Loss: (9812, 5)\n",
      "Tax Revenue Data Loss: (1852, 5)\n",
      "Investment GCFC Data Loss: (21962, 5)\n",
      "GDP Yearly Data Loss: (2547, 5)\n",
      "Foreign Income Data Loss: (7429, 0)\n",
      "GNI Yearly Data Loss: (469, 0)\n"
     ]
    }
   ],
   "source": [
    "print(\"Data loss for each table:-\\n\")\n",
    "# 1. Share Prices Data\n",
    "print(\"Share Prices Data Loss:\",DataLoss(df_sp_uc.shape , df_sp.shape))\n",
    "# 2. Inflation CPI Data\n",
    "print(\"Inflation CPI Spend Data Loss:\",DataLoss(df_cpi_uc.shape , df_cpi.shape))\n",
    "# 3. Long Term Interest Rates\n",
    "print(\"Long Term Interest Rates Data Loss:\",DataLoss(df_lti_uc.shape , df_lti.shape))\n",
    "# 4. Labour Force Date\n",
    "print(\"Labour Force Data Loss:\", DataLoss(df_lf_uc.shape , df_lf.shape))\n",
    "# 5. Trade in Government Spend Data\n",
    "print(\"Trade in Government Spend Data Loss:\",DataLoss(df_exp_imp_uc.shape , df_exp_imp.shape))\n",
    "# 6. Household Spend\n",
    "print(\"Household Spend Data Loss:\",DataLoss(df_hspend_uc.shape , df_hspend.shape))\n",
    "# 7. Government Spending\n",
    "print(\"Gov Spend Data Loss:\",DataLoss(df_gspend_uc.shape , df_gspend.shape))\n",
    "# 8. Tax Revenue\n",
    "print(\"Tax Revenue Data Loss:\",DataLoss(df_tax_uc.shape , df_tax.shape))\n",
    "# 9. Investment GCFC\n",
    "print(\"Investment GCFC Data Loss:\",DataLoss(df_gfcf_uc.shape , df_gfcf.shape))\n",
    "# 10. GDP Yearly Data\n",
    "print(\"GDP Yearly Data Loss:\",DataLoss(df_gdp_uc.shape ,  df_gdp.shape))\n",
    "# 11. FDI Data\n",
    "print(\"Foreign Income Data Loss:\", DataLoss(df_fi_uc_shape , df_fi.shape))\n",
    "# 12. GNI Data\n",
    "print(\"GNI Yearly Data Loss:\", DataLoss(df_gni_uc_shape , df_gni.shape))"
   ]
  },
  {
   "cell_type": "markdown",
   "id": "9755f693",
   "metadata": {},
   "source": [
    "### Discussion on Data Loss\n",
    "\n",
    "Most of the data loss that occurs between the raw dataset that we found from the online resources and the cleaned dataset that we created individually is due to us selecting particular parameters for ['MEASURE','SUBJECT','FREQUENCY']. In all of the datasets, we have chosen 'SUBJECT' == 'TOT', 'FREQUENCY' == 'A' and 'MEASURE' depends on the quantative value from each dataset we are trying to extract.\n",
    "\n",
    "For the last two datasets, the data loss occurs due to existence on NaN values."
   ]
  },
  {
   "cell_type": "code",
   "execution_count": 5,
   "id": "5f794064",
   "metadata": {},
   "outputs": [],
   "source": [
    "## Renaming Columns\n",
    "\n",
    "df_sp = df_sp.rename(columns={'Value':'Share_Price'})\n",
    "df_cpi = df_cpi.rename(columns={'Value':'Inflation_CPI'})\n",
    "df_lti = df_lti.rename(columns={'Value':'LT_Interest'})\n",
    "df_lf = df_lf.rename(columns={'Value':'Labor_Force'})\n",
    "df_exp_imp = df_exp_imp.rename(columns={'NTRVAL':'Trade_Goverment'})\n",
    "df_hspend = df_hspend.rename(columns={'Value':'H_Spend'})\n",
    "df_gspend = df_gspend.rename(columns={'Value':'G_Spend'})\n",
    "df_tax = df_tax.rename(columns={'Value':'Tax'})\n",
    "df_gfcf = df_gfcf.rename(columns={'Value':'Investment'})\n",
    "df_gdp = df_gdp.rename(columns={'Value':'GDP'})\n",
    "df_gni = df_gni.rename(columns={'Value':'GNI'})\n",
    "df_fi = df_fi.rename(columns={'Value':'Foreign_Income'})"
   ]
  },
  {
   "cell_type": "code",
   "execution_count": 6,
   "id": "b36f3183",
   "metadata": {},
   "outputs": [
    {
     "data": {
      "text/html": [
       "<div>\n",
       "<style scoped>\n",
       "    .dataframe tbody tr th:only-of-type {\n",
       "        vertical-align: middle;\n",
       "    }\n",
       "\n",
       "    .dataframe tbody tr th {\n",
       "        vertical-align: top;\n",
       "    }\n",
       "\n",
       "    .dataframe thead th {\n",
       "        text-align: right;\n",
       "    }\n",
       "</style>\n",
       "<table border=\"1\" class=\"dataframe\">\n",
       "  <thead>\n",
       "    <tr style=\"text-align: right;\">\n",
       "      <th></th>\n",
       "      <th>LOCATION</th>\n",
       "      <th>TIME</th>\n",
       "      <th>Share_Price</th>\n",
       "    </tr>\n",
       "  </thead>\n",
       "  <tbody>\n",
       "    <tr>\n",
       "      <th>0</th>\n",
       "      <td>AUS</td>\n",
       "      <td>1958</td>\n",
       "      <td>2.613002</td>\n",
       "    </tr>\n",
       "    <tr>\n",
       "      <th>1</th>\n",
       "      <td>AUS</td>\n",
       "      <td>1959</td>\n",
       "      <td>3.256618</td>\n",
       "    </tr>\n",
       "    <tr>\n",
       "      <th>2</th>\n",
       "      <td>AUS</td>\n",
       "      <td>1960</td>\n",
       "      <td>3.966841</td>\n",
       "    </tr>\n",
       "    <tr>\n",
       "      <th>3</th>\n",
       "      <td>AUS</td>\n",
       "      <td>1961</td>\n",
       "      <td>3.653984</td>\n",
       "    </tr>\n",
       "    <tr>\n",
       "      <th>4</th>\n",
       "      <td>AUS</td>\n",
       "      <td>1962</td>\n",
       "      <td>3.678260</td>\n",
       "    </tr>\n",
       "  </tbody>\n",
       "</table>\n",
       "</div>"
      ],
      "text/plain": [
       "  LOCATION  TIME  Share_Price\n",
       "0      AUS  1958     2.613002\n",
       "1      AUS  1959     3.256618\n",
       "2      AUS  1960     3.966841\n",
       "3      AUS  1961     3.653984\n",
       "4      AUS  1962     3.678260"
      ]
     },
     "execution_count": 6,
     "metadata": {},
     "output_type": "execute_result"
    }
   ],
   "source": [
    "df_sp.head()"
   ]
  },
  {
   "cell_type": "code",
   "execution_count": 7,
   "id": "bbbd9904",
   "metadata": {},
   "outputs": [
    {
     "data": {
      "text/html": [
       "<div>\n",
       "<style scoped>\n",
       "    .dataframe tbody tr th:only-of-type {\n",
       "        vertical-align: middle;\n",
       "    }\n",
       "\n",
       "    .dataframe tbody tr th {\n",
       "        vertical-align: top;\n",
       "    }\n",
       "\n",
       "    .dataframe thead th {\n",
       "        text-align: right;\n",
       "    }\n",
       "</style>\n",
       "<table border=\"1\" class=\"dataframe\">\n",
       "  <thead>\n",
       "    <tr style=\"text-align: right;\">\n",
       "      <th></th>\n",
       "      <th>LOCATION</th>\n",
       "      <th>TIME</th>\n",
       "      <th>Inflation_CPI</th>\n",
       "    </tr>\n",
       "  </thead>\n",
       "  <tbody>\n",
       "    <tr>\n",
       "      <th>0</th>\n",
       "      <td>AUS</td>\n",
       "      <td>1949</td>\n",
       "      <td>3.738101</td>\n",
       "    </tr>\n",
       "    <tr>\n",
       "      <th>1</th>\n",
       "      <td>AUS</td>\n",
       "      <td>1950</td>\n",
       "      <td>4.063153</td>\n",
       "    </tr>\n",
       "    <tr>\n",
       "      <th>2</th>\n",
       "      <td>AUS</td>\n",
       "      <td>1951</td>\n",
       "      <td>4.852566</td>\n",
       "    </tr>\n",
       "    <tr>\n",
       "      <th>3</th>\n",
       "      <td>AUS</td>\n",
       "      <td>1952</td>\n",
       "      <td>5.688414</td>\n",
       "    </tr>\n",
       "    <tr>\n",
       "      <th>4</th>\n",
       "      <td>AUS</td>\n",
       "      <td>1953</td>\n",
       "      <td>5.943812</td>\n",
       "    </tr>\n",
       "  </tbody>\n",
       "</table>\n",
       "</div>"
      ],
      "text/plain": [
       "  LOCATION  TIME  Inflation_CPI\n",
       "0      AUS  1949       3.738101\n",
       "1      AUS  1950       4.063153\n",
       "2      AUS  1951       4.852566\n",
       "3      AUS  1952       5.688414\n",
       "4      AUS  1953       5.943812"
      ]
     },
     "execution_count": 7,
     "metadata": {},
     "output_type": "execute_result"
    }
   ],
   "source": [
    "df_cpi.head()"
   ]
  },
  {
   "cell_type": "code",
   "execution_count": 8,
   "id": "0d232974",
   "metadata": {},
   "outputs": [
    {
     "data": {
      "text/html": [
       "<div>\n",
       "<style scoped>\n",
       "    .dataframe tbody tr th:only-of-type {\n",
       "        vertical-align: middle;\n",
       "    }\n",
       "\n",
       "    .dataframe tbody tr th {\n",
       "        vertical-align: top;\n",
       "    }\n",
       "\n",
       "    .dataframe thead th {\n",
       "        text-align: right;\n",
       "    }\n",
       "</style>\n",
       "<table border=\"1\" class=\"dataframe\">\n",
       "  <thead>\n",
       "    <tr style=\"text-align: right;\">\n",
       "      <th></th>\n",
       "      <th>LOCATION</th>\n",
       "      <th>TIME</th>\n",
       "      <th>LT_Interest</th>\n",
       "    </tr>\n",
       "  </thead>\n",
       "  <tbody>\n",
       "    <tr>\n",
       "      <th>0</th>\n",
       "      <td>PRT</td>\n",
       "      <td>1994</td>\n",
       "      <td>10.478330</td>\n",
       "    </tr>\n",
       "    <tr>\n",
       "      <th>1</th>\n",
       "      <td>PRT</td>\n",
       "      <td>1995</td>\n",
       "      <td>11.465000</td>\n",
       "    </tr>\n",
       "    <tr>\n",
       "      <th>2</th>\n",
       "      <td>PRT</td>\n",
       "      <td>1996</td>\n",
       "      <td>8.559167</td>\n",
       "    </tr>\n",
       "    <tr>\n",
       "      <th>3</th>\n",
       "      <td>PRT</td>\n",
       "      <td>1997</td>\n",
       "      <td>6.358333</td>\n",
       "    </tr>\n",
       "    <tr>\n",
       "      <th>4</th>\n",
       "      <td>PRT</td>\n",
       "      <td>1998</td>\n",
       "      <td>4.877500</td>\n",
       "    </tr>\n",
       "  </tbody>\n",
       "</table>\n",
       "</div>"
      ],
      "text/plain": [
       "  LOCATION  TIME  LT_Interest\n",
       "0      PRT  1994    10.478330\n",
       "1      PRT  1995    11.465000\n",
       "2      PRT  1996     8.559167\n",
       "3      PRT  1997     6.358333\n",
       "4      PRT  1998     4.877500"
      ]
     },
     "execution_count": 8,
     "metadata": {},
     "output_type": "execute_result"
    }
   ],
   "source": [
    "df_lti.head()"
   ]
  },
  {
   "cell_type": "code",
   "execution_count": 9,
   "id": "84c6b11c",
   "metadata": {},
   "outputs": [
    {
     "data": {
      "text/html": [
       "<div>\n",
       "<style scoped>\n",
       "    .dataframe tbody tr th:only-of-type {\n",
       "        vertical-align: middle;\n",
       "    }\n",
       "\n",
       "    .dataframe tbody tr th {\n",
       "        vertical-align: top;\n",
       "    }\n",
       "\n",
       "    .dataframe thead th {\n",
       "        text-align: right;\n",
       "    }\n",
       "</style>\n",
       "<table border=\"1\" class=\"dataframe\">\n",
       "  <thead>\n",
       "    <tr style=\"text-align: right;\">\n",
       "      <th></th>\n",
       "      <th>LOCATION</th>\n",
       "      <th>TIME</th>\n",
       "      <th>Labor_Force</th>\n",
       "    </tr>\n",
       "  </thead>\n",
       "  <tbody>\n",
       "    <tr>\n",
       "      <th>0</th>\n",
       "      <td>MEX</td>\n",
       "      <td>2005</td>\n",
       "      <td>43631.50</td>\n",
       "    </tr>\n",
       "    <tr>\n",
       "      <th>1</th>\n",
       "      <td>MEX</td>\n",
       "      <td>2006</td>\n",
       "      <td>44982.52</td>\n",
       "    </tr>\n",
       "    <tr>\n",
       "      <th>2</th>\n",
       "      <td>MEX</td>\n",
       "      <td>2007</td>\n",
       "      <td>45904.54</td>\n",
       "    </tr>\n",
       "    <tr>\n",
       "      <th>3</th>\n",
       "      <td>MEX</td>\n",
       "      <td>2008</td>\n",
       "      <td>46769.21</td>\n",
       "    </tr>\n",
       "    <tr>\n",
       "      <th>4</th>\n",
       "      <td>MEX</td>\n",
       "      <td>2009</td>\n",
       "      <td>48018.36</td>\n",
       "    </tr>\n",
       "  </tbody>\n",
       "</table>\n",
       "</div>"
      ],
      "text/plain": [
       "  LOCATION  TIME  Labor_Force\n",
       "0      MEX  2005     43631.50\n",
       "1      MEX  2006     44982.52\n",
       "2      MEX  2007     45904.54\n",
       "3      MEX  2008     46769.21\n",
       "4      MEX  2009     48018.36"
      ]
     },
     "execution_count": 9,
     "metadata": {},
     "output_type": "execute_result"
    }
   ],
   "source": [
    "df_lf.head()"
   ]
  },
  {
   "cell_type": "code",
   "execution_count": 10,
   "id": "6fb8352b",
   "metadata": {},
   "outputs": [
    {
     "data": {
      "text/html": [
       "<div>\n",
       "<style scoped>\n",
       "    .dataframe tbody tr th:only-of-type {\n",
       "        vertical-align: middle;\n",
       "    }\n",
       "\n",
       "    .dataframe tbody tr th {\n",
       "        vertical-align: top;\n",
       "    }\n",
       "\n",
       "    .dataframe thead th {\n",
       "        text-align: right;\n",
       "    }\n",
       "</style>\n",
       "<table border=\"1\" class=\"dataframe\">\n",
       "  <thead>\n",
       "    <tr style=\"text-align: right;\">\n",
       "      <th></th>\n",
       "      <th>LOCATION</th>\n",
       "      <th>TIME</th>\n",
       "      <th>Trade_Goverment</th>\n",
       "    </tr>\n",
       "  </thead>\n",
       "  <tbody>\n",
       "    <tr>\n",
       "      <th>0</th>\n",
       "      <td>AUS</td>\n",
       "      <td>1959</td>\n",
       "      <td>1221.210</td>\n",
       "    </tr>\n",
       "    <tr>\n",
       "      <th>1</th>\n",
       "      <td>AUS</td>\n",
       "      <td>1960</td>\n",
       "      <td>467.848</td>\n",
       "    </tr>\n",
       "    <tr>\n",
       "      <th>2</th>\n",
       "      <td>AUS</td>\n",
       "      <td>1961</td>\n",
       "      <td>3915.866</td>\n",
       "    </tr>\n",
       "    <tr>\n",
       "      <th>3</th>\n",
       "      <td>AUS</td>\n",
       "      <td>1962</td>\n",
       "      <td>1787.544</td>\n",
       "    </tr>\n",
       "    <tr>\n",
       "      <th>4</th>\n",
       "      <td>AUS</td>\n",
       "      <td>1963</td>\n",
       "      <td>2725.988</td>\n",
       "    </tr>\n",
       "  </tbody>\n",
       "</table>\n",
       "</div>"
      ],
      "text/plain": [
       "  LOCATION  TIME  Trade_Goverment\n",
       "0      AUS  1959         1221.210\n",
       "1      AUS  1960          467.848\n",
       "2      AUS  1961         3915.866\n",
       "3      AUS  1962         1787.544\n",
       "4      AUS  1963         2725.988"
      ]
     },
     "execution_count": 10,
     "metadata": {},
     "output_type": "execute_result"
    }
   ],
   "source": [
    "df_exp_imp.head()"
   ]
  },
  {
   "cell_type": "code",
   "execution_count": 11,
   "id": "402fdbba",
   "metadata": {},
   "outputs": [
    {
     "data": {
      "text/html": [
       "<div>\n",
       "<style scoped>\n",
       "    .dataframe tbody tr th:only-of-type {\n",
       "        vertical-align: middle;\n",
       "    }\n",
       "\n",
       "    .dataframe tbody tr th {\n",
       "        vertical-align: top;\n",
       "    }\n",
       "\n",
       "    .dataframe thead th {\n",
       "        text-align: right;\n",
       "    }\n",
       "</style>\n",
       "<table border=\"1\" class=\"dataframe\">\n",
       "  <thead>\n",
       "    <tr style=\"text-align: right;\">\n",
       "      <th></th>\n",
       "      <th>LOCATION</th>\n",
       "      <th>TIME</th>\n",
       "      <th>H_Spend</th>\n",
       "    </tr>\n",
       "  </thead>\n",
       "  <tbody>\n",
       "    <tr>\n",
       "      <th>0</th>\n",
       "      <td>AUS</td>\n",
       "      <td>1970</td>\n",
       "      <td>30476.510257</td>\n",
       "    </tr>\n",
       "    <tr>\n",
       "      <th>1</th>\n",
       "      <td>AUS</td>\n",
       "      <td>1971</td>\n",
       "      <td>32799.844017</td>\n",
       "    </tr>\n",
       "    <tr>\n",
       "      <th>2</th>\n",
       "      <td>AUS</td>\n",
       "      <td>1972</td>\n",
       "      <td>35590.183565</td>\n",
       "    </tr>\n",
       "    <tr>\n",
       "      <th>3</th>\n",
       "      <td>AUS</td>\n",
       "      <td>1973</td>\n",
       "      <td>41114.456624</td>\n",
       "    </tr>\n",
       "    <tr>\n",
       "      <th>4</th>\n",
       "      <td>AUS</td>\n",
       "      <td>1974</td>\n",
       "      <td>48461.851872</td>\n",
       "    </tr>\n",
       "  </tbody>\n",
       "</table>\n",
       "</div>"
      ],
      "text/plain": [
       "  LOCATION  TIME       H_Spend\n",
       "0      AUS  1970  30476.510257\n",
       "1      AUS  1971  32799.844017\n",
       "2      AUS  1972  35590.183565\n",
       "3      AUS  1973  41114.456624\n",
       "4      AUS  1974  48461.851872"
      ]
     },
     "execution_count": 11,
     "metadata": {},
     "output_type": "execute_result"
    }
   ],
   "source": [
    "df_hspend.head()"
   ]
  },
  {
   "cell_type": "code",
   "execution_count": 12,
   "id": "a09691b3",
   "metadata": {},
   "outputs": [
    {
     "data": {
      "text/html": [
       "<div>\n",
       "<style scoped>\n",
       "    .dataframe tbody tr th:only-of-type {\n",
       "        vertical-align: middle;\n",
       "    }\n",
       "\n",
       "    .dataframe tbody tr th {\n",
       "        vertical-align: top;\n",
       "    }\n",
       "\n",
       "    .dataframe thead th {\n",
       "        text-align: right;\n",
       "    }\n",
       "</style>\n",
       "<table border=\"1\" class=\"dataframe\">\n",
       "  <thead>\n",
       "    <tr style=\"text-align: right;\">\n",
       "      <th></th>\n",
       "      <th>LOCATION</th>\n",
       "      <th>TIME</th>\n",
       "      <th>G_Spend</th>\n",
       "    </tr>\n",
       "  </thead>\n",
       "  <tbody>\n",
       "    <tr>\n",
       "      <th>0</th>\n",
       "      <td>AUS</td>\n",
       "      <td>2007</td>\n",
       "      <td>13737.93</td>\n",
       "    </tr>\n",
       "    <tr>\n",
       "      <th>1</th>\n",
       "      <td>AUS</td>\n",
       "      <td>2008</td>\n",
       "      <td>14835.57</td>\n",
       "    </tr>\n",
       "    <tr>\n",
       "      <th>2</th>\n",
       "      <td>AUS</td>\n",
       "      <td>2009</td>\n",
       "      <td>15963.85</td>\n",
       "    </tr>\n",
       "    <tr>\n",
       "      <th>3</th>\n",
       "      <td>AUS</td>\n",
       "      <td>2010</td>\n",
       "      <td>15802.56</td>\n",
       "    </tr>\n",
       "    <tr>\n",
       "      <th>4</th>\n",
       "      <td>AUS</td>\n",
       "      <td>2011</td>\n",
       "      <td>16535.76</td>\n",
       "    </tr>\n",
       "  </tbody>\n",
       "</table>\n",
       "</div>"
      ],
      "text/plain": [
       "  LOCATION  TIME   G_Spend\n",
       "0      AUS  2007  13737.93\n",
       "1      AUS  2008  14835.57\n",
       "2      AUS  2009  15963.85\n",
       "3      AUS  2010  15802.56\n",
       "4      AUS  2011  16535.76"
      ]
     },
     "execution_count": 12,
     "metadata": {},
     "output_type": "execute_result"
    }
   ],
   "source": [
    "df_gspend.head()"
   ]
  },
  {
   "cell_type": "code",
   "execution_count": 13,
   "id": "03625905",
   "metadata": {},
   "outputs": [
    {
     "data": {
      "text/html": [
       "<div>\n",
       "<style scoped>\n",
       "    .dataframe tbody tr th:only-of-type {\n",
       "        vertical-align: middle;\n",
       "    }\n",
       "\n",
       "    .dataframe tbody tr th {\n",
       "        vertical-align: top;\n",
       "    }\n",
       "\n",
       "    .dataframe thead th {\n",
       "        text-align: right;\n",
       "    }\n",
       "</style>\n",
       "<table border=\"1\" class=\"dataframe\">\n",
       "  <thead>\n",
       "    <tr style=\"text-align: right;\">\n",
       "      <th></th>\n",
       "      <th>LOCATION</th>\n",
       "      <th>TIME</th>\n",
       "      <th>Tax</th>\n",
       "    </tr>\n",
       "  </thead>\n",
       "  <tbody>\n",
       "    <tr>\n",
       "      <th>0</th>\n",
       "      <td>AUS</td>\n",
       "      <td>1965</td>\n",
       "      <td>5.608</td>\n",
       "    </tr>\n",
       "    <tr>\n",
       "      <th>1</th>\n",
       "      <td>AUS</td>\n",
       "      <td>1966</td>\n",
       "      <td>5.996</td>\n",
       "    </tr>\n",
       "    <tr>\n",
       "      <th>2</th>\n",
       "      <td>AUS</td>\n",
       "      <td>1967</td>\n",
       "      <td>6.631</td>\n",
       "    </tr>\n",
       "    <tr>\n",
       "      <th>3</th>\n",
       "      <td>AUS</td>\n",
       "      <td>1968</td>\n",
       "      <td>7.405</td>\n",
       "    </tr>\n",
       "    <tr>\n",
       "      <th>4</th>\n",
       "      <td>AUS</td>\n",
       "      <td>1969</td>\n",
       "      <td>8.488</td>\n",
       "    </tr>\n",
       "  </tbody>\n",
       "</table>\n",
       "</div>"
      ],
      "text/plain": [
       "  LOCATION  TIME    Tax\n",
       "0      AUS  1965  5.608\n",
       "1      AUS  1966  5.996\n",
       "2      AUS  1967  6.631\n",
       "3      AUS  1968  7.405\n",
       "4      AUS  1969  8.488"
      ]
     },
     "execution_count": 13,
     "metadata": {},
     "output_type": "execute_result"
    }
   ],
   "source": [
    "df_tax.head()"
   ]
  },
  {
   "cell_type": "code",
   "execution_count": 14,
   "id": "9c61c16f",
   "metadata": {},
   "outputs": [
    {
     "data": {
      "text/html": [
       "<div>\n",
       "<style scoped>\n",
       "    .dataframe tbody tr th:only-of-type {\n",
       "        vertical-align: middle;\n",
       "    }\n",
       "\n",
       "    .dataframe tbody tr th {\n",
       "        vertical-align: top;\n",
       "    }\n",
       "\n",
       "    .dataframe thead th {\n",
       "        text-align: right;\n",
       "    }\n",
       "</style>\n",
       "<table border=\"1\" class=\"dataframe\">\n",
       "  <thead>\n",
       "    <tr style=\"text-align: right;\">\n",
       "      <th></th>\n",
       "      <th>LOCATION</th>\n",
       "      <th>TIME</th>\n",
       "      <th>Investment</th>\n",
       "    </tr>\n",
       "  </thead>\n",
       "  <tbody>\n",
       "    <tr>\n",
       "      <th>0</th>\n",
       "      <td>AUS</td>\n",
       "      <td>1960</td>\n",
       "      <td>7594.023</td>\n",
       "    </tr>\n",
       "    <tr>\n",
       "      <th>1</th>\n",
       "      <td>AUS</td>\n",
       "      <td>1961</td>\n",
       "      <td>7555.709</td>\n",
       "    </tr>\n",
       "    <tr>\n",
       "      <th>2</th>\n",
       "      <td>AUS</td>\n",
       "      <td>1962</td>\n",
       "      <td>8263.204</td>\n",
       "    </tr>\n",
       "    <tr>\n",
       "      <th>3</th>\n",
       "      <td>AUS</td>\n",
       "      <td>1963</td>\n",
       "      <td>9144.787</td>\n",
       "    </tr>\n",
       "    <tr>\n",
       "      <th>4</th>\n",
       "      <td>AUS</td>\n",
       "      <td>1964</td>\n",
       "      <td>10182.874</td>\n",
       "    </tr>\n",
       "  </tbody>\n",
       "</table>\n",
       "</div>"
      ],
      "text/plain": [
       "  LOCATION  TIME  Investment\n",
       "0      AUS  1960    7594.023\n",
       "1      AUS  1961    7555.709\n",
       "2      AUS  1962    8263.204\n",
       "3      AUS  1963    9144.787\n",
       "4      AUS  1964   10182.874"
      ]
     },
     "execution_count": 14,
     "metadata": {},
     "output_type": "execute_result"
    }
   ],
   "source": [
    "df_gfcf.head()"
   ]
  },
  {
   "cell_type": "code",
   "execution_count": 15,
   "id": "7fd28379",
   "metadata": {},
   "outputs": [
    {
     "data": {
      "text/html": [
       "<div>\n",
       "<style scoped>\n",
       "    .dataframe tbody tr th:only-of-type {\n",
       "        vertical-align: middle;\n",
       "    }\n",
       "\n",
       "    .dataframe tbody tr th {\n",
       "        vertical-align: top;\n",
       "    }\n",
       "\n",
       "    .dataframe thead th {\n",
       "        text-align: right;\n",
       "    }\n",
       "</style>\n",
       "<table border=\"1\" class=\"dataframe\">\n",
       "  <thead>\n",
       "    <tr style=\"text-align: right;\">\n",
       "      <th></th>\n",
       "      <th>LOCATION</th>\n",
       "      <th>TIME</th>\n",
       "      <th>GDP</th>\n",
       "    </tr>\n",
       "  </thead>\n",
       "  <tbody>\n",
       "    <tr>\n",
       "      <th>0</th>\n",
       "      <td>AUS</td>\n",
       "      <td>1960</td>\n",
       "      <td>25071.833</td>\n",
       "    </tr>\n",
       "    <tr>\n",
       "      <th>1</th>\n",
       "      <td>AUS</td>\n",
       "      <td>1961</td>\n",
       "      <td>25363.455</td>\n",
       "    </tr>\n",
       "    <tr>\n",
       "      <th>2</th>\n",
       "      <td>AUS</td>\n",
       "      <td>1962</td>\n",
       "      <td>27953.904</td>\n",
       "    </tr>\n",
       "    <tr>\n",
       "      <th>3</th>\n",
       "      <td>AUS</td>\n",
       "      <td>1963</td>\n",
       "      <td>30431.547</td>\n",
       "    </tr>\n",
       "    <tr>\n",
       "      <th>4</th>\n",
       "      <td>AUS</td>\n",
       "      <td>1964</td>\n",
       "      <td>32742.466</td>\n",
       "    </tr>\n",
       "  </tbody>\n",
       "</table>\n",
       "</div>"
      ],
      "text/plain": [
       "  LOCATION  TIME        GDP\n",
       "0      AUS  1960  25071.833\n",
       "1      AUS  1961  25363.455\n",
       "2      AUS  1962  27953.904\n",
       "3      AUS  1963  30431.547\n",
       "4      AUS  1964  32742.466"
      ]
     },
     "execution_count": 15,
     "metadata": {},
     "output_type": "execute_result"
    }
   ],
   "source": [
    "df_gdp.head()"
   ]
  },
  {
   "cell_type": "code",
   "execution_count": 16,
   "id": "953d927e",
   "metadata": {},
   "outputs": [
    {
     "data": {
      "text/html": [
       "<div>\n",
       "<style scoped>\n",
       "    .dataframe tbody tr th:only-of-type {\n",
       "        vertical-align: middle;\n",
       "    }\n",
       "\n",
       "    .dataframe tbody tr th {\n",
       "        vertical-align: top;\n",
       "    }\n",
       "\n",
       "    .dataframe thead th {\n",
       "        text-align: right;\n",
       "    }\n",
       "</style>\n",
       "<table border=\"1\" class=\"dataframe\">\n",
       "  <thead>\n",
       "    <tr style=\"text-align: right;\">\n",
       "      <th></th>\n",
       "      <th>LOCATION</th>\n",
       "      <th>TIME</th>\n",
       "      <th>GNI</th>\n",
       "    </tr>\n",
       "  </thead>\n",
       "  <tbody>\n",
       "    <tr>\n",
       "      <th>0</th>\n",
       "      <td>AFG</td>\n",
       "      <td>1987</td>\n",
       "      <td>L</td>\n",
       "    </tr>\n",
       "    <tr>\n",
       "      <th>1</th>\n",
       "      <td>DZA</td>\n",
       "      <td>1987</td>\n",
       "      <td>UM</td>\n",
       "    </tr>\n",
       "    <tr>\n",
       "      <th>2</th>\n",
       "      <td>ASM</td>\n",
       "      <td>1987</td>\n",
       "      <td>H</td>\n",
       "    </tr>\n",
       "    <tr>\n",
       "      <th>3</th>\n",
       "      <td>ATG</td>\n",
       "      <td>1987</td>\n",
       "      <td>UM</td>\n",
       "    </tr>\n",
       "    <tr>\n",
       "      <th>4</th>\n",
       "      <td>ARG</td>\n",
       "      <td>1987</td>\n",
       "      <td>UM</td>\n",
       "    </tr>\n",
       "  </tbody>\n",
       "</table>\n",
       "</div>"
      ],
      "text/plain": [
       "  LOCATION  TIME GNI\n",
       "0      AFG  1987   L\n",
       "1      DZA  1987  UM\n",
       "2      ASM  1987   H\n",
       "3      ATG  1987  UM\n",
       "4      ARG  1987  UM"
      ]
     },
     "execution_count": 16,
     "metadata": {},
     "output_type": "execute_result"
    }
   ],
   "source": [
    "df_gni = df_gni.dropna()\n",
    "df_gni.head()"
   ]
  },
  {
   "attachments": {},
   "cell_type": "markdown",
   "id": "123d2d94",
   "metadata": {},
   "source": [
    "### Dropping table of df_gspend\n",
    "\n",
    "While government spending is an important factor that contributes to the GDP of a country, the data that we have available is only from 2007 onwards for most countries.\n",
    "Because of this, the table has only 654 rows of data, and including this dataset in our project would result in massive data loss, leaving all our models with too little data to be accurate. As we can see below, including the government spending dataset results in a data loss of 3128 rows, and leaves us with just 491 records.\n",
    "Therefore, we have taken a decision to drop this dataset from this project and proceed with the other factors that we have."
   ]
  },
  {
   "cell_type": "code",
   "execution_count": 17,
   "id": "4436b24b",
   "metadata": {},
   "outputs": [
    {
     "name": "stdout",
     "output_type": "stream",
     "text": [
      "Shape of GDP Dataset Before Cleaning: (3619, 12)\n",
      "Shape of GDP Dataset After Cleaning: (491, 10)\n",
      "Data Loss: (3128, 2)\n"
     ]
    }
   ],
   "source": [
    "dfs = [df_lti,df_lf,df_exp_imp,df_hspend,df_tax,df_gspend,df_gfcf,df_gdp]\n",
    "df_temp_gdp = pd.merge(df_sp,df_cpi,how='outer',on=['LOCATION','TIME'])\n",
    "for d in dfs:\n",
    "    df_temp_gdp = pd.merge(df_temp_gdp,d,how='outer',on=['LOCATION','TIME'])\n",
    "df_gdp_temp_before = df_temp_gdp.shape\n",
    "print(\"Shape of GDP Dataset Before Cleaning:\",df_gdp_temp_before)\n",
    "df_temp_gdp = df_temp_gdp.dropna()\n",
    "# df_temp_gdp = df_temp_gdp.drop(columns=['LOCATION','TIME','H_Spend',\"Investment\",\"Trade_Goverment\"])\n",
    "df_temp_gdp = df_temp_gdp.drop(columns=['LOCATION','TIME']).reset_index(drop=True)\n",
    "print(\"Shape of GDP Dataset After Cleaning:\",df_temp_gdp.shape)\n",
    "print(\"Data Loss:\", DataLoss(df_gdp_temp_before, df_temp_gdp.shape))"
   ]
  },
  {
   "cell_type": "markdown",
   "id": "ab2b8010",
   "metadata": {},
   "source": [
    "## Exploratory Data Analysis & Visualisation of EDA"
   ]
  },
  {
   "cell_type": "code",
   "execution_count": 18,
   "id": "79747e3f",
   "metadata": {},
   "outputs": [],
   "source": [
    "import matplotlib.pyplot as plt\n",
    "import seaborn as sns"
   ]
  },
  {
   "cell_type": "markdown",
   "id": "d207e82b",
   "metadata": {},
   "source": [
    "### 1. GDP Dataset Regression Model"
   ]
  },
  {
   "attachments": {},
   "cell_type": "markdown",
   "id": "9566ac75",
   "metadata": {},
   "source": [
    "We now merge the datasets using an outer join on the columns `LOCATION` and `TIME`. Since each row would have year-wise data, and the features would change based on the year, the null values cannot be imputed using a mean along the columns of the dataset. We therefore drop the rows that have null values in them and analyze the data with the remaining rows."
   ]
  },
  {
   "cell_type": "code",
   "execution_count": 19,
   "id": "3c297c08",
   "metadata": {},
   "outputs": [
    {
     "name": "stdout",
     "output_type": "stream",
     "text": [
      "Shape of GDP Dataset Before Cleaning: (3603, 11)\n",
      "Columns of GDP: Index(['LOCATION', 'TIME', 'Share_Price', 'Inflation_CPI', 'LT_Interest',\n",
      "       'Labor_Force', 'Trade_Goverment', 'H_Spend', 'Tax', 'Investment',\n",
      "       'GDP'],\n",
      "      dtype='object')\n"
     ]
    }
   ],
   "source": [
    "dfs = [df_lti,df_lf,df_exp_imp,df_hspend,df_tax,df_gfcf,df_gdp]\n",
    "df_merge_gdp = pd.merge(df_sp,df_cpi,how='outer',on=['LOCATION','TIME'])\n",
    "for d in dfs:\n",
    "    df_merge_gdp = pd.merge(df_merge_gdp,d,how='outer',on=['LOCATION','TIME'])\n",
    "df_gdp_shape_before = df_merge_gdp.shape\n",
    "print(\"Shape of GDP Dataset Before Cleaning:\",df_gdp_shape_before)\n",
    "print('Columns of GDP:',df_merge_gdp.columns)\n"
   ]
  },
  {
   "cell_type": "code",
   "execution_count": 20,
   "id": "7a714953",
   "metadata": {},
   "outputs": [
    {
     "name": "stdout",
     "output_type": "stream",
     "text": [
      "<class 'pandas.core.frame.DataFrame'>\n",
      "Int64Index: 3603 entries, 0 to 3602\n",
      "Data columns (total 11 columns):\n",
      " #   Column           Non-Null Count  Dtype  \n",
      "---  ------           --------------  -----  \n",
      " 0   LOCATION         3603 non-null   object \n",
      " 1   TIME             3603 non-null   int64  \n",
      " 2   Share_Price      2065 non-null   float64\n",
      " 3   Inflation_CPI    2840 non-null   float64\n",
      " 4   LT_Interest      1587 non-null   float64\n",
      " 5   Labor_Force      1993 non-null   float64\n",
      " 6   Trade_Goverment  2641 non-null   float64\n",
      " 7   H_Spend          1955 non-null   float64\n",
      " 8   Tax              1697 non-null   float64\n",
      " 9   Investment       2635 non-null   float64\n",
      " 10  GDP              2675 non-null   float64\n",
      "dtypes: float64(9), int64(1), object(1)\n",
      "memory usage: 337.8+ KB\n"
     ]
    }
   ],
   "source": [
    "## GDP Dataset Information before cleaning\n",
    "df_merge_gdp.info()"
   ]
  },
  {
   "cell_type": "code",
   "execution_count": 21,
   "id": "a6d73c34",
   "metadata": {},
   "outputs": [
    {
     "name": "stdout",
     "output_type": "stream",
     "text": [
      "Shape of the GDP Dataset after cleaning: (1065, 9)\n",
      "Data Loss: (2538, 2)\n"
     ]
    }
   ],
   "source": [
    "df_merge_gdp = df_merge_gdp.dropna()\n",
    "df_merge_gdp = df_merge_gdp.drop(columns=['LOCATION','TIME']).reset_index(drop=True)\n",
    "print('Shape of the GDP Dataset after cleaning:',df_merge_gdp.shape)\n",
    "print(\"Data Loss:\", DataLoss(df_gdp_shape_before, df_merge_gdp.shape))"
   ]
  },
  {
   "attachments": {},
   "cell_type": "markdown",
   "id": "8a95d57a",
   "metadata": {},
   "source": [
    "Here we see that there is a data loss of 2538 entries when we merge the tables, this happens due to NaN values obtained during an outer merge. We have no other alternative but to drop these values as we cannot fill NaN values with mean of the respective columns. Replacing the NaN values with the mean would be incorrect as the data changes based on country and year, thus for any particular country and year the mean of the entire column (factor) is not the representative value. \n",
    "\n",
    "We build a histogram for each of the columns in the dataset to get a better understanding of the data. "
   ]
  },
  {
   "cell_type": "code",
   "execution_count": 22,
   "id": "feb83dc1",
   "metadata": {},
   "outputs": [
    {
     "data": {
      "image/png": "[encoded data removed]",
      "text/plain": [
       "<Figure size 1200x1200 with 9 Axes>"
      ]
     },
     "metadata": {},
     "output_type": "display_data"
    }
   ],
   "source": [
    "df_merge_gdp.hist(figsize=(12,12)) \n",
    "plt.show()"
   ]
  },
  {
   "attachments": {},
   "cell_type": "markdown",
   "id": "0d017983",
   "metadata": {},
   "source": [
    "We generate a histogram for each column in the dataset to see the distribution of the data.\n",
    "The y axis represents the number of observations of all countries in the dataset, and the x axis represents the bins for the value of the features.  \n",
    "\n",
    "The histograms above show us the distribution of `GDP` as well as other factors of countries. We observe that the distribution for most factors is skewed to the left which means that the values for most of the countries is concentrated in the lower range. Majority of our observations are in the lower spectrum and fewer countries have high values for any feature.   \n",
    "Two exceptions to this are the histograms for `Trade_Government` and `Inflation`.  \n",
    "* The histogram for `Trade_Government` shows that the distribution is skewed to the right which means that the values for most of the countries is concentrated in the higher range. Majority of our observations are in the higher spectrum and fewer countries have low values for this feature. This is because the trade by countries  is a negative value which means that governments are importing more than exporting.\n",
    "* The histogram for `Inflation` shows that the distribution is skewed to the right which means that the values for most of the countries is concentrated in the higher range. Majority of our observations are in the higher spectrum and fewer countries have low values for this feature. This is because the inflation rate is a positive value which means that the prices of goods and services are increasing.  "
   ]
  },
  {
   "cell_type": "code",
   "execution_count": 23,
   "id": "0efc1434",
   "metadata": {},
   "outputs": [
    {
     "data": {
      "text/html": [
       "<div>\n",
       "<style scoped>\n",
       "    .dataframe tbody tr th:only-of-type {\n",
       "        vertical-align: middle;\n",
       "    }\n",
       "\n",
       "    .dataframe tbody tr th {\n",
       "        vertical-align: top;\n",
       "    }\n",
       "\n",
       "    .dataframe thead th {\n",
       "        text-align: right;\n",
       "    }\n",
       "</style>\n",
       "<table border=\"1\" class=\"dataframe\">\n",
       "  <thead>\n",
       "    <tr style=\"text-align: right;\">\n",
       "      <th></th>\n",
       "      <th>Share_Price</th>\n",
       "      <th>Inflation_CPI</th>\n",
       "      <th>LT_Interest</th>\n",
       "      <th>Labor_Force</th>\n",
       "      <th>Trade_Goverment</th>\n",
       "      <th>H_Spend</th>\n",
       "      <th>Tax</th>\n",
       "      <th>Investment</th>\n",
       "      <th>GDP</th>\n",
       "    </tr>\n",
       "  </thead>\n",
       "  <tbody>\n",
       "    <tr>\n",
       "      <th>count</th>\n",
       "      <td>1065.000000</td>\n",
       "      <td>1065.000000</td>\n",
       "      <td>1065.000000</td>\n",
       "      <td>1065.000000</td>\n",
       "      <td>1065.000000</td>\n",
       "      <td>1.065000e+03</td>\n",
       "      <td>1065.000000</td>\n",
       "      <td>1.065000e+03</td>\n",
       "      <td>1.065000e+03</td>\n",
       "    </tr>\n",
       "    <tr>\n",
       "      <th>mean</th>\n",
       "      <td>78.145746</td>\n",
       "      <td>79.698521</td>\n",
       "      <td>5.430886</td>\n",
       "      <td>17982.273092</td>\n",
       "      <td>-1650.701272</td>\n",
       "      <td>6.674355e+05</td>\n",
       "      <td>356.503445</td>\n",
       "      <td>2.579701e+05</td>\n",
       "      <td>1.164511e+06</td>\n",
       "    </tr>\n",
       "    <tr>\n",
       "      <th>std</th>\n",
       "      <td>64.346393</td>\n",
       "      <td>23.822362</td>\n",
       "      <td>3.689449</td>\n",
       "      <td>29515.416510</td>\n",
       "      <td>95927.985079</td>\n",
       "      <td>1.665916e+06</td>\n",
       "      <td>677.455490</td>\n",
       "      <td>5.368084e+05</td>\n",
       "      <td>2.524961e+06</td>\n",
       "    </tr>\n",
       "    <tr>\n",
       "      <th>min</th>\n",
       "      <td>3.054441</td>\n",
       "      <td>6.700533</td>\n",
       "      <td>-0.523833</td>\n",
       "      <td>145.400000</td>\n",
       "      <td>-988060.724000</td>\n",
       "      <td>3.156788e+03</td>\n",
       "      <td>1.767000</td>\n",
       "      <td>1.118213e+03</td>\n",
       "      <td>6.268439e+03</td>\n",
       "    </tr>\n",
       "    <tr>\n",
       "      <th>25%</th>\n",
       "      <td>33.733540</td>\n",
       "      <td>66.444680</td>\n",
       "      <td>2.754167</td>\n",
       "      <td>2721.400000</td>\n",
       "      <td>-3546.129000</td>\n",
       "      <td>8.004702e+04</td>\n",
       "      <td>50.173000</td>\n",
       "      <td>3.543663e+04</td>\n",
       "      <td>1.647204e+05</td>\n",
       "    </tr>\n",
       "    <tr>\n",
       "      <th>50%</th>\n",
       "      <td>75.870530</td>\n",
       "      <td>84.038980</td>\n",
       "      <td>4.894242</td>\n",
       "      <td>5297.725000</td>\n",
       "      <td>4987.949000</td>\n",
       "      <td>1.741438e+05</td>\n",
       "      <td>115.411000</td>\n",
       "      <td>8.127168e+04</td>\n",
       "      <td>3.442944e+05</td>\n",
       "    </tr>\n",
       "    <tr>\n",
       "      <th>75%</th>\n",
       "      <td>101.283400</td>\n",
       "      <td>99.601300</td>\n",
       "      <td>7.611667</td>\n",
       "      <td>23348.500000</td>\n",
       "      <td>21292.141000</td>\n",
       "      <td>6.127016e+05</td>\n",
       "      <td>354.407000</td>\n",
       "      <td>2.483558e+05</td>\n",
       "      <td>1.143106e+06</td>\n",
       "    </tr>\n",
       "    <tr>\n",
       "      <th>max</th>\n",
       "      <td>657.822300</td>\n",
       "      <td>127.189200</td>\n",
       "      <td>22.497500</td>\n",
       "      <td>163538.700000</td>\n",
       "      <td>255017.100000</td>\n",
       "      <td>1.590258e+07</td>\n",
       "      <td>6112.256000</td>\n",
       "      <td>4.939579e+06</td>\n",
       "      <td>2.331508e+07</td>\n",
       "    </tr>\n",
       "  </tbody>\n",
       "</table>\n",
       "</div>"
      ],
      "text/plain": [
       "       Share_Price  Inflation_CPI  LT_Interest    Labor_Force  \\\n",
       "count  1065.000000    1065.000000  1065.000000    1065.000000   \n",
       "mean     78.145746      79.698521     5.430886   17982.273092   \n",
       "std      64.346393      23.822362     3.689449   29515.416510   \n",
       "min       3.054441       6.700533    -0.523833     145.400000   \n",
       "25%      33.733540      66.444680     2.754167    2721.400000   \n",
       "50%      75.870530      84.038980     4.894242    5297.725000   \n",
       "75%     101.283400      99.601300     7.611667   23348.500000   \n",
       "max     657.822300     127.189200    22.497500  163538.700000   \n",
       "\n",
       "       Trade_Goverment       H_Spend          Tax    Investment           GDP  \n",
       "count      1065.000000  1.065000e+03  1065.000000  1.065000e+03  1.065000e+03  \n",
       "mean      -1650.701272  6.674355e+05   356.503445  2.579701e+05  1.164511e+06  \n",
       "std       95927.985079  1.665916e+06   677.455490  5.368084e+05  2.524961e+06  \n",
       "min     -988060.724000  3.156788e+03     1.767000  1.118213e+03  6.268439e+03  \n",
       "25%       -3546.129000  8.004702e+04    50.173000  3.543663e+04  1.647204e+05  \n",
       "50%        4987.949000  1.741438e+05   115.411000  8.127168e+04  3.442944e+05  \n",
       "75%       21292.141000  6.127016e+05   354.407000  2.483558e+05  1.143106e+06  \n",
       "max      255017.100000  1.590258e+07  6112.256000  4.939579e+06  2.331508e+07  "
      ]
     },
     "execution_count": 23,
     "metadata": {},
     "output_type": "execute_result"
    }
   ],
   "source": [
    "## GDP Dataset Description after cleaning\n",
    "df_merge_gdp.describe()"
   ]
  },
  {
   "cell_type": "code",
   "execution_count": 24,
   "id": "098a23e5",
   "metadata": {},
   "outputs": [
    {
     "name": "stdout",
     "output_type": "stream",
     "text": [
      "<class 'pandas.core.frame.DataFrame'>\n",
      "RangeIndex: 1065 entries, 0 to 1064\n",
      "Data columns (total 9 columns):\n",
      " #   Column           Non-Null Count  Dtype  \n",
      "---  ------           --------------  -----  \n",
      " 0   Share_Price      1065 non-null   float64\n",
      " 1   Inflation_CPI    1065 non-null   float64\n",
      " 2   LT_Interest      1065 non-null   float64\n",
      " 3   Labor_Force      1065 non-null   float64\n",
      " 4   Trade_Goverment  1065 non-null   float64\n",
      " 5   H_Spend          1065 non-null   float64\n",
      " 6   Tax              1065 non-null   float64\n",
      " 7   Investment       1065 non-null   float64\n",
      " 8   GDP              1065 non-null   float64\n",
      "dtypes: float64(9)\n",
      "memory usage: 75.0 KB\n"
     ]
    }
   ],
   "source": [
    "## GDP Dataset Information after cleaning\n",
    "df_merge_gdp.info()"
   ]
  },
  {
   "attachments": {},
   "cell_type": "markdown",
   "id": "6690c550",
   "metadata": {},
   "source": [
    "On dropping the null values, we are left with 1065 rows of data. We then visualize this data using a heatmap to see the correlation between the features and the target variable. "
   ]
  },
  {
   "attachments": {},
   "cell_type": "markdown",
   "id": "e0fbdfc0",
   "metadata": {},
   "source": [
    "We visualize the data within the cleaned and merged dataset for GDP by using a correlation matrix for the same.\n",
    "The correlation matrix displays the correlation coefficients between every pair of variables in our dataset and tells us the direction of the linear relation between the 2 variables. We then use a heatmap to visualize the correlation matrix with color coding. The darker the color, the higher the correlation coefficient between the 2 variables. The lighter the color, the lower the correlation coefficient between the 2 variables."
   ]
  },
  {
   "cell_type": "code",
   "execution_count": 25,
   "id": "d106ccea",
   "metadata": {},
   "outputs": [
    {
     "data": {
      "text/plain": [
       "<Axes: >"
      ]
     },
     "execution_count": 25,
     "metadata": {},
     "output_type": "execute_result"
    },
    {
     "data": {
      "image/png": "[encoded data removed]",
      "text/plain": [
       "<Figure size 1200x1200 with 2 Axes>"
      ]
     },
     "metadata": {},
     "output_type": "display_data"
    }
   ],
   "source": [
    "# Correlation Matrix Visualization \n",
    "plt.figure(figsize=(12,12))\n",
    "#plot heat map\n",
    "sns.heatmap(df_merge_gdp.corr(), annot=True, cmap=sns.diverging_palette(20, 220, n=200))"
   ]
  },
  {
   "attachments": {},
   "cell_type": "markdown",
   "id": "206849e7",
   "metadata": {},
   "source": [
    "For our dataset we observe that the GDP of a country is highly correlated with the following factors:\n",
    "1. Household Spending\n",
    "2. Tax Revenue\n",
    "3. Investment GFCF\n",
    "4. Labour Force\n",
    "\n",
    "We also observe that the GDP of a country is highly negatively correlated with the Net Trade by the Government. \n",
    "All other factors have a correlation coefficient of lesser significance +0.5/-0.5 with the GDP of countries.\n",
    "\n"
   ]
  },
  {
   "cell_type": "markdown",
   "id": "2cf7c221",
   "metadata": {},
   "source": [
    "### 2. Time Series Analysis of GDP Data"
   ]
  },
  {
   "cell_type": "code",
   "execution_count": 26,
   "id": "fae32632",
   "metadata": {},
   "outputs": [
    {
     "name": "stdout",
     "output_type": "stream",
     "text": [
      "(522, 3)\n"
     ]
    },
    {
     "data": {
      "image/png": "[encoded data removed]",
      "text/plain": [
       "<Figure size 640x480 with 1 Axes>"
      ]
     },
     "metadata": {},
     "output_type": "display_data"
    }
   ],
   "source": [
    "df_gdp['LOCATION']= df_gdp['LOCATION'].astype('string')\n",
    "top10 = df_gdp[df_gdp['TIME']==2021].sort_values(by='GDP', ascending=False)\n",
    "top10 = top10[top10['LOCATION'].apply(lambda x: len(x) < 4)].reset_index(drop=True)\n",
    "top10 = top10[:10]\n",
    "df = df_gdp[df_gdp['LOCATION'].isin(top10['LOCATION'])].reset_index(drop=True)\n",
    "sns.lineplot(x='TIME', y='GDP', hue='LOCATION', data=df)\n",
    "plt.ticklabel_format(style='plain', axis='y')\n",
    "print(df.shape)"
   ]
  },
  {
   "attachments": {},
   "cell_type": "markdown",
   "id": "4a231764",
   "metadata": {},
   "source": [
    "For the above EDA, we take the top 10 countries by GDP for 2021 from the `df_gdp` dataframe.\n",
    "While we do have data from 2022 for a few countries, a lot of the other countries do not seem to have reported their GDP for 2022 to the OECD yet, which is why their data is not available for that year. Also, the dataset does not contain data for a few countries such as India and Brazil, which we know have high GDP, but have not reported their data to the OECD. Therefore, we are only working with the data that we have available.\n",
    "To do this, we first ensure that our `LOCATION` column is a string, and then take the rows where the `TIME` column is 2021. We sort these values in descending order of `GDP` and then take only those columns where the `LOCATION` column has 3 characters. This is because the dataset also contains GDP information for groups of countries which we do not need.\n",
    "\n",
    "We then take the top 10 results from this filtered dataset, and keep only those values in `df_gdp` whose `LOCATION` also exists in the `top10` dataframe.\n",
    "Finally, we create a plot of these top 10 countried to analyse the resulting plot that we get.\n",
    "\n",
    "From the chart, we can see that all the GDPs of the countries have an upward trend with respect to the years, with USA and China having the astronomical growth that we see. We can also see the effects of world event such as the recession of 2008 which causes a dip in the GDP of almost all countries except China, and the COVID-19 Pandemic of 2019 which also manifests as the drop in GDP that we see in that year.\n",
    "\n",
    "We can also see that on the low end, almost all countries have data available from 1970 onwards with the exception of Great Britain, which has data available from 1960. On the higher end of the years, a lot of the countries have data available till 2021, with only a few countries reporting data till 2022.\n",
    "Keeping the top 10 contries gives us 522 rows of data, which we can use along with other factors that we will include in our ARIMA model for answering hypothesis 2."
   ]
  },
  {
   "cell_type": "markdown",
   "id": "73d480d8",
   "metadata": {},
   "source": [
    "### 3. Gross Nation Income Label EDA"
   ]
  },
  {
   "cell_type": "markdown",
   "id": "a4f075fd",
   "metadata": {},
   "source": [
    "#### Bar Plot for country-wise distribution"
   ]
  },
  {
   "cell_type": "markdown",
   "id": "27177c6a",
   "metadata": {},
   "source": [
    "We now want to analyse the distribution of countries in their resepctive income groups over the years. We plot a histogram with a interval of 5 years to see how the data is modified. Now we will plot the yearwise count for ['H','UM','LM','L'] to further analyse the country."
   ]
  },
  {
   "cell_type": "code",
   "execution_count": 27,
   "id": "c16a05f8",
   "metadata": {},
   "outputs": [
    {
     "data": {
      "image/png": "[encoded data removed]",
      "text/plain": [
       "<Figure size 1200x500 with 1 Axes>"
      ]
     },
     "metadata": {},
     "output_type": "display_data"
    }
   ],
   "source": [
    "import numpy as np\n",
    "df_cat_counts = df_gni['TIME'].groupby([df_gni['TIME'],df_gni['GNI']]).agg('count')\n",
    "df_cat_counts = df_cat_counts.unstack(level=-1)\n",
    "df_cat_counts = df_cat_counts.reset_index()\n",
    "## Normalising the data on the sum\n",
    "df_cat_counts[['H','L','LM','UM']] = df_cat_counts[['H','L','LM','UM']].div(df_cat_counts[['H','L','LM','UM']].sum(axis=1), axis=0)\n",
    "min_y = min(df_cat_counts['TIME'].unique())\n",
    "max_y = max(df_cat_counts['TIME'].unique())\n",
    "df_plot = df_cat_counts.loc[df_cat_counts['TIME'].isin([x for x in range(max_y,min_y,-5)])]\n",
    "df_plot.plot(x=\"TIME\", y=[\"H\", \"L\",\"LM\",\"UM\"], kind=\"bar\",figsize=(12,5))\n",
    "\n",
    "plt.legend(loc='upper left')\n",
    "plt.xlabel('Year')\n",
    "plt.ylabel('Count')\n",
    "plt.show()"
   ]
  },
  {
   "cell_type": "markdown",
   "id": "eaf12511",
   "metadata": {},
   "source": [
    "#### Trend Analysis\n",
    "\n",
    "We do the trend analysis after normalising the data with the number of countries for which we have the data instead of using absolute values to plot the bar chart.\n",
    "\n",
    "1. High Income Group (H): From 1991 - 2021, we observe that the number of countries in the High Income group are continously increasing implying that the generally most countries are economically progressing.\n",
    "2. Upper - Middle Income Group (UM): From 1991 - 2016 we observe that trend is generally increasing, except in 2021 we see that some of the countries leave the UM group, but since the H group is increasing it means these most countries have moved from UM to H.\n",
    "3. Lower - Middle Income Group (LM): From 1991 - 2016, we observe a declining trend in the LM group, which correlates to the increase in the UM group as well. In 2021 we see that LM countries .\n",
    "4. Lower Income group (L): From 1991-2001, we observe a slight increase in the proportion in the number of low countries. This is not due to countries losing their GNI values, but because more countries begin to report their data between 1991-2001, this can be viewed in the economic_category_cleaning.ipynb notebook as well. Post 2001 we see a steady decline in the number of (L) countries which correlates to the increase in the the other categories "
   ]
  },
  {
   "cell_type": "code",
   "execution_count": 28,
   "id": "b10d975a",
   "metadata": {},
   "outputs": [
    {
     "name": "stdout",
     "output_type": "stream",
     "text": [
      "Shape of GNI Dataset Before Cleaning: (8829, 11)\n",
      "Shape of GNI Dataset: (943, 9)\n",
      "Data Loss: (7886, 2)\n"
     ]
    }
   ],
   "source": [
    "dfs = [df_lti,df_lf,df_exp_imp,df_hspend,df_tax,df_gfcf,df_gni]\n",
    "df_merge_gni_1 = pd.merge(df_sp,df_cpi,how='outer',on=['LOCATION','TIME'])\n",
    "for d in dfs:\n",
    "    df_merge_gni_1 = pd.merge(df_merge_gni_1,d,how='outer',on=['LOCATION','TIME'])\n",
    "df_gni_1_shape_before = df_merge_gni_1.shape\n",
    "print(\"Shape of GNI Dataset Before Cleaning:\",df_gni_1_shape_before)\n",
    "df_merge_gni_1 = df_merge_gni_1.dropna()\n",
    "# df_merge_gni_1 = df_merge_gni_1.drop(columns=['LOCATION','TIME','H_Spend',\"Investment\",\"Trade_Goverment\"])\n",
    "df_merge_gni_1 = df_merge_gni_1.drop(columns=['LOCATION','TIME']).reset_index(drop=True)\n",
    "print(\"Shape of GNI Dataset:\",df_merge_gni_1.shape)\n",
    "print(\"Data Loss:\", DataLoss(df_gni_1_shape_before, df_merge_gni_1.shape))\n",
    "# df_merge_gni_1.head()"
   ]
  },
  {
   "cell_type": "markdown",
   "id": "bf459239",
   "metadata": {},
   "source": [
    "#### Categorical Data Description"
   ]
  },
  {
   "cell_type": "code",
   "execution_count": 29,
   "id": "0ff8a2f2",
   "metadata": {},
   "outputs": [
    {
     "data": {
      "text/plain": [
       "H     881\n",
       "UM     61\n",
       "LM      1\n",
       "Name: GNI, dtype: int64"
      ]
     },
     "execution_count": 29,
     "metadata": {},
     "output_type": "execute_result"
    }
   ],
   "source": [
    "# Categorical Data Description\n",
    "df_merge_gni_1['GNI'].value_counts()"
   ]
  },
  {
   "cell_type": "markdown",
   "id": "e43e7fd3",
   "metadata": {},
   "source": [
    "The initial dataset of GNI consists of an 'L' label which is completely missing in the final dataset after merge and data is completely skewed. In the next section, we propose an alternative dataset consisting of only GDP's yearly values and Foreign Income as a dataset for Hypothesis 3 & Hypothesis 4"
   ]
  },
  {
   "cell_type": "markdown",
   "id": "f50d7f18",
   "metadata": {},
   "source": [
    "### 4. Optimal k for Clustering EDA"
   ]
  },
  {
   "cell_type": "markdown",
   "id": "f1192547",
   "metadata": {},
   "source": [
    "#### Creating an alternative dataset"
   ]
  },
  {
   "cell_type": "markdown",
   "id": "3b1ac5c7",
   "metadata": {},
   "source": [
    "This dataset is used creating only two features i.e. Foreign Income and GDP, instead of GDP's factors, and the label containing column is GNI. For Hypothesis 3, i.e. classification, this label column will be used for training and testing, while for Hypothesis 4, this column will be dropped for training. In Hypothesis 4, we use the label column to evaluate our clustering model."
   ]
  },
  {
   "cell_type": "code",
   "execution_count": 30,
   "id": "cef241e0",
   "metadata": {},
   "outputs": [
    {
     "name": "stdout",
     "output_type": "stream",
     "text": [
      "Shape of GNI Dataset Before Cleaning: (10288, 5)\n",
      "Shape of GNI Dataset: (1740, 3)\n",
      "Data Loss: (8548, 2)\n"
     ]
    },
    {
     "data": {
      "text/html": [
       "<div>\n",
       "<style scoped>\n",
       "    .dataframe tbody tr th:only-of-type {\n",
       "        vertical-align: middle;\n",
       "    }\n",
       "\n",
       "    .dataframe tbody tr th {\n",
       "        vertical-align: top;\n",
       "    }\n",
       "\n",
       "    .dataframe thead th {\n",
       "        text-align: right;\n",
       "    }\n",
       "</style>\n",
       "<table border=\"1\" class=\"dataframe\">\n",
       "  <thead>\n",
       "    <tr style=\"text-align: right;\">\n",
       "      <th></th>\n",
       "      <th>Foreign_Income</th>\n",
       "      <th>GDP</th>\n",
       "      <th>GNI</th>\n",
       "    </tr>\n",
       "  </thead>\n",
       "  <tbody>\n",
       "    <tr>\n",
       "      <th>0</th>\n",
       "      <td>-3.437004e+09</td>\n",
       "      <td>261085.322</td>\n",
       "      <td>H</td>\n",
       "    </tr>\n",
       "    <tr>\n",
       "      <th>1</th>\n",
       "      <td>-2.889965e+08</td>\n",
       "      <td>119629.722</td>\n",
       "      <td>H</td>\n",
       "    </tr>\n",
       "    <tr>\n",
       "      <th>2</th>\n",
       "      <td>8.760346e+08</td>\n",
       "      <td>149338.723</td>\n",
       "      <td>H</td>\n",
       "    </tr>\n",
       "    <tr>\n",
       "      <th>3</th>\n",
       "      <td>-1.335219e+10</td>\n",
       "      <td>469040.522</td>\n",
       "      <td>H</td>\n",
       "    </tr>\n",
       "    <tr>\n",
       "      <th>4</th>\n",
       "      <td>-1.751967e+09</td>\n",
       "      <td>45241.807</td>\n",
       "      <td>LM</td>\n",
       "    </tr>\n",
       "  </tbody>\n",
       "</table>\n",
       "</div>"
      ],
      "text/plain": [
       "   Foreign_Income         GDP GNI\n",
       "0   -3.437004e+09  261085.322   H\n",
       "1   -2.889965e+08  119629.722   H\n",
       "2    8.760346e+08  149338.723   H\n",
       "3   -1.335219e+10  469040.522   H\n",
       "4   -1.751967e+09   45241.807  LM"
      ]
     },
     "execution_count": 30,
     "metadata": {},
     "output_type": "execute_result"
    }
   ],
   "source": [
    "dfs = [df_fi,df_gdp,df_gni]\n",
    "# # df_merge_gni_2 = pd.merge(df_sp,df_cpi,how='outer',on=['LOCATION','TIME'])\n",
    "# for d in dfs:\n",
    "#     df_merge_gni_2 = pd.merge(df_merge_gni_2,d,how='outer',on=['LOCATION','TIME'])\n",
    "df_merge_gni_2 = pd.merge(df_fi,df_gdp,how='outer',on=['LOCATION','TIME'])\n",
    "df_merge_gni_2 = pd.merge(df_merge_gni_2,df_gni,how='outer',on=['LOCATION','TIME'])\n",
    "df_gni_2_shape_before = df_merge_gni_2.shape\n",
    "print(\"Shape of GNI Dataset Before Cleaning:\",df_gni_2_shape_before)\n",
    "df_merge_gni_2 = df_merge_gni_2.dropna()\n",
    "# df_merge_gni_2 = df_merge_gni_2.drop(columns=['LOCATION','TIME','H_Spend',\"Investment\",\"Trade_Goverment\"])\n",
    "df_merge_gni_2 = df_merge_gni_2.drop(columns=['LOCATION','TIME']).reset_index(drop=True)\n",
    "print(\"Shape of GNI Dataset:\",df_merge_gni_2.shape)\n",
    "print(\"Data Loss:\", DataLoss(df_gni_2_shape_before, df_merge_gni_2.shape))\n",
    "df_merge_gni_2.head()"
   ]
  },
  {
   "attachments": {},
   "cell_type": "markdown",
   "id": "f53e07a4",
   "metadata": {},
   "source": [
    "We will now see how many different labels (or clusters) can be seen on the new dataset of GNI"
   ]
  },
  {
   "cell_type": "code",
   "execution_count": 31,
   "id": "71e11ad8",
   "metadata": {},
   "outputs": [
    {
     "data": {
      "image/png": "[encoded data removed]",
      "text/plain": [
       "<Figure size 572.125x500 with 6 Axes>"
      ]
     },
     "metadata": {},
     "output_type": "display_data"
    }
   ],
   "source": [
    "sns.pairplot(df_merge_gni_2, hue='GNI')\n",
    "plt.show()"
   ]
  },
  {
   "attachments": {},
   "cell_type": "markdown",
   "id": "f92ad111",
   "metadata": {},
   "source": [
    "We can see 3 distinct labels - H, UM and L within the data. \n",
    "The density graph of the variables very less area for green i.e. the L class."
   ]
  },
  {
   "attachments": {},
   "cell_type": "markdown",
   "id": "c338612a",
   "metadata": {},
   "source": [
    "We will check how many records of each label is returned (using the GNI labels column appended), to verify this."
   ]
  },
  {
   "cell_type": "code",
   "execution_count": 32,
   "id": "4d23cebe",
   "metadata": {},
   "outputs": [
    {
     "data": {
      "text/plain": [
       "H     1054\n",
       "UM     390\n",
       "LM     222\n",
       "L       74\n",
       "Name: GNI, dtype: int64"
      ]
     },
     "execution_count": 32,
     "metadata": {},
     "output_type": "execute_result"
    }
   ],
   "source": [
    "# Categorical Data Description\n",
    "df_merge_gni_2['GNI'].value_counts()"
   ]
  },
  {
   "cell_type": "markdown",
   "id": "2f7ef90f",
   "metadata": {},
   "source": [
    "## Model Planning"
   ]
  },
  {
   "cell_type": "markdown",
   "id": "32afbbb3",
   "metadata": {},
   "source": [
    "### 1. Regression Models"
   ]
  },
  {
   "cell_type": "markdown",
   "id": "4d320b21",
   "metadata": {},
   "source": [
    "### 2. Time Series Analysis Models"
   ]
  },
  {
   "cell_type": "markdown",
   "id": "54b83d2d",
   "metadata": {},
   "source": [
    "### 3. Classification Models"
   ]
  },
  {
   "attachments": {},
   "cell_type": "markdown",
   "id": "dbfc79d4",
   "metadata": {},
   "source": [
    "### 4. Clustering Models\n",
    "\n",
    "For the Research Question 4, we are planning to use the following three models on the GNI dataset:\n",
    "\n",
    "1. 𝑘-Means\n",
    "2. DBSCAN\n",
    "3. Gaussian Mixture Model.\n",
    "\n",
    "These models are being used for our Hypothesis to put similar data into a group. These are all clustering algorithms that create smaller groups within the data for the records that are highly correlated to each other. The approach for clustering is simple: similar means that there is a short distance between objects in the feature space. There are different ways to measure distances, as any well-defined metric can be used.\n",
    "Thus, we just have objects and a clustering algorithm that determines groups of related objects as result. \n",
    "These algorithms will help us determine the appropriate number of Income groups that the data should be divided into.\n",
    "\n",
    "#### K-Means -\n",
    "\n",
    "**Pros:** \n",
    "1. It is the quickest algorithm of all three, as it is less complex\n",
    "2. It works well for large datasets.\n",
    "3. It reduces intra-cluster variance.\n",
    "\n",
    "**Cons:** \n",
    "1. 𝑘-Means is sensitive to the initial clusters.\n",
    "2. An unsuitable value of 𝑘 may lead to bad results.\n",
    "3. 𝑘-Means is only ideal for round clusters. E.g. Half Moons are not correctly clustered by K-Means.\n",
    "4. With 𝑘-Means, outliers cannot be identified.\n",
    "5. All features must have a similar range of values.\n",
    "\n",
    "\n",
    "#### Gaussian Mixture Model-\n",
    "\n",
    "**Pros:** \n",
    "1. Better than 𝑘-Means, GMM is robust to outliers.\n",
    "2. Provides BIC score, which is good for selecting parameters.\n",
    "\n",
    "**Cons:** \n",
    "1. The convergence is much slower than with 𝑘-Means. \n",
    "2. It is is also sensitive to the initialization.\n",
    "3. Just like K-Means, Shapes that are not ellipsoid usually cannot be clusters by GMM.\n",
    "\n",
    "#### DBSCAN-\n",
    "\n",
    "**Pros:** \n",
    "1. As opposed to 𝑘-Means, it is resistant to outliers.\n",
    "2. It can handle clusters of different shapes and sizes.\n",
    "3. Unlike 𝑘-Means, we don't have to specify the number of clusters.\n",
    "\n",
    "**Cons:** \n",
    "1. It is difficult to find good values for 𝜖 and 𝑚𝑖𝑛𝑃𝑡𝑠.\n",
    "2. It is highly sensitive to these 2 parameters - 𝜖 and 𝑚𝑖𝑛𝑃𝑡𝑠.\n",
    "3. Clusters may have different densities, and DBSCAN does not work well with large variances in densities."
   ]
  },
  {
   "cell_type": "markdown",
   "id": "63ea221d",
   "metadata": {},
   "source": [
    "## Reflection"
   ]
  },
  {
   "cell_type": "markdown",
   "id": "f8ee974e",
   "metadata": {},
   "source": [
    "### What is the hardest part of the project that you’ve encountered so far?\n",
    "\n",
    "The hardest part was creating the final datasets that would go into our models.\n",
    "Here are a few instances that we found:\n",
    "1. For our x independent variables for Hyp 1, we had to clean and collate seperate datasets for each of these into a single dataset. \n",
    "Each dataset had different measures, subjects, and frequency for each variable which required individual inspection and cleaning before collation.\n",
    "2. The predictors for GNI which will be used to classify the income group of the country, were unlcear and hard to find. Moreover, the historical dataset with labels assigned to income classes of all the countries for previous years was not easily available. Once we found it, we had to unpivot the dataset to make it suitable for our classification model."
   ]
  },
  {
   "attachments": {},
   "cell_type": "markdown",
   "id": "0acaca98",
   "metadata": {},
   "source": [
    "### What are your initial insights?\n",
    "\n",
    "1. Intially for hypothesis 3, we had planned to classify countries into their respective development status such as Developed, Under-developed and Emerging. After reserarching for data sources that would help us extract these labels per country per year, we realized that there is no solid dataset present for this and a better indicator of a countries economic status is it's income class which can be identified from the country's GNI. Hence we have changed the scope of Hyp3 to classifying countries into their respective income groups. This has a two fold benefit as we were able to build a dataset as well as find a direct correlation between GDP and GNI, where GNI is used to classify the countries into their income groups, hence strengthen our research.\n",
    "2. The Year range is different for each country and also varies in each feature, which on combining of datasets of all the features will leads to loss of all those samples that don't match. \n",
    "3. The Government Spending dataset did not have enough data for us to include it in our model. For most of the countires, the data was available going back till only 2007, which is insufficient for the model. Including this in our final dataframe would have resulted in too much data loss, which is why we are dropping this dataset.\n",
    "4. For Hypothesis 3, The lower income group has missing data on merging the GDP independent variables and GNI factors, which indicates that countries with incomes on the lower side have lesser resources to gather such data. Which validates why data is skewed toward high income category out of the four groups. "
   ]
  },
  {
   "cell_type": "markdown",
   "id": "b79c7560",
   "metadata": {},
   "source": [
    "### Are there any concrete results you can show at this point? If not, why not?"
   ]
  },
  {
   "cell_type": "markdown",
   "id": "174156d2",
   "metadata": {},
   "source": [
    "#### Hypothesis 1: "
   ]
  },
  {
   "cell_type": "code",
   "execution_count": 33,
   "id": "c94797d8",
   "metadata": {},
   "outputs": [
    {
     "name": "stdout",
     "output_type": "stream",
     "text": [
      "R^2_Score: 0.9981114038963094\n",
      "Mean Absolute Error: 26001.22811578123\n",
      "\n",
      "Feature Importances:\n",
      "\t Share_Price: 0.5441364742942831\n",
      "\t Inflation_CPI: 1.4068186636229303\n",
      "\t LT_Interest: 1.2097938638674077\n",
      "\t Labor_Force: 15.787803761899022\n",
      "\t Trade_Goverment: 8.176110399621143\n",
      "\t H_Spend: 30.590589213475937\n",
      "\t Tax: 17.58065495411976\n",
      "\t Investment: 24.704092669099524\n",
      "\n",
      "Sum: 1.0\n"
     ]
    }
   ],
   "source": [
    "from sklearn.ensemble import ExtraTreesRegressor\n",
    "from sklearn.model_selection import train_test_split\n",
    "from sklearn.preprocessing import MinMaxScaler\n",
    "from sklearn.metrics import r2_score,mean_absolute_error\n",
    "\n",
    "# Extra Trees Regressor Model\n",
    "model = ExtraTreesRegressor(random_state=236)\n",
    "X = df_merge_gdp.drop(columns=[\"GDP\"])\n",
    "Y = df_merge_gdp['GDP'].to_numpy()\n",
    "scaler = MinMaxScaler()\n",
    "X_norm = scaler.fit_transform(X)\n",
    "X_train,X_test,Y_train,Y_test = train_test_split(X_norm,Y,test_size=0.3,random_state=236)\n",
    "model.fit(X_train,Y_train)\n",
    "Y_pred = model.predict(X_test)\n",
    "\n",
    "# Model Metrics\n",
    "print(\"R^2_Score:\",r2_score(Y_test,Y_pred))\n",
    "print(\"Mean Absolute Error:\",mean_absolute_error(Y_test,Y_pred))\n",
    "\n",
    "#Feature Importances\n",
    "sum = 0\n",
    "print(\"\\nFeature Importances:\")\n",
    "for i in range(len(model.feature_importances_)):\n",
    "    print(\"\\t\",X.columns[i]+\":\",model.feature_importances_[i]*100)\n",
    "    sum+= model.feature_importances_[i]\n",
    "\n",
    "print(\"\\nSum:\",sum)"
   ]
  },
  {
   "cell_type": "markdown",
   "id": "d11b58f6",
   "metadata": {},
   "source": [
    "Currently our ExtraTreesRegressor is providing a 0.998 R^2 score for the test set data."
   ]
  },
  {
   "cell_type": "markdown",
   "id": "2e705866",
   "metadata": {},
   "source": [
    "#### Hypothesis 3:"
   ]
  },
  {
   "cell_type": "code",
   "execution_count": 34,
   "id": "ed17d62d",
   "metadata": {},
   "outputs": [
    {
     "name": "stdout",
     "output_type": "stream",
     "text": [
      "0.685823754789272\n",
      "[[260  18   6  44]\n",
      " [ 16  27   3  12]\n",
      " [  9   3   7   1]\n",
      " [ 36  14   2  64]]\n",
      "['H' 'LM' 'L' 'UM']\n"
     ]
    }
   ],
   "source": [
    "from sklearn.ensemble import ExtraTreesClassifier\n",
    "from sklearn.metrics import accuracy_score,confusion_matrix\n",
    "model = ExtraTreesClassifier()\n",
    "X = df_merge_gni_2.drop(columns=[\"GNI\"])\n",
    "Y = df_merge_gni_2['GNI'].to_numpy()\n",
    "scaler = MinMaxScaler()\n",
    "# X = X.iloc[:,:3]\n",
    "X_norm = scaler.fit_transform(X)\n",
    "X_train,X_test,Y_train,Y_test = train_test_split(X_norm,Y,test_size=0.3)\n",
    "model.fit(X_train,Y_train)\n",
    "Y_pred = model.predict(X_test)\n",
    "print(accuracy_score(Y_test,Y_pred))\n",
    "# print(confusion_matrix(Y_test,Y_pred))\n",
    "print(confusion_matrix(Y_test,Y_pred,labels=df_merge_gni_2['GNI'].unique()))\n",
    "print(df_merge_gni_2['GNI'].unique())\n"
   ]
  },
  {
   "cell_type": "markdown",
   "id": "6581c702",
   "metadata": {},
   "source": [
    "Using only two features, our classification model is only giving an accuracy score of approx. 70%. We offer a third potential model in the 'Next Steps' section."
   ]
  },
  {
   "attachments": {},
   "cell_type": "markdown",
   "id": "7548c992",
   "metadata": {},
   "source": [
    "### Hypothesis 4:"
   ]
  },
  {
   "cell_type": "code",
   "execution_count": 35,
   "id": "99dc9c58",
   "metadata": {},
   "outputs": [
    {
     "data": {
      "image/png": "[encoded data removed]",
      "text/plain": [
       "<Figure size 640x480 with 1 Axes>"
      ]
     },
     "metadata": {},
     "output_type": "display_data"
    }
   ],
   "source": [
    "from sklearn.cluster import KMeans\n",
    "k = range(1, 15)\n",
    "wss = [] \n",
    "for i in k: \n",
    "    kmeans = KMeans(n_clusters = i, init = 'k-means++', random_state = 1234,n_init=10)\n",
    "    kmeans.fit(df_merge_gni_2.iloc[:,:-1]) \n",
    "    y_kmeans = kmeans.predict(df_merge_gni_2.iloc[:,:-1])\n",
    "    centers = kmeans.cluster_centers_\n",
    "    wss.append(kmeans.inertia_ )\n",
    "# Visualize\n",
    "plt.plot(k,wss)\n",
    "plt.xlabel('Number of Clusters')\n",
    "plt.ylabel('WSS')\n",
    "plt.title('Elbow Curve')\n",
    "plt.show()"
   ]
  },
  {
   "cell_type": "markdown",
   "id": "bb3e629e",
   "metadata": {},
   "source": [
    "After fitting a preliminary K-Means clustering model on the two features selected, we get the optimum number of clusters as 6"
   ]
  },
  {
   "cell_type": "markdown",
   "id": "1213883a",
   "metadata": {},
   "source": [
    "### Going forward, what are the current biggest problems you’re facing?\n",
    "\n",
    "1. Elaborating on what was mentioned in the inital insight, after merging of the datasets of all the features of GDP (on Country and Year), data loss is seen. Moving ahead, this will pose a problem for our Regression model for GDP, as the model will have less data to train on. \n",
    "2. Furthermore, on merging the GNI factors(FDI inflow and outflow) with all the GDP indepdent variables, the number of samples returned are low and significant skew in the labels in the dataset is also seen."
   ]
  },
  {
   "cell_type": "markdown",
   "id": "82824ae6",
   "metadata": {},
   "source": [
    "### Do you think you are on track with your project? If not, what parts do you need to dedicate more time to?\n",
    "\n",
    "Currently, the project is on schedule as it was projected. "
   ]
  },
  {
   "cell_type": "markdown",
   "id": "c6cae265",
   "metadata": {},
   "source": [
    "### Given your initial exploration of the data, is it worth proceeding with your project, and why? If not, how are you going to change your project and why do you think it’s better than your current results?\n",
    "\n",
    "After data gathering, cleaning, EDA and model results we feel that the project is worth proceeding. \n",
    "But as highlighted in the previous reflections, we have redirected our project and research question a little according to the insights from the inital exploration of our Hypothesis. \n",
    "We changed course and are now predicting the income classes each country for Hypothesis 3 instead of Development status."
   ]
  },
  {
   "cell_type": "markdown",
   "id": "1790f407",
   "metadata": {},
   "source": [
    "## Next Steps"
   ]
  },
  {
   "attachments": {},
   "cell_type": "markdown",
   "id": "0d80a0e4",
   "metadata": {},
   "source": [
    "### What do you plan to accomplish in the next month and how do you plan to evaluate whether your project achieved the goals you set for it?\n",
    "\n",
    "As discussed before, we have built preliminary models for Hyp 1 and 3. We will try a few more models and compare the models to choose the best working model based on the evaluation metrics. \n",
    "Out of the models specified for the Time series Analysis we will choose the appropriate model for our Hypothesis. We can also create the model for each and analyse on the basis of the reported results.\n",
    "After concluding on the technique, we will build the final model for Hypothesis 2 and 4.\n",
    "For clustering in Hypothesis 4, we will settle on best value of clusters using the Elbow method.\n",
    "\n",
    "For Hyp 1, we will check the feature importances and identify the features with highest weightage and compare with the varibales used in the formula of GDP.\n",
    "For Hyp 2, we will check the R2 score for checking the strength of the model built and whether if it is a good model for our goal of Forecasting GDP.\n",
    "In Hyp 3, we can check the Classification report for the metrics of the final model, and evaluate the the model to see how well it achieves our goal of classifying the countries into income classes."
   ]
  },
  {
   "cell_type": "markdown",
   "id": "13ebb153",
   "metadata": {},
   "source": [
    "#### Alternative model for GNI\n",
    "\n",
    "Here we are demonstrating different features which we could use to develop the GNI dataset, at the same time not lose much information, which could then be used to develop a classifying model."
   ]
  },
  {
   "cell_type": "code",
   "execution_count": 36,
   "id": "8bf52374",
   "metadata": {},
   "outputs": [
    {
     "name": "stdout",
     "output_type": "stream",
     "text": [
      "Shape of GNI Dataset Before Cleaning: (10306, 6)\n",
      "Shape of GNI Dataset: (1298, 4)\n",
      "Data Loss: (9008, 2)\n",
      "   Investment        H_Spend  Foreign_Income GNI\n",
      "0   72484.821  137662.806790   -3.437004e+09   H\n",
      "1   81271.683  149366.901166   -4.375000e+09   H\n",
      "2   82948.542  162749.855492   -8.171159e+09   H\n",
      "3   74785.917  169853.765646   -1.084648e+10   H\n",
      "4   71752.851  177805.033539   -1.309395e+10   H\n",
      "H     902\n",
      "UM    263\n",
      "LM    108\n",
      "L      25\n",
      "Name: GNI, dtype: int64\n",
      "0.8123076923076923\n",
      "[[199   3   8   1]\n",
      " [  7  15   3   0]\n",
      " [ 33   6  45   0]\n",
      " [  0   0   0   5]]\n",
      "['H' 'LM' 'UM' 'L']\n"
     ]
    }
   ],
   "source": [
    "dfs = [df_fi,df_gni]\n",
    "df_merge_gni_3 = pd.merge(df_gfcf,df_hspend,how='outer',on=['LOCATION','TIME'])\n",
    "for d in dfs:\n",
    "    df_merge_gni_3 = pd.merge(df_merge_gni_3,d,how='outer',on=['LOCATION','TIME'])\n",
    "# df_merge_gni_3 = pd.merge(df_fi,df_gdp,how='outer',on=['LOCATION','TIME'])\n",
    "# df_merge_gni_3 = pd.merge(df_merge_gni_3,df_gni,how='outer',on=['LOCATION','TIME'])\n",
    "df_gni_3_shape_before = df_merge_gni_3.shape\n",
    "print(\"Shape of GNI Dataset Before Cleaning:\",df_gni_3_shape_before)\n",
    "df_merge_gni_3 = df_merge_gni_3.dropna()\n",
    "# df_merge_gni_3 = df_merge_gni_3.drop(columns=['LOCATION','TIME','H_Spend',\"Investment\",\"Trade_Goverment\"])\n",
    "df_merge_gni_3 = df_merge_gni_3.drop(columns=['LOCATION','TIME']).reset_index(drop=True)\n",
    "print(\"Shape of GNI Dataset:\",df_merge_gni_3.shape)\n",
    "print(\"Data Loss:\", DataLoss(df_gni_3_shape_before, df_merge_gni_3.shape))\n",
    "print(df_merge_gni_3.head())\n",
    "# Categorical Data Description\n",
    "print(df_merge_gni_3['GNI'].value_counts())\n",
    "\n",
    "from sklearn.ensemble import ExtraTreesClassifier\n",
    "from sklearn.metrics import accuracy_score,confusion_matrix\n",
    "model = ExtraTreesClassifier()\n",
    "X = df_merge_gni_3.drop(columns=[\"GNI\"])\n",
    "Y = df_merge_gni_3['GNI'].to_numpy()\n",
    "scaler = MinMaxScaler()\n",
    "# X = X.iloc[:,:3]\n",
    "X_norm = scaler.fit_transform(X)\n",
    "X_train,X_test,Y_train,Y_test = train_test_split(X_norm,Y,test_size=0.25)\n",
    "model.fit(X_train,Y_train)\n",
    "Y_pred = model.predict(X_test)\n",
    "print(accuracy_score(Y_test,Y_pred))\n",
    "# print(confusion_matrix(Y_test,Y_pred))\n",
    "print(confusion_matrix(Y_test,Y_pred,labels=df_merge_gni_3['GNI'].unique()))\n",
    "print(df_merge_gni_3['GNI'].unique())\n"
   ]
  },
  {
   "attachments": {},
   "cell_type": "markdown",
   "id": "dfb32a5f",
   "metadata": {},
   "source": [
    "## References"
   ]
  },
  {
   "attachments": {},
   "cell_type": "markdown",
   "id": "c5ec701b",
   "metadata": {},
   "source": [
    "https://www.investopedia.com/articles/investing/051415/how-calculate-gdp-country.asp\n",
    "\n",
    "https://www.britannica.com/money/gross-national-income\n",
    "\n",
    "#### Data Sources:\n",
    "1. Share Prices: https://data.oecd.org/price/share-prices.htm\n",
    "2. CPI: https://data.oecd.org/price/inflation-cpi.htm#indicator-chart\n",
    "3. Long Term Interest Rates: https://data.oecd.org/interest/long-term-interest-rates.htm\n",
    "4. Labour Force: https://data.oecd.org/emp/labour-force.htm\n",
    "5. Trade: https://data.oecd.org/trade/trade-in-goods-and-services.htm\n",
    "6. Household Spending: https://data.oecd.org/hha/household-spending.htm\n",
    "7. Government Spending: https://data.oecd.org/gga/general-government-spending.htm\n",
    "8. Tax Revenue: https://data.oecd.org/tax/tax-revenue.htm\n",
    "9. Investment GFCF: https://data.oecd.org/gdp/investment-by-sector.htm\n",
    "10. GDP: https://data.oecd.org/gdp/gross-domestic-product-gdp.htm\n",
    "11. Economic Category: https://datahelpdesk.worldbank.org/knowledgebase/articles/906519-world-bank-country-and-lending-groups\n",
    "10. Net Primary Income from Aborad: https://data.worldbank.org/indicator/NY.GSR.NFCY.CD "
   ]
  }
 ],
 "metadata": {
  "kernelspec": {
   "display_name": "Python 3 (ipykernel)",
   "language": "python",
   "name": "python3"
  },
  "language_info": {
   "codemirror_mode": {
    "name": "ipython",
    "version": 3
   },
   "file_extension": ".py",
   "mimetype": "text/x-python",
   "name": "python",
   "nbconvert_exporter": "python",
   "pygments_lexer": "ipython3",
   "version": "3.9.16"
  },
  "vscode": {
   "interpreter": {
    "hash": "c8ac7bcc6b2dbb39842d89486c34ab7849f692bd3067ed6f57c4db9cdfb88efc"
   }
  }
 },
 "nbformat": 4,
 "nbformat_minor": 5
}
