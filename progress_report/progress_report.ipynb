{
 "cells": [
  {
   "cell_type": "markdown",
   "id": "335b6638",
   "metadata": {},
   "source": [
    "# Progress Report - Team Outliers\n",
    "\n",
    "## Project Title - Gross Domestic Product and Economic Status of Countries\n",
    "\n",
    "### Team Members - \n",
    "1. Advait Pai - apai21@uic.edu\n",
    "2. Divyasha Pahuja - dpahuj2@uic.edu\n",
    "3. Uday Nair - unair2@uic.edu\n",
    "4. Utsav Sharma - usharm4@uic.edu"
   ]
  },
  {
   "cell_type": "markdown",
   "id": "766cf04d",
   "metadata": {},
   "source": [
    "## Any Changes\n",
    "\n",
    "// Development Status i.e. Under Developed etc, to now economic status based on the GNI\n",
    "\n",
    "Reason - Economic Status ---> GNI\n",
    "and GNI --> GDP therefore ES --> GDP"
   ]
  },
  {
   "cell_type": "markdown",
   "id": "91801770",
   "metadata": {},
   "source": [
    "## Data"
   ]
  },
  {
   "cell_type": "markdown",
   "id": "9d9d1c61",
   "metadata": {},
   "source": [
    "We are using data from the Organisation for Economic Co-operation and Development (OECD) and World Bank for different countries to carry out our predictions. The csv data is freely available on the website, which we have programmatically fetched these datasets from the website. This is done using a `driver.ipynb` notebook, which downloads the files and places them in a folder called `/data`.\n",
    "These files are downloaded as CSVs from the website, and then are cleaned using the steps shown later in the document.\n",
    "\n",
    "Our data is split across a number of datasets:\n",
    "\n",
    "\n",
    "| Sr.no | Dataset | Description | Rows | Columns |\n",
    "|-------|---------|-------------|------|---------|\n",
    "| 1 | Share Prices | Share price indices are calculated from the prices of common shares of companies traded on national or foreign stock exchanges. | 35098 | 8 |\n",
    "| 2 | Consumer Price Index | Inflation measured by consumer price index (CPI) is defined as the change in the prices of a basket of goods and services that are typically purchased by specific groups of households.| 293811 | 8 |\n",
    "| 3 | Long Term Interest Rates | Long-term interest rates refer to government bonds maturing in ten years. Rates are mainly determined by the price charged by the lender, the risk from the borrower and the fall in the capital value. | 27365 | 8 |\n",
    "| 4 | Labour Force | The labour force, or currently active population, comprises all persons who fulfil the requirements for inclusion among the employed (civilian employment plus the armed forces) or the unemployed. | 33517 | 8 |\n",
    "| 5 | Exports and Imports | Defined as the transactions in goods and services between residents and non-residents. It is measured in million USD at 2015 constant prices. | 15922 | 8 |\n",
    "| 6 | Household Spending | Household spending is the amount of final consumption expenditure made by resident households to meet their everyday needs, such as food, clothing, housing (rent), energy, transport, health costs, leisure.​ | 8862 | 8\n",
    "| 7 | Government Spending | General government spending provides an indication of the size of government across countries. The large variation in this indicator highlights the variety of countries' approaches to delivering public goods and services and providing social protection, not necessarily differences in resources spent.​ | 10290 | 8 | \n",
    "| 8 | Tax Revenue | Tax revenue is defined as the revenues collected from taxes on income and profits, social security contributions, taxes levied on goods and services, payroll taxes, taxes on the ownership and transfer of property, and other tax. | 3549 | 8 |\n",
    "| 9 | Investment GFCF | Gross fixed capital formation (GFCF), also called \"investment\", is defined as the acquisition of produced assets (including purchases of second-hand assets), including the production of such assets by producers for their own use, minus disposals. | 24513 | 8 |\n",
    "| 10 | GDP | Gross domestic product (GDP) is the standard measure of the value added created through the production of goods and services in a country during a certain period. As such, it also measures the income earned from that production, or the total amount spent on final goods and services (less imports). | 5162 | 8 |\n",
    "| 11 | Economic Category | This dataset contains the labels for the economic status of a country, which we will be using to perform classification. | 239 | 37 |\n",
    "\n",
    "\n",
    "** Add sentence describing which dataset is used for what **"
   ]
  },
  {
   "cell_type": "markdown",
   "id": "d8f7ffe7",
   "metadata": {},
   "source": [
    "## Research Questions\n",
    "\n",
    "1. Prediction of the Gross Domestic Product(GDP) of countries using leading and lagging factors such as inflation, household spending, trade, tax revenue, etc. from Organization for Economic Co-operation and Development(OECD) datasets by carrying out regression. \n",
    "2. Using the historical data of Gross Domestic Product(GDP) of countries, we attempt to forecast the GDP using the time series data.  \n",
    "3. Classification of countries as per their economic development status (Emerging, Developing and Developed Economies) using economic and social indicators gathered from Exploratory Data Analysis (EDA) of OECD data.\n",
    "4. After conducting exploratory data analysis (EDA) on the OECD dataset, we use the resulting indicators to perform cluster analysis to determine the optimal number of clusters for classifying countries based on their economic development status."
   ]
  },
  {
   "cell_type": "markdown",
   "id": "99e0d2ae",
   "metadata": {},
   "source": [
    "## Data Cleaning - WIP"
   ]
  },
  {
   "cell_type": "markdown",
   "id": "e6ca0b61",
   "metadata": {},
   "source": [
    "### GDP Yearly:\n",
    "\n",
    "To clean this dataset, we load the CSV file from the `data/uncleaned` directory, and check the head to ensure that it loads properly. The initial shape of the dataframe is `(5222,8)` \n",
    "\n",
    "Then, we check the unique values in the column `MEASURE`. This tells us that this column has the values `MLN_USD` and `USD_CAP`.\n",
    "We also check for the columns `FREQUENCY` and `SUBJECT`, where the unique values are `A` and `TOT` respectively.\n",
    "\n",
    "The column `Flag_Codes` is of no use to us, so we drop it. For `MEASURE`, we keep the values with `MLN_USD` only.\n",
    "\n",
    "Before we drop any columns, we need to check the number of unique values per column. From this, the columns `INDICATOR`,`SUBJECT`,`FREQUENCY` and `MEASURE` can be dropped now since they have only 1 value in them and do not add any information.\n",
    "\n",
    "Now, we can check the `null` values for all columns. The dataset that we have no `null` values, so we do not need to handle this.\n",
    "\n",
    "After our cleaning, the shape of a dataframe is `(2675,3)`, which is then exported to a .csv file and placed in the `data/temp` folder."
   ]
  },
  {
   "cell_type": "code",
   "execution_count": 1,
   "id": "493baaed",
   "metadata": {},
   "outputs": [
    {
     "name": "stdout",
     "output_type": "stream",
     "text": [
      "Share Prices Shape: (2065, 3)\n",
      "Inflation CPI Spend Shape: (2840, 3)\n",
      "Long Term Interest Rates Shape: (1587, 3)\n",
      "Labour Force Shape: (1993, 3)\n",
      "Trade in Government Spend Shape: (2641, 3)\n",
      "Household Spend Shape: (1955, 3)\n",
      "Gov Spend Shape: (654, 3)\n",
      "Tax Revenue Shape: (1697, 3)\n",
      "Investment GCFC Shape: (2635, 3)\n",
      "GDP Yearly Shape: (2675, 3)\n",
      "GNI Yearly Shape: (7630, 3)\n"
     ]
    }
   ],
   "source": [
    "import pandas as pd\n",
    "base_path = '../data/temp/'\n",
    "\n",
    "# 1. Share Prices Data\n",
    "df_sp = pd.read_csv(base_path+'share_prices_cleaned.csv')\n",
    "print(\"Share Prices Shape:\",df_sp.shape)\n",
    "# 2. Inflation CPI Data\n",
    "df_cpi = pd.read_csv(base_path+'inflation_cpi_cleaned.csv')\n",
    "print(\"Inflation CPI Spend Shape:\",df_cpi.shape)\n",
    "# 3. Long Term Interest Rates\n",
    "df_lti = pd.read_csv(base_path+'long_term_ir_cleaned.csv')\n",
    "print(\"Long Term Interest Rates Shape:\",df_lti.shape)\n",
    "# 4. Labour Force Date\n",
    "df_lf = pd.read_csv(base_path+'labour_force_cleaned.csv')\n",
    "print(\"Labour Force Shape:\",df_lf.shape)\n",
    "# 5. Trade in Government Spend Data\n",
    "df_exp_imp = pd.read_csv(base_path+'trade_in_gs_cleaned.csv')\n",
    "print(\"Trade in Government Spend Shape:\",df_exp_imp.shape)\n",
    "# 6. Household Spend\n",
    "df_hspend = pd.read_csv(base_path+'household_spend_cleaned.csv')\n",
    "print(\"Household Spend Shape:\",df_hspend.shape)\n",
    "# 7. Government Spending\n",
    "df_gspend = pd.read_csv(base_path+'government_spend_cleaned.csv')\n",
    "print(\"Gov Spend Shape:\",df_gspend.shape)\n",
    "# 8. Tax Revenue\n",
    "df_tax = pd.read_csv(base_path+'tax_revenue_cleaned.csv')\n",
    "print(\"Tax Revenue Shape:\",df_tax.shape)\n",
    "# 9. Investment GCFC\n",
    "df_gfcf = pd.read_csv(base_path+'investment_gfcf_cleaned.csv')\n",
    "print(\"Investment GCFC Shape:\",df_gfcf.shape)\n",
    "# 10. GDP Yearly Data\n",
    "df_gdp = pd.read_csv(base_path+'gdp_yearly_cleaned.csv')\n",
    "print(\"GDP Yearly Shape:\",df_gdp.shape)\n",
    "# 11. FDI Data\n",
    "# df_fdi = pd.read_csv(base_path+'fdi_cleaned.csv')\n",
    "# print(\"GDP Yearly Shape:\",df_fdi.shape)\n",
    "# 12. GNI Data\n",
    "df_gni = pd.read_csv(base_path+'economic_category_cleaned.csv')\n",
    "print(\"GNI Yearly Shape:\",df_gni.shape)"
   ]
  },
  {
   "cell_type": "code",
   "execution_count": 2,
   "id": "5f794064",
   "metadata": {},
   "outputs": [],
   "source": [
    "## Renaming Columns\n",
    "\n",
    "df_sp = df_sp.rename(columns={'Value':'Share_Price'})\n",
    "df_cpi = df_cpi.rename(columns={'Value':'Inflation_CPI'})\n",
    "df_lti = df_lti.rename(columns={'Value':'LT_Interest'})\n",
    "df_lf = df_lf.rename(columns={'Value':'Labor_Force'})\n",
    "df_exp_imp = df_exp_imp.rename(columns={'NTRVAL':'Trade_Goverment'})\n",
    "df_hspend = df_hspend.rename(columns={'Value':'H_Spend'})\n",
    "df_gspend = df_gspend.rename(columns={'Value':'G_Spend'})\n",
    "df_tax = df_tax.rename(columns={'Value':'Tax'})\n",
    "df_gfcf = df_gfcf.rename(columns={'Value':'Investment'})\n",
    "df_gdp = df_gdp.rename(columns={'Value':'GDP'})\n",
    "df_gni = df_gni.rename(columns={'Value':'GNI'})"
   ]
  },
  {
   "cell_type": "code",
   "execution_count": 3,
   "id": "b36f3183",
   "metadata": {},
   "outputs": [
    {
     "data": {
      "text/html": [
       "<div>\n",
       "<style scoped>\n",
       "    .dataframe tbody tr th:only-of-type {\n",
       "        vertical-align: middle;\n",
       "    }\n",
       "\n",
       "    .dataframe tbody tr th {\n",
       "        vertical-align: top;\n",
       "    }\n",
       "\n",
       "    .dataframe thead th {\n",
       "        text-align: right;\n",
       "    }\n",
       "</style>\n",
       "<table border=\"1\" class=\"dataframe\">\n",
       "  <thead>\n",
       "    <tr style=\"text-align: right;\">\n",
       "      <th></th>\n",
       "      <th>LOCATION</th>\n",
       "      <th>TIME</th>\n",
       "      <th>Share_Price</th>\n",
       "    </tr>\n",
       "  </thead>\n",
       "  <tbody>\n",
       "    <tr>\n",
       "      <th>0</th>\n",
       "      <td>AUS</td>\n",
       "      <td>1958</td>\n",
       "      <td>2.613002</td>\n",
       "    </tr>\n",
       "    <tr>\n",
       "      <th>1</th>\n",
       "      <td>AUS</td>\n",
       "      <td>1959</td>\n",
       "      <td>3.256618</td>\n",
       "    </tr>\n",
       "    <tr>\n",
       "      <th>2</th>\n",
       "      <td>AUS</td>\n",
       "      <td>1960</td>\n",
       "      <td>3.966841</td>\n",
       "    </tr>\n",
       "    <tr>\n",
       "      <th>3</th>\n",
       "      <td>AUS</td>\n",
       "      <td>1961</td>\n",
       "      <td>3.653984</td>\n",
       "    </tr>\n",
       "    <tr>\n",
       "      <th>4</th>\n",
       "      <td>AUS</td>\n",
       "      <td>1962</td>\n",
       "      <td>3.678260</td>\n",
       "    </tr>\n",
       "  </tbody>\n",
       "</table>\n",
       "</div>"
      ],
      "text/plain": [
       "  LOCATION  TIME  Share_Price\n",
       "0      AUS  1958     2.613002\n",
       "1      AUS  1959     3.256618\n",
       "2      AUS  1960     3.966841\n",
       "3      AUS  1961     3.653984\n",
       "4      AUS  1962     3.678260"
      ]
     },
     "execution_count": 3,
     "metadata": {},
     "output_type": "execute_result"
    }
   ],
   "source": [
    "df_sp.head()"
   ]
  },
  {
   "cell_type": "code",
   "execution_count": 4,
   "id": "bbbd9904",
   "metadata": {},
   "outputs": [
    {
     "data": {
      "text/html": [
       "<div>\n",
       "<style scoped>\n",
       "    .dataframe tbody tr th:only-of-type {\n",
       "        vertical-align: middle;\n",
       "    }\n",
       "\n",
       "    .dataframe tbody tr th {\n",
       "        vertical-align: top;\n",
       "    }\n",
       "\n",
       "    .dataframe thead th {\n",
       "        text-align: right;\n",
       "    }\n",
       "</style>\n",
       "<table border=\"1\" class=\"dataframe\">\n",
       "  <thead>\n",
       "    <tr style=\"text-align: right;\">\n",
       "      <th></th>\n",
       "      <th>LOCATION</th>\n",
       "      <th>TIME</th>\n",
       "      <th>Inflation_CPI</th>\n",
       "    </tr>\n",
       "  </thead>\n",
       "  <tbody>\n",
       "    <tr>\n",
       "      <th>0</th>\n",
       "      <td>AUS</td>\n",
       "      <td>1949</td>\n",
       "      <td>3.738101</td>\n",
       "    </tr>\n",
       "    <tr>\n",
       "      <th>1</th>\n",
       "      <td>AUS</td>\n",
       "      <td>1950</td>\n",
       "      <td>4.063153</td>\n",
       "    </tr>\n",
       "    <tr>\n",
       "      <th>2</th>\n",
       "      <td>AUS</td>\n",
       "      <td>1951</td>\n",
       "      <td>4.852566</td>\n",
       "    </tr>\n",
       "    <tr>\n",
       "      <th>3</th>\n",
       "      <td>AUS</td>\n",
       "      <td>1952</td>\n",
       "      <td>5.688414</td>\n",
       "    </tr>\n",
       "    <tr>\n",
       "      <th>4</th>\n",
       "      <td>AUS</td>\n",
       "      <td>1953</td>\n",
       "      <td>5.943812</td>\n",
       "    </tr>\n",
       "  </tbody>\n",
       "</table>\n",
       "</div>"
      ],
      "text/plain": [
       "  LOCATION  TIME  Inflation_CPI\n",
       "0      AUS  1949       3.738101\n",
       "1      AUS  1950       4.063153\n",
       "2      AUS  1951       4.852566\n",
       "3      AUS  1952       5.688414\n",
       "4      AUS  1953       5.943812"
      ]
     },
     "execution_count": 4,
     "metadata": {},
     "output_type": "execute_result"
    }
   ],
   "source": [
    "df_cpi.head()"
   ]
  },
  {
   "cell_type": "code",
   "execution_count": 5,
   "id": "0d232974",
   "metadata": {},
   "outputs": [
    {
     "data": {
      "text/html": [
       "<div>\n",
       "<style scoped>\n",
       "    .dataframe tbody tr th:only-of-type {\n",
       "        vertical-align: middle;\n",
       "    }\n",
       "\n",
       "    .dataframe tbody tr th {\n",
       "        vertical-align: top;\n",
       "    }\n",
       "\n",
       "    .dataframe thead th {\n",
       "        text-align: right;\n",
       "    }\n",
       "</style>\n",
       "<table border=\"1\" class=\"dataframe\">\n",
       "  <thead>\n",
       "    <tr style=\"text-align: right;\">\n",
       "      <th></th>\n",
       "      <th>LOCATION</th>\n",
       "      <th>TIME</th>\n",
       "      <th>LT_Interest</th>\n",
       "    </tr>\n",
       "  </thead>\n",
       "  <tbody>\n",
       "    <tr>\n",
       "      <th>0</th>\n",
       "      <td>PRT</td>\n",
       "      <td>1994</td>\n",
       "      <td>10.478330</td>\n",
       "    </tr>\n",
       "    <tr>\n",
       "      <th>1</th>\n",
       "      <td>PRT</td>\n",
       "      <td>1995</td>\n",
       "      <td>11.465000</td>\n",
       "    </tr>\n",
       "    <tr>\n",
       "      <th>2</th>\n",
       "      <td>PRT</td>\n",
       "      <td>1996</td>\n",
       "      <td>8.559167</td>\n",
       "    </tr>\n",
       "    <tr>\n",
       "      <th>3</th>\n",
       "      <td>PRT</td>\n",
       "      <td>1997</td>\n",
       "      <td>6.358333</td>\n",
       "    </tr>\n",
       "    <tr>\n",
       "      <th>4</th>\n",
       "      <td>PRT</td>\n",
       "      <td>1998</td>\n",
       "      <td>4.877500</td>\n",
       "    </tr>\n",
       "  </tbody>\n",
       "</table>\n",
       "</div>"
      ],
      "text/plain": [
       "  LOCATION  TIME  LT_Interest\n",
       "0      PRT  1994    10.478330\n",
       "1      PRT  1995    11.465000\n",
       "2      PRT  1996     8.559167\n",
       "3      PRT  1997     6.358333\n",
       "4      PRT  1998     4.877500"
      ]
     },
     "execution_count": 5,
     "metadata": {},
     "output_type": "execute_result"
    }
   ],
   "source": [
    "df_lti.head()"
   ]
  },
  {
   "cell_type": "code",
   "execution_count": 6,
   "id": "84c6b11c",
   "metadata": {},
   "outputs": [
    {
     "data": {
      "text/html": [
       "<div>\n",
       "<style scoped>\n",
       "    .dataframe tbody tr th:only-of-type {\n",
       "        vertical-align: middle;\n",
       "    }\n",
       "\n",
       "    .dataframe tbody tr th {\n",
       "        vertical-align: top;\n",
       "    }\n",
       "\n",
       "    .dataframe thead th {\n",
       "        text-align: right;\n",
       "    }\n",
       "</style>\n",
       "<table border=\"1\" class=\"dataframe\">\n",
       "  <thead>\n",
       "    <tr style=\"text-align: right;\">\n",
       "      <th></th>\n",
       "      <th>LOCATION</th>\n",
       "      <th>TIME</th>\n",
       "      <th>Labor_Force</th>\n",
       "    </tr>\n",
       "  </thead>\n",
       "  <tbody>\n",
       "    <tr>\n",
       "      <th>0</th>\n",
       "      <td>MEX</td>\n",
       "      <td>2005</td>\n",
       "      <td>43631.50</td>\n",
       "    </tr>\n",
       "    <tr>\n",
       "      <th>1</th>\n",
       "      <td>MEX</td>\n",
       "      <td>2006</td>\n",
       "      <td>44982.52</td>\n",
       "    </tr>\n",
       "    <tr>\n",
       "      <th>2</th>\n",
       "      <td>MEX</td>\n",
       "      <td>2007</td>\n",
       "      <td>45904.54</td>\n",
       "    </tr>\n",
       "    <tr>\n",
       "      <th>3</th>\n",
       "      <td>MEX</td>\n",
       "      <td>2008</td>\n",
       "      <td>46769.21</td>\n",
       "    </tr>\n",
       "    <tr>\n",
       "      <th>4</th>\n",
       "      <td>MEX</td>\n",
       "      <td>2009</td>\n",
       "      <td>48018.36</td>\n",
       "    </tr>\n",
       "  </tbody>\n",
       "</table>\n",
       "</div>"
      ],
      "text/plain": [
       "  LOCATION  TIME  Labor_Force\n",
       "0      MEX  2005     43631.50\n",
       "1      MEX  2006     44982.52\n",
       "2      MEX  2007     45904.54\n",
       "3      MEX  2008     46769.21\n",
       "4      MEX  2009     48018.36"
      ]
     },
     "execution_count": 6,
     "metadata": {},
     "output_type": "execute_result"
    }
   ],
   "source": [
    "df_lf.head()"
   ]
  },
  {
   "cell_type": "code",
   "execution_count": 7,
   "id": "6fb8352b",
   "metadata": {},
   "outputs": [
    {
     "data": {
      "text/html": [
       "<div>\n",
       "<style scoped>\n",
       "    .dataframe tbody tr th:only-of-type {\n",
       "        vertical-align: middle;\n",
       "    }\n",
       "\n",
       "    .dataframe tbody tr th {\n",
       "        vertical-align: top;\n",
       "    }\n",
       "\n",
       "    .dataframe thead th {\n",
       "        text-align: right;\n",
       "    }\n",
       "</style>\n",
       "<table border=\"1\" class=\"dataframe\">\n",
       "  <thead>\n",
       "    <tr style=\"text-align: right;\">\n",
       "      <th></th>\n",
       "      <th>LOCATION</th>\n",
       "      <th>TIME</th>\n",
       "      <th>Trade_Goverment</th>\n",
       "    </tr>\n",
       "  </thead>\n",
       "  <tbody>\n",
       "    <tr>\n",
       "      <th>0</th>\n",
       "      <td>AUS</td>\n",
       "      <td>1959</td>\n",
       "      <td>1221.210</td>\n",
       "    </tr>\n",
       "    <tr>\n",
       "      <th>1</th>\n",
       "      <td>AUS</td>\n",
       "      <td>1960</td>\n",
       "      <td>467.848</td>\n",
       "    </tr>\n",
       "    <tr>\n",
       "      <th>2</th>\n",
       "      <td>AUS</td>\n",
       "      <td>1961</td>\n",
       "      <td>3915.866</td>\n",
       "    </tr>\n",
       "    <tr>\n",
       "      <th>3</th>\n",
       "      <td>AUS</td>\n",
       "      <td>1962</td>\n",
       "      <td>1787.544</td>\n",
       "    </tr>\n",
       "    <tr>\n",
       "      <th>4</th>\n",
       "      <td>AUS</td>\n",
       "      <td>1963</td>\n",
       "      <td>2725.988</td>\n",
       "    </tr>\n",
       "  </tbody>\n",
       "</table>\n",
       "</div>"
      ],
      "text/plain": [
       "  LOCATION  TIME  Trade_Goverment\n",
       "0      AUS  1959         1221.210\n",
       "1      AUS  1960          467.848\n",
       "2      AUS  1961         3915.866\n",
       "3      AUS  1962         1787.544\n",
       "4      AUS  1963         2725.988"
      ]
     },
     "execution_count": 7,
     "metadata": {},
     "output_type": "execute_result"
    }
   ],
   "source": [
    "df_exp_imp.head()"
   ]
  },
  {
   "cell_type": "code",
   "execution_count": 8,
   "id": "402fdbba",
   "metadata": {},
   "outputs": [
    {
     "data": {
      "text/html": [
       "<div>\n",
       "<style scoped>\n",
       "    .dataframe tbody tr th:only-of-type {\n",
       "        vertical-align: middle;\n",
       "    }\n",
       "\n",
       "    .dataframe tbody tr th {\n",
       "        vertical-align: top;\n",
       "    }\n",
       "\n",
       "    .dataframe thead th {\n",
       "        text-align: right;\n",
       "    }\n",
       "</style>\n",
       "<table border=\"1\" class=\"dataframe\">\n",
       "  <thead>\n",
       "    <tr style=\"text-align: right;\">\n",
       "      <th></th>\n",
       "      <th>LOCATION</th>\n",
       "      <th>TIME</th>\n",
       "      <th>H_Spend</th>\n",
       "    </tr>\n",
       "  </thead>\n",
       "  <tbody>\n",
       "    <tr>\n",
       "      <th>0</th>\n",
       "      <td>AUS</td>\n",
       "      <td>1970</td>\n",
       "      <td>30476.510257</td>\n",
       "    </tr>\n",
       "    <tr>\n",
       "      <th>1</th>\n",
       "      <td>AUS</td>\n",
       "      <td>1971</td>\n",
       "      <td>32799.844017</td>\n",
       "    </tr>\n",
       "    <tr>\n",
       "      <th>2</th>\n",
       "      <td>AUS</td>\n",
       "      <td>1972</td>\n",
       "      <td>35590.183565</td>\n",
       "    </tr>\n",
       "    <tr>\n",
       "      <th>3</th>\n",
       "      <td>AUS</td>\n",
       "      <td>1973</td>\n",
       "      <td>41114.456624</td>\n",
       "    </tr>\n",
       "    <tr>\n",
       "      <th>4</th>\n",
       "      <td>AUS</td>\n",
       "      <td>1974</td>\n",
       "      <td>48461.851872</td>\n",
       "    </tr>\n",
       "  </tbody>\n",
       "</table>\n",
       "</div>"
      ],
      "text/plain": [
       "  LOCATION  TIME       H_Spend\n",
       "0      AUS  1970  30476.510257\n",
       "1      AUS  1971  32799.844017\n",
       "2      AUS  1972  35590.183565\n",
       "3      AUS  1973  41114.456624\n",
       "4      AUS  1974  48461.851872"
      ]
     },
     "execution_count": 8,
     "metadata": {},
     "output_type": "execute_result"
    }
   ],
   "source": [
    "df_hspend.head()"
   ]
  },
  {
   "cell_type": "code",
   "execution_count": 9,
   "id": "a09691b3",
   "metadata": {},
   "outputs": [
    {
     "data": {
      "text/html": [
       "<div>\n",
       "<style scoped>\n",
       "    .dataframe tbody tr th:only-of-type {\n",
       "        vertical-align: middle;\n",
       "    }\n",
       "\n",
       "    .dataframe tbody tr th {\n",
       "        vertical-align: top;\n",
       "    }\n",
       "\n",
       "    .dataframe thead th {\n",
       "        text-align: right;\n",
       "    }\n",
       "</style>\n",
       "<table border=\"1\" class=\"dataframe\">\n",
       "  <thead>\n",
       "    <tr style=\"text-align: right;\">\n",
       "      <th></th>\n",
       "      <th>LOCATION</th>\n",
       "      <th>TIME</th>\n",
       "      <th>G_Spend</th>\n",
       "    </tr>\n",
       "  </thead>\n",
       "  <tbody>\n",
       "    <tr>\n",
       "      <th>0</th>\n",
       "      <td>AUS</td>\n",
       "      <td>2007</td>\n",
       "      <td>13737.93</td>\n",
       "    </tr>\n",
       "    <tr>\n",
       "      <th>1</th>\n",
       "      <td>AUS</td>\n",
       "      <td>2008</td>\n",
       "      <td>14835.57</td>\n",
       "    </tr>\n",
       "    <tr>\n",
       "      <th>2</th>\n",
       "      <td>AUS</td>\n",
       "      <td>2009</td>\n",
       "      <td>15963.85</td>\n",
       "    </tr>\n",
       "    <tr>\n",
       "      <th>3</th>\n",
       "      <td>AUS</td>\n",
       "      <td>2010</td>\n",
       "      <td>15802.56</td>\n",
       "    </tr>\n",
       "    <tr>\n",
       "      <th>4</th>\n",
       "      <td>AUS</td>\n",
       "      <td>2011</td>\n",
       "      <td>16535.76</td>\n",
       "    </tr>\n",
       "  </tbody>\n",
       "</table>\n",
       "</div>"
      ],
      "text/plain": [
       "  LOCATION  TIME   G_Spend\n",
       "0      AUS  2007  13737.93\n",
       "1      AUS  2008  14835.57\n",
       "2      AUS  2009  15963.85\n",
       "3      AUS  2010  15802.56\n",
       "4      AUS  2011  16535.76"
      ]
     },
     "execution_count": 9,
     "metadata": {},
     "output_type": "execute_result"
    }
   ],
   "source": [
    "df_gspend.head()"
   ]
  },
  {
   "cell_type": "code",
   "execution_count": 10,
   "id": "03625905",
   "metadata": {},
   "outputs": [
    {
     "data": {
      "text/html": [
       "<div>\n",
       "<style scoped>\n",
       "    .dataframe tbody tr th:only-of-type {\n",
       "        vertical-align: middle;\n",
       "    }\n",
       "\n",
       "    .dataframe tbody tr th {\n",
       "        vertical-align: top;\n",
       "    }\n",
       "\n",
       "    .dataframe thead th {\n",
       "        text-align: right;\n",
       "    }\n",
       "</style>\n",
       "<table border=\"1\" class=\"dataframe\">\n",
       "  <thead>\n",
       "    <tr style=\"text-align: right;\">\n",
       "      <th></th>\n",
       "      <th>LOCATION</th>\n",
       "      <th>TIME</th>\n",
       "      <th>Tax</th>\n",
       "    </tr>\n",
       "  </thead>\n",
       "  <tbody>\n",
       "    <tr>\n",
       "      <th>0</th>\n",
       "      <td>AUS</td>\n",
       "      <td>1965</td>\n",
       "      <td>5.608</td>\n",
       "    </tr>\n",
       "    <tr>\n",
       "      <th>1</th>\n",
       "      <td>AUS</td>\n",
       "      <td>1966</td>\n",
       "      <td>5.996</td>\n",
       "    </tr>\n",
       "    <tr>\n",
       "      <th>2</th>\n",
       "      <td>AUS</td>\n",
       "      <td>1967</td>\n",
       "      <td>6.631</td>\n",
       "    </tr>\n",
       "    <tr>\n",
       "      <th>3</th>\n",
       "      <td>AUS</td>\n",
       "      <td>1968</td>\n",
       "      <td>7.405</td>\n",
       "    </tr>\n",
       "    <tr>\n",
       "      <th>4</th>\n",
       "      <td>AUS</td>\n",
       "      <td>1969</td>\n",
       "      <td>8.488</td>\n",
       "    </tr>\n",
       "  </tbody>\n",
       "</table>\n",
       "</div>"
      ],
      "text/plain": [
       "  LOCATION  TIME    Tax\n",
       "0      AUS  1965  5.608\n",
       "1      AUS  1966  5.996\n",
       "2      AUS  1967  6.631\n",
       "3      AUS  1968  7.405\n",
       "4      AUS  1969  8.488"
      ]
     },
     "execution_count": 10,
     "metadata": {},
     "output_type": "execute_result"
    }
   ],
   "source": [
    "df_tax.head()"
   ]
  },
  {
   "cell_type": "code",
   "execution_count": 11,
   "id": "9c61c16f",
   "metadata": {},
   "outputs": [
    {
     "data": {
      "text/html": [
       "<div>\n",
       "<style scoped>\n",
       "    .dataframe tbody tr th:only-of-type {\n",
       "        vertical-align: middle;\n",
       "    }\n",
       "\n",
       "    .dataframe tbody tr th {\n",
       "        vertical-align: top;\n",
       "    }\n",
       "\n",
       "    .dataframe thead th {\n",
       "        text-align: right;\n",
       "    }\n",
       "</style>\n",
       "<table border=\"1\" class=\"dataframe\">\n",
       "  <thead>\n",
       "    <tr style=\"text-align: right;\">\n",
       "      <th></th>\n",
       "      <th>LOCATION</th>\n",
       "      <th>TIME</th>\n",
       "      <th>Investment</th>\n",
       "    </tr>\n",
       "  </thead>\n",
       "  <tbody>\n",
       "    <tr>\n",
       "      <th>0</th>\n",
       "      <td>AUS</td>\n",
       "      <td>1960</td>\n",
       "      <td>7594.023</td>\n",
       "    </tr>\n",
       "    <tr>\n",
       "      <th>1</th>\n",
       "      <td>AUS</td>\n",
       "      <td>1961</td>\n",
       "      <td>7555.709</td>\n",
       "    </tr>\n",
       "    <tr>\n",
       "      <th>2</th>\n",
       "      <td>AUS</td>\n",
       "      <td>1962</td>\n",
       "      <td>8263.204</td>\n",
       "    </tr>\n",
       "    <tr>\n",
       "      <th>3</th>\n",
       "      <td>AUS</td>\n",
       "      <td>1963</td>\n",
       "      <td>9144.787</td>\n",
       "    </tr>\n",
       "    <tr>\n",
       "      <th>4</th>\n",
       "      <td>AUS</td>\n",
       "      <td>1964</td>\n",
       "      <td>10182.874</td>\n",
       "    </tr>\n",
       "  </tbody>\n",
       "</table>\n",
       "</div>"
      ],
      "text/plain": [
       "  LOCATION  TIME  Investment\n",
       "0      AUS  1960    7594.023\n",
       "1      AUS  1961    7555.709\n",
       "2      AUS  1962    8263.204\n",
       "3      AUS  1963    9144.787\n",
       "4      AUS  1964   10182.874"
      ]
     },
     "execution_count": 11,
     "metadata": {},
     "output_type": "execute_result"
    }
   ],
   "source": [
    "df_gfcf.head()"
   ]
  },
  {
   "cell_type": "code",
   "execution_count": 12,
   "id": "7fd28379",
   "metadata": {},
   "outputs": [
    {
     "data": {
      "text/html": [
       "<div>\n",
       "<style scoped>\n",
       "    .dataframe tbody tr th:only-of-type {\n",
       "        vertical-align: middle;\n",
       "    }\n",
       "\n",
       "    .dataframe tbody tr th {\n",
       "        vertical-align: top;\n",
       "    }\n",
       "\n",
       "    .dataframe thead th {\n",
       "        text-align: right;\n",
       "    }\n",
       "</style>\n",
       "<table border=\"1\" class=\"dataframe\">\n",
       "  <thead>\n",
       "    <tr style=\"text-align: right;\">\n",
       "      <th></th>\n",
       "      <th>LOCATION</th>\n",
       "      <th>TIME</th>\n",
       "      <th>GDP</th>\n",
       "    </tr>\n",
       "  </thead>\n",
       "  <tbody>\n",
       "    <tr>\n",
       "      <th>0</th>\n",
       "      <td>AUS</td>\n",
       "      <td>1960</td>\n",
       "      <td>25071.833</td>\n",
       "    </tr>\n",
       "    <tr>\n",
       "      <th>1</th>\n",
       "      <td>AUS</td>\n",
       "      <td>1961</td>\n",
       "      <td>25363.455</td>\n",
       "    </tr>\n",
       "    <tr>\n",
       "      <th>2</th>\n",
       "      <td>AUS</td>\n",
       "      <td>1962</td>\n",
       "      <td>27953.904</td>\n",
       "    </tr>\n",
       "    <tr>\n",
       "      <th>3</th>\n",
       "      <td>AUS</td>\n",
       "      <td>1963</td>\n",
       "      <td>30431.547</td>\n",
       "    </tr>\n",
       "    <tr>\n",
       "      <th>4</th>\n",
       "      <td>AUS</td>\n",
       "      <td>1964</td>\n",
       "      <td>32742.466</td>\n",
       "    </tr>\n",
       "  </tbody>\n",
       "</table>\n",
       "</div>"
      ],
      "text/plain": [
       "  LOCATION  TIME        GDP\n",
       "0      AUS  1960  25071.833\n",
       "1      AUS  1961  25363.455\n",
       "2      AUS  1962  27953.904\n",
       "3      AUS  1963  30431.547\n",
       "4      AUS  1964  32742.466"
      ]
     },
     "execution_count": 12,
     "metadata": {},
     "output_type": "execute_result"
    }
   ],
   "source": [
    "df_gdp.head()"
   ]
  },
  {
   "cell_type": "code",
   "execution_count": 13,
   "id": "953d927e",
   "metadata": {},
   "outputs": [
    {
     "data": {
      "text/html": [
       "<div>\n",
       "<style scoped>\n",
       "    .dataframe tbody tr th:only-of-type {\n",
       "        vertical-align: middle;\n",
       "    }\n",
       "\n",
       "    .dataframe tbody tr th {\n",
       "        vertical-align: top;\n",
       "    }\n",
       "\n",
       "    .dataframe thead th {\n",
       "        text-align: right;\n",
       "    }\n",
       "</style>\n",
       "<table border=\"1\" class=\"dataframe\">\n",
       "  <thead>\n",
       "    <tr style=\"text-align: right;\">\n",
       "      <th></th>\n",
       "      <th>LOCATION</th>\n",
       "      <th>TIME</th>\n",
       "      <th>GNI</th>\n",
       "    </tr>\n",
       "  </thead>\n",
       "  <tbody>\n",
       "    <tr>\n",
       "      <th>0</th>\n",
       "      <td>AFG</td>\n",
       "      <td>1987</td>\n",
       "      <td>L</td>\n",
       "    </tr>\n",
       "    <tr>\n",
       "      <th>2</th>\n",
       "      <td>DZA</td>\n",
       "      <td>1987</td>\n",
       "      <td>UM</td>\n",
       "    </tr>\n",
       "    <tr>\n",
       "      <th>3</th>\n",
       "      <td>ASM</td>\n",
       "      <td>1987</td>\n",
       "      <td>H</td>\n",
       "    </tr>\n",
       "    <tr>\n",
       "      <th>6</th>\n",
       "      <td>ATG</td>\n",
       "      <td>1987</td>\n",
       "      <td>UM</td>\n",
       "    </tr>\n",
       "    <tr>\n",
       "      <th>7</th>\n",
       "      <td>ARG</td>\n",
       "      <td>1987</td>\n",
       "      <td>UM</td>\n",
       "    </tr>\n",
       "  </tbody>\n",
       "</table>\n",
       "</div>"
      ],
      "text/plain": [
       "  LOCATION  TIME GNI\n",
       "0      AFG  1987   L\n",
       "2      DZA  1987  UM\n",
       "3      ASM  1987   H\n",
       "6      ATG  1987  UM\n",
       "7      ARG  1987  UM"
      ]
     },
     "execution_count": 13,
     "metadata": {},
     "output_type": "execute_result"
    }
   ],
   "source": [
    "df_gni = df_gni.dropna()\n",
    "df_gni.head()"
   ]
  },
  {
   "cell_type": "markdown",
   "id": "ab2b8010",
   "metadata": {},
   "source": [
    "## Exploratory Data Analysis"
   ]
  },
  {
   "cell_type": "markdown",
   "id": "2cf7c221",
   "metadata": {},
   "source": [
    "### GDP Dataset"
   ]
  },
  {
   "cell_type": "code",
   "execution_count": 14,
   "id": "f5e05b51",
   "metadata": {},
   "outputs": [
    {
     "name": "stdout",
     "output_type": "stream",
     "text": [
      "Shape of GDP Dataset: (1065, 9)\n"
     ]
    },
    {
     "data": {
      "text/html": [
       "<div>\n",
       "<style scoped>\n",
       "    .dataframe tbody tr th:only-of-type {\n",
       "        vertical-align: middle;\n",
       "    }\n",
       "\n",
       "    .dataframe tbody tr th {\n",
       "        vertical-align: top;\n",
       "    }\n",
       "\n",
       "    .dataframe thead th {\n",
       "        text-align: right;\n",
       "    }\n",
       "</style>\n",
       "<table border=\"1\" class=\"dataframe\">\n",
       "  <thead>\n",
       "    <tr style=\"text-align: right;\">\n",
       "      <th></th>\n",
       "      <th>Share_Price</th>\n",
       "      <th>Inflation_CPI</th>\n",
       "      <th>LT_Interest</th>\n",
       "      <th>Labor_Force</th>\n",
       "      <th>Trade_Goverment</th>\n",
       "      <th>H_Spend</th>\n",
       "      <th>Tax</th>\n",
       "      <th>Investment</th>\n",
       "      <th>GDP</th>\n",
       "    </tr>\n",
       "  </thead>\n",
       "  <tbody>\n",
       "    <tr>\n",
       "      <th>0</th>\n",
       "      <td>7.011195</td>\n",
       "      <td>9.078245</td>\n",
       "      <td>6.646667</td>\n",
       "      <td>5478.225</td>\n",
       "      <td>4651.015</td>\n",
       "      <td>30476.510257</td>\n",
       "      <td>9.566</td>\n",
       "      <td>18051.855</td>\n",
       "      <td>58911.123</td>\n",
       "    </tr>\n",
       "    <tr>\n",
       "      <th>1</th>\n",
       "      <td>5.855660</td>\n",
       "      <td>9.635477</td>\n",
       "      <td>6.713333</td>\n",
       "      <td>5622.972</td>\n",
       "      <td>8326.401</td>\n",
       "      <td>32799.844017</td>\n",
       "      <td>11.308</td>\n",
       "      <td>19303.250</td>\n",
       "      <td>64192.384</td>\n",
       "    </tr>\n",
       "    <tr>\n",
       "      <th>2</th>\n",
       "      <td>7.038809</td>\n",
       "      <td>10.215930</td>\n",
       "      <td>5.831666</td>\n",
       "      <td>5750.258</td>\n",
       "      <td>8642.889</td>\n",
       "      <td>35590.183565</td>\n",
       "      <td>13.825</td>\n",
       "      <td>20311.818</td>\n",
       "      <td>69871.924</td>\n",
       "    </tr>\n",
       "    <tr>\n",
       "      <th>3</th>\n",
       "      <td>6.581208</td>\n",
       "      <td>11.144650</td>\n",
       "      <td>6.933333</td>\n",
       "      <td>5899.899</td>\n",
       "      <td>825.695</td>\n",
       "      <td>41114.456624</td>\n",
       "      <td>19.440</td>\n",
       "      <td>22476.101</td>\n",
       "      <td>78914.750</td>\n",
       "    </tr>\n",
       "    <tr>\n",
       "      <th>4</th>\n",
       "      <td>4.882499</td>\n",
       "      <td>12.862780</td>\n",
       "      <td>9.036667</td>\n",
       "      <td>6052.784</td>\n",
       "      <td>2790.903</td>\n",
       "      <td>48461.851872</td>\n",
       "      <td>24.135</td>\n",
       "      <td>22330.928</td>\n",
       "      <td>86394.431</td>\n",
       "    </tr>\n",
       "  </tbody>\n",
       "</table>\n",
       "</div>"
      ],
      "text/plain": [
       "   Share_Price  Inflation_CPI  LT_Interest  Labor_Force  Trade_Goverment  \\\n",
       "0     7.011195       9.078245     6.646667     5478.225         4651.015   \n",
       "1     5.855660       9.635477     6.713333     5622.972         8326.401   \n",
       "2     7.038809      10.215930     5.831666     5750.258         8642.889   \n",
       "3     6.581208      11.144650     6.933333     5899.899          825.695   \n",
       "4     4.882499      12.862780     9.036667     6052.784         2790.903   \n",
       "\n",
       "        H_Spend     Tax  Investment        GDP  \n",
       "0  30476.510257   9.566   18051.855  58911.123  \n",
       "1  32799.844017  11.308   19303.250  64192.384  \n",
       "2  35590.183565  13.825   20311.818  69871.924  \n",
       "3  41114.456624  19.440   22476.101  78914.750  \n",
       "4  48461.851872  24.135   22330.928  86394.431  "
      ]
     },
     "execution_count": 14,
     "metadata": {},
     "output_type": "execute_result"
    }
   ],
   "source": [
    "dfs = [df_lti,df_lf,df_exp_imp,df_hspend,df_tax,df_gfcf,df_gdp]\n",
    "df_merge_gdp = pd.merge(df_sp,df_cpi,how='outer',on=['LOCATION','TIME'])\n",
    "for d in dfs:\n",
    "    df_merge_gdp = pd.merge(df_merge_gdp,d,how='outer',on=['LOCATION','TIME'])\n",
    "df_merge_gdp = df_merge_gdp.dropna()\n",
    "# df_merge_gdp = df_merge_gdp.drop(columns=['LOCATION','TIME','H_Spend',\"Investment\",\"Trade_Goverment\"])\n",
    "df_merge_gdp = df_merge_gdp.drop(columns=['LOCATION','TIME']).reset_index(drop=True)\n",
    "print(\"Shape of GDP Dataset:\",df_merge_gdp.shape)\n",
    "df_merge_gdp.head()\n"
   ]
  },
  {
   "cell_type": "markdown",
   "id": "1efff269",
   "metadata": {},
   "source": [
    "### Income Group Dataset"
   ]
  },
  {
   "cell_type": "code",
   "execution_count": 15,
   "id": "07d6e6f6",
   "metadata": {},
   "outputs": [
    {
     "name": "stdout",
     "output_type": "stream",
     "text": [
      "Shape of gni Dataset: (943, 9)\n"
     ]
    },
    {
     "data": {
      "text/html": [
       "<div>\n",
       "<style scoped>\n",
       "    .dataframe tbody tr th:only-of-type {\n",
       "        vertical-align: middle;\n",
       "    }\n",
       "\n",
       "    .dataframe tbody tr th {\n",
       "        vertical-align: top;\n",
       "    }\n",
       "\n",
       "    .dataframe thead th {\n",
       "        text-align: right;\n",
       "    }\n",
       "</style>\n",
       "<table border=\"1\" class=\"dataframe\">\n",
       "  <thead>\n",
       "    <tr style=\"text-align: right;\">\n",
       "      <th></th>\n",
       "      <th>Share_Price</th>\n",
       "      <th>Inflation_CPI</th>\n",
       "      <th>LT_Interest</th>\n",
       "      <th>Labor_Force</th>\n",
       "      <th>Trade_Goverment</th>\n",
       "      <th>H_Spend</th>\n",
       "      <th>Tax</th>\n",
       "      <th>Investment</th>\n",
       "      <th>GNI</th>\n",
       "    </tr>\n",
       "  </thead>\n",
       "  <tbody>\n",
       "    <tr>\n",
       "      <th>0</th>\n",
       "      <td>31.04002</td>\n",
       "      <td>43.11586</td>\n",
       "      <td>13.19167</td>\n",
       "      <td>7749.125</td>\n",
       "      <td>16128.982</td>\n",
       "      <td>137662.806790</td>\n",
       "      <td>68.479</td>\n",
       "      <td>72484.821</td>\n",
       "      <td>H</td>\n",
       "    </tr>\n",
       "    <tr>\n",
       "      <th>1</th>\n",
       "      <td>26.97814</td>\n",
       "      <td>46.22707</td>\n",
       "      <td>12.10417</td>\n",
       "      <td>7964.500</td>\n",
       "      <td>6266.440</td>\n",
       "      <td>149366.901166</td>\n",
       "      <td>81.716</td>\n",
       "      <td>81271.683</td>\n",
       "      <td>H</td>\n",
       "    </tr>\n",
       "    <tr>\n",
       "      <th>2</th>\n",
       "      <td>28.96189</td>\n",
       "      <td>49.70977</td>\n",
       "      <td>13.40833</td>\n",
       "      <td>8224.468</td>\n",
       "      <td>6061.140</td>\n",
       "      <td>162749.855492</td>\n",
       "      <td>88.850</td>\n",
       "      <td>82948.542</td>\n",
       "      <td>H</td>\n",
       "    </tr>\n",
       "    <tr>\n",
       "      <th>3</th>\n",
       "      <td>26.76051</td>\n",
       "      <td>53.35500</td>\n",
       "      <td>13.18000</td>\n",
       "      <td>8443.166</td>\n",
       "      <td>16159.452</td>\n",
       "      <td>169853.765646</td>\n",
       "      <td>90.808</td>\n",
       "      <td>74785.917</td>\n",
       "      <td>H</td>\n",
       "    </tr>\n",
       "    <tr>\n",
       "      <th>4</th>\n",
       "      <td>27.82293</td>\n",
       "      <td>55.04992</td>\n",
       "      <td>10.69083</td>\n",
       "      <td>8480.917</td>\n",
       "      <td>20802.917</td>\n",
       "      <td>177805.033539</td>\n",
       "      <td>85.140</td>\n",
       "      <td>71752.851</td>\n",
       "      <td>H</td>\n",
       "    </tr>\n",
       "  </tbody>\n",
       "</table>\n",
       "</div>"
      ],
      "text/plain": [
       "   Share_Price  Inflation_CPI  LT_Interest  Labor_Force  Trade_Goverment  \\\n",
       "0     31.04002       43.11586     13.19167     7749.125        16128.982   \n",
       "1     26.97814       46.22707     12.10417     7964.500         6266.440   \n",
       "2     28.96189       49.70977     13.40833     8224.468         6061.140   \n",
       "3     26.76051       53.35500     13.18000     8443.166        16159.452   \n",
       "4     27.82293       55.04992     10.69083     8480.917        20802.917   \n",
       "\n",
       "         H_Spend     Tax  Investment GNI  \n",
       "0  137662.806790  68.479   72484.821   H  \n",
       "1  149366.901166  81.716   81271.683   H  \n",
       "2  162749.855492  88.850   82948.542   H  \n",
       "3  169853.765646  90.808   74785.917   H  \n",
       "4  177805.033539  85.140   71752.851   H  "
      ]
     },
     "execution_count": 15,
     "metadata": {},
     "output_type": "execute_result"
    }
   ],
   "source": [
    "dfs = [df_lti,df_lf,df_exp_imp,df_hspend,df_tax,df_gfcf,df_gni]\n",
    "df_merge_gni = pd.merge(df_sp,df_cpi,how='outer',on=['LOCATION','TIME'])\n",
    "for d in dfs:\n",
    "    df_merge_gni = pd.merge(df_merge_gni,d,how='outer',on=['LOCATION','TIME'])\n",
    "df_merge_gni = df_merge_gni.dropna()\n",
    "# df_merge_gni = df_merge_gni.drop(columns=['LOCATION','TIME','H_Spend',\"Investment\",\"Trade_Goverment\"])\n",
    "df_merge_gni = df_merge_gni.drop(columns=['LOCATION','TIME']).reset_index(drop=True)\n",
    "print(\"Shape of gni Dataset:\",df_merge_gni.shape)\n",
    "df_merge_gni.head()"
   ]
  },
  {
   "cell_type": "code",
   "execution_count": 16,
   "id": "202cf7e6",
   "metadata": {},
   "outputs": [
    {
     "data": {
      "text/plain": [
       "H     881\n",
       "UM     61\n",
       "LM      1\n",
       "Name: GNI, dtype: int64"
      ]
     },
     "execution_count": 16,
     "metadata": {},
     "output_type": "execute_result"
    }
   ],
   "source": [
    "df_merge_gni['GNI'].value_counts()"
   ]
  },
  {
   "cell_type": "markdown",
   "id": "63ea221d",
   "metadata": {},
   "source": [
    "## Reflection"
   ]
  },
  {
   "cell_type": "markdown",
   "id": "f8ee974e",
   "metadata": {},
   "source": [
    "### What is the hardest part of the project that you’ve encountered so far?\n",
    "\n",
    "The hardest part was creating the final datasets that would go into our models.\n",
    "Here are a few instances that we found:\n",
    "1. For our x independent variables for Hyp 1, we had to clean and collate seperate datasets for each of these into a single dataset. \n",
    "Each dataset had different measures, subjects, and frequency for each variable which required individual inspection and cleaning before collation.\n",
    "2. The predictors for GNI which will be used to classify the income group of the country, were unlcear and hard to find. Moreover, the historical dataset with labels assigned to income classes of all the countries for previous years was not easily available. Once we found it, we had to unpivot the dataset to make it suitable for our classification model."
   ]
  },
  {
   "cell_type": "markdown",
   "id": "0acaca98",
   "metadata": {},
   "source": [
    "### What are your initial insights?\n",
    "\n",
    "1. Intially for hypothesis 3, we had planned to classify countries into their respective development status such as Developed, Under-developed and Emerging. After reserarching for data sources that would help us extract these labels per country per year, we realized that there is no solid dataset present for this and a better indicator of a countries economic status is it's income class which can be identified from the country's GNI. Hence we have changed the scope of Hyp3 to classifying countries into their respective income groups. This has a two fold benefit as we were able to build a dataset as well as find a direct correlation between GDP and GNI, where GNI is used to classify the countries into their income groups, hence strengthen our research.\n",
    "2. The Year range is different for each country and also varies in each feature, which on combining of datasets of all the features will leads to loss of all those samples that don't match. \n",
    "3. The Government Spending dataset did not have enough data for us to include it in our model. For most of the countires, the data was available going back till only 2007, which is insufficient for the model. Including this in our final dataframe would have resulted in too much data loss, which is why we are dropping this dataset."
   ]
  },
  {
   "cell_type": "markdown",
   "id": "b79c7560",
   "metadata": {},
   "source": [
    "### Are there any concrete results you can show at this point? If not, why not?"
   ]
  },
  {
   "cell_type": "markdown",
   "id": "174156d2",
   "metadata": {},
   "source": [
    "#### Hypothesis 1: "
   ]
  },
  {
   "cell_type": "code",
   "execution_count": 17,
   "id": "c94797d8",
   "metadata": {},
   "outputs": [
    {
     "name": "stdout",
     "output_type": "stream",
     "text": [
      "R^2_Score: 0.9981114038963094\n",
      "Mean Absolute Error: 26001.22811578123\n",
      "\n",
      "Feature Importances:\n",
      "\t Share_Price: 0.5441364742942831\n",
      "\t Inflation_CPI: 1.4068186636229303\n",
      "\t LT_Interest: 1.2097938638674077\n",
      "\t Labor_Force: 15.787803761899022\n",
      "\t Trade_Goverment: 8.176110399621143\n",
      "\t H_Spend: 30.590589213475937\n",
      "\t Tax: 17.58065495411976\n",
      "\t Investment: 24.704092669099524\n",
      "\n",
      "Sum: 1.0\n"
     ]
    }
   ],
   "source": [
    "from sklearn.ensemble import ExtraTreesRegressor\n",
    "from sklearn.model_selection import train_test_split\n",
    "from sklearn.preprocessing import MinMaxScaler\n",
    "from sklearn.metrics import r2_score,mean_absolute_error\n",
    "\n",
    "# Extra Trees Regressor Model\n",
    "model = ExtraTreesRegressor(random_state=236)\n",
    "X = df_merge_gdp.drop(columns=[\"GDP\"])\n",
    "Y = df_merge_gdp['GDP'].to_numpy()\n",
    "scaler = MinMaxScaler()\n",
    "X_norm = scaler.fit_transform(X)\n",
    "X_train,X_test,Y_train,Y_test = train_test_split(X_norm,Y,test_size=0.3,random_state=236)\n",
    "model.fit(X_train,Y_train)\n",
    "Y_pred = model.predict(X_test)\n",
    "\n",
    "# Model Metrics\n",
    "print(\"R^2_Score:\",r2_score(Y_test,Y_pred))\n",
    "print(\"Mean Absolute Error:\",mean_absolute_error(Y_test,Y_pred))\n",
    "\n",
    "#Feature Importances\n",
    "sum = 0\n",
    "print(\"\\nFeature Importances:\")\n",
    "for i in range(len(model.feature_importances_)):\n",
    "    print(\"\\t\",X.columns[i]+\":\",model.feature_importances_[i]*100)\n",
    "    sum+= model.feature_importances_[i]\n",
    "\n",
    "print(\"\\nSum:\",sum)"
   ]
  },
  {
   "cell_type": "markdown",
   "id": "2e705866",
   "metadata": {},
   "source": [
    "#### Hypothesis 3:"
   ]
  },
  {
   "cell_type": "code",
   "execution_count": 18,
   "id": "ed17d62d",
   "metadata": {},
   "outputs": [
    {
     "name": "stdout",
     "output_type": "stream",
     "text": [
      "0.9717314487632509\n",
      "[[259   1   0]\n",
      " [  6  16   0]\n",
      " [  0   1   0]]\n",
      "['H' 'UM' 'LM']\n"
     ]
    }
   ],
   "source": [
    "from sklearn.ensemble import ExtraTreesClassifier\n",
    "from sklearn.metrics import accuracy_score,confusion_matrix\n",
    "model = ExtraTreesClassifier()\n",
    "X = df_merge_gni.drop(columns=[\"GNI\"])\n",
    "Y = df_merge_gni['GNI'].to_numpy()\n",
    "scaler = MinMaxScaler()\n",
    "# X = X.iloc[:,:3]\n",
    "X_norm = scaler.fit_transform(X)\n",
    "X_train,X_test,Y_train,Y_test = train_test_split(X_norm,Y,test_size=0.3)\n",
    "model.fit(X_train,Y_train)\n",
    "Y_pred = model.predict(X_test)\n",
    "print(accuracy_score(Y_test,Y_pred))\n",
    "# print(confusion_matrix(Y_test,Y_pred))\n",
    "print(confusion_matrix(Y_test,Y_pred,labels=df_merge_gni['GNI'].unique()))\n",
    "print(df_merge_gni['GNI'].unique())\n"
   ]
  },
  {
   "cell_type": "markdown",
   "id": "7022f305",
   "metadata": {},
   "source": [
    "# IGNORE FROM HERE"
   ]
  },
  {
   "cell_type": "code",
   "execution_count": 19,
   "id": "3ee2a5c2",
   "metadata": {},
   "outputs": [],
   "source": [
    "# df_merge['GNI'].value_counts()"
   ]
  },
  {
   "cell_type": "code",
   "execution_count": 20,
   "id": "ea336c31",
   "metadata": {},
   "outputs": [],
   "source": [
    "# dfs = [df_lf,df_gfcf,df_gni]\n",
    "# df_merge = pd.merge(df_hspend,df_tax,how='outer',on=['LOCATION','TIME'])\n",
    "# for d in dfs:\n",
    "#     df_merge = pd.merge(df_merge,d,how='outer',on=['LOCATION','TIME'])\n",
    "# df_merge = df_merge.dropna()\n",
    "# # df_merge = df_merge.drop(columns=['LOCATION','TIME','H_Spend',\"Investment\",\"Trade_Goverment\"])\n",
    "# df_merge = df_merge.drop(columns=['LOCATION','TIME'])\n",
    "# df_merge"
   ]
  },
  {
   "cell_type": "code",
   "execution_count": 21,
   "id": "9406d543",
   "metadata": {},
   "outputs": [],
   "source": [
    "# df_temp = pd.merge(df_gdp,df_gni, how=\"inner\",on=['LOCATION','TIME'])\n",
    "# df_temp['GNI'].value_counts()"
   ]
  },
  {
   "cell_type": "code",
   "execution_count": 22,
   "id": "d63666e9",
   "metadata": {},
   "outputs": [],
   "source": [
    "# from sklearn.ensemble import ExtraTreesClassifier\n",
    "# from sklearn.metrics import accuracy_score\n",
    "# model = ExtraTreesClassifier()\n",
    "# X = df_temp['GDP'].to_numpy().reshape(-1,1)\n",
    "# Y = df_temp['GNI']\n",
    "# scaler = MinMaxScaler()\n",
    "# # X = X.iloc[:,:3]\n",
    "# X_norm = scaler.fit_transform(X)\n",
    "# X_train,X_test,Y_train,Y_test = train_test_split(X_norm,Y,test_size=0.3)\n",
    "# model.fit(X_train,Y_train)"
   ]
  },
  {
   "cell_type": "code",
   "execution_count": 23,
   "id": "1cee66d3",
   "metadata": {},
   "outputs": [],
   "source": [
    "# Y_pred = model.predict(X_test)\n",
    "# print(accuracy_score(Y_test,Y_pred,))"
   ]
  },
  {
   "cell_type": "code",
   "execution_count": 24,
   "id": "73734453",
   "metadata": {},
   "outputs": [],
   "source": [
    "# dfs = [df_lti,df_lf,df_exp_imp,df_hspend,df_tax,df_gfcf]\n"
   ]
  },
  {
   "cell_type": "markdown",
   "id": "19cdb735",
   "metadata": {},
   "source": [
    "# IGNORE TILL HERRE"
   ]
  },
  {
   "cell_type": "markdown",
   "id": "1213883a",
   "metadata": {},
   "source": [
    "### Going forward, what are the current biggest problems you’re facing?\n",
    "\n",
    "1. Elaborating on what was mentioned in the inital insight, after merging of the datasets of all the features of GDP (on Country and Year), data loss is seen. Moving ahead, this will pose a problem for our Regression model for GDP, as the model will have less data to train on. \n",
    "2. Furthermore, on merging the GNI factors(FDI inflow and outflow) with all the GDP indepdent variables, the number of samples returned are low and significant skew in the labels in the dataset is also seen."
   ]
  },
  {
   "cell_type": "markdown",
   "id": "82824ae6",
   "metadata": {},
   "source": [
    "### Do you think you are on track with your project? If not, what parts do you need to dedicate more time to?\n",
    "\n",
    "Currently, the project is on schedule as it was projected. "
   ]
  },
  {
   "cell_type": "markdown",
   "id": "c6cae265",
   "metadata": {},
   "source": [
    "### Given your initial exploration of the data, is it worth proceeding with your project, and why? If not, how are you going to change your project and why do you think it’s better than your current results?\n",
    "\n",
    "After data gathering, cleaning, EDA and model results we feel that the project is worth proceeding. \n",
    "But as highlighted in the previous reflections, we have redirected our project and research question a little according to the insights from the inital exploration of our Hypothesis. \n",
    "We changed course and are now predicting the income classes each country for Hypothesis 3 instead of Development status."
   ]
  },
  {
   "cell_type": "markdown",
   "id": "1790f407",
   "metadata": {},
   "source": [
    "## Next Steps"
   ]
  },
  {
   "cell_type": "markdown",
   "id": "0d80a0e4",
   "metadata": {},
   "source": [
    "### What do you plan to accomplish in the next month and how do you plan to evaluate whether your project achieved the goals you set for it?"
   ]
  },
  {
   "cell_type": "markdown",
   "id": "dfb32a5f",
   "metadata": {},
   "source": [
    "## Reference"
   ]
  },
  {
   "cell_type": "markdown",
   "id": "c5ec701b",
   "metadata": {},
   "source": [
    "### List all the resources you used."
   ]
  }
 ],
 "metadata": {
  "kernelspec": {
   "display_name": "Python 3 (ipykernel)",
   "language": "python",
   "name": "python3"
  },
  "language_info": {
   "codemirror_mode": {
    "name": "ipython",
    "version": 3
   },
   "file_extension": ".py",
   "mimetype": "text/x-python",
   "name": "python",
   "nbconvert_exporter": "python",
   "pygments_lexer": "ipython3",
   "version": "3.9.16"
  },
  "vscode": {
   "interpreter": {
    "hash": "c8ac7bcc6b2dbb39842d89486c34ab7849f692bd3067ed6f57c4db9cdfb88efc"
   }
  }
 },
 "nbformat": 4,
 "nbformat_minor": 5
}
