{
 "cells": [
  {
   "cell_type": "markdown",
   "metadata": {},
   "source": [
    "# Progress Report - Team Outliers\n",
    "\n",
    "## Project Title - Gross Domestic Product and Economic Status of Countries\n",
    "\n",
    "### Team Members - \n",
    "1. Advait Pai - apai21@uic.edu\n",
    "2. Divyasha Pahuja - dpahuj2@uic.edu\n",
    "3. Uday Nair - unair2@uic.edu\n",
    "4. Utsav Sharma - usharm4@uic.edu"
   ]
  },
  {
   "cell_type": "markdown",
   "metadata": {},
   "source": [
    "## Any Changes\n",
    "\n",
    "// Development Status i.e. Under Developed etc, to now economic status based on the GNI\n",
    "\n",
    "Reason - Economic Status ---> GNI\n",
    "and GNI --> GDP therefore ES --> GDP"
   ]
  },
  {
   "cell_type": "markdown",
   "metadata": {},
   "source": [
    "## Data"
   ]
  },
  {
   "cell_type": "markdown",
   "metadata": {},
   "source": [
    "We are using data from the Organisation for Economic Co-operation and Development (OECD) and World Bank for different countries to carry out our predictions. The csv data is freely available on the website, which we have programmatically fetched these datasets from the website. This is done using a `driver.ipynb` notebook, which downloads the files and places them in a folder called `/data`.\n",
    "These files are downloaded as CSVs from the website, and then are cleaned using the steps shown later in the document.\n",
    "\n",
    "Our data is split across a number of datasets:\n",
    "\n",
    "\n",
    "| Sr.no | Dataset | Description | Rows | Columns |\n",
    "|-------|---------|-------------|------|---------|\n",
    "| 1 | Share Prices | Share price indices are calculated from the prices of common shares of companies traded on national or foreign stock exchanges. | 35098 | 8 |\n",
    "| 2 | Consumer Price Index | Inflation measured by consumer price index (CPI) is defined as the change in the prices of a basket of goods and services that are typically purchased by specific groups of households.| 293811 | 8 |\n",
    "| 3 | Long Term Interest Rates | Long-term interest rates refer to government bonds maturing in ten years. Rates are mainly determined by the price charged by the lender, the risk from the borrower and the fall in the capital value. | 27365 | 8 |\n",
    "| 4 | Labour Force | The labour force, or currently active population, comprises all persons who fulfil the requirements for inclusion among the employed (civilian employment plus the armed forces) or the unemployed. | 33517 | 8 |\n",
    "| 5 | Exports and Imports | Defined as the transactions in goods and services between residents and non-residents. It is measured in million USD at 2015 constant prices. | 15922 | 8 |\n",
    "| 6 | Household Spending | Household spending is the amount of final consumption expenditure made by resident households to meet their everyday needs, such as food, clothing, housing (rent), energy, transport, health costs, leisure.​ | 8862 | 8\n",
    "| 7 | Government Spending | General government spending provides an indication of the size of government across countries. The large variation in this indicator highlights the variety of countries' approaches to delivering public goods and services and providing social protection, not necessarily differences in resources spent.​ | 10290 | 8 | \n",
    "| 8 | Tax Revenue | Tax revenue is defined as the revenues collected from taxes on income and profits, social security contributions, taxes levied on goods and services, payroll taxes, taxes on the ownership and transfer of property, and other tax. | 3549 | 8 |\n",
    "| 9 | Investment GFCF | Gross fixed capital formation (GFCF), also called \"investment\", is defined as the acquisition of produced assets (including purchases of second-hand assets), including the production of such assets by producers for their own use, minus disposals. | 24513 | 8 |\n",
    "| 10 | GDP | Gross domestic product (GDP) is the standard measure of the value added created through the production of goods and services in a country during a certain period. As such, it also measures the income earned from that production, or the total amount spent on final goods and services (less imports). | 5162 | 8 |\n",
    "| 11 | Economic Category | This dataset contains the labels for the economic status of a country, which we will be using to perform classification. | 239 | 37 |\n",
    "\n",
    "\n",
    "** Add sentence describing which dataset is used for what **"
   ]
  },
  {
   "cell_type": "markdown",
   "metadata": {},
   "source": [
    "## Research Questions\n",
    "\n",
    "1. Prediction of the Gross Domestic Product(GDP) of countries using leading and lagging factors such as inflation, household spending, trade, tax revenue, etc. from Organization for Economic Co-operation and Development(OECD) datasets by carrying out regression. \n",
    "2. Using the historical data of Gross Domestic Product(GDP) of countries, we attempt to forecast the GDP using the time series data.  \n",
    "3. Classification of countries as per their economic development status (Emerging, Developing and Developed Economies) using economic and social indicators gathered from Exploratory Data Analysis (EDA) of OECD data.\n",
    "4. After conducting exploratory data analysis (EDA) on the OECD dataset, we use the resulting indicators to perform cluster analysis to determine the optimal number of clusters for classifying countries based on their economic development status."
   ]
  },
  {
   "cell_type": "code",
   "execution_count": null,
   "metadata": {},
   "outputs": [],
   "source": []
  },
  {
   "cell_type": "code",
   "execution_count": null,
   "metadata": {},
   "outputs": [],
   "source": []
  }
 ],
 "metadata": {
  "kernelspec": {
   "display_name": "Python 3 (ipykernel)",
   "language": "python",
   "name": "python3"
  },
  "language_info": {
   "codemirror_mode": {
    "name": "ipython",
    "version": 3
   },
   "file_extension": ".py",
   "mimetype": "text/x-python",
   "name": "python",
   "nbconvert_exporter": "python",
   "pygments_lexer": "ipython3",
   "version": "3.9.16"
  }
 },
 "nbformat": 4,
 "nbformat_minor": 2
}
