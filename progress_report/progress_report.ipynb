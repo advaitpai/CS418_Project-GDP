{
 "cells": [
  {
   "cell_type": "markdown",
   "id": "335b6638",
   "metadata": {},
   "source": [
    "# Progress Report - Team Outliers\n",
    "\n",
    "## Project Title - Gross Domestic Product and Economic Status of Countries\n",
    "\n",
    "### Team Members - \n",
    "1. Advait Pai - apai21@uic.edu\n",
    "2. Divyasha Pahuja - dpahuj2@uic.edu\n",
    "3. Uday Nair - unair2@uic.edu\n",
    "4. Utsav Sharma - usharm4@uic.edu"
   ]
  },
  {
   "cell_type": "markdown",
   "id": "766cf04d",
   "metadata": {},
   "source": [
    "## Any Changes\n",
    "\n",
    "// Development Status i.e. Under Developed etc, to now economic status based on the GNI\n",
    "\n",
    "Reason - Economic Status ---> GNI\n",
    "and GNI --> GDP therefore ES --> GDP"
   ]
  },
  {
   "cell_type": "markdown",
   "id": "91801770",
   "metadata": {},
   "source": [
    "## Data"
   ]
  },
  {
   "attachments": {},
   "cell_type": "markdown",
   "id": "9d9d1c61",
   "metadata": {},
   "source": [
    "We are using data from the Organisation for Economic Co-operation and Development (OECD) and World Bank for different countries to carry out our predictions. The csv data is freely available on the website, which we have programmatically fetched these datasets from the website. This is done using a `driver.ipynb` notebook, which downloads the files and places them in a folder called `/data`.\n",
    "These files are downloaded as CSVs from the website, and then are cleaned using the steps shown later in the document.\n",
    "\n",
    "Our data is split across a number of datasets:\n",
    "\n",
    "\n",
    "| Sr.no | Dataset | Description | Rows | Columns |\n",
    "|-------|---------|-------------|------|---------|\n",
    "| 1 | Share Prices | Share price indices are calculated from the prices of common shares of companies traded on national or foreign stock exchanges. | 35098 | 8 |\n",
    "| 2 | Consumer Price Index | Inflation measured by consumer price index (CPI) is defined as the change in the prices of a basket of goods and services that are typically purchased by specific groups of households.| 293811 | 8 |\n",
    "| 3 | Long Term Interest Rates | Long-term interest rates refer to government bonds maturing in ten years. Rates are mainly determined by the price charged by the lender, the risk from the borrower and the fall in the capital value. | 27365 | 8 |\n",
    "| 4 | Labour Force | The labour force, or currently active population, comprises all persons who fulfil the requirements for inclusion among the employed (civilian employment plus the armed forces) or the unemployed. | 33517 | 8 |\n",
    "| 5 | Exports and Imports | Defined as the transactions in goods and services between residents and non-residents. It is measured in million USD at 2015 constant prices. | 15922 | 8 |\n",
    "| 6 | Household Spending | Household spending is the amount of final consumption expenditure made by resident households to meet their everyday needs, such as food, clothing, housing (rent), energy, transport, health costs, leisure.​ | 8862 | 8\n",
    "| 7 | Government Spending | General government spending provides an indication of the size of government across countries. The large variation in this indicator highlights the variety of countries' approaches to delivering public goods and services and providing social protection, not necessarily differences in resources spent.​ | 10290 | 8 | \n",
    "| 8 | Tax Revenue | Tax revenue is defined as the revenues collected from taxes on income and profits, social security contributions, taxes levied on goods and services, payroll taxes, taxes on the ownership and transfer of property, and other tax. | 3549 | 8 |\n",
    "| 9 | Investment GFCF | Gross fixed capital formation (GFCF), also called \"investment\", is defined as the acquisition of produced assets (including purchases of second-hand assets), including the production of such assets by producers for their own use, minus disposals. | 24513 | 8 |\n",
    "| 10 | GDP | Gross domestic product (GDP) is the standard measure of the value added created through the production of goods and services in a country during a certain period. As such, it also measures the income earned from that production, or the total amount spent on final goods and services (less imports). | 5162 | 8 |\n",
    "| 11 | Economic Category | This dataset contains the labels for the economic status of a country, which we will be using to perform classification. | 239 | 37 |\n",
    "| 12 | Net Primary Income from Aborad | Net primary income includes the net labor income and net property and entrepreneurial income components of the SNA. Labor income covers compensation of employees paid to nonresident workers. Property and entrepreneurial income covers investment income from the ownership of foreign financial claims (interest, dividends, rent, etc.) and nonfinancial property income (patents, copyrights, etc.). | 266 | 63 |\n",
    "\n",
    "The datasets `Share Prices`, `Consumer Price Index`, `Long Term Interest Rates`, `Labour Force`, `Exports and Imports`, `Household Spending`, `Government Spending`, `Tax Revenue` and `Investment GFCF` are indicators for `GDP`. The data from these datasets will be used to predict our target value of `GDP`.\n",
    "\n",
    "The datatsets `GDP`,`Net Primary Income from Aborad ` are indicators of the GNI of a country, which helps us classify the the countries into Income Classes (`Economic Category`)."
   ]
  },
  {
   "attachments": {},
   "cell_type": "markdown",
   "id": "d8f7ffe7",
   "metadata": {},
   "source": [
    "## Research Questions\n",
    "\n",
    "1. Given that we develop a regression model that predicts the Gross Domestic Product(GDP) of countries by using leading and lagging factors such as inflation, household spending, trade, tax revenue, etc. from Organization for Economic Co-operation and Development(OECD) datasets, our hypothesis ranks the importance of these leading and lagging factors.\n",
    "2. Using the historical data of Gross Domestic Product(GDP) of countries, we attempt to forecast the GDP using the time series data.  \n",
    "3. Classification of countries as per their income classes (Lower, Lower Middle, Upper Middle and High) using economic and social indicators gathered from Exploratory Data Analysis (EDA) of OECD data.\n",
    "4. After conducting exploratory data analysis (EDA) on the OECD dataset, we use the resulting indicators to perform cluster analysis to determine the optimal number of clusters for classifying countries based on their income classes."
   ]
  },
  {
   "cell_type": "markdown",
   "id": "99e0d2ae",
   "metadata": {},
   "source": [
    "## Data Cleaning - WIP"
   ]
  },
  {
   "cell_type": "markdown",
   "id": "e6ca0b61",
   "metadata": {},
   "source": [
    "### GDP Yearly:\n",
    "\n",
    "To clean this dataset, we load the CSV file from the `data/uncleaned` directory, and check the head to ensure that it loads properly. The initial shape of the dataframe is `(5222,8)` \n",
    "\n",
    "Then, we check the unique values in the column `MEASURE`. This tells us that this column has the values `MLN_USD` and `USD_CAP`.\n",
    "We also check for the columns `FREQUENCY` and `SUBJECT`, where the unique values are `A` and `TOT` respectively.\n",
    "\n",
    "The column `Flag_Codes` is of no use to us, so we drop it. For `MEASURE`, we keep the values with `MLN_USD` only.\n",
    "\n",
    "Before we drop any columns, we need to check the number of unique values per column. From this, the columns `INDICATOR`,`SUBJECT`,`FREQUENCY` and `MEASURE` can be dropped now since they have only 1 value in them and do not add any information.\n",
    "\n",
    "Now, we can check the `null` values for all columns. The dataset that we have no `null` values, so we do not need to handle this.\n",
    "\n",
    "After our cleaning, the shape of a dataframe is `(2675,3)`, which is then exported to a .csv file and placed in the `data/temp` folder."
   ]
  },
  {
   "attachments": {},
   "cell_type": "markdown",
   "id": "9cb59bff",
   "metadata": {},
   "source": [
    "#### Original Data Sizes"
   ]
  },
  {
   "cell_type": "code",
   "execution_count": 16,
   "id": "4af49fff",
   "metadata": {},
   "outputs": [
    {
     "name": "stdout",
     "output_type": "stream",
     "text": [
      "Original Dataset Shapes\n",
      "\n",
      "Share Prices Shape: (35144, 8)\n",
      "Inflation CPI Spend Shape: (294281, 8)\n",
      "Long Term Interest Rates Shape: (27439, 8)\n",
      "Labour Force Shape: (33714, 8)\n",
      "Trade in Government Spend Shape: (16103, 8)\n",
      "Household Spend Shape: (8938, 8)\n",
      "Gov Spend Shape: (10466, 8)\n",
      "Tax Revenue Shape: (3549, 8)\n",
      "Investment GCFC Shape: (24597, 8)\n",
      "GDP Yearly Shape: (5222, 8)\n",
      "Foreign Income Shape: (16492, 3)\n",
      "GNI Yearly Shape: (7630, 3)\n"
     ]
    }
   ],
   "source": [
    "import pandas as pd\n",
    "base_path = '../data/uncleaned/'\n",
    "print('Original Dataset Shapes\\n')\n",
    "\n",
    "\n",
    "# 1. Share Prices Data\n",
    "df_sp_uc = pd.read_csv(base_path+'share_prices.csv')\n",
    "print(\"Share Prices Shape:\",df_sp_uc.shape)\n",
    "# 2. Inflation CPI Data\n",
    "df_cpi_uc = pd.read_csv(base_path+'inflation_cpi.csv')\n",
    "print(\"Inflation CPI Spend Shape:\",df_cpi_uc.shape)\n",
    "# 3. Long Term Interest Rates\n",
    "df_lti_uc = pd.read_csv(base_path+'long_term_ir.csv')\n",
    "print(\"Long Term Interest Rates Shape:\",df_lti_uc.shape)\n",
    "# 4. Labour Force Date\n",
    "df_lf_uc = pd.read_csv(base_path+'labour_force.csv')\n",
    "print(\"Labour Force Shape:\",df_lf_uc.shape)\n",
    "# 5. Trade in Government Spend Data\n",
    "df_exp_imp_uc = pd.read_csv(base_path+'trade_in_gs.csv')\n",
    "print(\"Trade in Government Spend Shape:\",df_exp_imp_uc.shape)\n",
    "# 6. Household Spend\n",
    "df_hspend_uc = pd.read_csv(base_path+'household_spend.csv')\n",
    "print(\"Household Spend Shape:\",df_hspend_uc.shape)\n",
    "# 7. Government Spending\n",
    "df_gspend_uc = pd.read_csv(base_path+'government_spend.csv')\n",
    "print(\"Gov Spend Shape:\",df_gspend_uc.shape)\n",
    "# 8. Tax Revenue\n",
    "df_tax_uc = pd.read_csv(base_path+'tax_revenue.csv')\n",
    "print(\"Tax Revenue Shape:\",df_tax_uc.shape)\n",
    "# 9. Investment GCFC\n",
    "df_gfcf_uc = pd.read_csv(base_path+'investment_gfcf.csv')\n",
    "print(\"Investment GCFC Shape:\",df_gfcf_uc.shape)\n",
    "# 10. GDP Yearly Data\n",
    "df_gdp_uc = pd.read_csv(base_path+'gdp_yearly.csv')\n",
    "print(\"GDP Yearly Shape:\",df_gdp_uc.shape)\n",
    "# 11. FDI Data\n",
    "# df_fdi_in_uc = pd.read_csv(base_path+'FDI_inflow.csv')\n",
    "df_fi_uc_shape = (266*62,3)\n",
    "print(\"Foreign Income Shape:\", df_fi_uc_shape)\n",
    "# df_fdi_out_uc = pd.read_csv(base_path+'foreign_income.csv')\n",
    "# 12. GNI Data\n",
    "# df_gni = pd.read_csv(base_path+'economic_category.csv')\n",
    "df_gni_uc_shape = (218*35,3)\n",
    "print(\"GNI Yearly Shape:\", df_gni_uc_shape)"
   ]
  },
  {
   "attachments": {},
   "cell_type": "markdown",
   "id": "fcbf72f4",
   "metadata": {},
   "source": [
    "#### Final Sizes"
   ]
  },
  {
   "cell_type": "code",
   "execution_count": 17,
   "id": "493baaed",
   "metadata": {},
   "outputs": [
    {
     "name": "stdout",
     "output_type": "stream",
     "text": [
      "Final Dataset Shapes\n",
      "\n",
      "Share Prices Shape: (2065, 3)\n",
      "Inflation CPI Spend Shape: (2840, 3)\n",
      "Long Term Interest Rates Shape: (1587, 3)\n",
      "Labour Force Shape: (1993, 3)\n",
      "Trade in Government Spend Shape: (2641, 3)\n",
      "Household Spend Shape: (1955, 3)\n",
      "Gov Spend Shape: (654, 3)\n",
      "Tax Revenue Shape: (1697, 3)\n",
      "Investment GCFC Shape: (2635, 3)\n",
      "GDP Yearly Shape: (2675, 3)\n",
      "Net FDI Shape: (9063, 3)\n",
      "GNI Yearly Shape: (7161, 3)\n"
     ]
    }
   ],
   "source": [
    "import pandas as pd\n",
    "base_path = '../data/temp/'\n",
    "print('Final Dataset Shapes\\n')\n",
    "# 1. Share Prices Data\n",
    "df_sp = pd.read_csv(base_path+'share_prices_cleaned.csv')\n",
    "print(\"Share Prices Shape:\",df_sp.shape)\n",
    "# 2. Inflation CPI Data\n",
    "df_cpi = pd.read_csv(base_path+'inflation_cpi_cleaned.csv')\n",
    "print(\"Inflation CPI Spend Shape:\",df_cpi.shape)\n",
    "# 3. Long Term Interest Rates\n",
    "df_lti = pd.read_csv(base_path+'long_term_ir_cleaned.csv')\n",
    "print(\"Long Term Interest Rates Shape:\",df_lti.shape)\n",
    "# 4. Labour Force Date\n",
    "df_lf = pd.read_csv(base_path+'labour_force_cleaned.csv')\n",
    "print(\"Labour Force Shape:\",df_lf.shape)\n",
    "# 5. Trade in Government Spend Data\n",
    "df_exp_imp = pd.read_csv(base_path+'trade_in_gs_cleaned.csv')\n",
    "print(\"Trade in Government Spend Shape:\",df_exp_imp.shape)\n",
    "# 6. Household Spend\n",
    "df_hspend = pd.read_csv(base_path+'household_spend_cleaned.csv')\n",
    "print(\"Household Spend Shape:\",df_hspend.shape)\n",
    "# 7. Government Spending\n",
    "df_gspend = pd.read_csv(base_path+'government_spend_cleaned.csv')\n",
    "print(\"Gov Spend Shape:\",df_gspend.shape)\n",
    "# 8. Tax Revenue\n",
    "df_tax = pd.read_csv(base_path+'tax_revenue_cleaned.csv')\n",
    "print(\"Tax Revenue Shape:\",df_tax.shape)\n",
    "# 9. Investment GCFC\n",
    "df_gfcf = pd.read_csv(base_path+'investment_gfcf_cleaned.csv')\n",
    "print(\"Investment GCFC Shape:\",df_gfcf.shape)\n",
    "# 10. GDP Yearly Data\n",
    "df_gdp = pd.read_csv(base_path+'gdp_yearly_cleaned.csv')\n",
    "print(\"GDP Yearly Shape:\",df_gdp.shape)\n",
    "# 11. FDI Data\n",
    "df_fi = pd.read_csv(base_path+'foreign_income_cleaned.csv')\n",
    "print(\"Net Foreign Income Shape:\",df_fi.shape)\n",
    "# 12. GNI Data\n",
    "df_gni = pd.read_csv(base_path+'economic_category_cleaned.csv')\n",
    "print(\"GNI Yearly Shape:\",df_gni.shape)"
   ]
  },
  {
   "cell_type": "code",
   "execution_count": null,
   "id": "54c31a99",
   "metadata": {},
   "outputs": [],
   "source": [
    "def DataLoss(uncl, cl):\n",
    "    x = uncl[0] - cl[0]\n",
    "    y = uncl[1] - cl[1]\n",
    "    return (x,y)"
   ]
  },
  {
   "cell_type": "code",
   "execution_count": 21,
   "id": "f3760669",
   "metadata": {},
   "outputs": [
    {
     "name": "stdout",
     "output_type": "stream",
     "text": [
      "Share Prices Data Loss: (33079, 5)\n",
      "Inflation CPI Spend Data Loss: (291441, 5)\n",
      "Long Term Interest Rates Data Loss: (25852, 5)\n",
      "Labour Force Data Loss: (31721, 5)\n",
      "Trade in Government Spend Data Loss: (13462, 5)\n",
      "Household Spend Data Loss: (6983, 5)\n",
      "Gov Spend Data Loss: (9812, 5)\n",
      "Tax Revenue Data Loss: (1852, 5)\n",
      "Investment GCFC Data Loss: (21962, 5)\n",
      "GDP Yearly Data Loss: (2547, 5)\n",
      "Foreign Income Data Loss: (7429, 0)\n",
      "GNI Yearly Data Loss: (469, 0)\n"
     ]
    }
   ],
   "source": [
    "# 1. Share Prices Data\n",
    "print(\"Share Prices Data Loss:\",DataLoss(df_sp_uc.shape , df_sp.shape))\n",
    "# 2. Inflation CPI Data\n",
    "print(\"Inflation CPI Spend Data Loss:\",DataLoss(df_cpi_uc.shape , df_cpi.shape))\n",
    "# 3. Long Term Interest Rates\n",
    "print(\"Long Term Interest Rates Data Loss:\",DataLoss(df_lti_uc.shape , df_lti.shape))\n",
    "# 4. Labour Force Date\n",
    "print(\"Labour Force Data Loss:\", DataLoss(df_lf_uc.shape , df_lf.shape))\n",
    "# 5. Trade in Government Spend Data\n",
    "print(\"Trade in Government Spend Data Loss:\",DataLoss(df_exp_imp_uc.shape , df_exp_imp.shape))\n",
    "# 6. Household Spend\n",
    "print(\"Household Spend Data Loss:\",DataLoss(df_hspend_uc.shape , df_hspend.shape))\n",
    "# 7. Government Spending\n",
    "print(\"Gov Spend Data Loss:\",DataLoss(df_gspend_uc.shape , df_gspend.shape))\n",
    "# 8. Tax Revenue\n",
    "print(\"Tax Revenue Data Loss:\",DataLoss(df_tax_uc.shape , df_tax.shape))\n",
    "# 9. Investment GCFC\n",
    "print(\"Investment GCFC Data Loss:\",DataLoss(df_gfcf_uc.shape , df_gfcf.shape))\n",
    "# 10. GDP Yearly Data\n",
    "print(\"GDP Yearly Data Loss:\",DataLoss(df_gdp_uc.shape ,  df_gdp.shape))\n",
    "# 11. FDI Data\n",
    "print(\"Foreign Income Data Loss:\", DataLoss(df_fi_uc_shape , df_fi.shape))\n",
    "# 12. GNI Data\n",
    "print(\"GNI Yearly Data Loss:\", DataLoss(df_gni_uc_shape , df_gni.shape))"
   ]
  },
  {
   "cell_type": "code",
   "execution_count": null,
   "id": "5f794064",
   "metadata": {},
   "outputs": [],
   "source": [
    "## Renaming Columns\n",
    "\n",
    "df_sp = df_sp.rename(columns={'Value':'Share_Price'})\n",
    "df_cpi = df_cpi.rename(columns={'Value':'Inflation_CPI'})\n",
    "df_lti = df_lti.rename(columns={'Value':'LT_Interest'})\n",
    "df_lf = df_lf.rename(columns={'Value':'Labor_Force'})\n",
    "df_exp_imp = df_exp_imp.rename(columns={'NTRVAL':'Trade_Goverment'})\n",
    "df_hspend = df_hspend.rename(columns={'Value':'H_Spend'})\n",
    "df_gspend = df_gspend.rename(columns={'Value':'G_Spend'})\n",
    "df_tax = df_tax.rename(columns={'Value':'Tax'})\n",
    "df_gfcf = df_gfcf.rename(columns={'Value':'Investment'})\n",
    "df_gdp = df_gdp.rename(columns={'Value':'GDP'})\n",
    "df_gni = df_gni.rename(columns={'Value':'GNI'})"
   ]
  },
  {
   "cell_type": "code",
   "execution_count": null,
   "id": "6bcf912a",
   "metadata": {},
   "outputs": [],
   "source": []
  },
  {
   "cell_type": "code",
   "execution_count": null,
   "id": "b36f3183",
   "metadata": {},
   "outputs": [
    {
     "data": {
      "text/html": [
       "<div>\n",
       "<style scoped>\n",
       "    .dataframe tbody tr th:only-of-type {\n",
       "        vertical-align: middle;\n",
       "    }\n",
       "\n",
       "    .dataframe tbody tr th {\n",
       "        vertical-align: top;\n",
       "    }\n",
       "\n",
       "    .dataframe thead th {\n",
       "        text-align: right;\n",
       "    }\n",
       "</style>\n",
       "<table border=\"1\" class=\"dataframe\">\n",
       "  <thead>\n",
       "    <tr style=\"text-align: right;\">\n",
       "      <th></th>\n",
       "      <th>LOCATION</th>\n",
       "      <th>TIME</th>\n",
       "      <th>Share_Price</th>\n",
       "    </tr>\n",
       "  </thead>\n",
       "  <tbody>\n",
       "    <tr>\n",
       "      <th>0</th>\n",
       "      <td>AUS</td>\n",
       "      <td>1958</td>\n",
       "      <td>2.613002</td>\n",
       "    </tr>\n",
       "    <tr>\n",
       "      <th>1</th>\n",
       "      <td>AUS</td>\n",
       "      <td>1959</td>\n",
       "      <td>3.256618</td>\n",
       "    </tr>\n",
       "    <tr>\n",
       "      <th>2</th>\n",
       "      <td>AUS</td>\n",
       "      <td>1960</td>\n",
       "      <td>3.966841</td>\n",
       "    </tr>\n",
       "    <tr>\n",
       "      <th>3</th>\n",
       "      <td>AUS</td>\n",
       "      <td>1961</td>\n",
       "      <td>3.653984</td>\n",
       "    </tr>\n",
       "    <tr>\n",
       "      <th>4</th>\n",
       "      <td>AUS</td>\n",
       "      <td>1962</td>\n",
       "      <td>3.678260</td>\n",
       "    </tr>\n",
       "  </tbody>\n",
       "</table>\n",
       "</div>"
      ],
      "text/plain": [
       "  LOCATION  TIME  Share_Price\n",
       "0      AUS  1958     2.613002\n",
       "1      AUS  1959     3.256618\n",
       "2      AUS  1960     3.966841\n",
       "3      AUS  1961     3.653984\n",
       "4      AUS  1962     3.678260"
      ]
     },
     "execution_count": 3,
     "metadata": {},
     "output_type": "execute_result"
    }
   ],
   "source": [
    "df_sp.head()"
   ]
  },
  {
   "cell_type": "code",
   "execution_count": null,
   "id": "bbbd9904",
   "metadata": {},
   "outputs": [
    {
     "data": {
      "text/html": [
       "<div>\n",
       "<style scoped>\n",
       "    .dataframe tbody tr th:only-of-type {\n",
       "        vertical-align: middle;\n",
       "    }\n",
       "\n",
       "    .dataframe tbody tr th {\n",
       "        vertical-align: top;\n",
       "    }\n",
       "\n",
       "    .dataframe thead th {\n",
       "        text-align: right;\n",
       "    }\n",
       "</style>\n",
       "<table border=\"1\" class=\"dataframe\">\n",
       "  <thead>\n",
       "    <tr style=\"text-align: right;\">\n",
       "      <th></th>\n",
       "      <th>LOCATION</th>\n",
       "      <th>TIME</th>\n",
       "      <th>Inflation_CPI</th>\n",
       "    </tr>\n",
       "  </thead>\n",
       "  <tbody>\n",
       "    <tr>\n",
       "      <th>0</th>\n",
       "      <td>AUS</td>\n",
       "      <td>1949</td>\n",
       "      <td>3.738101</td>\n",
       "    </tr>\n",
       "    <tr>\n",
       "      <th>1</th>\n",
       "      <td>AUS</td>\n",
       "      <td>1950</td>\n",
       "      <td>4.063153</td>\n",
       "    </tr>\n",
       "    <tr>\n",
       "      <th>2</th>\n",
       "      <td>AUS</td>\n",
       "      <td>1951</td>\n",
       "      <td>4.852566</td>\n",
       "    </tr>\n",
       "    <tr>\n",
       "      <th>3</th>\n",
       "      <td>AUS</td>\n",
       "      <td>1952</td>\n",
       "      <td>5.688414</td>\n",
       "    </tr>\n",
       "    <tr>\n",
       "      <th>4</th>\n",
       "      <td>AUS</td>\n",
       "      <td>1953</td>\n",
       "      <td>5.943812</td>\n",
       "    </tr>\n",
       "  </tbody>\n",
       "</table>\n",
       "</div>"
      ],
      "text/plain": [
       "  LOCATION  TIME  Inflation_CPI\n",
       "0      AUS  1949       3.738101\n",
       "1      AUS  1950       4.063153\n",
       "2      AUS  1951       4.852566\n",
       "3      AUS  1952       5.688414\n",
       "4      AUS  1953       5.943812"
      ]
     },
     "execution_count": 4,
     "metadata": {},
     "output_type": "execute_result"
    }
   ],
   "source": [
    "df_cpi.head()"
   ]
  },
  {
   "cell_type": "code",
   "execution_count": null,
   "id": "0d232974",
   "metadata": {},
   "outputs": [
    {
     "data": {
      "text/html": [
       "<div>\n",
       "<style scoped>\n",
       "    .dataframe tbody tr th:only-of-type {\n",
       "        vertical-align: middle;\n",
       "    }\n",
       "\n",
       "    .dataframe tbody tr th {\n",
       "        vertical-align: top;\n",
       "    }\n",
       "\n",
       "    .dataframe thead th {\n",
       "        text-align: right;\n",
       "    }\n",
       "</style>\n",
       "<table border=\"1\" class=\"dataframe\">\n",
       "  <thead>\n",
       "    <tr style=\"text-align: right;\">\n",
       "      <th></th>\n",
       "      <th>LOCATION</th>\n",
       "      <th>TIME</th>\n",
       "      <th>LT_Interest</th>\n",
       "    </tr>\n",
       "  </thead>\n",
       "  <tbody>\n",
       "    <tr>\n",
       "      <th>0</th>\n",
       "      <td>PRT</td>\n",
       "      <td>1994</td>\n",
       "      <td>10.478330</td>\n",
       "    </tr>\n",
       "    <tr>\n",
       "      <th>1</th>\n",
       "      <td>PRT</td>\n",
       "      <td>1995</td>\n",
       "      <td>11.465000</td>\n",
       "    </tr>\n",
       "    <tr>\n",
       "      <th>2</th>\n",
       "      <td>PRT</td>\n",
       "      <td>1996</td>\n",
       "      <td>8.559167</td>\n",
       "    </tr>\n",
       "    <tr>\n",
       "      <th>3</th>\n",
       "      <td>PRT</td>\n",
       "      <td>1997</td>\n",
       "      <td>6.358333</td>\n",
       "    </tr>\n",
       "    <tr>\n",
       "      <th>4</th>\n",
       "      <td>PRT</td>\n",
       "      <td>1998</td>\n",
       "      <td>4.877500</td>\n",
       "    </tr>\n",
       "  </tbody>\n",
       "</table>\n",
       "</div>"
      ],
      "text/plain": [
       "  LOCATION  TIME  LT_Interest\n",
       "0      PRT  1994    10.478330\n",
       "1      PRT  1995    11.465000\n",
       "2      PRT  1996     8.559167\n",
       "3      PRT  1997     6.358333\n",
       "4      PRT  1998     4.877500"
      ]
     },
     "execution_count": 5,
     "metadata": {},
     "output_type": "execute_result"
    }
   ],
   "source": [
    "df_lti.head()"
   ]
  },
  {
   "cell_type": "code",
   "execution_count": null,
   "id": "84c6b11c",
   "metadata": {},
   "outputs": [
    {
     "data": {
      "text/html": [
       "<div>\n",
       "<style scoped>\n",
       "    .dataframe tbody tr th:only-of-type {\n",
       "        vertical-align: middle;\n",
       "    }\n",
       "\n",
       "    .dataframe tbody tr th {\n",
       "        vertical-align: top;\n",
       "    }\n",
       "\n",
       "    .dataframe thead th {\n",
       "        text-align: right;\n",
       "    }\n",
       "</style>\n",
       "<table border=\"1\" class=\"dataframe\">\n",
       "  <thead>\n",
       "    <tr style=\"text-align: right;\">\n",
       "      <th></th>\n",
       "      <th>LOCATION</th>\n",
       "      <th>TIME</th>\n",
       "      <th>Labor_Force</th>\n",
       "    </tr>\n",
       "  </thead>\n",
       "  <tbody>\n",
       "    <tr>\n",
       "      <th>0</th>\n",
       "      <td>MEX</td>\n",
       "      <td>2005</td>\n",
       "      <td>43631.50</td>\n",
       "    </tr>\n",
       "    <tr>\n",
       "      <th>1</th>\n",
       "      <td>MEX</td>\n",
       "      <td>2006</td>\n",
       "      <td>44982.52</td>\n",
       "    </tr>\n",
       "    <tr>\n",
       "      <th>2</th>\n",
       "      <td>MEX</td>\n",
       "      <td>2007</td>\n",
       "      <td>45904.54</td>\n",
       "    </tr>\n",
       "    <tr>\n",
       "      <th>3</th>\n",
       "      <td>MEX</td>\n",
       "      <td>2008</td>\n",
       "      <td>46769.21</td>\n",
       "    </tr>\n",
       "    <tr>\n",
       "      <th>4</th>\n",
       "      <td>MEX</td>\n",
       "      <td>2009</td>\n",
       "      <td>48018.36</td>\n",
       "    </tr>\n",
       "  </tbody>\n",
       "</table>\n",
       "</div>"
      ],
      "text/plain": [
       "  LOCATION  TIME  Labor_Force\n",
       "0      MEX  2005     43631.50\n",
       "1      MEX  2006     44982.52\n",
       "2      MEX  2007     45904.54\n",
       "3      MEX  2008     46769.21\n",
       "4      MEX  2009     48018.36"
      ]
     },
     "execution_count": 6,
     "metadata": {},
     "output_type": "execute_result"
    }
   ],
   "source": [
    "df_lf.head()"
   ]
  },
  {
   "cell_type": "code",
   "execution_count": null,
   "id": "6fb8352b",
   "metadata": {},
   "outputs": [
    {
     "data": {
      "text/html": [
       "<div>\n",
       "<style scoped>\n",
       "    .dataframe tbody tr th:only-of-type {\n",
       "        vertical-align: middle;\n",
       "    }\n",
       "\n",
       "    .dataframe tbody tr th {\n",
       "        vertical-align: top;\n",
       "    }\n",
       "\n",
       "    .dataframe thead th {\n",
       "        text-align: right;\n",
       "    }\n",
       "</style>\n",
       "<table border=\"1\" class=\"dataframe\">\n",
       "  <thead>\n",
       "    <tr style=\"text-align: right;\">\n",
       "      <th></th>\n",
       "      <th>LOCATION</th>\n",
       "      <th>TIME</th>\n",
       "      <th>Trade_Goverment</th>\n",
       "    </tr>\n",
       "  </thead>\n",
       "  <tbody>\n",
       "    <tr>\n",
       "      <th>0</th>\n",
       "      <td>AUS</td>\n",
       "      <td>1959</td>\n",
       "      <td>1221.210</td>\n",
       "    </tr>\n",
       "    <tr>\n",
       "      <th>1</th>\n",
       "      <td>AUS</td>\n",
       "      <td>1960</td>\n",
       "      <td>467.848</td>\n",
       "    </tr>\n",
       "    <tr>\n",
       "      <th>2</th>\n",
       "      <td>AUS</td>\n",
       "      <td>1961</td>\n",
       "      <td>3915.866</td>\n",
       "    </tr>\n",
       "    <tr>\n",
       "      <th>3</th>\n",
       "      <td>AUS</td>\n",
       "      <td>1962</td>\n",
       "      <td>1787.544</td>\n",
       "    </tr>\n",
       "    <tr>\n",
       "      <th>4</th>\n",
       "      <td>AUS</td>\n",
       "      <td>1963</td>\n",
       "      <td>2725.988</td>\n",
       "    </tr>\n",
       "  </tbody>\n",
       "</table>\n",
       "</div>"
      ],
      "text/plain": [
       "  LOCATION  TIME  Trade_Goverment\n",
       "0      AUS  1959         1221.210\n",
       "1      AUS  1960          467.848\n",
       "2      AUS  1961         3915.866\n",
       "3      AUS  1962         1787.544\n",
       "4      AUS  1963         2725.988"
      ]
     },
     "execution_count": 7,
     "metadata": {},
     "output_type": "execute_result"
    }
   ],
   "source": [
    "df_exp_imp.head()"
   ]
  },
  {
   "cell_type": "code",
   "execution_count": null,
   "id": "402fdbba",
   "metadata": {},
   "outputs": [
    {
     "data": {
      "text/html": [
       "<div>\n",
       "<style scoped>\n",
       "    .dataframe tbody tr th:only-of-type {\n",
       "        vertical-align: middle;\n",
       "    }\n",
       "\n",
       "    .dataframe tbody tr th {\n",
       "        vertical-align: top;\n",
       "    }\n",
       "\n",
       "    .dataframe thead th {\n",
       "        text-align: right;\n",
       "    }\n",
       "</style>\n",
       "<table border=\"1\" class=\"dataframe\">\n",
       "  <thead>\n",
       "    <tr style=\"text-align: right;\">\n",
       "      <th></th>\n",
       "      <th>LOCATION</th>\n",
       "      <th>TIME</th>\n",
       "      <th>H_Spend</th>\n",
       "    </tr>\n",
       "  </thead>\n",
       "  <tbody>\n",
       "    <tr>\n",
       "      <th>0</th>\n",
       "      <td>AUS</td>\n",
       "      <td>1970</td>\n",
       "      <td>30476.510257</td>\n",
       "    </tr>\n",
       "    <tr>\n",
       "      <th>1</th>\n",
       "      <td>AUS</td>\n",
       "      <td>1971</td>\n",
       "      <td>32799.844017</td>\n",
       "    </tr>\n",
       "    <tr>\n",
       "      <th>2</th>\n",
       "      <td>AUS</td>\n",
       "      <td>1972</td>\n",
       "      <td>35590.183565</td>\n",
       "    </tr>\n",
       "    <tr>\n",
       "      <th>3</th>\n",
       "      <td>AUS</td>\n",
       "      <td>1973</td>\n",
       "      <td>41114.456624</td>\n",
       "    </tr>\n",
       "    <tr>\n",
       "      <th>4</th>\n",
       "      <td>AUS</td>\n",
       "      <td>1974</td>\n",
       "      <td>48461.851872</td>\n",
       "    </tr>\n",
       "  </tbody>\n",
       "</table>\n",
       "</div>"
      ],
      "text/plain": [
       "  LOCATION  TIME       H_Spend\n",
       "0      AUS  1970  30476.510257\n",
       "1      AUS  1971  32799.844017\n",
       "2      AUS  1972  35590.183565\n",
       "3      AUS  1973  41114.456624\n",
       "4      AUS  1974  48461.851872"
      ]
     },
     "execution_count": 8,
     "metadata": {},
     "output_type": "execute_result"
    }
   ],
   "source": [
    "df_hspend.head()"
   ]
  },
  {
   "cell_type": "code",
   "execution_count": null,
   "id": "a09691b3",
   "metadata": {},
   "outputs": [
    {
     "data": {
      "text/html": [
       "<div>\n",
       "<style scoped>\n",
       "    .dataframe tbody tr th:only-of-type {\n",
       "        vertical-align: middle;\n",
       "    }\n",
       "\n",
       "    .dataframe tbody tr th {\n",
       "        vertical-align: top;\n",
       "    }\n",
       "\n",
       "    .dataframe thead th {\n",
       "        text-align: right;\n",
       "    }\n",
       "</style>\n",
       "<table border=\"1\" class=\"dataframe\">\n",
       "  <thead>\n",
       "    <tr style=\"text-align: right;\">\n",
       "      <th></th>\n",
       "      <th>LOCATION</th>\n",
       "      <th>TIME</th>\n",
       "      <th>G_Spend</th>\n",
       "    </tr>\n",
       "  </thead>\n",
       "  <tbody>\n",
       "    <tr>\n",
       "      <th>0</th>\n",
       "      <td>AUS</td>\n",
       "      <td>2007</td>\n",
       "      <td>13737.93</td>\n",
       "    </tr>\n",
       "    <tr>\n",
       "      <th>1</th>\n",
       "      <td>AUS</td>\n",
       "      <td>2008</td>\n",
       "      <td>14835.57</td>\n",
       "    </tr>\n",
       "    <tr>\n",
       "      <th>2</th>\n",
       "      <td>AUS</td>\n",
       "      <td>2009</td>\n",
       "      <td>15963.85</td>\n",
       "    </tr>\n",
       "    <tr>\n",
       "      <th>3</th>\n",
       "      <td>AUS</td>\n",
       "      <td>2010</td>\n",
       "      <td>15802.56</td>\n",
       "    </tr>\n",
       "    <tr>\n",
       "      <th>4</th>\n",
       "      <td>AUS</td>\n",
       "      <td>2011</td>\n",
       "      <td>16535.76</td>\n",
       "    </tr>\n",
       "  </tbody>\n",
       "</table>\n",
       "</div>"
      ],
      "text/plain": [
       "  LOCATION  TIME   G_Spend\n",
       "0      AUS  2007  13737.93\n",
       "1      AUS  2008  14835.57\n",
       "2      AUS  2009  15963.85\n",
       "3      AUS  2010  15802.56\n",
       "4      AUS  2011  16535.76"
      ]
     },
     "execution_count": 9,
     "metadata": {},
     "output_type": "execute_result"
    }
   ],
   "source": [
    "df_gspend.head()"
   ]
  },
  {
   "cell_type": "code",
   "execution_count": null,
   "id": "03625905",
   "metadata": {},
   "outputs": [
    {
     "data": {
      "text/html": [
       "<div>\n",
       "<style scoped>\n",
       "    .dataframe tbody tr th:only-of-type {\n",
       "        vertical-align: middle;\n",
       "    }\n",
       "\n",
       "    .dataframe tbody tr th {\n",
       "        vertical-align: top;\n",
       "    }\n",
       "\n",
       "    .dataframe thead th {\n",
       "        text-align: right;\n",
       "    }\n",
       "</style>\n",
       "<table border=\"1\" class=\"dataframe\">\n",
       "  <thead>\n",
       "    <tr style=\"text-align: right;\">\n",
       "      <th></th>\n",
       "      <th>LOCATION</th>\n",
       "      <th>TIME</th>\n",
       "      <th>Tax</th>\n",
       "    </tr>\n",
       "  </thead>\n",
       "  <tbody>\n",
       "    <tr>\n",
       "      <th>0</th>\n",
       "      <td>AUS</td>\n",
       "      <td>1965</td>\n",
       "      <td>5.608</td>\n",
       "    </tr>\n",
       "    <tr>\n",
       "      <th>1</th>\n",
       "      <td>AUS</td>\n",
       "      <td>1966</td>\n",
       "      <td>5.996</td>\n",
       "    </tr>\n",
       "    <tr>\n",
       "      <th>2</th>\n",
       "      <td>AUS</td>\n",
       "      <td>1967</td>\n",
       "      <td>6.631</td>\n",
       "    </tr>\n",
       "    <tr>\n",
       "      <th>3</th>\n",
       "      <td>AUS</td>\n",
       "      <td>1968</td>\n",
       "      <td>7.405</td>\n",
       "    </tr>\n",
       "    <tr>\n",
       "      <th>4</th>\n",
       "      <td>AUS</td>\n",
       "      <td>1969</td>\n",
       "      <td>8.488</td>\n",
       "    </tr>\n",
       "  </tbody>\n",
       "</table>\n",
       "</div>"
      ],
      "text/plain": [
       "  LOCATION  TIME    Tax\n",
       "0      AUS  1965  5.608\n",
       "1      AUS  1966  5.996\n",
       "2      AUS  1967  6.631\n",
       "3      AUS  1968  7.405\n",
       "4      AUS  1969  8.488"
      ]
     },
     "execution_count": 10,
     "metadata": {},
     "output_type": "execute_result"
    }
   ],
   "source": [
    "df_tax.head()"
   ]
  },
  {
   "cell_type": "code",
   "execution_count": null,
   "id": "9c61c16f",
   "metadata": {},
   "outputs": [
    {
     "data": {
      "text/html": [
       "<div>\n",
       "<style scoped>\n",
       "    .dataframe tbody tr th:only-of-type {\n",
       "        vertical-align: middle;\n",
       "    }\n",
       "\n",
       "    .dataframe tbody tr th {\n",
       "        vertical-align: top;\n",
       "    }\n",
       "\n",
       "    .dataframe thead th {\n",
       "        text-align: right;\n",
       "    }\n",
       "</style>\n",
       "<table border=\"1\" class=\"dataframe\">\n",
       "  <thead>\n",
       "    <tr style=\"text-align: right;\">\n",
       "      <th></th>\n",
       "      <th>LOCATION</th>\n",
       "      <th>TIME</th>\n",
       "      <th>Investment</th>\n",
       "    </tr>\n",
       "  </thead>\n",
       "  <tbody>\n",
       "    <tr>\n",
       "      <th>0</th>\n",
       "      <td>AUS</td>\n",
       "      <td>1960</td>\n",
       "      <td>7594.023</td>\n",
       "    </tr>\n",
       "    <tr>\n",
       "      <th>1</th>\n",
       "      <td>AUS</td>\n",
       "      <td>1961</td>\n",
       "      <td>7555.709</td>\n",
       "    </tr>\n",
       "    <tr>\n",
       "      <th>2</th>\n",
       "      <td>AUS</td>\n",
       "      <td>1962</td>\n",
       "      <td>8263.204</td>\n",
       "    </tr>\n",
       "    <tr>\n",
       "      <th>3</th>\n",
       "      <td>AUS</td>\n",
       "      <td>1963</td>\n",
       "      <td>9144.787</td>\n",
       "    </tr>\n",
       "    <tr>\n",
       "      <th>4</th>\n",
       "      <td>AUS</td>\n",
       "      <td>1964</td>\n",
       "      <td>10182.874</td>\n",
       "    </tr>\n",
       "  </tbody>\n",
       "</table>\n",
       "</div>"
      ],
      "text/plain": [
       "  LOCATION  TIME  Investment\n",
       "0      AUS  1960    7594.023\n",
       "1      AUS  1961    7555.709\n",
       "2      AUS  1962    8263.204\n",
       "3      AUS  1963    9144.787\n",
       "4      AUS  1964   10182.874"
      ]
     },
     "execution_count": 11,
     "metadata": {},
     "output_type": "execute_result"
    }
   ],
   "source": [
    "df_gfcf.head()"
   ]
  },
  {
   "cell_type": "code",
   "execution_count": null,
   "id": "7fd28379",
   "metadata": {},
   "outputs": [
    {
     "data": {
      "text/html": [
       "<div>\n",
       "<style scoped>\n",
       "    .dataframe tbody tr th:only-of-type {\n",
       "        vertical-align: middle;\n",
       "    }\n",
       "\n",
       "    .dataframe tbody tr th {\n",
       "        vertical-align: top;\n",
       "    }\n",
       "\n",
       "    .dataframe thead th {\n",
       "        text-align: right;\n",
       "    }\n",
       "</style>\n",
       "<table border=\"1\" class=\"dataframe\">\n",
       "  <thead>\n",
       "    <tr style=\"text-align: right;\">\n",
       "      <th></th>\n",
       "      <th>LOCATION</th>\n",
       "      <th>TIME</th>\n",
       "      <th>GDP</th>\n",
       "    </tr>\n",
       "  </thead>\n",
       "  <tbody>\n",
       "    <tr>\n",
       "      <th>0</th>\n",
       "      <td>AUS</td>\n",
       "      <td>1960</td>\n",
       "      <td>25071.833</td>\n",
       "    </tr>\n",
       "    <tr>\n",
       "      <th>1</th>\n",
       "      <td>AUS</td>\n",
       "      <td>1961</td>\n",
       "      <td>25363.455</td>\n",
       "    </tr>\n",
       "    <tr>\n",
       "      <th>2</th>\n",
       "      <td>AUS</td>\n",
       "      <td>1962</td>\n",
       "      <td>27953.904</td>\n",
       "    </tr>\n",
       "    <tr>\n",
       "      <th>3</th>\n",
       "      <td>AUS</td>\n",
       "      <td>1963</td>\n",
       "      <td>30431.547</td>\n",
       "    </tr>\n",
       "    <tr>\n",
       "      <th>4</th>\n",
       "      <td>AUS</td>\n",
       "      <td>1964</td>\n",
       "      <td>32742.466</td>\n",
       "    </tr>\n",
       "  </tbody>\n",
       "</table>\n",
       "</div>"
      ],
      "text/plain": [
       "  LOCATION  TIME        GDP\n",
       "0      AUS  1960  25071.833\n",
       "1      AUS  1961  25363.455\n",
       "2      AUS  1962  27953.904\n",
       "3      AUS  1963  30431.547\n",
       "4      AUS  1964  32742.466"
      ]
     },
     "execution_count": 12,
     "metadata": {},
     "output_type": "execute_result"
    }
   ],
   "source": [
    "df_gdp.head()"
   ]
  },
  {
   "cell_type": "code",
   "execution_count": null,
   "id": "953d927e",
   "metadata": {},
   "outputs": [
    {
     "data": {
      "text/html": [
       "<div>\n",
       "<style scoped>\n",
       "    .dataframe tbody tr th:only-of-type {\n",
       "        vertical-align: middle;\n",
       "    }\n",
       "\n",
       "    .dataframe tbody tr th {\n",
       "        vertical-align: top;\n",
       "    }\n",
       "\n",
       "    .dataframe thead th {\n",
       "        text-align: right;\n",
       "    }\n",
       "</style>\n",
       "<table border=\"1\" class=\"dataframe\">\n",
       "  <thead>\n",
       "    <tr style=\"text-align: right;\">\n",
       "      <th></th>\n",
       "      <th>LOCATION</th>\n",
       "      <th>TIME</th>\n",
       "      <th>GNI</th>\n",
       "    </tr>\n",
       "  </thead>\n",
       "  <tbody>\n",
       "    <tr>\n",
       "      <th>0</th>\n",
       "      <td>AFG</td>\n",
       "      <td>1987</td>\n",
       "      <td>L</td>\n",
       "    </tr>\n",
       "    <tr>\n",
       "      <th>2</th>\n",
       "      <td>DZA</td>\n",
       "      <td>1987</td>\n",
       "      <td>UM</td>\n",
       "    </tr>\n",
       "    <tr>\n",
       "      <th>3</th>\n",
       "      <td>ASM</td>\n",
       "      <td>1987</td>\n",
       "      <td>H</td>\n",
       "    </tr>\n",
       "    <tr>\n",
       "      <th>6</th>\n",
       "      <td>ATG</td>\n",
       "      <td>1987</td>\n",
       "      <td>UM</td>\n",
       "    </tr>\n",
       "    <tr>\n",
       "      <th>7</th>\n",
       "      <td>ARG</td>\n",
       "      <td>1987</td>\n",
       "      <td>UM</td>\n",
       "    </tr>\n",
       "  </tbody>\n",
       "</table>\n",
       "</div>"
      ],
      "text/plain": [
       "  LOCATION  TIME GNI\n",
       "0      AFG  1987   L\n",
       "2      DZA  1987  UM\n",
       "3      ASM  1987   H\n",
       "6      ATG  1987  UM\n",
       "7      ARG  1987  UM"
      ]
     },
     "execution_count": 13,
     "metadata": {},
     "output_type": "execute_result"
    }
   ],
   "source": [
    "df_gni = df_gni.dropna()\n",
    "df_gni.head()"
   ]
  },
  {
   "cell_type": "markdown",
   "id": "ab2b8010",
   "metadata": {},
   "source": [
    "## Exploratory Data Analysis"
   ]
  },
  {
   "cell_type": "markdown",
   "id": "2cf7c221",
   "metadata": {},
   "source": [
    "### GDP Dataset"
   ]
  },
  {
   "cell_type": "code",
   "execution_count": 27,
   "id": "f5e05b51",
   "metadata": {},
   "outputs": [
    {
     "name": "stdout",
     "output_type": "stream",
     "text": [
      "Shape of GDP Dataset Before Cleaning: (3603, 11)\n",
      "Shape of GDP Dataset After Cleaning: (1065, 9)\n",
      "Data Loss: (2538, 2)\n"
     ]
    },
    {
     "name": "stderr",
     "output_type": "stream",
     "text": [
      "/var/folders/d5/kbrmypln0nnfft9htnrprljc0000gp/T/ipykernel_5900/1284482108.py:4: FutureWarning: Passing 'suffixes' which cause duplicate columns {'Value_x'} in the result is deprecated and will raise a MergeError in a future version.\n",
      "  df_merge_gdp = pd.merge(df_merge_gdp,d,how='outer',on=['LOCATION','TIME'])\n",
      "/var/folders/d5/kbrmypln0nnfft9htnrprljc0000gp/T/ipykernel_5900/1284482108.py:4: FutureWarning: Passing 'suffixes' which cause duplicate columns {'Value_x'} in the result is deprecated and will raise a MergeError in a future version.\n",
      "  df_merge_gdp = pd.merge(df_merge_gdp,d,how='outer',on=['LOCATION','TIME'])\n",
      "/var/folders/d5/kbrmypln0nnfft9htnrprljc0000gp/T/ipykernel_5900/1284482108.py:4: FutureWarning: Passing 'suffixes' which cause duplicate columns {'Value_x'} in the result is deprecated and will raise a MergeError in a future version.\n",
      "  df_merge_gdp = pd.merge(df_merge_gdp,d,how='outer',on=['LOCATION','TIME'])\n"
     ]
    }
   ],
   "source": [
    "dfs = [df_lti,df_lf,df_exp_imp,df_hspend,df_tax,df_gfcf,df_gdp]\n",
    "df_merge_gdp = pd.merge(df_sp,df_cpi,how='outer',on=['LOCATION','TIME'])\n",
    "for d in dfs:\n",
    "    df_merge_gdp = pd.merge(df_merge_gdp,d,how='outer',on=['LOCATION','TIME'])\n",
    "df_gdp_shape_before = df_merge_gdp.shape\n",
    "print(\"Shape of GDP Dataset Before Cleaning:\",df_gdp_shape_before)\n",
    "df_merge_gdp = df_merge_gdp.dropna()\n",
    "# df_merge_gdp = df_merge_gdp.drop(columns=['LOCATION','TIME','H_Spend',\"Investment\",\"Trade_Goverment\"])\n",
    "df_merge_gdp = df_merge_gdp.drop(columns=['LOCATION','TIME']).reset_index(drop=True)\n",
    "print(\"Shape of GDP Dataset After Cleaning:\",df_merge_gdp.shape)\n",
    "df_merge_gdp.head()\n",
    "print(\"Data Loss:\", DataLoss(df_gdp_shape_before, df_merge_gdp.shape))"
   ]
  },
  {
   "cell_type": "code",
   "execution_count": null,
   "id": "fc13c034",
   "metadata": {},
   "outputs": [
    {
     "data": {
      "text/html": [
       "<div>\n",
       "<style scoped>\n",
       "    .dataframe tbody tr th:only-of-type {\n",
       "        vertical-align: middle;\n",
       "    }\n",
       "\n",
       "    .dataframe tbody tr th {\n",
       "        vertical-align: top;\n",
       "    }\n",
       "\n",
       "    .dataframe thead th {\n",
       "        text-align: right;\n",
       "    }\n",
       "</style>\n",
       "<table border=\"1\" class=\"dataframe\">\n",
       "  <thead>\n",
       "    <tr style=\"text-align: right;\">\n",
       "      <th></th>\n",
       "      <th>Share_Price</th>\n",
       "      <th>Inflation_CPI</th>\n",
       "      <th>LT_Interest</th>\n",
       "      <th>Labor_Force</th>\n",
       "      <th>Trade_Goverment</th>\n",
       "      <th>H_Spend</th>\n",
       "      <th>Tax</th>\n",
       "      <th>Investment</th>\n",
       "      <th>GDP</th>\n",
       "    </tr>\n",
       "  </thead>\n",
       "  <tbody>\n",
       "    <tr>\n",
       "      <th>count</th>\n",
       "      <td>1065.000000</td>\n",
       "      <td>1065.000000</td>\n",
       "      <td>1065.000000</td>\n",
       "      <td>1065.000000</td>\n",
       "      <td>1065.000000</td>\n",
       "      <td>1.065000e+03</td>\n",
       "      <td>1065.000000</td>\n",
       "      <td>1.065000e+03</td>\n",
       "      <td>1.065000e+03</td>\n",
       "    </tr>\n",
       "    <tr>\n",
       "      <th>mean</th>\n",
       "      <td>78.145746</td>\n",
       "      <td>79.698521</td>\n",
       "      <td>5.430886</td>\n",
       "      <td>17982.273092</td>\n",
       "      <td>-1650.701272</td>\n",
       "      <td>6.674355e+05</td>\n",
       "      <td>356.503445</td>\n",
       "      <td>2.579701e+05</td>\n",
       "      <td>1.164511e+06</td>\n",
       "    </tr>\n",
       "    <tr>\n",
       "      <th>std</th>\n",
       "      <td>64.346393</td>\n",
       "      <td>23.822362</td>\n",
       "      <td>3.689449</td>\n",
       "      <td>29515.416510</td>\n",
       "      <td>95927.985079</td>\n",
       "      <td>1.665916e+06</td>\n",
       "      <td>677.455490</td>\n",
       "      <td>5.368084e+05</td>\n",
       "      <td>2.524961e+06</td>\n",
       "    </tr>\n",
       "    <tr>\n",
       "      <th>min</th>\n",
       "      <td>3.054441</td>\n",
       "      <td>6.700533</td>\n",
       "      <td>-0.523833</td>\n",
       "      <td>145.400000</td>\n",
       "      <td>-988060.724000</td>\n",
       "      <td>3.156788e+03</td>\n",
       "      <td>1.767000</td>\n",
       "      <td>1.118213e+03</td>\n",
       "      <td>6.268439e+03</td>\n",
       "    </tr>\n",
       "    <tr>\n",
       "      <th>25%</th>\n",
       "      <td>33.733540</td>\n",
       "      <td>66.444680</td>\n",
       "      <td>2.754167</td>\n",
       "      <td>2721.400000</td>\n",
       "      <td>-3546.129000</td>\n",
       "      <td>8.004702e+04</td>\n",
       "      <td>50.173000</td>\n",
       "      <td>3.543663e+04</td>\n",
       "      <td>1.647204e+05</td>\n",
       "    </tr>\n",
       "    <tr>\n",
       "      <th>50%</th>\n",
       "      <td>75.870530</td>\n",
       "      <td>84.038980</td>\n",
       "      <td>4.894242</td>\n",
       "      <td>5297.725000</td>\n",
       "      <td>4987.949000</td>\n",
       "      <td>1.741438e+05</td>\n",
       "      <td>115.411000</td>\n",
       "      <td>8.127168e+04</td>\n",
       "      <td>3.442944e+05</td>\n",
       "    </tr>\n",
       "    <tr>\n",
       "      <th>75%</th>\n",
       "      <td>101.283400</td>\n",
       "      <td>99.601300</td>\n",
       "      <td>7.611667</td>\n",
       "      <td>23348.500000</td>\n",
       "      <td>21292.141000</td>\n",
       "      <td>6.127016e+05</td>\n",
       "      <td>354.407000</td>\n",
       "      <td>2.483558e+05</td>\n",
       "      <td>1.143106e+06</td>\n",
       "    </tr>\n",
       "    <tr>\n",
       "      <th>max</th>\n",
       "      <td>657.822300</td>\n",
       "      <td>127.189200</td>\n",
       "      <td>22.497500</td>\n",
       "      <td>163538.700000</td>\n",
       "      <td>255017.100000</td>\n",
       "      <td>1.590258e+07</td>\n",
       "      <td>6112.256000</td>\n",
       "      <td>4.939579e+06</td>\n",
       "      <td>2.331508e+07</td>\n",
       "    </tr>\n",
       "  </tbody>\n",
       "</table>\n",
       "</div>"
      ],
      "text/plain": [
       "       Share_Price  Inflation_CPI  LT_Interest    Labor_Force  \\\n",
       "count  1065.000000    1065.000000  1065.000000    1065.000000   \n",
       "mean     78.145746      79.698521     5.430886   17982.273092   \n",
       "std      64.346393      23.822362     3.689449   29515.416510   \n",
       "min       3.054441       6.700533    -0.523833     145.400000   \n",
       "25%      33.733540      66.444680     2.754167    2721.400000   \n",
       "50%      75.870530      84.038980     4.894242    5297.725000   \n",
       "75%     101.283400      99.601300     7.611667   23348.500000   \n",
       "max     657.822300     127.189200    22.497500  163538.700000   \n",
       "\n",
       "       Trade_Goverment       H_Spend          Tax    Investment           GDP  \n",
       "count      1065.000000  1.065000e+03  1065.000000  1.065000e+03  1.065000e+03  \n",
       "mean      -1650.701272  6.674355e+05   356.503445  2.579701e+05  1.164511e+06  \n",
       "std       95927.985079  1.665916e+06   677.455490  5.368084e+05  2.524961e+06  \n",
       "min     -988060.724000  3.156788e+03     1.767000  1.118213e+03  6.268439e+03  \n",
       "25%       -3546.129000  8.004702e+04    50.173000  3.543663e+04  1.647204e+05  \n",
       "50%        4987.949000  1.741438e+05   115.411000  8.127168e+04  3.442944e+05  \n",
       "75%       21292.141000  6.127016e+05   354.407000  2.483558e+05  1.143106e+06  \n",
       "max      255017.100000  1.590258e+07  6112.256000  4.939579e+06  2.331508e+07  "
      ]
     },
     "execution_count": 23,
     "metadata": {},
     "output_type": "execute_result"
    }
   ],
   "source": [
    "# GDP Data Description\n",
    "df_merge_gdp.describe()"
   ]
  },
  {
   "cell_type": "code",
   "execution_count": null,
   "id": "7a355a22",
   "metadata": {},
   "outputs": [
    {
     "name": "stdout",
     "output_type": "stream",
     "text": [
      "                 Share_Price  Inflation_CPI  LT_Interest  Labor_Force  \\\n",
      "Share_Price         1.000000       0.485505    -0.416852    -0.096930   \n",
      "Inflation_CPI       0.485505       1.000000    -0.769152    -0.018194   \n",
      "LT_Interest        -0.416852      -0.769152     1.000000    -0.049360   \n",
      "Labor_Force        -0.096930      -0.018194    -0.049360     1.000000   \n",
      "Trade_Goverment    -0.038930      -0.024756     0.011605    -0.669144   \n",
      "H_Spend             0.006554       0.125756    -0.154909     0.879641   \n",
      "Tax                 0.009295       0.174946    -0.216608     0.887238   \n",
      "Investment          0.015375       0.156245    -0.194292     0.905655   \n",
      "GDP                 0.011974       0.152546    -0.187781     0.895119   \n",
      "\n",
      "                 Trade_Goverment   H_Spend       Tax  Investment       GDP  \n",
      "Share_Price            -0.038930  0.006554  0.009295    0.015375  0.011974  \n",
      "Inflation_CPI          -0.024756  0.125756  0.174946    0.156245  0.152546  \n",
      "LT_Interest             0.011605 -0.154909 -0.216608   -0.194292 -0.187781  \n",
      "Labor_Force            -0.669144  0.879641  0.887238    0.905655  0.895119  \n",
      "Trade_Goverment         1.000000 -0.808634 -0.720402   -0.777460 -0.773850  \n",
      "H_Spend                -0.808634  1.000000  0.969396    0.983576  0.995299  \n",
      "Tax                    -0.720402  0.969396  1.000000    0.981546  0.983947  \n",
      "Investment             -0.777460  0.983576  0.981546    1.000000  0.993745  \n",
      "GDP                    -0.773850  0.995299  0.983947    0.993745  1.000000  \n"
     ]
    }
   ],
   "source": [
    "# Pairwise correlation of columns\n",
    "cm_gdp = df_merge_gdp.corr()\n",
    "print(cm_gdp)"
   ]
  },
  {
   "cell_type": "code",
   "execution_count": 32,
   "id": "4a560746",
   "metadata": {},
   "outputs": [
    {
     "data": {
      "image/png": "[encoded data removed]",
      "text/plain": [
       "<Figure size 1080x1080 with 9 Axes>"
      ]
     },
     "metadata": {
      "needs_background": "light"
     },
     "output_type": "display_data"
    }
   ],
   "source": [
    "df_merge_gdp.hist(figsize=(15,15)) \n",
    "plt.show()"
   ]
  },
  {
   "cell_type": "code",
   "execution_count": null,
   "id": "270cd717",
   "metadata": {},
   "outputs": [
    {
     "data": {
      "text/plain": [
       "<AxesSubplot:>"
      ]
     },
     "execution_count": 26,
     "metadata": {},
     "output_type": "execute_result"
    },
    {
     "data": {
      "image/png": "[encoded data removed]",
      "text/plain": [
       "<Figure size 1080x1080 with 2 Axes>"
      ]
     },
     "metadata": {
      "needs_background": "light"
     },
     "output_type": "display_data"
    }
   ],
   "source": [
    "# Correlation Matrix Visualization \n",
    "import seaborn as sns\n",
    "from matplotlib import pyplot as plt\n",
    "\n",
    "plt.figure(figsize=(15,15))\n",
    "#plot heat map\n",
    "sns.heatmap(cm_gdp, annot=True, cmap=\"RdYlGn\")"
   ]
  },
  {
   "cell_type": "markdown",
   "id": "1efff269",
   "metadata": {},
   "source": [
    "### Income Group Dataset"
   ]
  },
  {
   "cell_type": "code",
   "execution_count": null,
   "id": "07d6e6f6",
   "metadata": {},
   "outputs": [
    {
     "name": "stdout",
     "output_type": "stream",
     "text": [
      "Shape of gni Dataset: (943, 9)\n"
     ]
    },
    {
     "data": {
      "text/html": [
       "<div>\n",
       "<style scoped>\n",
       "    .dataframe tbody tr th:only-of-type {\n",
       "        vertical-align: middle;\n",
       "    }\n",
       "\n",
       "    .dataframe tbody tr th {\n",
       "        vertical-align: top;\n",
       "    }\n",
       "\n",
       "    .dataframe thead th {\n",
       "        text-align: right;\n",
       "    }\n",
       "</style>\n",
       "<table border=\"1\" class=\"dataframe\">\n",
       "  <thead>\n",
       "    <tr style=\"text-align: right;\">\n",
       "      <th></th>\n",
       "      <th>Share_Price</th>\n",
       "      <th>Inflation_CPI</th>\n",
       "      <th>LT_Interest</th>\n",
       "      <th>Labor_Force</th>\n",
       "      <th>Trade_Goverment</th>\n",
       "      <th>H_Spend</th>\n",
       "      <th>Tax</th>\n",
       "      <th>Investment</th>\n",
       "      <th>GNI</th>\n",
       "    </tr>\n",
       "  </thead>\n",
       "  <tbody>\n",
       "    <tr>\n",
       "      <th>0</th>\n",
       "      <td>31.04002</td>\n",
       "      <td>43.11586</td>\n",
       "      <td>13.19167</td>\n",
       "      <td>7749.125</td>\n",
       "      <td>16128.982</td>\n",
       "      <td>137662.806790</td>\n",
       "      <td>68.479</td>\n",
       "      <td>72484.821</td>\n",
       "      <td>H</td>\n",
       "    </tr>\n",
       "    <tr>\n",
       "      <th>1</th>\n",
       "      <td>26.97814</td>\n",
       "      <td>46.22707</td>\n",
       "      <td>12.10417</td>\n",
       "      <td>7964.500</td>\n",
       "      <td>6266.440</td>\n",
       "      <td>149366.901166</td>\n",
       "      <td>81.716</td>\n",
       "      <td>81271.683</td>\n",
       "      <td>H</td>\n",
       "    </tr>\n",
       "    <tr>\n",
       "      <th>2</th>\n",
       "      <td>28.96189</td>\n",
       "      <td>49.70977</td>\n",
       "      <td>13.40833</td>\n",
       "      <td>8224.468</td>\n",
       "      <td>6061.140</td>\n",
       "      <td>162749.855492</td>\n",
       "      <td>88.850</td>\n",
       "      <td>82948.542</td>\n",
       "      <td>H</td>\n",
       "    </tr>\n",
       "    <tr>\n",
       "      <th>3</th>\n",
       "      <td>26.76051</td>\n",
       "      <td>53.35500</td>\n",
       "      <td>13.18000</td>\n",
       "      <td>8443.166</td>\n",
       "      <td>16159.452</td>\n",
       "      <td>169853.765646</td>\n",
       "      <td>90.808</td>\n",
       "      <td>74785.917</td>\n",
       "      <td>H</td>\n",
       "    </tr>\n",
       "    <tr>\n",
       "      <th>4</th>\n",
       "      <td>27.82293</td>\n",
       "      <td>55.04992</td>\n",
       "      <td>10.69083</td>\n",
       "      <td>8480.917</td>\n",
       "      <td>20802.917</td>\n",
       "      <td>177805.033539</td>\n",
       "      <td>85.140</td>\n",
       "      <td>71752.851</td>\n",
       "      <td>H</td>\n",
       "    </tr>\n",
       "  </tbody>\n",
       "</table>\n",
       "</div>"
      ],
      "text/plain": [
       "   Share_Price  Inflation_CPI  LT_Interest  Labor_Force  Trade_Goverment  \\\n",
       "0     31.04002       43.11586     13.19167     7749.125        16128.982   \n",
       "1     26.97814       46.22707     12.10417     7964.500         6266.440   \n",
       "2     28.96189       49.70977     13.40833     8224.468         6061.140   \n",
       "3     26.76051       53.35500     13.18000     8443.166        16159.452   \n",
       "4     27.82293       55.04992     10.69083     8480.917        20802.917   \n",
       "\n",
       "         H_Spend     Tax  Investment GNI  \n",
       "0  137662.806790  68.479   72484.821   H  \n",
       "1  149366.901166  81.716   81271.683   H  \n",
       "2  162749.855492  88.850   82948.542   H  \n",
       "3  169853.765646  90.808   74785.917   H  \n",
       "4  177805.033539  85.140   71752.851   H  "
      ]
     },
     "execution_count": 15,
     "metadata": {},
     "output_type": "execute_result"
    }
   ],
   "source": [
    "dfs = [df_lti,df_lf,df_exp_imp,df_hspend,df_tax,df_gfcf,df_gni]\n",
    "df_merge_gni = pd.merge(df_sp,df_cpi,how='outer',on=['LOCATION','TIME'])\n",
    "for d in dfs:\n",
    "    df_merge_gni = pd.merge(df_merge_gni,d,how='outer',on=['LOCATION','TIME'])\n",
    "df_merge_gni = df_merge_gni.dropna()\n",
    "# df_merge_gni = df_merge_gni.drop(columns=['LOCATION','TIME','H_Spend',\"Investment\",\"Trade_Goverment\"])\n",
    "df_merge_gni = df_merge_gni.drop(columns=['LOCATION','TIME']).reset_index(drop=True)\n",
    "print(\"Shape of gni Dataset:\",df_merge_gni.shape)\n",
    "df_merge_gni.head()"
   ]
  },
  {
   "cell_type": "code",
   "execution_count": null,
   "id": "202cf7e6",
   "metadata": {},
   "outputs": [
    {
     "data": {
      "text/plain": [
       "H     881\n",
       "UM     61\n",
       "LM      1\n",
       "Name: GNI, dtype: int64"
      ]
     },
     "execution_count": 16,
     "metadata": {},
     "output_type": "execute_result"
    }
   ],
   "source": [
    "df_merge_gni['GNI'].value_counts()"
   ]
  },
  {
   "cell_type": "code",
   "execution_count": null,
   "id": "ff7d4436",
   "metadata": {},
   "outputs": [
    {
     "data": {
      "text/html": [
       "<div>\n",
       "<style scoped>\n",
       "    .dataframe tbody tr th:only-of-type {\n",
       "        vertical-align: middle;\n",
       "    }\n",
       "\n",
       "    .dataframe tbody tr th {\n",
       "        vertical-align: top;\n",
       "    }\n",
       "\n",
       "    .dataframe thead th {\n",
       "        text-align: right;\n",
       "    }\n",
       "</style>\n",
       "<table border=\"1\" class=\"dataframe\">\n",
       "  <thead>\n",
       "    <tr style=\"text-align: right;\">\n",
       "      <th></th>\n",
       "      <th>Share_Price</th>\n",
       "      <th>Inflation_CPI</th>\n",
       "      <th>LT_Interest</th>\n",
       "      <th>Labor_Force</th>\n",
       "      <th>Trade_Goverment</th>\n",
       "      <th>H_Spend</th>\n",
       "      <th>Tax</th>\n",
       "      <th>Investment</th>\n",
       "    </tr>\n",
       "  </thead>\n",
       "  <tbody>\n",
       "    <tr>\n",
       "      <th>count</th>\n",
       "      <td>943.000000</td>\n",
       "      <td>943.000000</td>\n",
       "      <td>943.000000</td>\n",
       "      <td>943.000000</td>\n",
       "      <td>943.000000</td>\n",
       "      <td>9.430000e+02</td>\n",
       "      <td>943.000000</td>\n",
       "      <td>9.430000e+02</td>\n",
       "    </tr>\n",
       "    <tr>\n",
       "      <th>mean</th>\n",
       "      <td>86.714929</td>\n",
       "      <td>85.852423</td>\n",
       "      <td>4.743017</td>\n",
       "      <td>17327.697777</td>\n",
       "      <td>-2236.065354</td>\n",
       "      <td>7.102623e+05</td>\n",
       "      <td>381.864538</td>\n",
       "      <td>2.740325e+05</td>\n",
       "    </tr>\n",
       "    <tr>\n",
       "      <th>std</th>\n",
       "      <td>63.416335</td>\n",
       "      <td>16.733300</td>\n",
       "      <td>3.169418</td>\n",
       "      <td>29164.768672</td>\n",
       "      <td>101116.071322</td>\n",
       "      <td>1.753916e+06</td>\n",
       "      <td>711.155315</td>\n",
       "      <td>5.632870e+05</td>\n",
       "    </tr>\n",
       "    <tr>\n",
       "      <th>min</th>\n",
       "      <td>6.045171</td>\n",
       "      <td>39.771550</td>\n",
       "      <td>-0.523833</td>\n",
       "      <td>145.400000</td>\n",
       "      <td>-988060.724000</td>\n",
       "      <td>3.156788e+03</td>\n",
       "      <td>1.881000</td>\n",
       "      <td>1.118213e+03</td>\n",
       "    </tr>\n",
       "    <tr>\n",
       "      <th>25%</th>\n",
       "      <td>50.829340</td>\n",
       "      <td>73.103890</td>\n",
       "      <td>2.342084</td>\n",
       "      <td>2715.225000</td>\n",
       "      <td>-3854.973500</td>\n",
       "      <td>8.361167e+04</td>\n",
       "      <td>54.346000</td>\n",
       "      <td>3.798015e+04</td>\n",
       "    </tr>\n",
       "    <tr>\n",
       "      <th>50%</th>\n",
       "      <td>82.104140</td>\n",
       "      <td>88.680430</td>\n",
       "      <td>4.519166</td>\n",
       "      <td>5100.075000</td>\n",
       "      <td>4689.344000</td>\n",
       "      <td>1.803211e+05</td>\n",
       "      <td>122.217000</td>\n",
       "      <td>8.517746e+04</td>\n",
       "    </tr>\n",
       "    <tr>\n",
       "      <th>75%</th>\n",
       "      <td>105.139750</td>\n",
       "      <td>100.000000</td>\n",
       "      <td>6.414167</td>\n",
       "      <td>22917.260000</td>\n",
       "      <td>21525.656000</td>\n",
       "      <td>6.683286e+05</td>\n",
       "      <td>400.505500</td>\n",
       "      <td>2.770226e+05</td>\n",
       "    </tr>\n",
       "    <tr>\n",
       "      <th>max</th>\n",
       "      <td>657.822300</td>\n",
       "      <td>127.189200</td>\n",
       "      <td>22.497500</td>\n",
       "      <td>163538.700000</td>\n",
       "      <td>255017.100000</td>\n",
       "      <td>1.590258e+07</td>\n",
       "      <td>6112.256000</td>\n",
       "      <td>4.939579e+06</td>\n",
       "    </tr>\n",
       "  </tbody>\n",
       "</table>\n",
       "</div>"
      ],
      "text/plain": [
       "       Share_Price  Inflation_CPI  LT_Interest    Labor_Force  \\\n",
       "count   943.000000     943.000000   943.000000     943.000000   \n",
       "mean     86.714929      85.852423     4.743017   17327.697777   \n",
       "std      63.416335      16.733300     3.169418   29164.768672   \n",
       "min       6.045171      39.771550    -0.523833     145.400000   \n",
       "25%      50.829340      73.103890     2.342084    2715.225000   \n",
       "50%      82.104140      88.680430     4.519166    5100.075000   \n",
       "75%     105.139750     100.000000     6.414167   22917.260000   \n",
       "max     657.822300     127.189200    22.497500  163538.700000   \n",
       "\n",
       "       Trade_Goverment       H_Spend          Tax    Investment  \n",
       "count       943.000000  9.430000e+02   943.000000  9.430000e+02  \n",
       "mean      -2236.065354  7.102623e+05   381.864538  2.740325e+05  \n",
       "std      101116.071322  1.753916e+06   711.155315  5.632870e+05  \n",
       "min     -988060.724000  3.156788e+03     1.881000  1.118213e+03  \n",
       "25%       -3854.973500  8.361167e+04    54.346000  3.798015e+04  \n",
       "50%        4689.344000  1.803211e+05   122.217000  8.517746e+04  \n",
       "75%       21525.656000  6.683286e+05   400.505500  2.770226e+05  \n",
       "max      255017.100000  1.590258e+07  6112.256000  4.939579e+06  "
      ]
     },
     "execution_count": 27,
     "metadata": {},
     "output_type": "execute_result"
    }
   ],
   "source": [
    "# GDP Data Description\n",
    "df_merge_gni.describe()"
   ]
  },
  {
   "cell_type": "code",
   "execution_count": null,
   "id": "90fbfa1b",
   "metadata": {},
   "outputs": [
    {
     "name": "stdout",
     "output_type": "stream",
     "text": [
      "                 Share_Price  Inflation_CPI  LT_Interest  Labor_Force  \\\n",
      "Share_Price         1.000000       0.351728    -0.302904    -0.081486   \n",
      "Inflation_CPI       0.351728       1.000000    -0.769907     0.029641   \n",
      "LT_Interest        -0.302904      -0.769907     1.000000    -0.090062   \n",
      "Labor_Force        -0.081486       0.029641    -0.090062     1.000000   \n",
      "Trade_Goverment    -0.036127      -0.018369    -0.004349    -0.696457   \n",
      "H_Spend            -0.020955       0.104622    -0.143714     0.916843   \n",
      "Tax                -0.031225       0.141229    -0.200354     0.930557   \n",
      "Investment         -0.016011       0.136751    -0.185664     0.942293   \n",
      "\n",
      "                 Trade_Goverment   H_Spend       Tax  Investment  \n",
      "Share_Price            -0.036127 -0.020955 -0.031225   -0.016011  \n",
      "Inflation_CPI          -0.018369  0.104622  0.141229    0.136751  \n",
      "LT_Interest            -0.004349 -0.143714 -0.200354   -0.185664  \n",
      "Labor_Force            -0.696457  0.916843  0.930557    0.942293  \n",
      "Trade_Goverment         1.000000 -0.811313 -0.723761   -0.780507  \n",
      "H_Spend                -0.811313  1.000000  0.969501    0.983491  \n",
      "Tax                    -0.723761  0.969501  1.000000    0.981684  \n",
      "Investment             -0.780507  0.983491  0.981684    1.000000  \n"
     ]
    }
   ],
   "source": [
    "# Pairwise correlation of columns\n",
    "cm_gni = df_merge_gni.corr()\n",
    "print(cm_gni)"
   ]
  },
  {
   "cell_type": "code",
   "execution_count": 30,
   "id": "08ede00d",
   "metadata": {},
   "outputs": [
    {
     "data": {
      "image/png": "[encoded data removed]",
      "text/plain": [
       "<Figure size 1080x1080 with 9 Axes>"
      ]
     },
     "metadata": {
      "needs_background": "light"
     },
     "output_type": "display_data"
    }
   ],
   "source": [
    "df_merge_gni.hist(figsize=(15,15)) \n",
    "plt.show()"
   ]
  },
  {
   "cell_type": "code",
   "execution_count": null,
   "id": "a76c02ed",
   "metadata": {},
   "outputs": [
    {
     "data": {
      "text/plain": [
       "<AxesSubplot:>"
      ]
     },
     "execution_count": 29,
     "metadata": {},
     "output_type": "execute_result"
    },
    {
     "data": {
      "image/png": "[encoded data removed]",
      "text/plain": [
       "<Figure size 1080x1080 with 2 Axes>"
      ]
     },
     "metadata": {
      "needs_background": "light"
     },
     "output_type": "display_data"
    }
   ],
   "source": [
    "# Correlation Matrix Visualization \n",
    "import seaborn as sns\n",
    "from matplotlib import pyplot as plt\n",
    "\n",
    "plt.figure(figsize=(15,15))\n",
    "#plot heat map\n",
    "sns.heatmap(cm_gni, annot=True, cmap=\"RdYlGn\")"
   ]
  },
  {
   "cell_type": "markdown",
   "id": "63ea221d",
   "metadata": {},
   "source": [
    "## Reflection"
   ]
  },
  {
   "cell_type": "markdown",
   "id": "f8ee974e",
   "metadata": {},
   "source": [
    "### What is the hardest part of the project that you’ve encountered so far?\n",
    "\n",
    "The hardest part was creating the final datasets that would go into our models.\n",
    "Here are a few instances that we found:\n",
    "1. For our x independent variables for Hyp 1, we had to clean and collate seperate datasets for each of these into a single dataset. \n",
    "Each dataset had different measures, subjects, and frequency for each variable which required individual inspection and cleaning before collation.\n",
    "2. The predictors for GNI which will be used to classify the income group of the country, were unlcear and hard to find. Moreover, the historical dataset with labels assigned to income classes of all the countries for previous years was not easily available. Once we found it, we had to unpivot the dataset to make it suitable for our classification model."
   ]
  },
  {
   "cell_type": "markdown",
   "id": "0acaca98",
   "metadata": {},
   "source": [
    "### What are your initial insights?\n",
    "\n",
    "1. Intially for hypothesis 3, we had planned to classify countries into their respective development status such as Developed, Under-developed and Emerging. After reserarching for data sources that would help us extract these labels per country per year, we realized that there is no solid dataset present for this and a better indicator of a countries economic status is it's income class which can be identified from the country's GNI. Hence we have changed the scope of Hyp3 to classifying countries into their respective income groups. This has a two fold benefit as we were able to build a dataset as well as find a direct correlation between GDP and GNI, where GNI is used to classify the countries into their income groups, hence strengthen our research.\n",
    "2. The Year range is different for each country and also varies in each feature, which on combining of datasets of all the features will leads to loss of all those samples that don't match. \n",
    "3. The Government Spending dataset did not have enough data for us to include it in our model. For most of the countires, the data was available going back till only 2007, which is insufficient for the model. Including this in our final dataframe would have resulted in too much data loss, which is why we are dropping this dataset."
   ]
  },
  {
   "cell_type": "markdown",
   "id": "b79c7560",
   "metadata": {},
   "source": [
    "### Are there any concrete results you can show at this point? If not, why not?"
   ]
  },
  {
   "cell_type": "markdown",
   "id": "174156d2",
   "metadata": {},
   "source": [
    "#### Hypothesis 1: "
   ]
  },
  {
   "cell_type": "code",
   "execution_count": null,
   "id": "c94797d8",
   "metadata": {},
   "outputs": [
    {
     "name": "stdout",
     "output_type": "stream",
     "text": [
      "R^2_Score: 0.9981114038963094\n",
      "Mean Absolute Error: 26001.22811578123\n",
      "\n",
      "Feature Importances:\n",
      "\t Share_Price: 0.5441364742942831\n",
      "\t Inflation_CPI: 1.4068186636229303\n",
      "\t LT_Interest: 1.2097938638674077\n",
      "\t Labor_Force: 15.787803761899022\n",
      "\t Trade_Goverment: 8.176110399621143\n",
      "\t H_Spend: 30.590589213475937\n",
      "\t Tax: 17.58065495411976\n",
      "\t Investment: 24.704092669099524\n",
      "\n",
      "Sum: 1.0\n"
     ]
    }
   ],
   "source": [
    "from sklearn.ensemble import ExtraTreesRegressor\n",
    "from sklearn.model_selection import train_test_split\n",
    "from sklearn.preprocessing import MinMaxScaler\n",
    "from sklearn.metrics import r2_score,mean_absolute_error\n",
    "\n",
    "# Extra Trees Regressor Model\n",
    "model = ExtraTreesRegressor(random_state=236)\n",
    "X = df_merge_gdp.drop(columns=[\"GDP\"])\n",
    "Y = df_merge_gdp['GDP'].to_numpy()\n",
    "scaler = MinMaxScaler()\n",
    "X_norm = scaler.fit_transform(X)\n",
    "X_train,X_test,Y_train,Y_test = train_test_split(X_norm,Y,test_size=0.3,random_state=236)\n",
    "model.fit(X_train,Y_train)\n",
    "Y_pred = model.predict(X_test)\n",
    "\n",
    "# Model Metrics\n",
    "print(\"R^2_Score:\",r2_score(Y_test,Y_pred))\n",
    "print(\"Mean Absolute Error:\",mean_absolute_error(Y_test,Y_pred))\n",
    "\n",
    "#Feature Importances\n",
    "sum = 0\n",
    "print(\"\\nFeature Importances:\")\n",
    "for i in range(len(model.feature_importances_)):\n",
    "    print(\"\\t\",X.columns[i]+\":\",model.feature_importances_[i]*100)\n",
    "    sum+= model.feature_importances_[i]\n",
    "\n",
    "print(\"\\nSum:\",sum)"
   ]
  },
  {
   "cell_type": "markdown",
   "id": "2e705866",
   "metadata": {},
   "source": [
    "#### Hypothesis 3:"
   ]
  },
  {
   "cell_type": "code",
   "execution_count": null,
   "id": "ed17d62d",
   "metadata": {},
   "outputs": [
    {
     "name": "stdout",
     "output_type": "stream",
     "text": [
      "0.9717314487632509\n",
      "[[259   1   0]\n",
      " [  6  16   0]\n",
      " [  0   1   0]]\n",
      "['H' 'UM' 'LM']\n"
     ]
    }
   ],
   "source": [
    "from sklearn.ensemble import ExtraTreesClassifier\n",
    "from sklearn.metrics import accuracy_score,confusion_matrix\n",
    "model = ExtraTreesClassifier()\n",
    "X = df_merge_gni.drop(columns=[\"GNI\"])\n",
    "Y = df_merge_gni['GNI'].to_numpy()\n",
    "scaler = MinMaxScaler()\n",
    "# X = X.iloc[:,:3]\n",
    "X_norm = scaler.fit_transform(X)\n",
    "X_train,X_test,Y_train,Y_test = train_test_split(X_norm,Y,test_size=0.3)\n",
    "model.fit(X_train,Y_train)\n",
    "Y_pred = model.predict(X_test)\n",
    "print(accuracy_score(Y_test,Y_pred))\n",
    "# print(confusion_matrix(Y_test,Y_pred))\n",
    "print(confusion_matrix(Y_test,Y_pred,labels=df_merge_gni['GNI'].unique()))\n",
    "print(df_merge_gni['GNI'].unique())\n"
   ]
  },
  {
   "cell_type": "markdown",
   "id": "7022f305",
   "metadata": {},
   "source": [
    "# IGNORE FROM HERE"
   ]
  },
  {
   "cell_type": "code",
   "execution_count": null,
   "id": "3ee2a5c2",
   "metadata": {},
   "outputs": [],
   "source": [
    "# df_merge['GNI'].value_counts()"
   ]
  },
  {
   "cell_type": "code",
   "execution_count": null,
   "id": "ea336c31",
   "metadata": {},
   "outputs": [],
   "source": [
    "# dfs = [df_lf,df_gfcf,df_gni]\n",
    "# df_merge = pd.merge(df_hspend,df_tax,how='outer',on=['LOCATION','TIME'])\n",
    "# for d in dfs:\n",
    "#     df_merge = pd.merge(df_merge,d,how='outer',on=['LOCATION','TIME'])\n",
    "# df_merge = df_merge.dropna()\n",
    "# # df_merge = df_merge.drop(columns=['LOCATION','TIME','H_Spend',\"Investment\",\"Trade_Goverment\"])\n",
    "# df_merge = df_merge.drop(columns=['LOCATION','TIME'])\n",
    "# df_merge"
   ]
  },
  {
   "cell_type": "code",
   "execution_count": null,
   "id": "9406d543",
   "metadata": {},
   "outputs": [],
   "source": [
    "# df_temp = pd.merge(df_gdp,df_gni, how=\"inner\",on=['LOCATION','TIME'])\n",
    "# df_temp['GNI'].value_counts()"
   ]
  },
  {
   "cell_type": "code",
   "execution_count": null,
   "id": "d63666e9",
   "metadata": {},
   "outputs": [],
   "source": [
    "# from sklearn.ensemble import ExtraTreesClassifier\n",
    "# from sklearn.metrics import accuracy_score\n",
    "# model = ExtraTreesClassifier()\n",
    "# X = df_temp['GDP'].to_numpy().reshape(-1,1)\n",
    "# Y = df_temp['GNI']\n",
    "# scaler = MinMaxScaler()\n",
    "# # X = X.iloc[:,:3]\n",
    "# X_norm = scaler.fit_transform(X)\n",
    "# X_train,X_test,Y_train,Y_test = train_test_split(X_norm,Y,test_size=0.3)\n",
    "# model.fit(X_train,Y_train)"
   ]
  },
  {
   "cell_type": "code",
   "execution_count": null,
   "id": "1cee66d3",
   "metadata": {},
   "outputs": [],
   "source": [
    "# Y_pred = model.predict(X_test)\n",
    "# print(accuracy_score(Y_test,Y_pred,))"
   ]
  },
  {
   "cell_type": "code",
   "execution_count": null,
   "id": "73734453",
   "metadata": {},
   "outputs": [],
   "source": [
    "# dfs = [df_lti,df_lf,df_exp_imp,df_hspend,df_tax,df_gfcf]\n"
   ]
  },
  {
   "attachments": {},
   "cell_type": "markdown",
   "id": "19cdb735",
   "metadata": {},
   "source": [
    "# IGNORE TILL HERE"
   ]
  },
  {
   "cell_type": "markdown",
   "id": "1213883a",
   "metadata": {},
   "source": [
    "### Going forward, what are the current biggest problems you’re facing?\n",
    "\n",
    "1. Elaborating on what was mentioned in the inital insight, after merging of the datasets of all the features of GDP (on Country and Year), data loss is seen. Moving ahead, this will pose a problem for our Regression model for GDP, as the model will have less data to train on. \n",
    "2. Furthermore, on merging the GNI factors(FDI inflow and outflow) with all the GDP indepdent variables, the number of samples returned are low and significant skew in the labels in the dataset is also seen."
   ]
  },
  {
   "cell_type": "markdown",
   "id": "82824ae6",
   "metadata": {},
   "source": [
    "### Do you think you are on track with your project? If not, what parts do you need to dedicate more time to?\n",
    "\n",
    "Currently, the project is on schedule as it was projected. "
   ]
  },
  {
   "cell_type": "markdown",
   "id": "c6cae265",
   "metadata": {},
   "source": [
    "### Given your initial exploration of the data, is it worth proceeding with your project, and why? If not, how are you going to change your project and why do you think it’s better than your current results?\n",
    "\n",
    "After data gathering, cleaning, EDA and model results we feel that the project is worth proceeding. \n",
    "But as highlighted in the previous reflections, we have redirected our project and research question a little according to the insights from the inital exploration of our Hypothesis. \n",
    "We changed course and are now predicting the income classes each country for Hypothesis 3 instead of Development status."
   ]
  },
  {
   "cell_type": "markdown",
   "id": "1790f407",
   "metadata": {},
   "source": [
    "## Next Steps"
   ]
  },
  {
   "attachments": {},
   "cell_type": "markdown",
   "id": "0d80a0e4",
   "metadata": {},
   "source": [
    "### What do you plan to accomplish in the next month and how do you plan to evaluate whether your project achieved the goals you set for it?\n",
    "\n",
    "As discussed before, we have built preliminary models for Hyp 1 and 3. We will try a few more models and compare the models to choose the best working model based on the evaluation metrics. \n",
    "Out of the models specified for the Time series Analysis we will choose the appropriate model for our Hypothesis. We can also create the model for each and analyse on the basis of the reported results.\n",
    "After concluding on the technique, we will build the final model for Hypothesis 2 and 4.\n",
    "For clustering in Hypothesis 4, we will settle on best value of clusters using the Elbow method.\n",
    "\n",
    "For Hyp 1, we will check the feature importances and identify the features with highest weightage and compare with the varibales used in the formula of GDP.\n",
    "For Hyp 2, we will check the R2 score for checking the strength of the model built and whether if it is a good model for our goal of Forecasting GDP.\n",
    "In Hyp 3, we can check the Classification report for the metrics of the final model, and evaluate the the model to see how well it achieves our goal of classifying the countries into income classes."
   ]
  },
  {
   "attachments": {},
   "cell_type": "markdown",
   "id": "dfb32a5f",
   "metadata": {},
   "source": [
    "## References"
   ]
  },
  {
   "attachments": {},
   "cell_type": "markdown",
   "id": "c5ec701b",
   "metadata": {},
   "source": [
    "https://www.investopedia.com/articles/investing/051415/how-calculate-gdp-country.asp\n",
    "\n",
    "https://www.britannica.com/money/gross-national-income\n",
    "\n",
    "#### Data Sources:\n",
    "1. Share Prices: https://data.oecd.org/price/share-prices.htm\n",
    "2. CPI: https://data.oecd.org/price/inflation-cpi.htm#indicator-chart\n",
    "3. Long Term Interest Rates: https://data.oecd.org/interest/long-term-interest-rates.htm\n",
    "4. Labour Force: https://data.oecd.org/emp/labour-force.htm\n",
    "5. Trade: https://data.oecd.org/trade/trade-in-goods-and-services.htm\n",
    "6. Household Spending: https://data.oecd.org/hha/household-spending.htm\n",
    "7. Government Spending: https://data.oecd.org/gga/general-government-spending.htm\n",
    "8. Tax Revenue: https://data.oecd.org/tax/tax-revenue.htm\n",
    "9. Investment GFCF: https://data.oecd.org/gdp/investment-by-sector.htm\n",
    "10. GDP: https://data.oecd.org/gdp/gross-domestic-product-gdp.htm\n",
    "11. Economic Category: https://datahelpdesk.worldbank.org/knowledgebase/articles/906519-world-bank-country-and-lending-groups\n",
    "10. Net Primary Income from Aborad: https://data.worldbank.org/indicator/NY.GSR.NFCY.CD "
   ]
  }
 ],
 "metadata": {
  "kernelspec": {
   "display_name": "Python 3 (ipykernel)",
   "language": "python",
   "name": "python3"
  },
  "language_info": {
   "codemirror_mode": {
    "name": "ipython",
    "version": 3
   },
   "file_extension": ".py",
   "mimetype": "text/x-python",
   "name": "python",
   "nbconvert_exporter": "python",
   "pygments_lexer": "ipython3",
   "version": "3.9.16"
  },
  "vscode": {
   "interpreter": {
    "hash": "c8ac7bcc6b2dbb39842d89486c34ab7849f692bd3067ed6f57c4db9cdfb88efc"
   }
  }
 },
 "nbformat": 4,
 "nbformat_minor": 5
}
