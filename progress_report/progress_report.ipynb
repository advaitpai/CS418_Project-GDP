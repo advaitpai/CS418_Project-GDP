{
 "cells": [
  {
   "cell_type": "markdown",
   "metadata": {},
   "source": [
    "# Progress Report - Team Outliers\n",
    "\n",
    "## Project Title - Gross Domestic Product and Economic Status of Countries\n",
    "\n",
    "### Team Members - \n",
    "1. Advait Pai - apai21@uic.edu\n",
    "2. Divyasha Pahuja - dpahuj2@uic.edu\n",
    "3. Uday Nair - unair2@uic.edu\n",
    "4. Utsav Sharma - usharm4@uic.edu"
   ]
  },
  {
   "cell_type": "markdown",
   "metadata": {},
   "source": [
    "## Any Changes\n",
    "\n",
    "// Development Status i.e. Under Developed etc, to now economic status based on the GNI\n",
    "\n",
    "Reason - Economic Status ---> GNI\n",
    "and GNI --> GDP therefore ES --> GDP"
   ]
  },
  {
   "cell_type": "markdown",
   "metadata": {},
   "source": [
    "## Data"
   ]
  },
  {
   "attachments": {},
   "cell_type": "markdown",
   "metadata": {},
   "source": [
    "## Research Questions\n",
    "\n",
    "1. Prediction of the Gross Domestic Product(GDP) of countries using leading and lagging factors such as inflation, household spending, trade, tax revenue, etc. from Organization for Economic Co-operation and Development(OECD) datasets by carrying out regression. \n",
    "2. Using the historical data of Gross Domestic Product(GDP) of countries, we attempt to forecast the GDP using the time series data.  \n",
    "3. Classification of countries as per their economic development status (Emerging, Developing and Developed Economies) using economic and social indicators gathered from Exploratory Data Analysis (EDA) of OECD data.\n",
    "4. After conducting exploratory data analysis (EDA) on the OECD dataset, we use the resulting indicators to perform cluster analysis to determine the optimal number of clusters for classifying countries based on their economic development status."
   ]
  },
  {
   "cell_type": "code",
   "execution_count": null,
   "metadata": {},
   "outputs": [],
   "source": []
  },
  {
   "cell_type": "code",
   "execution_count": null,
   "metadata": {},
   "outputs": [],
   "source": []
  }
 ],
 "metadata": {
  "language_info": {
   "name": "python"
  },
  "orig_nbformat": 4
 },
 "nbformat": 4,
 "nbformat_minor": 2
}
