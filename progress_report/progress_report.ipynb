{
 "cells": [
  {
   "cell_type": "markdown",
   "metadata": {},
   "source": [
    "# Progress Report - Team Outliers\n",
    "\n",
    "## Project Title - Gross Domestic Product and Economic Status of Countries\n",
    "\n",
    "### Team Members - \n",
    "1. Advait Pai - apai21@uic.edu\n",
    "2. Divyasha Pahuja - dpahuj2@uic.edu\n",
    "3. Uday Nair - unair2@uic.edu\n",
    "4. Utsav Sharma - usharm4@uic.edu"
   ]
  },
  {
   "cell_type": "markdown",
   "metadata": {},
   "source": [
    "## Any Changes\n",
    "\n",
    "// Development Status i.e. Under Developed etc, to now economic status based on the GNI\n",
    "\n",
    "Reason - Economic Status ---> GNI\n",
    "and GNI --> GDP therefore ES --> GDP"
   ]
  },
  {
   "cell_type": "markdown",
   "metadata": {},
   "source": [
    "## Data"
   ]
  },
  {
   "cell_type": "markdown",
   "metadata": {},
   "source": [
    "## Research Questions\n",
    "\n",
    "1. Prediction of the Gross Domestic Product(GDP) of countries using leading and lagging factors such as inflation, household spending, trade, tax revenue, etc. from Organization for Economic Co-operation and Development(OECD) datasets by carrying out regression. \n",
    "2. Using the historical data of Gross Domestic Product(GDP) of countries, we attempt to forecast the GDP using the time series data.  \n",
    "3. Classification of countries as per their economic development status (Emerging, Developing and Developed Economies) using economic and social indicators gathered from Exploratory Data Analysis (EDA) of OECD data.\n",
    "4. After conducting exploratory data analysis (EDA) on the OECD dataset, we use the resulting indicators to perform cluster analysis to determine the optimal number of clusters for classifying countries based on their economic development status."
   ]
  },
  {
   "cell_type": "code",
   "execution_count": null,
   "metadata": {},
   "outputs": [],
   "source": []
  },
  {
   "cell_type": "code",
   "execution_count": null,
   "metadata": {},
   "outputs": [],
   "source": []
  }
 ],
 "metadata": {
  "kernelspec": {
<<<<<<< HEAD
   "display_name": "Python 3 (ipykernel)",
   "language": "python",
   "name": "python3"
  },
  "language_info": {
   "codemirror_mode": {
    "name": "ipython",
    "version": 3
   },
   "file_extension": ".py",
   "mimetype": "text/x-python",
   "name": "python",
   "nbconvert_exporter": "python",
   "pygments_lexer": "ipython3",
   "version": "3.9.16"
=======
<<<<<<< Updated upstream
   "display_name": "Python 3 (ipykernel)",
=======
   "display_name": "Python 3.9.6 64-bit",
>>>>>>> Stashed changes
   "language": "python",
   "name": "python3"
  },
  "language_info": {
<<<<<<< Updated upstream
   "codemirror_mode": {
    "name": "ipython",
    "version": 3
   },
   "file_extension": ".py",
   "mimetype": "text/x-python",
   "name": "python",
   "nbconvert_exporter": "python",
   "pygments_lexer": "ipython3",
   "version": "3.9.16"
=======
   "name": "python",
   "version": "3.9.6"
  },
  "orig_nbformat": 4,
  "vscode": {
   "interpreter": {
    "hash": "31f2aee4e71d21fbe5cf8b01ff0e069b9275f58929596ceb00d14d90e3e16cd6"
   }
>>>>>>> Stashed changes
>>>>>>> ab2a2ce3776378e428506e83a245c239ed9c98d2
  }
 },
 "nbformat": 4,
 "nbformat_minor": 2
}
